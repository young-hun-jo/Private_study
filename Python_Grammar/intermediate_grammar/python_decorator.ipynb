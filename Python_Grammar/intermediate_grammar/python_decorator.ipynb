{
 "cells": [
  {
   "cell_type": "markdown",
   "metadata": {},
   "source": [
    "# First-class function"
   ]
  },
  {
   "cell_type": "code",
   "execution_count": 21,
   "metadata": {},
   "outputs": [],
   "source": [
    "def index_creator(tags):\n",
    "    print('사라질까?')\n",
    "    def insert_msg(msg):\n",
    "        for tag in tags:\n",
    "            message = msg\n",
    "            print(f\"{tag} {message}\")\n",
    "    return insert_msg"
   ]
  },
  {
   "cell_type": "code",
   "execution_count": 22,
   "metadata": {},
   "outputs": [
    {
     "name": "stdout",
     "output_type": "stream",
     "text": [
      "사라질까?\n"
     ]
    }
   ],
   "source": [
    "index_list = ['-','#','*','+']\n",
    "message = '글에 자주쓰이는 인덱스이다'\n",
    "\n",
    "func1 = index_creator(index_list)"
   ]
  },
  {
   "cell_type": "code",
   "execution_count": 23,
   "metadata": {},
   "outputs": [
    {
     "name": "stdout",
     "output_type": "stream",
     "text": [
      "<function index_creator.<locals>.insert_msg at 0x7f8d41d6a680>\n"
     ]
    }
   ],
   "source": [
    "print(func1)"
   ]
  },
  {
   "cell_type": "code",
   "execution_count": 25,
   "metadata": {},
   "outputs": [
    {
     "name": "stdout",
     "output_type": "stream",
     "text": [
      "- 글에 자주쓰이는 인덱스이다\n",
      "# 글에 자주쓰이는 인덱스이다\n",
      "* 글에 자주쓰이는 인덱스이다\n",
      "+ 글에 자주쓰이는 인덱스이다\n"
     ]
    }
   ],
   "source": [
    "func1(message)"
   ]
  },
  {
   "cell_type": "code",
   "execution_count": 26,
   "metadata": {},
   "outputs": [
    {
     "ename": "NameError",
     "evalue": "name 'index_creator' is not defined",
     "output_type": "error",
     "traceback": [
      "\u001b[0;31m---------------------------------------------------------------------------\u001b[0m",
      "\u001b[0;31mNameError\u001b[0m                                 Traceback (most recent call last)",
      "\u001b[0;32m<ipython-input-26-cd27e9e9f771>\u001b[0m in \u001b[0;36m<module>\u001b[0;34m\u001b[0m\n\u001b[1;32m      1\u001b[0m \u001b[0;31m# 가장 상위의 함수를 삭제해도 안에 있는 nested 함수는 삭제되지 않음!\u001b[0m\u001b[0;34m\u001b[0m\u001b[0;34m\u001b[0m\u001b[0;34m\u001b[0m\u001b[0m\n\u001b[1;32m      2\u001b[0m \u001b[0;32mdel\u001b[0m \u001b[0mindex_creator\u001b[0m\u001b[0;34m\u001b[0m\u001b[0;34m\u001b[0m\u001b[0m\n\u001b[0;32m----> 3\u001b[0;31m \u001b[0mfunc1\u001b[0m \u001b[0;34m=\u001b[0m \u001b[0mindex_creator\u001b[0m\u001b[0;34m(\u001b[0m\u001b[0mindex_list\u001b[0m\u001b[0;34m)\u001b[0m\u001b[0;34m\u001b[0m\u001b[0;34m\u001b[0m\u001b[0m\n\u001b[0m",
      "\u001b[0;31mNameError\u001b[0m: name 'index_creator' is not defined"
     ]
    }
   ],
   "source": [
    "# 가장 상위의 함수를 삭제\n",
    "del index_creator\n",
    "func1 = index_creator(index_list)"
   ]
  },
  {
   "cell_type": "code",
   "execution_count": 27,
   "metadata": {},
   "outputs": [
    {
     "name": "stdout",
     "output_type": "stream",
     "text": [
      "- 글에 자주쓰이는 인덱스이다\n",
      "# 글에 자주쓰이는 인덱스이다\n",
      "* 글에 자주쓰이는 인덱스이다\n",
      "+ 글에 자주쓰이는 인덱스이다\n"
     ]
    }
   ],
   "source": [
    "# 가장 상위의 함수를 삭제해도 안에 있는 nested 함수는 삭제되지 않음!\n",
    "func1(message)"
   ]
  },
  {
   "cell_type": "markdown",
   "metadata": {},
   "source": [
    "# Closure"
   ]
  },
  {
   "cell_type": "code",
   "execution_count": 45,
   "metadata": {},
   "outputs": [],
   "source": [
    "def cal_power(n):\n",
    "    def calculate(digit):\n",
    "        value = digit ** n\n",
    "        return value\n",
    "    return calculate"
   ]
  },
  {
   "cell_type": "code",
   "execution_count": 46,
   "metadata": {},
   "outputs": [],
   "source": [
    "func1 = cal_power(3)"
   ]
  },
  {
   "cell_type": "code",
   "execution_count": 47,
   "metadata": {},
   "outputs": [
    {
     "data": {
      "text/plain": [
       "64"
      ]
     },
     "execution_count": 47,
     "metadata": {},
     "output_type": "execute_result"
    }
   ],
   "source": [
    "func1(4)"
   ]
  },
  {
   "cell_type": "code",
   "execution_count": 48,
   "metadata": {},
   "outputs": [],
   "source": [
    "# 여러 function을 하나의 리스트에 넣기\n",
    "func_lst = []\n",
    "for num in range(1, 8):\n",
    "    func_lst.append(cal_power(num))"
   ]
  },
  {
   "cell_type": "code",
   "execution_count": 50,
   "metadata": {},
   "outputs": [
    {
     "name": "stdout",
     "output_type": "stream",
     "text": [
      "2\n",
      "4\n",
      "8\n",
      "16\n",
      "32\n",
      "64\n",
      "128\n"
     ]
    }
   ],
   "source": [
    "# 여러 function을 하나씩 뽑아서 호출\n",
    "for func in func_lst:\n",
    "    print(func(2))"
   ]
  },
  {
   "cell_type": "markdown",
   "metadata": {},
   "source": [
    "# Decorator"
   ]
  },
  {
   "cell_type": "code",
   "execution_count": 1,
   "metadata": {},
   "outputs": [
    {
     "name": "stdout",
     "output_type": "stream",
     "text": [
      "Dave login\n"
     ]
    }
   ],
   "source": [
    "# @가사용된 파이썬 코드\n",
    "def logger_login():\n",
    "    print('Dave login')\n",
    "logger_login()"
   ]
  },
  {
   "cell_type": "code",
   "execution_count": 3,
   "metadata": {},
   "outputs": [
    {
     "name": "stdout",
     "output_type": "stream",
     "text": [
      "2020-09-01 20:31:34.591528\n",
      "Dave login\n",
      "2020-09-01 20:31:34.591859\n"
     ]
    }
   ],
   "source": [
    "# 시간을 앞뒤로 추가해보자\n",
    "import datetime\n",
    "\n",
    "def logger_login():\n",
    "    print(datetime.datetime.now())\n",
    "    print('Dave login')\n",
    "    print(datetime.datetime.now())\n",
    "\n",
    "logger_login()"
   ]
  },
  {
   "cell_type": "code",
   "execution_count": 5,
   "metadata": {},
   "outputs": [],
   "source": [
    "# decorator를 통해 계속적으로 사용하는 동일한 기능을 하나로 추가 가능\n",
    "# 데코레이터 만들어보기\n",
    "def datetime_decorator(func):  #decorator인자에 함수를 넣어준다\n",
    "    def wrapper():\n",
    "        print('time'+str(datetime.datetime.now()))\n",
    "        func() #decorator의 인자 함수 호출\n",
    "        print(datetime.datetime.now())\n",
    "    return wrapper # closure함수로 만들어주기"
   ]
  },
  {
   "cell_type": "code",
   "execution_count": 6,
   "metadata": {},
   "outputs": [],
   "source": [
    "# 데코레이터 사용해보기\n",
    "@datetime_decorator \n",
    "def logger_login_david(): # 데코레이터(@) 인자로 들어갈 함수임!\n",
    "    print('데코레이터 사용')"
   ]
  },
  {
   "cell_type": "code",
   "execution_count": 7,
   "metadata": {},
   "outputs": [
    {
     "name": "stdout",
     "output_type": "stream",
     "text": [
      "time2020-09-01 20:37:46.110924\n",
      "데코레이터 사용\n",
      "2020-09-01 20:37:46.111314\n"
     ]
    }
   ],
   "source": [
    "# 데코레이터의 인자에 들어가는 함수를 호출하면\n",
    "# 인자의 함수 내용과 데코레이터안에 들어가 있는 중첩함수도 같이 호출됨\n",
    "# 물론 정의해줄 때 중첩함수 안에다가 데코레이터 인자에 들어가는 함수를 호출하는 것을 적어주어야 함!\n",
    "logger_login_david()"
   ]
  },
  {
   "cell_type": "code",
   "execution_count": 8,
   "metadata": {},
   "outputs": [],
   "source": [
    "# nested function(중첩함수)와 closure function 함께 데코레이터 풀어서 작성\n",
    "def outer_func(func):\n",
    "    def inner_func():\n",
    "        print('inner function')\n",
    "        func()\n",
    "    return inner_func"
   ]
  },
  {
   "cell_type": "code",
   "execution_count": 9,
   "metadata": {},
   "outputs": [],
   "source": [
    "def log_func():\n",
    "    print('log func!')"
   ]
  },
  {
   "cell_type": "code",
   "execution_count": 10,
   "metadata": {},
   "outputs": [
    {
     "name": "stdout",
     "output_type": "stream",
     "text": [
      "log func!\n"
     ]
    }
   ],
   "source": [
    "log_func()"
   ]
  },
  {
   "cell_type": "code",
   "execution_count": 11,
   "metadata": {},
   "outputs": [
    {
     "name": "stdout",
     "output_type": "stream",
     "text": [
      "inner function\n",
      "log func!\n"
     ]
    }
   ],
   "source": [
    "decorated_func = outer_func(log_func)\n",
    "decorated_func()"
   ]
  },
  {
   "cell_type": "code",
   "execution_count": 12,
   "metadata": {},
   "outputs": [
    {
     "name": "stdout",
     "output_type": "stream",
     "text": [
      "inner function\n",
      "log func!!\n"
     ]
    }
   ],
   "source": [
    "# 위에 것을 @데코레이터로 한번에 작성해보기\n",
    "@outer_func\n",
    "def log_func():\n",
    "    print('log func!!')\n",
    "log_func()"
   ]
  },
  {
   "cell_type": "code",
   "execution_count": 52,
   "metadata": {},
   "outputs": [],
   "source": [
    "def outer_func(func):\n",
    "    def inner_func(digit1, digit2):\n",
    "        if digit2 == 0:\n",
    "            print('0으로 나누어질 순 없습니다')\n",
    "            return\n",
    "        return func(digit1, digit2)\n",
    "    return inner_func"
   ]
  },
  {
   "cell_type": "code",
   "execution_count": 53,
   "metadata": {},
   "outputs": [],
   "source": [
    "@outer_func\n",
    "def divide_func(digit1, digit2):\n",
    "    print(digit1 / digit2)"
   ]
  },
  {
   "cell_type": "code",
   "execution_count": 54,
   "metadata": {},
   "outputs": [
    {
     "name": "stdout",
     "output_type": "stream",
     "text": [
      "2.0\n"
     ]
    }
   ],
   "source": [
    "divide_func(4,2)"
   ]
  },
  {
   "cell_type": "code",
   "execution_count": 51,
   "metadata": {},
   "outputs": [
    {
     "name": "stdout",
     "output_type": "stream",
     "text": [
      "0으로 나누어질 순 없습니다\n"
     ]
    }
   ],
   "source": [
    "divide_func(3,0)"
   ]
  },
  {
   "cell_type": "code",
   "execution_count": 46,
   "metadata": {},
   "outputs": [
    {
     "name": "stdout",
     "output_type": "stream",
     "text": [
      "2.0\n",
      "None\n"
     ]
    }
   ],
   "source": [
    "print(divide_func(4,2))"
   ]
  },
  {
   "cell_type": "code",
   "execution_count": 47,
   "metadata": {},
   "outputs": [
    {
     "name": "stdout",
     "output_type": "stream",
     "text": [
      "0으로 나누어질 순 없습니다\n",
      "None\n"
     ]
    }
   ],
   "source": [
    "print(divide_func(3,0))"
   ]
  },
  {
   "cell_type": "code",
   "execution_count": 55,
   "metadata": {},
   "outputs": [],
   "source": [
    "# 파라미터와 관계없이 모든 함수에 적용가능한 데코레이터 만들기\n",
    "def general_decorator(function):\n",
    "    def wrapper(*args, **kwargs):\n",
    "        print('function is decorated')\n",
    "        return function(*args, **kwargs)\n",
    "    return wrapper"
   ]
  },
  {
   "cell_type": "code",
   "execution_count": 56,
   "metadata": {},
   "outputs": [],
   "source": [
    "@general_decorator\n",
    "def cal_square(digit):\n",
    "    return digit * digit\n",
    "\n",
    "@general_decorator\n",
    "def cal_plus(digit1, digit2):\n",
    "    return digit1 + digit2\n",
    "\n",
    "@general_decorator\n",
    "def cal_various(digit1, digit2, digit3, digit4):\n",
    "    return digit1 + digit2 * digit3 / digit4"
   ]
  },
  {
   "cell_type": "code",
   "execution_count": 59,
   "metadata": {},
   "outputs": [
    {
     "name": "stdout",
     "output_type": "stream",
     "text": [
      "function is decorated\n",
      "25\n",
      "function is decorated\n",
      "9\n",
      "function is decorated\n",
      "28.0\n"
     ]
    }
   ],
   "source": [
    "print(cal_square(5))\n",
    "print(cal_plus(3, 6))\n",
    "print(cal_various(3, 5, 10, 2))"
   ]
  },
  {
   "cell_type": "code",
   "execution_count": 60,
   "metadata": {},
   "outputs": [],
   "source": [
    "# 여러개의 데코레이터 지정하기\n",
    "def decorator1(function):\n",
    "    def wrapper():\n",
    "        print('decorator1')\n",
    "        function()\n",
    "    return wrapper\n",
    "\n",
    "def decorator2(function):\n",
    "    def wrapper():\n",
    "        print('decorator2')\n",
    "        function()\n",
    "    return wrapper"
   ]
  },
  {
   "cell_type": "code",
   "execution_count": 62,
   "metadata": {},
   "outputs": [],
   "source": [
    "@decorator1\n",
    "@decorator2\n",
    "def hello():\n",
    "    print('hello')"
   ]
  },
  {
   "cell_type": "code",
   "execution_count": 63,
   "metadata": {},
   "outputs": [
    {
     "name": "stdout",
     "output_type": "stream",
     "text": [
      "decorator1\n",
      "decorator2\n",
      "hello\n"
     ]
    }
   ],
   "source": [
    "hello()"
   ]
  },
  {
   "cell_type": "code",
   "execution_count": 75,
   "metadata": {},
   "outputs": [],
   "source": [
    "def mark_bold(function):\n",
    "    def wrapper(msg):\n",
    "        sentence = f'<b>{msg}</b>'\n",
    "        print(sentence)\n",
    "        return function()\n",
    "    return wrapper"
   ]
  },
  {
   "cell_type": "code",
   "execution_count": 76,
   "metadata": {},
   "outputs": [],
   "source": [
    "@mark_bold\n",
    "def make_bold():\n",
    "    return"
   ]
  },
  {
   "cell_type": "code",
   "execution_count": 77,
   "metadata": {},
   "outputs": [
    {
     "name": "stdout",
     "output_type": "stream",
     "text": [
      "<b>안녕하세요</b>\n"
     ]
    }
   ],
   "source": [
    "make_bold('안녕하세요')"
   ]
  },
  {
   "cell_type": "code",
   "execution_count": 78,
   "metadata": {},
   "outputs": [],
   "source": [
    "def mark_italic(function):\n",
    "    def wrapper(msg):\n",
    "        sentence = f'<i>{msg}</i>'\n",
    "        print(sentence)\n",
    "        return function()\n",
    "    return wrapper"
   ]
  },
  {
   "cell_type": "code",
   "execution_count": 79,
   "metadata": {},
   "outputs": [],
   "source": [
    "@mark_italic\n",
    "def make_bold():\n",
    "    return"
   ]
  },
  {
   "cell_type": "code",
   "execution_count": 80,
   "metadata": {},
   "outputs": [
    {
     "name": "stdout",
     "output_type": "stream",
     "text": [
      "<i>안녕하세요</i>\n"
     ]
    }
   ],
   "source": [
    "make_bold('안녕하세요')"
   ]
  },
  {
   "cell_type": "code",
   "execution_count": 84,
   "metadata": {},
   "outputs": [],
   "source": [
    "# 중첩함수의 인자와 데코레이터의 인자에 들어가는 함수의 인자 잘 고려!\n",
    "def mark_bold(function):\n",
    "    def wrapper(*args, **kwargs):\n",
    "        sentence = '<b>'+ function(*args, **kwargs) +'</b>'\n",
    "        return sentence\n",
    "    return wrapper"
   ]
  },
  {
   "cell_type": "code",
   "execution_count": 85,
   "metadata": {},
   "outputs": [],
   "source": [
    "@mark_bold\n",
    "def print_string(string):\n",
    "    return string"
   ]
  },
  {
   "cell_type": "code",
   "execution_count": 86,
   "metadata": {},
   "outputs": [
    {
     "data": {
      "text/plain": [
       "'<b>안녕하세요</b>'"
      ]
     },
     "execution_count": 86,
     "metadata": {},
     "output_type": "execute_result"
    }
   ],
   "source": [
    "print_string('안녕하세요')"
   ]
  },
  {
   "cell_type": "code",
   "execution_count": 96,
   "metadata": {},
   "outputs": [],
   "source": [
    "# 파라미터가 있는 데코레이터 만들기. 즉, 데코레이터를 중첩함수로서 넣기\n",
    "def decorator(num):\n",
    "    def outer_func(function):\n",
    "        def inner_func(*args, **kwargs):\n",
    "            print(f'decorator {num}')\n",
    "            return function(*args, **kwargs)\n",
    "        return inner_func\n",
    "    return outer_func"
   ]
  },
  {
   "cell_type": "code",
   "execution_count": 97,
   "metadata": {},
   "outputs": [],
   "source": [
    "def print_hello(text):\n",
    "    print('Hello'+text)"
   ]
  },
  {
   "cell_type": "code",
   "execution_count": 104,
   "metadata": {},
   "outputs": [
    {
     "name": "stdout",
     "output_type": "stream",
     "text": [
      "decorator 1\n",
      "Hello영훈\n"
     ]
    }
   ],
   "source": [
    "# 일반 객체로 표현\n",
    "func_object = decorator(1)(print_hello) #print_hello인자를 넣어주지 않고 그냥 호출\n",
    "func_object('영훈')"
   ]
  },
  {
   "cell_type": "code",
   "execution_count": 90,
   "metadata": {},
   "outputs": [],
   "source": [
    "# 데코레이터로 표현\n",
    "@decorator(1)\n",
    "def print_hello(text):\n",
    "    print('Hello'+text)"
   ]
  },
  {
   "cell_type": "code",
   "execution_count": 92,
   "metadata": {},
   "outputs": [
    {
     "name": "stdout",
     "output_type": "stream",
     "text": [
      "decorator 1\n",
      "Hello영훈!\n"
     ]
    }
   ],
   "source": [
    "print_hello('영훈!')"
   ]
  },
  {
   "cell_type": "code",
   "execution_count": 105,
   "metadata": {},
   "outputs": [],
   "source": [
    "def mark_html(tag):\n",
    "    def outer_wrapper(function):\n",
    "        def inner_wrapper(*args, **kwargs):\n",
    "            result = f'<{tag}>{function(*args, **kwargs)}</{tag}>'\n",
    "            return result\n",
    "        return inner_wrapper\n",
    "    return outer_wrapper"
   ]
  },
  {
   "cell_type": "code",
   "execution_count": 106,
   "metadata": {},
   "outputs": [],
   "source": [
    "@mark_html('b')\n",
    "def make_bold(text):\n",
    "    return text"
   ]
  },
  {
   "cell_type": "code",
   "execution_count": 107,
   "metadata": {},
   "outputs": [
    {
     "data": {
      "text/plain": [
       "'<b>안녕하세요</b>'"
      ]
     },
     "execution_count": 107,
     "metadata": {},
     "output_type": "execute_result"
    }
   ],
   "source": [
    "make_bold('안녕하세요')"
   ]
  },
  {
   "cell_type": "code",
   "execution_count": 109,
   "metadata": {},
   "outputs": [],
   "source": [
    "@mark_html('i')\n",
    "def make_italic(text):\n",
    "    return text"
   ]
  },
  {
   "cell_type": "code",
   "execution_count": 110,
   "metadata": {},
   "outputs": [
    {
     "data": {
      "text/plain": [
       "'<i>우추리 정육점</i>'"
      ]
     },
     "execution_count": 110,
     "metadata": {},
     "output_type": "execute_result"
    }
   ],
   "source": [
    "make_italic('우추리 정육점')"
   ]
  },
  {
   "cell_type": "markdown",
   "metadata": {},
   "source": [
    "# Class 이용해서 데코레이터 작성"
   ]
  },
  {
   "cell_type": "code",
   "execution_count": 1,
   "metadata": {},
   "outputs": [],
   "source": [
    "# 데코레이터 먼저 정의\n",
    "def h1_tag(function):\n",
    "    def wrapper(*args, **kwargs):\n",
    "        return f'<b>{function(*args, **kwargs)}</b>'\n",
    "    return wrapper"
   ]
  },
  {
   "cell_type": "code",
   "execution_count": 2,
   "metadata": {},
   "outputs": [],
   "source": [
    "# class 정의\n",
    "class person:\n",
    "    # 인자값 두개를 self의 속성으로 할당\n",
    "    def __init__(self, first_name, last_name):\n",
    "        self.first_name = first_name\n",
    "        self.last_name = last_name\n",
    "    \n",
    "    # 위에서 정의한 데코레이터 정의\n",
    "    # 데코레이터에 들어가는 인자는 위에서 정의한 self로 넣어주자\n",
    "    @h1_tag\n",
    "    def get_tag(self):\n",
    "        return self.first_name +' '+ self.last_name"
   ]
  },
  {
   "cell_type": "code",
   "execution_count": 3,
   "metadata": {},
   "outputs": [
    {
     "name": "stdout",
     "output_type": "stream",
     "text": [
      "<b>Jo Younghun</b>\n"
     ]
    }
   ],
   "source": [
    "# class person의 first_name, last_name 인자 2개 넣어주기\n",
    "class_name = person('Jo', 'Younghun')\n",
    "# class안에 있는 데코레이터 인자로 들어가는 함수(get_tag) 호출!\n",
    "print(class_name.get_tag())"
   ]
  },
  {
   "cell_type": "code",
   "execution_count": null,
   "metadata": {},
   "outputs": [],
   "source": []
  }
 ],
 "metadata": {
  "hide_input": false,
  "kernelspec": {
   "display_name": "Python 3",
   "language": "python",
   "name": "python3"
  },
  "language_info": {
   "codemirror_mode": {
    "name": "ipython",
    "version": 3
   },
   "file_extension": ".py",
   "mimetype": "text/x-python",
   "name": "python",
   "nbconvert_exporter": "python",
   "pygments_lexer": "ipython3",
   "version": "3.7.7"
  },
  "toc": {
   "base_numbering": 1,
   "nav_menu": {},
   "number_sections": true,
   "sideBar": true,
   "skip_h1_title": false,
   "title_cell": "Table of Contents",
   "title_sidebar": "Contents",
   "toc_cell": false,
   "toc_position": {},
   "toc_section_display": true,
   "toc_window_display": false
  },
  "varInspector": {
   "cols": {
    "lenName": 16,
    "lenType": 16,
    "lenVar": 40
   },
   "kernels_config": {
    "python": {
     "delete_cmd_postfix": "",
     "delete_cmd_prefix": "del ",
     "library": "var_list.py",
     "varRefreshCmd": "print(var_dic_list())"
    },
    "r": {
     "delete_cmd_postfix": ") ",
     "delete_cmd_prefix": "rm(",
     "library": "var_list.r",
     "varRefreshCmd": "cat(var_dic_list()) "
    }
   },
   "types_to_exclude": [
    "module",
    "function",
    "builtin_function_or_method",
    "instance",
    "_Feature"
   ],
   "window_display": false
  }
 },
 "nbformat": 4,
 "nbformat_minor": 4
}

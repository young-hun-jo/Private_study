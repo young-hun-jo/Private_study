{
 "cells": [
  {
   "cell_type": "markdown",
   "metadata": {},
   "source": [
    "# Python Class, object에 대한 이해"
   ]
  },
  {
   "cell_type": "markdown",
   "metadata": {},
   "source": [
    "## Class 선언"
   ]
  },
  {
   "cell_type": "code",
   "execution_count": 1,
   "metadata": {},
   "outputs": [],
   "source": [
    "# 클래스 선언하기\n",
    "class Quadrangle:\n",
    "    pass"
   ]
  },
  {
   "cell_type": "code",
   "execution_count": 2,
   "metadata": {
    "scrolled": true
   },
   "outputs": [
    {
     "data": {
      "text/plain": [
       "['__class__',\n",
       " '__delattr__',\n",
       " '__dict__',\n",
       " '__dir__',\n",
       " '__doc__',\n",
       " '__eq__',\n",
       " '__format__',\n",
       " '__ge__',\n",
       " '__getattribute__',\n",
       " '__gt__',\n",
       " '__hash__',\n",
       " '__init__',\n",
       " '__init_subclass__',\n",
       " '__le__',\n",
       " '__lt__',\n",
       " '__module__',\n",
       " '__ne__',\n",
       " '__new__',\n",
       " '__reduce__',\n",
       " '__reduce_ex__',\n",
       " '__repr__',\n",
       " '__setattr__',\n",
       " '__sizeof__',\n",
       " '__str__',\n",
       " '__subclasshook__',\n",
       " '__weakref__']"
      ]
     },
     "execution_count": 2,
     "metadata": {},
     "output_type": "execute_result"
    }
   ],
   "source": [
    "# dir로 클래스가 갖고 있는 기본 속성 출력\n",
    "dir(Quadrangle)"
   ]
  },
  {
   "cell_type": "code",
   "execution_count": 3,
   "metadata": {
    "scrolled": true
   },
   "outputs": [
    {
     "data": {
      "text/plain": [
       "['__class__',\n",
       " '__delattr__',\n",
       " '__dict__',\n",
       " '__dir__',\n",
       " '__doc__',\n",
       " '__eq__',\n",
       " '__format__',\n",
       " '__ge__',\n",
       " '__getattribute__',\n",
       " '__gt__',\n",
       " '__hash__',\n",
       " '__init__',\n",
       " '__init_subclass__',\n",
       " '__le__',\n",
       " '__lt__',\n",
       " '__module__',\n",
       " '__ne__',\n",
       " '__new__',\n",
       " '__reduce__',\n",
       " '__reduce_ex__',\n",
       " '__repr__',\n",
       " '__setattr__',\n",
       " '__sizeof__',\n",
       " '__str__',\n",
       " '__subclasshook__',\n",
       " '__weakref__']"
      ]
     },
     "execution_count": 3,
     "metadata": {},
     "output_type": "execute_result"
    }
   ],
   "source": [
    "# 클래스를 하나의 객체로 할당한 후 dir\n",
    "a = Quadrangle()\n",
    "dir(a)"
   ]
  },
  {
   "cell_type": "code",
   "execution_count": 4,
   "metadata": {},
   "outputs": [
    {
     "data": {
      "text/plain": [
       "__main__.Quadrangle"
      ]
     },
     "execution_count": 4,
     "metadata": {},
     "output_type": "execute_result"
    }
   ],
   "source": [
    "# Class type확인\n",
    "type(a)"
   ]
  },
  {
   "cell_type": "markdown",
   "metadata": {},
   "source": [
    "## Attribute(속성) 넣어보기"
   ]
  },
  {
   "cell_type": "code",
   "execution_count": 5,
   "metadata": {},
   "outputs": [],
   "source": [
    "class Quandrangle:\n",
    "    def __init__(self, width, height, color):\n",
    "        # self.속성 으로 속성값 부여\n",
    "        self.width = width\n",
    "        self.height = height\n",
    "        self.color = color"
   ]
  },
  {
   "cell_type": "code",
   "execution_count": 22,
   "metadata": {},
   "outputs": [
    {
     "data": {
      "text/plain": [
       "['__class__',\n",
       " '__delattr__',\n",
       " '__dict__',\n",
       " '__dir__',\n",
       " '__doc__',\n",
       " '__eq__',\n",
       " '__format__',\n",
       " '__ge__',\n",
       " '__getattribute__',\n",
       " '__gt__',\n",
       " '__hash__',\n",
       " '__init__',\n",
       " '__init_subclass__',\n",
       " '__le__',\n",
       " '__lt__',\n",
       " '__module__',\n",
       " '__ne__',\n",
       " '__new__',\n",
       " '__reduce__',\n",
       " '__reduce_ex__',\n",
       " '__repr__',\n",
       " '__setattr__',\n",
       " '__sizeof__',\n",
       " '__str__',\n",
       " '__subclasshook__',\n",
       " '__weakref__',\n",
       " 'color',\n",
       " 'height',\n",
       " 'width']"
      ]
     },
     "execution_count": 22,
     "metadata": {},
     "output_type": "execute_result"
    }
   ],
   "source": [
    "# 추가한 속성에 대한 값을 인자로 넣어준 후 출력하면 추가된 속성값 있음\n",
    "dir(Quandrangle(12, 12, 'red'))"
   ]
  },
  {
   "cell_type": "code",
   "execution_count": 23,
   "metadata": {},
   "outputs": [
    {
     "data": {
      "text/plain": [
       "'red'"
      ]
     },
     "execution_count": 23,
     "metadata": {},
     "output_type": "execute_result"
    }
   ],
   "source": [
    "# 추가된 속성에 접근하는 방법\n",
    "square = Quandrangle(12, 12, 'red')\n",
    "square.color"
   ]
  },
  {
   "cell_type": "code",
   "execution_count": 24,
   "metadata": {},
   "outputs": [
    {
     "data": {
      "text/plain": [
       "'blue'"
      ]
     },
     "execution_count": 24,
     "metadata": {},
     "output_type": "execute_result"
    }
   ],
   "source": [
    "# 추가된 속성에 부여된 값 변경하기\n",
    "square.color = 'blue'\n",
    "square.color"
   ]
  },
  {
   "cell_type": "code",
   "execution_count": 25,
   "metadata": {},
   "outputs": [],
   "source": [
    "#### 연습문제 ####\n",
    "class CreateSquare:\n",
    "    def __init__(self, width, height, color):\n",
    "        self.width = width\n",
    "        self.height = height\n",
    "        self.color = color\n",
    "        \n",
    "rectangular = CreateSquare(10, 5, 'red')\n",
    "square = CreateSquare(7, 7, 'blue')"
   ]
  },
  {
   "cell_type": "code",
   "execution_count": 26,
   "metadata": {},
   "outputs": [
    {
     "name": "stdout",
     "output_type": "stream",
     "text": [
      "orange\n",
      "\n",
      "10\n",
      "10\n"
     ]
    }
   ],
   "source": [
    "# 클래스에 부여된 속성값을 변경해보기\n",
    "rectangular.color = 'orange'\n",
    "print(rectangular.color)\n",
    "print()\n",
    "\n",
    "square.width = 10\n",
    "square.height = 10\n",
    "print(square.width)\n",
    "print(square.height)"
   ]
  },
  {
   "cell_type": "markdown",
   "metadata": {},
   "source": [
    "## Method 넣어보기"
   ]
  },
  {
   "cell_type": "code",
   "execution_count": 32,
   "metadata": {},
   "outputs": [],
   "source": [
    "class Quadrangle:\n",
    "    def __init__(self, width, height, color):\n",
    "        self.width = width\n",
    "        self.height = height\n",
    "        self.color = color\n",
    "    \n",
    "    def get_width(self):\n",
    "        return self.width * self.height\n",
    "    \n",
    "    def set_area(self, data1, data2):\n",
    "        self.width = data1\n",
    "        self.height = data2"
   ]
  },
  {
   "cell_type": "code",
   "execution_count": 37,
   "metadata": {},
   "outputs": [
    {
     "name": "stdout",
     "output_type": "stream",
     "text": [
      "60\n",
      "\n",
      "25\n"
     ]
    }
   ],
   "source": [
    "rectangular = Quadrangle(10, 6, 'red')\n",
    "print(rectangular.get_width())\n",
    "print()\n",
    "\n",
    "# 클래스안에서 속성을 변경해주는 메소드 불러올 때는 따로 객체로 할당 안함!\n",
    "rectangular.set_area(5, 5)\n",
    "\n",
    "after_rectangular = rectangular.get_width()\n",
    "print(after_rectangular)"
   ]
  },
  {
   "cell_type": "code",
   "execution_count": 40,
   "metadata": {},
   "outputs": [
    {
     "name": "stdout",
     "output_type": "stream",
     "text": [
      "25\n",
      "\n",
      "100\n"
     ]
    }
   ],
   "source": [
    "square = Quadrangle(5, 5, 'blue')\n",
    "print(square.get_width())\n",
    "print()\n",
    "\n",
    "square.set_area(10, 10)\n",
    "after_square = square.get_width()\n",
    "print(after_square)"
   ]
  },
  {
   "cell_type": "markdown",
   "metadata": {},
   "source": [
    "# 추상화(Abstraction)와 상속(Inheritance)에 대한 이해"
   ]
  },
  {
   "cell_type": "code",
   "execution_count": 41,
   "metadata": {},
   "outputs": [],
   "source": [
    "# 부모 클래스 정의\n",
    "class Figure:\n",
    "    def __init__(self, name, color):\n",
    "        self.name = name\n",
    "        self.color = color"
   ]
  },
  {
   "cell_type": "code",
   "execution_count": 51,
   "metadata": {},
   "outputs": [],
   "source": [
    "# 부모 클래스를 상속받는 자식 클래스 정의\n",
    "class Quadrangle(Figure):\n",
    "    # 부모클래스에 생성자가 있기 때문에 따로 정의 안 함\n",
    "    def set_area(self, width, height):\n",
    "        self.width = width\n",
    "        self.height = height\n",
    "        \n",
    "    # 부모클래스와 자식클래스 속성값 모두 활용    \n",
    "    def get_info(self):\n",
    "        print(self.name, self.color, self.width, self.height)"
   ]
  },
  {
   "cell_type": "code",
   "execution_count": 57,
   "metadata": {},
   "outputs": [
    {
     "name": "stdout",
     "output_type": "stream",
     "text": [
      "younghun red 100 200\n",
      "None\n"
     ]
    }
   ],
   "source": [
    "# 자식클래스가 생성자를 포함하고 있는 부모클래스를 상속받기 때문에 자식클래스 인자에 부모클래스 인자 넣어주자\n",
    "test = Quadrangle('younghun', 'red')\n",
    "test.set_area(100, 200)\n",
    "result = test.get_info()\n",
    "print(result)\n",
    "\n",
    "# None이 출력되는 이유는 get_info 메소드에 return값이 없는 상태에서 print하기 때문임"
   ]
  },
  {
   "cell_type": "markdown",
   "metadata": {},
   "source": [
    "- 부모/자식 클래스인지 여부 확인 : ``issubclass(자식클래스, 부모클래스)``\n",
    "- 클래스와 객체간 관계 확인 : ``isinstance(객체, 클래스)``"
   ]
  },
  {
   "cell_type": "code",
   "execution_count": 59,
   "metadata": {},
   "outputs": [
    {
     "data": {
      "text/plain": [
       "True"
      ]
     },
     "execution_count": 59,
     "metadata": {},
     "output_type": "execute_result"
    }
   ],
   "source": [
    "issubclass(Quadrangle, Figure)"
   ]
  },
  {
   "cell_type": "code",
   "execution_count": 58,
   "metadata": {},
   "outputs": [],
   "source": [
    "figure1 = Figure('figure1', 'black')\n",
    "square = Quadrangle('square','red')"
   ]
  },
  {
   "cell_type": "code",
   "execution_count": 63,
   "metadata": {},
   "outputs": [
    {
     "name": "stdout",
     "output_type": "stream",
     "text": [
      "True\n",
      "True\n",
      "False\n",
      "True\n"
     ]
    }
   ],
   "source": [
    "print(isinstance(figure1, Figure))\n",
    "print(isinstance(square, Figure))\n",
    "print(isinstance(figure1, Quadrangle))\n",
    "print(isinstance(square, Quadrangle))"
   ]
  },
  {
   "cell_type": "markdown",
   "metadata": {},
   "source": [
    "## Method override\n",
    "\n",
    "- 부모 클래스에서 정의한 특정 메소드를 자식 클래스에서 해당 메소드를 수정해서 기능을 변경할 수 있음(override=덮어쓰기)\n",
    "\n",
    "- 물론, 자식클래스에서 추가적인 메소드를 추가할 수도 있음"
   ]
  },
  {
   "cell_type": "code",
   "execution_count": 66,
   "metadata": {},
   "outputs": [],
   "source": [
    "class Person:\n",
    "    def __init__(self, name, age):\n",
    "        self.name = name\n",
    "        self.age = age\n",
    "    \n",
    "    def work(self):\n",
    "        print(self.name + \"아!\", self.age)\n",
    "\n",
    "class Student(Person):\n",
    "    def work(self):\n",
    "        print(self.name + \"이!!\", self.age)"
   ]
  },
  {
   "cell_type": "code",
   "execution_count": 67,
   "metadata": {},
   "outputs": [
    {
     "name": "stdout",
     "output_type": "stream",
     "text": [
      "영훈이!! 26\n"
     ]
    }
   ],
   "source": [
    "# 부모 클래스의 '아!'가 출력되는 것이 아닌 자식 클래스의 '이!!'가 출력됨\n",
    "test = Student('영훈',26)\n",
    "test.work()"
   ]
  },
  {
   "cell_type": "code",
   "execution_count": 82,
   "metadata": {},
   "outputs": [],
   "source": [
    "class Person:\n",
    "    def __init__(self, name, age):\n",
    "        self.name = name\n",
    "        self.age = age\n",
    "    \n",
    "    def work(self):\n",
    "        print(self.name + \"아!\", self.age)\n",
    "\n",
    "class Student(Person):\n",
    "    def work(self):\n",
    "        print(self.name + \"이!!\", self.age)\n",
    "        \n",
    "    def get_age(self):\n",
    "        print('영훈아, 너',self.age)"
   ]
  },
  {
   "cell_type": "code",
   "execution_count": 83,
   "metadata": {},
   "outputs": [
    {
     "name": "stdout",
     "output_type": "stream",
     "text": [
      "영훈이!! 26\n"
     ]
    }
   ],
   "source": [
    "test = Student('영훈', 26)\n",
    "test.work()"
   ]
  },
  {
   "cell_type": "code",
   "execution_count": 84,
   "metadata": {},
   "outputs": [
    {
     "name": "stdout",
     "output_type": "stream",
     "text": [
      "영훈아, 너 26\n"
     ]
    }
   ],
   "source": [
    "test = Student('영훈', 26)\n",
    "test.get_age()"
   ]
  },
  {
   "cell_type": "code",
   "execution_count": 98,
   "metadata": {},
   "outputs": [],
   "source": [
    "#####연습문제#####\n",
    "\n",
    "class Car:\n",
    "    def __init__(self, name):\n",
    "        self.name = name\n",
    "        \n",
    "    def get_info(self):\n",
    "        return self.name\n",
    "    \n",
    "class ElectronicCar(Car):\n",
    "    def get_info(self):\n",
    "        print(self.name, 'Electronic')\n",
    "    \n",
    "class GasolineCar(Car):\n",
    "    def get_info(self):\n",
    "        return self.name, 'Gasoline'"
   ]
  },
  {
   "cell_type": "code",
   "execution_count": 99,
   "metadata": {},
   "outputs": [
    {
     "name": "stdout",
     "output_type": "stream",
     "text": [
      "Benz Electronic\n"
     ]
    }
   ],
   "source": [
    "elec = ElectronicCar('Benz')\n",
    "elec.get_info()"
   ]
  },
  {
   "cell_type": "code",
   "execution_count": 100,
   "metadata": {},
   "outputs": [
    {
     "data": {
      "text/plain": [
       "('Benz', 'Gasoline')"
      ]
     },
     "execution_count": 100,
     "metadata": {},
     "output_type": "execute_result"
    }
   ],
   "source": [
    "gaso = GasolineCar('Benz')\n",
    "gaso.get_info()"
   ]
  },
  {
   "cell_type": "code",
   "execution_count": null,
   "metadata": {},
   "outputs": [],
   "source": [
    "## return은 반환값들 튜플로 담김\n",
    "## print는 출력!"
   ]
  },
  {
   "cell_type": "markdown",
   "metadata": {},
   "source": [
    "## override되었음에도 부모 클래스의 메소드를 가져올 때!\n",
    "\n",
    "- super() 사용"
   ]
  },
  {
   "cell_type": "code",
   "execution_count": 101,
   "metadata": {},
   "outputs": [],
   "source": [
    "class Person:\n",
    "    def work(self):\n",
    "        print('work hard')\n",
    "    \n",
    "class Student(Person):\n",
    "    def work(self):\n",
    "        print('study hard')\n",
    "        \n",
    "    def parttime(self):\n",
    "        # super().메소드함수\n",
    "        super().work()"
   ]
  },
  {
   "cell_type": "code",
   "execution_count": 102,
   "metadata": {},
   "outputs": [
    {
     "name": "stdout",
     "output_type": "stream",
     "text": [
      "study hard\n"
     ]
    }
   ],
   "source": [
    "# 자식클래스의 work 메소드 출력\n",
    "test = Student()\n",
    "test.work()"
   ]
  },
  {
   "cell_type": "code",
   "execution_count": 103,
   "metadata": {},
   "outputs": [
    {
     "name": "stdout",
     "output_type": "stream",
     "text": [
      "work hard\n"
     ]
    }
   ],
   "source": [
    "# 부모클래스의 work 메소드 출력\n",
    "test.parttime()"
   ]
  },
  {
   "cell_type": "markdown",
   "metadata": {},
   "source": [
    "## Class 자체의 속성과 메소드"
   ]
  },
  {
   "cell_type": "markdown",
   "metadata": {},
   "source": [
    "- 클래스 변수: 클래스 정의안에서 하지만 메서드 밖에서 존재하는 변수\n",
    "    * 클래스 변수는 해당 클래스를 사용하는 모든 메서드에서 공용으로 사용 가능\n",
    "    * 클래스명.클래스변수명 으로 값을 할당하거나 불러오기 가능<br><br>\n",
    "    \n",
    "- 인스턴스 변수: 그동안 배워왔던 self.변수명 "
   ]
  },
  {
   "cell_type": "code",
   "execution_count": 1,
   "metadata": {},
   "outputs": [],
   "source": [
    "class Figure:\n",
    "    # 클래스 변수 설정\n",
    "    count = 0\n",
    "    \n",
    "    # 생성자\n",
    "    def __init__(self, width, height):\n",
    "        self.width = width\n",
    "        self.height = height\n",
    "        \n",
    "        # 메소드안에서 클래스 변수에 값 할당 가능\n",
    "        Figure.count += 1\n",
    "    \n",
    "    # 삭제\n",
    "    def __del__(self):\n",
    "        Figure.count -= 1\n",
    "    \n",
    "    # 개별 메서드\n",
    "    def calc_area(self):\n",
    "        return self.width * self.height"
   ]
  },
  {
   "cell_type": "code",
   "execution_count": 2,
   "metadata": {},
   "outputs": [
    {
     "data": {
      "text/plain": [
       "1"
      ]
     },
     "execution_count": 2,
     "metadata": {},
     "output_type": "execute_result"
    }
   ],
   "source": [
    "figure1 = Figure(5, 3)\n",
    "# 위에서 생성자 메소드를 호출했으니 생성사 메소드 안에있는 Figure.count 수행\n",
    "Figure.count"
   ]
  },
  {
   "cell_type": "code",
   "execution_count": 3,
   "metadata": {},
   "outputs": [
    {
     "data": {
      "text/plain": [
       "2"
      ]
     },
     "execution_count": 3,
     "metadata": {},
     "output_type": "execute_result"
    }
   ],
   "source": [
    "# 클래스 다시 초기화시키지 않고 한번 더 호출\n",
    "figure2 = Figure(3, 3)\n",
    "Figure.count"
   ]
  },
  {
   "cell_type": "code",
   "execution_count": 4,
   "metadata": {},
   "outputs": [
    {
     "data": {
      "text/plain": [
       "1"
      ]
     },
     "execution_count": 4,
     "metadata": {},
     "output_type": "execute_result"
    }
   ],
   "source": [
    "# 삭제 메소드 호출해보기\n",
    "# del 클래스할당한_객체이름 -> 이런식으로 삭제 메소드 호출\n",
    "del figure1\n",
    "Figure.count"
   ]
  },
  {
   "cell_type": "code",
   "execution_count": 5,
   "metadata": {},
   "outputs": [
    {
     "data": {
      "text/plain": [
       "0"
      ]
     },
     "execution_count": 5,
     "metadata": {},
     "output_type": "execute_result"
    }
   ],
   "source": [
    "del figure2\n",
    "Figure.count"
   ]
  },
  {
   "cell_type": "markdown",
   "metadata": {},
   "source": [
    "### 클래스 메소드 종류\n",
    "\n",
    "- instance method : 우리가 지금까지 해온 self.변수명\n",
    "<br><br>\n",
    "- static method(정적 메소드) : 클래스안에서 정의, 다른 인스턴스 메소드안에서 호출 가능. 자유분방\n",
    "    * self 파라미터가 없음\n",
    "    * decorator형식으로 호출. ``@staticmethod``\n",
    "    * ``클래스명.정적메서드 / 클래스할당한객체명.정적메서드`` 둘 다 가능"
   ]
  },
  {
   "cell_type": "code",
   "execution_count": 6,
   "metadata": {},
   "outputs": [],
   "source": [
    "class Figure:\n",
    "    # 생성자\n",
    "    def __init__(self, width, height):\n",
    "        self.width = width\n",
    "        self.height = height\n",
    "    \n",
    "    # 인스턴스 메소드\n",
    "    def calc_area(self):\n",
    "        return self.width * self.height\n",
    "    \n",
    "    # 정적 메소드를 할당하기 위한 decorator\n",
    "    @staticmethod\n",
    "    # 정적 메소드 정의\n",
    "    def is_square(rect_width, rect_height):\n",
    "        if rect_width == rect_height:\n",
    "            print(\"정사각형이 될 수 있음\")\n",
    "        else:\n",
    "            print(\"정사각형이 될 수 없음\")"
   ]
  },
  {
   "cell_type": "code",
   "execution_count": 8,
   "metadata": {},
   "outputs": [
    {
     "name": "stdout",
     "output_type": "stream",
     "text": [
      "정사각형이 될 수 없음\n",
      "정사각형이 될 수 없음\n"
     ]
    }
   ],
   "source": [
    "# 객체에 클래스 할당\n",
    "figure1 = Figure(5 ,4)\n",
    "# 클래스명.정적메소드 로 호출\n",
    "Figure.is_square(5, 4)\n",
    "# 클래스할당한_객체명.정적메소드 로 호출\n",
    "figure1.is_square(5, 4)"
   ]
  },
  {
   "cell_type": "code",
   "execution_count": 24,
   "metadata": {},
   "outputs": [],
   "source": [
    "class Figure:\n",
    "    count = 0\n",
    "    \n",
    "    # 생성자 정의\n",
    "    def __init__(self, width, height):\n",
    "        self.width = width\n",
    "        self.height = height\n",
    "        Figure.count += 1\n",
    "    \n",
    "    # 정적 메소드 정의\n",
    "    @staticmethod\n",
    "    def print_count():\n",
    "        print(Figure.count)\n",
    "        \n",
    "    # 정적 메소드 정의안에서 인스턴스 메소드의 속성(객체)에는 접근 불가\n",
    "    # print_width() 안에 self인자 넣어줘도 안 됨!\n",
    "    @staticmethod\n",
    "    def print_width():\n",
    "        print(self.width)"
   ]
  },
  {
   "cell_type": "code",
   "execution_count": 25,
   "metadata": {},
   "outputs": [
    {
     "name": "stdout",
     "output_type": "stream",
     "text": [
      "1\n"
     ]
    }
   ],
   "source": [
    "figure1 = Figure(3, 4)\n",
    "Figure.print_count()"
   ]
  },
  {
   "cell_type": "code",
   "execution_count": 26,
   "metadata": {},
   "outputs": [
    {
     "ename": "NameError",
     "evalue": "name 'self' is not defined",
     "output_type": "error",
     "traceback": [
      "\u001b[0;31m---------------------------------------------------------------------------\u001b[0m",
      "\u001b[0;31mNameError\u001b[0m                                 Traceback (most recent call last)",
      "\u001b[0;32m<ipython-input-26-a00a3964e027>\u001b[0m in \u001b[0;36m<module>\u001b[0;34m\u001b[0m\n\u001b[1;32m      1\u001b[0m \u001b[0;31m# 인스턴스 메소드의 self.객체 에는 접근 불가\u001b[0m\u001b[0;34m\u001b[0m\u001b[0;34m\u001b[0m\u001b[0;34m\u001b[0m\u001b[0m\n\u001b[0;32m----> 2\u001b[0;31m \u001b[0mFigure\u001b[0m\u001b[0;34m.\u001b[0m\u001b[0mprint_width\u001b[0m\u001b[0;34m(\u001b[0m\u001b[0;34m)\u001b[0m\u001b[0;34m\u001b[0m\u001b[0;34m\u001b[0m\u001b[0m\n\u001b[0m",
      "\u001b[0;32m<ipython-input-24-99f4f9e0659a>\u001b[0m in \u001b[0;36mprint_width\u001b[0;34m()\u001b[0m\n\u001b[1;32m     16\u001b[0m     \u001b[0;34m@\u001b[0m\u001b[0mstaticmethod\u001b[0m\u001b[0;34m\u001b[0m\u001b[0;34m\u001b[0m\u001b[0m\n\u001b[1;32m     17\u001b[0m     \u001b[0;32mdef\u001b[0m \u001b[0mprint_width\u001b[0m\u001b[0;34m(\u001b[0m\u001b[0;34m)\u001b[0m\u001b[0;34m:\u001b[0m\u001b[0;34m\u001b[0m\u001b[0;34m\u001b[0m\u001b[0m\n\u001b[0;32m---> 18\u001b[0;31m         \u001b[0mprint\u001b[0m\u001b[0;34m(\u001b[0m\u001b[0mself\u001b[0m\u001b[0;34m.\u001b[0m\u001b[0mwidth\u001b[0m\u001b[0;34m)\u001b[0m\u001b[0;34m\u001b[0m\u001b[0;34m\u001b[0m\u001b[0m\n\u001b[0m",
      "\u001b[0;31mNameError\u001b[0m: name 'self' is not defined"
     ]
    }
   ],
   "source": [
    "# 인스턴스 메소드의 self.객체 에는 접근 불가\n",
    "Figure.print_width()"
   ]
  },
  {
   "cell_type": "markdown",
   "metadata": {},
   "source": [
    "- class method : 클래스 변수에 접근이 가능함. 단, 인스턴스 메소드 self.객체명 처럼 접근해야 하는데, self 대신 ``cls``사용\n",
    "    * 하지만 이것도 인스턴스 메서드의 self.객체 에 접근 불가함\n",
    "    * 데코레이더 형식으로 작성해야함 ``@classmethod``\n",
    "    * ``클래스명.클래스메서드명 / 클래스할당한객체명.클래스메서드명`` 으로 호출 가능"
   ]
  },
  {
   "cell_type": "code",
   "execution_count": 36,
   "metadata": {},
   "outputs": [],
   "source": [
    "class Figure:\n",
    "    count = 0\n",
    "    \n",
    "    def __init__(self, width, height):\n",
    "        self.width = width\n",
    "        self.height = height\n",
    "        Figure.count += 1\n",
    "        \n",
    "    def cal_area(self):\n",
    "        return self.width * self.height\n",
    "    \n",
    "    @classmethod\n",
    "    # 클래스 메서드는 반드시 cls 인자를 넣어주어서 클래스변수를 호출 가능(단, 호출할 때 인스턴스 메소드가 호출하는 방식처럼 해야 함)\n",
    "    def print_count(cls):\n",
    "        cls.count += 5\n",
    "        return cls.count      "
   ]
  },
  {
   "cell_type": "code",
   "execution_count": 37,
   "metadata": {},
   "outputs": [
    {
     "data": {
      "text/plain": [
       "1"
      ]
     },
     "execution_count": 37,
     "metadata": {},
     "output_type": "execute_result"
    }
   ],
   "source": [
    "figure1 = Figure(3, 7)\n",
    "Figure.count"
   ]
  },
  {
   "cell_type": "code",
   "execution_count": 38,
   "metadata": {},
   "outputs": [
    {
     "data": {
      "text/plain": [
       "6"
      ]
     },
     "execution_count": 38,
     "metadata": {},
     "output_type": "execute_result"
    }
   ],
   "source": [
    "# 클래스메소드 호출\n",
    "# 1.클래스명.클래스메서드명\n",
    "Figure.print_count()"
   ]
  },
  {
   "cell_type": "code",
   "execution_count": 39,
   "metadata": {},
   "outputs": [
    {
     "data": {
      "text/plain": [
       "11"
      ]
     },
     "execution_count": 39,
     "metadata": {},
     "output_type": "execute_result"
    }
   ],
   "source": [
    "# 2.클래스객체명.클래스메서드명\n",
    "figure1.print_count()"
   ]
  },
  {
   "cell_type": "markdown",
   "metadata": {},
   "source": [
    "### static method VS class method"
   ]
  },
  {
   "cell_type": "code",
   "execution_count": 40,
   "metadata": {},
   "outputs": [],
   "source": [
    "###### class method\n",
    "class Figure:\n",
    "    # 클래스 메서드에서 클래스 변수를 정의\n",
    "    @classmethod\n",
    "    def set_name(cls, name):\n",
    "        cls.name = name\n",
    "\n",
    "# Figure이라는 클래스를 상속받음\n",
    "class Circle(Figure):\n",
    "    pass"
   ]
  },
  {
   "cell_type": "code",
   "execution_count": 41,
   "metadata": {},
   "outputs": [
    {
     "name": "stdout",
     "output_type": "stream",
     "text": [
      "Figure Figure\n"
     ]
    }
   ],
   "source": [
    "# 클래스명.클래스메서드명 으로 클래스메서드 호출\n",
    "Figure.set_name('Figure')\n",
    "print(Figure.name, Circle.name)"
   ]
  },
  {
   "cell_type": "code",
   "execution_count": 42,
   "metadata": {},
   "outputs": [
    {
     "name": "stdout",
     "output_type": "stream",
     "text": [
      "Figure Circle\n"
     ]
    }
   ],
   "source": [
    "Circle.set_name('Circle')\n",
    "print(Figure.name, Circle.name)"
   ]
  },
  {
   "cell_type": "markdown",
   "metadata": {},
   "source": [
    "- 클래스 메서드에서 클래스 변수를 정의한 부모클래스를 상속받은 자식 클래스에서 set_name을 호출하면 부모 클래스의 클래스 변수는 바뀌지 않고 자식 클래스의 클래스 변수만 바뀜!!"
   ]
  },
  {
   "cell_type": "code",
   "execution_count": 43,
   "metadata": {},
   "outputs": [],
   "source": [
    "###### static method\n",
    "class Figure:\n",
    "    @staticmethod\n",
    "    def set_name(name):\n",
    "        # 정적 메서드에서 클래스 변수를 정의\n",
    "        Figure.name = name\n",
    "    \n",
    "class Circle(Figure):\n",
    "    pass"
   ]
  },
  {
   "cell_type": "code",
   "execution_count": 44,
   "metadata": {},
   "outputs": [
    {
     "name": "stdout",
     "output_type": "stream",
     "text": [
      "Figure Figure\n"
     ]
    }
   ],
   "source": [
    "Figure.set_name('Figure')\n",
    "print(Figure.name, Circle.name)"
   ]
  },
  {
   "cell_type": "code",
   "execution_count": 45,
   "metadata": {},
   "outputs": [
    {
     "name": "stdout",
     "output_type": "stream",
     "text": [
      "Circle Circle\n"
     ]
    }
   ],
   "source": [
    "Circle.set_name('Circle')\n",
    "print(Figure.name, Circle.name)"
   ]
  },
  {
   "cell_type": "markdown",
   "metadata": {},
   "source": [
    "- 정적 메서드에서 클래스 변수를 정의한 부모클래스를 상속받은 자식 클래스에서 set_name을 호출하면 부모 클래스의 클래스 변수도 바뀜!"
   ]
  },
  {
   "cell_type": "code",
   "execution_count": null,
   "metadata": {},
   "outputs": [],
   "source": []
  }
 ],
 "metadata": {
  "hide_input": false,
  "kernelspec": {
   "display_name": "Python 3",
   "language": "python",
   "name": "python3"
  },
  "language_info": {
   "codemirror_mode": {
    "name": "ipython",
    "version": 3
   },
   "file_extension": ".py",
   "mimetype": "text/x-python",
   "name": "python",
   "nbconvert_exporter": "python",
   "pygments_lexer": "ipython3",
   "version": "3.7.7"
  },
  "toc": {
   "base_numbering": 1,
   "nav_menu": {},
   "number_sections": true,
   "sideBar": true,
   "skip_h1_title": false,
   "title_cell": "Table of Contents",
   "title_sidebar": "Contents",
   "toc_cell": false,
   "toc_position": {},
   "toc_section_display": true,
   "toc_window_display": false
  },
  "varInspector": {
   "cols": {
    "lenName": 16,
    "lenType": 16,
    "lenVar": 40
   },
   "kernels_config": {
    "python": {
     "delete_cmd_postfix": "",
     "delete_cmd_prefix": "del ",
     "library": "var_list.py",
     "varRefreshCmd": "print(var_dic_list())"
    },
    "r": {
     "delete_cmd_postfix": ") ",
     "delete_cmd_prefix": "rm(",
     "library": "var_list.r",
     "varRefreshCmd": "cat(var_dic_list()) "
    }
   },
   "types_to_exclude": [
    "module",
    "function",
    "builtin_function_or_method",
    "instance",
    "_Feature"
   ],
   "window_display": false
  }
 },
 "nbformat": 4,
 "nbformat_minor": 4
}

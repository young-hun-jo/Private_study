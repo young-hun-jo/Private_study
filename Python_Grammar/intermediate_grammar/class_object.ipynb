{
 "cells": [
  {
   "cell_type": "markdown",
   "metadata": {},
   "source": [
    "# Python Class, object에 대한 이해"
   ]
  },
  {
   "cell_type": "markdown",
   "metadata": {},
   "source": [
    "## Class 선언"
   ]
  },
  {
   "cell_type": "code",
   "execution_count": 1,
   "metadata": {},
   "outputs": [],
   "source": [
    "# 클래스 선언하기\n",
    "class Quadrangle:\n",
    "    pass"
   ]
  },
  {
   "cell_type": "code",
   "execution_count": 2,
   "metadata": {
    "scrolled": true
   },
   "outputs": [
    {
     "data": {
      "text/plain": [
       "['__class__',\n",
       " '__delattr__',\n",
       " '__dict__',\n",
       " '__dir__',\n",
       " '__doc__',\n",
       " '__eq__',\n",
       " '__format__',\n",
       " '__ge__',\n",
       " '__getattribute__',\n",
       " '__gt__',\n",
       " '__hash__',\n",
       " '__init__',\n",
       " '__init_subclass__',\n",
       " '__le__',\n",
       " '__lt__',\n",
       " '__module__',\n",
       " '__ne__',\n",
       " '__new__',\n",
       " '__reduce__',\n",
       " '__reduce_ex__',\n",
       " '__repr__',\n",
       " '__setattr__',\n",
       " '__sizeof__',\n",
       " '__str__',\n",
       " '__subclasshook__',\n",
       " '__weakref__']"
      ]
     },
     "execution_count": 2,
     "metadata": {},
     "output_type": "execute_result"
    }
   ],
   "source": [
    "# dir로 클래스가 갖고 있는 기본 속성 출력\n",
    "dir(Quadrangle)"
   ]
  },
  {
   "cell_type": "code",
   "execution_count": 3,
   "metadata": {
    "scrolled": true
   },
   "outputs": [
    {
     "data": {
      "text/plain": [
       "['__class__',\n",
       " '__delattr__',\n",
       " '__dict__',\n",
       " '__dir__',\n",
       " '__doc__',\n",
       " '__eq__',\n",
       " '__format__',\n",
       " '__ge__',\n",
       " '__getattribute__',\n",
       " '__gt__',\n",
       " '__hash__',\n",
       " '__init__',\n",
       " '__init_subclass__',\n",
       " '__le__',\n",
       " '__lt__',\n",
       " '__module__',\n",
       " '__ne__',\n",
       " '__new__',\n",
       " '__reduce__',\n",
       " '__reduce_ex__',\n",
       " '__repr__',\n",
       " '__setattr__',\n",
       " '__sizeof__',\n",
       " '__str__',\n",
       " '__subclasshook__',\n",
       " '__weakref__']"
      ]
     },
     "execution_count": 3,
     "metadata": {},
     "output_type": "execute_result"
    }
   ],
   "source": [
    "# 클래스를 하나의 객체로 할당한 후 dir\n",
    "a = Quadrangle()\n",
    "dir(a)"
   ]
  },
  {
   "cell_type": "code",
   "execution_count": 4,
   "metadata": {},
   "outputs": [
    {
     "data": {
      "text/plain": [
       "__main__.Quadrangle"
      ]
     },
     "execution_count": 4,
     "metadata": {},
     "output_type": "execute_result"
    }
   ],
   "source": [
    "# Class type확인\n",
    "type(a)"
   ]
  },
  {
   "cell_type": "markdown",
   "metadata": {},
   "source": [
    "## Attribute(속성) 넣어보기"
   ]
  },
  {
   "cell_type": "code",
   "execution_count": 5,
   "metadata": {},
   "outputs": [],
   "source": [
    "class Quandrangle:\n",
    "    def __init__(self, width, height, color):\n",
    "        # self.속성 으로 속성값 부여\n",
    "        self.width = width\n",
    "        self.height = height\n",
    "        self.color = color"
   ]
  },
  {
   "cell_type": "code",
   "execution_count": 22,
   "metadata": {},
   "outputs": [
    {
     "data": {
      "text/plain": [
       "['__class__',\n",
       " '__delattr__',\n",
       " '__dict__',\n",
       " '__dir__',\n",
       " '__doc__',\n",
       " '__eq__',\n",
       " '__format__',\n",
       " '__ge__',\n",
       " '__getattribute__',\n",
       " '__gt__',\n",
       " '__hash__',\n",
       " '__init__',\n",
       " '__init_subclass__',\n",
       " '__le__',\n",
       " '__lt__',\n",
       " '__module__',\n",
       " '__ne__',\n",
       " '__new__',\n",
       " '__reduce__',\n",
       " '__reduce_ex__',\n",
       " '__repr__',\n",
       " '__setattr__',\n",
       " '__sizeof__',\n",
       " '__str__',\n",
       " '__subclasshook__',\n",
       " '__weakref__',\n",
       " 'color',\n",
       " 'height',\n",
       " 'width']"
      ]
     },
     "execution_count": 22,
     "metadata": {},
     "output_type": "execute_result"
    }
   ],
   "source": [
    "# 추가한 속성에 대한 값을 인자로 넣어준 후 출력하면 추가된 속성값 있음\n",
    "dir(Quandrangle(12, 12, 'red'))"
   ]
  },
  {
   "cell_type": "code",
   "execution_count": 23,
   "metadata": {},
   "outputs": [
    {
     "data": {
      "text/plain": [
       "'red'"
      ]
     },
     "execution_count": 23,
     "metadata": {},
     "output_type": "execute_result"
    }
   ],
   "source": [
    "# 추가된 속성에 접근하는 방법\n",
    "square = Quandrangle(12, 12, 'red')\n",
    "square.color"
   ]
  },
  {
   "cell_type": "code",
   "execution_count": 24,
   "metadata": {},
   "outputs": [
    {
     "data": {
      "text/plain": [
       "'blue'"
      ]
     },
     "execution_count": 24,
     "metadata": {},
     "output_type": "execute_result"
    }
   ],
   "source": [
    "# 추가된 속성에 부여된 값 변경하기\n",
    "square.color = 'blue'\n",
    "square.color"
   ]
  },
  {
   "cell_type": "code",
   "execution_count": 25,
   "metadata": {},
   "outputs": [],
   "source": [
    "#### 연습문제 ####\n",
    "class CreateSquare:\n",
    "    def __init__(self, width, height, color):\n",
    "        self.width = width\n",
    "        self.height = height\n",
    "        self.color = color\n",
    "        \n",
    "rectangular = CreateSquare(10, 5, 'red')\n",
    "square = CreateSquare(7, 7, 'blue')"
   ]
  },
  {
   "cell_type": "code",
   "execution_count": 26,
   "metadata": {},
   "outputs": [
    {
     "name": "stdout",
     "output_type": "stream",
     "text": [
      "orange\n",
      "\n",
      "10\n",
      "10\n"
     ]
    }
   ],
   "source": [
    "# 클래스에 부여된 속성값을 변경해보기\n",
    "rectangular.color = 'orange'\n",
    "print(rectangular.color)\n",
    "print()\n",
    "\n",
    "square.width = 10\n",
    "square.height = 10\n",
    "print(square.width)\n",
    "print(square.height)"
   ]
  },
  {
   "cell_type": "markdown",
   "metadata": {},
   "source": [
    "## Method 넣어보기"
   ]
  },
  {
   "cell_type": "code",
   "execution_count": 32,
   "metadata": {},
   "outputs": [],
   "source": [
    "class Quadrangle:\n",
    "    def __init__(self, width, height, color):\n",
    "        self.width = width\n",
    "        self.height = height\n",
    "        self.color = color\n",
    "    \n",
    "    def get_width(self):\n",
    "        return self.width * self.height\n",
    "    \n",
    "    def set_area(self, data1, data2):\n",
    "        self.width = data1\n",
    "        self.height = data2"
   ]
  },
  {
   "cell_type": "code",
   "execution_count": 37,
   "metadata": {},
   "outputs": [
    {
     "name": "stdout",
     "output_type": "stream",
     "text": [
      "60\n",
      "\n",
      "25\n"
     ]
    }
   ],
   "source": [
    "rectangular = Quadrangle(10, 6, 'red')\n",
    "print(rectangular.get_width())\n",
    "print()\n",
    "\n",
    "# 클래스안에서 속성을 변경해주는 메소드 불러올 때는 따로 객체로 할당 안함!\n",
    "rectangular.set_area(5, 5)\n",
    "\n",
    "after_rectangular = rectangular.get_width()\n",
    "print(after_rectangular)"
   ]
  },
  {
   "cell_type": "code",
   "execution_count": 40,
   "metadata": {},
   "outputs": [
    {
     "name": "stdout",
     "output_type": "stream",
     "text": [
      "25\n",
      "\n",
      "100\n"
     ]
    }
   ],
   "source": [
    "square = Quadrangle(5, 5, 'blue')\n",
    "print(square.get_width())\n",
    "print()\n",
    "\n",
    "square.set_area(10, 10)\n",
    "after_square = square.get_width()\n",
    "print(after_square)"
   ]
  },
  {
   "cell_type": "markdown",
   "metadata": {},
   "source": [
    "# 추상화(Abstraction)와 상속(Inheritance)에 대한 이해"
   ]
  },
  {
   "cell_type": "code",
   "execution_count": 41,
   "metadata": {},
   "outputs": [],
   "source": [
    "# 부모 클래스 정의\n",
    "class Figure:\n",
    "    def __init__(self, name, color):\n",
    "        self.name = name\n",
    "        self.color = color"
   ]
  },
  {
   "cell_type": "code",
   "execution_count": 51,
   "metadata": {},
   "outputs": [],
   "source": [
    "# 부모 클래스를 상속받는 자식 클래스 정의\n",
    "class Quadrangle(Figure):\n",
    "    # 부모클래스에 생성자가 있기 때문에 따로 정의 안 함\n",
    "    def set_area(self, width, height):\n",
    "        self.width = width\n",
    "        self.height = height\n",
    "        \n",
    "    # 부모클래스와 자식클래스 속성값 모두 활용    \n",
    "    def get_info(self):\n",
    "        print(self.name, self.color, self.width, self.height)"
   ]
  },
  {
   "cell_type": "code",
   "execution_count": 57,
   "metadata": {},
   "outputs": [
    {
     "name": "stdout",
     "output_type": "stream",
     "text": [
      "younghun red 100 200\n",
      "None\n"
     ]
    }
   ],
   "source": [
    "# 자식클래스가 생성자를 포함하고 있는 부모클래스를 상속받기 때문에 자식클래스 인자에 부모클래스 인자 넣어주자\n",
    "test = Quadrangle('younghun', 'red')\n",
    "test.set_area(100, 200)\n",
    "result = test.get_info()\n",
    "print(result)\n",
    "\n",
    "# None이 출력되는 이유는 get_info 메소드에 return값이 없는 상태에서 print하기 때문임"
   ]
  },
  {
   "cell_type": "markdown",
   "metadata": {},
   "source": [
    "- 부모/자식 클래스인지 여부 확인 : ``issubclass(자식클래스, 부모클래스)``\n",
    "- 클래스와 객체간 관계 확인 : ``isinstance(객체, 클래스)``"
   ]
  },
  {
   "cell_type": "code",
   "execution_count": 59,
   "metadata": {},
   "outputs": [
    {
     "data": {
      "text/plain": [
       "True"
      ]
     },
     "execution_count": 59,
     "metadata": {},
     "output_type": "execute_result"
    }
   ],
   "source": [
    "issubclass(Quadrangle, Figure)"
   ]
  },
  {
   "cell_type": "code",
   "execution_count": 58,
   "metadata": {},
   "outputs": [],
   "source": [
    "figure1 = Figure('figure1', 'black')\n",
    "square = Quadrangle('square','red')"
   ]
  },
  {
   "cell_type": "code",
   "execution_count": 63,
   "metadata": {},
   "outputs": [
    {
     "name": "stdout",
     "output_type": "stream",
     "text": [
      "True\n",
      "True\n",
      "False\n",
      "True\n"
     ]
    }
   ],
   "source": [
    "print(isinstance(figure1, Figure))\n",
    "print(isinstance(square, Figure))\n",
    "print(isinstance(figure1, Quadrangle))\n",
    "print(isinstance(square, Quadrangle))"
   ]
  },
  {
   "cell_type": "markdown",
   "metadata": {},
   "source": [
    "## Method override\n",
    "\n",
    "- 부모 클래스에서 정의한 특정 메소드를 자식 클래스에서 해당 메소드를 수정해서 기능을 변경할 수 있음(override=덮어쓰기)\n",
    "\n",
    "- 물론, 자식클래스에서 추가적인 메소드를 추가할 수도 있음"
   ]
  },
  {
   "cell_type": "code",
   "execution_count": 66,
   "metadata": {},
   "outputs": [],
   "source": [
    "class Person:\n",
    "    def __init__(self, name, age):\n",
    "        self.name = name\n",
    "        self.age = age\n",
    "    \n",
    "    def work(self):\n",
    "        print(self.name + \"아!\", self.age)\n",
    "\n",
    "class Student(Person):\n",
    "    def work(self):\n",
    "        print(self.name + \"이!!\", self.age)"
   ]
  },
  {
   "cell_type": "code",
   "execution_count": 67,
   "metadata": {},
   "outputs": [
    {
     "name": "stdout",
     "output_type": "stream",
     "text": [
      "영훈이!! 26\n"
     ]
    }
   ],
   "source": [
    "# 부모 클래스의 '아!'가 출력되는 것이 아닌 자식 클래스의 '이!!'가 출력됨\n",
    "test = Student('영훈',26)\n",
    "test.work()"
   ]
  },
  {
   "cell_type": "code",
   "execution_count": 82,
   "metadata": {},
   "outputs": [],
   "source": [
    "class Person:\n",
    "    def __init__(self, name, age):\n",
    "        self.name = name\n",
    "        self.age = age\n",
    "    \n",
    "    def work(self):\n",
    "        print(self.name + \"아!\", self.age)\n",
    "\n",
    "class Student(Person):\n",
    "    def work(self):\n",
    "        print(self.name + \"이!!\", self.age)\n",
    "        \n",
    "    def get_age(self):\n",
    "        print('영훈아, 너',self.age)"
   ]
  },
  {
   "cell_type": "code",
   "execution_count": 83,
   "metadata": {},
   "outputs": [
    {
     "name": "stdout",
     "output_type": "stream",
     "text": [
      "영훈이!! 26\n"
     ]
    }
   ],
   "source": [
    "test = Student('영훈', 26)\n",
    "test.work()"
   ]
  },
  {
   "cell_type": "code",
   "execution_count": 84,
   "metadata": {},
   "outputs": [
    {
     "name": "stdout",
     "output_type": "stream",
     "text": [
      "영훈아, 너 26\n"
     ]
    }
   ],
   "source": [
    "test = Student('영훈', 26)\n",
    "test.get_age()"
   ]
  },
  {
   "cell_type": "code",
   "execution_count": 98,
   "metadata": {},
   "outputs": [],
   "source": [
    "#####연습문제#####\n",
    "\n",
    "class Car:\n",
    "    def __init__(self, name):\n",
    "        self.name = name\n",
    "        \n",
    "    def get_info(self):\n",
    "        return self.name\n",
    "    \n",
    "class ElectronicCar(Car):\n",
    "    def get_info(self):\n",
    "        print(self.name, 'Electronic')\n",
    "    \n",
    "class GasolineCar(Car):\n",
    "    def get_info(self):\n",
    "        return self.name, 'Gasoline'"
   ]
  },
  {
   "cell_type": "code",
   "execution_count": 99,
   "metadata": {},
   "outputs": [
    {
     "name": "stdout",
     "output_type": "stream",
     "text": [
      "Benz Electronic\n"
     ]
    }
   ],
   "source": [
    "elec = ElectronicCar('Benz')\n",
    "elec.get_info()"
   ]
  },
  {
   "cell_type": "code",
   "execution_count": 100,
   "metadata": {},
   "outputs": [
    {
     "data": {
      "text/plain": [
       "('Benz', 'Gasoline')"
      ]
     },
     "execution_count": 100,
     "metadata": {},
     "output_type": "execute_result"
    }
   ],
   "source": [
    "gaso = GasolineCar('Benz')\n",
    "gaso.get_info()"
   ]
  },
  {
   "cell_type": "code",
   "execution_count": null,
   "metadata": {},
   "outputs": [],
   "source": [
    "## return은 반환값들 튜플로 담김\n",
    "## print는 출력!"
   ]
  },
  {
   "cell_type": "markdown",
   "metadata": {},
   "source": [
    "## override되었음에도 부모 클래스의 메소드를 가져올 때!\n",
    "\n",
    "- super() 사용"
   ]
  },
  {
   "cell_type": "code",
   "execution_count": 101,
   "metadata": {},
   "outputs": [],
   "source": [
    "class Person:\n",
    "    def work(self):\n",
    "        print('work hard')\n",
    "    \n",
    "class Student(Person):\n",
    "    def work(self):\n",
    "        print('study hard')\n",
    "        \n",
    "    def parttime(self):\n",
    "        # super().메소드함수\n",
    "        super().work()"
   ]
  },
  {
   "cell_type": "code",
   "execution_count": 102,
   "metadata": {},
   "outputs": [
    {
     "name": "stdout",
     "output_type": "stream",
     "text": [
      "study hard\n"
     ]
    }
   ],
   "source": [
    "# 자식클래스의 work 메소드 출력\n",
    "test = Student()\n",
    "test.work()"
   ]
  },
  {
   "cell_type": "code",
   "execution_count": 103,
   "metadata": {},
   "outputs": [
    {
     "name": "stdout",
     "output_type": "stream",
     "text": [
      "work hard\n"
     ]
    }
   ],
   "source": [
    "# 부모클래스의 work 메소드 출력\n",
    "test.parttime()"
   ]
  },
  {
   "cell_type": "code",
   "execution_count": null,
   "metadata": {},
   "outputs": [],
   "source": []
  }
 ],
 "metadata": {
  "hide_input": false,
  "kernelspec": {
   "display_name": "Python 3",
   "language": "python",
   "name": "python3"
  },
  "language_info": {
   "codemirror_mode": {
    "name": "ipython",
    "version": 3
   },
   "file_extension": ".py",
   "mimetype": "text/x-python",
   "name": "python",
   "nbconvert_exporter": "python",
   "pygments_lexer": "ipython3",
   "version": "3.7.7"
  },
  "toc": {
   "base_numbering": 1,
   "nav_menu": {},
   "number_sections": true,
   "sideBar": true,
   "skip_h1_title": false,
   "title_cell": "Table of Contents",
   "title_sidebar": "Contents",
   "toc_cell": false,
   "toc_position": {},
   "toc_section_display": true,
   "toc_window_display": false
  },
  "varInspector": {
   "cols": {
    "lenName": 16,
    "lenType": 16,
    "lenVar": 40
   },
   "kernels_config": {
    "python": {
     "delete_cmd_postfix": "",
     "delete_cmd_prefix": "del ",
     "library": "var_list.py",
     "varRefreshCmd": "print(var_dic_list())"
    },
    "r": {
     "delete_cmd_postfix": ") ",
     "delete_cmd_prefix": "rm(",
     "library": "var_list.r",
     "varRefreshCmd": "cat(var_dic_list()) "
    }
   },
   "types_to_exclude": [
    "module",
    "function",
    "builtin_function_or_method",
    "instance",
    "_Feature"
   ],
   "window_display": false
  }
 },
 "nbformat": 4,
 "nbformat_minor": 4
}

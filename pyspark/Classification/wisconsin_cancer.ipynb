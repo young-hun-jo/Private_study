{
 "cells": [
  {
   "cell_type": "markdown",
   "id": "sixth-auction",
   "metadata": {
    "toc": true
   },
   "source": [
    "<h1>Table of Contents<span class=\"tocSkip\"></span></h1>\n",
    "<div class=\"toc\"><ul class=\"toc-item\"><li><span><a href=\"#PySpark-연습하기\" data-toc-modified-id=\"PySpark-연습하기-1\"><span class=\"toc-item-num\">1&nbsp;&nbsp;</span>PySpark 연습하기</a></span><ul class=\"toc-item\"><li><span><a href=\"#SparkSession-만들기\" data-toc-modified-id=\"SparkSession-만들기-1.1\"><span class=\"toc-item-num\">1.1&nbsp;&nbsp;</span>SparkSession 만들기</a></span></li><li><span><a href=\"#데이터-로드\" data-toc-modified-id=\"데이터-로드-1.2\"><span class=\"toc-item-num\">1.2&nbsp;&nbsp;</span>데이터 로드</a></span></li><li><span><a href=\"#간단한-EDA\" data-toc-modified-id=\"간단한-EDA-1.3\"><span class=\"toc-item-num\">1.3&nbsp;&nbsp;</span>간단한 EDA</a></span><ul class=\"toc-item\"><li><span><a href=\"#결측치-체크\" data-toc-modified-id=\"결측치-체크-1.3.1\"><span class=\"toc-item-num\">1.3.1&nbsp;&nbsp;</span>결측치 체크</a></span></li><li><span><a href=\"#종속변수-클래스-분포-확인해보기\" data-toc-modified-id=\"종속변수-클래스-분포-확인해보기-1.3.2\"><span class=\"toc-item-num\">1.3.2&nbsp;&nbsp;</span>종속변수 클래스 분포 확인해보기</a></span></li><li><span><a href=\"#수치형-변수-기술통계량-살펴보기\" data-toc-modified-id=\"수치형-변수-기술통계량-살펴보기-1.3.3\"><span class=\"toc-item-num\">1.3.3&nbsp;&nbsp;</span>수치형 변수 기술통계량 살펴보기</a></span></li><li><span><a href=\"#class가-2인값은-양성이므로-0으로-4를-1로-값-바꾸기\" data-toc-modified-id=\"class가-2인값은-양성이므로-0으로-4를-1로-값-바꾸기-1.3.4\"><span class=\"toc-item-num\">1.3.4&nbsp;&nbsp;</span>class가 2인값은 양성이므로 0으로 4를 1로 값 바꾸기</a></span></li></ul></li><li><span><a href=\"#수치형-변수들-Scaling-하기-위해-우선-Feature들을-벡터로-전환!\" data-toc-modified-id=\"수치형-변수들-Scaling-하기-위해-우선-Feature들을-벡터로-전환!-1.4\"><span class=\"toc-item-num\">1.4&nbsp;&nbsp;</span>수치형 변수들 Scaling 하기 위해 우선 Feature들을 벡터로 전환!</a></span></li></ul></li></ul></div>"
   ]
  },
  {
   "cell_type": "markdown",
   "id": "executed-contrast",
   "metadata": {},
   "source": [
    "## PySpark 연습하기\n",
    "\n",
    "- 위스콘신 cancer 데이터로 분류 문제 해결하기"
   ]
  },
  {
   "cell_type": "code",
   "execution_count": 9,
   "id": "liquid-utility",
   "metadata": {},
   "outputs": [],
   "source": [
    "import pandas as pd\n",
    "import numpy as np\n",
    "\n",
    "from pyspark.sql import SparkSession\n",
    "from pyspark.sql import SQLContext"
   ]
  },
  {
   "cell_type": "markdown",
   "id": "minimal-scene",
   "metadata": {},
   "source": [
    "### SparkSession 만들기"
   ]
  },
  {
   "cell_type": "code",
   "execution_count": 10,
   "id": "attractive-ordering",
   "metadata": {},
   "outputs": [],
   "source": [
    "spark = SparkSession.builder\\\n",
    "        .appName('Cancer Classification using pyspark')\\\n",
    "        .getOrCreate()"
   ]
  },
  {
   "cell_type": "markdown",
   "id": "induced-bronze",
   "metadata": {},
   "source": [
    "### 데이터 로드"
   ]
  },
  {
   "cell_type": "code",
   "execution_count": 11,
   "id": "casual-myrtle",
   "metadata": {},
   "outputs": [
    {
     "name": "stdout",
     "output_type": "stream",
     "text": [
      "+-------+---+---+---+---+---+---+---+---+---+----+\n",
      "|    _c0|_c1|_c2|_c3|_c4|_c5|_c6|_c7|_c8|_c9|_c10|\n",
      "+-------+---+---+---+---+---+---+---+---+---+----+\n",
      "|1000025|  5|  1|  1|  1|  2|  1|  3|  1|  1|   2|\n",
      "|1002945|  5|  4|  4|  5|  7| 10|  3|  2|  1|   2|\n",
      "|1015425|  3|  1|  1|  1|  2|  2|  3|  1|  1|   2|\n",
      "|1016277|  6|  8|  8|  1|  3|  4|  3|  7|  1|   2|\n",
      "|1017023|  4|  1|  1|  3|  2|  1|  3|  1|  1|   2|\n",
      "|1017122|  8| 10| 10|  8|  7| 10|  9|  7|  1|   4|\n",
      "|1018099|  1|  1|  1|  1|  2| 10|  3|  1|  1|   2|\n",
      "|1018561|  2|  1|  2|  1|  2|  1|  3|  1|  1|   2|\n",
      "|1033078|  2|  1|  1|  1|  2|  1|  1|  1|  5|   2|\n",
      "|1033078|  4|  2|  1|  1|  2|  1|  2|  1|  1|   2|\n",
      "+-------+---+---+---+---+---+---+---+---+---+----+\n",
      "only showing top 10 rows\n",
      "\n"
     ]
    }
   ],
   "source": [
    "df = spark.read.csv('/Users/younghun/Desktop/gitrepo/data/pyspark/breast-cancer-wisconsin.data')\n",
    "df.show(10)\n"
   ]
  },
  {
   "cell_type": "code",
   "execution_count": 13,
   "id": "appropriate-electron",
   "metadata": {},
   "outputs": [
    {
     "name": "stdout",
     "output_type": "stream",
     "text": [
      "+---------+---------------+---------+----------+--------+----------------+------+---------+--------+--------+-----+\n",
      "|       id|clump_thickness|cell_size|cell_shape|adhesion|single_cell_size|nuciel|chromatin|nucleoli|mlitoses|class|\n",
      "+---------+---------------+---------+----------+--------+----------------+------+---------+--------+--------+-----+\n",
      "|1000025.0|            5.0|      1.0|       1.0|     1.0|             2.0|   1.0|      3.0|     1.0|     1.0|  2.0|\n",
      "|1002945.0|            5.0|      4.0|       4.0|     5.0|             7.0|  10.0|      3.0|     2.0|     1.0|  2.0|\n",
      "|1015425.0|            3.0|      1.0|       1.0|     1.0|             2.0|   2.0|      3.0|     1.0|     1.0|  2.0|\n",
      "|1016277.0|            6.0|      8.0|       8.0|     1.0|             3.0|   4.0|      3.0|     7.0|     1.0|  2.0|\n",
      "|1017023.0|            4.0|      1.0|       1.0|     3.0|             2.0|   1.0|      3.0|     1.0|     1.0|  2.0|\n",
      "|1017122.0|            8.0|     10.0|      10.0|     8.0|             7.0|  10.0|      9.0|     7.0|     1.0|  4.0|\n",
      "|1018099.0|            1.0|      1.0|       1.0|     1.0|             2.0|  10.0|      3.0|     1.0|     1.0|  2.0|\n",
      "|1018561.0|            2.0|      1.0|       2.0|     1.0|             2.0|   1.0|      3.0|     1.0|     1.0|  2.0|\n",
      "|1033078.0|            2.0|      1.0|       1.0|     1.0|             2.0|   1.0|      1.0|     1.0|     5.0|  2.0|\n",
      "|1033078.0|            4.0|      2.0|       1.0|     1.0|             2.0|   1.0|      2.0|     1.0|     1.0|  2.0|\n",
      "+---------+---------------+---------+----------+--------+----------------+------+---------+--------+--------+-----+\n",
      "only showing top 10 rows\n",
      "\n"
     ]
    }
   ],
   "source": [
    "# StructField, StrudType 메소드는 하단의 라이브러리에 속해있음\n",
    "from pyspark.sql.types import *\n",
    "\n",
    "# 스키마를 따로 지정해보기\n",
    "strings = 'id clump_thickness cell_size cell_shape adhesion single_cell_size nuciel chromatin nucleoli mlitoses class'\n",
    "fields = [StructField(string, FloatType(), True) for string in strings.split()]\n",
    "schema = StructType(fields)\n",
    "\n",
    "# 스키마 재정의해서 데이터 다시 로드해보기\n",
    "df = spark.read.csv('/Users/younghun/Desktop/gitrepo/data/pyspark/breast-cancer-wisconsin.data',\n",
    "                   schema=schema)\n",
    "df.show(10)"
   ]
  },
  {
   "cell_type": "markdown",
   "id": "judicial-climb",
   "metadata": {},
   "source": [
    "### 간단한 EDA\n",
    "#### 결측치 체크"
   ]
  },
  {
   "cell_type": "code",
   "execution_count": 16,
   "id": "prostate-lodging",
   "metadata": {},
   "outputs": [
    {
     "name": "stdout",
     "output_type": "stream",
     "text": [
      "['id', 'clump_thickness', 'cell_size', 'cell_shape', 'adhesion', 'single_cell_size', 'nuciel', 'chromatin', 'nucleoli', 'mlitoses', 'class'] <class 'list'>\n"
     ]
    }
   ],
   "source": [
    "# 로드한 데이터의 칼럼을 확인할 때는 Pandas와 유사하다!\n",
    "print(df.columns, type(df.columns))"
   ]
  },
  {
   "cell_type": "code",
   "execution_count": 22,
   "id": "korean-strategy",
   "metadata": {},
   "outputs": [
    {
     "name": "stdout",
     "output_type": "stream",
     "text": [
      "+---+---------------+---------+----------+--------+----------------+------+---------+--------+--------+-----+\n",
      "| id|clump_thickness|cell_size|cell_shape|adhesion|single_cell_size|nuciel|chromatin|nucleoli|mlitoses|class|\n",
      "+---+---------------+---------+----------+--------+----------------+------+---------+--------+--------+-----+\n",
      "|  0|              0|        0|         0|       0|               0|     0|        0|       0|       0|    0|\n",
      "+---+---------------+---------+----------+--------+----------------+------+---------+--------+--------+-----+\n",
      "\n"
     ]
    }
   ],
   "source": [
    "from pyspark.sql.functions import isnan, count\n",
    "\n",
    "# isnan()으로 결측치 체크하는 방법\n",
    "# when(조건, True일 때 값, False일 때 값)\n",
    "df.select([count(when(isnan(c), c)).alias(c) for c in df.columns]).show()\n"
   ]
  },
  {
   "cell_type": "code",
   "execution_count": 26,
   "id": "serial-exhibition",
   "metadata": {},
   "outputs": [
    {
     "name": "stdout",
     "output_type": "stream",
     "text": [
      "+---+---------------+---------+----------+--------+----------------+------+---------+--------+--------+-----+\n",
      "| id|clump_thickness|cell_size|cell_shape|adhesion|single_cell_size|nuciel|chromatin|nucleoli|mlitoses|class|\n",
      "+---+---------------+---------+----------+--------+----------------+------+---------+--------+--------+-----+\n",
      "|  0|              0|        0|         0|       0|               0|    16|        0|       0|       0|    0|\n",
      "+---+---------------+---------+----------+--------+----------------+------+---------+--------+--------+-----+\n",
      "\n"
     ]
    }
   ],
   "source": [
    "# isNull()로 결측치 체크하기\n",
    "# df.select([count(when(df[c].isNull(), c)).alias(c) for c in df.columns]).show()\n",
    "df.select([count(when(col(c).isNull(), c)).alias(c) for c in df.columns]).show()"
   ]
  },
  {
   "cell_type": "markdown",
   "id": "visible-castle",
   "metadata": {},
   "source": [
    "#### 종속변수 클래스 분포 확인해보기\n",
    "\n",
    "- 2 = 양성\n",
    "- 4 = 악성\n",
    "- 클래스 불균형 상태"
   ]
  },
  {
   "cell_type": "code",
   "execution_count": 29,
   "id": "blessed-chemistry",
   "metadata": {},
   "outputs": [
    {
     "name": "stdout",
     "output_type": "stream",
     "text": [
      "+-----+-----+\n",
      "|class|count|\n",
      "+-----+-----+\n",
      "|  2.0|  458|\n",
      "|  4.0|  241|\n",
      "+-----+-----+\n",
      "\n"
     ]
    }
   ],
   "source": [
    "class_df = df.groupby('class').count()\n",
    "class_df.show()"
   ]
  },
  {
   "cell_type": "code",
   "execution_count": 33,
   "id": "statewide-outside",
   "metadata": {},
   "outputs": [
    {
     "name": "stdout",
     "output_type": "stream",
     "text": [
      "+-------------------+\n",
      "|Number of malignant|\n",
      "+-------------------+\n",
      "|                241|\n",
      "+-------------------+\n",
      "\n"
     ]
    }
   ],
   "source": [
    "# 다른 방법으로 악성인 데이터 몇 개인지 확인해보기\n",
    "df.select(sum(when(df['class'] == 4, 1)).alias('Number of malignant')).show()"
   ]
  },
  {
   "cell_type": "markdown",
   "id": "precious-newsletter",
   "metadata": {},
   "source": [
    "#### 수치형 변수 기술통계량 살펴보기\n",
    "- 소수점이 너무 많아서 round 시키기"
   ]
  },
  {
   "cell_type": "code",
   "execution_count": 34,
   "id": "right-liechtenstein",
   "metadata": {},
   "outputs": [
    {
     "name": "stdout",
     "output_type": "stream",
     "text": [
      "+-------+-----------+-----+-----+-----+-----+-----+-----+-----+-----+-----+\n",
      "|summary|       id_r|  r_1|  r_2|  r_3|  r_4|  r_5|  r_6|  r_7|  r_8|  r_9|\n",
      "+-------+-----------+-----+-----+-----+-----+-----+-----+-----+-----+-----+\n",
      "|  count|      699.0|699.0|699.0|699.0|699.0|699.0|683.0|699.0|699.0|699.0|\n",
      "|   mean|  1071704.0| 4.42| 3.13| 3.21| 2.81| 3.22| 3.54| 3.44| 2.87| 1.59|\n",
      "| stddev|   617096.0| 2.82| 3.05| 2.97| 2.86| 2.21| 3.64| 2.44| 3.05| 1.72|\n",
      "|    min|    61634.0|  1.0|  1.0|  1.0|  1.0|  1.0|  1.0|  1.0|  1.0|  1.0|\n",
      "|    max|1.3454352E7| 10.0| 10.0| 10.0| 10.0| 10.0| 10.0| 10.0| 10.0| 10.0|\n",
      "+-------+-----------+-----+-----+-----+-----+-----+-----+-----+-----+-----+\n",
      "\n"
     ]
    }
   ],
   "source": [
    "import pyspark.sql.functions as F\n",
    "\n",
    "df.describe().select('summary',\n",
    "                    F.round('id', 0).alias('id_r'),\n",
    "                    F.round('clump_thickness', 2).alias('r_1'),\n",
    "                    F.round('cell_size', 2).alias('r_2'),\n",
    "                    F.round('cell_shape', 2).alias('r_3'),\n",
    "                    F.round('adhesion', 2).alias('r_4'),\n",
    "                    F.round('single_cell_size', 2).alias('r_5'),\n",
    "                    F.round('nuciel', 2).alias('r_6'),\n",
    "                    F.round('chromatin', 2).alias('r_7'),\n",
    "                    F.round('nucleoli', 2).alias('r_8'),\n",
    "                    F.round('mlitoses', 2).alias('r_9')).show(10)"
   ]
  },
  {
   "cell_type": "code",
   "execution_count": 48,
   "id": "anonymous-diversity",
   "metadata": {},
   "outputs": [
    {
     "name": "stdout",
     "output_type": "stream",
     "text": [
      "+-----+--------------------+---------------------+\n",
      "|class|Average size of cell|Average shape of cell|\n",
      "+-----+--------------------+---------------------+\n",
      "|  2.0|                1.33|                 1.44|\n",
      "|  4.0|                6.57|                 6.56|\n",
      "+-----+--------------------+---------------------+\n",
      "\n"
     ]
    }
   ],
   "source": [
    "# 클래스에 따라 가장 큰 cell_size, cell_shape 살펴보기\n",
    "df.groupBy('class').agg({'cell_size':'avg', 'cell_shape':'avg'})\\\n",
    "  .select('class',\n",
    "         F.round('avg(cell_size)', 2).alias('Average size of cell'),\n",
    "         F.round('avg(cell_shape)', 2).alias('Average shape of cell')).show()"
   ]
  },
  {
   "cell_type": "markdown",
   "id": "severe-involvement",
   "metadata": {},
   "source": [
    "- groupBy+agg한 데이터프레임을 할당한 변수를 부르면 Nonetype으로 뜨기 때문에 한 번에 이어서 select 구문에서 Round를 시키자!"
   ]
  },
  {
   "cell_type": "code",
   "execution_count": 58,
   "id": "liberal-boutique",
   "metadata": {},
   "outputs": [
    {
     "name": "stdout",
     "output_type": "stream",
     "text": [
      "['clump_thickness', 'cell_size', 'cell_shape', 'adhesion', 'single_cell_size', 'nuciel', 'chromatin', 'nucleoli', 'mlitoses']\n"
     ]
    }
   ],
   "source": [
    "cols = df.columns\n",
    "cols.pop()\n",
    "cols.remove('id')\n",
    "print(cols)"
   ]
  },
  {
   "cell_type": "code",
   "execution_count": 64,
   "id": "olive-supplement",
   "metadata": {},
   "outputs": [
    {
     "name": "stdout",
     "output_type": "stream",
     "text": [
      "+-----+---------------------+------------------+--------------------+------------------+------------------+-----------------+------------------+------------------+------------------+\n",
      "|class|avg(single_cell_size)|     avg(adhesion)|avg(clump_thickness)|    avg(cell_size)|    avg(chromatin)|  avg(cell_shape)|     avg(nucleoli)|     avg(mlitoses)|       avg(nuciel)|\n",
      "+-----+---------------------+------------------+--------------------+------------------+------------------+-----------------+------------------+------------------+------------------+\n",
      "|  2.0|   2.1200873362445414|1.3646288209606987|  2.9563318777292578|1.3253275109170306|2.1004366812227073|1.443231441048035|1.2903930131004366|1.0633187772925765|1.3468468468468469|\n",
      "|  4.0|   5.2987551867219915| 5.547717842323651|   7.195020746887967| 6.572614107883817| 5.979253112033195|6.560165975103734| 5.863070539419087|2.5892116182572615| 7.627615062761507|\n",
      "+-----+---------------------+------------------+--------------------+------------------+------------------+-----------------+------------------+------------------+------------------+\n",
      "\n"
     ]
    }
   ],
   "source": [
    "# 모든 수치형 변수들 클래스값에 따라 평균값 도출시켜보기\n",
    "df.groupby('class').agg({col: 'avg' for col in cols}).show()"
   ]
  },
  {
   "cell_type": "markdown",
   "id": "historical-paris",
   "metadata": {},
   "source": [
    "#### class가 2인값은 양성이므로 0으로 4를 1로 값 바꾸기"
   ]
  },
  {
   "cell_type": "code",
   "execution_count": 68,
   "id": "united-tomato",
   "metadata": {},
   "outputs": [
    {
     "name": "stdout",
     "output_type": "stream",
     "text": [
      "+---------+---------------+---------+----------+--------+----------------+------+---------+--------+--------+-----+\n",
      "|       id|clump_thickness|cell_size|cell_shape|adhesion|single_cell_size|nuciel|chromatin|nucleoli|mlitoses|class|\n",
      "+---------+---------------+---------+----------+--------+----------------+------+---------+--------+--------+-----+\n",
      "|1000025.0|            5.0|      1.0|       1.0|     1.0|             2.0|   1.0|      3.0|     1.0|     1.0|    0|\n",
      "|1002945.0|            5.0|      4.0|       4.0|     5.0|             7.0|  10.0|      3.0|     2.0|     1.0|    0|\n",
      "|1015425.0|            3.0|      1.0|       1.0|     1.0|             2.0|   2.0|      3.0|     1.0|     1.0|    0|\n",
      "|1016277.0|            6.0|      8.0|       8.0|     1.0|             3.0|   4.0|      3.0|     7.0|     1.0|    0|\n",
      "|1017023.0|            4.0|      1.0|       1.0|     3.0|             2.0|   1.0|      3.0|     1.0|     1.0|    0|\n",
      "|1017122.0|            8.0|     10.0|      10.0|     8.0|             7.0|  10.0|      9.0|     7.0|     1.0|    1|\n",
      "|1018099.0|            1.0|      1.0|       1.0|     1.0|             2.0|  10.0|      3.0|     1.0|     1.0|    0|\n",
      "|1018561.0|            2.0|      1.0|       2.0|     1.0|             2.0|   1.0|      3.0|     1.0|     1.0|    0|\n",
      "|1033078.0|            2.0|      1.0|       1.0|     1.0|             2.0|   1.0|      1.0|     1.0|     5.0|    0|\n",
      "|1033078.0|            4.0|      2.0|       1.0|     1.0|             2.0|   1.0|      2.0|     1.0|     1.0|    0|\n",
      "|1035283.0|            1.0|      1.0|       1.0|     1.0|             1.0|   1.0|      3.0|     1.0|     1.0|    0|\n",
      "|1036172.0|            2.0|      1.0|       1.0|     1.0|             2.0|   1.0|      2.0|     1.0|     1.0|    0|\n",
      "|1041801.0|            5.0|      3.0|       3.0|     3.0|             2.0|   3.0|      4.0|     4.0|     1.0|    1|\n",
      "|1043999.0|            1.0|      1.0|       1.0|     1.0|             2.0|   3.0|      3.0|     1.0|     1.0|    0|\n",
      "|1044572.0|            8.0|      7.0|       5.0|    10.0|             7.0|   9.0|      5.0|     5.0|     4.0|    1|\n",
      "|1047630.0|            7.0|      4.0|       6.0|     4.0|             6.0|   1.0|      4.0|     3.0|     1.0|    1|\n",
      "|1048672.0|            4.0|      1.0|       1.0|     1.0|             2.0|   1.0|      2.0|     1.0|     1.0|    0|\n",
      "|1049815.0|            4.0|      1.0|       1.0|     1.0|             2.0|   1.0|      3.0|     1.0|     1.0|    0|\n",
      "|1050670.0|           10.0|      7.0|       7.0|     6.0|             4.0|  10.0|      4.0|     1.0|     2.0|    1|\n",
      "|1050718.0|            6.0|      1.0|       1.0|     1.0|             2.0|   1.0|      3.0|     1.0|     1.0|    0|\n",
      "+---------+---------------+---------+----------+--------+----------------+------+---------+--------+--------+-----+\n",
      "only showing top 20 rows\n",
      "\n"
     ]
    }
   ],
   "source": [
    "df = df.withColumn('class',\n",
    "             when(df['class'] == 2, 0).otherwise(1))\n",
    "df.show()"
   ]
  },
  {
   "cell_type": "code",
   "execution_count": 69,
   "id": "returning-legend",
   "metadata": {},
   "outputs": [
    {
     "name": "stdout",
     "output_type": "stream",
     "text": [
      "+---------------+---------+----------+--------+----------------+------+---------+--------+--------+-----+\n",
      "|clump_thickness|cell_size|cell_shape|adhesion|single_cell_size|nuciel|chromatin|nucleoli|mlitoses|class|\n",
      "+---------------+---------+----------+--------+----------------+------+---------+--------+--------+-----+\n",
      "|            5.0|      1.0|       1.0|     1.0|             2.0|   1.0|      3.0|     1.0|     1.0|    0|\n",
      "|            5.0|      4.0|       4.0|     5.0|             7.0|  10.0|      3.0|     2.0|     1.0|    0|\n",
      "|            3.0|      1.0|       1.0|     1.0|             2.0|   2.0|      3.0|     1.0|     1.0|    0|\n",
      "|            6.0|      8.0|       8.0|     1.0|             3.0|   4.0|      3.0|     7.0|     1.0|    0|\n",
      "|            4.0|      1.0|       1.0|     3.0|             2.0|   1.0|      3.0|     1.0|     1.0|    0|\n",
      "+---------------+---------+----------+--------+----------------+------+---------+--------+--------+-----+\n",
      "only showing top 5 rows\n",
      "\n"
     ]
    }
   ],
   "source": [
    "# 필요없는 칼럼인 id drop하기\n",
    "df = df.drop('id')\n",
    "df.show(5)"
   ]
  },
  {
   "cell_type": "markdown",
   "id": "significant-world",
   "metadata": {},
   "source": [
    "### 수치형 변수들 Scaling 하기 위해 우선 Feature들을 벡터로 전환!\n",
    "\n",
    "- 피처들을 벡터로 전환할 때 결측치를 어떻게 처리하고 변환시킬지에 대한 ``setHandleInvalid`` 사용하기!\n",
    "    * ``skip``, ``keep``\n",
    "    * <a href='https://stackoverflow.com/questions/41362295/sparkexception-values-to-assemble-cannot-be-null'>관련링크 StackOverflow</a>"
   ]
  },
  {
   "cell_type": "code",
   "execution_count": 86,
   "id": "nuclear-switzerland",
   "metadata": {},
   "outputs": [
    {
     "name": "stdout",
     "output_type": "stream",
     "text": [
      "+---------------+---------+----------+--------+----------------+------+---------+--------+--------+-----+--------------------+\n",
      "|clump_thickness|cell_size|cell_shape|adhesion|single_cell_size|nuciel|chromatin|nucleoli|mlitoses|class|          ftr_vector|\n",
      "+---------------+---------+----------+--------+----------------+------+---------+--------+--------+-----+--------------------+\n",
      "|            5.0|      1.0|       1.0|     1.0|             2.0|   1.0|      3.0|     1.0|     1.0|    0|[5.0,1.0,1.0,1.0,...|\n",
      "|            5.0|      4.0|       4.0|     5.0|             7.0|  10.0|      3.0|     2.0|     1.0|    0|[5.0,4.0,4.0,5.0,...|\n",
      "|            3.0|      1.0|       1.0|     1.0|             2.0|   2.0|      3.0|     1.0|     1.0|    0|[3.0,1.0,1.0,1.0,...|\n",
      "|            6.0|      8.0|       8.0|     1.0|             3.0|   4.0|      3.0|     7.0|     1.0|    0|[6.0,8.0,8.0,1.0,...|\n",
      "|            4.0|      1.0|       1.0|     3.0|             2.0|   1.0|      3.0|     1.0|     1.0|    0|[4.0,1.0,1.0,3.0,...|\n",
      "|            8.0|     10.0|      10.0|     8.0|             7.0|  10.0|      9.0|     7.0|     1.0|    1|[8.0,10.0,10.0,8....|\n",
      "|            1.0|      1.0|       1.0|     1.0|             2.0|  10.0|      3.0|     1.0|     1.0|    0|[1.0,1.0,1.0,1.0,...|\n",
      "|            2.0|      1.0|       2.0|     1.0|             2.0|   1.0|      3.0|     1.0|     1.0|    0|[2.0,1.0,2.0,1.0,...|\n",
      "|            2.0|      1.0|       1.0|     1.0|             2.0|   1.0|      1.0|     1.0|     5.0|    0|[2.0,1.0,1.0,1.0,...|\n",
      "|            4.0|      2.0|       1.0|     1.0|             2.0|   1.0|      2.0|     1.0|     1.0|    0|[4.0,2.0,1.0,1.0,...|\n",
      "+---------------+---------+----------+--------+----------------+------+---------+--------+--------+-----+--------------------+\n",
      "only showing top 10 rows\n",
      "\n"
     ]
    }
   ],
   "source": [
    "from pyspark.ml.feature import VectorAssembler\n",
    "\n",
    "assembler = VectorAssembler(inputCols=cols,\n",
    "                           outputCol='ftr_vector')\n",
    "vectorized_df = assembler.setHandleInvalid('skip').transform(df)\n",
    "vectorized_df.show(10, truncate=True)"
   ]
  },
  {
   "cell_type": "code",
   "execution_count": 90,
   "id": "unnecessary-scene",
   "metadata": {},
   "outputs": [
    {
     "name": "stdout",
     "output_type": "stream",
     "text": [
      "+--------------------+--------------------+\n",
      "|          ftr_vector|   ftr_vector_scaled|\n",
      "+--------------------+--------------------+\n",
      "|[5.0,1.0,1.0,1.0,...|[1.77257110220912...|\n",
      "|[5.0,4.0,4.0,5.0,...|[1.77257110220912...|\n",
      "|[3.0,1.0,1.0,1.0,...|[1.06354266132547...|\n",
      "|[6.0,8.0,8.0,1.0,...|[2.12708532265095...|\n",
      "|[4.0,1.0,1.0,3.0,...|[1.41805688176730...|\n",
      "+--------------------+--------------------+\n",
      "only showing top 5 rows\n",
      "\n"
     ]
    }
   ],
   "source": [
    "# 스케일링 적용하기 \n",
    "from pyspark.ml.feature import StandardScaler\n",
    "\n",
    "scaler = StandardScaler(inputCol='ftr_vector',\n",
    "                       outputCol='ftr_vector_scaled')\n",
    "scaled_df = scaler.fit(vectorized_df).transform(vectorized_df)\n",
    "scaled_df.select('ftr_vector', 'ftr_vector_scaled').show(5)"
   ]
  }
 ],
 "metadata": {
  "hide_input": false,
  "kernelspec": {
   "display_name": "Python 3",
   "language": "python",
   "name": "python3"
  },
  "language_info": {
   "codemirror_mode": {
    "name": "ipython",
    "version": 3
   },
   "file_extension": ".py",
   "mimetype": "text/x-python",
   "name": "python",
   "nbconvert_exporter": "python",
   "pygments_lexer": "ipython3",
   "version": "3.7.7"
  },
  "toc": {
   "base_numbering": 1,
   "nav_menu": {},
   "number_sections": true,
   "sideBar": true,
   "skip_h1_title": false,
   "title_cell": "Table of Contents",
   "title_sidebar": "Contents",
   "toc_cell": true,
   "toc_position": {},
   "toc_section_display": true,
   "toc_window_display": false
  },
  "varInspector": {
   "cols": {
    "lenName": 16,
    "lenType": 16,
    "lenVar": 40
   },
   "kernels_config": {
    "python": {
     "delete_cmd_postfix": "",
     "delete_cmd_prefix": "del ",
     "library": "var_list.py",
     "varRefreshCmd": "print(var_dic_list())"
    },
    "r": {
     "delete_cmd_postfix": ") ",
     "delete_cmd_prefix": "rm(",
     "library": "var_list.r",
     "varRefreshCmd": "cat(var_dic_list()) "
    }
   },
   "types_to_exclude": [
    "module",
    "function",
    "builtin_function_or_method",
    "instance",
    "_Feature"
   ],
   "window_display": false
  }
 },
 "nbformat": 4,
 "nbformat_minor": 5
}

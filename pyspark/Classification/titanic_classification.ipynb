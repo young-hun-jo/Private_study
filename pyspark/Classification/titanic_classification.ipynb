{
 "cells": [
  {
   "cell_type": "code",
   "execution_count": 76,
   "metadata": {},
   "outputs": [],
   "source": [
    "import pandas as pd\n",
    "import numpy as np\n",
    "import os\n",
    "import matplotlib.pyplot as plt\n",
    "import seaborn as sns\n",
    "import warnings\n",
    "plt.rc('font', family='AppleGothic')\n",
    "plt.rcParams['axes.unicode_minus'] = False\n",
    "warnings.filterwarnings(action='ignore')"
   ]
  },
  {
   "cell_type": "code",
   "execution_count": 77,
   "metadata": {},
   "outputs": [],
   "source": [
    "# Pyspark - SQL\n",
    "from pyspark.sql import SparkSession\n",
    "from pyspark.sql import SQLContext\n",
    "from pyspark.sql.functions import mean, col, split, regexp_extract, when, lit\n",
    "\n",
    "# Pyspark - ML\n",
    "from pyspark.ml import Pipeline\n",
    "from pyspark.ml.feature import StringIndexer, VectorAssembler\n",
    "from pyspark.ml.evaluation import MulticlassClassificationEvaluator\n",
    "from pyspark.ml.feature import QuantileDiscretizer"
   ]
  },
  {
   "cell_type": "markdown",
   "metadata": {},
   "source": [
    "### 데이터 로드"
   ]
  },
  {
   "cell_type": "markdown",
   "metadata": {},
   "source": [
    "- Pyspark에서 데이터 로드할 때는 ``os.chdir()``로 디렉토리명 바꾸어도 적용이 안됨!"
   ]
  },
  {
   "cell_type": "code",
   "execution_count": 79,
   "metadata": {},
   "outputs": [],
   "source": [
    "spark = SparkSession.builder\\\n",
    "        .appName('Play with pypsark ML on Titanic Data')\\\n",
    "        .getOrCreate()\n",
    "df = spark.read.csv('/Users/younghun/Desktop/gitrepo/data/titanic/train.csv', header=True, inferSchema=True)"
   ]
  },
  {
   "cell_type": "code",
   "execution_count": 80,
   "metadata": {},
   "outputs": [
    {
     "data": {
      "text/html": [
       "<div>\n",
       "<style scoped>\n",
       "    .dataframe tbody tr th:only-of-type {\n",
       "        vertical-align: middle;\n",
       "    }\n",
       "\n",
       "    .dataframe tbody tr th {\n",
       "        vertical-align: top;\n",
       "    }\n",
       "\n",
       "    .dataframe thead th {\n",
       "        text-align: right;\n",
       "    }\n",
       "</style>\n",
       "<table border=\"1\" class=\"dataframe\">\n",
       "  <thead>\n",
       "    <tr style=\"text-align: right;\">\n",
       "      <th></th>\n",
       "      <th>PassengerId</th>\n",
       "      <th>Survived</th>\n",
       "      <th>Pclass</th>\n",
       "      <th>Name</th>\n",
       "      <th>Sex</th>\n",
       "      <th>Age</th>\n",
       "      <th>SibSp</th>\n",
       "      <th>Parch</th>\n",
       "      <th>Ticket</th>\n",
       "      <th>Fare</th>\n",
       "      <th>Cabin</th>\n",
       "      <th>Embarked</th>\n",
       "    </tr>\n",
       "  </thead>\n",
       "  <tbody>\n",
       "    <tr>\n",
       "      <th>0</th>\n",
       "      <td>1</td>\n",
       "      <td>0</td>\n",
       "      <td>3</td>\n",
       "      <td>Braund, Mr. Owen Harris</td>\n",
       "      <td>male</td>\n",
       "      <td>22.0</td>\n",
       "      <td>1</td>\n",
       "      <td>0</td>\n",
       "      <td>A/5 21171</td>\n",
       "      <td>7.2500</td>\n",
       "      <td>None</td>\n",
       "      <td>S</td>\n",
       "    </tr>\n",
       "    <tr>\n",
       "      <th>1</th>\n",
       "      <td>2</td>\n",
       "      <td>1</td>\n",
       "      <td>1</td>\n",
       "      <td>Cumings, Mrs. John Bradley (Florence Briggs Th...</td>\n",
       "      <td>female</td>\n",
       "      <td>38.0</td>\n",
       "      <td>1</td>\n",
       "      <td>0</td>\n",
       "      <td>PC 17599</td>\n",
       "      <td>71.2833</td>\n",
       "      <td>C85</td>\n",
       "      <td>C</td>\n",
       "    </tr>\n",
       "    <tr>\n",
       "      <th>2</th>\n",
       "      <td>3</td>\n",
       "      <td>1</td>\n",
       "      <td>3</td>\n",
       "      <td>Heikkinen, Miss. Laina</td>\n",
       "      <td>female</td>\n",
       "      <td>26.0</td>\n",
       "      <td>0</td>\n",
       "      <td>0</td>\n",
       "      <td>STON/O2. 3101282</td>\n",
       "      <td>7.9250</td>\n",
       "      <td>None</td>\n",
       "      <td>S</td>\n",
       "    </tr>\n",
       "  </tbody>\n",
       "</table>\n",
       "</div>"
      ],
      "text/plain": [
       "   PassengerId  Survived  Pclass  \\\n",
       "0            1         0       3   \n",
       "1            2         1       1   \n",
       "2            3         1       3   \n",
       "\n",
       "                                                Name     Sex   Age  SibSp  \\\n",
       "0                            Braund, Mr. Owen Harris    male  22.0      1   \n",
       "1  Cumings, Mrs. John Bradley (Florence Briggs Th...  female  38.0      1   \n",
       "2                             Heikkinen, Miss. Laina  female  26.0      0   \n",
       "\n",
       "   Parch            Ticket     Fare Cabin Embarked  \n",
       "0      0         A/5 21171   7.2500  None        S  \n",
       "1      0          PC 17599  71.2833   C85        C  \n",
       "2      0  STON/O2. 3101282   7.9250  None        S  "
      ]
     },
     "execution_count": 80,
     "metadata": {},
     "output_type": "execute_result"
    }
   ],
   "source": [
    "# toPandas()를 이용해 판다스에서 제공하는 데이터프레임 형태로 출력\n",
    "df.limit(num=3).toPandas()"
   ]
  },
  {
   "cell_type": "code",
   "execution_count": 81,
   "metadata": {},
   "outputs": [
    {
     "name": "stdout",
     "output_type": "stream",
     "text": [
      "root\n",
      " |-- PassengerId: integer (nullable = true)\n",
      " |-- Survived: integer (nullable = true)\n",
      " |-- Pclass: integer (nullable = true)\n",
      " |-- Name: string (nullable = true)\n",
      " |-- Sex: string (nullable = true)\n",
      " |-- Age: double (nullable = true)\n",
      " |-- SibSp: integer (nullable = true)\n",
      " |-- Parch: integer (nullable = true)\n",
      " |-- Ticket: string (nullable = true)\n",
      " |-- Fare: double (nullable = true)\n",
      " |-- Cabin: string (nullable = true)\n",
      " |-- Embarked: string (nullable = true)\n",
      "\n"
     ]
    }
   ],
   "source": [
    "# 데이터 스키마 살펴보기\n",
    "df.printSchema()"
   ]
  },
  {
   "cell_type": "markdown",
   "metadata": {},
   "source": [
    "### 데이터 시각화\n",
    "- Matplotlib, Seaborn 등을 이용하려면 ``SparkDataFrame``➡️``PandasDataFrame``으로 변경해주고 수행해야 함!"
   ]
  },
  {
   "cell_type": "code",
   "execution_count": 82,
   "metadata": {},
   "outputs": [
    {
     "name": "stdout",
     "output_type": "stream",
     "text": [
      "pandas_df 타입: <class 'pandas.core.frame.DataFrame'>\n"
     ]
    },
    {
     "data": {
      "image/png": "[encoded data removed]",
      "text/plain": [
       "<Figure size 720x360 with 1 Axes>"
      ]
     },
     "metadata": {
      "needs_background": "light"
     },
     "output_type": "display_data"
    }
   ],
   "source": [
    "pandas_df = df.toPandas()\n",
    "print(\"pandas_df 타입:\", type(pandas_df))\n",
    "\n",
    "# Seaborn 사용해보기\n",
    "plt.figure(figsize=(10, 5))\n",
    "plt.title(\"타이타닉 탑승객의 Age KDE 분포\")\n",
    "sns.distplot(pandas_df['Age'])\n",
    "plt.show()"
   ]
  },
  {
   "cell_type": "markdown",
   "metadata": {},
   "source": [
    "### Pyspark에서 결측치 체크하기"
   ]
  },
  {
   "cell_type": "markdown",
   "metadata": {},
   "source": [
    "- 결측치 체크하는 방법\n",
    "    * 1. ``isnan()``: ``pyspark.sql.functions`` 패키지에 속함\n",
    "        * ``isnan(column)``: 결측치가 존재하는 변수인지 체크하기 위함\n",
    "    * 2. ``isNull()``: ``pyspark.sql.Column`` 패키지에 속함\n",
    "        * ``isNull()``은 아무런 변수 넣지 않음\n",
    "<br><br>\n",
    "- ``when(조건, 조건 True시 value출력).otherwise(앞의 조건 False시 value출력)``\n",
    "    * 조건에 여러 조건을 달려면 논리연산자 ``|``, ``&`` 사용 가능"
   ]
  },
  {
   "cell_type": "code",
   "execution_count": 83,
   "metadata": {},
   "outputs": [
    {
     "name": "stdout",
     "output_type": "stream",
     "text": [
      "+-----------+--------+------+----+---+---+-----+-----+------+----+-----+--------+\n",
      "|PassengerId|Survived|Pclass|Name|Sex|Age|SibSp|Parch|Ticket|Fare|Cabin|Embarked|\n",
      "+-----------+--------+------+----+---+---+-----+-----+------+----+-----+--------+\n",
      "|          0|       0|     0|   0|  0|177|    0|    0|     0|   0|  687|       2|\n",
      "+-----------+--------+------+----+---+---+-----+-----+------+----+-----+--------+\n",
      "\n"
     ]
    }
   ],
   "source": [
    "# 위 2가지 방법을 동시에 사용해보자!\n",
    "# 결측치가 있는 변수를 체크하고 결측치가 몇 개 있는지 살펴보기\n",
    "from pyspark.sql.functions import isnan, count\n",
    "\n",
    "# [count~] 부분은 list comprehension이면서 select([column]) 부분임!\n",
    "# [count(~~) 변수를 'c'라는 변수로 alias하는 것임!] \n",
    "df.select([count(when(isnan(c) | col(c).isNull(), c)).alias(c) for c in df.columns])\\\n",
    "  .show()"
   ]
  },
  {
   "cell_type": "markdown",
   "metadata": {},
   "source": [
    "- 변수 삭제하는 법\n",
    "    * ``df.drop('column')`` 단, inplace=False이기 때문에 재할당 해주어야 함!"
   ]
  },
  {
   "cell_type": "code",
   "execution_count": 84,
   "metadata": {},
   "outputs": [],
   "source": [
    "# Cabin 변수는 결측치가 50%가 넘기 때문에 해당 변수를 삭제하자\n",
    "df = df.drop('Cabin')"
   ]
  },
  {
   "cell_type": "markdown",
   "metadata": {},
   "source": [
    "- 연령의 결측치 대체하기\n",
    "- 그런데, 승객들의 이름 앞에 ``Mr, Mrs``와 같은 salutation들이 존재하므로 이것을 기준으로 분할하고 각각의 평균값을 결측치 대체값으로 넣어주기\n",
    "- Pyspark에서 제공하는 정규표현식 API 이용\n",
    "    * ``regexp_extract(col('칼럼'), \"정규표현식\","
   ]
  },
  {
   "cell_type": "code",
   "execution_count": 85,
   "metadata": {},
   "outputs": [
    {
     "name": "stdout",
     "output_type": "stream",
     "text": [
      "+-----------+--------+------+--------------------+------+----+-----+-----+----------------+-------+--------+-------+\n",
      "|PassengerId|Survived|Pclass|                Name|   Sex| Age|SibSp|Parch|          Ticket|   Fare|Embarked|Initial|\n",
      "+-----------+--------+------+--------------------+------+----+-----+-----+----------------+-------+--------+-------+\n",
      "|          1|       0|     3|Braund, Mr. Owen ...|  male|22.0|    1|    0|       A/5 21171|   7.25|       S|     Mr|\n",
      "|          2|       1|     1|Cumings, Mrs. Joh...|female|38.0|    1|    0|        PC 17599|71.2833|       C|    Mrs|\n",
      "|          3|       1|     3|Heikkinen, Miss. ...|female|26.0|    0|    0|STON/O2. 3101282|  7.925|       S|   Miss|\n",
      "+-----------+--------+------+--------------------+------+----+-----+-----+----------------+-------+--------+-------+\n",
      "\n"
     ]
    }
   ],
   "source": [
    "df = df.withColumn(\"Initial\", regexp_extract(col(\"Name\"),\n",
    "                                            \"([A-Za-z]+)\\.\", # ()이게 하나의 그룹임!\n",
    "                                            1)) # 그룹 인덱스는 1부터!\n",
    "df.limit(3).show()"
   ]
  },
  {
   "cell_type": "markdown",
   "metadata": {},
   "source": [
    "- 오탈자 대체하기\n",
    "    * ``df.replace([오탈자], [수정된 글자])``"
   ]
  },
  {
   "cell_type": "markdown",
   "metadata": {},
   "source": [
    "- ``collect()``: 적은 양의 데이터셋을 retrieve할 때!(큰 데이터셋은 메모리 에러 발생). ``select()``와 유사한 기능\n",
    "    * 보통 ``filter()``, ``group()``, ``count()`` 후 사용\n",
    "    * ``collect()``로 아무것도 넣지않으면 데이터프레임의 모든 row를 반환\n",
    "    * 하지만 dataframe형태로 반환하지 않음. , pyspark Row타입의 데이터가 담긴 list를 반환하는데 이를 loop 사용가능함!"
   ]
  },
  {
   "cell_type": "code",
   "execution_count": 86,
   "metadata": {},
   "outputs": [
    {
     "data": {
      "text/plain": [
       "[Row(Initial='Miss', avg(Age)=21.86),\n",
       " Row(Initial='Other', avg(Age)=45.888888888888886),\n",
       " Row(Initial='Master', avg(Age)=4.574166666666667),\n",
       " Row(Initial='Mr', avg(Age)=32.73960880195599),\n",
       " Row(Initial='Mrs', avg(Age)=35.981818181818184)]"
      ]
     },
     "execution_count": 86,
     "metadata": {},
     "output_type": "execute_result"
    }
   ],
   "source": [
    "df = df.replace(['Mlle','Mme', 'Ms', 'Dr','Major','Lady','Countess','Jonkheer','Col','Rev','Capt','Sir','Don'],\n",
    "                ['Miss','Miss','Miss','Mr','Mr',  'Mrs',  'Mrs',  'Other',  'Other','Other','Mr','Mr','Mr'])\n",
    "\n",
    "# Initial 변수 값들로 그룹핑한 후 평균 Age 구하기\n",
    "df.groupby('Initial').avg('Age').collect()"
   ]
  },
  {
   "cell_type": "code",
   "execution_count": 87,
   "metadata": {},
   "outputs": [
    {
     "name": "stdout",
     "output_type": "stream",
     "text": [
      "<class 'list'> <class 'pyspark.sql.types.Row'>\n"
     ]
    }
   ],
   "source": [
    "test = df.groupby('Initial').avg('Age').collect()\n",
    "print(type(test), type(test[0]))"
   ]
  },
  {
   "cell_type": "markdown",
   "metadata": {},
   "source": [
    "### Pyspark에서 결측치 대체\n",
    "- 위에서 도출한 연령별 평균값을 대체하기"
   ]
  },
  {
   "cell_type": "code",
   "execution_count": 88,
   "metadata": {},
   "outputs": [],
   "source": [
    "df = df.withColumn('Age',\n",
    "                  when((df['Initial'] == 'Miss') & (df['Age'].isNull()),\n",
    "                      22).otherwise(df['Age']))\n",
    "df = df.withColumn('Age',\n",
    "                  when((df['Initial'] == 'Other') & (df['Age'].isNull()),\n",
    "                      46).otherwise(df['Age']))\n",
    "df = df.withColumn('Age',\n",
    "                  when((df['Initial'] == 'Master') & (df['Age'].isNull()),\n",
    "                      5).otherwise(df['Age']))\n",
    "df = df.withColumn('Age',\n",
    "                  when((df['Initial'] == 'Mr') & (df['Age'].isNull()),\n",
    "                      33).otherwise(df['Age']))\n",
    "df = df.withColumn('Age',\n",
    "                  when((df['Initial'] == 'Mrs') & (df['Age'].isNull()),\n",
    "                      36).otherwise(df['Age']))"
   ]
  },
  {
   "cell_type": "code",
   "execution_count": 89,
   "metadata": {},
   "outputs": [
    {
     "name": "stdout",
     "output_type": "stream",
     "text": [
      "+--------+-----+\n",
      "|Embarked|count|\n",
      "+--------+-----+\n",
      "|       Q|   77|\n",
      "|    null|    2|\n",
      "|       C|  168|\n",
      "|       S|  644|\n",
      "+--------+-----+\n",
      "\n"
     ]
    }
   ],
   "source": [
    "# Embarked 변수에도 결측치가 2개 있었는데 무엇인지 확인해보기\n",
    "df.groupBy('Embarked').count().show()"
   ]
  },
  {
   "cell_type": "markdown",
   "metadata": {},
   "source": [
    "- PysparkDataFrame의 결측치 채우는 함수\n",
    "    * ``df.na.fill({'column': 'value'})``"
   ]
  },
  {
   "cell_type": "code",
   "execution_count": 90,
   "metadata": {},
   "outputs": [],
   "source": [
    "# Embarked의 결측치는 최빈값인 'S'로 대체해주기\n",
    "df = df.na.fill({\"Embarked\": \"S\"})"
   ]
  },
  {
   "cell_type": "code",
   "execution_count": 91,
   "metadata": {},
   "outputs": [
    {
     "name": "stdout",
     "output_type": "stream",
     "text": [
      "+--------+-----+\n",
      "|Embarked|count|\n",
      "+--------+-----+\n",
      "|       Q|   77|\n",
      "|       C|  168|\n",
      "|       S|  646|\n",
      "+--------+-----+\n",
      "\n"
     ]
    }
   ],
   "source": [
    "df.groupBy('Embarked').count().show()"
   ]
  },
  {
   "cell_type": "code",
   "execution_count": 92,
   "metadata": {},
   "outputs": [
    {
     "name": "stdout",
     "output_type": "stream",
     "text": [
      "+-----------+--------+------+----+---+---+-----+-----+------+----+--------+-------+\n",
      "|PassengerId|Survived|Pclass|Name|Sex|Age|SibSp|Parch|Ticket|Fare|Embarked|Initial|\n",
      "+-----------+--------+------+----+---+---+-----+-----+------+----+--------+-------+\n",
      "|          0|       0|     0|   0|  0|  0|    0|    0|     0|   0|       0|      0|\n",
      "+-----------+--------+------+----+---+---+-----+-----+------+----+--------+-------+\n",
      "\n"
     ]
    }
   ],
   "source": [
    "# 결측치가 있는 변수가 있는지 재확인!\n",
    "df.select([count(when(isnan(c) | df[c].isNull(), c)).alias(c) for c in df.columns]).show()"
   ]
  },
  {
   "cell_type": "markdown",
   "metadata": {},
   "source": [
    "### Feature Engineering\n",
    "- Pyspark의 ``withColumn``, ``when ~ otherwise``주로 사용!\n",
    "- 변수 추출하는 동일한 표현: ``df['SibSp'] = col('SibSp')``"
   ]
  },
  {
   "cell_type": "code",
   "execution_count": 93,
   "metadata": {},
   "outputs": [],
   "source": [
    "# Family size라는 파생변수 생성\n",
    "df = df.withColumn(\"Family_Size\",\n",
    "                  col('SibSp')+col('Parch')) # df['SibSp']도 가능!\n",
    "\n",
    "# Alone이라는 Binary 파생변수 생성하는데, 우선 0으로 다 해놓기\n",
    "df = df.withColumn('Alone', lit(0))\n",
    "# 조건에 맞게 Alone 변수값 변경\n",
    "df = df.withColumn('Alone',\n",
    "                  when(col('Family_Size') == 0, 1)\\\n",
    "                  .otherwise(col('Alone')))"
   ]
  },
  {
   "cell_type": "markdown",
   "metadata": {},
   "source": [
    "- 문자열로 이루어져있는 Sex, Embarked, Initial을 숫자로 바꾸어주기(일종의 **Label Encoding**)\n",
    "    * ``StringIndexer(inputCol, outputCol)`` 사용!\n",
    "    * ``fit(df)``한 객체에서 역으로 IndexToString 사용가능하니 fit, transform 따로 할당해주기!\n",
    "    * ``transform(df)``"
   ]
  },
  {
   "cell_type": "code",
   "execution_count": 94,
   "metadata": {},
   "outputs": [
    {
     "name": "stdout",
     "output_type": "stream",
     "text": [
      "StringIndexerModel: uid=StringIndexer_bb1ea92802a9, handleInvalid=error\n",
      "--------------------------------------------------------------------------------\n",
      "StringIndexerModel: uid=StringIndexer_81e8ee1eb63a, handleInvalid=error\n",
      "--------------------------------------------------------------------------------\n",
      "StringIndexerModel: uid=StringIndexer_fa10a2871e0e, handleInvalid=error\n",
      "--------------------------------------------------------------------------------\n",
      "<class 'list'>\n"
     ]
    }
   ],
   "source": [
    "convert_cols = ['Sex', 'Embarked', 'Initial']\n",
    "\n",
    "# 추후에 IndexToString할려면 indexer 객체를 사용하면 됨! \n",
    "indexer = [StringIndexer(inputCol=col,\n",
    "                         outputCol=col+'_index').fit(df) for col in convert_cols]\n",
    "for i in indexer:\n",
    "    print(i)\n",
    "    print('-'*80)\n",
    "    \n",
    "print(type(indexer))"
   ]
  },
  {
   "cell_type": "code",
   "execution_count": 95,
   "metadata": {},
   "outputs": [
    {
     "data": {
      "text/html": [
       "<div>\n",
       "<style scoped>\n",
       "    .dataframe tbody tr th:only-of-type {\n",
       "        vertical-align: middle;\n",
       "    }\n",
       "\n",
       "    .dataframe tbody tr th {\n",
       "        vertical-align: top;\n",
       "    }\n",
       "\n",
       "    .dataframe thead th {\n",
       "        text-align: right;\n",
       "    }\n",
       "</style>\n",
       "<table border=\"1\" class=\"dataframe\">\n",
       "  <thead>\n",
       "    <tr style=\"text-align: right;\">\n",
       "      <th></th>\n",
       "      <th>PassengerId</th>\n",
       "      <th>Survived</th>\n",
       "      <th>Pclass</th>\n",
       "      <th>Name</th>\n",
       "      <th>Sex</th>\n",
       "      <th>Age</th>\n",
       "      <th>SibSp</th>\n",
       "      <th>Parch</th>\n",
       "      <th>Ticket</th>\n",
       "      <th>Fare</th>\n",
       "      <th>Embarked</th>\n",
       "      <th>Initial</th>\n",
       "      <th>Family_Size</th>\n",
       "      <th>Alone</th>\n",
       "      <th>Sex_index</th>\n",
       "      <th>Embarked_index</th>\n",
       "      <th>Initial_index</th>\n",
       "    </tr>\n",
       "  </thead>\n",
       "  <tbody>\n",
       "    <tr>\n",
       "      <th>0</th>\n",
       "      <td>1</td>\n",
       "      <td>0</td>\n",
       "      <td>3</td>\n",
       "      <td>Braund, Mr. Owen Harris</td>\n",
       "      <td>male</td>\n",
       "      <td>22.0</td>\n",
       "      <td>1</td>\n",
       "      <td>0</td>\n",
       "      <td>A/5 21171</td>\n",
       "      <td>7.2500</td>\n",
       "      <td>S</td>\n",
       "      <td>Mr</td>\n",
       "      <td>1</td>\n",
       "      <td>0</td>\n",
       "      <td>0.0</td>\n",
       "      <td>0.0</td>\n",
       "      <td>0.0</td>\n",
       "    </tr>\n",
       "    <tr>\n",
       "      <th>1</th>\n",
       "      <td>2</td>\n",
       "      <td>1</td>\n",
       "      <td>1</td>\n",
       "      <td>Cumings, Mrs. John Bradley (Florence Briggs Th...</td>\n",
       "      <td>female</td>\n",
       "      <td>38.0</td>\n",
       "      <td>1</td>\n",
       "      <td>0</td>\n",
       "      <td>PC 17599</td>\n",
       "      <td>71.2833</td>\n",
       "      <td>C</td>\n",
       "      <td>Mrs</td>\n",
       "      <td>1</td>\n",
       "      <td>0</td>\n",
       "      <td>1.0</td>\n",
       "      <td>1.0</td>\n",
       "      <td>2.0</td>\n",
       "    </tr>\n",
       "    <tr>\n",
       "      <th>2</th>\n",
       "      <td>3</td>\n",
       "      <td>1</td>\n",
       "      <td>3</td>\n",
       "      <td>Heikkinen, Miss. Laina</td>\n",
       "      <td>female</td>\n",
       "      <td>26.0</td>\n",
       "      <td>0</td>\n",
       "      <td>0</td>\n",
       "      <td>STON/O2. 3101282</td>\n",
       "      <td>7.9250</td>\n",
       "      <td>S</td>\n",
       "      <td>Miss</td>\n",
       "      <td>0</td>\n",
       "      <td>1</td>\n",
       "      <td>1.0</td>\n",
       "      <td>0.0</td>\n",
       "      <td>1.0</td>\n",
       "    </tr>\n",
       "  </tbody>\n",
       "</table>\n",
       "</div>"
      ],
      "text/plain": [
       "   PassengerId  Survived  Pclass  \\\n",
       "0            1         0       3   \n",
       "1            2         1       1   \n",
       "2            3         1       3   \n",
       "\n",
       "                                                Name     Sex   Age  SibSp  \\\n",
       "0                            Braund, Mr. Owen Harris    male  22.0      1   \n",
       "1  Cumings, Mrs. John Bradley (Florence Briggs Th...  female  38.0      1   \n",
       "2                             Heikkinen, Miss. Laina  female  26.0      0   \n",
       "\n",
       "   Parch            Ticket     Fare Embarked Initial  Family_Size  Alone  \\\n",
       "0      0         A/5 21171   7.2500        S      Mr            1      0   \n",
       "1      0          PC 17599  71.2833        C     Mrs            1      0   \n",
       "2      0  STON/O2. 3101282   7.9250        S    Miss            0      1   \n",
       "\n",
       "   Sex_index  Embarked_index  Initial_index  \n",
       "0        0.0             0.0            0.0  \n",
       "1        1.0             1.0            2.0  \n",
       "2        1.0             0.0            1.0  "
      ]
     },
     "execution_count": 95,
     "metadata": {},
     "output_type": "execute_result"
    }
   ],
   "source": [
    "# Pipeline을 이용해 stage에다가 실행 과정 담아 넘기기\n",
    "pipeline = Pipeline(stages=indexer)\n",
    "df = pipeline.fit(df).transform(df)\n",
    "df.limit(3).toPandas()"
   ]
  },
  {
   "cell_type": "code",
   "execution_count": 96,
   "metadata": {},
   "outputs": [
    {
     "data": {
      "text/plain": [
       "0.0    529\n",
       "1.0    186\n",
       "2.0    127\n",
       "3.0     40\n",
       "4.0      9\n",
       "Name: Initial_index, dtype: int64"
      ]
     },
     "execution_count": 96,
     "metadata": {},
     "output_type": "execute_result"
    }
   ],
   "source": [
    "pandas_df = df.toPandas()\n",
    "pandas_df['Initial_index'].value_counts()"
   ]
  },
  {
   "cell_type": "markdown",
   "metadata": {},
   "source": [
    "- 모델링에 필요없는 변수들 삭제\n",
    "    * 직접 변수들 정의하는 방식: ``df.drop('col1', 'col2', col3')\n",
    "    * ``*``(unpacking)을 이용하는 방식도 존재!"
   ]
  },
  {
   "cell_type": "code",
   "execution_count": 98,
   "metadata": {},
   "outputs": [
    {
     "name": "stdout",
     "output_type": "stream",
     "text": [
      "삭제 후 남은 칼럼들: ['Survived', 'Pclass', 'Age', 'SibSp', 'Parch', 'Fare', 'Family_Size', 'Alone', 'Sex_index', 'Embarked_index', 'Initial_index']\n"
     ]
    }
   ],
   "source": [
    "un_cols = [\"PassengerId\",\"Name\",\"Ticket\",\"Cabin\",\"Embarked\",\"Sex\",\"Initial\"]\n",
    "\n",
    "df = df.drop(*un_cols)\n",
    "print(\"삭제 후 남은 칼럼들:\", df.columns)"
   ]
  },
  {
   "cell_type": "markdown",
   "metadata": {},
   "source": [
    "### Convert all features to Vector"
   ]
  },
  {
   "cell_type": "markdown",
   "metadata": {},
   "source": [
    "- ``VectorAssembler(inputCols, outputCol)``\n",
    "    * ``StringIndexer``와는 달리 ``inputCol``에 ``s``가 붙어있음!\n",
    "    * fit 존재하지 않고 바로 ``transform(df)`` 수행!"
   ]
  },
  {
   "cell_type": "code",
   "execution_count": 99,
   "metadata": {},
   "outputs": [
    {
     "name": "stdout",
     "output_type": "stream",
     "text": [
      "feature type: <class 'pyspark.ml.feature.VectorAssembler'>\n",
      "feature_vector type <class 'pyspark.sql.dataframe.DataFrame'>\n"
     ]
    },
    {
     "data": {
      "text/html": [
       "<div>\n",
       "<style scoped>\n",
       "    .dataframe tbody tr th:only-of-type {\n",
       "        vertical-align: middle;\n",
       "    }\n",
       "\n",
       "    .dataframe tbody tr th {\n",
       "        vertical-align: top;\n",
       "    }\n",
       "\n",
       "    .dataframe thead th {\n",
       "        text-align: right;\n",
       "    }\n",
       "</style>\n",
       "<table border=\"1\" class=\"dataframe\">\n",
       "  <thead>\n",
       "    <tr style=\"text-align: right;\">\n",
       "      <th></th>\n",
       "      <th>Survived</th>\n",
       "      <th>Pclass</th>\n",
       "      <th>Age</th>\n",
       "      <th>SibSp</th>\n",
       "      <th>Parch</th>\n",
       "      <th>Fare</th>\n",
       "      <th>Family_Size</th>\n",
       "      <th>Alone</th>\n",
       "      <th>Sex_index</th>\n",
       "      <th>Embarked_index</th>\n",
       "      <th>Initial_index</th>\n",
       "      <th>features</th>\n",
       "    </tr>\n",
       "  </thead>\n",
       "  <tbody>\n",
       "    <tr>\n",
       "      <th>0</th>\n",
       "      <td>0</td>\n",
       "      <td>3</td>\n",
       "      <td>22.0</td>\n",
       "      <td>1</td>\n",
       "      <td>0</td>\n",
       "      <td>7.2500</td>\n",
       "      <td>1</td>\n",
       "      <td>0</td>\n",
       "      <td>0.0</td>\n",
       "      <td>0.0</td>\n",
       "      <td>0.0</td>\n",
       "      <td>(3.0, 22.0, 1.0, 0.0, 7.25, 1.0, 0.0, 0.0, 0.0...</td>\n",
       "    </tr>\n",
       "    <tr>\n",
       "      <th>1</th>\n",
       "      <td>1</td>\n",
       "      <td>1</td>\n",
       "      <td>38.0</td>\n",
       "      <td>1</td>\n",
       "      <td>0</td>\n",
       "      <td>71.2833</td>\n",
       "      <td>1</td>\n",
       "      <td>0</td>\n",
       "      <td>1.0</td>\n",
       "      <td>1.0</td>\n",
       "      <td>2.0</td>\n",
       "      <td>[1.0, 38.0, 1.0, 0.0, 71.2833, 1.0, 0.0, 1.0, ...</td>\n",
       "    </tr>\n",
       "    <tr>\n",
       "      <th>2</th>\n",
       "      <td>1</td>\n",
       "      <td>3</td>\n",
       "      <td>26.0</td>\n",
       "      <td>0</td>\n",
       "      <td>0</td>\n",
       "      <td>7.9250</td>\n",
       "      <td>0</td>\n",
       "      <td>1</td>\n",
       "      <td>1.0</td>\n",
       "      <td>0.0</td>\n",
       "      <td>1.0</td>\n",
       "      <td>[3.0, 26.0, 0.0, 0.0, 7.925, 0.0, 1.0, 1.0, 0....</td>\n",
       "    </tr>\n",
       "    <tr>\n",
       "      <th>3</th>\n",
       "      <td>1</td>\n",
       "      <td>1</td>\n",
       "      <td>35.0</td>\n",
       "      <td>1</td>\n",
       "      <td>0</td>\n",
       "      <td>53.1000</td>\n",
       "      <td>1</td>\n",
       "      <td>0</td>\n",
       "      <td>1.0</td>\n",
       "      <td>0.0</td>\n",
       "      <td>2.0</td>\n",
       "      <td>[1.0, 35.0, 1.0, 0.0, 53.1, 1.0, 0.0, 1.0, 0.0...</td>\n",
       "    </tr>\n",
       "    <tr>\n",
       "      <th>4</th>\n",
       "      <td>0</td>\n",
       "      <td>3</td>\n",
       "      <td>35.0</td>\n",
       "      <td>0</td>\n",
       "      <td>0</td>\n",
       "      <td>8.0500</td>\n",
       "      <td>0</td>\n",
       "      <td>1</td>\n",
       "      <td>0.0</td>\n",
       "      <td>0.0</td>\n",
       "      <td>0.0</td>\n",
       "      <td>(3.0, 35.0, 0.0, 0.0, 8.05, 0.0, 1.0, 0.0, 0.0...</td>\n",
       "    </tr>\n",
       "    <tr>\n",
       "      <th>5</th>\n",
       "      <td>0</td>\n",
       "      <td>3</td>\n",
       "      <td>33.0</td>\n",
       "      <td>0</td>\n",
       "      <td>0</td>\n",
       "      <td>8.4583</td>\n",
       "      <td>0</td>\n",
       "      <td>1</td>\n",
       "      <td>0.0</td>\n",
       "      <td>2.0</td>\n",
       "      <td>0.0</td>\n",
       "      <td>(3.0, 33.0, 0.0, 0.0, 8.4583, 0.0, 1.0, 0.0, 2...</td>\n",
       "    </tr>\n",
       "    <tr>\n",
       "      <th>6</th>\n",
       "      <td>0</td>\n",
       "      <td>1</td>\n",
       "      <td>54.0</td>\n",
       "      <td>0</td>\n",
       "      <td>0</td>\n",
       "      <td>51.8625</td>\n",
       "      <td>0</td>\n",
       "      <td>1</td>\n",
       "      <td>0.0</td>\n",
       "      <td>0.0</td>\n",
       "      <td>0.0</td>\n",
       "      <td>(1.0, 54.0, 0.0, 0.0, 51.8625, 0.0, 1.0, 0.0, ...</td>\n",
       "    </tr>\n",
       "    <tr>\n",
       "      <th>7</th>\n",
       "      <td>0</td>\n",
       "      <td>3</td>\n",
       "      <td>2.0</td>\n",
       "      <td>3</td>\n",
       "      <td>1</td>\n",
       "      <td>21.0750</td>\n",
       "      <td>4</td>\n",
       "      <td>0</td>\n",
       "      <td>0.0</td>\n",
       "      <td>0.0</td>\n",
       "      <td>3.0</td>\n",
       "      <td>[3.0, 2.0, 3.0, 1.0, 21.075, 4.0, 0.0, 0.0, 0....</td>\n",
       "    </tr>\n",
       "    <tr>\n",
       "      <th>8</th>\n",
       "      <td>1</td>\n",
       "      <td>3</td>\n",
       "      <td>27.0</td>\n",
       "      <td>0</td>\n",
       "      <td>2</td>\n",
       "      <td>11.1333</td>\n",
       "      <td>2</td>\n",
       "      <td>0</td>\n",
       "      <td>1.0</td>\n",
       "      <td>0.0</td>\n",
       "      <td>2.0</td>\n",
       "      <td>[3.0, 27.0, 0.0, 2.0, 11.1333, 2.0, 0.0, 1.0, ...</td>\n",
       "    </tr>\n",
       "    <tr>\n",
       "      <th>9</th>\n",
       "      <td>1</td>\n",
       "      <td>2</td>\n",
       "      <td>14.0</td>\n",
       "      <td>1</td>\n",
       "      <td>0</td>\n",
       "      <td>30.0708</td>\n",
       "      <td>1</td>\n",
       "      <td>0</td>\n",
       "      <td>1.0</td>\n",
       "      <td>1.0</td>\n",
       "      <td>2.0</td>\n",
       "      <td>[2.0, 14.0, 1.0, 0.0, 30.0708, 1.0, 0.0, 1.0, ...</td>\n",
       "    </tr>\n",
       "  </tbody>\n",
       "</table>\n",
       "</div>"
      ],
      "text/plain": [
       "   Survived  Pclass   Age  SibSp  Parch     Fare  Family_Size  Alone  \\\n",
       "0         0       3  22.0      1      0   7.2500            1      0   \n",
       "1         1       1  38.0      1      0  71.2833            1      0   \n",
       "2         1       3  26.0      0      0   7.9250            0      1   \n",
       "3         1       1  35.0      1      0  53.1000            1      0   \n",
       "4         0       3  35.0      0      0   8.0500            0      1   \n",
       "5         0       3  33.0      0      0   8.4583            0      1   \n",
       "6         0       1  54.0      0      0  51.8625            0      1   \n",
       "7         0       3   2.0      3      1  21.0750            4      0   \n",
       "8         1       3  27.0      0      2  11.1333            2      0   \n",
       "9         1       2  14.0      1      0  30.0708            1      0   \n",
       "\n",
       "   Sex_index  Embarked_index  Initial_index  \\\n",
       "0        0.0             0.0            0.0   \n",
       "1        1.0             1.0            2.0   \n",
       "2        1.0             0.0            1.0   \n",
       "3        1.0             0.0            2.0   \n",
       "4        0.0             0.0            0.0   \n",
       "5        0.0             2.0            0.0   \n",
       "6        0.0             0.0            0.0   \n",
       "7        0.0             0.0            3.0   \n",
       "8        1.0             0.0            2.0   \n",
       "9        1.0             1.0            2.0   \n",
       "\n",
       "                                            features  \n",
       "0  (3.0, 22.0, 1.0, 0.0, 7.25, 1.0, 0.0, 0.0, 0.0...  \n",
       "1  [1.0, 38.0, 1.0, 0.0, 71.2833, 1.0, 0.0, 1.0, ...  \n",
       "2  [3.0, 26.0, 0.0, 0.0, 7.925, 0.0, 1.0, 1.0, 0....  \n",
       "3  [1.0, 35.0, 1.0, 0.0, 53.1, 1.0, 0.0, 1.0, 0.0...  \n",
       "4  (3.0, 35.0, 0.0, 0.0, 8.05, 0.0, 1.0, 0.0, 0.0...  \n",
       "5  (3.0, 33.0, 0.0, 0.0, 8.4583, 0.0, 1.0, 0.0, 2...  \n",
       "6  (1.0, 54.0, 0.0, 0.0, 51.8625, 0.0, 1.0, 0.0, ...  \n",
       "7  [3.0, 2.0, 3.0, 1.0, 21.075, 4.0, 0.0, 0.0, 0....  \n",
       "8  [3.0, 27.0, 0.0, 2.0, 11.1333, 2.0, 0.0, 1.0, ...  \n",
       "9  [2.0, 14.0, 1.0, 0.0, 30.0708, 1.0, 0.0, 1.0, ...  "
      ]
     },
     "execution_count": 99,
     "metadata": {},
     "output_type": "execute_result"
    }
   ],
   "source": [
    "feature = VectorAssembler(inputCols = df.columns[1:],\n",
    "                         outputCol='features')\n",
    "feature_vector = feature.transform(df) # 데이터프레임 형태로 반환\n",
    "print('feature type:', type(feature))\n",
    "print('feature_vector type', type(feature_vector))\n",
    "\n",
    "feature_vector.limit(10).toPandas()"
   ]
  },
  {
   "cell_type": "markdown",
   "metadata": {},
   "source": [
    "### Split the datasets"
   ]
  },
  {
   "cell_type": "markdown",
   "metadata": {},
   "source": [
    "- ``df.randomSplit([train_ratio, test_ratio])``\n",
    "- split할 때는 ``VectorAssembler`` 시키기 이전의 다른 Raw 피처들도 함께 분할하긴 함. 하지만 **모델링 시 사용할 때는 벡터화 시킨 독립변수들과 종속변수만 사용!**"
   ]
  },
  {
   "cell_type": "code",
   "execution_count": 100,
   "metadata": {},
   "outputs": [
    {
     "name": "stdout",
     "output_type": "stream",
     "text": [
      "root\n",
      " |-- Survived: integer (nullable = true)\n",
      " |-- Pclass: integer (nullable = true)\n",
      " |-- Age: double (nullable = true)\n",
      " |-- SibSp: integer (nullable = true)\n",
      " |-- Parch: integer (nullable = true)\n",
      " |-- Fare: double (nullable = true)\n",
      " |-- Family_Size: integer (nullable = true)\n",
      " |-- Alone: integer (nullable = false)\n",
      " |-- Sex_index: double (nullable = false)\n",
      " |-- Embarked_index: double (nullable = false)\n",
      " |-- Initial_index: double (nullable = false)\n",
      " |-- features: vector (nullable = true)\n",
      "\n"
     ]
    }
   ],
   "source": [
    "(train_df, test_df) = feature_vector.randomSplit([0.8, 0.2], seed=42)\n",
    "train_df.printSchema()"
   ]
  },
  {
   "cell_type": "markdown",
   "metadata": {},
   "source": [
    "### Modeling"
   ]
  },
  {
   "cell_type": "markdown",
   "metadata": {},
   "source": [
    "- 독립변수, 종속변수만 담은 데이터프레임 따로 추출 후 다시 split"
   ]
  },
  {
   "cell_type": "code",
   "execution_count": 101,
   "metadata": {},
   "outputs": [],
   "source": [
    "titanic_df = feature_vector.select(['features', 'Survived'])\n",
    "\n",
    "# split train, test\n",
    "(train_df, test_df) = titanic_df.randomSplit([0.8, 0.2], seed=42)"
   ]
  },
  {
   "cell_type": "markdown",
   "metadata": {},
   "source": [
    "#### Logistic Regression"
   ]
  },
  {
   "cell_type": "code",
   "execution_count": 102,
   "metadata": {},
   "outputs": [
    {
     "name": "stdout",
     "output_type": "stream",
     "text": [
      "Accuracy: 0.7793103448275862\n",
      "Precision: 0.7925739676458068\n"
     ]
    }
   ],
   "source": [
    "# 분류 모델 \n",
    "from pyspark.ml.classification import LogisticRegression\n",
    "# 파라미터 튜닝 & 교차 검증\n",
    "from pyspark.ml.tuning import ParamGridBuilder, TrainValidationSplit\n",
    "from pyspark.ml.tuning import CrossValidator\n",
    "# 파이프라인\n",
    "from pyspark.ml import Pipeline\n",
    "# 메트릭 얻는 라이브러리\n",
    "from pyspark.ml.evaluation import BinaryClassificationEvaluator\n",
    "# ROC AUC(Sklearn)\n",
    "from sklearn.metrics import roc_curve, auc\n",
    "\n",
    "\n",
    "# 모델 정의\n",
    "lr = LogisticRegression(labelCol='Survived')\n",
    "\n",
    "# 튜닝할 파라미터 grid 정의\n",
    "                                    # model.parameter 식으로 정의\n",
    "paramGrid = ParamGridBuilder().addGrid(lr.regParam,\n",
    "                                      (0.01, 0.1))\\\n",
    "                              .addGrid(lr.maxIter,\n",
    "                                      (5, 10))\\\n",
    "                              .addGrid(lr.tol,\n",
    "                                      (1e-4, 1e-5))\\\n",
    "                              .addGrid(lr.elasticNetParam,\n",
    "                                      (0.25, 0.75))\\\n",
    "                              .build()\n",
    "\n",
    "# 교차검증 정의 - Pipeline식으로 정의\n",
    "tvs = TrainValidationSplit(estimator=lr,\n",
    "                          estimatorParamMaps=paramGrid,\n",
    "                          evaluator=MulticlassClassificationEvaluator(labelCol='Survived'),\n",
    "                          trainRatio=0.8)\n",
    "# 학습은 fit으로!\n",
    "model = tvs.fit(train_df)\n",
    "# 평가는 transform으로!\n",
    "model_prediction = model.transform(test_df)\n",
    "\n",
    "# 메트릭 평가\n",
    "print('Accuracy:',\n",
    "     MulticlassClassificationEvaluator(labelCol='Survived',\n",
    "                                      metricName='accuracy').evaluate(model_prediction))\n",
    "print('Precision:',\n",
    "     MulticlassClassificationEvaluator(labelCol='Survived',\n",
    "                                      metricName='weightedPrecision').evaluate(model_prediction))"
   ]
  },
  {
   "cell_type": "markdown",
   "metadata": {},
   "source": [
    "- ``rawPrediction`` : 해당 feature를 Logistic Regression에 넣었을 때 계산되어 나오는 raw한 값\n",
    "- ``probability``: ``rawPrediction``값에 Logistic 함수를 적용한 후 변환된 값. 즉, 0과 1사이의 확률값으로 매핑 됨\n",
    "- ``prediction`` : ``probability``가 특정 임곗값 기준에 의해 1 또는 0으로 분류된 클래스(label)"
   ]
  },
  {
   "cell_type": "code",
   "execution_count": 103,
   "metadata": {},
   "outputs": [
    {
     "name": "stdout",
     "output_type": "stream",
     "text": [
      "+--------------------+--------+--------------------+--------------------+----------+\n",
      "|            features|Survived|       rawPrediction|         probability|prediction|\n",
      "+--------------------+--------+--------------------+--------------------+----------+\n",
      "|(10,[0,1,2,4,5],[...|       0|[0.84338731832489...|[0.69917814443410...|       0.0|\n",
      "|(10,[0,1,2,4,5],[...|       0|[0.99789437623198...|[0.73064438650957...|       0.0|\n",
      "|(10,[0,1,2,4,5],[...|       0|[1.03793833474865...|[0.73845201053973...|       0.0|\n",
      "|(10,[0,1,2,4,5],[...|       0|[1.05840799891815...|[0.74238619430171...|       0.0|\n",
      "|(10,[0,1,2,4,5],[...|       0|[1.71384782028168...|[0.84733469841398...|       0.0|\n",
      "|(10,[0,1,2,4,5],[...|       0|[1.74541815045861...|[0.85137396441796...|       0.0|\n",
      "|(10,[0,1,2,4,5],[...|       0|[2.26469777873056...|[0.90591081711254...|       0.0|\n",
      "|(10,[0,1,2,4,5],[...|       0|[2.30965776946158...|[0.90967373903636...|       0.0|\n",
      "|(10,[0,1,2,4,5],[...|       0|[2.29604033780988...|[0.90854857011027...|       0.0|\n",
      "|(10,[0,1,2,4,5],[...|       0|[2.26625399353602...|[0.90604337950913...|       0.0|\n",
      "+--------------------+--------+--------------------+--------------------+----------+\n",
      "only showing top 10 rows\n",
      "\n"
     ]
    }
   ],
   "source": [
    "model_prediction.show(10)"
   ]
  },
  {
   "cell_type": "code",
   "execution_count": 104,
   "metadata": {},
   "outputs": [],
   "source": [
    "# Evaluate ROC metric\n",
    "from pyspark.mllib.evaluation import BinaryClassificationMetrics as metric\n",
    "from pyspark import SparkContext\n",
    "\n",
    "# SparkContext를 만들기\n",
    "sc = SparkContext.getOrCreate()\n",
    "\n",
    "# ROC 점수인 AUC를 계산 위해 Logistic를 적용해 나온 확률값과 레이블만 가져오기\n",
    "results = model_prediction.select(['probability', 'Survived'])\n",
    "\n",
    "# 확률값 - 레이블 set 준비시키기\n",
    "# collect()로 모든 데이터 row retrieve(반환) - 리스트 형태로 반환\n",
    "results_collect = results.collect()"
   ]
  },
  {
   "cell_type": "code",
   "execution_count": 105,
   "metadata": {},
   "outputs": [
    {
     "name": "stdout",
     "output_type": "stream",
     "text": [
      "Row(probability=DenseVector([0.6992, 0.3008]), Survived=0)\n",
      "\n",
      "probability: [0.699178144434104,0.300821855565896]\n",
      "Survived: 0\n"
     ]
    }
   ],
   "source": [
    "# named tuple 형식이기 때문에 key 값으로 원하는 값을 불러올 수 있다!\n",
    "print(results_collect[0])\n",
    "print()\n",
    "print('probability:', results_collect[0].probability)\n",
    "print('Survived:', results_collect[0].Survived)"
   ]
  },
  {
   "cell_type": "markdown",
   "metadata": {},
   "source": [
    "- 각 Row마다 다음의 값들을 추출\n",
    "    * ``probability``에서 1이 될 확률\n",
    "    * ``Survived(클래스값)``"
   ]
  },
  {
   "cell_type": "code",
   "execution_count": 50,
   "metadata": {},
   "outputs": [
    {
     "name": "stdout",
     "output_type": "stream",
     "text": [
      "<class 'pyspark.rdd.RDD'>\n"
     ]
    },
    {
     "data": {
      "text/plain": [
       "ParallelCollectionRDD[1057] at readRDDFromFile at PythonRDD.scala:262"
      ]
     },
     "execution_count": 50,
     "metadata": {},
     "output_type": "execute_result"
    }
   ],
   "source": [
    "results_list = [(float(i.probability[1]),\n",
    "                 float(i.Survived)) for i in results_collect]\n",
    "# 여러개의 튜플이 담긴 list를 RDD 자료구조로 변경\n",
    "scoreAndLabels = sc.parallelize(results_list)\n",
    "print(type(scoreAndLabels))\n",
    "scoreAndLabels"
   ]
  },
  {
   "cell_type": "code",
   "execution_count": 51,
   "metadata": {},
   "outputs": [
    {
     "name": "stdout",
     "output_type": "stream",
     "text": [
      "AUC score: 0.8306878306878307\n"
     ]
    }
   ],
   "source": [
    "# ROC metric 계산하기\n",
    "metrics = metric(scoreAndLabels)\n",
    "auc = metrics.areaUnderROC\n",
    "print(\"AUC score:\", auc)"
   ]
  },
  {
   "cell_type": "code",
   "execution_count": 52,
   "metadata": {},
   "outputs": [],
   "source": [
    "# Visualize ROC Curve\n",
    "from sklearn.metrics import roc_curve, auc\n",
    "\n",
    "# roc_curve 는 실제값, 1로의 예측확률값을 인자로 넣어주면 FPR, TPR, 임곗값을 반환해줌\n",
    "fpr = []\n",
    "tpr = []\n",
    "roc_auc = []\n",
    "\n",
    "y_test = [i[1] for i in results_list]\n",
    "y_proba = [i[0] for i in results_list]\n",
    "\n",
    "fpr, tpr, _ = roc_curve(y_test, y_proba)\n",
    "roc_auc = auc(fpr, tpr)"
   ]
  },
  {
   "cell_type": "code",
   "execution_count": 55,
   "metadata": {},
   "outputs": [
    {
     "data": {
      "image/png": "[encoded data removed]",
      "text/plain": [
       "<Figure size 432x288 with 1 Axes>"
      ]
     },
     "metadata": {
      "needs_background": "light"
     },
     "output_type": "display_data"
    }
   ],
   "source": [
    "plt.figure()\n",
    "# x축엔 Fall-out(FPR), y축엔 Recall(TPR)\n",
    "plt.plot(fpr, tpr, label='ROC Curve (area = %0.2f)' % roc_auc)\n",
    "plt.plot([0, 1], [0, 1], 'k--')\n",
    "plt.xlabel('False Positive Rate')\n",
    "plt.ylabel('True Positive Rate')\n",
    "plt.title(\"Area under the ROC Curve\")\n",
    "plt.legend(loc='lower right')\n",
    "plt.show()"
   ]
  },
  {
   "cell_type": "markdown",
   "metadata": {},
   "source": [
    "#### Random Forest\n",
    "\n",
    "- 파라미터 설명\n",
    "    * ``maxBins`` : split을 할 노드의 최대 개수\n",
    "    * ``numTrees`` : ``n_estimators``\n",
    "    * ``impurity``: 불순도 계산할 공식\n",
    "    * ``minInstancesPerNode``: ``min_samples_split``"
   ]
  },
  {
   "cell_type": "code",
   "execution_count": 57,
   "metadata": {},
   "outputs": [
    {
     "name": "stdout",
     "output_type": "stream",
     "text": [
      "Accuracy : 0.7793103448275862\n",
      "Precision : 0.7925739676458068\n"
     ]
    }
   ],
   "source": [
    "from pyspark.ml.classification import RandomForestClassifier\n",
    "from pyspark.ml.tuning import ParamGridBuilder, TrainValidationSplit\n",
    "\n",
    "# 모델 정의\n",
    "rf = RandomForestClassifier(labelCol='Survived')\n",
    "paramGrid = ParamGridBuilder().addGrid(rf.maxDepth, [5, 10, 20])\\\n",
    "                              .addGrid(rf.maxBins, [20, 32, 50])\\\n",
    "                              .addGrid(rf.numTrees, [20, 40, 60])\\\n",
    "                              .addGrid(rf.impurity, ['gini', 'entropy'])\\\n",
    "                              .addGrid(rf.minInstancesPerNode, [1, 5, 10])\\\n",
    "                              .build()\n",
    "\n",
    "# 교차검증 정의\n",
    "tvs = TrainValidationSplit(estimator=rf,\n",
    "                          estimatorParamMaps=paramGrid,\n",
    "                          evaluator=MulticlassClassificationEvaluator(labelCol='Survived'),\n",
    "                          trainRatio=0.8)\n",
    "# 학습\n",
    "model = tvs.fit(train_df)\n",
    "# 예측 - DataFrame으로 반환\n",
    "model_predictions = model.transform(test_df)\n",
    "\n",
    "acc = MulticlassClassificationEvaluator(labelCol='Survived',\n",
    "                                       metricName='accuracy').evaluate(model_prediction)\n",
    "pre = MulticlassClassificationEvaluator(labelCol='Survived',\n",
    "                                       metricName='weightedPrecision').evaluate(model_prediction)\n",
    "print(\"Accuracy :\", acc)\n",
    "print(\"Precision :\", pre)"
   ]
  },
  {
   "cell_type": "code",
   "execution_count": 58,
   "metadata": {},
   "outputs": [],
   "source": [
    "# Evaluate ROC metrics\n",
    "# RDD 자료구조로 바꾸어 주기 위해 SparkContext 생성\n",
    "sc = SparkContext.getOrCreate()\n",
    "\n",
    "results = model_predictions.select(['probability', 'Survived'])\n",
    "results_collect = results.collect()"
   ]
  },
  {
   "cell_type": "code",
   "execution_count": 60,
   "metadata": {},
   "outputs": [],
   "source": [
    "# Positive로 예측될 확률값, 레이블값 담기\n",
    "results_list = [(float(i.probability[1]), float(i.Survived)) for i in results_collect]\n",
    "scoreAndLabels = sc.parallelize(results_list)"
   ]
  },
  {
   "cell_type": "code",
   "execution_count": 61,
   "metadata": {},
   "outputs": [
    {
     "name": "stdout",
     "output_type": "stream",
     "text": [
      "AUC score:  0.8866503866503868\n"
     ]
    }
   ],
   "source": [
    "# AUC 계산\n",
    "metrics = metric(scoreAndLabels)\n",
    "auc = metrics.areaUnderROC\n",
    "print(\"AUC score: \", auc)"
   ]
  },
  {
   "cell_type": "code",
   "execution_count": 68,
   "metadata": {},
   "outputs": [
    {
     "data": {
      "image/png": "[encoded data removed]",
      "text/plain": [
       "<Figure size 432x288 with 1 Axes>"
      ]
     },
     "metadata": {
      "needs_background": "light"
     },
     "output_type": "display_data"
    }
   ],
   "source": [
    "# Visualize ROC Curve, AUC\n",
    "from sklearn.metrics import roc_curve, auc\n",
    "\n",
    "fpr, tpr = [], []\n",
    "roc_auc = []\n",
    "\n",
    "y_test = [i[1] for i in results_list]\n",
    "y_proba = [i[0] for i in results_list]\n",
    "\n",
    "fpr, tpr, _ = roc_curve(y_test, y_proba)\n",
    "roc_auc = auc(fpr, tpr)\n",
    "\n",
    "plt.plot(fpr, tpr, label='ROC Curve area %0.2f' % roc_auc)\n",
    "plt.plot([1, 0], [1, 0], 'k--')\n",
    "plt.title(\"ROC Curve under the area\")\n",
    "plt.xlabel(\"False Positive Rate\")\n",
    "plt.ylabel(\"True Positive Rate\")\n",
    "plt.legend(loc='lower right')\n",
    "plt.show()"
   ]
  },
  {
   "cell_type": "markdown",
   "metadata": {},
   "source": [
    "#### Gradient Boosting Classifier"
   ]
  },
  {
   "cell_type": "code",
   "execution_count": null,
   "metadata": {},
   "outputs": [],
   "source": [
    "from pyspark.ml.classification import GBTClassifier\n",
    "\n",
    "# 모델정의\n",
    "gbt = GBTClassifier(labelCol='Survived')\n",
    "# 튜닝할 파라미터 그리드 정의\n",
    "paramGrid = ParamGridBuilder().addGrid(gbt.maxDepth, [5, 10, 20])\\\n",
    "                              .addGrid(gbt.maxBins, [20, 32, 50])\\\n",
    "                              .addGrid(gbt.maxIter, [10, 20, 30])\\\n",
    "                              .addGrid(gbt.minInstancesPerNode, [1, 5, 10])\\\n",
    "                              .build()\n",
    "\n",
    "# 교차검증 정의\n",
    "tvs = TrainValidationSplit(estimator=gbt,\n",
    "                          estimatorParamMaps=paramGrid,\n",
    "                          evaluator=MulticlassClassificationEvaluator(labelCol='Survived'),\n",
    "                          trainRatio=0.8)\n",
    "\n",
    "# 학습\n",
    "model = tvs.fit(train_df)\n",
    "# 예측 - 데이터프레임으로 반환\n",
    "model_predictions = model.transform(test_df)\n",
    "\n",
    "acc = MulticlassClassificationEvaluator(labelCol='Survived',\n",
    "                                       metricName='accuracy').evaluate(model_prediction)\n",
    "pre = MulticlassClassificationEvaluator(labelCol='Survived',\n",
    "                                       metricName='weightedPrecision').evaluate(model_prediction)\n",
    "print(\"Accuracy :\", acc)\n",
    "print(\"Precision :\", pre)"
   ]
  },
  {
   "cell_type": "code",
   "execution_count": null,
   "metadata": {},
   "outputs": [],
   "source": [
    "sc = SprakContext.getOrCreate()\n",
    "\n",
    "results = model_predictions.select(['probability', 'Survived'])\n",
    "\n",
    "results_collect = results.collect()\n",
    "results_list = [(float(i.probability[1]), float(i.Survived)) for i in results_collect]\n",
    "scoreAndLabels = sc.parallelize(results_list)\n",
    "\n",
    "metrics = metric(scoreAndLabels)\n",
    "auc = metrics.areaUnderROC\n",
    "print(\"AUC score:\", auc)"
   ]
  },
  {
   "cell_type": "code",
   "execution_count": null,
   "metadata": {},
   "outputs": [],
   "source": [
    "# Visuallize ROC Curve\n",
    "from sklearn.metrics import roc_curve, auc\n",
    "\n",
    "fpr, tpr = [], []\n",
    "roc_auc = []\n",
    "\n",
    "y_test = [i[1] for i in results_list]\n",
    "y_proba = [i[0] for i in results_list]\n",
    "\n",
    "fpr, tpr, _ = roc_curve(y_test, y_proba)\n",
    "roc_auc = auc(fpr, tpr)\n",
    "\n",
    "plt.plot(fpr, tpr, label='ROC Curve (area = %0.2f)' % roc_auc)\n",
    "plt.plot([1, 0], [1, 0], 'k--')\n",
    "plt.title(\"ROC Curve under the area\")\n",
    "plt.xlabel(\"False Postivie Rate\")\n",
    "plt.ylabel(\"True Positive Rate\")\n",
    "plt.legend(loc='lower right')\n",
    "plt.show()"
   ]
  }
 ],
 "metadata": {
  "hide_input": false,
  "kernelspec": {
   "display_name": "Python 3",
   "language": "python",
   "name": "python3"
  },
  "language_info": {
   "codemirror_mode": {
    "name": "ipython",
    "version": 3
   },
   "file_extension": ".py",
   "mimetype": "text/x-python",
   "name": "python",
   "nbconvert_exporter": "python",
   "pygments_lexer": "ipython3",
   "version": "3.7.7"
  },
  "toc": {
   "base_numbering": 1,
   "nav_menu": {},
   "number_sections": true,
   "sideBar": true,
   "skip_h1_title": false,
   "title_cell": "Table of Contents",
   "title_sidebar": "Contents",
   "toc_cell": false,
   "toc_position": {},
   "toc_section_display": true,
   "toc_window_display": false
  },
  "varInspector": {
   "cols": {
    "lenName": 16,
    "lenType": 16,
    "lenVar": 40
   },
   "kernels_config": {
    "python": {
     "delete_cmd_postfix": "",
     "delete_cmd_prefix": "del ",
     "library": "var_list.py",
     "varRefreshCmd": "print(var_dic_list())"
    },
    "r": {
     "delete_cmd_postfix": ") ",
     "delete_cmd_prefix": "rm(",
     "library": "var_list.r",
     "varRefreshCmd": "cat(var_dic_list()) "
    }
   },
   "types_to_exclude": [
    "module",
    "function",
    "builtin_function_or_method",
    "instance",
    "_Feature"
   ],
   "window_display": false
  }
 },
 "nbformat": 4,
 "nbformat_minor": 4
}

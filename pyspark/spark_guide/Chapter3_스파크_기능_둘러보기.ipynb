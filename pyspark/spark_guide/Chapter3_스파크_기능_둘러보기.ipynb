{
 "cells": [
  {
   "cell_type": "markdown",
   "id": "altered-worst",
   "metadata": {
    "toc": true
   },
   "source": [
    "<h1>Table of Contents<span class=\"tocSkip\"></span></h1>\n",
    "<div class=\"toc\"><ul class=\"toc-item\"><li><span><a href=\"#구조적-스트리밍(Structured-Streaming)\" data-toc-modified-id=\"구조적-스트리밍(Structured-Streaming)-1\"><span class=\"toc-item-num\">1&nbsp;&nbsp;</span>구조적 스트리밍(Structured Streaming)</a></span></li></ul></div>"
   ]
  },
  {
   "cell_type": "markdown",
   "id": "acoustic-grave",
   "metadata": {},
   "source": [
    "# 구조적 스트리밍(Structured Streaming)\n",
    "\n",
    "- 스트림 처리용 고수준 API\n",
    "- 구조적 API(Dataset, DataFrame, SQL)로 개발된 배치 모드의 연산을 스트리밍 방식으로 실행 가능"
   ]
  },
  {
   "cell_type": "code",
   "execution_count": 3,
   "id": "welcome-scratch",
   "metadata": {},
   "outputs": [],
   "source": [
    "staticDataFrame = spark\\\n",
    "                  .read.format('csv')\\\n",
    "                  .option('header', 'true')\\\n",
    "                  .option('inferSchema', 'true')\\\n",
    "                  .load('/Users/younghun/Desktop/gitrepo/data/spark_perfect_guide/retail-data/by-day/*.csv')"
   ]
  },
  {
   "cell_type": "code",
   "execution_count": 4,
   "id": "editorial-majority",
   "metadata": {},
   "outputs": [],
   "source": [
    "# SQL 사용하기 위해 임시 테이블 등록\n",
    "staticDataFrame.createOrReplaceTempView('retail_data')\n",
    "\n",
    "# 로드한 csv 데이터들의 스키마를 객체로 할당\n",
    "staticSchema = staticDataFrame.schema"
   ]
  },
  {
   "cell_type": "code",
   "execution_count": 7,
   "id": "diverse-gambling",
   "metadata": {},
   "outputs": [
    {
     "name": "stdout",
     "output_type": "stream",
     "text": [
      "StructType(List(StructField(InvoiceNo,StringType,true),StructField(StockCode,StringType,true),StructField(Description,StringType,true),StructField(Quantity,IntegerType,true),StructField(InvoiceDate,StringType,true),StructField(UnitPrice,DoubleType,true),StructField(CustomerID,DoubleType,true),StructField(Country,StringType,true))) \n",
      " <class 'pyspark.sql.types.StructType'>\n"
     ]
    }
   ],
   "source": [
    "print(staticSchema, '\\n', type(staticSchema))"
   ]
  },
  {
   "cell_type": "markdown",
   "id": "descending-subject",
   "metadata": {},
   "source": [
    "- 시계열 데이터를 다룰 때 타임스태프를 자주 다루기 떄문에 **윈도우 함수**를 자주 사용\n",
    "- *총 구매비용 칼럼을 추가하고 고객별로 가장 많이 소비한 날*"
   ]
  },
  {
   "cell_type": "code",
   "execution_count": 8,
   "id": "metallic-harrison",
   "metadata": {},
   "outputs": [
    {
     "name": "stdout",
     "output_type": "stream",
     "text": [
      "+---------+---------+--------------------+--------+-------------------+---------+----------+--------------+\n",
      "|InvoiceNo|StockCode|         Description|Quantity|        InvoiceDate|UnitPrice|CustomerID|       Country|\n",
      "+---------+---------+--------------------+--------+-------------------+---------+----------+--------------+\n",
      "|   580538|    23084|  RABBIT NIGHT LIGHT|      48|2011-12-05 08:38:00|     1.79|   14075.0|United Kingdom|\n",
      "|   580538|    23077| DOUGHNUT LIP GLOSS |      20|2011-12-05 08:38:00|     1.25|   14075.0|United Kingdom|\n",
      "|   580538|    22906|12 MESSAGE CARDS ...|      24|2011-12-05 08:38:00|     1.65|   14075.0|United Kingdom|\n",
      "+---------+---------+--------------------+--------+-------------------+---------+----------+--------------+\n",
      "only showing top 3 rows\n",
      "\n"
     ]
    }
   ],
   "source": [
    "staticDataFrame.show(3)"
   ]
  },
  {
   "cell_type": "code",
   "execution_count": 13,
   "id": "cleared-pickup",
   "metadata": {},
   "outputs": [
    {
     "name": "stdout",
     "output_type": "stream",
     "text": [
      "+----------+--------------------+------------------+\n",
      "|CustomerID|              window|   sum(total_cost)|\n",
      "+----------+--------------------+------------------+\n",
      "|   17450.0|[2011-09-20 09:00...|          71601.44|\n",
      "|      null|[2011-11-14 09:00...|          55316.08|\n",
      "|      null|[2011-11-07 09:00...|          42939.17|\n",
      "|      null|[2011-03-29 09:00...| 33521.39999999998|\n",
      "|      null|[2011-12-08 09:00...|31975.590000000007|\n",
      "+----------+--------------------+------------------+\n",
      "\n"
     ]
    }
   ],
   "source": [
    "# DataFrame 구문\n",
    "from pyspark.sql.functions import window, col, desc\n",
    "\n",
    "# 그룹핑 기준을 2개: 고객별, 날짜(1일) 별\n",
    "staticDataFrame\\\n",
    ".selectExpr(\"CustomerID\", \"(UnitPrice * Quantity) AS total_cost\", \"InvoiceDate\")\\\n",
    ".groupBy(col(\"CustomerID\"), window(col(\"InvoiceDate\"), \"1 day\"))\\\n",
    ".sum(\"total_cost\")\\\n",
    ".sort(desc(\"sum(total_cost)\"))\\\n",
    ".limit(5)\\\n",
    ".show()"
   ]
  },
  {
   "cell_type": "code",
   "execution_count": 14,
   "id": "transsexual-dress",
   "metadata": {},
   "outputs": [],
   "source": [
    "# Shuffle 파티션 수정하기\n",
    "spark.conf.set('spark.sql.shuffle.partitions', '5')"
   ]
  },
  {
   "cell_type": "markdown",
   "id": "binary-cattle",
   "metadata": {},
   "source": [
    "- 스트리밍 코드로 변환하기\n",
    "- ``maxFilesPerTrigger``로 한 번에 읽을 파일 개수 설정 가능"
   ]
  },
  {
   "cell_type": "code",
   "execution_count": 15,
   "id": "drawn-salon",
   "metadata": {},
   "outputs": [],
   "source": [
    "streamingDataFrame = spark\\\n",
    "                     .readStream\\\n",
    "                     .schema(staticSchema)\\\n",
    "                     .option('maxFilesPerTrigger', 1)\\\n",
    "                     .format('csv')\\\n",
    "                     .option('header', 'true')\\\n",
    "                     .load('/Users/younghun/Desktop/gitrepo/data/spark_perfect_guide/retail-data/by-day/*.csv')"
   ]
  },
  {
   "cell_type": "code",
   "execution_count": 16,
   "id": "round-effects",
   "metadata": {},
   "outputs": [
    {
     "data": {
      "text/plain": [
       "True"
      ]
     },
     "execution_count": 16,
     "metadata": {},
     "output_type": "execute_result"
    }
   ],
   "source": [
    "# 스트리밍 유형 데이터프레임인지 확인\n",
    "streamingDataFrame.isStreaming"
   ]
  },
  {
   "cell_type": "markdown",
   "id": "absolute-subsection",
   "metadata": {},
   "source": [
    "- 스트리밍 코드의 ``Transformations``"
   ]
  },
  {
   "cell_type": "code",
   "execution_count": 17,
   "id": "south-stream",
   "metadata": {},
   "outputs": [],
   "source": [
    "# 고객 별로 하루 당 총 판매금액 계산하는 로직\n",
    "purchaseByCustomerPerHour = streamingDataFrame\\\n",
    ".selectExpr(\"CustomerID\", \"(UnitPrice * Quantity) AS total_cost\", \"InvoiceDate\")\\\n",
    ".groupBy(col(\"CustomerID\"), window(col(\"InvoiceDate\"), \"1 day\"))\\\n",
    ".sum(\"total_cost\")"
   ]
  },
  {
   "cell_type": "markdown",
   "id": "greatest-pharmacology",
   "metadata": {},
   "source": [
    "- 코드실행위해 스트리밍 코드를 ``Action`` 하기\n",
    "- 단, 스티리밍 액션은 ``count``와 같은 정적 액션과는 다름\n",
    "- **트리거**가 실행된 다음 데이터를 갱신하게 될 인메모리 테이블에 데이터를 저장함\n",
    "- 여기서는 파일마다 **트리거**가 실행됨\n"
   ]
  },
  {
   "cell_type": "code",
   "execution_count": 20,
   "id": "vanilla-delivery",
   "metadata": {},
   "outputs": [
    {
     "data": {
      "text/plain": [
       "<pyspark.sql.streaming.StreamingQuery at 0x7ffcedde0a90>"
      ]
     },
     "execution_count": 20,
     "metadata": {},
     "output_type": "execute_result"
    }
   ],
   "source": [
    "\"\"\"\n",
    "Args:\n",
    "    - memory : 인메모리 테이블에 데이터를 저장\n",
    "    - customer_purchases : 인메모리에 저장될 테이블 이름\n",
    "    - complete : 코드 수행 결과 모든 것을 테이블에 저장\n",
    "\"\"\"\n",
    "purchaseByCustomerPerHour.writeStream\\\n",
    ".format(\"memory\")\\\n",
    ".queryName(\"customer_purchases\")\\\n",
    ".outputMode(\"complete\")\\\n",
    ".start()"
   ]
  },
  {
   "cell_type": "code",
   "execution_count": 24,
   "id": "numerical-cameroon",
   "metadata": {},
   "outputs": [
    {
     "name": "stdout",
     "output_type": "stream",
     "text": [
      "+----------+--------------------+------------------+\n",
      "|CustomerID|              window|   sum(total_cost)|\n",
      "+----------+--------------------+------------------+\n",
      "|   18075.0|[2011-06-28 09:00...|            282.23|\n",
      "|   14911.0|[2011-01-31 09:00...|            797.77|\n",
      "|   12921.0|[2011-03-30 09:00...|-87.30000000000001|\n",
      "|   17652.0|[2011-03-03 09:00...|             222.3|\n",
      "|   14506.0|[2011-11-22 09:00...|496.91999999999996|\n",
      "+----------+--------------------+------------------+\n",
      "only showing top 5 rows\n",
      "\n"
     ]
    }
   ],
   "source": [
    "# 위에서 인메모리에 저장한 테이블에 데이터가 어떻게 기록되었는지 확인\n",
    "spark.sql(\"\"\"\n",
    "SELECT *\n",
    "FROM customer_purchases\n",
    "ORDER BY 'sum(total_cost)' DESC\"\"\")\\\n",
    ".show(5)"
   ]
  },
  {
   "cell_type": "code",
   "execution_count": 26,
   "id": "defined-mumbai",
   "metadata": {},
   "outputs": [
    {
     "data": {
      "text/plain": [
       "<pyspark.sql.streaming.StreamingQuery at 0x7ffceddcae90>"
      ]
     },
     "execution_count": 26,
     "metadata": {},
     "output_type": "execute_result"
    }
   ],
   "source": [
    "# console에 출력시키기\n",
    "purchaseByCustomerPerHour.writeStream\\\n",
    ".format(\"console\")\\\n",
    ".queryName(\"customer_purchases_2\")\\\n",
    ".outputMode(\"complete\")\\\n",
    ".start()"
   ]
  },
  {
   "cell_type": "code",
   "execution_count": null,
   "id": "brazilian-campbell",
   "metadata": {},
   "outputs": [],
   "source": []
  }
 ],
 "metadata": {
  "hide_input": false,
  "kernelspec": {
   "display_name": "Python 3",
   "language": "python",
   "name": "python3"
  },
  "language_info": {
   "codemirror_mode": {
    "name": "ipython",
    "version": 3
   },
   "file_extension": ".py",
   "mimetype": "text/x-python",
   "name": "python",
   "nbconvert_exporter": "python",
   "pygments_lexer": "ipython3",
   "version": "3.7.7"
  },
  "toc": {
   "base_numbering": 1,
   "nav_menu": {},
   "number_sections": true,
   "sideBar": true,
   "skip_h1_title": false,
   "title_cell": "Table of Contents",
   "title_sidebar": "Contents",
   "toc_cell": true,
   "toc_position": {},
   "toc_section_display": true,
   "toc_window_display": false
  },
  "varInspector": {
   "cols": {
    "lenName": 16,
    "lenType": 16,
    "lenVar": 40
   },
   "kernels_config": {
    "python": {
     "delete_cmd_postfix": "",
     "delete_cmd_prefix": "del ",
     "library": "var_list.py",
     "varRefreshCmd": "print(var_dic_list())"
    },
    "r": {
     "delete_cmd_postfix": ") ",
     "delete_cmd_prefix": "rm(",
     "library": "var_list.r",
     "varRefreshCmd": "cat(var_dic_list()) "
    }
   },
   "types_to_exclude": [
    "module",
    "function",
    "builtin_function_or_method",
    "instance",
    "_Feature"
   ],
   "window_display": false
  }
 },
 "nbformat": 4,
 "nbformat_minor": 5
}

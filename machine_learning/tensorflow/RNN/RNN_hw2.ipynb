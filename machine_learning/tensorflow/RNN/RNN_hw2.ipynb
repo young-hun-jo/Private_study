{
 "cells": [
  {
   "cell_type": "code",
   "execution_count": 2,
   "metadata": {},
   "outputs": [],
   "source": [
    "import tensorflow as tf\n",
    "import matplotlib.pyplot as plt\n",
    "import numpy as np"
   ]
  },
  {
   "cell_type": "code",
   "execution_count": 3,
   "metadata": {},
   "outputs": [],
   "source": [
    "# Min-Max scaling\n",
    "def MinMaxScaler(data):\n",
    "    numerator = data - np.min(data, axis=0)\n",
    "    denominator = np.max(data, axis=0) - np.min(data, axis=0)\n",
    "    return numerator / (denominator + 1e-7)"
   ]
  },
  {
   "cell_type": "code",
   "execution_count": 4,
   "metadata": {},
   "outputs": [],
   "source": [
    "# load data\n",
    "stock = np.loadtxt('data-02-stock_daily.csv', delimiter=',')\n",
    "# change time-series order\n",
    "stock = stock[::-1]\n",
    "# applying scaling\n",
    "stock = MinMaxScaler(stock)\n",
    "\n",
    "# Feature(including 2 pre-order Y variables)\n",
    "x = stock\n",
    "y = stock[:, [-1]]"
   ]
  },
  {
   "cell_type": "code",
   "execution_count": 5,
   "metadata": {},
   "outputs": [
    {
     "name": "stdout",
     "output_type": "stream",
     "text": [
      "(732, 5)\n"
     ]
    }
   ],
   "source": [
    "print(x.shape)"
   ]
  },
  {
   "cell_type": "code",
   "execution_count": 6,
   "metadata": {},
   "outputs": [],
   "source": [
    "### Train Parameter ###\n",
    "\n",
    "# input : 7 days\n",
    "seq_length = 7\n",
    "# Feature(including Y)\n",
    "input_units = 5\n",
    "# Hidden units in RNN Cells\n",
    "hidden_units = 10\n",
    "# output : future 2 consecutive days\n",
    "output_units = 2\n",
    "learning_rate = 0.01\n",
    "iterations =50"
   ]
  },
  {
   "cell_type": "code",
   "execution_count": 85,
   "metadata": {},
   "outputs": [],
   "source": [
    "dataX = []\n",
    "dataY = []\n",
    "cut_num = len(y) // 2\n",
    "\n",
    "# x는 730번 인덱스까지(총 732번 인덱스까지 중)\n",
    "for i in range(0, cut_num):\n",
    "    if i <= 362:\n",
    "        #print(i*2, i*2+seq_length-1)\n",
    "        #print(i*2+seq_length, i*2+seq_length+1)\n",
    "        #print()\n",
    "        _x = x[i*2: i*2+seq_length]\n",
    "        _y = y[i*2+seq_length: i*2+seq_length+2]\n",
    "        dataX.append(_x)\n",
    "        dataY.append(_y)"
   ]
  },
  {
   "cell_type": "code",
   "execution_count": 153,
   "metadata": {},
   "outputs": [
    {
     "name": "stdout",
     "output_type": "stream",
     "text": [
      "X shape:  (254, 7, 5) (108, 7, 5)\n",
      "Y shape:  (254, 2) (108, 2)\n"
     ]
    }
   ],
   "source": [
    "# split train/test\n",
    "train_size = int(len(dataY) *0.7)\n",
    "test_size = len(dataY) - train_size\n",
    "\n",
    "trainX = np.array(dataX[0:train_size])\n",
    "testX = np.array(dataX[train_size:len(dataX)-1])\n",
    "trainY = np.array(dataY[0:train_size]).reshape(-1,2)\n",
    "testY = np.stack(dataY[train_size:len(dataY)-1]).reshape(-1,2)\n",
    "\n",
    "print(\"X shape: \", trainX.shape, testX.shape)\n",
    "print(\"Y shape: \", trainY.shape, testY.shape)"
   ]
  },
  {
   "cell_type": "code",
   "execution_count": null,
   "metadata": {},
   "outputs": [],
   "source": []
  }
 ],
 "metadata": {
  "hide_input": false,
  "kernelspec": {
   "display_name": "Python 3",
   "language": "python",
   "name": "python3"
  },
  "language_info": {
   "codemirror_mode": {
    "name": "ipython",
    "version": 3
   },
   "file_extension": ".py",
   "mimetype": "text/x-python",
   "name": "python",
   "nbconvert_exporter": "python",
   "pygments_lexer": "ipython3",
   "version": "3.7.7"
  },
  "toc": {
   "base_numbering": 1,
   "nav_menu": {},
   "number_sections": true,
   "sideBar": true,
   "skip_h1_title": false,
   "title_cell": "Table of Contents",
   "title_sidebar": "Contents",
   "toc_cell": false,
   "toc_position": {},
   "toc_section_display": true,
   "toc_window_display": false
  },
  "varInspector": {
   "cols": {
    "lenName": 16,
    "lenType": 16,
    "lenVar": 40
   },
   "kernels_config": {
    "python": {
     "delete_cmd_postfix": "",
     "delete_cmd_prefix": "del ",
     "library": "var_list.py",
     "varRefreshCmd": "print(var_dic_list())"
    },
    "r": {
     "delete_cmd_postfix": ") ",
     "delete_cmd_prefix": "rm(",
     "library": "var_list.r",
     "varRefreshCmd": "cat(var_dic_list()) "
    }
   },
   "types_to_exclude": [
    "module",
    "function",
    "builtin_function_or_method",
    "instance",
    "_Feature"
   ],
   "window_display": false
  }
 },
 "nbformat": 4,
 "nbformat_minor": 4
}

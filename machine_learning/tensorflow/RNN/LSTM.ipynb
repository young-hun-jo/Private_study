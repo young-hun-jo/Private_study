{
 "cells": [
  {
   "cell_type": "code",
   "execution_count": 13,
   "metadata": {},
   "outputs": [],
   "source": [
    "import tensorflow as tf\n",
    "import numpy as np\n",
    "import matplotlib.pyplot as plt\n",
    "import os\n",
    "os.chdir('/Users/younghun/Desktop/gitrepo/data')"
   ]
  },
  {
   "cell_type": "code",
   "execution_count": 11,
   "metadata": {},
   "outputs": [
    {
     "data": {
      "text/plain": [
       "array([[3., 2., 1.],\n",
       "       [6., 5., 4.]])"
      ]
     },
     "execution_count": 11,
     "metadata": {},
     "output_type": "execute_result"
    }
   ],
   "source": [
    "# ::-1로 순서 바꾸는 방법\n",
    "a = np.array([[1,2,3],\n",
    "             [4.,5,6]])\n",
    "# 행자리에 ::-1로 하면 큰행이 첫번째행으로 올라옴!\n",
    "a[::-1]\n",
    "# 열자리에 ::-1로 하면 행은 유지하되 열의 요소들이 내림차순으로 정렬됨!\n",
    "a[:, ::-1]"
   ]
  },
  {
   "cell_type": "code",
   "execution_count": 60,
   "metadata": {},
   "outputs": [],
   "source": [
    "tf.reset_default_graph()\n",
    "tf.set_random_seed(123)\n",
    "\n",
    "def MinMaxScaler(data):\n",
    "    # 분자\n",
    "    numerator = data - np.min(data, axis=0)\n",
    "    # 분모\n",
    "    denominator = np.max(data, axis=0) - np.min(data, axis=0)\n",
    "    # 0으로 나누어지는거 방지하기 위해 epsilon 더해서 divide\n",
    "    return numerator / (denominator + 1e-7)\n",
    "\n",
    "## Train Parameter\n",
    "# 1개 window당 길이이며 RNN Cell개수(n_steps에 해당)\n",
    "n_steps = 7\n",
    "# feature 개수\n",
    "n_inputs = 5\n",
    "n_neurons = 10\n",
    "n_outputs = 1\n",
    "learning_rate = 0.01\n",
    "iterations = 50\n",
    "\n",
    "xy = np.loadtxt('data-02-stock_daily.csv', delimiter=',')\n",
    "# 최근->과거 데이터 순으로 되어 있어 이를 역순으로 바꾸기\n",
    "# 행에 ::-1 취해서 행을 역순으로 바꾸기\n",
    "xy = xy[::-1]\n",
    "# Scaling\n",
    "xy = MinMaxScaler(xy)\n",
    "# y값을 포함한 시계열 데이터를 입력 데이터로 넣기\n",
    "x = xy\n",
    "\n",
    "y = xy[:, [-1]]"
   ]
  },
  {
   "cell_type": "code",
   "execution_count": 61,
   "metadata": {},
   "outputs": [],
   "source": [
    "dataX = []\n",
    "dataY = []\n",
    "\n",
    "### 1칸 뒤의 값을 예측하기 위해 Sliding Window만들기\n",
    "# 1칸씩 window하기 떄문에 [ window 총 개수 = y개수 - window길이(=RNN Cell개수=n_steps) + 1 ] -> range는 0부터 시작!\n",
    "for i in range(len(y) - n_steps):\n",
    "    _x = x[i: i+n_steps]\n",
    "    # _x값에 해당하는 정답 label\n",
    "    _y = y[i+n_steps]\n",
    "    dataX.append(_x)\n",
    "    dataY.append(_y)"
   ]
  },
  {
   "cell_type": "code",
   "execution_count": 62,
   "metadata": {
    "scrolled": false
   },
   "outputs": [
    {
     "name": "stdout",
     "output_type": "stream",
     "text": [
      "WARNING:tensorflow:Entity <bound method LSTMCell.call of <tensorflow.python.ops.rnn_cell_impl.LSTMCell object at 0x7f80427638d0>> could not be transformed and will be executed as-is. Please report this to the AutgoGraph team. When filing the bug, set the verbosity to 10 (on Linux, `export AUTOGRAPH_VERBOSITY=10`) and attach the full output. Cause: converting <bound method LSTMCell.call of <tensorflow.python.ops.rnn_cell_impl.LSTMCell object at 0x7f80427638d0>>: AttributeError: module 'gast' has no attribute 'Index'\n",
      "WARNING: Entity <bound method LSTMCell.call of <tensorflow.python.ops.rnn_cell_impl.LSTMCell object at 0x7f80427638d0>> could not be transformed and will be executed as-is. Please report this to the AutgoGraph team. When filing the bug, set the verbosity to 10 (on Linux, `export AUTOGRAPH_VERBOSITY=10`) and attach the full output. Cause: converting <bound method LSTMCell.call of <tensorflow.python.ops.rnn_cell_impl.LSTMCell object at 0x7f80427638d0>>: AttributeError: module 'gast' has no attribute 'Index'\n",
      "WARNING:tensorflow:Entity <bound method Dense.call of <tensorflow.python.layers.core.Dense object at 0x7f8042747510>> could not be transformed and will be executed as-is. Please report this to the AutgoGraph team. When filing the bug, set the verbosity to 10 (on Linux, `export AUTOGRAPH_VERBOSITY=10`) and attach the full output. Cause: converting <bound method Dense.call of <tensorflow.python.layers.core.Dense object at 0x7f8042747510>>: AttributeError: module 'gast' has no attribute 'Index'\n",
      "WARNING: Entity <bound method Dense.call of <tensorflow.python.layers.core.Dense object at 0x7f8042747510>> could not be transformed and will be executed as-is. Please report this to the AutgoGraph team. When filing the bug, set the verbosity to 10 (on Linux, `export AUTOGRAPH_VERBOSITY=10`) and attach the full output. Cause: converting <bound method Dense.call of <tensorflow.python.layers.core.Dense object at 0x7f8042747510>>: AttributeError: module 'gast' has no attribute 'Index'\n",
      "Step: 0, RMSE: 10.0186\n",
      "Step: 1, RMSE: 1.5815\n",
      "Step: 2, RMSE: 5.9982\n",
      "Step: 3, RMSE: 4.8853\n",
      "Step: 4, RMSE: 2.0389\n",
      "Step: 5, RMSE: 1.4416\n",
      "Step: 6, RMSE: 2.5029\n",
      "Step: 7, RMSE: 3.2821\n",
      "Step: 8, RMSE: 3.0157\n",
      "Step: 9, RMSE: 2.1515\n",
      "Step: 10, RMSE: 1.4630\n",
      "Step: 11, RMSE: 1.4046\n",
      "Step: 12, RMSE: 1.8330\n",
      "Step: 13, RMSE: 2.2058\n",
      "Step: 14, RMSE: 2.1413\n",
      "Step: 15, RMSE: 1.7325\n",
      "Step: 16, RMSE: 1.3396\n",
      "Step: 17, RMSE: 1.2232\n",
      "Step: 18, RMSE: 1.3689\n",
      "Step: 19, RMSE: 1.5682\n",
      "Step: 20, RMSE: 1.6222\n",
      "Step: 21, RMSE: 1.4861\n",
      "Step: 22, RMSE: 1.2699\n",
      "Step: 23, RMSE: 1.1306\n",
      "Step: 24, RMSE: 1.1463\n",
      "Step: 25, RMSE: 1.2598\n",
      "Step: 26, RMSE: 1.3393\n",
      "Step: 27, RMSE: 1.3032\n",
      "Step: 28, RMSE: 1.1860\n",
      "Step: 29, RMSE: 1.0869\n",
      "Step: 30, RMSE: 1.0714\n",
      "Step: 31, RMSE: 1.1216\n",
      "Step: 32, RMSE: 1.1680\n",
      "Step: 33, RMSE: 1.1580\n",
      "Step: 34, RMSE: 1.0967\n",
      "Step: 35, RMSE: 1.0329\n",
      "Step: 36, RMSE: 1.0109\n",
      "Step: 37, RMSE: 1.0321\n",
      "Step: 38, RMSE: 1.0593\n",
      "Step: 39, RMSE: 1.0564\n",
      "Step: 40, RMSE: 1.0218\n",
      "Step: 41, RMSE: 0.9847\n",
      "Step: 42, RMSE: 0.9719\n",
      "Step: 43, RMSE: 0.9831\n",
      "Step: 44, RMSE: 0.9958\n",
      "Step: 45, RMSE: 0.9901\n",
      "Step: 46, RMSE: 0.9670\n",
      "Step: 47, RMSE: 0.9443\n",
      "Step: 48, RMSE: 0.9368\n",
      "Step: 49, RMSE: 0.9421\n",
      "(507, 1)\n",
      "#################### Learning Finished ####################\n",
      "Test의 RMSE: 0.0398\n"
     ]
    },
    {
     "data": {
      "image/png": "[encoded data removed]",
      "text/plain": [
       "<Figure size 432x288 with 1 Axes>"
      ]
     },
     "metadata": {
      "needs_background": "light"
     },
     "output_type": "display_data"
    }
   ],
   "source": [
    "# split the train, test data\n",
    "train_size = int(len(dataY) *0.7)\n",
    "test_size = len(dataY) - train_size\n",
    "\n",
    "trainX, testX = np.array(dataX[0:train_size]), np.array(dataX[train_size:len(dataX)])\n",
    "trainY, testY = np.array(dataY[0:train_size]), np.array(dataY[train_size:len(dataY)])\n",
    "\n",
    "# RNN에 맞는 입력 데이터 shape 설정\n",
    "X = tf.placeholder(tf.float32, shape=[None, n_steps, n_inputs])\n",
    "Y = tf.placeholder(tf.float32, shape=[None, n_outputs])\n",
    "\n",
    "# make LSTM model\n",
    "cell = tf.nn.rnn_cell.LSTMCell(num_units=n_neurons, activation=tf.tanh)\n",
    "\n",
    "# LSTM 연결후 결과값 출력\n",
    "lstm_outputs, states = tf.nn.dynamic_rnn(cell=cell, inputs=X, dtype=tf.float32)\n",
    "\n",
    "# size가 1인 최종결과값(1칸 뒤의 값)을 예측하기 위해 FC layer에 넣어서 output size만큼의 shape으로 출력\n",
    "# \n",
    "Y_pred = tf.contrib.layers.fully_connected(lstm_outputs[:, -1], n_outputs, activation_fn=None) #Regression이라 활성함수 None\n",
    "\n",
    "# Cost function은 Regression이기 때문에 Squared of error로 설정 - reduce_mean해서 MSE로 해도 상관없음\n",
    "cost = tf.reduce_sum(tf.square(Y_pred - Y))\n",
    "\n",
    "# Optimizer\n",
    "train = tf.train.AdamOptimizer(learning_rate=learning_rate).minimize(cost)\n",
    "\n",
    "# RMSE값 계산하기\n",
    "targets = tf.placeholder(tf.float32, shape=[None, n_outputs])\n",
    "predictions = tf.placeholder(tf.float32, shape=[None, n_outputs])\n",
    "rmse = tf.sqrt(tf.reduce_mean(tf.square(predictions - targets)))\n",
    "\n",
    "### Run Tensors ###\n",
    "with tf.Session() as sess:\n",
    "    tf.global_variables_initializer().run()\n",
    "    for i in range(iterations):\n",
    "        _, y_pred, cost_val = sess.run([train, Y_pred, cost],\n",
    "                              feed_dict={X: trainX,\n",
    "                                        Y: trainY})\n",
    "        print(f\"Step: {i}, RMSE: {cost_val :.4f}\")\n",
    "    print(y_pred.shape)\n",
    "    #print(y_pred)\n",
    "    print(\"#\"*20, \"Learning Finished\", \"#\"*20)\n",
    "    # Test 데이터로 평가\n",
    "    y_test_pred = sess.run(Y_pred, feed_dict={X: testX})\n",
    "    #print(y_test_pred.shape)\n",
    "    #print(y_test_pred)\n",
    "    \n",
    "    rmse_val = sess.run(rmse, feed_dict={targets: testY,\n",
    "                                        predictions: y_test_pred})\n",
    "    print(f\"Test의 RMSE: {rmse_val :.4f}\")\n",
    "    \n",
    "    plt.plot(testY)\n",
    "    plt.plot(y_test_pred)\n",
    "    plt.xlabel(\"Time Period\")\n",
    "    plt.ylabel(\"Stock Price\")\n",
    "    plt.show()\n",
    "    "
   ]
  },
  {
   "cell_type": "code",
   "execution_count": null,
   "metadata": {},
   "outputs": [],
   "source": []
  }
 ],
 "metadata": {
  "hide_input": false,
  "kernelspec": {
   "display_name": "Python 3",
   "language": "python",
   "name": "python3"
  },
  "language_info": {
   "codemirror_mode": {
    "name": "ipython",
    "version": 3
   },
   "file_extension": ".py",
   "mimetype": "text/x-python",
   "name": "python",
   "nbconvert_exporter": "python",
   "pygments_lexer": "ipython3",
   "version": "3.7.7"
  },
  "toc": {
   "base_numbering": 1,
   "nav_menu": {},
   "number_sections": true,
   "sideBar": true,
   "skip_h1_title": false,
   "title_cell": "Table of Contents",
   "title_sidebar": "Contents",
   "toc_cell": false,
   "toc_position": {},
   "toc_section_display": true,
   "toc_window_display": false
  },
  "varInspector": {
   "cols": {
    "lenName": 16,
    "lenType": 16,
    "lenVar": 40
   },
   "kernels_config": {
    "python": {
     "delete_cmd_postfix": "",
     "delete_cmd_prefix": "del ",
     "library": "var_list.py",
     "varRefreshCmd": "print(var_dic_list())"
    },
    "r": {
     "delete_cmd_postfix": ") ",
     "delete_cmd_prefix": "rm(",
     "library": "var_list.r",
     "varRefreshCmd": "cat(var_dic_list()) "
    }
   },
   "types_to_exclude": [
    "module",
    "function",
    "builtin_function_or_method",
    "instance",
    "_Feature"
   ],
   "window_display": false
  }
 },
 "nbformat": 4,
 "nbformat_minor": 4
}

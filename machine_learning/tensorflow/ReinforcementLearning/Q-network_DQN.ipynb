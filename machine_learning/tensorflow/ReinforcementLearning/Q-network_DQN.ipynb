{
 "cells": [
  {
   "cell_type": "code",
   "execution_count": 1,
   "metadata": {},
   "outputs": [],
   "source": [
    "import numpy as np\n",
    "\n",
    "input_size = 16\n",
    "\n",
    "def one_hot(x):\n",
    "    ohe = np.identity(input_size)[x:x+1]\n",
    "    return ohe"
   ]
  },
  {
   "cell_type": "code",
   "execution_count": 2,
   "metadata": {},
   "outputs": [
    {
     "data": {
      "text/plain": [
       "array([[1., 0., 0., 0., 0., 0., 0., 0., 0., 0., 0., 0., 0., 0., 0., 0.]])"
      ]
     },
     "execution_count": 2,
     "metadata": {},
     "output_type": "execute_result"
    }
   ],
   "source": [
    "a = one_hot(0)\n",
    "a"
   ]
  },
  {
   "cell_type": "code",
   "execution_count": 27,
   "metadata": {},
   "outputs": [
    {
     "data": {
      "text/plain": [
       "3"
      ]
     },
     "execution_count": 27,
     "metadata": {},
     "output_type": "execute_result"
    }
   ],
   "source": [
    "import random\n",
    "random.randrange(5)"
   ]
  },
  {
   "cell_type": "markdown",
   "metadata": {},
   "source": [
    "# Q-network"
   ]
  },
  {
   "cell_type": "code",
   "execution_count": 2,
   "metadata": {},
   "outputs": [],
   "source": [
    "import gym\n",
    "import numpy as np\n",
    "import tensorflow as tf\n",
    "import matplotlib.pyplot as plt"
   ]
  },
  {
   "cell_type": "code",
   "execution_count": 8,
   "metadata": {},
   "outputs": [
    {
     "name": "stdout",
     "output_type": "stream",
     "text": [
      "Precent of successful episode:0.0%\n"
     ]
    },
    {
     "data": {
      "image/png": "[encoded data removed]",
      "text/plain": [
       "<Figure size 432x288 with 1 Axes>"
      ]
     },
     "metadata": {
      "needs_background": "light"
     },
     "output_type": "display_data"
    },
    {
     "data": {
      "image/png": "[encoded data removed]",
      "text/plain": [
       "<Figure size 432x288 with 1 Axes>"
      ]
     },
     "metadata": {
      "needs_background": "light"
     },
     "output_type": "display_data"
    }
   ],
   "source": [
    "env = gym.make('FrozenLake-v0')\n",
    "tf.reset_default_graph()\n",
    "\n",
    "### learning parameters ###\n",
    "# Goal에 도착할 때까지 몇 번 시도할 것인지\n",
    "num_episodes = 1000\n",
    "# discount factor\n",
    "discount = 0.99\n",
    "# Exploration을 위한 E-greedy 변수 설정\n",
    "e = 0.1\n",
    "# GD를 수행할 learning_rate\n",
    "learning_rate = 0.1\n",
    "\n",
    "# 입력 데이터 = 상태 종류 개수로 설정\n",
    "input_size = env.observation_space.n\n",
    "# 출력 데이터 = 행동 종류 개수로 설정\n",
    "output_size = env.action_space.n\n",
    "\n",
    "# 상태(입력 데이터)가 하나의 상수값인데, 이를 One-hot 형태로 바꿔주기 위한 함수\n",
    "def one_hot(x):\n",
    "    input_ohe = np.identity(input_size)[x:x+1]\n",
    "    return input_ohe\n",
    "\n",
    "### 데이터 feed 시킬 Placeholder 정의 ###\n",
    "X = tf.placeholder(tf.float32, shape=[1, input_size])\n",
    "# 상태(입력 데이터)에 곱해서 행동(출력 데이터)을 도출할 Weight 정의\n",
    "W = tf.Variable(tf.random_uniform(shape=[input_size, output_size], minval=0, maxval=0.01))\n",
    "# 액션(출력 데이터) placeholder 정의\n",
    "Y = tf.placeholder(tf.float32, shape=[1, output_size])\n",
    "\n",
    "# X,W 내적\n",
    "Q_pred = tf.matmul(X, W)\n",
    "# 가장 큰 값을 갖는 index(=가장 큰 값은 갖는 행동) 반한\n",
    "predict = tf.argmax(Q_pred, axis=1)\n",
    "\n",
    "### Cost function & GD ###\n",
    "# Cost 함수는 Sum of square error로 정의\n",
    "loss = tf.reduce_sum(tf.square(Y - Q_pred))\n",
    "trainer = tf.train.GradientDescentOptimizer(learning_rate=learning_rate).minimize(loss)\n",
    "\n",
    "#변수 초기화를 Session 밖에서 정의하기도 함!\n",
    "init = tf.initialize_all_variables()\n",
    "\n",
    "### Run Tensors ###\n",
    "# episode 한 번씩 돌면서 받게 된 보상, Goal에 도달할 때까지의 몇 번 step했는지 담을 list\n",
    "rList = []\n",
    "jList = []\n",
    "\n",
    "with tf.Session() as sess:\n",
    "    sess.run(init)\n",
    "    # episode for loop\n",
    "    for i in range(num_episodes):\n",
    "        # 초기상태 초기화\n",
    "        current_state = env.reset()\n",
    "        Total_reward = 0\n",
    "        done = False\n",
    "        j = 0\n",
    "        \n",
    "        # 1번의 episode 내에서 Goal에 도달할 때까지 무한 loop(done이 True일 때까지)\n",
    "        while not done:\n",
    "            # step 1씩 증가\n",
    "            j += 1\n",
    "            \n",
    "            # episode시작할 때 부여된 random한 초기 state를 feed해서 뉴럴넷을 돌린 후 내뱉은 모든 행동값과 가장 보상이큰 행동값 하나 출력\n",
    "            a, allQ = sess.run([predict, Q_pred], feed_dict={X: one_hot(current_state)})\n",
    "            # E-greedy로 Exploration 수행\n",
    "            if np.random.rand(1) < e:\n",
    "                # E-greedy 조건 만족시 max Q상관없이 그냥 랜덤하게 행동 취해!\n",
    "                # array로 반환하기 위해 [0]인덱스 사용한 것!\n",
    "                a[0] = env.action_space.sample()\n",
    "            \n",
    "            # E-greedy 또는 뉴럴넷으로 도출된 가장 높은 보상을 갖는 행동 둘 중 하나로 행동 취하자\n",
    "            next_state, reward, done, _ = env.step(a[0])\n",
    "            # 얻은 next_state를 뉴럴렛에 입력해서 도출된 모든 행동 경우 출력\n",
    "            Qp = sess.run([Q_pred], feed_dict={X: one_hot(next_state)})\n",
    "            \n",
    "            # current_state를 뉴럴넷에 입력해서 얻은 모든 행동 경우\n",
    "            targetQ = allQ\n",
    "            # current_state에서 얻은 모든 행동 중 가장 보상이 컸던 행동의 '보상값'을..\n",
    "            # next_state를 뉴럴넷에 넣어 도출된 모든 행동의 보상값들 중 '가장 보상이큰 값'으로 업데이트!\n",
    "            targetQ[0, a[0]] = reward + discount*np.max(Qp) #---> Q(보상)을 업데이트 해서 Y(label) 생성\n",
    "            \n",
    "            _, W1 = sess.run([trainer, W], feed_dict={X: one_hot(current_state),\n",
    "                                                Y: targetQ}) #---> 뉴럴넷의 Weight를 업데이트\n",
    "            \n",
    "            Total_reward += reward\n",
    "            # state 업데이트\n",
    "            current_state = next_state\n",
    "            # Goal에 도달하면 done이 True로 반환됨!\n",
    "            if done == True:\n",
    "                # E-greedy 값도 조정\n",
    "                e = 1.0 / ((i/50) + 10)\n",
    "                break\n",
    "            jList.append(j)\n",
    "            rList.append(Total_reward)\n",
    "\n",
    "print(\"Precent of successful episode:\"+ str((sum(rList)/num_episodes)*100)+\"%\")\n",
    "plt.figure(1)\n",
    "plt.plot(rList)\n",
    "plt.figure(2)\n",
    "plt.plot(jList)\n",
    "plt.show()"
   ]
  },
  {
   "cell_type": "markdown",
   "metadata": {},
   "source": [
    "# DQN\n",
    "- Deep하게 네트워크를 쌓자!(CNN도 사용되기도 함!)\n",
    "- correlation between samples => ``loop 돌리면서 얻은 state, action, reward를 buffer에 저장하고 random sampling에서 뉴럴넷에 학습 시키기``\n",
    "- Non-stationary Target(label) => ``Y_pred와 Y_true를 개별적인 네트워크를 사용``\n",
    "    * 우선 Y_true 네트워크 파라미터를 고정시키고 Y_pred 파라미터를 업데이트\n",
    "    * 어느정도 주기가 지난 후 업데이트된 Y_pred 파라미터를 복사해서 Y_true 파라미터로 복붙!\n",
    "    * 그리고 다시 Y_ture 파라미터를 고정시키고 Y_pred 파라미터 업데이트 ...(반복)..."
   ]
  },
  {
   "cell_type": "code",
   "execution_count": 10,
   "metadata": {},
   "outputs": [],
   "source": [
    "from collections import deque\n",
    "from tensorflow.keras.models import Sequential\n",
    "from tensorflow.keras.layers import Dense\n",
    "from tensorflow.keras.optimizers import Adam\n",
    "import random"
   ]
  },
  {
   "cell_type": "code",
   "execution_count": null,
   "metadata": {},
   "outputs": [],
   "source": [
    "EPISODES = 1000\n",
    "\n",
    "#### DQN Class ####\n",
    "class DQN_agent:\n",
    "    # 변수 정의 위해 생성자 함수\n",
    "    def __init__(self, state_size, action_size):\n",
    "        self.state_size = state_size\n",
    "        self.action_size = action_size\n",
    "        # buffer에 저장할 memory 정의하기 위해 2000개를 담을 수 있는 비어있는 deque 자료구조 정의\n",
    "        self.memory = deque(maxlen=2000)\n",
    "        self.gamma = 0.95 # discount factor\n",
    "        self.epsilon = 1.0 # for exploration\n",
    "        self.epsilon_min = 0.01\n",
    "        self.epsilon_decay = 0.995\n",
    "        self.learning_rate = 0.001 # 뉴럴넷에서 학습시킬 때 학습률 설정\n",
    "        # 밑에서 만들어줄 뉴럴넷 모델을 불러오는 함수를 model변수에 할당하기 위해 생성자 함수에 포함시키기\n",
    "        self.model = self._build_model()\n",
    "        \n",
    "    def _build_model(self):\n",
    "        model = Sequential()\n",
    "        # input -> 뉴럴넷 유닛개수 24개로 \n",
    "        model.add(Dense(24, input_dim=self.state_size, activation='relu'))\n",
    "        model.add(Dense(24, activation='relu'))\n",
    "        # 뉴럴넷 유닛개수 24개 -> 행동(출력 데이터) 유닛 개수로\n",
    "        model.add(Dense(self.action_size, activation='linear'))\n",
    "        # 모델 컴파일 함으로써 Cost function, Optimizer 정의\n",
    "        model.complie(loss='mse', optimizer=Adam(lr=self.learning_rate))\n",
    "        return model\n",
    "    \n",
    "    # 상태, 행동, 보상, Goal에 도착했는지 정보를 Buffer에 저장하는 함수 for experience replay to solve correlations between samples\n",
    "    def remember(self, state, action, reward, done):\n",
    "        self.memory.append((state, action, reward, done))\n",
    "        \n",
    "    # 다음 상태로 이동하기 위해 행동을 취하는 함수\n",
    "    def act(self, state):\n",
    "        # E-greedy for exploration로 얻어낸 행동\n",
    "        if np.random.rand() <= self.epsilon:\n",
    "            # 0부터 action_size 범위안의 1 step 시퀀스 안에서 랜덤한 값 하나를 리턴\n",
    "            return random.randrange(self.action_size)\n",
    "        \n",
    "        # 뉴럴넷으로 얻어낸 행동들 중 가장 max 보상을 갖는 행동\n",
    "        act_values = self.model.predict(state)\n",
    "        return np.argmax(act_values[0]) # [0]은 array로 반환하기 위해!\n",
    "    \n",
    "    # Experience Replay 수행하는 함수\n",
    "    def replay(self, batch_size):\n",
    "        minibatch = random.sample(self.memory, batch_size)\n",
    "        for state, action, reward, next_state, done in minibatch:\n",
    "            target = reward\n",
    "            # done이 False로 나왔을 때, 즉 아직 Goal에 도달하지 못한 경우 Y label 업데이트 -> ??\n",
    "            if not done:\n",
    "                target = (reward + self.gamma*np.amax(self.model.predict(state)[0]))\n",
    "            \n",
    "            \n",
    "            "
   ]
  }
 ],
 "metadata": {
  "hide_input": false,
  "kernelspec": {
   "display_name": "Python 3",
   "language": "python",
   "name": "python3"
  },
  "language_info": {
   "codemirror_mode": {
    "name": "ipython",
    "version": 3
   },
   "file_extension": ".py",
   "mimetype": "text/x-python",
   "name": "python",
   "nbconvert_exporter": "python",
   "pygments_lexer": "ipython3",
   "version": "3.7.7"
  },
  "toc": {
   "base_numbering": 1,
   "nav_menu": {},
   "number_sections": true,
   "sideBar": true,
   "skip_h1_title": false,
   "title_cell": "Table of Contents",
   "title_sidebar": "Contents",
   "toc_cell": false,
   "toc_position": {},
   "toc_section_display": true,
   "toc_window_display": false
  },
  "varInspector": {
   "cols": {
    "lenName": 16,
    "lenType": 16,
    "lenVar": 40
   },
   "kernels_config": {
    "python": {
     "delete_cmd_postfix": "",
     "delete_cmd_prefix": "del ",
     "library": "var_list.py",
     "varRefreshCmd": "print(var_dic_list())"
    },
    "r": {
     "delete_cmd_postfix": ") ",
     "delete_cmd_prefix": "rm(",
     "library": "var_list.r",
     "varRefreshCmd": "cat(var_dic_list()) "
    }
   },
   "types_to_exclude": [
    "module",
    "function",
    "builtin_function_or_method",
    "instance",
    "_Feature"
   ],
   "window_display": false
  }
 },
 "nbformat": 4,
 "nbformat_minor": 4
}

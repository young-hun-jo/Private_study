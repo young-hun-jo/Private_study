{
 "cells": [
  {
   "cell_type": "markdown",
   "metadata": {},
   "source": [
    "# MNIST with CNN"
   ]
  },
  {
   "cell_type": "code",
   "execution_count": 1,
   "metadata": {
    "scrolled": true
   },
   "outputs": [
    {
     "name": "stderr",
     "output_type": "stream",
     "text": [
      "/Users/younghun/opt/anaconda3/envs/venvforpython/lib/python3.7/site-packages/tensorflow/python/framework/dtypes.py:516: FutureWarning: Passing (type, 1) or '1type' as a synonym of type is deprecated; in a future version of numpy, it will be understood as (type, (1,)) / '(1,)type'.\n",
      "  _np_qint8 = np.dtype([(\"qint8\", np.int8, 1)])\n",
      "/Users/younghun/opt/anaconda3/envs/venvforpython/lib/python3.7/site-packages/tensorflow/python/framework/dtypes.py:517: FutureWarning: Passing (type, 1) or '1type' as a synonym of type is deprecated; in a future version of numpy, it will be understood as (type, (1,)) / '(1,)type'.\n",
      "  _np_quint8 = np.dtype([(\"quint8\", np.uint8, 1)])\n",
      "/Users/younghun/opt/anaconda3/envs/venvforpython/lib/python3.7/site-packages/tensorflow/python/framework/dtypes.py:518: FutureWarning: Passing (type, 1) or '1type' as a synonym of type is deprecated; in a future version of numpy, it will be understood as (type, (1,)) / '(1,)type'.\n",
      "  _np_qint16 = np.dtype([(\"qint16\", np.int16, 1)])\n",
      "/Users/younghun/opt/anaconda3/envs/venvforpython/lib/python3.7/site-packages/tensorflow/python/framework/dtypes.py:519: FutureWarning: Passing (type, 1) or '1type' as a synonym of type is deprecated; in a future version of numpy, it will be understood as (type, (1,)) / '(1,)type'.\n",
      "  _np_quint16 = np.dtype([(\"quint16\", np.uint16, 1)])\n",
      "/Users/younghun/opt/anaconda3/envs/venvforpython/lib/python3.7/site-packages/tensorflow/python/framework/dtypes.py:520: FutureWarning: Passing (type, 1) or '1type' as a synonym of type is deprecated; in a future version of numpy, it will be understood as (type, (1,)) / '(1,)type'.\n",
      "  _np_qint32 = np.dtype([(\"qint32\", np.int32, 1)])\n",
      "/Users/younghun/opt/anaconda3/envs/venvforpython/lib/python3.7/site-packages/tensorflow/python/framework/dtypes.py:525: FutureWarning: Passing (type, 1) or '1type' as a synonym of type is deprecated; in a future version of numpy, it will be understood as (type, (1,)) / '(1,)type'.\n",
      "  np_resource = np.dtype([(\"resource\", np.ubyte, 1)])\n",
      "/Users/younghun/opt/anaconda3/envs/venvforpython/lib/python3.7/site-packages/tensorboard/compat/tensorflow_stub/dtypes.py:541: FutureWarning: Passing (type, 1) or '1type' as a synonym of type is deprecated; in a future version of numpy, it will be understood as (type, (1,)) / '(1,)type'.\n",
      "  _np_qint8 = np.dtype([(\"qint8\", np.int8, 1)])\n",
      "/Users/younghun/opt/anaconda3/envs/venvforpython/lib/python3.7/site-packages/tensorboard/compat/tensorflow_stub/dtypes.py:542: FutureWarning: Passing (type, 1) or '1type' as a synonym of type is deprecated; in a future version of numpy, it will be understood as (type, (1,)) / '(1,)type'.\n",
      "  _np_quint8 = np.dtype([(\"quint8\", np.uint8, 1)])\n",
      "/Users/younghun/opt/anaconda3/envs/venvforpython/lib/python3.7/site-packages/tensorboard/compat/tensorflow_stub/dtypes.py:543: FutureWarning: Passing (type, 1) or '1type' as a synonym of type is deprecated; in a future version of numpy, it will be understood as (type, (1,)) / '(1,)type'.\n",
      "  _np_qint16 = np.dtype([(\"qint16\", np.int16, 1)])\n",
      "/Users/younghun/opt/anaconda3/envs/venvforpython/lib/python3.7/site-packages/tensorboard/compat/tensorflow_stub/dtypes.py:544: FutureWarning: Passing (type, 1) or '1type' as a synonym of type is deprecated; in a future version of numpy, it will be understood as (type, (1,)) / '(1,)type'.\n",
      "  _np_quint16 = np.dtype([(\"quint16\", np.uint16, 1)])\n",
      "/Users/younghun/opt/anaconda3/envs/venvforpython/lib/python3.7/site-packages/tensorboard/compat/tensorflow_stub/dtypes.py:545: FutureWarning: Passing (type, 1) or '1type' as a synonym of type is deprecated; in a future version of numpy, it will be understood as (type, (1,)) / '(1,)type'.\n",
      "  _np_qint32 = np.dtype([(\"qint32\", np.int32, 1)])\n",
      "/Users/younghun/opt/anaconda3/envs/venvforpython/lib/python3.7/site-packages/tensorboard/compat/tensorflow_stub/dtypes.py:550: FutureWarning: Passing (type, 1) or '1type' as a synonym of type is deprecated; in a future version of numpy, it will be understood as (type, (1,)) / '(1,)type'.\n",
      "  np_resource = np.dtype([(\"resource\", np.ubyte, 1)])\n"
     ]
    },
    {
     "name": "stdout",
     "output_type": "stream",
     "text": [
      "WARNING:tensorflow:From <ipython-input-1-1adf6e33d929>:3: read_data_sets (from tensorflow.contrib.learn.python.learn.datasets.mnist) is deprecated and will be removed in a future version.\n",
      "Instructions for updating:\n",
      "Please use alternatives such as official/mnist/dataset.py from tensorflow/models.\n",
      "WARNING:tensorflow:From /Users/younghun/opt/anaconda3/envs/venvforpython/lib/python3.7/site-packages/tensorflow/contrib/learn/python/learn/datasets/mnist.py:260: maybe_download (from tensorflow.contrib.learn.python.learn.datasets.base) is deprecated and will be removed in a future version.\n",
      "Instructions for updating:\n",
      "Please write your own downloading logic.\n",
      "WARNING:tensorflow:From /Users/younghun/opt/anaconda3/envs/venvforpython/lib/python3.7/site-packages/tensorflow/contrib/learn/python/learn/datasets/base.py:252: _internal_retry.<locals>.wrap.<locals>.wrapped_fn (from tensorflow.contrib.learn.python.learn.datasets.base) is deprecated and will be removed in a future version.\n",
      "Instructions for updating:\n",
      "Please use urllib or similar directly.\n",
      "Successfully downloaded train-images-idx3-ubyte.gz 9912422 bytes.\n",
      "WARNING:tensorflow:From /Users/younghun/opt/anaconda3/envs/venvforpython/lib/python3.7/site-packages/tensorflow/contrib/learn/python/learn/datasets/mnist.py:262: extract_images (from tensorflow.contrib.learn.python.learn.datasets.mnist) is deprecated and will be removed in a future version.\n",
      "Instructions for updating:\n",
      "Please use tf.data to implement this functionality.\n",
      "Extracting /tmp/data/train-images-idx3-ubyte.gz\n",
      "Successfully downloaded train-labels-idx1-ubyte.gz 28881 bytes.\n",
      "WARNING:tensorflow:From /Users/younghun/opt/anaconda3/envs/venvforpython/lib/python3.7/site-packages/tensorflow/contrib/learn/python/learn/datasets/mnist.py:267: extract_labels (from tensorflow.contrib.learn.python.learn.datasets.mnist) is deprecated and will be removed in a future version.\n",
      "Instructions for updating:\n",
      "Please use tf.data to implement this functionality.\n",
      "Extracting /tmp/data/train-labels-idx1-ubyte.gz\n",
      "WARNING:tensorflow:From /Users/younghun/opt/anaconda3/envs/venvforpython/lib/python3.7/site-packages/tensorflow/contrib/learn/python/learn/datasets/mnist.py:110: dense_to_one_hot (from tensorflow.contrib.learn.python.learn.datasets.mnist) is deprecated and will be removed in a future version.\n",
      "Instructions for updating:\n",
      "Please use tf.one_hot on tensors.\n",
      "Successfully downloaded t10k-images-idx3-ubyte.gz 1648877 bytes.\n",
      "Extracting /tmp/data/t10k-images-idx3-ubyte.gz\n",
      "Successfully downloaded t10k-labels-idx1-ubyte.gz 4542 bytes.\n",
      "Extracting /tmp/data/t10k-labels-idx1-ubyte.gz\n",
      "WARNING:tensorflow:From /Users/younghun/opt/anaconda3/envs/venvforpython/lib/python3.7/site-packages/tensorflow/contrib/learn/python/learn/datasets/mnist.py:290: DataSet.__init__ (from tensorflow.contrib.learn.python.learn.datasets.mnist) is deprecated and will be removed in a future version.\n",
      "Instructions for updating:\n",
      "Please use alternatives such as official/mnist/dataset.py from tensorflow/models.\n"
     ]
    }
   ],
   "source": [
    "import tensorflow as tf\n",
    "from tensorflow.examples.tutorials.mnist import input_data\n",
    "mnist = input_data.read_data_sets('/tmp/data', one_hot=True)"
   ]
  },
  {
   "cell_type": "code",
   "execution_count": 2,
   "metadata": {},
   "outputs": [],
   "source": [
    "# CNN 텐서 만들기\n",
    "def build_CNN_classifier(x):\n",
    "    # x로 들어오는 image shape = [55000, 784]\n",
    "    # 위 x를 4차원 형태로 reshape -> stride, pooling의 shape인자와 동일\n",
    "    '''\n",
    "    [batch, height, width, channel]\n",
    "    - batch:데이터 개수(몇 개가 들어올지 모르니 유연하게 -1로 설정\n",
    "    - height, width : 이미지 가로,세로 길이\n",
    "    - channel: 이미지 표현하는 RGB(3개의 색깔로 모두 표현함)이기 때문에 1인자로 1차원 추가 -> 다른 숫자가 오면안되나.?질문하기..\n",
    "    '''\n",
    "    x_image = tf.reshape(x, [-1, 28, 28, 1])\n",
    "    \n",
    "    # 1번째 컨볼루션 필터 W값\n",
    "    '''<필터 shape설정만 독특하게 다름!>\n",
    "    [height, width, 입력 channel, 출력 channel]\n",
    "    - height, width: 이미지 가로, 세로 길이\n",
    "    - 입력 channel: 들어오는 이미지에 필터링 할 필터 개수\n",
    "    - 출력 channel: 들어오는 이미지 1개에 대해 필터들을 적용하니까 필터개수 만큼 출력됨!\n",
    "    '''\n",
    "        # truncated_normal:일반 random_normal로 하면 -무한대와 +무한대에 근사한 값들도 포함되어 설정할 수 있으므로 그 경우에 학습시간이 오래걸림\n",
    "        # 따라서 -무한대, +무한대 부분을 제외한(자른=truncated) truncated_normal 사용\n",
    "    W_conv1 = tf.Variable(tf.truncated_normal(shape=[5, 5, 1, 32], stddev=5e-2))\n",
    "    \n",
    "    # 1번째에 적용된 필터들 거친 후 필터들 개수만큼 출력된 특징들에 각각 bias 연산하도록 bias할당\n",
    "    # 여기서는 상수(constant)로 고정시켰지만 random값으로 설정해도 됨\n",
    "    b_conv1 = tf.Variable(tf.constant(0.1, shape=[32]))\n",
    "    \n",
    "    # 필터와 bias 적용 단계와 그 후 나온 특징들에 대해 활성함수 적용단계까지 한 번에!\n",
    "    '''<strides shape 인자>\n",
    "    [batch, height, width, channel]\n",
    "    - batch: 데이터 개수(이미지 1개가 들어오니 1)\n",
    "    - height, width: 가로,세로 1칸씩 띄워서 stride 적용\n",
    "    - channel: 이미지 표현 RGB니깐 인자를 1로 추가해 3차원으로 설정\n",
    "    '''\n",
    "        #padding='SAME'이면 입력 이미지 size와 필터링 걸친 후 나오는 특징 이미지 size와 같도록 하자!-가로,세로로 2차원이니까 conv2d사용?\n",
    "    h_conv1 = tf.nn.relu(tf.nn.conv2d(x_image, W_conv1, strides=[1, 1, 1, 1], padding='SAME') + b_conv1)\n",
    "    \n",
    "    # pooling 적용\n",
    "    '''<pooling shape인 kszie 인자>\n",
    "    [batch, height, width, channel]\n",
    "    - batch: 데이터 개수(이미지 1개가 들어오니 1)\n",
    "    - height, width: pooling할 size를 가로, 세로 2로 설정\n",
    "    - channel: 이미지 표현 RGB니까 1을 추가해 3차원으로 설정\n",
    "    @위에서 padding='SAME'으로 필터링 거친후 출력 size가 입력 size와 동일하니 [1, 28, 28, 1]이다. \n",
    "    따라서 pooling size(ksize)를 2 by 2로 설정했으니 size가 \"28 -> 14\"로 1/2만큼 줄어듦!\n",
    "    '''\n",
    "        # strides인자와 padding 인자 의미는 위와 동일\n",
    "    h_pool1 = tf.nn.max_pool(h_conv1, ksize=[1, 2, 2, 1], strides=[1, 2, 2, 1], padding='SAME')\n",
    "    \n",
    "    # 2번째 컨볼루션 필터 W값\n",
    "    '''\n",
    "    - 필터 shape의 인자 3번째가 32인 이유는 W_conv1에서 필터개수를 32개로 설정해 필터링 거친 후 특징들도 32개이기 때문에 입력 channel=32로 설정\n",
    "    - 이제 2번째 컨볼루션에서 필터 개수를 64개로 설정해서 특징을 64개만큼 도출\n",
    "    '''\n",
    "    W_conv2 = tf.Variable(tf.truncated_normal(shape=[5, 5, 32, 64], stddev=5e-2))\n",
    "    b_conv2 = tf.Variable(tf.constant(0.1, shape=[64]))\n",
    "    h_conv2 = tf.nn.relu(tf.nn.conv2d(h_pool1, W_conv2, strides=[1, 1, 1, 1], padding='SAME') + b_conv2)\n",
    "    # h_pool1결과로 각 필터의 특징 size가 14 by 14인 상태인데, 여기서 pooling size를 2 by 2로 설정\n",
    "    # 2번째 pooling을 거친 후 각 필터의 특징 size는 7 by 7임.\n",
    "    h_pool2 = tf.nn.max_pool(h_conv2, ksize=[1, 2, 2, 1], strides=[1, 2, 2, 1], padding='SAME')\n",
    "    \n",
    "    # Fully Connected layer1 정의\n",
    "    '''<Fully Conntected Wegiht값 size설정>\n",
    "    [입력channel, 출력channel]\n",
    "    - shape 첫 번째 인자: 2번의 pooling 모두 거친 후의 이미지 가로와 세로,\n",
    "      그리고 64개의 필터들로 추출된 특징 64개를 곱해 모든 특징값들을 한 곳으로 모으기\n",
    "    - shape 두 번째 인자: 1024개 만큼의 출력 size를 임의로 설정?\n",
    "    '''\n",
    "    W_fc1 = tf.Variable(tf.truncated_normal(shape=[7*7*64, 1024], stddev=5e-2))\n",
    "    b_fc1 = tf.Variable(tf.constant(0.1, shape=[1024]))\n",
    "    # 2번의 CNN을 거친 결과의 4차원 shape을 1차원으로 쫘악 펴주기- 데이터개수(행)는 가변적(-1)으로, 열(column)은 모든 특징값들 개수(W_fc1 행길이=h_pool2_flat 열길이)\n",
    "    h_pool2_flat = tf.reshape(h_pool2, [-1, 7*7*64])\n",
    "    # flatten해준 특징값들을 W_fc1과 곱한 후 summation, 그리고 bias값 더하기!\n",
    "    h_fc1 = tf.nn.relu(tf.matmul(h_pool2_flat, W_fc1) + b_fc1)\n",
    "    \n",
    "    # 최종 분류 결과값을 도출할 Fully connected layer2 정의\n",
    "    W_output = tf.Variable(tf.truncated_normal(shape=[1024, 10], stddev=5e-2))\n",
    "    b_output = tf.Variable(tf.constant(0.1, shape=[10]))\n",
    "    # flatten한 후 활성함수 적용한 값들에 최종 Weight, bias값 기반으로 활성함수 적용!\n",
    "    logits = tf.matmul(h_fc1, W_output) + b_output\n",
    "    # softmax 활성함수로 최종 10개의 클래스 중 한개로 분류\n",
    "    y_pred = tf.nn.softmax(logits)\n",
    "    \n",
    "    return y_pred, logits"
   ]
  },
  {
   "cell_type": "code",
   "execution_count": 4,
   "metadata": {},
   "outputs": [
    {
     "name": "stdout",
     "output_type": "stream",
     "text": [
      "Epoch :0, Training Acc: 0.080000\n",
      "Epoch :100, Training Acc: 0.760000\n",
      "Epoch :200, Training Acc: 0.820000\n",
      "Epoch :300, Training Acc: 0.980000\n",
      "Epoch :400, Training Acc: 0.900000\n",
      "Epoch :500, Training Acc: 1.000000\n",
      "Epoch :600, Training Acc: 0.900000\n",
      "Epoch :700, Training Acc: 0.960000\n",
      "Epoch :800, Training Acc: 0.960000\n",
      "Epoch :900, Training Acc: 0.940000\n",
      "Test Acc: 0.9608\n"
     ]
    }
   ],
   "source": [
    "# Train, Test placeholder, cost function, accuracy 등 정의 \n",
    "\n",
    "# x는 내장 데이터에서 제공하는 image shape=[550000, 784]이기 때문!\n",
    "x = tf.placeholder(tf.float32, shape=[None, 784])\n",
    "y = tf.placeholder(tf.float32, shape=[None, 10])\n",
    "\n",
    "y_pred, logits = build_CNN_classifier(x)\n",
    "\n",
    "# cost function : cross-entropy\n",
    "loss = tf.reduce_mean(tf.nn.softmax_cross_entropy_with_logits_v2(labels=y,\n",
    "                                                                logits=logits))\n",
    "# Gradient Descent 사용해 cost 최소화\n",
    "train_step = tf.train.AdamOptimizer(learning_rate=1e-4).minimize(loss)\n",
    "\n",
    "# 예측값에서 1(열)방향으로 값이 가장 큰 인자값(=정답숫자)\n",
    "# & 실제값에서 1(열)방향으로 가장 큰 인자값(=정답숫자) \n",
    "# 일치하면 True(1), 불일치하면 False(0)반환\n",
    "correct_prediction = tf.equal(tf.argmax(y_pred, 1), tf.argmax(y, 1))\n",
    "\n",
    "# 정확도 정의(correct_prediction을 float형으로 만든 후 평균 계산!)\n",
    "accuracy = tf.reduce_mean(tf.cast(correct_prediction, dtype=tf.float32))\n",
    "\n",
    "# 위에서 만들었던 텐서들 Run 시키기\n",
    "with tf.Session() as sess:\n",
    "    sess.run(tf.global_variables_initializer())\n",
    "    for i in range(1000):\n",
    "        # MNIST 데이터에서 batch_size 설정해 그것만큼 학습시키면서 cost 최소화 시켜라!\n",
    "        batch = mnist.train.next_batch(50)\n",
    "        if i % 100 == 0:\n",
    "            # 학습 시 정확도 일부 출력 - batch[0]:이미지feature들, batch[1]:정답(label)\n",
    "            train_accuracy = accuracy.eval(feed_dict={x: batch[0], y:batch[1]})\n",
    "            print(f\"Epoch :{i}, Training Acc: {train_accuracy:4f}\")\n",
    "        # Gradient Descent로 Cost 최소화시키도록 학습\n",
    "        sess.run([train_step], feed_dict={x:batch[0], y:batch[1]})\n",
    "    \n",
    "    # 마지막 학습한 최종 파라미터로 Test데이터로 평가 후 정확도 출력\n",
    "    test_accuracy = accuracy.eval(feed_dict={x:mnist.test.images,\n",
    "                                            y:mnist.test.labels})\n",
    "    print(f\"Test Acc: {test_accuracy:.4f}\")"
   ]
  },
  {
   "cell_type": "markdown",
   "metadata": {},
   "source": [
    "---"
   ]
  },
  {
   "cell_type": "markdown",
   "metadata": {},
   "source": [
    "# CIFAR-10 with CNN"
   ]
  },
  {
   "cell_type": "code",
   "execution_count": 7,
   "metadata": {},
   "outputs": [],
   "source": [
    "import numpy as np\n",
    "from tensorflow.keras.datasets.cifar10 import load_data\n",
    "\n",
    "def next_batch(num, data, labels):\n",
    "    # 0부터 data길이-1 크기대로 data길이 만큼 요소를 담은 array만들기\n",
    "    idx = np.arange(0, len(data))\n",
    "    # 위에서 만든 idx 순서를 무작위로 섞음\n",
    "    np.random_shuffle(idx)\n",
    "    # 설정한 batch_size만큼의 index 재할당\n",
    "    idx = idx[:num]\n",
    "    # 위의 index 위치에 패밍되는 data 하나씩 담기(label도 마찬가지)\n",
    "    data_shuffle = [data[i] for i in idx]\n",
    "    labels_shuffle = [labels[i] for i in idx]\n",
    "    \n",
    "    # asarray() 사용해 array로 만들고 리턴\n",
    "    return np.asarray(data_shuffle), np.asarray(labels_shuffle)"
   ]
  },
  {
   "cell_type": "code",
   "execution_count": null,
   "metadata": {},
   "outputs": [],
   "source": [
    "# build CNN\n",
    "def build_CNN_classfier(x):\n",
    "    x_image = x\n",
    "    # shape=[heightm, widht, 입력채널개수, 출력채널개수] -> 3=필터개수\n",
    "    W_conv1 = tf.Variable(tf.truncated_normal(shape=[5, 5, 3, 64],\n",
    "                                             stddev=5e-2))\n",
    "    b_conv1 = tf.Variable(tf.constant(0.1, shape=[64]))\n",
    "    # 입력 이미지와 필터를 strides사이즈와 padding 설정하고 컨볼루션한 후 bias를 더해 활성함수 relu적용\n",
    "    h_conv1 = tf.nn.relu(tf.nn.conv2d(x_image, W_conv1,\n",
    "                                     strides=[1, 1, 1, 1],\n",
    "                                     padding='SAME') + b_conv1)\n",
    "    h_pool1 = tf.nn.max_pool(h_conv1, ksize=[1, 3, 3, 1],\n",
    "                            strides=[1, 2, 2, 1], padding='SAME')\n",
    "    # padding='SAME'이므로 필터적용할 사이즈 이전 입력 사이즈랑 동일!\n",
    "    W_conv2 = tf.Variable(tf.truncated_normal(shape=[5, 5, 64, 64],\n",
    "                                             stddev=5e-2))\n",
    "    b_conv2 = tf.Variable(tf.constant(0.1, shape=[64]))\n",
    "    h_conv2 = tf.nn.relu(tf.nn.conv2d(h_pool1, W_conv2,\n",
    "                                     strides=[1, 1, 1, 1],\n",
    "                                     padding='SAME') + b_conv2)\n",
    "    h_pool2 = tf.nn.max_pool(h_conv2, ksize=[1, 3, 3, 1],\n",
    "                            strides=[1, 2, 2, 1], padding='SAME')\n",
    "    # W의 shape에서 height, width는 필터의 height, width임!\n",
    "    W_conv3 = tf.Variable(tf.truncated_normal(shape=[3, 3, 64, 128],\n",
    "                                             stddev=5e-2))\n",
    "    b_conv3 = tf.Variable(tf.constant(0.1, shape=[128]))\n",
    "    h_conv3 = tf.nn.relu(tf.nn.conv2d(h_pool2, W_conv3,\n",
    "                                     strides=[1, 1, 1, 1],\n",
    "                                     padding='SAME') + b_conv3)\n",
    "    \n",
    "    W_conv4 = tf.Variable(tf.truncated_normal(shape=[3, 3, 128, 128],\n",
    "                                             stddev=5e-2))\n",
    "    b_conv4 = tf.Variable(tf.constant(0.1, shape=[128]))\n",
    "    h_conv4 = tf.nn.relu(tf.nn.conv2d(h_conv3, W_conv4,\n",
    "                                     strides=[1, 1, 1, 1],\n",
    "                                     padding='SAME'))\n",
    "    \n",
    "    W_conv5 = tf.Variable(tf.truncated_normal(shape=[3, 3, 128, 128],\n",
    "                                             stddev=5e-2))\n",
    "    b_conv5 = tf.Variable(tf.constant(0.1, shape=[128]))\n",
    "    h_conv5 = tf.nn.relu(tf.nn.conv2d(h_conv4, W_conv5,\n",
    "                                     strides=[1, 1, 1, 1],\n",
    "                                     padding='SAME') + b_conv5)\n",
    "    # Fully connected 부터\n",
    "    "
   ]
  },
  {
   "cell_type": "code",
   "execution_count": 6,
   "metadata": {},
   "outputs": [
    {
     "data": {
      "text/plain": [
       "array([0, 1, 2])"
      ]
     },
     "execution_count": 6,
     "metadata": {},
     "output_type": "execute_result"
    }
   ],
   "source": [
    "np.arange(0, 3)"
   ]
  },
  {
   "cell_type": "code",
   "execution_count": null,
   "metadata": {},
   "outputs": [],
   "source": []
  }
 ],
 "metadata": {
  "hide_input": false,
  "kernelspec": {
   "display_name": "Python 3",
   "language": "python",
   "name": "python3"
  },
  "language_info": {
   "codemirror_mode": {
    "name": "ipython",
    "version": 3
   },
   "file_extension": ".py",
   "mimetype": "text/x-python",
   "name": "python",
   "nbconvert_exporter": "python",
   "pygments_lexer": "ipython3",
   "version": "3.7.7"
  },
  "toc": {
   "base_numbering": 1,
   "nav_menu": {},
   "number_sections": true,
   "sideBar": true,
   "skip_h1_title": false,
   "title_cell": "Table of Contents",
   "title_sidebar": "Contents",
   "toc_cell": false,
   "toc_position": {},
   "toc_section_display": true,
   "toc_window_display": false
  },
  "varInspector": {
   "cols": {
    "lenName": 16,
    "lenType": 16,
    "lenVar": 40
   },
   "kernels_config": {
    "python": {
     "delete_cmd_postfix": "",
     "delete_cmd_prefix": "del ",
     "library": "var_list.py",
     "varRefreshCmd": "print(var_dic_list())"
    },
    "r": {
     "delete_cmd_postfix": ") ",
     "delete_cmd_prefix": "rm(",
     "library": "var_list.r",
     "varRefreshCmd": "cat(var_dic_list()) "
    }
   },
   "types_to_exclude": [
    "module",
    "function",
    "builtin_function_or_method",
    "instance",
    "_Feature"
   ],
   "window_display": false
  }
 },
 "nbformat": 4,
 "nbformat_minor": 4
}

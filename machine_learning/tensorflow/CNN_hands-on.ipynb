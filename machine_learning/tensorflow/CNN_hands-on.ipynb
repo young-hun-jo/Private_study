{
 "cells": [
  {
   "cell_type": "code",
   "execution_count": 4,
   "metadata": {
    "scrolled": true
   },
   "outputs": [
    {
     "name": "stdout",
     "output_type": "stream",
     "text": [
      "Extracting /tmp/data/train-images-idx3-ubyte.gz\n",
      "Extracting /tmp/data/train-labels-idx1-ubyte.gz\n",
      "Extracting /tmp/data/t10k-images-idx3-ubyte.gz\n",
      "Extracting /tmp/data/t10k-labels-idx1-ubyte.gz\n"
     ]
    }
   ],
   "source": [
    "import tensorflow as tf\n",
    "from tensorflow.examples.tutorials.mnist import input_data\n",
    "mnist = input_data.read_data_sets('/tmp/data', one_hot=True)"
   ]
  },
  {
   "cell_type": "code",
   "execution_count": 25,
   "metadata": {},
   "outputs": [],
   "source": [
    "# CNN 텐서 만들기\n",
    "def build_CNN_classifier(x):\n",
    "    # x로 들어오는 image shape = [55000, 784]\n",
    "    # 위 x를 4차원 형태로 reshape -> stride, pooling의 shape인자와 동일\n",
    "    '''\n",
    "    [batch, height, width, channel]\n",
    "    - batch:데이터 개수(몇 개가 들어올지 모르니 유연하게 -1로 설정\n",
    "    - height, width : 이미지 가로,세로 길이\n",
    "    - channel: 이미지 표현하는 RGB(3개의 색깔로 모두 표현함)이기 때문에 1인자로 1차원 추가 -> 다른 숫자가 오면안되나.?질문하기..\n",
    "    '''\n",
    "    x_image = tf.reshape(x, [-1, 28, 28, 1])\n",
    "    \n",
    "    # 1번째 컨볼루션 필터 W값\n",
    "    '''<필터 shape설정만 독특하게 다름!>\n",
    "    [height, width, 입력 channel, 출력 channel]\n",
    "    - height, width: 이미지 가로, 세로 길이\n",
    "    - 입력 channel: 들어오는 이미지 개수\n",
    "    - 출력 channel: 들어오는 이미지 1개에 대해 필터들을 적용하니까 필터개수 만큼 출력됨!\n",
    "    '''\n",
    "        # truncated_normal:일반 random_normal로 하면 -무한대와 +무한대에 근사한 값들도 포함되어 설정할 수 있으므로 그 경우에 학습시간이 오래걸림\n",
    "        # 따라서 -무한대, +무한대 부분을 제외한(자른=truncated) truncated_normal 사용\n",
    "    W_conv1 = tf.Variable(tf.truncated_normal(shape=[5, 5, 1, 32], stddev=5e-2))\n",
    "    \n",
    "    # 1번째에 적용된 필터들 거친 후 필터들 개수만큼 출력된 특징들에 각각 bias 연산하도록 bias할당\n",
    "    # 여기서는 상수(constant)로 고정시켰지만 random값으로 설정해도 됨\n",
    "    b_conv1 = tf.Variable(tf.constant(0.1, shape=[32]))\n",
    "    \n",
    "    # 필터와 bias 적용 단계와 그 후 나온 특징들에 대해 활성함수 적용단계까지 한 번에!\n",
    "    '''<strides shape 인자>\n",
    "    [batch, height, width, channel]\n",
    "    - batch: 데이터 개수(이미지 1개가 들어오니 1)\n",
    "    - height, width: 가로,세로 1칸씩 띄워서 stride 적용\n",
    "    - channel: 이미지 표현 RGB니깐 인자를 1로 추가해 3차원으로 설정\n",
    "    '''\n",
    "        #padding='SAME'이면 입력 이미지 size와 필터링 걸친 후 나오는 특징 이미지 size와 같도록 하자!-가로,세로로 2차원이니까 conv2d사용?\n",
    "    h_conv1 = tf.nn.relu(tf.nn.conv2d(x_image, W_conv1, strides=[1, 1, 1, 1], padding='SAME') + b_conv1)\n",
    "    \n",
    "    # pooling 적용\n",
    "    '''<pooling shape인 kszie 인자>\n",
    "    [batch, height, width, channel]\n",
    "    - batch: 데이터 개수(이미지 1개가 들어오니 1)\n",
    "    - height, width: pooling할 size를 가로, 세로 2로 설정\n",
    "    - channel: 이미지 표현 RGB니까 1을 추가해 3차원으로 설정\n",
    "    @위에서 padding='SAME'으로 필터링 거친후 출력 size가 입력 size와 동일하니 [1, 28, 28, 1]이다. \n",
    "    따라서 pooling size(ksize)를 2 by 2로 설정했으니 size가 \"28 -> 14\"로 1/2만큼 줄어듦!\n",
    "    '''\n",
    "        # strides인자와 padding 인자 의미는 위와 동일\n",
    "    h_pool1 = tf.nn.max_pool(h_conv1, ksize=[1, 2, 2, 1], strides=[1, 2, 2, 1], padding='SAME')\n",
    "    \n",
    "    # 2번째 컨볼루션 필터 W값\n",
    "    '''\n",
    "    - 필터 shape의 인자 3번째가 32인 이유는 W_conv1에서 필터개수를 32개로 설정해 필터링 거친 후 특징들도 32개이기 때문에 입력 channel=32로 설정\n",
    "    - 이제 2번째 컨볼루션에서 필터 개수를 64개로 설정해서 특징을 64개만큼 도출\n",
    "    '''\n",
    "    W_conv2 = tf.Variable(tf.truncated_normal(shape=[5, 5, 32, 64], stddev=5e-2))\n",
    "    b_conv2 = tf.Variable(tf.constant(0.1, shape=[64]))\n",
    "    h_conv2 = tf.nn.relu(tf.nn.conv2d(h_pool1, W_conv2, strides=[1, 1, 1, 1], padding='SAME') + b_conv2)\n",
    "    # h_pool1결과로 각 필터의 특징 size가 14 by 14인 상태인데, 여기서 pooling size를 2 by 2로 설정\n",
    "    # 2번째 pooling을 거친 후 각 필터의 특징 size는 7 by 7임.\n",
    "    h_pool2 = tf.nn.max_pool(h_conv2, ksize=[1, 2, 2, 1], strides=[1, 2, 2, 1], padding='SAME')\n",
    "    \n",
    "    # Fully Connected layer1 정의\n",
    "    '''<Fully Conntected Wegiht값 size설정 \n",
    "    [입력channel, 출력channel]\n",
    "    - shape 첫 번째 인자: 2번의 pooling 모두 거친 후의 이미지 가로와 세로,\n",
    "      그리고 64개의 필터들로 추출된 특징 64개를 곱해 모든 특징값들을 한 곳으로 모으기\n",
    "    - shape 두 번째 인자: 1024개 만큼의 출력 size를 임의로 설정?\n",
    "    '''\n",
    "    W_fc1 = tf.Variable(tf.truncated_normal(shape=[7*7*64, 1024], stddev=5e-2))\n",
    "    b_fc1 = tf.Variable(tf.constant(0.1, shape=[1024]))\n",
    "    # 2번의 CNN을 거친 결과의 4차원 shape을 1차원으로 쫘악 펴주기- 데이터개수(행)는 가변적(-1)으로, 열(column)은 모든 특징값들 개수\n",
    "    h_pool2_flat = tf.reshape(h_pool2, [-1, 7*7*64])\n",
    "    # flatten해준 특징값들을 W_fc1과 곱한 후 summation, 그리고 bias값 더하기!\n",
    "    h_fc1 = tf.nn.relu(tf.matmul(h_pool2_flat, W_fc1) + b_fc1)\n",
    "    \n",
    "    # 최종 분류 결과값을 도출할 Fully connected layer2 정의\n",
    "    W_output = tf.Variable(tf.truncated_normal(shape=[1024, 10], stddev=5e-2))\n",
    "    b_output = tf.Variable(tf.constant(0.1, shape=[10]))\n",
    "    # flatten한 후 활성함수 적용한 값들에 최종 Weight, bias값 기반으로 활성함수 적용!\n",
    "    logits = tf.matmul(h_fc1, W_output) + b_output\n",
    "    # softmax 활성함수로 최종 10개의 클래스 중 한개로 분류\n",
    "    y_pred = tf.nn.softmax(logits)\n",
    "    \n",
    "    return y_pred, logits"
   ]
  },
  {
   "cell_type": "code",
   "execution_count": 8,
   "metadata": {},
   "outputs": [
    {
     "name": "stdout",
     "output_type": "stream",
     "text": [
      "(55000, 784)\n"
     ]
    }
   ],
   "source": [
    "image = mnist.train.images\n",
    "print(image.shape)"
   ]
  },
  {
   "cell_type": "code",
   "execution_count": 10,
   "metadata": {},
   "outputs": [],
   "source": [
    "reshape = tf.reshape(image, [-1, 28, 28, 1])"
   ]
  },
  {
   "cell_type": "code",
   "execution_count": 21,
   "metadata": {},
   "outputs": [
    {
     "data": {
      "text/plain": [
       "(28, 28, 1)"
      ]
     },
     "execution_count": 21,
     "metadata": {},
     "output_type": "execute_result"
    }
   ],
   "source": [
    "image.reshape(-1, 28, 28, 1)[0].shape"
   ]
  },
  {
   "cell_type": "code",
   "execution_count": null,
   "metadata": {},
   "outputs": [],
   "source": []
  }
 ],
 "metadata": {
  "hide_input": false,
  "kernelspec": {
   "display_name": "Python 3",
   "language": "python",
   "name": "python3"
  },
  "language_info": {
   "codemirror_mode": {
    "name": "ipython",
    "version": 3
   },
   "file_extension": ".py",
   "mimetype": "text/x-python",
   "name": "python",
   "nbconvert_exporter": "python",
   "pygments_lexer": "ipython3",
   "version": "3.7.7"
  },
  "toc": {
   "base_numbering": 1,
   "nav_menu": {},
   "number_sections": true,
   "sideBar": true,
   "skip_h1_title": false,
   "title_cell": "Table of Contents",
   "title_sidebar": "Contents",
   "toc_cell": false,
   "toc_position": {},
   "toc_section_display": true,
   "toc_window_display": false
  },
  "varInspector": {
   "cols": {
    "lenName": 16,
    "lenType": 16,
    "lenVar": 40
   },
   "kernels_config": {
    "python": {
     "delete_cmd_postfix": "",
     "delete_cmd_prefix": "del ",
     "library": "var_list.py",
     "varRefreshCmd": "print(var_dic_list())"
    },
    "r": {
     "delete_cmd_postfix": ") ",
     "delete_cmd_prefix": "rm(",
     "library": "var_list.r",
     "varRefreshCmd": "cat(var_dic_list()) "
    }
   },
   "types_to_exclude": [
    "module",
    "function",
    "builtin_function_or_method",
    "instance",
    "_Feature"
   ],
   "window_display": false
  }
 },
 "nbformat": 4,
 "nbformat_minor": 4
}

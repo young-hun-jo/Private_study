{
 "cells": [
  {
   "cell_type": "markdown",
   "metadata": {},
   "source": [
    "# K-means 실습"
   ]
  },
  {
   "cell_type": "code",
   "execution_count": 2,
   "metadata": {},
   "outputs": [
    {
     "data": {
      "text/html": [
       "<div>\n",
       "<style scoped>\n",
       "    .dataframe tbody tr th:only-of-type {\n",
       "        vertical-align: middle;\n",
       "    }\n",
       "\n",
       "    .dataframe tbody tr th {\n",
       "        vertical-align: top;\n",
       "    }\n",
       "\n",
       "    .dataframe thead th {\n",
       "        text-align: right;\n",
       "    }\n",
       "</style>\n",
       "<table border=\"1\" class=\"dataframe\">\n",
       "  <thead>\n",
       "    <tr style=\"text-align: right;\">\n",
       "      <th></th>\n",
       "      <th>sepal_length</th>\n",
       "      <th>sepal_width</th>\n",
       "      <th>petal_length</th>\n",
       "      <th>petal_width</th>\n",
       "    </tr>\n",
       "  </thead>\n",
       "  <tbody>\n",
       "    <tr>\n",
       "      <th>0</th>\n",
       "      <td>5.1</td>\n",
       "      <td>3.5</td>\n",
       "      <td>1.4</td>\n",
       "      <td>0.2</td>\n",
       "    </tr>\n",
       "    <tr>\n",
       "      <th>1</th>\n",
       "      <td>4.9</td>\n",
       "      <td>3.0</td>\n",
       "      <td>1.4</td>\n",
       "      <td>0.2</td>\n",
       "    </tr>\n",
       "    <tr>\n",
       "      <th>2</th>\n",
       "      <td>4.7</td>\n",
       "      <td>3.2</td>\n",
       "      <td>1.3</td>\n",
       "      <td>0.2</td>\n",
       "    </tr>\n",
       "    <tr>\n",
       "      <th>3</th>\n",
       "      <td>4.6</td>\n",
       "      <td>3.1</td>\n",
       "      <td>1.5</td>\n",
       "      <td>0.2</td>\n",
       "    </tr>\n",
       "    <tr>\n",
       "      <th>4</th>\n",
       "      <td>5.0</td>\n",
       "      <td>3.6</td>\n",
       "      <td>1.4</td>\n",
       "      <td>0.2</td>\n",
       "    </tr>\n",
       "  </tbody>\n",
       "</table>\n",
       "</div>"
      ],
      "text/plain": [
       "   sepal_length  sepal_width  petal_length  petal_width\n",
       "0           5.1          3.5           1.4          0.2\n",
       "1           4.9          3.0           1.4          0.2\n",
       "2           4.7          3.2           1.3          0.2\n",
       "3           4.6          3.1           1.5          0.2\n",
       "4           5.0          3.6           1.4          0.2"
      ]
     },
     "execution_count": 2,
     "metadata": {},
     "output_type": "execute_result"
    }
   ],
   "source": [
    "from sklearn.datasets import load_iris\n",
    "from sklearn.cluster import KMeans\n",
    "import matplotlib.pyplot as plt\n",
    "import pandas as pd\n",
    "import numpy as np\n",
    "\n",
    "iris = load_iris()\n",
    "iris_df = pd.DataFrame(data=iris.data, columns=['sepal_length','sepal_width','petal_length','petal_width'])\n",
    "iris_df.head()"
   ]
  },
  {
   "cell_type": "markdown",
   "metadata": {},
   "source": [
    "## K-means 파라미터 정리\n",
    "\n",
    "- n_clusters : 최종적으로 군집화할 갯수\n",
    "- init : 초기 군집 중심점 좌표설정방식. 랜덤으로 설정하면 반복횟수가 너무 많아져 보통 'k-means++' 알고리즘 사용\n",
    "- max_iter : 반복횟수(설정값 이전에 중심 이동 변화없으면 반복 종료)"
   ]
  },
  {
   "cell_type": "code",
   "execution_count": 3,
   "metadata": {},
   "outputs": [
    {
     "data": {
      "text/plain": [
       "KMeans(n_clusters=3, random_state=42)"
      ]
     },
     "execution_count": 3,
     "metadata": {},
     "output_type": "execute_result"
    }
   ],
   "source": [
    "# K-means 객체 생성하고 군집화 수행\n",
    "kmeans = KMeans(n_clusters=3, init='k-means++',\n",
    "               max_iter=300, random_state=42)\n",
    "kmeans.fit(iris_df)"
   ]
  },
  {
   "cell_type": "code",
   "execution_count": 5,
   "metadata": {},
   "outputs": [
    {
     "data": {
      "text/plain": [
       "array([[3.41925061, 0.14135063, 5.0595416 ],\n",
       "       [3.39857426, 0.44763825, 5.11494335],\n",
       "       [3.56935666, 0.4171091 , 5.27935534],\n",
       "       [3.42240962, 0.52533799, 5.15358977],\n",
       "       [3.46726403, 0.18862662, 5.10433388],\n",
       "       [3.14673162, 0.67703767, 4.68148797],\n",
       "       [3.51650264, 0.4151867 , 5.21147652],\n",
       "       [3.33654987, 0.06618157, 5.00252706],\n",
       "       [3.57233779, 0.80745278, 5.32798107],\n",
       "       [3.3583767 , 0.37627118, 5.06790865],\n",
       "       [3.32449131, 0.4824728 , 4.89806763],\n",
       "       [3.31126872, 0.25373214, 4.9966845 ],\n",
       "       [3.46661272, 0.50077939, 5.19103612],\n",
       "       [3.90578362, 0.91322505, 5.65173594],\n",
       "       [3.646649  , 1.01409073, 5.10804455],\n",
       "       [3.49427881, 1.20481534, 4.88564095],\n",
       "       [3.495248  , 0.6542018 , 5.03090587],\n",
       "       [3.38444981, 0.1441527 , 5.02342022],\n",
       "       [3.11245944, 0.82436642, 4.61792995],\n",
       "       [3.37738931, 0.38933276, 4.97213426],\n",
       "       [3.07471224, 0.46344363, 4.6955761 ],\n",
       "       [3.31506588, 0.3286031 , 4.9236821 ],\n",
       "       [3.93167253, 0.64029681, 5.59713396],\n",
       "       [3.01233762, 0.38259639, 4.68193765],\n",
       "       [3.06241269, 0.48701129, 4.75095704],\n",
       "       [3.19414543, 0.45208406, 4.90772894],\n",
       "       [3.17967089, 0.20875823, 4.84545508],\n",
       "       [3.30941724, 0.21536016, 4.93969029],\n",
       "       [3.37648183, 0.21066561, 5.01833618],\n",
       "       [3.31272968, 0.40838707, 5.02954567],\n",
       "       [3.26550651, 0.41373905, 4.98608729],\n",
       "       [3.18083736, 0.42565244, 4.79550372],\n",
       "       [3.53142353, 0.71552778, 5.06520776],\n",
       "       [3.57102821, 0.91977171, 5.04438334],\n",
       "       [3.31992769, 0.34982853, 5.02985959],\n",
       "       [3.56904033, 0.35039977, 5.25071556],\n",
       "       [3.43783276, 0.52685861, 5.02368214],\n",
       "       [3.53114948, 0.25686572, 5.17865184],\n",
       "       [3.66205264, 0.76077592, 5.40750095],\n",
       "       [3.31092773, 0.11480418, 4.9664149 ],\n",
       "       [3.49764675, 0.18541845, 5.14520862],\n",
       "       [3.60850034, 1.24803045, 5.38423754],\n",
       "       [3.68120561, 0.6690142 , 5.40847417],\n",
       "       [3.14278239, 0.38675574, 4.78803478],\n",
       "       [3.00585191, 0.60231221, 4.59828494],\n",
       "       [3.39468045, 0.48205809, 5.11844067],\n",
       "       [3.32788568, 0.41034132, 4.92421655],\n",
       "       [3.51879523, 0.47199576, 5.23766854],\n",
       "       [3.34104251, 0.40494444, 4.92859681],\n",
       "       [3.40601705, 0.14959947, 5.08216833],\n",
       "       [1.22697525, 3.98049997, 1.25489071],\n",
       "       [0.684141  , 3.57731464, 1.44477759],\n",
       "       [1.17527644, 4.13366423, 1.01903626],\n",
       "       [0.73153652, 3.01144152, 2.45978458],\n",
       "       [0.63853451, 3.74779669, 1.3520017 ],\n",
       "       [0.26937898, 3.34908644, 1.88009327],\n",
       "       [0.76452634, 3.74283048, 1.28902785],\n",
       "       [1.58388575, 2.23937045, 3.37155487],\n",
       "       [0.75582717, 3.71181627, 1.41123804],\n",
       "       [0.85984838, 2.8005678 , 2.58955659],\n",
       "       [1.53611907, 2.60022691, 3.27864111],\n",
       "       [0.32426175, 3.17042268, 1.90055758],\n",
       "       [0.80841374, 3.08317693, 2.38073698],\n",
       "       [0.39674141, 3.64581678, 1.45909603],\n",
       "       [0.87269542, 2.51268382, 2.60303733],\n",
       "       [0.87306498, 3.59732957, 1.50822767],\n",
       "       [0.41229163, 3.36719171, 1.85387593],\n",
       "       [0.53579956, 2.94753796, 2.25517257],\n",
       "       [0.6367639 , 3.70615434, 1.74778451],\n",
       "       [0.71254917, 2.80841236, 2.49557781],\n",
       "       [0.7093731 , 3.79583719, 1.37094403],\n",
       "       [0.46349013, 3.02383531, 2.06563694],\n",
       "       [0.69373966, 3.99098735, 1.29106776],\n",
       "       [0.43661144, 3.60360653, 1.57547425],\n",
       "       [0.54593856, 3.37448959, 1.70495043],\n",
       "       [0.74313017, 3.56196294, 1.52298639],\n",
       "       [0.98798453, 4.01083283, 1.18965415],\n",
       "       [1.06739835, 4.20528001, 0.84636259],\n",
       "       [0.21993519, 3.47401497, 1.61913335],\n",
       "       [1.0243726 , 2.42676328, 2.77868071],\n",
       "       [0.86396528, 2.73795179, 2.6440625 ],\n",
       "       [0.97566381, 2.62259032, 2.75566654],\n",
       "       [0.55763082, 2.83096803, 2.32254696],\n",
       "       [0.73395781, 4.07263797, 1.22324554],\n",
       "       [0.57500396, 3.33772078, 1.9942056 ],\n",
       "       [0.68790275, 3.47153856, 1.61049622],\n",
       "       [0.92700552, 3.87741924, 1.19803047],\n",
       "       [0.61459444, 3.56224367, 1.81572464],\n",
       "       [0.50830256, 2.93359506, 2.20430516],\n",
       "       [0.6291191 , 2.94237659, 2.40438484],\n",
       "       [0.48790256, 3.23598208, 2.14635877],\n",
       "       [0.38266958, 3.5438369 , 1.52402278],\n",
       "       [0.49185351, 2.94407541, 2.26286106],\n",
       "       [1.5485635 , 2.28455247, 3.33648305],\n",
       "       [0.3856087 , 3.08064604, 2.16211718],\n",
       "       [0.44284695, 3.01190637, 2.11299567],\n",
       "       [0.3449879 , 3.0607156 , 2.07973003],\n",
       "       [0.37241653, 3.29690461, 1.76829182],\n",
       "       [1.66064034, 1.99117553, 3.44291999],\n",
       "       [0.38393196, 2.99098312, 2.16527941],\n",
       "       [2.0445799 , 5.23113563, 0.77731871],\n",
       "       [0.85382472, 4.13898297, 1.29757391],\n",
       "       [2.05245342, 5.26319105, 0.30610139],\n",
       "       [1.33089245, 4.63585807, 0.65293923],\n",
       "       [1.72813078, 5.00515534, 0.38458885],\n",
       "       [2.87401886, 6.06204421, 1.14225684],\n",
       "       [1.07101875, 3.49513662, 2.4108337 ],\n",
       "       [2.39730707, 5.6002125 , 0.78573677],\n",
       "       [1.67668563, 4.9963967 , 0.65454939],\n",
       "       [2.54158648, 5.60667281, 0.8435596 ],\n",
       "       [1.17541367, 4.31225927, 0.74552218],\n",
       "       [1.13563278, 4.46533089, 0.75289837],\n",
       "       [1.59322675, 4.81086063, 0.25958095],\n",
       "       [0.88917352, 4.11543193, 1.48572618],\n",
       "       [1.20227628, 4.34736472, 1.30303821],\n",
       "       [1.42273608, 4.57650303, 0.68288333],\n",
       "       [1.33403966, 4.59734489, 0.50991553],\n",
       "       [3.20105585, 6.21697515, 1.47791217],\n",
       "       [3.20759942, 6.46018421, 1.52971038],\n",
       "       [0.82617494, 4.07258886, 1.53708992],\n",
       "       [1.91251832, 5.08121836, 0.26952816],\n",
       "       [0.81891975, 3.95519658, 1.5334904 ],\n",
       "       [2.9794431 , 6.17779734, 1.31149299],\n",
       "       [0.74269596, 4.05452587, 1.10668455],\n",
       "       [1.75847731, 4.92787784, 0.27627819],\n",
       "       [2.14580999, 5.27958142, 0.52766931],\n",
       "       [0.62526165, 3.92137476, 1.20765678],\n",
       "       [0.70228926, 3.95155412, 1.16212743],\n",
       "       [1.4663925 , 4.78518338, 0.54629196],\n",
       "       [1.93773659, 5.06442297, 0.59428255],\n",
       "       [2.31885342, 5.51111422, 0.7312665 ],\n",
       "       [3.07340053, 5.99783127, 1.43802246],\n",
       "       [1.51444141, 4.8248088 , 0.5605572 ],\n",
       "       [0.81536685, 4.10808715, 1.05631592],\n",
       "       [1.23209127, 4.50967626, 1.12133058],\n",
       "       [2.6381171 , 5.75940796, 0.95311851],\n",
       "       [1.72401927, 4.84127876, 0.73306362],\n",
       "       [1.31541133, 4.557541  , 0.57903109],\n",
       "       [0.61011676, 3.83775716, 1.29960041],\n",
       "       [1.60532899, 4.7581488 , 0.34794609],\n",
       "       [1.77481954, 4.97393004, 0.3893492 ],\n",
       "       [1.53937059, 4.59878027, 0.68403844],\n",
       "       [0.85382472, 4.13898297, 1.29757391],\n",
       "       [2.00764279, 5.21394093, 0.30952112],\n",
       "       [1.94554509, 5.09187392, 0.50939919],\n",
       "       [1.44957743, 4.60916261, 0.61173881],\n",
       "       [0.89747884, 4.21767471, 1.10072376],\n",
       "       [1.17993324, 4.41184542, 0.65334214],\n",
       "       [1.50889317, 4.59925864, 0.83572418],\n",
       "       [0.83452741, 4.0782815 , 1.1805499 ]])"
      ]
     },
     "execution_count": 5,
     "metadata": {},
     "output_type": "execute_result"
    }
   ],
   "source": [
    "# transform 역할은 뭐지?\n",
    "kmeans.fit_transform(iris_df)"
   ]
  },
  {
   "cell_type": "code",
   "execution_count": 6,
   "metadata": {},
   "outputs": [
    {
     "name": "stdout",
     "output_type": "stream",
     "text": [
      "[1 1 1 1 1 1 1 1 1 1 1 1 1 1 1 1 1 1 1 1 1 1 1 1 1 1 1 1 1 1 1 1 1 1 1 1 1\n",
      " 1 1 1 1 1 1 1 1 1 1 1 1 1 0 0 2 0 0 0 0 0 0 0 0 0 0 0 0 0 0 0 0 0 0 0 0 0\n",
      " 0 0 0 2 0 0 0 0 0 0 0 0 0 0 0 0 0 0 0 0 0 0 0 0 0 0 2 0 2 2 2 2 0 2 2 2 2\n",
      " 2 2 0 0 2 2 2 2 0 2 0 2 0 2 2 0 0 2 2 2 2 2 0 2 2 2 2 0 2 2 2 0 2 2 2 0 2\n",
      " 2 0]\n",
      "[1 1 1 1 1 1 1 1 1 1 1 1 1 1 1 1 1 1 1 1 1 1 1 1 1 1 1 1 1 1 1 1 1 1 1 1 1\n",
      " 1 1 1 1 1 1 1 1 1 1 1 1 1 0 0 2 0 0 0 0 0 0 0 0 0 0 0 0 0 0 0 0 0 0 0 0 0\n",
      " 0 0 0 2 0 0 0 0 0 0 0 0 0 0 0 0 0 0 0 0 0 0 0 0 0 0 2 0 2 2 2 2 0 2 2 2 2\n",
      " 2 2 0 0 2 2 2 2 0 2 0 2 0 2 2 0 0 2 2 2 2 2 0 2 2 2 2 0 2 2 2 0 2 2 2 0 2\n",
      " 2 0]\n"
     ]
    }
   ],
   "source": [
    "# K-means 속성 값들 확인\n",
    "# 클러스터링한 결과값들의 클러스터링 레이블 확인(단, 원본 데이터의 target값 label이랑 동일하지 않음!)\n",
    "print(kmeans.labels_)\n",
    "# predict함수는 클러스터링한 결과값을 반환하므로 fit함수 호출하고 labels_속성값과 동일한 결과물\n",
    "print(kmeans.predict(iris_df))"
   ]
  },
  {
   "cell_type": "code",
   "execution_count": 7,
   "metadata": {},
   "outputs": [
    {
     "data": {
      "text/plain": [
       "target  cluster\n",
       "0       1          50\n",
       "1       0          48\n",
       "        2           2\n",
       "2       0          14\n",
       "        2          36\n",
       "Name: sepal_length, dtype: int64"
      ]
     },
     "execution_count": 7,
     "metadata": {},
     "output_type": "execute_result"
    }
   ],
   "source": [
    "# 원본 데이터의 target값에 따라 clustering 어떻게 됬는지 확인\n",
    "iris_df['cluster'] = kmeans.labels_\n",
    "iris_df['target'] = iris.target\n",
    "iris_result = iris_df.groupby(['target','cluster'])['sepal_length'].count()\n",
    "iris_result"
   ]
  },
  {
   "cell_type": "code",
   "execution_count": 9,
   "metadata": {},
   "outputs": [
    {
     "data": {
      "text/html": [
       "<div>\n",
       "<style scoped>\n",
       "    .dataframe tbody tr th:only-of-type {\n",
       "        vertical-align: middle;\n",
       "    }\n",
       "\n",
       "    .dataframe tbody tr th {\n",
       "        vertical-align: top;\n",
       "    }\n",
       "\n",
       "    .dataframe thead th {\n",
       "        text-align: right;\n",
       "    }\n",
       "</style>\n",
       "<table border=\"1\" class=\"dataframe\">\n",
       "  <thead>\n",
       "    <tr style=\"text-align: right;\">\n",
       "      <th></th>\n",
       "      <th>sepal_length</th>\n",
       "      <th>sepal_width</th>\n",
       "      <th>petal_length</th>\n",
       "      <th>petal_width</th>\n",
       "      <th>cluster</th>\n",
       "      <th>target</th>\n",
       "      <th>pca_1</th>\n",
       "      <th>pca_2</th>\n",
       "    </tr>\n",
       "  </thead>\n",
       "  <tbody>\n",
       "    <tr>\n",
       "      <th>0</th>\n",
       "      <td>5.1</td>\n",
       "      <td>3.5</td>\n",
       "      <td>1.4</td>\n",
       "      <td>0.2</td>\n",
       "      <td>1</td>\n",
       "      <td>0</td>\n",
       "      <td>-2.684126</td>\n",
       "      <td>0.319397</td>\n",
       "    </tr>\n",
       "    <tr>\n",
       "      <th>1</th>\n",
       "      <td>4.9</td>\n",
       "      <td>3.0</td>\n",
       "      <td>1.4</td>\n",
       "      <td>0.2</td>\n",
       "      <td>1</td>\n",
       "      <td>0</td>\n",
       "      <td>-2.714142</td>\n",
       "      <td>-0.177001</td>\n",
       "    </tr>\n",
       "    <tr>\n",
       "      <th>2</th>\n",
       "      <td>4.7</td>\n",
       "      <td>3.2</td>\n",
       "      <td>1.3</td>\n",
       "      <td>0.2</td>\n",
       "      <td>1</td>\n",
       "      <td>0</td>\n",
       "      <td>-2.888991</td>\n",
       "      <td>-0.144949</td>\n",
       "    </tr>\n",
       "    <tr>\n",
       "      <th>3</th>\n",
       "      <td>4.6</td>\n",
       "      <td>3.1</td>\n",
       "      <td>1.5</td>\n",
       "      <td>0.2</td>\n",
       "      <td>1</td>\n",
       "      <td>0</td>\n",
       "      <td>-2.745343</td>\n",
       "      <td>-0.318299</td>\n",
       "    </tr>\n",
       "    <tr>\n",
       "      <th>4</th>\n",
       "      <td>5.0</td>\n",
       "      <td>3.6</td>\n",
       "      <td>1.4</td>\n",
       "      <td>0.2</td>\n",
       "      <td>1</td>\n",
       "      <td>0</td>\n",
       "      <td>-2.728717</td>\n",
       "      <td>0.326755</td>\n",
       "    </tr>\n",
       "  </tbody>\n",
       "</table>\n",
       "</div>"
      ],
      "text/plain": [
       "   sepal_length  sepal_width  petal_length  petal_width  cluster  target  \\\n",
       "0           5.1          3.5           1.4          0.2        1       0   \n",
       "1           4.9          3.0           1.4          0.2        1       0   \n",
       "2           4.7          3.2           1.3          0.2        1       0   \n",
       "3           4.6          3.1           1.5          0.2        1       0   \n",
       "4           5.0          3.6           1.4          0.2        1       0   \n",
       "\n",
       "      pca_1     pca_2  \n",
       "0 -2.684126  0.319397  \n",
       "1 -2.714142 -0.177001  \n",
       "2 -2.888991 -0.144949  \n",
       "3 -2.745343 -0.318299  \n",
       "4 -2.728717  0.326755  "
      ]
     },
     "execution_count": 9,
     "metadata": {},
     "output_type": "execute_result"
    }
   ],
   "source": [
    "# 클러스터링한 결과를 PCA 적용 후에 시각화 해보기\n",
    "from sklearn.decomposition import PCA\n",
    "pca = PCA(n_components=2)\n",
    "pca_transformed = pca.fit_transform(iris.data)\n",
    "iris_df['pca_1'] = pca_transformed[:,0]\n",
    "iris_df['pca_2'] = pca_transformed[:,1]\n",
    "iris_df.head()"
   ]
  },
  {
   "cell_type": "code",
   "execution_count": 15,
   "metadata": {},
   "outputs": [
    {
     "data": {
      "image/png": "[encoded data removed]",
      "text/plain": [
       "<Figure size 432x288 with 1 Axes>"
      ]
     },
     "metadata": {
      "needs_background": "light"
     },
     "output_type": "display_data"
    }
   ],
   "source": [
    "irisDF = iris_df.copy()\n",
    "marker0_ind = iris_df[iris_df['cluster'] == 0].index\n",
    "marker1_ind = iris_df[iris_df['cluster'] == 1].index\n",
    "marker2_ind = iris_df[iris_df['cluster'] == 2].index\n",
    "\n",
    "# cluster값 0, 1, 2에 해당하는 Index로 각 cluster 레벨의 pca_x, pca_y 값 추출. o, s, ^ 로 marker 표시\n",
    "plt.scatter(x=irisDF.loc[marker0_ind,'pca_1'], y=irisDF.loc[marker0_ind,'pca_2'], marker='o') \n",
    "plt.scatter(x=irisDF.loc[marker1_ind,'pca_1'], y=irisDF.loc[marker1_ind,'pca_2'], marker='s')\n",
    "plt.scatter(x=irisDF.loc[marker2_ind,'pca_1'], y=irisDF.loc[marker2_ind,'pca_2'], marker='^')\n",
    "\n",
    "plt.xlabel('PCA 1')\n",
    "plt.ylabel('PCA 2')\n",
    "plt.title('3 Clusters Visualization by 2 PCA Components')\n",
    "plt.show()"
   ]
  },
  {
   "cell_type": "markdown",
   "metadata": {},
   "source": [
    "# Clustering 알고리즘 테스트 위한 데이터 생성\n",
    "\n",
    "- sklearn.datasets의 make_blobs 라이브러리 사용\n",
    "\n",
    "\n",
    "- make_blobs 파라미터 정리\n",
    "    * n_samples : 생성할 총 데이터 개수 (디폴트값은 100개)\n",
    "    * n_features : 데이터 feature 개수. 시각화를 목표로 할경우 보통 2차원으로 설정하며 각 x축, y축으로 설정됨\n",
    "    * centers : \n",
    "        - int값으로 넣어야 하며 클러스터링할 군집 개수를 의미\n",
    "        - 만약 array형태로 넣는 다면 개별 군집간의 중심점의 좌표를 의미\n",
    "    * cluster_std : 생성될 군집 데이터의 표준편차를 의미\n",
    "        - 만약 군집개수가 3개로 설정하고 [0.8, 0.1, 0.6]과 같이 입력하면 각 군집의 표준편차를 개별적으로 정의해준 것을 의미"
   ]
  },
  {
   "cell_type": "code",
   "execution_count": 25,
   "metadata": {},
   "outputs": [
    {
     "name": "stdout",
     "output_type": "stream",
     "text": [
      "(200, 2) (200,)\n",
      "[0 1 2] [67 67 66]\n"
     ]
    }
   ],
   "source": [
    "from sklearn.cluster import KMeans\n",
    "from sklearn.datasets import make_blobs\n",
    "\n",
    "# X에는 데이터, y에는 클러스터링 된 label값 반환\n",
    "X, y = make_blobs(n_samples=200, n_features=2, centers=3,\n",
    "                 cluster_std=0.8, random_state=1)\n",
    "print(X.shape, y.shape)\n",
    "\n",
    "# y Target값 분포 확인\n",
    "# return_counts=True 추가하면 array요소마다 value_counts()해줌\n",
    "unique, counts = np.unique(y, return_counts=True)\n",
    "print(unique, counts)"
   ]
  },
  {
   "cell_type": "code",
   "execution_count": 26,
   "metadata": {},
   "outputs": [
    {
     "data": {
      "text/html": [
       "<div>\n",
       "<style scoped>\n",
       "    .dataframe tbody tr th:only-of-type {\n",
       "        vertical-align: middle;\n",
       "    }\n",
       "\n",
       "    .dataframe tbody tr th {\n",
       "        vertical-align: top;\n",
       "    }\n",
       "\n",
       "    .dataframe thead th {\n",
       "        text-align: right;\n",
       "    }\n",
       "</style>\n",
       "<table border=\"1\" class=\"dataframe\">\n",
       "  <thead>\n",
       "    <tr style=\"text-align: right;\">\n",
       "      <th></th>\n",
       "      <th>ftr1</th>\n",
       "      <th>ftr2</th>\n",
       "      <th>target</th>\n",
       "    </tr>\n",
       "  </thead>\n",
       "  <tbody>\n",
       "    <tr>\n",
       "      <th>0</th>\n",
       "      <td>-7.729020</td>\n",
       "      <td>-8.857690</td>\n",
       "      <td>2</td>\n",
       "    </tr>\n",
       "    <tr>\n",
       "      <th>1</th>\n",
       "      <td>-10.943567</td>\n",
       "      <td>-4.485952</td>\n",
       "      <td>1</td>\n",
       "    </tr>\n",
       "    <tr>\n",
       "      <th>2</th>\n",
       "      <td>-7.510878</td>\n",
       "      <td>-7.401893</td>\n",
       "      <td>2</td>\n",
       "    </tr>\n",
       "    <tr>\n",
       "      <th>3</th>\n",
       "      <td>-9.811717</td>\n",
       "      <td>-3.407307</td>\n",
       "      <td>1</td>\n",
       "    </tr>\n",
       "    <tr>\n",
       "      <th>4</th>\n",
       "      <td>-5.597108</td>\n",
       "      <td>-7.701722</td>\n",
       "      <td>2</td>\n",
       "    </tr>\n",
       "  </tbody>\n",
       "</table>\n",
       "</div>"
      ],
      "text/plain": [
       "        ftr1      ftr2  target\n",
       "0  -7.729020 -8.857690       2\n",
       "1 -10.943567 -4.485952       1\n",
       "2  -7.510878 -7.401893       2\n",
       "3  -9.811717 -3.407307       1\n",
       "4  -5.597108 -7.701722       2"
      ]
     },
     "execution_count": 26,
     "metadata": {},
     "output_type": "execute_result"
    }
   ],
   "source": [
    "# 클러스터링용으로 생성한 데이터 데이터프레임으로 만들기\n",
    "cluster_df = pd.DataFrame(data=X, columns=['ftr1','ftr2'])\n",
    "cluster_df['target'] = y\n",
    "cluster_df.head()"
   ]
  },
  {
   "cell_type": "code",
   "execution_count": 27,
   "metadata": {},
   "outputs": [
    {
     "data": {
      "image/png": "[encoded data removed]",
      "text/plain": [
       "<Figure size 432x288 with 1 Axes>"
      ]
     },
     "metadata": {
      "needs_background": "light"
     },
     "output_type": "display_data"
    }
   ],
   "source": [
    "# 생성 데이터포인트들 시각화해보기\n",
    "target_lst = np.unique(y)\n",
    "markers = ['o','s','^','P','D']\n",
    "\n",
    "for target in target_lst:\n",
    "    target_cluster = cluster_df[cluster_df['target']==target]\n",
    "    plt.scatter(x=target_cluster['ftr1'],\n",
    "               y=target_cluster['ftr2'],\n",
    "               edgecolor='k', marker=markers[target])\n",
    "plt.show()"
   ]
  },
  {
   "cell_type": "code",
   "execution_count": 31,
   "metadata": {},
   "outputs": [
    {
     "data": {
      "image/png": "[encoded data removed]",
      "text/plain": [
       "<Figure size 432x288 with 1 Axes>"
      ]
     },
     "metadata": {
      "needs_background": "light"
     },
     "output_type": "display_data"
    }
   ],
   "source": [
    "# K-means 클러스터링 수행하고 개별 클러스터 중심을 시각화\n",
    "\n",
    "# 1.K-means 할당\n",
    "kmeans = KMeans(n_clusters=3, init='k-means++',\n",
    "               max_iter=200, random_state=12)\n",
    "    # X는 cluster_df의 feature array임.\n",
    "cluster_labels = kmeans.fit_predict(X)\n",
    "cluster_df['kmeans_label'] = cluster_labels\n",
    "\n",
    "# 2.K-means속성의 cluster_centers_는 개별 클러스터의 중심 위치 좌표를 반환\n",
    "centers = kmeans.cluster_centers_\n",
    "unique_labels = np.unique(cluster_labels)\n",
    "markers = ['o','s','^','P']\n",
    "# 3. label별로 루프돌아서 개별 클러스터링의 중심 시각화\n",
    "for label in unique_labels:\n",
    "    label_cluster = cluster_df[cluster_df['kmeans_label'] == label]\n",
    "    # 각 클러스터의 중심 좌표 할당\n",
    "    center_x_y = centers[label]\n",
    "    # 각 클러스터 데이터들 시각화\n",
    "    plt.scatter(x=label_cluster['ftr1'],\n",
    "               y=label_cluster['ftr2'],\n",
    "               marker=markers[label])\n",
    "    \n",
    "    # 각 클러스터의 중심 시각화\n",
    "        # 중심 표현하는 모형 설정\n",
    "    plt.scatter(x=center_x_y[0], y=center_x_y[1], s=200,\n",
    "               color='white', alpha=0.9, edgecolor='k',\n",
    "               marker=markers[label])\n",
    "        # 중심 표현하는 글자 설정\n",
    "    plt.scatter(x=center_x_y[0], y=center_x_y[1], s=70,\n",
    "               color='k', edgecolor='k',\n",
    "               marker='$%d$' % label)# label값에 따라 숫자로 표현한다는 의미\n",
    "plt.show()\n"
   ]
  },
  {
   "cell_type": "markdown",
   "metadata": {},
   "source": []
  }
 ],
 "metadata": {
  "hide_input": false,
  "kernelspec": {
   "display_name": "Python 3",
   "language": "python",
   "name": "python3"
  },
  "language_info": {
   "codemirror_mode": {
    "name": "ipython",
    "version": 3
   },
   "file_extension": ".py",
   "mimetype": "text/x-python",
   "name": "python",
   "nbconvert_exporter": "python",
   "pygments_lexer": "ipython3",
   "version": "3.7.7"
  },
  "toc": {
   "base_numbering": 1,
   "nav_menu": {},
   "number_sections": true,
   "sideBar": true,
   "skip_h1_title": false,
   "title_cell": "Table of Contents",
   "title_sidebar": "Contents",
   "toc_cell": false,
   "toc_position": {},
   "toc_section_display": true,
   "toc_window_display": false
  },
  "varInspector": {
   "cols": {
    "lenName": 16,
    "lenType": 16,
    "lenVar": 40
   },
   "kernels_config": {
    "python": {
     "delete_cmd_postfix": "",
     "delete_cmd_prefix": "del ",
     "library": "var_list.py",
     "varRefreshCmd": "print(var_dic_list())"
    },
    "r": {
     "delete_cmd_postfix": ") ",
     "delete_cmd_prefix": "rm(",
     "library": "var_list.r",
     "varRefreshCmd": "cat(var_dic_list()) "
    }
   },
   "types_to_exclude": [
    "module",
    "function",
    "builtin_function_or_method",
    "instance",
    "_Feature"
   ],
   "window_display": false
  }
 },
 "nbformat": 4,
 "nbformat_minor": 4
}

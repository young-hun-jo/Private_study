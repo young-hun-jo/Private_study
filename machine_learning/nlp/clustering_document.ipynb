{
 "cells": [
  {
   "cell_type": "markdown",
   "metadata": {},
   "source": [
    "# 문서 군집화 실습\n",
    "\n",
    "- 기존에 배웠던 텍스트 분류는 사전에 label(정답)이 존재하는 지도학습\n",
    "- 지금 하는 ``문서군집화``는 사전에 label(정답, 즉 문서의 카테고리)이 존재하지 않는 상태에서 군집화하는 ``비지도 학습``"
   ]
  },
  {
   "cell_type": "code",
   "execution_count": 27,
   "metadata": {},
   "outputs": [],
   "source": [
    "import pandas as pd\n",
    "import os\n",
    "os.chdir('/Users/younghun/Desktop/gitrepo/data/topics')"
   ]
  },
  {
   "cell_type": "code",
   "execution_count": 28,
   "metadata": {},
   "outputs": [],
   "source": [
    "# glob는 파일들의 리스트를 뽑아낼 때 자주 사용\n",
    "# 경로명도 입맛대로 뽑아낼 수 있음\n",
    "# glob(r'C:\\U*) => C:\\U로 시작하는 경로명 \n",
    "import glob\n",
    "path = r'/Users/younghun/Desktop/gitrepo/data/topics'\n",
    "# path경로에서 .data로이루어진 모든 파일들을 리스트에 담아라!\n",
    "all_files = glob.glob(os.path.join(path, '*.data'))"
   ]
  },
  {
   "cell_type": "code",
   "execution_count": 29,
   "metadata": {},
   "outputs": [
    {
     "data": {
      "text/html": [
       "<div>\n",
       "<style scoped>\n",
       "    .dataframe tbody tr th:only-of-type {\n",
       "        vertical-align: middle;\n",
       "    }\n",
       "\n",
       "    .dataframe tbody tr th {\n",
       "        vertical-align: top;\n",
       "    }\n",
       "\n",
       "    .dataframe thead th {\n",
       "        text-align: right;\n",
       "    }\n",
       "</style>\n",
       "<table border=\"1\" class=\"dataframe\">\n",
       "  <thead>\n",
       "    <tr style=\"text-align: right;\">\n",
       "      <th></th>\n",
       "      <th>filename</th>\n",
       "      <th>opinion_text</th>\n",
       "    </tr>\n",
       "  </thead>\n",
       "  <tbody>\n",
       "    <tr>\n",
       "      <th>0</th>\n",
       "      <td>battery-life_ipod_nano_8gb</td>\n",
       "      <td>...</td>\n",
       "    </tr>\n",
       "    <tr>\n",
       "      <th>1</th>\n",
       "      <td>gas_mileage_toyota_camry_2007</td>\n",
       "      <td>...</td>\n",
       "    </tr>\n",
       "    <tr>\n",
       "      <th>2</th>\n",
       "      <td>room_holiday_inn_london</td>\n",
       "      <td>...</td>\n",
       "    </tr>\n",
       "    <tr>\n",
       "      <th>3</th>\n",
       "      <td>location_holiday_inn_london</td>\n",
       "      <td>...</td>\n",
       "    </tr>\n",
       "    <tr>\n",
       "      <th>4</th>\n",
       "      <td>staff_bestwestern_hotel_sfo</td>\n",
       "      <td>...</td>\n",
       "    </tr>\n",
       "  </tbody>\n",
       "</table>\n",
       "</div>"
      ],
      "text/plain": [
       "                        filename  \\\n",
       "0     battery-life_ipod_nano_8gb   \n",
       "1  gas_mileage_toyota_camry_2007   \n",
       "2        room_holiday_inn_london   \n",
       "3    location_holiday_inn_london   \n",
       "4    staff_bestwestern_hotel_sfo   \n",
       "\n",
       "                                        opinion_text  \n",
       "0                                                ...  \n",
       "1                                                ...  \n",
       "2                                                ...  \n",
       "3                                                ...  \n",
       "4                                                ...  "
      ]
     },
     "execution_count": 29,
     "metadata": {},
     "output_type": "execute_result"
    }
   ],
   "source": [
    "filename_lst = []\n",
    "opinion_text = []\n",
    "\n",
    "#개별 파일들의 파일명들 리스트에 따로 담고\n",
    "#개별 파일들의 텍스트를 리스트에 따로 담은 후 데이터프레임으로 만들기\n",
    "for file in all_files:\n",
    "    # .data file은 read_tabel로 읽기 delimeter인자 안주면 내용 하나의 데이터로 간주\n",
    "    df = pd.read_table(file, index_col=None, header=0,\n",
    "                      encoding='latin1')\n",
    "    # 절대경로가 포함된 파일명에서 파일명만 추출\n",
    "    filename = file.split('/')[-1]\n",
    "    filename = filename.split('.')[0]\n",
    "    # 파일명 리스트 담기\n",
    "    filename_lst.append(filename)\n",
    "    # df을 모두 문자열로 만들어주기 위해 to_string() 사용!\n",
    "    opinion_text.append(df.to_string())\n",
    "\n",
    "# 최종 데이터프레임 완성\n",
    "document_df = pd.DataFrame({'filename':filename_lst,\n",
    "                           'opinion_text':opinion_text})\n",
    "document_df.head()"
   ]
  },
  {
   "cell_type": "code",
   "execution_count": 36,
   "metadata": {
    "scrolled": true
   },
   "outputs": [],
   "source": [
    "# 텍스트 단어들의 어근 원형을 추출하기 위해 함수 생성\n",
    "from nltk.stem import WordNetLemmatizer\n",
    "import nltk\n",
    "import string\n",
    "# string.puncutaion에 문자열의 모든 구두점이 들어있음\n",
    "# 이를 활용해서 Tokenize시킬 때 구두점들을 제외하기 위한 것\n",
    "# ord('문자열') => 문자열의 ASCII코드를 반환해줌!\n",
    "# dict(key, value)형태로 모든 구두점의 각 ASCII코드를 key값으로 넣어주자!\n",
    "remove_punct_dict = dict((ord(punct), None) for punct in string.punctuation)\n",
    "lemmar = WordNetLemmatizer()\n",
    "\n",
    "# 토큰화한 각 단어들의 원형들을 리스트로 담아서 반환\n",
    "def LemTokens(tokens):\n",
    "    return [lemmar.lemmatize(token) for token in tokens]\n",
    "# 텍스트를 Input으로 넣어서 토큰화시키고 토큰화된 단어들의 원형들을 리스트로 담아 반환\n",
    "def LemNormalize(text):\n",
    "    # .translate인자에 구두점 dict넣어주어서 구두점 삭제해준 상태로 토큰화시키기!\n",
    "    return LemTokens(nltk.word_tokenize(text.lower().translate(remove_punct_dict)))\n"
   ]
  },
  {
   "cell_type": "code",
   "execution_count": 37,
   "metadata": {},
   "outputs": [
    {
     "data": {
      "text/plain": [
       "['i', 'am', 'looking', 'for', 'a', 'cat']"
      ]
     },
     "execution_count": 37,
     "metadata": {},
     "output_type": "execute_result"
    }
   ],
   "source": [
    "# .translate 예시\n",
    "test = 'I am looking for a cat.'\n",
    "nltk.word_tokenize(test.lower().translate(remove_punct_dict))"
   ]
  },
  {
   "cell_type": "code",
   "execution_count": 38,
   "metadata": {},
   "outputs": [
    {
     "name": "stderr",
     "output_type": "stream",
     "text": [
      "/Users/younghun/opt/anaconda3/envs/venvforpython/lib/python3.7/site-packages/sklearn/feature_extraction/text.py:386: UserWarning: Your stop_words may be inconsistent with your preprocessing. Tokenizing the stop words generated tokens ['ha', 'le', 'u', 'wa'] not in stop_words.\n",
      "  'stop_words.' % sorted(inconsistent))\n"
     ]
    },
    {
     "name": "stdout",
     "output_type": "stream",
     "text": [
      "(51, 4611)\n"
     ]
    }
   ],
   "source": [
    "# Tf-idf 벡터화시키면서 cusotmized해준 토큰화+어근추출 방식 tokenizer인자에 넣어주기\n",
    "from sklearn.feature_extraction.text import TfidfVectorizer\n",
    "\n",
    "# 벡터화시킬 Tf-idf 도구 옵션 추가해서 구축\n",
    "# 1,2gram적용, 빈도수 0.05이하, 0.85이상의 빈도수 단어들 제거\n",
    "tfidf_vect = TfidfVectorizer(tokenizer=LemNormalize,\n",
    "                            stop_words='english', ngram_range=(1,2),\n",
    "                            min_df=0.05, max_df=0.85)\n",
    "# fit_transform으로 위에서 구축한 도구로 텍스트 벡터화\n",
    "ftr_vect = tfidf_vect.fit_transform(document_df['opinion_text'])\n",
    "print(ftr_vect.shape)"
   ]
  },
  {
   "cell_type": "code",
   "execution_count": 39,
   "metadata": {
    "scrolled": true
   },
   "outputs": [
    {
     "data": {
      "text/html": [
       "<div>\n",
       "<style scoped>\n",
       "    .dataframe tbody tr th:only-of-type {\n",
       "        vertical-align: middle;\n",
       "    }\n",
       "\n",
       "    .dataframe tbody tr th {\n",
       "        vertical-align: top;\n",
       "    }\n",
       "\n",
       "    .dataframe thead th {\n",
       "        text-align: right;\n",
       "    }\n",
       "</style>\n",
       "<table border=\"1\" class=\"dataframe\">\n",
       "  <thead>\n",
       "    <tr style=\"text-align: right;\">\n",
       "      <th></th>\n",
       "      <th>filename</th>\n",
       "      <th>opinion_text</th>\n",
       "      <th>cluster_label</th>\n",
       "    </tr>\n",
       "  </thead>\n",
       "  <tbody>\n",
       "    <tr>\n",
       "      <th>50</th>\n",
       "      <td>parking_bestwestern_hotel_sfo</td>\n",
       "      <td>...</td>\n",
       "      <td>0</td>\n",
       "    </tr>\n",
       "    <tr>\n",
       "      <th>27</th>\n",
       "      <td>service_holiday_inn_london</td>\n",
       "      <td>...</td>\n",
       "      <td>0</td>\n",
       "    </tr>\n",
       "    <tr>\n",
       "      <th>28</th>\n",
       "      <td>price_holiday_inn_london</td>\n",
       "      <td>...</td>\n",
       "      <td>0</td>\n",
       "    </tr>\n",
       "    <tr>\n",
       "      <th>30</th>\n",
       "      <td>rooms_swissotel_chicago</td>\n",
       "      <td>...</td>\n",
       "      <td>0</td>\n",
       "    </tr>\n",
       "    <tr>\n",
       "      <th>20</th>\n",
       "      <td>staff_swissotel_chicago</td>\n",
       "      <td>...</td>\n",
       "      <td>0</td>\n",
       "    </tr>\n",
       "    <tr>\n",
       "      <th>31</th>\n",
       "      <td>bathroom_bestwestern_hotel_sfo</td>\n",
       "      <td>...</td>\n",
       "      <td>0</td>\n",
       "    </tr>\n",
       "    <tr>\n",
       "      <th>32</th>\n",
       "      <td>food_swissotel_chicago</td>\n",
       "      <td>...</td>\n",
       "      <td>0</td>\n",
       "    </tr>\n",
       "    <tr>\n",
       "      <th>17</th>\n",
       "      <td>food_holiday_inn_london</td>\n",
       "      <td>...</td>\n",
       "      <td>0</td>\n",
       "    </tr>\n",
       "    <tr>\n",
       "      <th>16</th>\n",
       "      <td>service_bestwestern_hotel_sfo</td>\n",
       "      <td>...</td>\n",
       "      <td>0</td>\n",
       "    </tr>\n",
       "    <tr>\n",
       "      <th>13</th>\n",
       "      <td>service_swissotel_hotel_chicago</td>\n",
       "      <td>...</td>\n",
       "      <td>0</td>\n",
       "    </tr>\n",
       "    <tr>\n",
       "      <th>49</th>\n",
       "      <td>free_bestwestern_hotel_sfo</td>\n",
       "      <td>...</td>\n",
       "      <td>0</td>\n",
       "    </tr>\n",
       "    <tr>\n",
       "      <th>39</th>\n",
       "      <td>location_bestwestern_hotel_sfo</td>\n",
       "      <td>...</td>\n",
       "      <td>0</td>\n",
       "    </tr>\n",
       "    <tr>\n",
       "      <th>46</th>\n",
       "      <td>rooms_bestwestern_hotel_sfo</td>\n",
       "      <td>...</td>\n",
       "      <td>0</td>\n",
       "    </tr>\n",
       "    <tr>\n",
       "      <th>4</th>\n",
       "      <td>staff_bestwestern_hotel_sfo</td>\n",
       "      <td>...</td>\n",
       "      <td>0</td>\n",
       "    </tr>\n",
       "    <tr>\n",
       "      <th>3</th>\n",
       "      <td>location_holiday_inn_london</td>\n",
       "      <td>...</td>\n",
       "      <td>0</td>\n",
       "    </tr>\n",
       "    <tr>\n",
       "      <th>2</th>\n",
       "      <td>room_holiday_inn_london</td>\n",
       "      <td>...</td>\n",
       "      <td>0</td>\n",
       "    </tr>\n",
       "    <tr>\n",
       "      <th>37</th>\n",
       "      <td>screen_netbook_1005ha</td>\n",
       "      <td>...</td>\n",
       "      <td>1</td>\n",
       "    </tr>\n",
       "    <tr>\n",
       "      <th>26</th>\n",
       "      <td>buttons_amazon_kindle</td>\n",
       "      <td>...</td>\n",
       "      <td>1</td>\n",
       "    </tr>\n",
       "    <tr>\n",
       "      <th>34</th>\n",
       "      <td>directions_garmin_nuvi_255W_gps</td>\n",
       "      <td>...</td>\n",
       "      <td>1</td>\n",
       "    </tr>\n",
       "    <tr>\n",
       "      <th>33</th>\n",
       "      <td>accuracy_garmin_nuvi_255W_gps</td>\n",
       "      <td>...</td>\n",
       "      <td>1</td>\n",
       "    </tr>\n",
       "    <tr>\n",
       "      <th>40</th>\n",
       "      <td>speed_windows7</td>\n",
       "      <td>...</td>\n",
       "      <td>1</td>\n",
       "    </tr>\n",
       "    <tr>\n",
       "      <th>41</th>\n",
       "      <td>price_amazon_kindle</td>\n",
       "      <td>...</td>\n",
       "      <td>1</td>\n",
       "    </tr>\n",
       "    <tr>\n",
       "      <th>44</th>\n",
       "      <td>fonts_amazon_kindle</td>\n",
       "      <td>...</td>\n",
       "      <td>1</td>\n",
       "    </tr>\n",
       "    <tr>\n",
       "      <th>48</th>\n",
       "      <td>display_garmin_nuvi_255W_gps</td>\n",
       "      <td>...</td>\n",
       "      <td>1</td>\n",
       "    </tr>\n",
       "    <tr>\n",
       "      <th>38</th>\n",
       "      <td>navigation_amazon_kindle</td>\n",
       "      <td>...</td>\n",
       "      <td>1</td>\n",
       "    </tr>\n",
       "    <tr>\n",
       "      <th>36</th>\n",
       "      <td>eyesight-issues_amazon_kindle</td>\n",
       "      <td>...</td>\n",
       "      <td>1</td>\n",
       "    </tr>\n",
       "    <tr>\n",
       "      <th>0</th>\n",
       "      <td>battery-life_ipod_nano_8gb</td>\n",
       "      <td>...</td>\n",
       "      <td>1</td>\n",
       "    </tr>\n",
       "    <tr>\n",
       "      <th>10</th>\n",
       "      <td>satellite_garmin_nuvi_255W_gps</td>\n",
       "      <td>...</td>\n",
       "      <td>1</td>\n",
       "    </tr>\n",
       "    <tr>\n",
       "      <th>5</th>\n",
       "      <td>voice_garmin_nuvi_255W_gps</td>\n",
       "      <td>...</td>\n",
       "      <td>1</td>\n",
       "    </tr>\n",
       "    <tr>\n",
       "      <th>6</th>\n",
       "      <td>speed_garmin_nuvi_255W_gps</td>\n",
       "      <td>...</td>\n",
       "      <td>1</td>\n",
       "    </tr>\n",
       "    <tr>\n",
       "      <th>7</th>\n",
       "      <td>size_asus_netbook_1005ha</td>\n",
       "      <td>...</td>\n",
       "      <td>1</td>\n",
       "    </tr>\n",
       "    <tr>\n",
       "      <th>8</th>\n",
       "      <td>screen_garmin_nuvi_255W_gps</td>\n",
       "      <td>...</td>\n",
       "      <td>1</td>\n",
       "    </tr>\n",
       "    <tr>\n",
       "      <th>9</th>\n",
       "      <td>battery-life_amazon_kindle</td>\n",
       "      <td>...</td>\n",
       "      <td>1</td>\n",
       "    </tr>\n",
       "    <tr>\n",
       "      <th>24</th>\n",
       "      <td>sound_ipod_nano_8gb</td>\n",
       "      <td>headphone jack i got a clear case for it a...</td>\n",
       "      <td>1</td>\n",
       "    </tr>\n",
       "    <tr>\n",
       "      <th>11</th>\n",
       "      <td>battery-life_netbook_1005ha</td>\n",
       "      <td>...</td>\n",
       "      <td>1</td>\n",
       "    </tr>\n",
       "    <tr>\n",
       "      <th>12</th>\n",
       "      <td>keyboard_netbook_1005ha</td>\n",
       "      <td>...</td>\n",
       "      <td>1</td>\n",
       "    </tr>\n",
       "    <tr>\n",
       "      <th>25</th>\n",
       "      <td>screen_ipod_nano_8gb</td>\n",
       "      <td>...</td>\n",
       "      <td>1</td>\n",
       "    </tr>\n",
       "    <tr>\n",
       "      <th>14</th>\n",
       "      <td>video_ipod_nano_8gb</td>\n",
       "      <td>...</td>\n",
       "      <td>1</td>\n",
       "    </tr>\n",
       "    <tr>\n",
       "      <th>15</th>\n",
       "      <td>performance_netbook_1005ha</td>\n",
       "      <td>...</td>\n",
       "      <td>1</td>\n",
       "    </tr>\n",
       "    <tr>\n",
       "      <th>19</th>\n",
       "      <td>updates_garmin_nuvi_255W_gps</td>\n",
       "      <td>...</td>\n",
       "      <td>1</td>\n",
       "    </tr>\n",
       "    <tr>\n",
       "      <th>21</th>\n",
       "      <td>features_windows7</td>\n",
       "      <td>...</td>\n",
       "      <td>1</td>\n",
       "    </tr>\n",
       "    <tr>\n",
       "      <th>18</th>\n",
       "      <td>comfort_honda_accord_2008</td>\n",
       "      <td>...</td>\n",
       "      <td>2</td>\n",
       "    </tr>\n",
       "    <tr>\n",
       "      <th>42</th>\n",
       "      <td>quality_toyota_camry_2007</td>\n",
       "      <td>...</td>\n",
       "      <td>2</td>\n",
       "    </tr>\n",
       "    <tr>\n",
       "      <th>43</th>\n",
       "      <td>comfort_toyota_camry_2007</td>\n",
       "      <td>...</td>\n",
       "      <td>2</td>\n",
       "    </tr>\n",
       "    <tr>\n",
       "      <th>29</th>\n",
       "      <td>seats_honda_accord_2008</td>\n",
       "      <td>...</td>\n",
       "      <td>2</td>\n",
       "    </tr>\n",
       "    <tr>\n",
       "      <th>45</th>\n",
       "      <td>interior_honda_accord_2008</td>\n",
       "      <td>...</td>\n",
       "      <td>2</td>\n",
       "    </tr>\n",
       "    <tr>\n",
       "      <th>22</th>\n",
       "      <td>interior_toyota_camry_2007</td>\n",
       "      <td>...</td>\n",
       "      <td>2</td>\n",
       "    </tr>\n",
       "    <tr>\n",
       "      <th>47</th>\n",
       "      <td>performance_honda_accord_2008</td>\n",
       "      <td>...</td>\n",
       "      <td>2</td>\n",
       "    </tr>\n",
       "    <tr>\n",
       "      <th>1</th>\n",
       "      <td>gas_mileage_toyota_camry_2007</td>\n",
       "      <td>...</td>\n",
       "      <td>2</td>\n",
       "    </tr>\n",
       "    <tr>\n",
       "      <th>35</th>\n",
       "      <td>mileage_honda_accord_2008</td>\n",
       "      <td>...</td>\n",
       "      <td>2</td>\n",
       "    </tr>\n",
       "    <tr>\n",
       "      <th>23</th>\n",
       "      <td>transmission_toyota_camry_2007</td>\n",
       "      <td>...</td>\n",
       "      <td>2</td>\n",
       "    </tr>\n",
       "  </tbody>\n",
       "</table>\n",
       "</div>"
      ],
      "text/plain": [
       "                           filename  \\\n",
       "50    parking_bestwestern_hotel_sfo   \n",
       "27       service_holiday_inn_london   \n",
       "28         price_holiday_inn_london   \n",
       "30          rooms_swissotel_chicago   \n",
       "20          staff_swissotel_chicago   \n",
       "31   bathroom_bestwestern_hotel_sfo   \n",
       "32           food_swissotel_chicago   \n",
       "17          food_holiday_inn_london   \n",
       "16    service_bestwestern_hotel_sfo   \n",
       "13  service_swissotel_hotel_chicago   \n",
       "49       free_bestwestern_hotel_sfo   \n",
       "39   location_bestwestern_hotel_sfo   \n",
       "46      rooms_bestwestern_hotel_sfo   \n",
       "4       staff_bestwestern_hotel_sfo   \n",
       "3       location_holiday_inn_london   \n",
       "2           room_holiday_inn_london   \n",
       "37            screen_netbook_1005ha   \n",
       "26            buttons_amazon_kindle   \n",
       "34  directions_garmin_nuvi_255W_gps   \n",
       "33    accuracy_garmin_nuvi_255W_gps   \n",
       "40                   speed_windows7   \n",
       "41              price_amazon_kindle   \n",
       "44              fonts_amazon_kindle   \n",
       "48     display_garmin_nuvi_255W_gps   \n",
       "38         navigation_amazon_kindle   \n",
       "36    eyesight-issues_amazon_kindle   \n",
       "0        battery-life_ipod_nano_8gb   \n",
       "10   satellite_garmin_nuvi_255W_gps   \n",
       "5        voice_garmin_nuvi_255W_gps   \n",
       "6        speed_garmin_nuvi_255W_gps   \n",
       "7          size_asus_netbook_1005ha   \n",
       "8       screen_garmin_nuvi_255W_gps   \n",
       "9        battery-life_amazon_kindle   \n",
       "24              sound_ipod_nano_8gb   \n",
       "11      battery-life_netbook_1005ha   \n",
       "12          keyboard_netbook_1005ha   \n",
       "25             screen_ipod_nano_8gb   \n",
       "14              video_ipod_nano_8gb   \n",
       "15       performance_netbook_1005ha   \n",
       "19     updates_garmin_nuvi_255W_gps   \n",
       "21                features_windows7   \n",
       "18        comfort_honda_accord_2008   \n",
       "42        quality_toyota_camry_2007   \n",
       "43        comfort_toyota_camry_2007   \n",
       "29          seats_honda_accord_2008   \n",
       "45       interior_honda_accord_2008   \n",
       "22       interior_toyota_camry_2007   \n",
       "47    performance_honda_accord_2008   \n",
       "1     gas_mileage_toyota_camry_2007   \n",
       "35        mileage_honda_accord_2008   \n",
       "23   transmission_toyota_camry_2007   \n",
       "\n",
       "                                         opinion_text  cluster_label  \n",
       "50                                                ...              0  \n",
       "27                                                ...              0  \n",
       "28                                                ...              0  \n",
       "30                                                ...              0  \n",
       "20                                                ...              0  \n",
       "31                                                ...              0  \n",
       "32                                                ...              0  \n",
       "17                                                ...              0  \n",
       "16                                                ...              0  \n",
       "13                                                ...              0  \n",
       "49                                                ...              0  \n",
       "39                                                ...              0  \n",
       "46                                                ...              0  \n",
       "4                                                 ...              0  \n",
       "3                                                 ...              0  \n",
       "2                                                 ...              0  \n",
       "37                                                ...              1  \n",
       "26                                                ...              1  \n",
       "34                                                ...              1  \n",
       "33                                                ...              1  \n",
       "40                                                ...              1  \n",
       "41                                                ...              1  \n",
       "44                                                ...              1  \n",
       "48                                                ...              1  \n",
       "38                                                ...              1  \n",
       "36                                                ...              1  \n",
       "0                                                 ...              1  \n",
       "10                                                ...              1  \n",
       "5                                                 ...              1  \n",
       "6                                                 ...              1  \n",
       "7                                                 ...              1  \n",
       "8                                                 ...              1  \n",
       "9                                                 ...              1  \n",
       "24      headphone jack i got a clear case for it a...              1  \n",
       "11                                                ...              1  \n",
       "12                                                ...              1  \n",
       "25                                                ...              1  \n",
       "14                                                ...              1  \n",
       "15                                                ...              1  \n",
       "19                                                ...              1  \n",
       "21                                                ...              1  \n",
       "18                                                ...              2  \n",
       "42                                                ...              2  \n",
       "43                                                ...              2  \n",
       "29                                                ...              2  \n",
       "45                                                ...              2  \n",
       "22                                                ...              2  \n",
       "47                                                ...              2  \n",
       "1                                                 ...              2  \n",
       "35                                                ...              2  \n",
       "23                                                ...              2  "
      ]
     },
     "execution_count": 39,
     "metadata": {},
     "output_type": "execute_result"
    }
   ],
   "source": [
    "# K-means로 3개 군집으로 문서 군집화시키기\n",
    "from sklearn.cluster import KMeans\n",
    "\n",
    "kmeans = KMeans(n_clusters=3, max_iter=10000, random_state=42)\n",
    "# 비지도 학습이니 feature로만 학습시키고 예측\n",
    "cluster_label = kmeans.fit_predict(ftr_vect)\n",
    "\n",
    "# 군집화한 레이블값들을 document_df 에 추가하기\n",
    "document_df['cluster_label'] = cluster_label\n",
    "document_df.sort_values(by=['cluster_label'])"
   ]
  },
  {
   "cell_type": "markdown",
   "metadata": {},
   "source": [
    "## 군집별 핵심 단어 추출\n",
    "\n",
    "- Kmeans가 반환해주는 속성인 cluster_centers_를 활용하기"
   ]
  },
  {
   "cell_type": "markdown",
   "metadata": {},
   "source": [
    "- 문서 군집화 문제에서 cluster_centers_ 의미\n",
    "    * 0~1 사이의 값으로 벡터화 시킨 feature(단어)들의 값이 개별적으로 도출\n",
    "    * 이는 개별 단어들이 클러스터 중심과의 상대적인 위치를 정규화 시킨 값\n",
    "    * 거리라고 생각하고 값이 0인 feature일수록 클러스터 중심과 가까운 단어라고 생각할 수 있지만, **``값이 1에 가까울수록 클러스터 중심과 가까운 단어(feature)임!``**"
   ]
  },
  {
   "cell_type": "code",
   "execution_count": 41,
   "metadata": {},
   "outputs": [
    {
     "name": "stdout",
     "output_type": "stream",
     "text": [
      "(3, 4611)\n",
      "[[0.         0.00099499 0.00174637 ... 0.         0.00183397 0.00144581]\n",
      " [0.01005322 0.         0.         ... 0.00706287 0.         0.        ]\n",
      " [0.         0.00092551 0.         ... 0.         0.         0.        ]]\n"
     ]
    }
   ],
   "source": [
    "# 문서의 feature(단어별) cluster_centers_확인해보자\n",
    "cluster_centers = kmeans.cluster_centers_\n",
    "print(cluster_centers.shape)\n",
    "print(cluster_centers)\n",
    "# shape의 행은 클러스터 레이블, 열은 벡터화 시킨 feature(단어들)"
   ]
  },
  {
   "cell_type": "code",
   "execution_count": 47,
   "metadata": {},
   "outputs": [
    {
     "data": {
      "text/plain": [
       "array([0.00099499, 0.00174637, 0.00416423])"
      ]
     },
     "execution_count": 47,
     "metadata": {},
     "output_type": "execute_result"
    }
   ],
   "source": [
    "cluster_centers[0,[1,2,3]]"
   ]
  },
  {
   "cell_type": "code",
   "execution_count": 45,
   "metadata": {},
   "outputs": [
    {
     "data": {
      "text/plain": [
       "{0: {'cluster': 0}}"
      ]
     },
     "execution_count": 45,
     "metadata": {},
     "output_type": "execute_result"
    }
   ],
   "source": [
    "# example\n",
    "cluster_details = {}\n",
    "cluster_details[0] = {}\n",
    "cluster_details[0]['cluster'] = 0\n",
    "cluster_details"
   ]
  },
  {
   "cell_type": "code",
   "execution_count": 63,
   "metadata": {},
   "outputs": [],
   "source": [
    "def get_cluster_details(cluster_model, cluster_data, feature_names,\n",
    "                       cluster_num, top_n_features=10):\n",
    "    cluster_details = {}\n",
    "    # 각 클러스터 레이블별 feature들의 center값들 내림차순으로 정렬 후의 인덱스를 반환\n",
    "    center_feature_idx = cluster_model.cluster_centers_.argsort()[:,::-1]\n",
    "    \n",
    "    # 개별 클러스터 레이블별로 \n",
    "    for cluster_num in range(cluster_num):\n",
    "        # 개별 클러스터별 정보를 담을 empty dict할당\n",
    "        cluster_details[cluster_num] = {}\n",
    "        cluster_details[cluster_num]['cluster'] = cluster_num\n",
    "        \n",
    "        # 각 feature별 center값들 정렬한 인덱스 중 상위 10개만 추출\n",
    "        top_ftr_idx = center_feature_idx[cluster_num, :top_n_features]\n",
    "        top_ftr = [feature_names[idx] for idx in top_ftr_idx]\n",
    "        # top_ftr_idx를 활용해서 상위 10개 feature들의 center값들 반환\n",
    "        # 반환하게 되면 array이기 떄문에 리스트로바꾸기\n",
    "        top_ftr_val = cluster_model.cluster_centers_[cluster_num, top_ftr_idx].tolist()\n",
    "        \n",
    "        # cluster_details 딕셔너리에다가 개별 군집 정보 넣어주기\n",
    "        cluster_details[cluster_num]['top_features'] = top_ftr\n",
    "        cluster_details[cluster_num]['top_featrues_value'] = top_ftr_val\n",
    "        # 해당 cluster_num으로 분류된 파일명(문서들) 넣어주기\n",
    "        filenames = cluster_data[cluster_data['cluster_label']==cluster_num]['filename']\n",
    "        # filenames가 df으로 반환되기 떄문에 값들만 출력해서 array->list로 변환\n",
    "        filenames = filenames.values.tolist()\n",
    "        cluster_details[cluster_num]['filenames'] = filenames\n",
    "    \n",
    "    return cluster_details"
   ]
  },
  {
   "cell_type": "code",
   "execution_count": 67,
   "metadata": {},
   "outputs": [],
   "source": [
    "def print_cluster_details(cluster_details):\n",
    "    for cluster_num, cluster_detail in cluster_details.items():\n",
    "        print(f\"#####Cluster Num: {cluster_num}\")\n",
    "        print()\n",
    "        print(\"상위 10개 feature단어들:\\n\", cluster_detail['top_features'])\n",
    "        print()\n",
    "        print(f\"Cluster {cluster_num}으로 분류된 문서들:\\n{cluster_detail['filenames'][:5]}\")\n",
    "        print('-'*20)"
   ]
  },
  {
   "cell_type": "code",
   "execution_count": 68,
   "metadata": {},
   "outputs": [
    {
     "name": "stdout",
     "output_type": "stream",
     "text": [
      "['0 5', '0 great', '0 room', '00', '05', '06', '07', '08', '1 2', '1 block']\n"
     ]
    }
   ],
   "source": [
    "# feature_names는 벡터화 시킨 객체에서 얻을 수 있음!\n",
    "print(tfidf_vect.get_feature_names()[:10])"
   ]
  },
  {
   "cell_type": "code",
   "execution_count": 69,
   "metadata": {
    "scrolled": false
   },
   "outputs": [
    {
     "name": "stdout",
     "output_type": "stream",
     "text": [
      "#####Cluster Num: 0\n",
      "\n",
      "상위 10개 feature단어들:\n",
      " ['room', 'hotel', 'service', 'staff', 'food', 'location', 'bathroom', 'clean', 'price', 'parking']\n",
      "\n",
      "Cluster 0으로 분류된 문서들:\n",
      "['room_holiday_inn_london', 'location_holiday_inn_london', 'staff_bestwestern_hotel_sfo', 'service_swissotel_hotel_chicago', 'service_bestwestern_hotel_sfo']\n",
      "--------------------\n",
      "#####Cluster Num: 1\n",
      "\n",
      "상위 10개 feature단어들:\n",
      " ['screen', 'battery', 'keyboard', 'battery life', 'life', 'kindle', 'direction', 'video', 'size', 'voice']\n",
      "\n",
      "Cluster 1으로 분류된 문서들:\n",
      "['battery-life_ipod_nano_8gb', 'voice_garmin_nuvi_255W_gps', 'speed_garmin_nuvi_255W_gps', 'size_asus_netbook_1005ha', 'screen_garmin_nuvi_255W_gps']\n",
      "--------------------\n",
      "#####Cluster Num: 2\n",
      "\n",
      "상위 10개 feature단어들:\n",
      " ['interior', 'seat', 'mileage', 'comfortable', 'gas', 'gas mileage', 'transmission', 'car', 'performance', 'quality']\n",
      "\n",
      "Cluster 2으로 분류된 문서들:\n",
      "['gas_mileage_toyota_camry_2007', 'comfort_honda_accord_2008', 'interior_toyota_camry_2007', 'transmission_toyota_camry_2007', 'seats_honda_accord_2008']\n",
      "--------------------\n"
     ]
    }
   ],
   "source": [
    "feature_names = tfidf_vect.get_feature_names()\n",
    "cluster_details = get_cluster_details(cluster_model=kmeans,\n",
    "                                     cluster_data=document_df,\n",
    "                                     feature_names=feature_names,\n",
    "                                     cluster_num=3,\n",
    "                                     top_n_features=10)\n",
    "print_cluster_details(cluster_details)"
   ]
  },
  {
   "cell_type": "markdown",
   "metadata": {},
   "source": [
    "# 문서 유사도 측정 \n",
    "\n",
    "- 코사인 유사도 활용"
   ]
  },
  {
   "cell_type": "markdown",
   "metadata": {},
   "source": [
    "## 코사인 유사도 직접 만들기"
   ]
  },
  {
   "cell_type": "code",
   "execution_count": 70,
   "metadata": {},
   "outputs": [],
   "source": [
    "import numpy as np\n",
    "\n",
    "def cos_similarity(v1, v2):\n",
    "    dot_product = np.dot(v1, v2)\n",
    "    l2_norm = (np.sqrt(sum(np.square(v1))) * np.sqrt(sum(np.square(v2))))\n",
    "    similarity = dot_product / l2_norm     \n",
    "    \n",
    "    return similarity"
   ]
  },
  {
   "cell_type": "code",
   "execution_count": 71,
   "metadata": {},
   "outputs": [
    {
     "name": "stdout",
     "output_type": "stream",
     "text": [
      "(3, 18)\n"
     ]
    }
   ],
   "source": [
    "from sklearn.feature_extraction.text import TfidfVectorizer\n",
    "\n",
    "doc_list = ['if you take the blue pill, the story ends' ,\n",
    "            'if you take the red pill, you stay in Wonderland',\n",
    "            'if you take the red pill, I show you how deep the rabbit hole goes']\n",
    "\n",
    "tfidf_vect_simple = TfidfVectorizer()\n",
    "feature_vect_simple = tfidf_vect_simple.fit_transform(doc_list)\n",
    "print(feature_vect_simple.shape)"
   ]
  },
  {
   "cell_type": "code",
   "execution_count": 72,
   "metadata": {},
   "outputs": [
    {
     "name": "stdout",
     "output_type": "stream",
     "text": [
      "문장 1, 문장 2 Cosine 유사도: 0.402\n"
     ]
    }
   ],
   "source": [
    "# TFidfVectorizer로 transform()한 결과는 Sparse Matrix이므로 Dense Matrix로 변환. \n",
    "feature_vect_dense = feature_vect_simple.todense()\n",
    "\n",
    "#첫번째 문장과 두번째 문장의 feature vector  추출\n",
    "vect1 = np.array(feature_vect_dense[0]).reshape(-1,)\n",
    "vect2 = np.array(feature_vect_dense[1]).reshape(-1,)\n",
    "\n",
    "#첫번째 문장과 두번째 문장의 feature vector로 두개 문장의 Cosine 유사도 추출\n",
    "similarity_simple = cos_similarity(vect1, vect2 )\n",
    "print('문장 1, 문장 2 Cosine 유사도: {0:.3f}'.format(similarity_simple))"
   ]
  },
  {
   "cell_type": "code",
   "execution_count": 73,
   "metadata": {},
   "outputs": [
    {
     "name": "stdout",
     "output_type": "stream",
     "text": [
      "문장 1, 문장 3 Cosine 유사도: 0.404\n",
      "문장 2, 문장 3 Cosine 유사도: 0.456\n"
     ]
    }
   ],
   "source": [
    "vect1 = np.array(feature_vect_dense[0]).reshape(-1,)\n",
    "vect3 = np.array(feature_vect_dense[2]).reshape(-1,)\n",
    "similarity_simple = cos_similarity(vect1, vect3 )\n",
    "print('문장 1, 문장 3 Cosine 유사도: {0:.3f}'.format(similarity_simple))\n",
    "\n",
    "vect2 = np.array(feature_vect_dense[1]).reshape(-1,)\n",
    "vect3 = np.array(feature_vect_dense[2]).reshape(-1,)\n",
    "similarity_simple = cos_similarity(vect2, vect3 )\n",
    "print('문장 2, 문장 3 Cosine 유사도: {0:.3f}'.format(similarity_simple))"
   ]
  },
  {
   "cell_type": "markdown",
   "metadata": {},
   "source": [
    "## Sklearn 코사인 유사도 API이용"
   ]
  },
  {
   "cell_type": "markdown",
   "metadata": {},
   "source": [
    "- 코사인 유사도 값에 따른 유사도\n",
    "    * 값이 1이면 비슷한 관계\n",
    "    * 값이 0이면 관계 없음\n",
    "    * 값이 -1이면 반대 관계\n",
    "        - 하지만 텍스트를 벡터화시키는 과정에서 음수값이 나오지 않기 떄문에 -1은 나오지 않음!\n",
    "        \n",
    "        \n",
    "- cosine_similartiy(X,y) : X벡터(들) 에 대해서 y벡터(들)간의 유사도 측정(행렬식으로 반환!)"
   ]
  },
  {
   "cell_type": "code",
   "execution_count": 74,
   "metadata": {},
   "outputs": [
    {
     "name": "stdout",
     "output_type": "stream",
     "text": [
      "[[1.         0.40207758 0.40425045]]\n"
     ]
    }
   ],
   "source": [
    "from sklearn.metrics.pairwise import cosine_similarity\n",
    "\n",
    "similarity = cosine_similarity(feature_vect_simple[0], feature_vect_simple)\n",
    "print(similarity)"
   ]
  },
  {
   "cell_type": "markdown",
   "metadata": {},
   "source": [
    "- 1번째 벡터와 각 1번째 벡터, 2번째, 3번째 간의 유사도 값(마치 feature별간의 상관계수처럼 생각하자)"
   ]
  },
  {
   "cell_type": "markdown",
   "metadata": {},
   "source": [
    "## Opinion Review 데이터셋 활용한 실습"
   ]
  },
  {
   "cell_type": "code",
   "execution_count": 75,
   "metadata": {},
   "outputs": [],
   "source": [
    "from nltk.stem import WordNetLemmatizer\n",
    "import nltk\n",
    "import string\n",
    "\n",
    "remove_funct_dict = dict((ord(punct), None) for punct in string.punctuation)\n",
    "lemmar = WordNetLemmatizer()\n",
    "\n",
    "def LemTokens(tokens):\n",
    "    return [lemmar.lemmatize(token) for token in tokens]\n",
    "\n",
    "def LemNormalize(text):\n",
    "    return LemTokens(nltk.word_tokenize(text.lower().translate(remove_funct_dict)))\n"
   ]
  },
  {
   "cell_type": "code",
   "execution_count": 76,
   "metadata": {},
   "outputs": [
    {
     "name": "stderr",
     "output_type": "stream",
     "text": [
      "/Users/younghun/opt/anaconda3/envs/venvforpython/lib/python3.7/site-packages/sklearn/feature_extraction/text.py:386: UserWarning: Your stop_words may be inconsistent with your preprocessing. Tokenizing the stop words generated tokens ['ha', 'le', 'u', 'wa'] not in stop_words.\n",
      "  'stop_words.' % sorted(inconsistent))\n"
     ]
    }
   ],
   "source": [
    "import glob, os\n",
    "import pandas as pd\n",
    "from sklearn.feature_extraction.text import TfidfVectorizer\n",
    "from sklearn.cluster import KMeans\n",
    "\n",
    "path = r'/Users/younghun/Desktop/gitrepo/data/topics'\n",
    "all_files = glob.glob(os.path.join(path, '*.data'))\n",
    "filename_lst = []\n",
    "opinion_text = []\n",
    "\n",
    "for file in all_files:\n",
    "    df = pd.read_table(file, index_col=None, header=0,\n",
    "                      encoding='latin1')\n",
    "    filename = file.split('/')[-1]\n",
    "    filename = filename.split('.')[0]\n",
    "    filename_lst.append(filename)\n",
    "    opinion_text.append(df.to_string())\n",
    "\n",
    "document_df = pd.DataFrame({'filename':filename_lst,\n",
    "                           'opinion_text':opinion_text})\n",
    "tfidf_vect = TfidfVectorizer(tokenizer=LemNormalize,\n",
    "                            ngram_range=(1,2),\n",
    "                            stop_words='english',\n",
    "                            min_df=0.05, max_df=0.85)\n",
    "ftr_vect = tfidf_vect.fit_transform(document_df['opinion_text'])\n",
    "\n",
    "kmeans = KMeans(n_clusters=3, max_iter=10000, random_state=42)\n",
    "cluster_label = kmeans.fit_predict(ftr_vect)\n",
    "document_df['cluster_label'] = cluster_label\n",
    "cluster_centers = kmeans.cluster_centers_"
   ]
  },
  {
   "cell_type": "code",
   "execution_count": 90,
   "metadata": {},
   "outputs": [
    {
     "name": "stdout",
     "output_type": "stream",
     "text": [
      "호텔 카테고리로 클러스터링된 문서들의 인덱스:\n",
      " Int64Index([ 0,  5,  6,  7,  8,  9, 10, 11, 12, 14, 15, 19, 21, 24, 25, 26, 33,\n",
      "            34, 36, 37, 38, 40, 41, 44, 48],\n",
      "           dtype='int64')\n",
      "\n",
      "##유사도 비교 기준 문서 이름: battery-life_ipod_nano_8gb ##\n",
      "\n"
     ]
    },
    {
     "data": {
      "text/plain": [
       "array([[1.        , 0.01821977, 0.01026715, 0.22766637, 0.04025051,\n",
       "        0.79742523, 0.01605138, 0.87235155, 0.12157277, 0.17227799,\n",
       "        0.31211549, 0.01452646, 0.03505144, 0.21032724, 0.24196947,\n",
       "        0.02589076, 0.0399055 , 0.02477727, 0.02911322, 0.2100003 ,\n",
       "        0.0303119 , 0.02670592, 0.03489765, 0.01265576, 0.02141378]])"
      ]
     },
     "execution_count": 90,
     "metadata": {},
     "output_type": "execute_result"
    }
   ],
   "source": [
    "# 클러스터링된 문서들 중에서 특정 문서를 하나 선택한 후 비슷한 문서 추출\n",
    "from sklearn.metrics.pairwise import cosine_similarity\n",
    "\n",
    "hotel_idx = document_df[document_df['cluster_label']==1].index\n",
    "print(\"호텔 카테고리로 클러스터링된 문서들의 인덱스:\\n\",hotel_idx)\n",
    "print()\n",
    "# 호텔 카테고리로 클러스터링 된 문서들의 인덱스 중 하나 선택해 비교 기준으로 삼을 문서 선정\n",
    "comparison_doc = document_df.iloc[hotel_idx[0]]['filename']\n",
    "print(\"##유사도 비교 기준 문서 이름:\",comparison_doc,'##')\n",
    "print()\n",
    "\n",
    "# 위에서 추출한 호텔 카테고리로 클러스터링된 문서들의 인덱스 중 0번인덱스(비교기준문서)제외한\n",
    "# 다른 문서들과의 유사도 측정\n",
    "similarity = cosine_similarity(ftr_vect[hotel_idx[0]], ftr_vect[hotel_idx])\n",
    "similarity"
   ]
  },
  {
   "cell_type": "code",
   "execution_count": 116,
   "metadata": {},
   "outputs": [
    {
     "name": "stdout",
     "output_type": "stream",
     "text": [
      "Int64Index([11,  9, 15, 25,  7, 24, 37, 14, 12,  8, 33, 21, 41, 38, 36, 40, 26,\n",
      "            34, 48,  5, 10, 19, 44,  6],\n",
      "           dtype='int64')\n",
      "[0.87235155 0.79742523 0.31211549 0.24196947 0.22766637 0.21032724\n",
      " 0.2100003  0.17227799 0.12157277 0.04025051 0.0399055  0.03505144\n",
      " 0.03489765 0.0303119  0.02911322 0.02670592 0.02589076 0.02477727\n",
      " 0.02141378 0.01821977 0.01605138 0.01452646 0.01265576 0.01026715]\n",
      "\n",
      "길이 비교 24 24\n",
      "\n"
     ]
    },
    {
     "data": {
      "text/plain": [
       "Text(0.5, 1.0, 'battery-life_ipod_nano_8gb')"
      ]
     },
     "execution_count": 116,
     "metadata": {},
     "output_type": "execute_result"
    },
    {
     "data": {
      "image/png": "[encoded data removed]",
      "text/plain": [
       "<Figure size 1080x720 with 1 Axes>"
      ]
     },
     "metadata": {
      "needs_background": "light"
     },
     "output_type": "display_data"
    }
   ],
   "source": [
    "# 비교기준 문서와 다른 문서들간의 유사도 살펴보기\n",
    "import seaborn as sns\n",
    "import numpy as np\n",
    "import matplotlib.pyplot as plt\n",
    "# array 내림차순으로 정렬한 후 인덱스 반환 [:,::-1] 모든행에 대해서 열을 내림차순으로!\n",
    "sorted_idx = similarity.argsort()[:,::-1]\n",
    "# 비교문서 당사자는 제외한 인덱스 추출\n",
    "sorted_idx = sorted_idx[:, 1:]\n",
    "\n",
    "# 유사도가 큰 순으로 hotel_idx(label=1인 즉, 호텔과관련된 내용의 문서이름들의 index들)에서 재 정렬 \n",
    "# index로 넣으려면 1차원으로 reshape해주기!\n",
    "hotel_sorted_idx = hotel_idx[sorted_idx.reshape(-1,)]\n",
    "# 유사도 행렬값들을 유사도가 큰 순으로 재정렬(비교 문서 당사자는 제외)\n",
    "hotel_sim_values = np.sort(similarity.reshape(-1,))[::-1]\n",
    "hotel_sim_values = hotel_sim_values[1:]\n",
    "# 이렇게 되면 비교문서와 가장 유사한 순으로 '해당문서의index-유사도값' 으로 동일한 위치가 매핑된 두 개의 array!\n",
    "# 그래서 그대로 데이터프레임의 각 칼럼으로 넣어주기\n",
    "print(hotel_sorted_idx)\n",
    "print(hotel_sim_values)\n",
    "print()\n",
    "print(\"길이 비교\", len(hotel_sorted_idx), len(hotel_sim_values))\n",
    "print()\n",
    "# 빈 데이터프레임 생성\n",
    "hotel_sim_df = pd.DataFrame()\n",
    "# hotel_sorted_idx 와 hotel_sim_values 매핑시킨 array임\n",
    "hotel_sim_df['filename'] = document_df.iloc[hotel_sorted_idx]['filename']\n",
    "hotel_sim_df['similarity'] = hotel_sim_values\n",
    "\n",
    "plt.figure(figsize=(15,10))\n",
    "sns.barplot(data=hotel_sim_df, x='similarity', y='filename')\n",
    "plt.title(comparison_doc)"
   ]
  },
  {
   "cell_type": "code",
   "execution_count": null,
   "metadata": {},
   "outputs": [],
   "source": []
  }
 ],
 "metadata": {
  "hide_input": false,
  "kernelspec": {
   "display_name": "Python 3",
   "language": "python",
   "name": "python3"
  },
  "language_info": {
   "codemirror_mode": {
    "name": "ipython",
    "version": 3
   },
   "file_extension": ".py",
   "mimetype": "text/x-python",
   "name": "python",
   "nbconvert_exporter": "python",
   "pygments_lexer": "ipython3",
   "version": "3.7.7"
  },
  "toc": {
   "base_numbering": 1,
   "nav_menu": {},
   "number_sections": true,
   "sideBar": true,
   "skip_h1_title": false,
   "title_cell": "Table of Contents",
   "title_sidebar": "Contents",
   "toc_cell": false,
   "toc_position": {},
   "toc_section_display": true,
   "toc_window_display": false
  },
  "varInspector": {
   "cols": {
    "lenName": 16,
    "lenType": 16,
    "lenVar": 40
   },
   "kernels_config": {
    "python": {
     "delete_cmd_postfix": "",
     "delete_cmd_prefix": "del ",
     "library": "var_list.py",
     "varRefreshCmd": "print(var_dic_list())"
    },
    "r": {
     "delete_cmd_postfix": ") ",
     "delete_cmd_prefix": "rm(",
     "library": "var_list.r",
     "varRefreshCmd": "cat(var_dic_list()) "
    }
   },
   "types_to_exclude": [
    "module",
    "function",
    "builtin_function_or_method",
    "instance",
    "_Feature"
   ],
   "window_display": false
  }
 },
 "nbformat": 4,
 "nbformat_minor": 4
}

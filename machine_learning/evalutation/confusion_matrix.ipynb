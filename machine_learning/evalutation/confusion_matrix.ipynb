{
 "cells": [
  {
   "cell_type": "code",
   "execution_count": 1,
   "metadata": {},
   "outputs": [],
   "source": [
    "import os\n",
    "os.chdir('/Users/younghun/Desktop/inflearn강의자료/머신러닝강의/PerfectGuid수정ver01/1장/titanic')"
   ]
  },
  {
   "cell_type": "markdown",
   "metadata": {},
   "source": [
    "# Accuracy(정확도)"
   ]
  },
  {
   "cell_type": "code",
   "execution_count": 2,
   "metadata": {},
   "outputs": [],
   "source": [
    "import numpy as np\n",
    "from sklearn.base import BaseEstimator\n",
    "\n",
    "# 일부러 이상한 분류 알고리즘 만들기 실습임\n",
    "# class 상속해보기        # 상속받는 Class를 입력\n",
    "class MyDummyClassifier(BaseEstimator):\n",
    "    # fit에서는 아무것도 하지 않음\n",
    "    def fit(self, X, y=None):\n",
    "        pass\n",
    "    \n",
    "    # predict 메소드에서는 단순히 성별 feature가 1이면 0, 그렇지 않으면 1로 예측\n",
    "    def predict(self, X):\n",
    "        pred = np.zeros( (X.shape[0], 1))\n",
    "        for i in range(X.shape[0]):\n",
    "            if X['Sex'].iloc[i] == 1:\n",
    "                pred[i] = 0\n",
    "            else:\n",
    "                pred[i] = 1\n",
    "        \n",
    "        return pred"
   ]
  },
  {
   "cell_type": "markdown",
   "metadata": {},
   "source": [
    "# Confusion Matrix"
   ]
  },
  {
   "cell_type": "code",
   "execution_count": 3,
   "metadata": {},
   "outputs": [],
   "source": [
    "import pandas as pd\n",
    "from sklearn.preprocessing import LabelEncoder\n",
    "\n",
    "# Null 처리 함수\n",
    "def fillna(df):\n",
    "    df['Age'].fillna(df['Age'].mean(),inplace=True)\n",
    "    df['Cabin'].fillna('N',inplace=True)\n",
    "    df['Embarked'].fillna('N',inplace=True)\n",
    "    df['Fare'].fillna(0,inplace=True)\n",
    "    return df\n",
    "\n",
    "# 머신러닝 알고리즘에 불필요한 속성 제거\n",
    "def drop_features(df):\n",
    "    df.drop(['PassengerId','Name','Ticket'],axis=1,inplace=True)\n",
    "    return df\n",
    "\n",
    "# 레이블 인코딩 수행. \n",
    "def format_features(df):\n",
    "    df['Cabin'] = df['Cabin'].str[:1]\n",
    "    features = ['Cabin','Sex','Embarked']\n",
    "    for feature in features:\n",
    "        le = LabelEncoder()\n",
    "        le = le.fit(df[feature])\n",
    "        df[feature] = le.transform(df[feature])\n",
    "    return df\n",
    "\n",
    "# 앞에서 설정한 Data Preprocessing 함수 호출\n",
    "def transform_features(df):\n",
    "    df = fillna(df)\n",
    "    df = drop_features(df)\n",
    "    df = format_features(df)\n",
    "    return df"
   ]
  },
  {
   "cell_type": "code",
   "execution_count": 4,
   "metadata": {},
   "outputs": [
    {
     "name": "stdout",
     "output_type": "stream",
     "text": [
      "Dummy Classifier의 정확도는: 0.7877\n"
     ]
    }
   ],
   "source": [
    "import pandas as pd\n",
    "from sklearn.model_selection import train_test_split\n",
    "from sklearn.metrics import accuracy_score\n",
    "\n",
    "# 원본 데이터를 재로딩, 데이터 가공, 학습데이터/테스트 데이터 분할. \n",
    "titanic_df = pd.read_csv('./train.csv')\n",
    "y_titanic_df = titanic_df['Survived']\n",
    "X_titanic_df= titanic_df.drop('Survived', axis=1)\n",
    "X_titanic_df = transform_features(X_titanic_df)\n",
    "X_train, X_test, y_train, y_test=train_test_split(X_titanic_df, y_titanic_df, \\\n",
    "                                                  test_size=0.2, random_state=0)\n",
    "\n",
    "# 위에서 생성한 Dummy Classifier를 이용하여 학습/예측/평가 수행. \n",
    "myclf = MyDummyClassifier()\n",
    "myclf.fit(X_train ,y_train)\n",
    "\n",
    "mypredictions = myclf.predict(X_test)\n",
    "print('Dummy Classifier의 정확도는: {0:.4f}'.format(accuracy_score(y_test , mypredictions)))"
   ]
  },
  {
   "cell_type": "code",
   "execution_count": 5,
   "metadata": {},
   "outputs": [
    {
     "data": {
      "text/plain": [
       "array([[92, 18],\n",
       "       [20, 49]])"
      ]
     },
     "execution_count": 5,
     "metadata": {},
     "output_type": "execute_result"
    }
   ],
   "source": [
    "from sklearn.metrics import confusion_matrix\n",
    "\n",
    "# 앞절의 예측 결과인 fakepred와 실제 결과인 y_test의 Confusion Matrix출력\n",
    "confusion_matrix(y_test , mypredictions)"
   ]
  },
  {
   "cell_type": "markdown",
   "metadata": {},
   "source": [
    "# Precision, Recall"
   ]
  },
  {
   "cell_type": "code",
   "execution_count": 6,
   "metadata": {},
   "outputs": [
    {
     "name": "stdout",
     "output_type": "stream",
     "text": [
      "정밀도 : 0.7313432835820896\n",
      "재현율 : 0.7101449275362319\n"
     ]
    }
   ],
   "source": [
    "from sklearn.metrics import accuracy_score, precision_score, recall_score\n",
    "\n",
    "print(\"정밀도 :\", precision_score(y_test, mypredictions))\n",
    "print(\"재현율 :\", recall_score(y_test, mypredictions))"
   ]
  },
  {
   "cell_type": "code",
   "execution_count": 7,
   "metadata": {},
   "outputs": [],
   "source": [
    "# 오차행렬(confusion matrix), 정밀도, 재현율 한꺼번에 계산하는 함수 생성\n",
    "def get_clf_eval(y_test, pred):\n",
    "    confusion = confusion_matrix(y_test, pred)\n",
    "    accuracy = accuracy_score(y_test, pred)\n",
    "    precision = precision_score(y_test, pred)\n",
    "    recall = recall_score(y_test, pred)\n",
    "    print('오차행렬 :\\n', confusion)\n",
    "    print(f\"정확도 :{accuracy:.4f}', 정밀도 :{precision:.4f}, 재현율 :{recall:.4f}\")"
   ]
  },
  {
   "cell_type": "code",
   "execution_count": 8,
   "metadata": {},
   "outputs": [
    {
     "name": "stdout",
     "output_type": "stream",
     "text": [
      "오차행렬 :\n",
      " [[92 18]\n",
      " [20 49]]\n",
      "정확도 :0.7877', 정밀도 :0.7313, 재현율 :0.7101\n"
     ]
    }
   ],
   "source": [
    "get_clf_eval(y_test, mypredictions)"
   ]
  },
  {
   "cell_type": "markdown",
   "metadata": {},
   "source": [
    "## precision-recall Trade-off"
   ]
  },
  {
   "cell_type": "code",
   "execution_count": 9,
   "metadata": {},
   "outputs": [
    {
     "name": "stdout",
     "output_type": "stream",
     "text": [
      "오차행렬 :\n",
      " [[104  14]\n",
      " [ 13  48]]\n",
      "정확도 :0.8492', 정밀도 :0.7742, 재현율 :0.7869\n"
     ]
    }
   ],
   "source": [
    "import numpy as np\n",
    "import pandas as pd\n",
    "import warnings\n",
    "warnings.filterwarnings(action='ignore')\n",
    "\n",
    "from sklearn.model_selection import train_test_split \n",
    "from sklearn.linear_model import LogisticRegression\n",
    "\n",
    "# 원본 데이터를 재로딩, 데이터 가공, 학습데이터/테스트 데이터 분할. \n",
    "titanic_df = pd.read_csv('./train.csv')\n",
    "y_titanic_df = titanic_df['Survived']\n",
    "X_titanic_df= titanic_df.drop('Survived', axis=1)\n",
    "X_titanic_df = transform_features(X_titanic_df)\n",
    "\n",
    "X_train, X_test, y_train, y_test = train_test_split(X_titanic_df, y_titanic_df, \\\n",
    "                                                    test_size=0.20, random_state=11)\n",
    "\n",
    "lr_clf = LogisticRegression()\n",
    "\n",
    "lr_clf.fit(X_train , y_train)\n",
    "pred = lr_clf.predict(X_test)\n",
    "# get_clf_eval함수는 Confusion Matrix, Accuracy, Precision, Recall을 한 번에 출력하기 위해 정의한 함수.\n",
    "get_clf_eval(y_test , pred)"
   ]
  },
  {
   "cell_type": "code",
   "execution_count": 10,
   "metadata": {},
   "outputs": [
    {
     "name": "stdout",
     "output_type": "stream",
     "text": [
      "pred_proba 결과 shape: (179, 2)\n",
      "pred_proba 결과 array앞에서 앞 3개행들만 추출: \n",
      " [[0.46200919 0.53799081]\n",
      " [0.87869718 0.12130282]\n",
      " [0.8771684  0.1228316 ]]\n",
      "두 개를 붙인 결과 앞의 3개값:\n",
      " [[0.46200919 0.53799081 1.        ]\n",
      " [0.87869718 0.12130282 0.        ]\n",
      " [0.8771684  0.1228316  0.        ]]\n"
     ]
    }
   ],
   "source": [
    "# 각 label로 될 확률을 2d array로 반환해줌\n",
    "pred_proba = lr_clf.predict_proba(X_test)\n",
    "# 예측 label 반환\n",
    "pred = lr_clf.predict(X_test)\n",
    "\n",
    "print('pred_proba 결과 shape:', pred_proba.shape)\n",
    "print('pred_proba 결과 array앞에서 앞 3개행들만 추출: \\n', pred_proba[:3])\n",
    "\n",
    "# 예측확률과 예측값을 붙이기\n",
    "# 예측값을 2d array로 만들어주고 붙여야함 - np.concatenate 사용\n",
    "pred_proba_result = np.concatenate([pred_proba,\n",
    "                                   pred.reshape(-1,1)],\n",
    "                                  axis=1)\n",
    "print(\"두 개를 붙인 결과 앞의 3개값:\\n\",pred_proba_result[:3])"
   ]
  },
  {
   "cell_type": "code",
   "execution_count": 11,
   "metadata": {},
   "outputs": [
    {
     "name": "stdout",
     "output_type": "stream",
     "text": [
      "오차행렬 :\n",
      " [[104  14]\n",
      " [ 13  48]]\n",
      "정확도 :0.8492', 정밀도 :0.7742, 재현율 :0.7869\n"
     ]
    }
   ],
   "source": [
    "# Binarizer를 활용해 임계값을 설정해주고 그 값에 따라 분류하도록 하기\n",
    "# 임계값을 0.5로 설정했을 때\n",
    "from sklearn.preprocessing import Binarizer\n",
    "custom_threshold = 0.5\n",
    "\n",
    "# predict_proba 반환값에 두번째 칼럼인 Positive(1) 클래스들만 추출후 2d array로 변환\n",
    "pred_proba_1 = pred_proba[:,1].reshape(-1,1)\n",
    "# 0.5로 설정한 임계치로 Positive 클래스 칼럼에 적용\n",
    "binarizer = Binarizer(threshold=custom_threshold).fit(pred_proba_1)\n",
    "custom_predict = binarizer.transform(pred_proba_1)\n",
    "\n",
    "# 그냥 모델링했을 때와 결과 똑같음(위위셀과)\n",
    "get_clf_eval(y_test, custom_predict)"
   ]
  },
  {
   "cell_type": "code",
   "execution_count": 12,
   "metadata": {},
   "outputs": [
    {
     "name": "stdout",
     "output_type": "stream",
     "text": [
      "오차행렬 :\n",
      " [[98 20]\n",
      " [10 51]]\n",
      "정확도 :0.8324', 정밀도 :0.7183, 재현율 :0.8361\n"
     ]
    }
   ],
   "source": [
    "# 임계값을 0.4로 설정했을 때\n",
    "from sklearn.preprocessing import Binarizer\n",
    "custom_threshold = 0.4\n",
    "\n",
    "pred_proba_1 = pred_proba[:,1].reshape(-1,1)\n",
    "custom_predict = Binarizer(threshold=custom_threshold).fit_transform(pred_proba_1)\n",
    "\n",
    "# 결과값이 달라짐\n",
    "get_clf_eval(y_test, custom_predict)"
   ]
  },
  {
   "cell_type": "code",
   "execution_count": 22,
   "metadata": {},
   "outputs": [
    {
     "name": "stdout",
     "output_type": "stream",
     "text": [
      "(179,) (179, 1)\n"
     ]
    }
   ],
   "source": [
    "print(y_test.shape, custom_predict.shape)"
   ]
  },
  {
   "cell_type": "code",
   "execution_count": 13,
   "metadata": {},
   "outputs": [
    {
     "name": "stdout",
     "output_type": "stream",
     "text": [
      "임곗값 shape (143,)\n",
      "정밀도 shape (144,)\n",
      "재현율 shape (144,)\n",
      "추출한 임곗값 인덱스 [  0  14  28  42  56  70  84  98 112 126 140]\n",
      "샘플링한 10개 임곗값 [0.1  0.12 0.13 0.17 0.25 0.36 0.51 0.63 0.75 0.88 0.95]\n",
      "정밀도: [0.389 0.437 0.458 0.524 0.618 0.707 0.787 0.913 0.938 0.944 1.   ]\n",
      "재현율: [1.    0.967 0.902 0.902 0.902 0.869 0.787 0.689 0.492 0.279 0.066]\n"
     ]
    }
   ],
   "source": [
    "# precision_recall_curve를 이용해 임곗값에 따른 정밀도-재현율 값 추출\n",
    "from sklearn.metrics import precision_recall_curve\n",
    "\n",
    "# label이 Positive(1)일 때의 예측확률을 추출\n",
    "pred_proba_class1 = lr_clf.predict_proba(X_test)[:, 1]\n",
    "\n",
    "# precision_recall_curve는 실제값과 Positive예측확률을 인자로 넣고\n",
    "# 정밀도, 재현율, 임곗값 3가지를 반환받음\n",
    "precision, recalls, thresholds = precision_recall_curve(y_test,\n",
    "                                                        pred_proba_class1)\n",
    "print(\"임곗값 shape\", thresholds.shape)\n",
    "print(\"정밀도 shape\", precision.shape)\n",
    "print(\"재현율 shape\", recalls.shape)\n",
    "\n",
    "#반환된 임곗값 배열 row가 143건이므로 샘플로 10개 추출하되, 14번의 step으로 추출\n",
    "thr_idx = np.arange(0, thresholds.shape[0], 14)\n",
    "print(\"추출한 임곗값 인덱스\", thr_idx)\n",
    "print(\"샘플링한 10개 임곗값\", np.round(thresholds[thr_idx], 2))\n",
    "\n",
    "#위에 설정한 임곗값 인덱스에 매핑되는 정밀도와 재현율 출력\n",
    "print(\"정밀도:\", np.round(precision[thr_idx], 3))\n",
    "print(\"재현율:\", np.round(recalls[thr_idx], 3))"
   ]
  },
  {
   "cell_type": "code",
   "execution_count": 14,
   "metadata": {},
   "outputs": [
    {
     "data": {
      "image/png": "[encoded data removed]",
      "text/plain": [
       "<Figure size 576x432 with 1 Axes>"
      ]
     },
     "metadata": {
      "needs_background": "light"
     },
     "output_type": "display_data"
    }
   ],
   "source": [
    "# 임곗값의 변경에 따른 정밀도-재현율 변화곡선 그리기\n",
    "import matplotlib.pyplot as plt\n",
    "import matplotlib.ticker as ticker\n",
    "\n",
    "def precision_recall_curve_plot(y_test, pred_prob_c1):\n",
    "    precision, recall, thresholds = precision_recall_curve(y_test, pred_prob_c1)\n",
    "    \n",
    "    # X축을 thresholds 값으로 \n",
    "    plt.figure(figsize=(8,6))\n",
    "    threshold_boundary = thresholds.shape[0]\n",
    "    plt.plot(thresholds, precision[0:threshold_boundary],\n",
    "            linestyle='--', label='precision')\n",
    "    plt.plot(thresholds, recall[0:threshold_boundary],\n",
    "            label='recall')\n",
    "    \n",
    "    # thresholds값들을 0.1단위로 바꾸고 소수점 둘째자리 이후 없애기\n",
    "    start, end = plt.xlim()\n",
    "    plt.xticks(np.round(np.arange(start, end, 0.1),2))\n",
    "    \n",
    "    plt.xlabel('Threshold value'); plt.ylabel('Precision and Recall')\n",
    "    plt.legend(); plt.grid()\n",
    "    plt.show()\n",
    "\n",
    "precision_recall_curve_plot(y_test, lr_clf.predict_proba(X_test)[:,1])"
   ]
  },
  {
   "cell_type": "markdown",
   "metadata": {},
   "source": [
    "# F1 Score"
   ]
  },
  {
   "cell_type": "code",
   "execution_count": 15,
   "metadata": {},
   "outputs": [
    {
     "name": "stdout",
     "output_type": "stream",
     "text": [
      " F1-score : 0.78\n"
     ]
    }
   ],
   "source": [
    "from sklearn.metrics import f1_score\n",
    "f1 = f1_score(y_test, pred)\n",
    "print(f\" F1-score : {f1:.2f}\")"
   ]
  },
  {
   "cell_type": "markdown",
   "metadata": {},
   "source": [
    "# ROC Curve and AUC"
   ]
  },
  {
   "cell_type": "code",
   "execution_count": 16,
   "metadata": {},
   "outputs": [
    {
     "name": "stdout",
     "output_type": "stream",
     "text": [
      "임곗값 인덱스 [ 0  5 10 15 20 25 30 35 40 45 50]\n",
      "샘플용 10개 임곗값 [1.97 0.75 0.63 0.59 0.49 0.4  0.35 0.23 0.13 0.12 0.11]\n",
      "임곗값에 따른 FPR [0.    0.017 0.034 0.051 0.127 0.161 0.203 0.331 0.585 0.636 0.797]\n",
      "임곗값에 따른 TPR [0.    0.475 0.689 0.754 0.787 0.836 0.869 0.902 0.918 0.967 0.967]\n"
     ]
    }
   ],
   "source": [
    "from sklearn.metrics import roc_curve\n",
    "\n",
    "# label이 Positive(1)일때의 예측확률을 추출\n",
    "pred_proba_class1 = lr_clf.predict_proba(X_test)[:,1]\n",
    "\n",
    "# roc_curve함수는 실제값, 예측확률값(1일때)를 인자로 주고 3개의 값들을 반환받는다.\n",
    "# fpr : Fall-out\n",
    "# tpr : Recall\n",
    "fprs, tprs, thresholds = roc_curve(y_test, pred_proba_class1)\n",
    "thr_idx = np.arange(0, thresholds.shape[0], 5)\n",
    "print(\"임곗값 인덱스\", thr_idx)\n",
    "print(\"샘플용 10개 임곗값\", np.round(thresholds[thr_idx], 2))\n",
    "\n",
    "print(\"임곗값에 따른 FPR\", np.round(fprs[thr_idx], 3))\n",
    "print(\"임곗값에 따른 TPR\", np.round(tprs[thr_idx], 3))"
   ]
  },
  {
   "cell_type": "code",
   "execution_count": 17,
   "metadata": {},
   "outputs": [
    {
     "data": {
      "image/png": "[encoded data removed]",
      "text/plain": [
       "<Figure size 432x288 with 1 Axes>"
      ]
     },
     "metadata": {
      "needs_background": "light"
     },
     "output_type": "display_data"
    }
   ],
   "source": [
    "# ROC curve 그래프 그리기\n",
    "def roc_curve_plot(y_test, pred_proba_c1):\n",
    "    fprs, tprs, thresholds = roc_curve(y_test, pred_proba_c1)\n",
    "    \n",
    "    # ROC Curve를 plot으로 그림\n",
    "    plt.plot(fprs, tprs, label='ROC')\n",
    "    # Random한 가운데선(0.5)을 직선으로 그림\n",
    "    plt.plot([0, 1], [0, 1], 'k--', label='Random')\n",
    "    \n",
    "    start, end = plt.xlim()\n",
    "    plt.xticks(np.round(np.arange(start, end, 0.1), 2))\n",
    "    plt.xlim(0,1); plt.ylim(0,1)\n",
    "    plt.xlabel('FPR(1- Sensitivity)'); plt.ylabel('TPR(Recall)')\n",
    "    plt.legend()\n",
    "    plt.show()\n",
    "\n",
    "roc_curve_plot(y_test, lr_clf.predict_proba(X_test)[:,1])"
   ]
  },
  {
   "cell_type": "code",
   "execution_count": 18,
   "metadata": {},
   "outputs": [
    {
     "name": "stdout",
     "output_type": "stream",
     "text": [
      "ROC score : 0.902\n"
     ]
    }
   ],
   "source": [
    "# AUC score 출력\n",
    "# roc_auc_score함수 사용\n",
    "from sklearn.metrics import roc_auc_score\n",
    "\n",
    "# roc_auc_score(y_test, predict_proba가 반환한 객체)를 인자로 한다.\n",
    "pred_proba = lr_clf.predict_proba(X_test)[:,1]\n",
    "roc_score = roc_auc_score(y_test, pred_proba)\n",
    "print(f\"ROC score : {roc_score:.3f}\")"
   ]
  },
  {
   "cell_type": "code",
   "execution_count": null,
   "metadata": {},
   "outputs": [],
   "source": []
  }
 ],
 "metadata": {
  "hide_input": false,
  "kernelspec": {
   "display_name": "Python 3",
   "language": "python",
   "name": "python3"
  },
  "language_info": {
   "codemirror_mode": {
    "name": "ipython",
    "version": 3
   },
   "file_extension": ".py",
   "mimetype": "text/x-python",
   "name": "python",
   "nbconvert_exporter": "python",
   "pygments_lexer": "ipython3",
   "version": "3.7.7"
  },
  "toc": {
   "base_numbering": 1,
   "nav_menu": {},
   "number_sections": true,
   "sideBar": true,
   "skip_h1_title": false,
   "title_cell": "Table of Contents",
   "title_sidebar": "Contents",
   "toc_cell": false,
   "toc_position": {},
   "toc_section_display": true,
   "toc_window_display": false
  },
  "varInspector": {
   "cols": {
    "lenName": 16,
    "lenType": 16,
    "lenVar": 40
   },
   "kernels_config": {
    "python": {
     "delete_cmd_postfix": "",
     "delete_cmd_prefix": "del ",
     "library": "var_list.py",
     "varRefreshCmd": "print(var_dic_list())"
    },
    "r": {
     "delete_cmd_postfix": ") ",
     "delete_cmd_prefix": "rm(",
     "library": "var_list.r",
     "varRefreshCmd": "cat(var_dic_list()) "
    }
   },
   "types_to_exclude": [
    "module",
    "function",
    "builtin_function_or_method",
    "instance",
    "_Feature"
   ],
   "window_display": false
  }
 },
 "nbformat": 4,
 "nbformat_minor": 4
}

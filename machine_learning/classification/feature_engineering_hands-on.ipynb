{
 "cells": [
  {
   "cell_type": "code",
   "execution_count": 2,
   "metadata": {},
   "outputs": [],
   "source": [
    "import os\n",
    "import pandas as pd\n",
    "import numpy as np\n",
    "os.chdir('/Users/younghun/Desktop/gitrepo/data')"
   ]
  },
  {
   "cell_type": "code",
   "execution_count": 26,
   "metadata": {},
   "outputs": [
    {
     "data": {
      "text/plain": [
       "(284807, 31)"
      ]
     },
     "execution_count": 26,
     "metadata": {},
     "output_type": "execute_result"
    }
   ],
   "source": [
    "card_df = pd.read_csv('creditcard.csv', encoding='utf-8')\n",
    "card_df.shape"
   ]
  },
  {
   "cell_type": "code",
   "execution_count": 6,
   "metadata": {},
   "outputs": [
    {
     "data": {
      "text/html": [
       "<div>\n",
       "<style scoped>\n",
       "    .dataframe tbody tr th:only-of-type {\n",
       "        vertical-align: middle;\n",
       "    }\n",
       "\n",
       "    .dataframe tbody tr th {\n",
       "        vertical-align: top;\n",
       "    }\n",
       "\n",
       "    .dataframe thead th {\n",
       "        text-align: right;\n",
       "    }\n",
       "</style>\n",
       "<table border=\"1\" class=\"dataframe\">\n",
       "  <thead>\n",
       "    <tr style=\"text-align: right;\">\n",
       "      <th></th>\n",
       "      <th>Time</th>\n",
       "      <th>V1</th>\n",
       "      <th>V2</th>\n",
       "      <th>V3</th>\n",
       "      <th>V4</th>\n",
       "      <th>V5</th>\n",
       "      <th>V6</th>\n",
       "      <th>V7</th>\n",
       "      <th>V8</th>\n",
       "      <th>V9</th>\n",
       "      <th>...</th>\n",
       "      <th>V21</th>\n",
       "      <th>V22</th>\n",
       "      <th>V23</th>\n",
       "      <th>V24</th>\n",
       "      <th>V25</th>\n",
       "      <th>V26</th>\n",
       "      <th>V27</th>\n",
       "      <th>V28</th>\n",
       "      <th>Amount</th>\n",
       "      <th>Class</th>\n",
       "    </tr>\n",
       "  </thead>\n",
       "  <tbody>\n",
       "    <tr>\n",
       "      <th>0</th>\n",
       "      <td>0.0</td>\n",
       "      <td>-1.359807</td>\n",
       "      <td>-0.072781</td>\n",
       "      <td>2.536347</td>\n",
       "      <td>1.378155</td>\n",
       "      <td>-0.338321</td>\n",
       "      <td>0.462388</td>\n",
       "      <td>0.239599</td>\n",
       "      <td>0.098698</td>\n",
       "      <td>0.363787</td>\n",
       "      <td>...</td>\n",
       "      <td>-0.018307</td>\n",
       "      <td>0.277838</td>\n",
       "      <td>-0.110474</td>\n",
       "      <td>0.066928</td>\n",
       "      <td>0.128539</td>\n",
       "      <td>-0.189115</td>\n",
       "      <td>0.133558</td>\n",
       "      <td>-0.021053</td>\n",
       "      <td>149.62</td>\n",
       "      <td>0</td>\n",
       "    </tr>\n",
       "    <tr>\n",
       "      <th>1</th>\n",
       "      <td>0.0</td>\n",
       "      <td>1.191857</td>\n",
       "      <td>0.266151</td>\n",
       "      <td>0.166480</td>\n",
       "      <td>0.448154</td>\n",
       "      <td>0.060018</td>\n",
       "      <td>-0.082361</td>\n",
       "      <td>-0.078803</td>\n",
       "      <td>0.085102</td>\n",
       "      <td>-0.255425</td>\n",
       "      <td>...</td>\n",
       "      <td>-0.225775</td>\n",
       "      <td>-0.638672</td>\n",
       "      <td>0.101288</td>\n",
       "      <td>-0.339846</td>\n",
       "      <td>0.167170</td>\n",
       "      <td>0.125895</td>\n",
       "      <td>-0.008983</td>\n",
       "      <td>0.014724</td>\n",
       "      <td>2.69</td>\n",
       "      <td>0</td>\n",
       "    </tr>\n",
       "    <tr>\n",
       "      <th>2</th>\n",
       "      <td>1.0</td>\n",
       "      <td>-1.358354</td>\n",
       "      <td>-1.340163</td>\n",
       "      <td>1.773209</td>\n",
       "      <td>0.379780</td>\n",
       "      <td>-0.503198</td>\n",
       "      <td>1.800499</td>\n",
       "      <td>0.791461</td>\n",
       "      <td>0.247676</td>\n",
       "      <td>-1.514654</td>\n",
       "      <td>...</td>\n",
       "      <td>0.247998</td>\n",
       "      <td>0.771679</td>\n",
       "      <td>0.909412</td>\n",
       "      <td>-0.689281</td>\n",
       "      <td>-0.327642</td>\n",
       "      <td>-0.139097</td>\n",
       "      <td>-0.055353</td>\n",
       "      <td>-0.059752</td>\n",
       "      <td>378.66</td>\n",
       "      <td>0</td>\n",
       "    </tr>\n",
       "  </tbody>\n",
       "</table>\n",
       "<p>3 rows × 31 columns</p>\n",
       "</div>"
      ],
      "text/plain": [
       "   Time        V1        V2        V3        V4        V5        V6        V7  \\\n",
       "0   0.0 -1.359807 -0.072781  2.536347  1.378155 -0.338321  0.462388  0.239599   \n",
       "1   0.0  1.191857  0.266151  0.166480  0.448154  0.060018 -0.082361 -0.078803   \n",
       "2   1.0 -1.358354 -1.340163  1.773209  0.379780 -0.503198  1.800499  0.791461   \n",
       "\n",
       "         V8        V9  ...       V21       V22       V23       V24       V25  \\\n",
       "0  0.098698  0.363787  ... -0.018307  0.277838 -0.110474  0.066928  0.128539   \n",
       "1  0.085102 -0.255425  ... -0.225775 -0.638672  0.101288 -0.339846  0.167170   \n",
       "2  0.247676 -1.514654  ...  0.247998  0.771679  0.909412 -0.689281 -0.327642   \n",
       "\n",
       "        V26       V27       V28  Amount  Class  \n",
       "0 -0.189115  0.133558 -0.021053  149.62      0  \n",
       "1  0.125895 -0.008983  0.014724    2.69      0  \n",
       "2 -0.139097 -0.055353 -0.059752  378.66      0  \n",
       "\n",
       "[3 rows x 31 columns]"
      ]
     },
     "execution_count": 6,
     "metadata": {},
     "output_type": "execute_result"
    }
   ],
   "source": [
    "card_df.head(3)"
   ]
  },
  {
   "cell_type": "code",
   "execution_count": 7,
   "metadata": {},
   "outputs": [],
   "source": [
    "# 원본 데이터프레임을 복사하고 필요없는 Time칼럼 없애는 함수 정의해주기\n",
    "from sklearn.model_selection import train_test_split\n",
    "\n",
    "def get_preprocessed_df(df):\n",
    "    df_copy = df.copy()\n",
    "    df_copy.drop('Time', axis=1, inplace=True)\n",
    "    return df_copy\n",
    "\n",
    "# 위에서 사전적으로 가공한 데이터프레임을 train, test 데이터로 split하기\n",
    "def split_train_test(df):\n",
    "    df_copy = get_preprocessed_df(df)\n",
    "    \n",
    "    x_features = df_copy.iloc[:, :-1]\n",
    "    y_labels = df_copy.iloc[:, -1]\n",
    "    \n",
    "    x_train, x_test, y_train, y_test = train_test_split(x_features, y_labels,\n",
    "                                                       test_size=0.2,\n",
    "                                                       random_state=42)\n",
    "    return x_train, x_test, y_train, y_test"
   ]
  },
  {
   "cell_type": "code",
   "execution_count": 8,
   "metadata": {},
   "outputs": [],
   "source": [
    "x_train, x_test, y_train, y_test = split_train_test(card_df)"
   ]
  },
  {
   "cell_type": "code",
   "execution_count": 11,
   "metadata": {},
   "outputs": [
    {
     "name": "stdout",
     "output_type": "stream",
     "text": [
      "학습 데이터 레이블 분포 비율\n",
      "0    99.827075\n",
      "1     0.172925\n",
      "Name: Class, dtype: float64\n",
      "검증 데이터 레이블 분포 비율\n",
      "0    99.827955\n",
      "1     0.172045\n",
      "Name: Class, dtype: float64\n"
     ]
    }
   ],
   "source": [
    "print(\"학습 데이터 레이블 분포 비율\")\n",
    "print(y_train.value_counts()/y_train.shape[0] * 100)\n",
    "print(\"검증 데이터 레이블 분포 비율\")\n",
    "print(y_test.value_counts()/y_test.shape[0] * 100)\n",
    "\n",
    "# 학습, 검증 데이터 각각 레이블 분포 비율은 맞춰줌"
   ]
  },
  {
   "cell_type": "code",
   "execution_count": 12,
   "metadata": {},
   "outputs": [],
   "source": [
    "# classification metric 얻는 함수\n",
    "from sklearn.metrics import confusion_matrix, accuracy_score, precision_score, recall_score, f1_score\n",
    "from sklearn.metrics import roc_auc_score\n",
    "\n",
    "# 수정된 get_clf_eval() 함수 \n",
    "def get_clf_eval(y_test, pred=None, pred_proba=None):\n",
    "    confusion = confusion_matrix( y_test, pred)\n",
    "    accuracy = accuracy_score(y_test , pred)\n",
    "    precision = precision_score(y_test , pred)\n",
    "    recall = recall_score(y_test , pred)\n",
    "    f1 = f1_score(y_test,pred)\n",
    "    # ROC-AUC 추가 - pred_proba 인자 넣어주는거 인지!\n",
    "    roc_auc = roc_auc_score(y_test, pred_proba)\n",
    "    print('오차 행렬')\n",
    "    print(confusion)\n",
    "    # ROC-AUC print 추가\n",
    "    print('정확도: {0:.4f}, 정밀도: {1:.4f}, 재현율: {2:.4f},\\\n",
    "    F1: {3:.4f}, AUC:{4:.4f}'.format(accuracy, precision, recall, f1, roc_auc))"
   ]
  },
  {
   "cell_type": "code",
   "execution_count": 13,
   "metadata": {},
   "outputs": [
    {
     "name": "stdout",
     "output_type": "stream",
     "text": [
      "오차 행렬\n",
      "[[56854    10]\n",
      " [   46    52]]\n",
      "정확도: 0.9990, 정밀도: 0.8387, 재현율: 0.5306,    F1: 0.6500, AUC:0.9529\n"
     ]
    },
    {
     "name": "stderr",
     "output_type": "stream",
     "text": [
      "/Users/younghun/opt/anaconda3/envs/venvforpython/lib/python3.7/site-packages/sklearn/linear_model/_logistic.py:764: ConvergenceWarning: lbfgs failed to converge (status=1):\n",
      "STOP: TOTAL NO. of ITERATIONS REACHED LIMIT.\n",
      "\n",
      "Increase the number of iterations (max_iter) or scale the data as shown in:\n",
      "    https://scikit-learn.org/stable/modules/preprocessing.html\n",
      "Please also refer to the documentation for alternative solver options:\n",
      "    https://scikit-learn.org/stable/modules/linear_model.html#logistic-regression\n",
      "  extra_warning_msg=_LOGISTIC_SOLVER_CONVERGENCE_MSG)\n"
     ]
    }
   ],
   "source": [
    "# Logistic Regression 적용해보기\n",
    "from sklearn.linear_model import LogisticRegression\n",
    "\n",
    "lr_clf = LogisticRegression()\n",
    "lr_clf.fit(x_train, y_train)\n",
    "\n",
    "lr_pred = lr_clf.predict(x_test)\n",
    "lr_pred_proba = lr_clf.predict_proba(x_test)[:,1]\n",
    "\n",
    "get_clf_eval(y_test, lr_pred, lr_pred_proba)"
   ]
  },
  {
   "cell_type": "code",
   "execution_count": 65,
   "metadata": {},
   "outputs": [],
   "source": [
    "# 여러 모델을 다룰 것이므로 모델을 학습시키는 함수 개별적으로 정의\n",
    "def train_model(model, ftr_train, ftr_test, tgt_train, tgt_test):\n",
    "    model.fit(ftr_train, tgt_train)\n",
    "    pred = model.predict(ftr_test)\n",
    "    pred_proba = model.predict_proba(ftr_test)[:,1]\n",
    "    get_clf_eval(tgt_test, pred, pred_proba)\n"
   ]
  },
  {
   "cell_type": "code",
   "execution_count": 17,
   "metadata": {},
   "outputs": [
    {
     "name": "stdout",
     "output_type": "stream",
     "text": [
      "오차 행렬\n",
      "[[56796    68]\n",
      " [   93     5]]\n",
      "정확도: 0.9972, 정밀도: 0.0685, 재현율: 0.0510,    F1: 0.0585, AUC:0.5249\n",
      "None\n"
     ]
    }
   ],
   "source": [
    "# LightGBM 모델링하기\n",
    "from lightgbm import LGBMClassifier\n",
    "\n",
    "lgbm_clf = LGBMClassifier(n_estimators=1000, num_leaves=64)\n",
    "train_model(lgbm_clf, x_train, x_test, y_train, y_test)"
   ]
  },
  {
   "cell_type": "markdown",
   "metadata": {},
   "source": [
    "# 중요 데이터 분포도 변환하는 feature engineering"
   ]
  },
  {
   "cell_type": "code",
   "execution_count": 19,
   "metadata": {},
   "outputs": [
    {
     "data": {
      "text/plain": [
       "<AxesSubplot:xlabel='Amount'>"
      ]
     },
     "execution_count": 19,
     "metadata": {},
     "output_type": "execute_result"
    },
    {
     "data": {
      "image/png": "[encoded data removed]",
      "text/plain": [
       "<Figure size 576x288 with 1 Axes>"
      ]
     },
     "metadata": {
      "needs_background": "light"
     },
     "output_type": "display_data"
    }
   ],
   "source": [
    "import seaborn as sns\n",
    "import matplotlib.pyplot as plt\n",
    "plt.figure(figsize=(8,4))\n",
    "plt.xticks(range(0, 30000, 1000), rotation=60)\n",
    "sns.distplot(card_df['Amount'])"
   ]
  },
  {
   "cell_type": "code",
   "execution_count": 30,
   "metadata": {},
   "outputs": [],
   "source": [
    "# 분포도를 변화시키기 위해서 StandardScaler 적용해서 학습시켜보기\n",
    "from sklearn.preprocessing import StandardScaler\n",
    "\n",
    "def split_train_test(df):\n",
    "    df_copy = get_preprocessed_df(df)\n",
    "    \n",
    "    x_features = df_copy.iloc[:, :-1]\n",
    "    y_labels = df_copy.iloc[:, -1]\n",
    "    \n",
    "    x_train, x_test, y_train, y_test = train_test_split(x_features, y_labels,\n",
    "                                                       test_size=0.2,\n",
    "                                                       random_state=42)\n",
    "    return x_train, x_test, y_train, y_test\n",
    "\n",
    "def get_preprocessed_df(df):\n",
    "    df_copy = df.copy()\n",
    "    scaler = StandardScaler()\n",
    "    # dataframe의 values를 2차원 array로 변형해준 후 scaler적용해야함\n",
    "    scaled_amount = scaler.fit_transform(df_copy['Amount'].values.reshape(-1,1))\n",
    "    # insert문법으로 데이터프레임도 리스트처럼 넣을 수 있음\n",
    "    # df.insert(칼럼순서위치, 칼럼이름, 칼럼값)\n",
    "    df_copy.insert(0, 'Amount_scaled', scaled_amount)\n",
    "    \n",
    "    df_copy.drop(['Time','Amount'], axis=1, inplace=True)\n",
    "    \n",
    "    return df_copy"
   ]
  },
  {
   "cell_type": "code",
   "execution_count": 31,
   "metadata": {},
   "outputs": [],
   "source": [
    "x_train, x_test, y_train, y_test = split_train_test(card_df)"
   ]
  },
  {
   "cell_type": "code",
   "execution_count": 32,
   "metadata": {},
   "outputs": [
    {
     "name": "stdout",
     "output_type": "stream",
     "text": [
      "로지스틱 회귀 모델링 결괴\n",
      "오차 행렬\n",
      "[[56855     9]\n",
      " [   41    57]]\n",
      "정확도: 0.9991, 정밀도: 0.8636, 재현율: 0.5816,    F1: 0.6951, AUC:0.9762\n",
      "None\n",
      "\n",
      "LightGBM 모델링 결과\n",
      "오차 행렬\n",
      "[[56678   186]\n",
      " [   48    50]]\n",
      "정확도: 0.9959, 정밀도: 0.2119, 재현율: 0.5102,    F1: 0.2994, AUC:0.6863\n",
      "None\n"
     ]
    }
   ],
   "source": [
    "print(\"로지스틱 회귀 모델링 결괴\")\n",
    "lr_clf = LogisticRegression()\n",
    "train_model(lr_clf, x_train, x_test, y_train, y_test)\n",
    "print()\n",
    "print(\"LightGBM 모델링 결과\")\n",
    "lgbm_clf = LGBMClassifier()\n",
    "train_model(lgbm_clf, x_train, x_test, y_train, y_test)"
   ]
  },
  {
   "cell_type": "code",
   "execution_count": 35,
   "metadata": {},
   "outputs": [],
   "source": [
    "# Amount에 log변환을 취해서 분포도 변환시킨후 학습시키기\n",
    "def get_preprocessed_df(df):\n",
    "    df_copy = df.copy()\n",
    "    amount_n = np.log1p(df_copy['Amount'])\n",
    "    df_copy.insert(0, 'Amount_log', amount_n)\n",
    "    df_copy.drop(['Time', 'Amount'], axis=1, inplace=True)\n",
    "    return df_copy"
   ]
  },
  {
   "cell_type": "code",
   "execution_count": 36,
   "metadata": {},
   "outputs": [],
   "source": [
    "x_train, x_test, y_train, y_test = split_train_test(card_df)"
   ]
  },
  {
   "cell_type": "code",
   "execution_count": 37,
   "metadata": {},
   "outputs": [
    {
     "name": "stdout",
     "output_type": "stream",
     "text": [
      "로지스틱 회귀 모델링 결괴\n",
      "오차 행렬\n",
      "[[56855     9]\n",
      " [   41    57]]\n",
      "정확도: 0.9991, 정밀도: 0.8636, 재현율: 0.5816,    F1: 0.6951, AUC:0.9765\n",
      "None\n",
      "\n",
      "LightGBM 모델링 결과\n",
      "오차 행렬\n",
      "[[56784    80]\n",
      " [   94     4]]\n",
      "정확도: 0.9969, 정밀도: 0.0476, 재현율: 0.0408,    F1: 0.0440, AUC:0.4919\n",
      "None\n"
     ]
    }
   ],
   "source": [
    "print(\"로지스틱 회귀 모델링 결괴\")\n",
    "lr_clf = LogisticRegression()\n",
    "train_model(lr_clf, x_train, x_test, y_train, y_test)\n",
    "print()\n",
    "print(\"LightGBM 모델링 결과\")\n",
    "lgbm_clf = LGBMClassifier()\n",
    "train_model(lgbm_clf, x_train, x_test, y_train, y_test)"
   ]
  },
  {
   "cell_type": "code",
   "execution_count": 38,
   "metadata": {},
   "outputs": [
    {
     "data": {
      "text/plain": [
       "<AxesSubplot:>"
      ]
     },
     "execution_count": 38,
     "metadata": {},
     "output_type": "execute_result"
    },
    {
     "data": {
      "image/png": "[encoded data removed]",
      "text/plain": [
       "<Figure size 720x576 with 2 Axes>"
      ]
     },
     "metadata": {
      "needs_background": "light"
     },
     "output_type": "display_data"
    }
   ],
   "source": [
    "# 이상치 제거후 모델 학습 평가해보기\n",
    "# 우선 class와 상관관계가 높은 변수를 기준으로 이상치를 제거하자\n",
    "# 그러기 위해서 상관관계 살펴보기\n",
    "plt.figure(figsize=(10,8))\n",
    "\n",
    "corr = card_df.corr()\n",
    "sns.heatmap(corr, cmap='Blues')"
   ]
  },
  {
   "cell_type": "code",
   "execution_count": 41,
   "metadata": {},
   "outputs": [],
   "source": [
    "# V11이 가장 상관관계가 높으므로 해당 변수의 이상치를 제거해보자.\n",
    "\n",
    "# weight값은 이상치에 포함되는 범위 결정할 때 곱해주는 계수값\n",
    "def get_outlier(df, column, weight=1.5):\n",
    "    # 사기에 해당하는 데이터들 중 해당 변수에 해당하는 값들만 출력\n",
    "    fraud = df[df['Class'] ==1][column]\n",
    "    quantile_25 = np.percentile(fraud.values, 25)\n",
    "    quantile_75 = np.percentile(fraud.values, 75)\n",
    "    \n",
    "    # IQR을 구하고 1.5를 곱해서 이상치 포함시킬 범위 정의\n",
    "    iqr = quantile_75 - quantile_25\n",
    "    iqr_w = iqr * weight\n",
    "    lowest = quantile_25 - iqr_w\n",
    "    highest = quantile_75 + iqr_w\n",
    "    \n",
    "    outlier_idx = fraud[(fraud < lowest) | (fraud > highest)].index\n",
    "    \n",
    "    return outlier_idx"
   ]
  },
  {
   "cell_type": "code",
   "execution_count": 43,
   "metadata": {},
   "outputs": [
    {
     "name": "stdout",
     "output_type": "stream",
     "text": [
      "Int64Index([8296, 8335, 8615, 9035, 9179, 9252, 9487, 9509, 10568, 10801], dtype='int64')\n"
     ]
    }
   ],
   "source": [
    "outlier_idx = get_outlier(card_df, 'V11')\n",
    "print(outlier_idx)"
   ]
  },
  {
   "cell_type": "code",
   "execution_count": 44,
   "metadata": {},
   "outputs": [],
   "source": [
    "# 로그변환 후 이상치 제거해주는 기능 추가\n",
    "def get_preprocessed_df(df):\n",
    "    df_copy = df.copy()\n",
    "    amount_n = np.log1p(df_copy['Amount'])\n",
    "    df_copy.insert(0, 'Amount_log', amount_n)\n",
    "    df_copy.drop(['Time', 'Amount'], axis=1, inplace=True)\n",
    "    \n",
    "    outlier_idx = get_outlier(card_df, 'V11')\n",
    "    df_copy.drop(outlier_idx, axis=0, inplace=True)\n",
    "    \n",
    "    return df_copy"
   ]
  },
  {
   "cell_type": "code",
   "execution_count": 46,
   "metadata": {},
   "outputs": [],
   "source": [
    "x_train, x_test, y_train, y_test = split_train_test(card_df)"
   ]
  },
  {
   "cell_type": "code",
   "execution_count": 47,
   "metadata": {},
   "outputs": [
    {
     "name": "stdout",
     "output_type": "stream",
     "text": [
      "로지스틱 회귀 모델링 결괴\n",
      "오차 행렬\n",
      "[[56859     7]\n",
      " [   44    50]]\n",
      "정확도: 0.9991, 정밀도: 0.8772, 재현율: 0.5319,    F1: 0.6623, AUC:0.9850\n",
      "None\n",
      "\n",
      "LightGBM 모델링 결과\n",
      "오차 행렬\n",
      "[[56803    63]\n",
      " [   32    62]]\n",
      "정확도: 0.9983, 정밀도: 0.4960, 재현율: 0.6596,    F1: 0.5662, AUC:0.8594\n",
      "None\n"
     ]
    }
   ],
   "source": [
    "print(\"로지스틱 회귀 모델링 결괴\")\n",
    "lr_clf = LogisticRegression()\n",
    "train_model(lr_clf, x_train, x_test, y_train, y_test)\n",
    "print()\n",
    "print(\"LightGBM 모델링 결과\")\n",
    "lgbm_clf = LGBMClassifier()\n",
    "train_model(lgbm_clf, x_train, x_test, y_train, y_test)"
   ]
  },
  {
   "cell_type": "code",
   "execution_count": 49,
   "metadata": {},
   "outputs": [
    {
     "name": "stdout",
     "output_type": "stream",
     "text": [
      "오버샘플링 전 : (227837, 29) (227837,)\n",
      "\n",
      "오버샘플링 후 : (454898, 29) (454898,)\n",
      "오버샘플링 후 레이블 분포 :\n",
      " 1    227449\n",
      "0    227449\n",
      "Name: Class, dtype: int64\n"
     ]
    }
   ],
   "source": [
    "# SMOTE(KNN에 기반한 오버샘플링) 적용 후 모델 학습\n",
    "from imblearn.over_sampling import SMOTE\n",
    "\n",
    "smote = SMOTE(random_state=42)\n",
    "# train 데이터에서 오버샘플링 시키기\n",
    "x_train_over, y_train_over = smote.fit_sample(x_train, y_train)\n",
    "\n",
    "# 오버샘플링 적용 후 데이터 레이블 개수 살펴보기\n",
    "print('오버샘플링 전 :', x_train.shape, y_train.shape)\n",
    "print()\n",
    "print('오버샘플링 후 :', x_train_over.shape, y_train_over.shape)\n",
    "\n",
    "print('오버샘플링 후 레이블 분포 :\\n', pd.Series(y_train_over).value_counts())"
   ]
  },
  {
   "cell_type": "code",
   "execution_count": 50,
   "metadata": {},
   "outputs": [
    {
     "name": "stdout",
     "output_type": "stream",
     "text": [
      "오차 행렬\n",
      "[[55302  1564]\n",
      " [    7    87]]\n",
      "정확도: 0.9724, 정밀도: 0.0527, 재현율: 0.9255,    F1: 0.0997, AUC:0.9835\n",
      "None\n"
     ]
    }
   ],
   "source": [
    "lr_clf = LogisticRegression()\n",
    "train_model(lr_clf, x_train_over, x_test, y_train_over, y_test)"
   ]
  },
  {
   "cell_type": "code",
   "execution_count": 63,
   "metadata": {},
   "outputs": [
    {
     "data": {
      "image/png": "[encoded data removed]",
      "text/plain": [
       "<Figure size 576x432 with 1 Axes>"
      ]
     },
     "metadata": {
      "needs_background": "light"
     },
     "output_type": "display_data"
    }
   ],
   "source": [
    "import matplotlib.pyplot as plt\n",
    "import matplotlib.ticker as ticker\n",
    "from sklearn.metrics import precision_recall_curve\n",
    "%matplotlib inline\n",
    "\n",
    "def precision_recall_curve_plot(y_test , pred_proba_c1):\n",
    "    # threshold ndarray와 이 threshold에 따른 정밀도, 재현율 ndarray 추출. \n",
    "    precisions, recalls, thresholds = precision_recall_curve( y_test, pred_proba_c1)\n",
    "    \n",
    "    # X축을 threshold값으로, Y축은 정밀도, 재현율 값으로 각각 Plot 수행. 정밀도는 점선으로 표시\n",
    "    plt.figure(figsize=(8,6))\n",
    "    threshold_boundary = thresholds.shape[0]\n",
    "    plt.plot(thresholds, precisions[0:threshold_boundary], linestyle='--', label='precision')\n",
    "    plt.plot(thresholds, recalls[0:threshold_boundary],label='recall')\n",
    "    \n",
    "    # threshold 값 X 축의 Scale을 0.1 단위로 변경\n",
    "    start, end = plt.xlim()\n",
    "    plt.xticks(np.round(np.arange(start, end, 0.1),2))\n",
    "    \n",
    "    # x축, y축 label과 legend, 그리고 grid 설정\n",
    "    plt.xlabel('Threshold value'); plt.ylabel('Precision and Recall value')\n",
    "    plt.legend(); plt.grid()\n",
    "    plt.show()\n",
    "    \n",
    "precision_recall_curve_plot(y_test, lr_clf.predict_proba(x_test)[:,1])"
   ]
  },
  {
   "cell_type": "code",
   "execution_count": 66,
   "metadata": {},
   "outputs": [
    {
     "name": "stdout",
     "output_type": "stream",
     "text": [
      "오차 행렬\n",
      "[[56852    14]\n",
      " [   14    80]]\n",
      "정확도: 0.9995, 정밀도: 0.8511, 재현율: 0.8511,    F1: 0.8511, AUC:0.9847\n"
     ]
    }
   ],
   "source": [
    "# boost_from_average는 디폴트값이 True인데 클래스 불균형이 매우 심할때\n",
    "# True로 하면 재현율이 현저하게 떨어지는 모습을 보인다\n",
    "# 따라서 클래스불균형이 매우 심할 때는 False값으로 바꾸어주자\n",
    "lgbm_clf = LGBMClassifier(n_estimators=1000, num_leaves=64,\n",
    "                         n_jobs=-1, boost_from_average=False)\n",
    "train_model(lgbm_clf, x_train_over, x_test, y_train_over, y_test)"
   ]
  },
  {
   "cell_type": "code",
   "execution_count": null,
   "metadata": {},
   "outputs": [],
   "source": []
  }
 ],
 "metadata": {
  "hide_input": false,
  "kernelspec": {
   "display_name": "Python 3",
   "language": "python",
   "name": "python3"
  },
  "language_info": {
   "codemirror_mode": {
    "name": "ipython",
    "version": 3
   },
   "file_extension": ".py",
   "mimetype": "text/x-python",
   "name": "python",
   "nbconvert_exporter": "python",
   "pygments_lexer": "ipython3",
   "version": "3.7.7"
  },
  "toc": {
   "base_numbering": 1,
   "nav_menu": {},
   "number_sections": true,
   "sideBar": true,
   "skip_h1_title": false,
   "title_cell": "Table of Contents",
   "title_sidebar": "Contents",
   "toc_cell": false,
   "toc_position": {},
   "toc_section_display": true,
   "toc_window_display": false
  },
  "varInspector": {
   "cols": {
    "lenName": 16,
    "lenType": 16,
    "lenVar": 40
   },
   "kernels_config": {
    "python": {
     "delete_cmd_postfix": "",
     "delete_cmd_prefix": "del ",
     "library": "var_list.py",
     "varRefreshCmd": "print(var_dic_list())"
    },
    "r": {
     "delete_cmd_postfix": ") ",
     "delete_cmd_prefix": "rm(",
     "library": "var_list.r",
     "varRefreshCmd": "cat(var_dic_list()) "
    }
   },
   "types_to_exclude": [
    "module",
    "function",
    "builtin_function_or_method",
    "instance",
    "_Feature"
   ],
   "window_display": false
  }
 },
 "nbformat": 4,
 "nbformat_minor": 4
}

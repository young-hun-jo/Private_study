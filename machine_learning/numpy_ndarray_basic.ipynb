{
 "cells": [
  {
   "cell_type": "code",
   "execution_count": 1,
   "metadata": {},
   "outputs": [],
   "source": [
    "import numpy as np"
   ]
  },
  {
   "cell_type": "markdown",
   "metadata": {},
   "source": [
    "# ndarray 개요"
   ]
  },
  {
   "cell_type": "code",
   "execution_count": 2,
   "metadata": {},
   "outputs": [
    {
     "name": "stdout",
     "output_type": "stream",
     "text": [
      "[1 2 3]\n",
      "<class 'numpy.ndarray'>\n"
     ]
    }
   ],
   "source": [
    "list1 = [1, 2, 3]\n",
    "array1 = np.array(list1)\n",
    "print(array1)\n",
    "print(type(array1))"
   ]
  },
  {
   "cell_type": "code",
   "execution_count": 5,
   "metadata": {},
   "outputs": [
    {
     "name": "stdout",
     "output_type": "stream",
     "text": [
      "array1 shape : (3,)\n",
      "array2 shape : (2, 3)\n",
      "array3 shape : (1, 3)\n",
      "array3 type : <class 'numpy.ndarray'>\n"
     ]
    }
   ],
   "source": [
    "# ndarrayd의 형태(shape)와 차원(dimension) 출력\n",
    "array1 = np.array([1,2,3])\n",
    "print('array1 shape :', array1.shape)\n",
    "\n",
    "array2 = np.array([[1,2,3],\n",
    "                 [4,5,6]])\n",
    "print('array2 shape :', array2.shape)\n",
    "\n",
    "array3 = np.array([[1,2,3]])\n",
    "print('array3 shape :', array3.shape)\n",
    "print('array3 type :', type(array3))\n",
    "# (3,) -> 1차원이면서 요소가 3개인 하나의 1d array\n",
    "# (2,3) -> 2차원이면서 axis=0(행) 기반으로 2개, axis=1(열) 기반으로 3개 2d array\n",
    "# (1,3) -> 1차원이면서 axis=0(행) 기반으로 1개, axis=3(열) 기반으로 3개 2d array"
   ]
  },
  {
   "cell_type": "code",
   "execution_count": 8,
   "metadata": {},
   "outputs": [
    {
     "name": "stdout",
     "output_type": "stream",
     "text": [
      "[1, 2.0, 'test']\n",
      "\n",
      "['1' '2.0' 'test']\n",
      "\n",
      "[1. 2. 3.]\n"
     ]
    }
   ],
   "source": [
    "# list는 안에 다른 종류의 type이 들어가도 됨\n",
    "list1 = [1, 2.0, 'test']\n",
    "print(list1)\n",
    "print()\n",
    "\n",
    "# array안에 다른 종류의 type이 들어갈 수 가 없음\n",
    "# 요소 중 문자열이 들어가 있으면 모두 문자열로 바꿔짐\n",
    "array1 = np.array(list1)\n",
    "print(array1)\n",
    "print()\n",
    "# 만약 실수, 정수값이 같이 들어가 있으면 실수로 모두 변환됨\n",
    "list2 = [1.0, 2, 3]\n",
    "array2 = np.array(list2)\n",
    "print(array2)"
   ]
  },
  {
   "cell_type": "code",
   "execution_count": 9,
   "metadata": {},
   "outputs": [
    {
     "name": "stdout",
     "output_type": "stream",
     "text": [
      "[1 2 3] int32\n"
     ]
    }
   ],
   "source": [
    "# astype으로 array 속 데이터 타입 바꿀 수 있음\n",
    "array_int = np.array([1,2,3])\n",
    "array_float = array_int.astype('int32')\n",
    "print(array_float, array_float.dtype)"
   ]
  },
  {
   "cell_type": "code",
   "execution_count": 10,
   "metadata": {},
   "outputs": [
    {
     "name": "stdout",
     "output_type": "stream",
     "text": [
      "21\n",
      "[5 7 9]\n",
      "[ 6 15]\n"
     ]
    }
   ],
   "source": [
    "# ndarray 연산 수행\n",
    "# axis=0, axis=1 (행, 열) 기반으로 연산 수행 가능\n",
    "array2 = np.array([[1,2,3],\n",
    "                  [4,5,6]])\n",
    "# 모든 요소 다 합하기\n",
    "print(array2.sum())\n",
    "# axis=0 기반으로 모두 합하기\n",
    "print(array2.sum(axis=0))\n",
    "# axis=1 기반으로 모두 합하기\n",
    "print(array2.sum(axis=1))"
   ]
  },
  {
   "cell_type": "markdown",
   "metadata": {},
   "source": [
    "# ndarray 생성방법"
   ]
  },
  {
   "cell_type": "code",
   "execution_count": 18,
   "metadata": {},
   "outputs": [
    {
     "name": "stdout",
     "output_type": "stream",
     "text": [
      "[0 1 2 3 4 5 6 7 8 9] (10,)\n",
      "------------------------------\n",
      "[[0 0]\n",
      " [0 0]\n",
      " [0 0]] (3, 2)\n",
      "------------------------------\n",
      "[[[1. 1.]\n",
      "  [1. 1.]\n",
      "  [1. 1.]]\n",
      "\n",
      " [[1. 1.]\n",
      "  [1. 1.]\n",
      "  [1. 1.]]] (2, 3, 2)\n"
     ]
    }
   ],
   "source": [
    "# ndarray를 편리하게 생성하는 방법(python의 range와 비슷)\n",
    "\n",
    "# 1.arange (array + range)\n",
    "sequence_array = np.arange(10)\n",
    "print(sequence_array, sequence_array.shape)\n",
    "print('------------------------------')\n",
    "\n",
    "# 2. zeros : 0으로 이루어진 ndarray 생성, 차원 수 인자로 넣어주자\n",
    "zero_array = np.zeros((3,2), dtype='int32')\n",
    "print(zero_array, zero_array.shape)\n",
    "print('------------------------------')\n",
    "\n",
    "# 3. ones : 1로 이루어진 ndarray 생성, 차원수 인자로 넣어주자\n",
    "one_array = np.ones((2,3,2))\n",
    "print(one_array, one_array.shape)"
   ]
  },
  {
   "cell_type": "markdown",
   "metadata": {},
   "source": [
    "# ndarray 의 reshape"
   ]
  },
  {
   "cell_type": "code",
   "execution_count": 23,
   "metadata": {},
   "outputs": [
    {
     "name": "stdout",
     "output_type": "stream",
     "text": [
      "array1 :\n",
      " [0 1 2 3 4 5 6 7 8 9]\n",
      "\n",
      "array2 :\n",
      " [[0 1 2 3 4]\n",
      " [5 6 7 8 9]]\n",
      "\n",
      "array3 :\n",
      " [[0 1]\n",
      " [2 3]\n",
      " [4 5]\n",
      " [6 7]\n",
      " [8 9]]\n"
     ]
    }
   ],
   "source": [
    "# ndarray의 shape를 변경해주는 reshape\n",
    "# ndarray 요소 개수에 맞게 reshape 설정해주어야 함!\n",
    "array1 = np.arange(10)\n",
    "print('array1 :\\n',array1)\n",
    "print()\n",
    "array2 = array1.reshape(2,5)\n",
    "print('array2 :\\n', array2)\n",
    "print()\n",
    "array3 = array1.reshape(5,2)\n",
    "print('array3 :\\n', array3)"
   ]
  },
  {
   "cell_type": "code",
   "execution_count": 26,
   "metadata": {},
   "outputs": [
    {
     "name": "stdout",
     "output_type": "stream",
     "text": [
      "array1 :\n",
      " [0 1 2 3 4 5 6 7 8 9]\n",
      "\n",
      "array2 :\n",
      " [[0 1 2 3 4]\n",
      " [5 6 7 8 9]]\n",
      "\n",
      "array3 :\n",
      " [[0 1]\n",
      " [2 3]\n",
      " [4 5]\n",
      " [6 7]\n",
      " [8 9]]\n"
     ]
    }
   ],
   "source": [
    "# 하지만 -1을 인자로 대체하여 가변적인 ndarray 형태로 변환해주기\n",
    "array1 = np.arange(10)\n",
    "print('array1 :\\n', array1)\n",
    "print()\n",
    "\n",
    "# axis=0에 -1로 가변성을 추가해주고 알아서 axis=1의 5에 맞춰서 변환해줘!\n",
    "array2 = array1.reshape(-1, 5)\n",
    "print('array2 :\\n',array2)\n",
    "print()\n",
    "\n",
    "# 위와 반대로\n",
    "array3 = array1.reshape(5, -1)\n",
    "print('array3 :\\n', array3)"
   ]
  },
  {
   "cell_type": "code",
   "execution_count": 29,
   "metadata": {},
   "outputs": [
    {
     "name": "stdout",
     "output_type": "stream",
     "text": [
      "array1 :\n",
      " [0 1 2 3 4]\n",
      "\n",
      "array2 :\n",
      " [[0]\n",
      " [1]\n",
      " [2]\n",
      " [3]\n",
      " [4]]\n",
      "\n",
      "array3 :\n",
      " [0 1 2 3 4]\n"
     ]
    }
   ],
   "source": [
    "# reshape는 보통 (-1,1) 또는 (-1,) 형태로 많이 사용됨\n",
    "# -1은 하나만 인자로 주어야 함\n",
    "array1 = np.arange(5)\n",
    "print('array1 :\\n', array1)\n",
    "print()\n",
    "\n",
    "# 1차원을 2차원으로 변환하되, axis=1 크기는 반드시 1이어야 하도록 변경\n",
    "array2 = array1.reshape(-1,1)\n",
    "print('array2 :\\n', array2)\n",
    "print()\n",
    "\n",
    "# 2차원을 1차원르 변환활 때!\n",
    "array3 = array2.reshape(-1,)\n",
    "print('array3 :\\n', array3)\n",
    "\n",
    "# 이렇게 변환해줄 때도 요소 개수에 맞게 해주어야 함! 무작정 하면 에러발생"
   ]
  },
  {
   "cell_type": "markdown",
   "metadata": {},
   "source": [
    "# ndarray의 indexing 기법"
   ]
  },
  {
   "cell_type": "markdown",
   "metadata": {},
   "source": [
    "## 특정 위치 단일값 추출"
   ]
  },
  {
   "cell_type": "code",
   "execution_count": 35,
   "metadata": {},
   "outputs": [
    {
     "name": "stdout",
     "output_type": "stream",
     "text": [
      "array1 :\n",
      " [1 2 3 4 5 6 7 8 9]\n",
      "\n",
      "특정 index의 값 추출:  3\n",
      "맨 뒤 index의 값 추출 : 9\n"
     ]
    }
   ],
   "source": [
    "# 특정 범위의 ndarray 생성\n",
    "array1 = np.arange(start=1, stop=10)\n",
    "print('array1 :\\n', array1)\n",
    "print()\n",
    "\n",
    "# 특정 Index의 value 추출\n",
    "print('특정 index의 값 추출: ',array1[2])\n",
    "\n",
    "# 맨 뒤 index의 값 추출\n",
    "print('맨 뒤 index의 값 추출 :',array1[-1])"
   ]
  },
  {
   "cell_type": "code",
   "execution_count": 36,
   "metadata": {},
   "outputs": [
    {
     "name": "stdout",
     "output_type": "stream",
     "text": [
      "[11  2  3  4  5  6  7  8 20]\n"
     ]
    }
   ],
   "source": [
    "# 특정 인덱스의 값 업데이트\n",
    "array1[0] = 11\n",
    "array1[8] = 20\n",
    "print(array1)"
   ]
  },
  {
   "cell_type": "code",
   "execution_count": 39,
   "metadata": {},
   "outputs": [
    {
     "name": "stdout",
     "output_type": "stream",
     "text": [
      "array2 :\n",
      " [[1 2 3]\n",
      " [4 5 6]\n",
      " [7 8 9]]\n",
      "\n",
      "0번 row의 0번 column 값:  1\n",
      "1번 row의 2번 column 값:  6\n"
     ]
    }
   ],
   "source": [
    "# 2차원 array일 때 특정 위치 단일값 추출하기\n",
    "array1 = np.arange(start=1, stop=10)\n",
    "array2 = array1.reshape(3,3)\n",
    "print('array2 :\\n', array2)\n",
    "print()\n",
    "print('0번 row의 0번 column 값: ', array2[0,0])\n",
    "print('1번 row의 2번 column 값: ', array2[1,2])"
   ]
  },
  {
   "cell_type": "markdown",
   "metadata": {},
   "source": [
    "## 슬라이싱 기법"
   ]
  },
  {
   "cell_type": "code",
   "execution_count": 41,
   "metadata": {},
   "outputs": [
    {
     "name": "stdout",
     "output_type": "stream",
     "text": [
      "array1 :\n",
      " [1 2 3 4 5 6 7 8 9]\n",
      "\n",
      "[2 3]\n",
      "[1 2 3 4 5 6 7 8 9]\n",
      "[5 6 7 8 9]\n",
      "[3 4 5 6 7 8]\n"
     ]
    }
   ],
   "source": [
    "array1 = np.arange(start=1, stop=10)\n",
    "print('array1 :\\n', array1)\n",
    "print()\n",
    "print(array1[1:3]) # 3-1번 index까지임\n",
    "print(array1[:])\n",
    "print(array1[4:])\n",
    "print(array1[2:-1])"
   ]
  },
  {
   "cell_type": "code",
   "execution_count": 49,
   "metadata": {},
   "outputs": [
    {
     "name": "stdout",
     "output_type": "stream",
     "text": [
      "array2 :\n",
      " [[1 2 3]\n",
      " [4 5 6]\n",
      " [7 8 9]]\n",
      "\n",
      "[[1 2 3]\n",
      " [4 5 6]]\n",
      "\n",
      "[[4 5]\n",
      " [7 8]]\n",
      "\n",
      "[4 7]\n"
     ]
    }
   ],
   "source": [
    "# 슬라이싱 기법에서 2차원 array일 때 특정 연속적인 값들 추출\n",
    "array1 = np.arange(start=1 , stop=10)\n",
    "array2 = array1.reshape(3,3)\n",
    "print('array2 :\\n', array2)\n",
    "print()\n",
    "\n",
    "print(array2[0:2, :])\n",
    "print()\n",
    "print(array2[1:3, 0:2])\n",
    "print()\n",
    "print(array2[1:3, 0])"
   ]
  },
  {
   "cell_type": "markdown",
   "metadata": {},
   "source": [
    "## Fancy 인덱싱 "
   ]
  },
  {
   "cell_type": "code",
   "execution_count": 51,
   "metadata": {},
   "outputs": [
    {
     "name": "stdout",
     "output_type": "stream",
     "text": [
      "array2 :\n",
      " [[1 2 3]\n",
      " [4 5 6]\n",
      " [7 8 9]]\n",
      "\n",
      "[2 8] <class 'numpy.ndarray'>\n",
      "\n",
      "[6 3]\n"
     ]
    }
   ],
   "source": [
    "# 불연속적인 특정한 인덱싱의 값들을 추출 가능\n",
    "array1 = np.arange(start=1, stop=10)\n",
    "array2 = array1.reshape(3,3)\n",
    "print('array2 :\\n', array2)\n",
    "print()\n",
    "\n",
    "array3 = array2[[0,2], 1]\n",
    "print(array3, type(array3)) # tolist로 list형태로도 변경 가능\n",
    "print()\n",
    "\n",
    "array4 = array2[[1,0], 2]\n",
    "print(array4)"
   ]
  },
  {
   "cell_type": "markdown",
   "metadata": {},
   "source": [
    "## boolean 인덱싱"
   ]
  },
  {
   "cell_type": "code",
   "execution_count": 52,
   "metadata": {},
   "outputs": [
    {
     "name": "stdout",
     "output_type": "stream",
     "text": [
      "[1 2 3 4 5 6 7 8 9]\n"
     ]
    }
   ],
   "source": [
    "# 특정 조건을 만족하는 요소를 T/F 값이 들어있는 ndarray형태로 반환해줌\n",
    "array1 = np.arange(start=1, stop=10)\n",
    "print(array1)"
   ]
  },
  {
   "cell_type": "code",
   "execution_count": 53,
   "metadata": {},
   "outputs": [
    {
     "name": "stdout",
     "output_type": "stream",
     "text": [
      "[False False False False False False  True  True  True]\n"
     ]
    }
   ],
   "source": [
    "print(array1 > 6)"
   ]
  },
  {
   "cell_type": "code",
   "execution_count": 54,
   "metadata": {},
   "outputs": [
    {
     "data": {
      "text/plain": [
       "numpy.ndarray"
      ]
     },
     "execution_count": 54,
     "metadata": {},
     "output_type": "execute_result"
    }
   ],
   "source": [
    "boolean = array1 > 6\n",
    "type(boolean)"
   ]
  },
  {
   "cell_type": "code",
   "execution_count": 55,
   "metadata": {},
   "outputs": [
    {
     "data": {
      "text/plain": [
       "array([7, 8, 9])"
      ]
     },
     "execution_count": 55,
     "metadata": {},
     "output_type": "execute_result"
    }
   ],
   "source": [
    "# boolean으로 이루어진 array를 [] 안에 넣어주어 인덱싱스로 작용하게 끔 가능\n",
    "array1[boolean]"
   ]
  },
  {
   "cell_type": "markdown",
   "metadata": {},
   "source": [
    "# 행렬의 정렬"
   ]
  },
  {
   "cell_type": "markdown",
   "metadata": {},
   "source": [
    "## sort() 함수"
   ]
  },
  {
   "cell_type": "code",
   "execution_count": 60,
   "metadata": {},
   "outputs": [
    {
     "name": "stdout",
     "output_type": "stream",
     "text": [
      "원본 행렬: [3 1 9 5]\n",
      "원본 행렬: [3 1 9 5]\n",
      "정렬 후 행렬: [1 3 5 9]\n"
     ]
    }
   ],
   "source": [
    "origin_array = np.array([3,1,9,5])\n",
    "print('원본 행렬:', origin_array)\n",
    "\n",
    "# np.sort()로 정렬 => 원본 행렬이 바뀌지 않고 정렬된 개별 행렬 따로 생성\n",
    "sort_array1 = np.sort(origin_array)\n",
    "print('원본 행렬:', origin_array)\n",
    "print('정렬 후 행렬:', sort_array1)"
   ]
  },
  {
   "cell_type": "code",
   "execution_count": 61,
   "metadata": {},
   "outputs": [
    {
     "name": "stdout",
     "output_type": "stream",
     "text": [
      "원본 행렬: [1 3 5 9]\n",
      "정렬 후 행렬: None\n"
     ]
    }
   ],
   "source": [
    "origin_array = np.array([3,1,9,5])\n",
    "\n",
    "# ndarray.sort()로 정렬 => 원본 행렬이 바뀌고 정렬된 개별 행렬을 None으로 반환\n",
    "sort_array2 = origin_array.sort()\n",
    "\n",
    "print('원본 행렬:', origin_array)\n",
    "print('정렬 후 행렬:', sort_array2)"
   ]
  },
  {
   "cell_type": "code",
   "execution_count": 62,
   "metadata": {},
   "outputs": [
    {
     "name": "stdout",
     "output_type": "stream",
     "text": [
      "[9 5 3 1]\n"
     ]
    }
   ],
   "source": [
    "# [::-1]로 내림차순으로 역으로 정렬 가능\n",
    "sort_array2 = np.sort(origin_array)[::-1]\n",
    "print(sort_array2)"
   ]
  },
  {
   "cell_type": "code",
   "execution_count": 64,
   "metadata": {},
   "outputs": [
    {
     "name": "stdout",
     "output_type": "stream",
     "text": [
      "[[ 5  7]\n",
      " [10  9]]\n",
      "\n",
      "[[ 5  9]\n",
      " [ 7 10]]\n"
     ]
    }
   ],
   "source": [
    "# axis=0, 1 각 방향으로 정렬 가능\n",
    "array2d = np.array([[5, 9],\n",
    "                   [10, 7]])\n",
    "sort_array_axis0 = np.sort(array2d, axis=0)\n",
    "print(sort_array_axis0)\n",
    "print()\n",
    "\n",
    "sort_array_axis1 = np.sort(array2d, axis=1)\n",
    "print(sort_array_axis1)"
   ]
  },
  {
   "cell_type": "markdown",
   "metadata": {},
   "source": [
    "## argsort() 함수"
   ]
  },
  {
   "cell_type": "code",
   "execution_count": 66,
   "metadata": {},
   "outputs": [
    {
     "name": "stdout",
     "output_type": "stream",
     "text": [
      "[1 0 3 2]\n",
      "\n",
      "[2 3 0 1]\n"
     ]
    }
   ],
   "source": [
    "# argsort는 정렬 한 후 행렬의 index값을 반환해 줌\n",
    "# 왜? key-value값 mapping시 도움(2개의 array가 있을 때)\n",
    "org_array = np.array([3,1,9,5])\n",
    "\n",
    "sort_idx = np.argsort(org_array)\n",
    "print(sort_idx)\n",
    "print()\n",
    "\n",
    "# argsort() 도 [::-1]로 값 내림차순으로 idx 정렬 가능(index가 내림차순이 아님!)\n",
    "sort_idx_desc = np.argsort(org_array)[::-1]\n",
    "print(sort_idx_desc)\n"
   ]
  },
  {
   "cell_type": "code",
   "execution_count": 69,
   "metadata": {},
   "outputs": [
    {
     "name": "stdout",
     "output_type": "stream",
     "text": [
      "['John' 'Sarah' 'Samuel' 'Mike' 'Kate']\n"
     ]
    }
   ],
   "source": [
    "# 2개의 array는 인덱싱 위치마다 이름-점수가 mapping된 상태라 가정\n",
    "name = np.array(['John', 'Mike', 'Sarah', 'Kate', 'Samuel'])\n",
    "score = np.array([78, 95, 84, 98, 88])\n",
    "\n",
    "# score의 index값들을 오름차순으로 정렬\n",
    "score_idx = np.argsort(score)\n",
    "\n",
    "# fancy indexing으로 특정 index에 해당하는 values 출력\n",
    "name_sort_based_score = name[score_idx]\n",
    "print(name_sort_based_score)"
   ]
  },
  {
   "cell_type": "markdown",
   "metadata": {},
   "source": [
    "# 선형대수 연산"
   ]
  },
  {
   "cell_type": "markdown",
   "metadata": {},
   "source": [
    "## 행렬 내적 - dot()"
   ]
  },
  {
   "cell_type": "code",
   "execution_count": 71,
   "metadata": {},
   "outputs": [
    {
     "name": "stdout",
     "output_type": "stream",
     "text": [
      "[[ 62  80]\n",
      " [149 201]]\n"
     ]
    }
   ],
   "source": [
    "A = np.array([[1,3,5],\n",
    "             [7,9,10]])\n",
    "B = np.array([[2,4],\n",
    "             [5,7],\n",
    "             [9,11]])\n",
    "\n",
    "dot_product = np.dot(A,B)\n",
    "print(dot_product)"
   ]
  },
  {
   "cell_type": "markdown",
   "metadata": {},
   "source": [
    "## 전치행렬 - transpose()"
   ]
  },
  {
   "cell_type": "code",
   "execution_count": 72,
   "metadata": {},
   "outputs": [
    {
     "name": "stdout",
     "output_type": "stream",
     "text": [
      "[[ 1  7]\n",
      " [ 3  9]\n",
      " [ 5 11]]\n"
     ]
    }
   ],
   "source": [
    "A = np.array([[1,3,5],\n",
    "             [7,9,11]])\n",
    "\n",
    "transpose_mat = np.transpose(A)\n",
    "print(transpose_mat)"
   ]
  },
  {
   "cell_type": "code",
   "execution_count": null,
   "metadata": {},
   "outputs": [],
   "source": []
  }
 ],
 "metadata": {
  "hide_input": false,
  "kernelspec": {
   "display_name": "Python 3",
   "language": "python",
   "name": "python3"
  },
  "language_info": {
   "codemirror_mode": {
    "name": "ipython",
    "version": 3
   },
   "file_extension": ".py",
   "mimetype": "text/x-python",
   "name": "python",
   "nbconvert_exporter": "python",
   "pygments_lexer": "ipython3",
   "version": "3.7.7"
  },
  "toc": {
   "base_numbering": 1,
   "nav_menu": {},
   "number_sections": true,
   "sideBar": true,
   "skip_h1_title": false,
   "title_cell": "Table of Contents",
   "title_sidebar": "Contents",
   "toc_cell": false,
   "toc_position": {},
   "toc_section_display": true,
   "toc_window_display": false
  },
  "varInspector": {
   "cols": {
    "lenName": 16,
    "lenType": 16,
    "lenVar": 40
   },
   "kernels_config": {
    "python": {
     "delete_cmd_postfix": "",
     "delete_cmd_prefix": "del ",
     "library": "var_list.py",
     "varRefreshCmd": "print(var_dic_list())"
    },
    "r": {
     "delete_cmd_postfix": ") ",
     "delete_cmd_prefix": "rm(",
     "library": "var_list.r",
     "varRefreshCmd": "cat(var_dic_list()) "
    }
   },
   "types_to_exclude": [
    "module",
    "function",
    "builtin_function_or_method",
    "instance",
    "_Feature"
   ],
   "window_display": false
  }
 },
 "nbformat": 4,
 "nbformat_minor": 4
}

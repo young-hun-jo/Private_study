{
 "cells": [
  {
   "cell_type": "markdown",
   "metadata": {},
   "source": [
    "# 아이템 기반 협업 추천 시스템"
   ]
  },
  {
   "cell_type": "code",
   "execution_count": 1,
   "metadata": {},
   "outputs": [
    {
     "name": "stdout",
     "output_type": "stream",
     "text": [
      "(9742, 3)\n",
      "(100836, 4)\n"
     ]
    }
   ],
   "source": [
    "import pandas as pd\n",
    "import numpy as np\n",
    "import os\n",
    "os.chdir('/Users/younghun/Desktop/gitrepo/data/ml-latest-small')\n",
    "movies = pd.read_csv('movies.csv', encoding='utf-8')\n",
    "ratings = pd.read_csv('ratings.csv', encoding='utf-8')\n",
    "print(movies.shape)\n",
    "print(ratings.shape)"
   ]
  },
  {
   "cell_type": "code",
   "execution_count": 2,
   "metadata": {},
   "outputs": [
    {
     "data": {
      "text/html": [
       "<div>\n",
       "<style scoped>\n",
       "    .dataframe tbody tr th:only-of-type {\n",
       "        vertical-align: middle;\n",
       "    }\n",
       "\n",
       "    .dataframe tbody tr th {\n",
       "        vertical-align: top;\n",
       "    }\n",
       "\n",
       "    .dataframe thead th {\n",
       "        text-align: right;\n",
       "    }\n",
       "</style>\n",
       "<table border=\"1\" class=\"dataframe\">\n",
       "  <thead>\n",
       "    <tr style=\"text-align: right;\">\n",
       "      <th></th>\n",
       "      <th>movieId</th>\n",
       "      <th>title</th>\n",
       "      <th>genres</th>\n",
       "    </tr>\n",
       "  </thead>\n",
       "  <tbody>\n",
       "    <tr>\n",
       "      <th>0</th>\n",
       "      <td>1</td>\n",
       "      <td>Toy Story (1995)</td>\n",
       "      <td>Adventure|Animation|Children|Comedy|Fantasy</td>\n",
       "    </tr>\n",
       "    <tr>\n",
       "      <th>1</th>\n",
       "      <td>2</td>\n",
       "      <td>Jumanji (1995)</td>\n",
       "      <td>Adventure|Children|Fantasy</td>\n",
       "    </tr>\n",
       "    <tr>\n",
       "      <th>2</th>\n",
       "      <td>3</td>\n",
       "      <td>Grumpier Old Men (1995)</td>\n",
       "      <td>Comedy|Romance</td>\n",
       "    </tr>\n",
       "    <tr>\n",
       "      <th>3</th>\n",
       "      <td>4</td>\n",
       "      <td>Waiting to Exhale (1995)</td>\n",
       "      <td>Comedy|Drama|Romance</td>\n",
       "    </tr>\n",
       "    <tr>\n",
       "      <th>4</th>\n",
       "      <td>5</td>\n",
       "      <td>Father of the Bride Part II (1995)</td>\n",
       "      <td>Comedy</td>\n",
       "    </tr>\n",
       "  </tbody>\n",
       "</table>\n",
       "</div>"
      ],
      "text/plain": [
       "   movieId                               title  \\\n",
       "0        1                    Toy Story (1995)   \n",
       "1        2                      Jumanji (1995)   \n",
       "2        3             Grumpier Old Men (1995)   \n",
       "3        4            Waiting to Exhale (1995)   \n",
       "4        5  Father of the Bride Part II (1995)   \n",
       "\n",
       "                                        genres  \n",
       "0  Adventure|Animation|Children|Comedy|Fantasy  \n",
       "1                   Adventure|Children|Fantasy  \n",
       "2                               Comedy|Romance  \n",
       "3                         Comedy|Drama|Romance  \n",
       "4                                       Comedy  "
      ]
     },
     "execution_count": 2,
     "metadata": {},
     "output_type": "execute_result"
    }
   ],
   "source": [
    "movies.head()"
   ]
  },
  {
   "cell_type": "code",
   "execution_count": 3,
   "metadata": {},
   "outputs": [
    {
     "data": {
      "text/html": [
       "<div>\n",
       "<style scoped>\n",
       "    .dataframe tbody tr th:only-of-type {\n",
       "        vertical-align: middle;\n",
       "    }\n",
       "\n",
       "    .dataframe tbody tr th {\n",
       "        vertical-align: top;\n",
       "    }\n",
       "\n",
       "    .dataframe thead th {\n",
       "        text-align: right;\n",
       "    }\n",
       "</style>\n",
       "<table border=\"1\" class=\"dataframe\">\n",
       "  <thead>\n",
       "    <tr style=\"text-align: right;\">\n",
       "      <th></th>\n",
       "      <th>userId</th>\n",
       "      <th>movieId</th>\n",
       "      <th>rating</th>\n",
       "      <th>timestamp</th>\n",
       "    </tr>\n",
       "  </thead>\n",
       "  <tbody>\n",
       "    <tr>\n",
       "      <th>0</th>\n",
       "      <td>1</td>\n",
       "      <td>1</td>\n",
       "      <td>4.0</td>\n",
       "      <td>964982703</td>\n",
       "    </tr>\n",
       "    <tr>\n",
       "      <th>1</th>\n",
       "      <td>1</td>\n",
       "      <td>3</td>\n",
       "      <td>4.0</td>\n",
       "      <td>964981247</td>\n",
       "    </tr>\n",
       "    <tr>\n",
       "      <th>2</th>\n",
       "      <td>1</td>\n",
       "      <td>6</td>\n",
       "      <td>4.0</td>\n",
       "      <td>964982224</td>\n",
       "    </tr>\n",
       "    <tr>\n",
       "      <th>3</th>\n",
       "      <td>1</td>\n",
       "      <td>47</td>\n",
       "      <td>5.0</td>\n",
       "      <td>964983815</td>\n",
       "    </tr>\n",
       "    <tr>\n",
       "      <th>4</th>\n",
       "      <td>1</td>\n",
       "      <td>50</td>\n",
       "      <td>5.0</td>\n",
       "      <td>964982931</td>\n",
       "    </tr>\n",
       "  </tbody>\n",
       "</table>\n",
       "</div>"
      ],
      "text/plain": [
       "   userId  movieId  rating  timestamp\n",
       "0       1        1     4.0  964982703\n",
       "1       1        3     4.0  964981247\n",
       "2       1        6     4.0  964982224\n",
       "3       1       47     5.0  964983815\n",
       "4       1       50     5.0  964982931"
      ]
     },
     "execution_count": 3,
     "metadata": {},
     "output_type": "execute_result"
    }
   ],
   "source": [
    "ratings.head()"
   ]
  },
  {
   "cell_type": "markdown",
   "metadata": {},
   "source": [
    "## User-item 행렬 만들기"
   ]
  },
  {
   "cell_type": "code",
   "execution_count": 4,
   "metadata": {},
   "outputs": [
    {
     "data": {
      "text/html": [
       "<div>\n",
       "<style scoped>\n",
       "    .dataframe tbody tr th:only-of-type {\n",
       "        vertical-align: middle;\n",
       "    }\n",
       "\n",
       "    .dataframe tbody tr th {\n",
       "        vertical-align: top;\n",
       "    }\n",
       "\n",
       "    .dataframe thead th {\n",
       "        text-align: right;\n",
       "    }\n",
       "</style>\n",
       "<table border=\"1\" class=\"dataframe\">\n",
       "  <thead>\n",
       "    <tr style=\"text-align: right;\">\n",
       "      <th></th>\n",
       "      <th>movieId</th>\n",
       "      <th>title</th>\n",
       "      <th>genres</th>\n",
       "      <th>userId</th>\n",
       "      <th>rating</th>\n",
       "      <th>timestamp</th>\n",
       "    </tr>\n",
       "  </thead>\n",
       "  <tbody>\n",
       "    <tr>\n",
       "      <th>0</th>\n",
       "      <td>1</td>\n",
       "      <td>Toy Story (1995)</td>\n",
       "      <td>Adventure|Animation|Children|Comedy|Fantasy</td>\n",
       "      <td>1</td>\n",
       "      <td>4.0</td>\n",
       "      <td>964982703</td>\n",
       "    </tr>\n",
       "    <tr>\n",
       "      <th>1</th>\n",
       "      <td>1</td>\n",
       "      <td>Toy Story (1995)</td>\n",
       "      <td>Adventure|Animation|Children|Comedy|Fantasy</td>\n",
       "      <td>5</td>\n",
       "      <td>4.0</td>\n",
       "      <td>847434962</td>\n",
       "    </tr>\n",
       "    <tr>\n",
       "      <th>2</th>\n",
       "      <td>1</td>\n",
       "      <td>Toy Story (1995)</td>\n",
       "      <td>Adventure|Animation|Children|Comedy|Fantasy</td>\n",
       "      <td>7</td>\n",
       "      <td>4.5</td>\n",
       "      <td>1106635946</td>\n",
       "    </tr>\n",
       "    <tr>\n",
       "      <th>3</th>\n",
       "      <td>1</td>\n",
       "      <td>Toy Story (1995)</td>\n",
       "      <td>Adventure|Animation|Children|Comedy|Fantasy</td>\n",
       "      <td>15</td>\n",
       "      <td>2.5</td>\n",
       "      <td>1510577970</td>\n",
       "    </tr>\n",
       "    <tr>\n",
       "      <th>4</th>\n",
       "      <td>1</td>\n",
       "      <td>Toy Story (1995)</td>\n",
       "      <td>Adventure|Animation|Children|Comedy|Fantasy</td>\n",
       "      <td>17</td>\n",
       "      <td>4.5</td>\n",
       "      <td>1305696483</td>\n",
       "    </tr>\n",
       "  </tbody>\n",
       "</table>\n",
       "</div>"
      ],
      "text/plain": [
       "   movieId             title                                       genres  \\\n",
       "0        1  Toy Story (1995)  Adventure|Animation|Children|Comedy|Fantasy   \n",
       "1        1  Toy Story (1995)  Adventure|Animation|Children|Comedy|Fantasy   \n",
       "2        1  Toy Story (1995)  Adventure|Animation|Children|Comedy|Fantasy   \n",
       "3        1  Toy Story (1995)  Adventure|Animation|Children|Comedy|Fantasy   \n",
       "4        1  Toy Story (1995)  Adventure|Animation|Children|Comedy|Fantasy   \n",
       "\n",
       "   userId  rating   timestamp  \n",
       "0       1     4.0   964982703  \n",
       "1       5     4.0   847434962  \n",
       "2       7     4.5  1106635946  \n",
       "3      15     2.5  1510577970  \n",
       "4      17     4.5  1305696483  "
      ]
     },
     "execution_count": 4,
     "metadata": {},
     "output_type": "execute_result"
    }
   ],
   "source": [
    "# 우선 두 데이터프레임의 공통 key는 movieId이기 때문에 merge해주기\n",
    "merge_df = pd.merge(movies, ratings, on='movieId')\n",
    "merge_df.head()"
   ]
  },
  {
   "cell_type": "code",
   "execution_count": 5,
   "metadata": {},
   "outputs": [],
   "source": [
    "# pivot_table이용해서 User-item 행렬 만들기\n",
    "user_item = merge_df.pivot_table(index='userId', columns='title', values='rating')"
   ]
  },
  {
   "cell_type": "code",
   "execution_count": 6,
   "metadata": {},
   "outputs": [
    {
     "data": {
      "text/plain": [
       "title\n",
       "'71 (2014)                                   609\n",
       "'Hellboy': The Seeds of Creation (2004)      609\n",
       "'Round Midnight (1986)                       608\n",
       "'Salem's Lot (2004)                          609\n",
       "'Til There Was You (1997)                    608\n",
       "                                            ... \n",
       "eXistenZ (1999)                              588\n",
       "xXx (2002)                                   586\n",
       "xXx: State of the Union (2005)               605\n",
       "¡Three Amigos! (1986)                        584\n",
       "À nous la liberté (Freedom for Us) (1931)    609\n",
       "Length: 9719, dtype: int64"
      ]
     },
     "execution_count": 6,
     "metadata": {},
     "output_type": "execute_result"
    }
   ],
   "source": [
    "user_item.isnull().sum()"
   ]
  },
  {
   "cell_type": "code",
   "execution_count": 7,
   "metadata": {},
   "outputs": [],
   "source": [
    "# 결측치는 평점을 안매긴 것이므로 0으로 대체하기\n",
    "user_item = user_item.fillna(0)"
   ]
  },
  {
   "cell_type": "code",
   "execution_count": 8,
   "metadata": {},
   "outputs": [
    {
     "data": {
      "text/plain": [
       "(610, 9719)"
      ]
     },
     "execution_count": 8,
     "metadata": {},
     "output_type": "execute_result"
    }
   ],
   "source": [
    "user_item.shape"
   ]
  },
  {
   "cell_type": "code",
   "execution_count": 9,
   "metadata": {},
   "outputs": [],
   "source": [
    "# user_item을 Transpose 해서 Item-user 행렬 만들기\n",
    "item_user = user_item.T"
   ]
  },
  {
   "cell_type": "markdown",
   "metadata": {},
   "source": [
    "## Item끼리 유사도 행렬 만들기 \n",
    "\n",
    "- 코사인 유사도 계산 위해 ``행 벡터``끼리 계산하기 때문에 ``item-user 행렬``사용!"
   ]
  },
  {
   "cell_type": "code",
   "execution_count": 10,
   "metadata": {},
   "outputs": [
    {
     "data": {
      "text/plain": [
       "(9719, 9719)"
      ]
     },
     "execution_count": 10,
     "metadata": {},
     "output_type": "execute_result"
    }
   ],
   "source": [
    "from sklearn.metrics.pairwise import cosine_similarity\n",
    "\n",
    "item_sim_matrix = cosine_similarity(item_user.values, item_user.values)\n",
    "item_sim_matrix.shape"
   ]
  },
  {
   "cell_type": "markdown",
   "metadata": {},
   "source": [
    "## 개인화된 평점 만들기\n",
    "\n",
    "- 개인화된 평점 : ``user-item 행렬의 행 벡터(아이템에 대한 사용자들의 평가)``과 ``item 유사도 행렬의 열 벡터(아이템들끼리의 유사도)`` 내적"
   ]
  },
  {
   "cell_type": "code",
   "execution_count": 11,
   "metadata": {},
   "outputs": [],
   "source": [
    "custom_weighted_matrix = np.dot(user_item, item_sim_matrix)"
   ]
  },
  {
   "cell_type": "code",
   "execution_count": 12,
   "metadata": {},
   "outputs": [
    {
     "data": {
      "text/plain": [
       "(610, 9719)"
      ]
     },
     "execution_count": 12,
     "metadata": {},
     "output_type": "execute_result"
    }
   ],
   "source": [
    "# 사용자가 각 아이템에 대한 개인화된 평점!\n",
    "custom_weighted_matrix.shape"
   ]
  },
  {
   "cell_type": "code",
   "execution_count": 13,
   "metadata": {},
   "outputs": [
    {
     "data": {
      "text/html": [
       "<div>\n",
       "<style scoped>\n",
       "    .dataframe tbody tr th:only-of-type {\n",
       "        vertical-align: middle;\n",
       "    }\n",
       "\n",
       "    .dataframe tbody tr th {\n",
       "        vertical-align: top;\n",
       "    }\n",
       "\n",
       "    .dataframe thead th {\n",
       "        text-align: right;\n",
       "    }\n",
       "</style>\n",
       "<table border=\"1\" class=\"dataframe\">\n",
       "  <thead>\n",
       "    <tr style=\"text-align: right;\">\n",
       "      <th>title</th>\n",
       "      <th>'71 (2014)</th>\n",
       "      <th>'Hellboy': The Seeds of Creation (2004)</th>\n",
       "      <th>'Round Midnight (1986)</th>\n",
       "      <th>'Salem's Lot (2004)</th>\n",
       "      <th>'Til There Was You (1997)</th>\n",
       "      <th>'Tis the Season for Love (2015)</th>\n",
       "      <th>'burbs, The (1989)</th>\n",
       "      <th>'night Mother (1986)</th>\n",
       "      <th>(500) Days of Summer (2009)</th>\n",
       "      <th>*batteries not included (1987)</th>\n",
       "      <th>...</th>\n",
       "      <th>Zulu (2013)</th>\n",
       "      <th>[REC] (2007)</th>\n",
       "      <th>[REC]² (2009)</th>\n",
       "      <th>[REC]³ 3 Génesis (2012)</th>\n",
       "      <th>anohana: The Flower We Saw That Day - The Movie (2013)</th>\n",
       "      <th>eXistenZ (1999)</th>\n",
       "      <th>xXx (2002)</th>\n",
       "      <th>xXx: State of the Union (2005)</th>\n",
       "      <th>¡Three Amigos! (1986)</th>\n",
       "      <th>À nous la liberté (Freedom for Us) (1931)</th>\n",
       "    </tr>\n",
       "    <tr>\n",
       "      <th>userId</th>\n",
       "      <th></th>\n",
       "      <th></th>\n",
       "      <th></th>\n",
       "      <th></th>\n",
       "      <th></th>\n",
       "      <th></th>\n",
       "      <th></th>\n",
       "      <th></th>\n",
       "      <th></th>\n",
       "      <th></th>\n",
       "      <th></th>\n",
       "      <th></th>\n",
       "      <th></th>\n",
       "      <th></th>\n",
       "      <th></th>\n",
       "      <th></th>\n",
       "      <th></th>\n",
       "      <th></th>\n",
       "      <th></th>\n",
       "      <th></th>\n",
       "      <th></th>\n",
       "    </tr>\n",
       "  </thead>\n",
       "  <tbody>\n",
       "    <tr>\n",
       "      <th>1</th>\n",
       "      <td>35.740115</td>\n",
       "      <td>26.275820</td>\n",
       "      <td>23.441206</td>\n",
       "      <td>4.200928</td>\n",
       "      <td>7.826024</td>\n",
       "      <td>20.971658</td>\n",
       "      <td>178.026535</td>\n",
       "      <td>85.085722</td>\n",
       "      <td>144.541322</td>\n",
       "      <td>124.028198</td>\n",
       "      <td>...</td>\n",
       "      <td>79.163865</td>\n",
       "      <td>97.238015</td>\n",
       "      <td>63.291507</td>\n",
       "      <td>79.402481</td>\n",
       "      <td>0.399589</td>\n",
       "      <td>190.692213</td>\n",
       "      <td>181.057175</td>\n",
       "      <td>71.105265</td>\n",
       "      <td>267.848707</td>\n",
       "      <td>30.052376</td>\n",
       "    </tr>\n",
       "    <tr>\n",
       "      <th>2</th>\n",
       "      <td>9.277418</td>\n",
       "      <td>1.943638</td>\n",
       "      <td>1.374360</td>\n",
       "      <td>0.000000</td>\n",
       "      <td>0.000000</td>\n",
       "      <td>3.878789</td>\n",
       "      <td>9.555780</td>\n",
       "      <td>1.919737</td>\n",
       "      <td>29.640982</td>\n",
       "      <td>10.345093</td>\n",
       "      <td>...</td>\n",
       "      <td>10.898454</td>\n",
       "      <td>11.158151</td>\n",
       "      <td>9.505257</td>\n",
       "      <td>9.723388</td>\n",
       "      <td>3.232324</td>\n",
       "      <td>13.376131</td>\n",
       "      <td>20.286670</td>\n",
       "      <td>12.821697</td>\n",
       "      <td>16.057925</td>\n",
       "      <td>0.000000</td>\n",
       "    </tr>\n",
       "    <tr>\n",
       "      <th>3</th>\n",
       "      <td>6.038167</td>\n",
       "      <td>1.376814</td>\n",
       "      <td>4.695395</td>\n",
       "      <td>0.069598</td>\n",
       "      <td>0.141748</td>\n",
       "      <td>0.293269</td>\n",
       "      <td>10.419400</td>\n",
       "      <td>1.730442</td>\n",
       "      <td>5.213261</td>\n",
       "      <td>4.365703</td>\n",
       "      <td>...</td>\n",
       "      <td>4.823781</td>\n",
       "      <td>6.241044</td>\n",
       "      <td>5.575050</td>\n",
       "      <td>7.549412</td>\n",
       "      <td>0.000000</td>\n",
       "      <td>7.367676</td>\n",
       "      <td>6.585123</td>\n",
       "      <td>4.824222</td>\n",
       "      <td>9.526851</td>\n",
       "      <td>3.525340</td>\n",
       "    </tr>\n",
       "    <tr>\n",
       "      <th>4</th>\n",
       "      <td>24.969347</td>\n",
       "      <td>12.624132</td>\n",
       "      <td>11.691495</td>\n",
       "      <td>3.827885</td>\n",
       "      <td>11.708575</td>\n",
       "      <td>4.562202</td>\n",
       "      <td>92.651498</td>\n",
       "      <td>96.619034</td>\n",
       "      <td>91.817113</td>\n",
       "      <td>67.814082</td>\n",
       "      <td>...</td>\n",
       "      <td>35.725332</td>\n",
       "      <td>40.690702</td>\n",
       "      <td>26.251057</td>\n",
       "      <td>33.433302</td>\n",
       "      <td>0.539544</td>\n",
       "      <td>143.189250</td>\n",
       "      <td>94.732936</td>\n",
       "      <td>32.542315</td>\n",
       "      <td>133.537401</td>\n",
       "      <td>9.644971</td>\n",
       "    </tr>\n",
       "    <tr>\n",
       "      <th>5</th>\n",
       "      <td>3.697901</td>\n",
       "      <td>3.044372</td>\n",
       "      <td>3.051645</td>\n",
       "      <td>0.256805</td>\n",
       "      <td>0.939378</td>\n",
       "      <td>1.965523</td>\n",
       "      <td>18.812218</td>\n",
       "      <td>15.493783</td>\n",
       "      <td>19.866791</td>\n",
       "      <td>13.113867</td>\n",
       "      <td>...</td>\n",
       "      <td>6.751670</td>\n",
       "      <td>11.902812</td>\n",
       "      <td>6.312127</td>\n",
       "      <td>7.643937</td>\n",
       "      <td>0.000000</td>\n",
       "      <td>23.234232</td>\n",
       "      <td>22.254188</td>\n",
       "      <td>9.415772</td>\n",
       "      <td>25.722053</td>\n",
       "      <td>2.182547</td>\n",
       "    </tr>\n",
       "  </tbody>\n",
       "</table>\n",
       "<p>5 rows × 9719 columns</p>\n",
       "</div>"
      ],
      "text/plain": [
       "title   '71 (2014)  'Hellboy': The Seeds of Creation (2004)  \\\n",
       "userId                                                        \n",
       "1        35.740115                                26.275820   \n",
       "2         9.277418                                 1.943638   \n",
       "3         6.038167                                 1.376814   \n",
       "4        24.969347                                12.624132   \n",
       "5         3.697901                                 3.044372   \n",
       "\n",
       "title   'Round Midnight (1986)  'Salem's Lot (2004)  \\\n",
       "userId                                                \n",
       "1                    23.441206             4.200928   \n",
       "2                     1.374360             0.000000   \n",
       "3                     4.695395             0.069598   \n",
       "4                    11.691495             3.827885   \n",
       "5                     3.051645             0.256805   \n",
       "\n",
       "title   'Til There Was You (1997)  'Tis the Season for Love (2015)  \\\n",
       "userId                                                               \n",
       "1                        7.826024                        20.971658   \n",
       "2                        0.000000                         3.878789   \n",
       "3                        0.141748                         0.293269   \n",
       "4                       11.708575                         4.562202   \n",
       "5                        0.939378                         1.965523   \n",
       "\n",
       "title   'burbs, The (1989)  'night Mother (1986)  (500) Days of Summer (2009)  \\\n",
       "userId                                                                          \n",
       "1               178.026535             85.085722                   144.541322   \n",
       "2                 9.555780              1.919737                    29.640982   \n",
       "3                10.419400              1.730442                     5.213261   \n",
       "4                92.651498             96.619034                    91.817113   \n",
       "5                18.812218             15.493783                    19.866791   \n",
       "\n",
       "title   *batteries not included (1987)  ...  Zulu (2013)  [REC] (2007)  \\\n",
       "userId                                  ...                              \n",
       "1                           124.028198  ...    79.163865     97.238015   \n",
       "2                            10.345093  ...    10.898454     11.158151   \n",
       "3                             4.365703  ...     4.823781      6.241044   \n",
       "4                            67.814082  ...    35.725332     40.690702   \n",
       "5                            13.113867  ...     6.751670     11.902812   \n",
       "\n",
       "title   [REC]² (2009)  [REC]³ 3 Génesis (2012)  \\\n",
       "userId                                           \n",
       "1           63.291507                79.402481   \n",
       "2            9.505257                 9.723388   \n",
       "3            5.575050                 7.549412   \n",
       "4           26.251057                33.433302   \n",
       "5            6.312127                 7.643937   \n",
       "\n",
       "title   anohana: The Flower We Saw That Day - The Movie (2013)  \\\n",
       "userId                                                           \n",
       "1                                                0.399589        \n",
       "2                                                3.232324        \n",
       "3                                                0.000000        \n",
       "4                                                0.539544        \n",
       "5                                                0.000000        \n",
       "\n",
       "title   eXistenZ (1999)  xXx (2002)  xXx: State of the Union (2005)  \\\n",
       "userId                                                                \n",
       "1            190.692213  181.057175                       71.105265   \n",
       "2             13.376131   20.286670                       12.821697   \n",
       "3              7.367676    6.585123                        4.824222   \n",
       "4            143.189250   94.732936                       32.542315   \n",
       "5             23.234232   22.254188                        9.415772   \n",
       "\n",
       "title   ¡Three Amigos! (1986)  À nous la liberté (Freedom for Us) (1931)  \n",
       "userId                                                                    \n",
       "1                  267.848707                                  30.052376  \n",
       "2                   16.057925                                   0.000000  \n",
       "3                    9.526851                                   3.525340  \n",
       "4                  133.537401                                   9.644971  \n",
       "5                   25.722053                                   2.182547  \n",
       "\n",
       "[5 rows x 9719 columns]"
      ]
     },
     "execution_count": 13,
     "metadata": {},
     "output_type": "execute_result"
    }
   ],
   "source": [
    "# 데이터프레임화 시키기\n",
    "custom_weighted_df = pd.DataFrame(custom_weighted_matrix, index=user_item.index, columns=user_item.columns)\n",
    "custom_weighted_df.head()"
   ]
  },
  {
   "cell_type": "code",
   "execution_count": 15,
   "metadata": {},
   "outputs": [],
   "source": [
    "# 개인 사용자 Id를 입력했을 때 상위 5개의 추천 영화 추출하도록 하는 함수 정의\n",
    "def recommend_similar_movies(weighted_df, item_user_df, user_Id, top_n=10):\n",
    "    user_idx = user_Id\n",
    "    score_idx = weighted_df.iloc[user_idx].values.argsort()[::-1]\n",
    "    top_score_idx = score_idx[:top_n]\n",
    "    score = weighted_df.iloc[user_idx].values[top_score_idx]\n",
    "    top_score_movies = item_user_df.index[top_score_idx].values\n",
    "    print(f\"User{user_Id}에게 추천하는 상위 {top_n}개 영화&점수\")\n",
    "    top_movies_df = pd.DataFrame({'영화 제목': top_score_movies,\n",
    "                                  '점수': score})\n",
    "    return top_movies_df"
   ]
  },
  {
   "cell_type": "code",
   "execution_count": 16,
   "metadata": {},
   "outputs": [
    {
     "name": "stdout",
     "output_type": "stream",
     "text": [
      "User1에게 추천하는 상위 10개 영화&점수\n"
     ]
    }
   ],
   "source": [
    "user_1 = recommend_similar_movies(custom_weighted_df, item_user, user_Id=1, top_n=10)"
   ]
  },
  {
   "cell_type": "code",
   "execution_count": 17,
   "metadata": {},
   "outputs": [
    {
     "data": {
      "text/html": [
       "<div>\n",
       "<style scoped>\n",
       "    .dataframe tbody tr th:only-of-type {\n",
       "        vertical-align: middle;\n",
       "    }\n",
       "\n",
       "    .dataframe tbody tr th {\n",
       "        vertical-align: top;\n",
       "    }\n",
       "\n",
       "    .dataframe thead th {\n",
       "        text-align: right;\n",
       "    }\n",
       "</style>\n",
       "<table border=\"1\" class=\"dataframe\">\n",
       "  <thead>\n",
       "    <tr style=\"text-align: right;\">\n",
       "      <th></th>\n",
       "      <th>영화 제목</th>\n",
       "      <th>점수</th>\n",
       "    </tr>\n",
       "  </thead>\n",
       "  <tbody>\n",
       "    <tr>\n",
       "      <th>0</th>\n",
       "      <td>Inception (2010)</td>\n",
       "      <td>49.689342</td>\n",
       "    </tr>\n",
       "    <tr>\n",
       "      <th>1</th>\n",
       "      <td>Dark Knight, The (2008)</td>\n",
       "      <td>49.028531</td>\n",
       "    </tr>\n",
       "    <tr>\n",
       "      <th>2</th>\n",
       "      <td>Django Unchained (2012)</td>\n",
       "      <td>47.239525</td>\n",
       "    </tr>\n",
       "    <tr>\n",
       "      <th>3</th>\n",
       "      <td>Inglourious Basterds (2009)</td>\n",
       "      <td>46.891931</td>\n",
       "    </tr>\n",
       "    <tr>\n",
       "      <th>4</th>\n",
       "      <td>Shutter Island (2010)</td>\n",
       "      <td>46.265496</td>\n",
       "    </tr>\n",
       "    <tr>\n",
       "      <th>5</th>\n",
       "      <td>Dark Knight Rises, The (2012)</td>\n",
       "      <td>46.109695</td>\n",
       "    </tr>\n",
       "    <tr>\n",
       "      <th>6</th>\n",
       "      <td>Departed, The (2006)</td>\n",
       "      <td>45.991602</td>\n",
       "    </tr>\n",
       "    <tr>\n",
       "      <th>7</th>\n",
       "      <td>Mad Max: Fury Road (2015)</td>\n",
       "      <td>45.854069</td>\n",
       "    </tr>\n",
       "    <tr>\n",
       "      <th>8</th>\n",
       "      <td>Wolf of Wall Street, The (2013)</td>\n",
       "      <td>44.673436</td>\n",
       "    </tr>\n",
       "    <tr>\n",
       "      <th>9</th>\n",
       "      <td>Kill Bill: Vol. 1 (2003)</td>\n",
       "      <td>44.134111</td>\n",
       "    </tr>\n",
       "  </tbody>\n",
       "</table>\n",
       "</div>"
      ],
      "text/plain": [
       "                             영화 제목         점수\n",
       "0                 Inception (2010)  49.689342\n",
       "1          Dark Knight, The (2008)  49.028531\n",
       "2          Django Unchained (2012)  47.239525\n",
       "3      Inglourious Basterds (2009)  46.891931\n",
       "4            Shutter Island (2010)  46.265496\n",
       "5    Dark Knight Rises, The (2012)  46.109695\n",
       "6             Departed, The (2006)  45.991602\n",
       "7        Mad Max: Fury Road (2015)  45.854069\n",
       "8  Wolf of Wall Street, The (2013)  44.673436\n",
       "9         Kill Bill: Vol. 1 (2003)  44.134111"
      ]
     },
     "execution_count": 17,
     "metadata": {},
     "output_type": "execute_result"
    }
   ],
   "source": [
    "user_1"
   ]
  },
  {
   "cell_type": "code",
   "execution_count": null,
   "metadata": {},
   "outputs": [],
   "source": []
  }
 ],
 "metadata": {
  "hide_input": false,
  "kernelspec": {
   "display_name": "Python 3",
   "language": "python",
   "name": "python3"
  },
  "language_info": {
   "codemirror_mode": {
    "name": "ipython",
    "version": 3
   },
   "file_extension": ".py",
   "mimetype": "text/x-python",
   "name": "python",
   "nbconvert_exporter": "python",
   "pygments_lexer": "ipython3",
   "version": "3.7.7"
  },
  "toc": {
   "base_numbering": 1,
   "nav_menu": {},
   "number_sections": true,
   "sideBar": true,
   "skip_h1_title": false,
   "title_cell": "Table of Contents",
   "title_sidebar": "Contents",
   "toc_cell": false,
   "toc_position": {},
   "toc_section_display": true,
   "toc_window_display": false
  },
  "varInspector": {
   "cols": {
    "lenName": 16,
    "lenType": 16,
    "lenVar": 40
   },
   "kernels_config": {
    "python": {
     "delete_cmd_postfix": "",
     "delete_cmd_prefix": "del ",
     "library": "var_list.py",
     "varRefreshCmd": "print(var_dic_list())"
    },
    "r": {
     "delete_cmd_postfix": ") ",
     "delete_cmd_prefix": "rm(",
     "library": "var_list.r",
     "varRefreshCmd": "cat(var_dic_list()) "
    }
   },
   "types_to_exclude": [
    "module",
    "function",
    "builtin_function_or_method",
    "instance",
    "_Feature"
   ],
   "window_display": false
  }
 },
 "nbformat": 4,
 "nbformat_minor": 4
}

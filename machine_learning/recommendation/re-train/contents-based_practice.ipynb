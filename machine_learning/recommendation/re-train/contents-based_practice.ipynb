{
 "cells": [
  {
   "cell_type": "markdown",
   "metadata": {},
   "source": [
    "# 데이터 로드 및 데이터 전처리"
   ]
  },
  {
   "cell_type": "code",
   "execution_count": 19,
   "metadata": {},
   "outputs": [],
   "source": [
    "import pandas as pd\n",
    "import numpy as np\n",
    "import warnings\n",
    "warnings.filterwarnings(action='ignore')\n",
    "import os\n",
    "os.chdir('/Users/younghun/Desktop/gitrepo/data/tmdb_data')"
   ]
  },
  {
   "cell_type": "code",
   "execution_count": 20,
   "metadata": {},
   "outputs": [
    {
     "name": "stdout",
     "output_type": "stream",
     "text": [
      "(4803, 20)\n"
     ]
    },
    {
     "data": {
      "text/html": [
       "<div>\n",
       "<style scoped>\n",
       "    .dataframe tbody tr th:only-of-type {\n",
       "        vertical-align: middle;\n",
       "    }\n",
       "\n",
       "    .dataframe tbody tr th {\n",
       "        vertical-align: top;\n",
       "    }\n",
       "\n",
       "    .dataframe thead th {\n",
       "        text-align: right;\n",
       "    }\n",
       "</style>\n",
       "<table border=\"1\" class=\"dataframe\">\n",
       "  <thead>\n",
       "    <tr style=\"text-align: right;\">\n",
       "      <th></th>\n",
       "      <th>budget</th>\n",
       "      <th>genres</th>\n",
       "      <th>homepage</th>\n",
       "      <th>id</th>\n",
       "      <th>keywords</th>\n",
       "      <th>original_language</th>\n",
       "      <th>original_title</th>\n",
       "      <th>overview</th>\n",
       "      <th>popularity</th>\n",
       "      <th>production_companies</th>\n",
       "      <th>production_countries</th>\n",
       "      <th>release_date</th>\n",
       "      <th>revenue</th>\n",
       "      <th>runtime</th>\n",
       "      <th>spoken_languages</th>\n",
       "      <th>status</th>\n",
       "      <th>tagline</th>\n",
       "      <th>title</th>\n",
       "      <th>vote_average</th>\n",
       "      <th>vote_count</th>\n",
       "    </tr>\n",
       "  </thead>\n",
       "  <tbody>\n",
       "    <tr>\n",
       "      <th>0</th>\n",
       "      <td>237000000</td>\n",
       "      <td>[{\"id\": 28, \"name\": \"Action\"}, {\"id\": 12, \"name\": \"Adventure\"}, {\"id\": 14, \"name\": \"Fantasy\"}, {...</td>\n",
       "      <td>http://www.avatarmovie.com/</td>\n",
       "      <td>19995</td>\n",
       "      <td>[{\"id\": 1463, \"name\": \"culture clash\"}, {\"id\": 2964, \"name\": \"future\"}, {\"id\": 3386, \"name\": \"sp...</td>\n",
       "      <td>en</td>\n",
       "      <td>Avatar</td>\n",
       "      <td>In the 22nd century, a paraplegic Marine is dispatched to the moon Pandora on a unique mission, ...</td>\n",
       "      <td>150.437577</td>\n",
       "      <td>[{\"name\": \"Ingenious Film Partners\", \"id\": 289}, {\"name\": \"Twentieth Century Fox Film Corporatio...</td>\n",
       "      <td>[{\"iso_3166_1\": \"US\", \"name\": \"United States of America\"}, {\"iso_3166_1\": \"GB\", \"name\": \"United ...</td>\n",
       "      <td>2009-12-10</td>\n",
       "      <td>2787965087</td>\n",
       "      <td>162.0</td>\n",
       "      <td>[{\"iso_639_1\": \"en\", \"name\": \"English\"}, {\"iso_639_1\": \"es\", \"name\": \"Espa\\u00f1ol\"}]</td>\n",
       "      <td>Released</td>\n",
       "      <td>Enter the World of Pandora.</td>\n",
       "      <td>Avatar</td>\n",
       "      <td>7.2</td>\n",
       "      <td>11800</td>\n",
       "    </tr>\n",
       "  </tbody>\n",
       "</table>\n",
       "</div>"
      ],
      "text/plain": [
       "      budget  \\\n",
       "0  237000000   \n",
       "\n",
       "                                                                                                genres  \\\n",
       "0  [{\"id\": 28, \"name\": \"Action\"}, {\"id\": 12, \"name\": \"Adventure\"}, {\"id\": 14, \"name\": \"Fantasy\"}, {...   \n",
       "\n",
       "                      homepage     id  \\\n",
       "0  http://www.avatarmovie.com/  19995   \n",
       "\n",
       "                                                                                              keywords  \\\n",
       "0  [{\"id\": 1463, \"name\": \"culture clash\"}, {\"id\": 2964, \"name\": \"future\"}, {\"id\": 3386, \"name\": \"sp...   \n",
       "\n",
       "  original_language original_title  \\\n",
       "0                en         Avatar   \n",
       "\n",
       "                                                                                              overview  \\\n",
       "0  In the 22nd century, a paraplegic Marine is dispatched to the moon Pandora on a unique mission, ...   \n",
       "\n",
       "   popularity  \\\n",
       "0  150.437577   \n",
       "\n",
       "                                                                                  production_companies  \\\n",
       "0  [{\"name\": \"Ingenious Film Partners\", \"id\": 289}, {\"name\": \"Twentieth Century Fox Film Corporatio...   \n",
       "\n",
       "                                                                                  production_countries  \\\n",
       "0  [{\"iso_3166_1\": \"US\", \"name\": \"United States of America\"}, {\"iso_3166_1\": \"GB\", \"name\": \"United ...   \n",
       "\n",
       "  release_date     revenue  runtime  \\\n",
       "0   2009-12-10  2787965087    162.0   \n",
       "\n",
       "                                                                        spoken_languages  \\\n",
       "0  [{\"iso_639_1\": \"en\", \"name\": \"English\"}, {\"iso_639_1\": \"es\", \"name\": \"Espa\\u00f1ol\"}]   \n",
       "\n",
       "     status                      tagline   title  vote_average  vote_count  \n",
       "0  Released  Enter the World of Pandora.  Avatar           7.2       11800  "
      ]
     },
     "execution_count": 20,
     "metadata": {},
     "output_type": "execute_result"
    }
   ],
   "source": [
    "movies = pd.read_csv(\"tmdb_5000_movies.csv\", encoding='utf-8')\n",
    "print(movies.shape)\n",
    "pd.options.display.max_colwidth = 100\n",
    "movies.head(1)"
   ]
  },
  {
   "cell_type": "code",
   "execution_count": 21,
   "metadata": {},
   "outputs": [],
   "source": [
    "# literal_eval을 사용해서 파이썬 자료구조가 복합적으로 섞여있는 값들을 하나의 객체 씩 할당되도록!\n",
    "from ast import literal_eval\n",
    "\n",
    "movies['genres'] = movies['genres'].apply(literal_eval)\n",
    "movies['keywords'] = movies['keywords'].apply(literal_eval)\n",
    "movies['production_companies'] = movies['production_companies'].apply(literal_eval)\n",
    "movies['production_countries'] = movies['production_countries'].apply(literal_eval)\n",
    "movies['spoken_languages'] = movies['spoken_languages'].apply(literal_eval)"
   ]
  },
  {
   "cell_type": "code",
   "execution_count": 22,
   "metadata": {},
   "outputs": [],
   "source": [
    "# Genres 변수에서 필요한 텍스트들만 추출해서 변수 덮어씌우기\n",
    "movies['genres'] = movies['genres'].apply(lambda x: [y['name'] for y in x])\n",
    "movies['genres'] = movies['genres'].apply(lambda x: (' ').join(x))"
   ]
  },
  {
   "cell_type": "code",
   "execution_count": 26,
   "metadata": {},
   "outputs": [],
   "source": [
    "# keywords 변수에서 필요한 텍스트들만 추출해서 변수 덮어씌우기\n",
    "movies['keywords'] = movies['keywords'].apply(lambda x: [y['name'] for y in x])\n",
    "movies['keywords'] = movies['keywords'].apply(lambda x: (' ').join(x))"
   ]
  },
  {
   "cell_type": "code",
   "execution_count": 39,
   "metadata": {},
   "outputs": [],
   "source": [
    "# production_countries에서 나라 이니셜만 추출해 덮어씌우기\n",
    "movies['production_countries'] = movies['production_countries'].apply(lambda x: [y['iso_3166_1'] for y in x])\n",
    "movies['production_countries'] = movies['production_countries'].apply(lambda x: (' ').join(x))"
   ]
  },
  {
   "cell_type": "code",
   "execution_count": 42,
   "metadata": {},
   "outputs": [],
   "source": [
    "# producction_companies에서 회사 이름 추출해 덮어 씌우기\n",
    "movies['production_companies'] = movies['production_companies'].apply(lambda x: [y['name'] for y in x])\n",
    "movies['production_companies'] = movies['production_companies'].apply(lambda x: (' ').join(x))"
   ]
  },
  {
   "cell_type": "code",
   "execution_count": 46,
   "metadata": {},
   "outputs": [],
   "source": [
    "# spoken_languages에서 해당 영화 지원하는 언어 추출해 덮어 씌우기\n",
    "movies['spoken_languages'] = movies['spoken_languages'].apply(lambda x: [y['name'] for y in x])\n",
    "movies['spoken_languages'] = movies['spoken_languages'].apply(lambda x: (' ').join(x))"
   ]
  },
  {
   "cell_type": "markdown",
   "metadata": {},
   "source": [
    "# 데이터 Feature Vectorization"
   ]
  },
  {
   "cell_type": "code",
   "execution_count": 57,
   "metadata": {},
   "outputs": [],
   "source": [
    "# Overview에 있는 결측치 3개 해당 데이터 행의 title로 대체!\n",
    "null_idx = movies[movies['overview'].isnull()].index.tolist()\n",
    "for idx in null_idx:\n",
    "    movies.loc[idx, 'overview'] = movies.loc[idx, 'title']"
   ]
  },
  {
   "cell_type": "code",
   "execution_count": 59,
   "metadata": {},
   "outputs": [
    {
     "name": "stdout",
     "output_type": "stream",
     "text": [
      "장르 벡터화:  (4803, 22)\n",
      "키워드 벡터화:  (4803, 7069)\n",
      "Overview 벡터화:  (4803, 20982)\n"
     ]
    }
   ],
   "source": [
    "from sklearn.feature_extraction.text import CountVectorizer\n",
    "\n",
    "cnt_vect = CountVectorizer(max_df=0.9,\n",
    "                          ngram_range=(1,1),\n",
    "                          stop_words='english')\n",
    "# 장르 텍스트 벡터화 시키기\n",
    "genres_vect = cnt_vect.fit_transform(movies['genres'])\n",
    "# 키워드 텍스트 벡터화 시키기\n",
    "keyword_vect = cnt_vect.fit_transform(movies['keywords'])\n",
    "# Overview 텍스트 벡터화 시키기\n",
    "overview_vect = cnt_vect.fit_transform(movies['overview'])\n",
    "print(\"장르 벡터화: \", genres_vect.shape)\n",
    "print(\"키워드 벡터화: \", keyword_vect.shape)\n",
    "print(\"Overview 벡터화: \", overview_vect.shape)"
   ]
  },
  {
   "cell_type": "markdown",
   "metadata": {},
   "source": [
    "# 영화간 유사도 출력\n",
    "- cosine similarity 사용"
   ]
  },
  {
   "cell_type": "markdown",
   "metadata": {},
   "source": [
    "## 장르 유사도 이용해 비슷한 영화 추천"
   ]
  },
  {
   "cell_type": "code",
   "execution_count": 64,
   "metadata": {},
   "outputs": [
    {
     "name": "stdout",
     "output_type": "stream",
     "text": [
      "(4803, 4803)\n",
      "[[1.         0.77459667 0.51639778 ... 0.         0.         0.        ]\n",
      " [0.77459667 1.         0.66666667 ... 0.         0.         0.        ]\n",
      " [0.51639778 0.66666667 1.         ... 0.         0.         0.        ]]\n"
     ]
    }
   ],
   "source": [
    "from sklearn.metrics.pairwise import cosine_similarity\n",
    "\n",
    "genre_sim = cosine_similarity(genres_vect, genres_vect)\n",
    "print(genre_sim.shape)\n",
    "print(genre_sim[:3])\n",
    "\n",
    "genres_sim_idx = genre_sim.argsort()[::-1]"
   ]
  },
  {
   "cell_type": "code",
   "execution_count": 95,
   "metadata": {},
   "outputs": [],
   "source": [
    "# 특정 영화를 기준으로 유사도가 높은 영화 추출\n",
    "def find_sim_movie(df, sim_sorted_idx, title_name, top_n=10):\n",
    "    target_movie = df[df['title'] == title_name]\n",
    "    target_movie_idx = target_movie.index.values\n",
    "    \n",
    "    # 2차원 array로 반환되어 있음\n",
    "    target_sim_idx = sim_sorted_idx[target_movie_idx, :top_n]\n",
    "    similar_movies = df.loc[target_sim_idx.reshape(-1,),\n",
    "                            ['title','vote_average','vote_count']]\n",
    "    return similar_movies.iloc[1:]"
   ]
  },
  {
   "cell_type": "code",
   "execution_count": 96,
   "metadata": {},
   "outputs": [
    {
     "data": {
      "text/html": [
       "<div>\n",
       "<style scoped>\n",
       "    .dataframe tbody tr th:only-of-type {\n",
       "        vertical-align: middle;\n",
       "    }\n",
       "\n",
       "    .dataframe tbody tr th {\n",
       "        vertical-align: top;\n",
       "    }\n",
       "\n",
       "    .dataframe thead th {\n",
       "        text-align: right;\n",
       "    }\n",
       "</style>\n",
       "<table border=\"1\" class=\"dataframe\">\n",
       "  <thead>\n",
       "    <tr style=\"text-align: right;\">\n",
       "      <th></th>\n",
       "      <th>title</th>\n",
       "      <th>vote_average</th>\n",
       "      <th>vote_count</th>\n",
       "    </tr>\n",
       "  </thead>\n",
       "  <tbody>\n",
       "    <tr>\n",
       "      <th>2743</th>\n",
       "      <td>The Butterfly Effect</td>\n",
       "      <td>7.3</td>\n",
       "      <td>2060</td>\n",
       "    </tr>\n",
       "    <tr>\n",
       "      <th>2749</th>\n",
       "      <td>Child's Play 2</td>\n",
       "      <td>5.8</td>\n",
       "      <td>308</td>\n",
       "    </tr>\n",
       "    <tr>\n",
       "      <th>2750</th>\n",
       "      <td>No Good Deed</td>\n",
       "      <td>5.6</td>\n",
       "      <td>181</td>\n",
       "    </tr>\n",
       "    <tr>\n",
       "      <th>2751</th>\n",
       "      <td>The Mist</td>\n",
       "      <td>6.7</td>\n",
       "      <td>1399</td>\n",
       "    </tr>\n",
       "    <tr>\n",
       "      <th>2752</th>\n",
       "      <td>Ex Machina</td>\n",
       "      <td>7.6</td>\n",
       "      <td>4737</td>\n",
       "    </tr>\n",
       "    <tr>\n",
       "      <th>2755</th>\n",
       "      <td>Earth to Echo</td>\n",
       "      <td>5.7</td>\n",
       "      <td>290</td>\n",
       "    </tr>\n",
       "    <tr>\n",
       "      <th>2757</th>\n",
       "      <td>Letters from Iwo Jima</td>\n",
       "      <td>7.2</td>\n",
       "      <td>541</td>\n",
       "    </tr>\n",
       "    <tr>\n",
       "      <th>2760</th>\n",
       "      <td>Room</td>\n",
       "      <td>8.1</td>\n",
       "      <td>2757</td>\n",
       "    </tr>\n",
       "    <tr>\n",
       "      <th>2764</th>\n",
       "      <td>Light It Up</td>\n",
       "      <td>6.6</td>\n",
       "      <td>7</td>\n",
       "    </tr>\n",
       "  </tbody>\n",
       "</table>\n",
       "</div>"
      ],
      "text/plain": [
       "                      title  vote_average  vote_count\n",
       "2743   The Butterfly Effect           7.3        2060\n",
       "2749         Child's Play 2           5.8         308\n",
       "2750           No Good Deed           5.6         181\n",
       "2751               The Mist           6.7        1399\n",
       "2752             Ex Machina           7.6        4737\n",
       "2755          Earth to Echo           5.7         290\n",
       "2757  Letters from Iwo Jima           7.2         541\n",
       "2760                   Room           8.1        2757\n",
       "2764            Light It Up           6.6           7"
      ]
     },
     "execution_count": 96,
     "metadata": {},
     "output_type": "execute_result"
    }
   ],
   "source": [
    "df = find_sim_movie(movies, genres_sim_idx, 'The Avengers',\n",
    "              top_n=10)\n",
    "df"
   ]
  },
  {
   "cell_type": "markdown",
   "metadata": {},
   "source": [
    "# 가중 평점 활용해 추가 변수 넣기"
   ]
  },
  {
   "cell_type": "code",
   "execution_count": 100,
   "metadata": {},
   "outputs": [],
   "source": [
    "# 전체 영화에 대한 평균\n",
    "C = movies['vote_average'].mean()\n",
    "# 최소 투표 횟수 설정(투표횟수의 상위 70%째의 횟수를 최소 횟수로 설정)\n",
    "m = movies['vote_count'].quantile(0.7)\n",
    "\n",
    "def weighted_vote_avg(record):\n",
    "    v = record['vote_count']\n",
    "    R = record['vote_average']\n",
    "    return ( (v/(v+m)) * R) + ( (m/(m+v)) * C)"
   ]
  },
  {
   "cell_type": "code",
   "execution_count": 102,
   "metadata": {},
   "outputs": [],
   "source": [
    "movies['weighted_vote'] = movies.apply(weighted_vote_avg, axis=1)"
   ]
  },
  {
   "cell_type": "code",
   "execution_count": 106,
   "metadata": {},
   "outputs": [
    {
     "data": {
      "text/plain": [
       "budget                     0\n",
       "genres                     0\n",
       "homepage                3091\n",
       "id                         0\n",
       "keywords                   0\n",
       "original_language          0\n",
       "original_title             0\n",
       "overview                   0\n",
       "popularity                 0\n",
       "production_companies       0\n",
       "production_countries       0\n",
       "release_date               1\n",
       "revenue                    0\n",
       "runtime                    2\n",
       "spoken_languages           0\n",
       "status                     0\n",
       "tagline                  844\n",
       "title                      0\n",
       "vote_average               0\n",
       "vote_count                 0\n",
       "weighted_vote              0\n",
       "dtype: int64"
      ]
     },
     "execution_count": 106,
     "metadata": {},
     "output_type": "execute_result"
    }
   ],
   "source": [
    "movies.isnull().sum()"
   ]
  },
  {
   "cell_type": "code",
   "execution_count": 111,
   "metadata": {},
   "outputs": [
    {
     "data": {
      "text/plain": [
       "\"Pirates of the Caribbean: At World's End\""
      ]
     },
     "execution_count": 111,
     "metadata": {},
     "output_type": "execute_result"
    }
   ],
   "source": [
    "movies.loc[1,'title']"
   ]
  },
  {
   "cell_type": "code",
   "execution_count": 114,
   "metadata": {},
   "outputs": [],
   "source": [
    "# 함수 재정의\n",
    "def find_sim_movie(df, sim_sorted_idx, title_name, top_n=10):\n",
    "    target_movie = df[df['title'] == title_name]\n",
    "    target_movie_idx = target_movie.index.values\n",
    "    \n",
    "    sim_movie_idx = sim_sorted_idx[target_movie_idx, 1:top_n]\n",
    "    sim_movie_idx = sim_movie_idx.reshape(-1,)\n",
    "    similar_movies = df.iloc[sim_movie_idx]\n",
    "    similar_movies = similar_movies[['title','vote_count',\n",
    "                                    'vote_average','weighted_vote']]\n",
    "                    \n",
    "    similar_movies = similar_movies.sort_values(by='weighted_vote',\n",
    "                                               ascending=False)\n",
    "    return similar_movies"
   ]
  },
  {
   "cell_type": "code",
   "execution_count": 115,
   "metadata": {},
   "outputs": [
    {
     "data": {
      "text/html": [
       "<div>\n",
       "<style scoped>\n",
       "    .dataframe tbody tr th:only-of-type {\n",
       "        vertical-align: middle;\n",
       "    }\n",
       "\n",
       "    .dataframe tbody tr th {\n",
       "        vertical-align: top;\n",
       "    }\n",
       "\n",
       "    .dataframe thead th {\n",
       "        text-align: right;\n",
       "    }\n",
       "</style>\n",
       "<table border=\"1\" class=\"dataframe\">\n",
       "  <thead>\n",
       "    <tr style=\"text-align: right;\">\n",
       "      <th></th>\n",
       "      <th>title</th>\n",
       "      <th>vote_count</th>\n",
       "      <th>vote_average</th>\n",
       "      <th>weighted_vote</th>\n",
       "    </tr>\n",
       "  </thead>\n",
       "  <tbody>\n",
       "    <tr>\n",
       "      <th>2760</th>\n",
       "      <td>Room</td>\n",
       "      <td>2757</td>\n",
       "      <td>8.1</td>\n",
       "      <td>7.750525</td>\n",
       "    </tr>\n",
       "    <tr>\n",
       "      <th>2752</th>\n",
       "      <td>Ex Machina</td>\n",
       "      <td>4737</td>\n",
       "      <td>7.6</td>\n",
       "      <td>7.435267</td>\n",
       "    </tr>\n",
       "    <tr>\n",
       "      <th>2743</th>\n",
       "      <td>The Butterfly Effect</td>\n",
       "      <td>2060</td>\n",
       "      <td>7.3</td>\n",
       "      <td>7.034287</td>\n",
       "    </tr>\n",
       "    <tr>\n",
       "      <th>2757</th>\n",
       "      <td>Letters from Iwo Jima</td>\n",
       "      <td>541</td>\n",
       "      <td>7.2</td>\n",
       "      <td>6.626338</td>\n",
       "    </tr>\n",
       "    <tr>\n",
       "      <th>2751</th>\n",
       "      <td>The Mist</td>\n",
       "      <td>1399</td>\n",
       "      <td>6.7</td>\n",
       "      <td>6.521642</td>\n",
       "    </tr>\n",
       "    <tr>\n",
       "      <th>2764</th>\n",
       "      <td>Light It Up</td>\n",
       "      <td>7</td>\n",
       "      <td>6.6</td>\n",
       "      <td>6.098217</td>\n",
       "    </tr>\n",
       "    <tr>\n",
       "      <th>2749</th>\n",
       "      <td>Child's Play 2</td>\n",
       "      <td>308</td>\n",
       "      <td>5.8</td>\n",
       "      <td>5.990947</td>\n",
       "    </tr>\n",
       "    <tr>\n",
       "      <th>2750</th>\n",
       "      <td>No Good Deed</td>\n",
       "      <td>181</td>\n",
       "      <td>5.6</td>\n",
       "      <td>5.975265</td>\n",
       "    </tr>\n",
       "    <tr>\n",
       "      <th>2755</th>\n",
       "      <td>Earth to Echo</td>\n",
       "      <td>290</td>\n",
       "      <td>5.7</td>\n",
       "      <td>5.961598</td>\n",
       "    </tr>\n",
       "  </tbody>\n",
       "</table>\n",
       "</div>"
      ],
      "text/plain": [
       "                      title  vote_count  vote_average  weighted_vote\n",
       "2760                   Room        2757           8.1       7.750525\n",
       "2752             Ex Machina        4737           7.6       7.435267\n",
       "2743   The Butterfly Effect        2060           7.3       7.034287\n",
       "2757  Letters from Iwo Jima         541           7.2       6.626338\n",
       "2751               The Mist        1399           6.7       6.521642\n",
       "2764            Light It Up           7           6.6       6.098217\n",
       "2749         Child's Play 2         308           5.8       5.990947\n",
       "2750           No Good Deed         181           5.6       5.975265\n",
       "2755          Earth to Echo         290           5.7       5.961598"
      ]
     },
     "execution_count": 115,
     "metadata": {},
     "output_type": "execute_result"
    }
   ],
   "source": [
    "similar_movies = find_sim_movie(movies, genres_sim_idx,\n",
    "                               'The Avengers', top_n=10)\n",
    "similar_movies"
   ]
  },
  {
   "cell_type": "code",
   "execution_count": null,
   "metadata": {},
   "outputs": [],
   "source": []
  }
 ],
 "metadata": {
  "hide_input": false,
  "kernelspec": {
   "display_name": "Python 3",
   "language": "python",
   "name": "python3"
  },
  "language_info": {
   "codemirror_mode": {
    "name": "ipython",
    "version": 3
   },
   "file_extension": ".py",
   "mimetype": "text/x-python",
   "name": "python",
   "nbconvert_exporter": "python",
   "pygments_lexer": "ipython3",
   "version": "3.7.7"
  },
  "toc": {
   "base_numbering": 1,
   "nav_menu": {},
   "number_sections": true,
   "sideBar": true,
   "skip_h1_title": false,
   "title_cell": "Table of Contents",
   "title_sidebar": "Contents",
   "toc_cell": false,
   "toc_position": {},
   "toc_section_display": true,
   "toc_window_display": false
  },
  "varInspector": {
   "cols": {
    "lenName": 16,
    "lenType": 16,
    "lenVar": 40
   },
   "kernels_config": {
    "python": {
     "delete_cmd_postfix": "",
     "delete_cmd_prefix": "del ",
     "library": "var_list.py",
     "varRefreshCmd": "print(var_dic_list())"
    },
    "r": {
     "delete_cmd_postfix": ") ",
     "delete_cmd_prefix": "rm(",
     "library": "var_list.r",
     "varRefreshCmd": "cat(var_dic_list()) "
    }
   },
   "types_to_exclude": [
    "module",
    "function",
    "builtin_function_or_method",
    "instance",
    "_Feature"
   ],
   "window_display": false
  }
 },
 "nbformat": 4,
 "nbformat_minor": 4
}

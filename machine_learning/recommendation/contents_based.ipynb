{
 "cells": [
  {
   "cell_type": "markdown",
   "metadata": {},
   "source": [
    "# 컨텐츠 기반 필터링 실습\n",
    "\n",
    "- TMDB 5000 movie 데이터셋"
   ]
  },
  {
   "cell_type": "code",
   "execution_count": 40,
   "metadata": {},
   "outputs": [],
   "source": [
    "import pandas as pd\n",
    "import numpy as np\n",
    "import warnings\n",
    "warnings.filterwarnings(action='ignore')\n",
    "import os\n",
    "os.chdir('/Users/younghun/Desktop/gitrepo/data/tmdb_data')"
   ]
  },
  {
   "cell_type": "code",
   "execution_count": 41,
   "metadata": {},
   "outputs": [
    {
     "name": "stdout",
     "output_type": "stream",
     "text": [
      "(4803, 20)\n"
     ]
    },
    {
     "data": {
      "text/html": [
       "<div>\n",
       "<style scoped>\n",
       "    .dataframe tbody tr th:only-of-type {\n",
       "        vertical-align: middle;\n",
       "    }\n",
       "\n",
       "    .dataframe tbody tr th {\n",
       "        vertical-align: top;\n",
       "    }\n",
       "\n",
       "    .dataframe thead th {\n",
       "        text-align: right;\n",
       "    }\n",
       "</style>\n",
       "<table border=\"1\" class=\"dataframe\">\n",
       "  <thead>\n",
       "    <tr style=\"text-align: right;\">\n",
       "      <th></th>\n",
       "      <th>budget</th>\n",
       "      <th>genres</th>\n",
       "      <th>homepage</th>\n",
       "      <th>id</th>\n",
       "      <th>keywords</th>\n",
       "      <th>original_language</th>\n",
       "      <th>original_title</th>\n",
       "      <th>overview</th>\n",
       "      <th>popularity</th>\n",
       "      <th>production_companies</th>\n",
       "      <th>production_countries</th>\n",
       "      <th>release_date</th>\n",
       "      <th>revenue</th>\n",
       "      <th>runtime</th>\n",
       "      <th>spoken_languages</th>\n",
       "      <th>status</th>\n",
       "      <th>tagline</th>\n",
       "      <th>title</th>\n",
       "      <th>vote_average</th>\n",
       "      <th>vote_count</th>\n",
       "    </tr>\n",
       "  </thead>\n",
       "  <tbody>\n",
       "    <tr>\n",
       "      <th>0</th>\n",
       "      <td>237000000</td>\n",
       "      <td>[{\"id\": 28, \"name\": \"Action\"}, {\"id\": 12, \"name\": \"Adventure\"}, {\"id\": 14, \"name\": \"Fantasy\"}, {...</td>\n",
       "      <td>http://www.avatarmovie.com/</td>\n",
       "      <td>19995</td>\n",
       "      <td>[{\"id\": 1463, \"name\": \"culture clash\"}, {\"id\": 2964, \"name\": \"future\"}, {\"id\": 3386, \"name\": \"sp...</td>\n",
       "      <td>en</td>\n",
       "      <td>Avatar</td>\n",
       "      <td>In the 22nd century, a paraplegic Marine is dispatched to the moon Pandora on a unique mission, ...</td>\n",
       "      <td>150.437577</td>\n",
       "      <td>[{\"name\": \"Ingenious Film Partners\", \"id\": 289}, {\"name\": \"Twentieth Century Fox Film Corporatio...</td>\n",
       "      <td>[{\"iso_3166_1\": \"US\", \"name\": \"United States of America\"}, {\"iso_3166_1\": \"GB\", \"name\": \"United ...</td>\n",
       "      <td>2009-12-10</td>\n",
       "      <td>2787965087</td>\n",
       "      <td>162.0</td>\n",
       "      <td>[{\"iso_639_1\": \"en\", \"name\": \"English\"}, {\"iso_639_1\": \"es\", \"name\": \"Espa\\u00f1ol\"}]</td>\n",
       "      <td>Released</td>\n",
       "      <td>Enter the World of Pandora.</td>\n",
       "      <td>Avatar</td>\n",
       "      <td>7.2</td>\n",
       "      <td>11800</td>\n",
       "    </tr>\n",
       "  </tbody>\n",
       "</table>\n",
       "</div>"
      ],
      "text/plain": [
       "      budget  \\\n",
       "0  237000000   \n",
       "\n",
       "                                                                                                genres  \\\n",
       "0  [{\"id\": 28, \"name\": \"Action\"}, {\"id\": 12, \"name\": \"Adventure\"}, {\"id\": 14, \"name\": \"Fantasy\"}, {...   \n",
       "\n",
       "                      homepage     id  \\\n",
       "0  http://www.avatarmovie.com/  19995   \n",
       "\n",
       "                                                                                              keywords  \\\n",
       "0  [{\"id\": 1463, \"name\": \"culture clash\"}, {\"id\": 2964, \"name\": \"future\"}, {\"id\": 3386, \"name\": \"sp...   \n",
       "\n",
       "  original_language original_title  \\\n",
       "0                en         Avatar   \n",
       "\n",
       "                                                                                              overview  \\\n",
       "0  In the 22nd century, a paraplegic Marine is dispatched to the moon Pandora on a unique mission, ...   \n",
       "\n",
       "   popularity  \\\n",
       "0  150.437577   \n",
       "\n",
       "                                                                                  production_companies  \\\n",
       "0  [{\"name\": \"Ingenious Film Partners\", \"id\": 289}, {\"name\": \"Twentieth Century Fox Film Corporatio...   \n",
       "\n",
       "                                                                                  production_countries  \\\n",
       "0  [{\"iso_3166_1\": \"US\", \"name\": \"United States of America\"}, {\"iso_3166_1\": \"GB\", \"name\": \"United ...   \n",
       "\n",
       "  release_date     revenue  runtime  \\\n",
       "0   2009-12-10  2787965087    162.0   \n",
       "\n",
       "                                                                        spoken_languages  \\\n",
       "0  [{\"iso_639_1\": \"en\", \"name\": \"English\"}, {\"iso_639_1\": \"es\", \"name\": \"Espa\\u00f1ol\"}]   \n",
       "\n",
       "     status                      tagline   title  vote_average  vote_count  \n",
       "0  Released  Enter the World of Pandora.  Avatar           7.2       11800  "
      ]
     },
     "execution_count": 41,
     "metadata": {},
     "output_type": "execute_result"
    }
   ],
   "source": [
    "movies = pd.read_csv('tmdb_5000_movies.csv', encoding='utf-8')\n",
    "print(movies.shape)\n",
    "movies.head(1)"
   ]
  },
  {
   "cell_type": "code",
   "execution_count": 42,
   "metadata": {},
   "outputs": [
    {
     "data": {
      "text/plain": [
       "(4803, 8)"
      ]
     },
     "execution_count": 42,
     "metadata": {},
     "output_type": "execute_result"
    }
   ],
   "source": [
    "# 컨텐츠를 추천하는 시스템을 만들기 위해서\n",
    "# 해당 영화들의 유사도 비교할 항목들만 추출\n",
    "movies_df = movies[['id','title', 'genres', 'vote_average', 'vote_count',\n",
    "                 'popularity', 'keywords', 'overview']]\n",
    "movies_df.shape"
   ]
  },
  {
   "cell_type": "code",
   "execution_count": 43,
   "metadata": {},
   "outputs": [
    {
     "data": {
      "text/html": [
       "<div>\n",
       "<style scoped>\n",
       "    .dataframe tbody tr th:only-of-type {\n",
       "        vertical-align: middle;\n",
       "    }\n",
       "\n",
       "    .dataframe tbody tr th {\n",
       "        vertical-align: top;\n",
       "    }\n",
       "\n",
       "    .dataframe thead th {\n",
       "        text-align: right;\n",
       "    }\n",
       "</style>\n",
       "<table border=\"1\" class=\"dataframe\">\n",
       "  <thead>\n",
       "    <tr style=\"text-align: right;\">\n",
       "      <th></th>\n",
       "      <th>genres</th>\n",
       "      <th>keywords</th>\n",
       "    </tr>\n",
       "  </thead>\n",
       "  <tbody>\n",
       "    <tr>\n",
       "      <th>0</th>\n",
       "      <td>[{\"id\": 28, \"name\": \"Action\"}, {\"id\": 12, \"name\": \"Adventure\"}, {\"id\": 14, \"name\": \"Fantasy\"}, {...</td>\n",
       "      <td>[{\"id\": 1463, \"name\": \"culture clash\"}, {\"id\": 2964, \"name\": \"future\"}, {\"id\": 3386, \"name\": \"sp...</td>\n",
       "    </tr>\n",
       "  </tbody>\n",
       "</table>\n",
       "</div>"
      ],
      "text/plain": [
       "                                                                                                genres  \\\n",
       "0  [{\"id\": 28, \"name\": \"Action\"}, {\"id\": 12, \"name\": \"Adventure\"}, {\"id\": 14, \"name\": \"Fantasy\"}, {...   \n",
       "\n",
       "                                                                                              keywords  \n",
       "0  [{\"id\": 1463, \"name\": \"culture clash\"}, {\"id\": 2964, \"name\": \"future\"}, {\"id\": 3386, \"name\": \"sp...  "
      ]
     },
     "execution_count": 43,
     "metadata": {},
     "output_type": "execute_result"
    }
   ],
   "source": [
    "# 출력되는 칼럼의 넓이 조절 가능\n",
    "pd.options.display.max_colwidth = 100\n",
    "# 영화의 장르와 키워드 하나만 추출해보기\n",
    "movies_df[['genres','keywords']][:1]"
   ]
  },
  {
   "cell_type": "code",
   "execution_count": 44,
   "metadata": {},
   "outputs": [
    {
     "name": "stdout",
     "output_type": "stream",
     "text": [
      "<class 'pandas.core.frame.DataFrame'>\n",
      "RangeIndex: 4803 entries, 0 to 4802\n",
      "Data columns (total 8 columns):\n",
      " #   Column        Non-Null Count  Dtype  \n",
      "---  ------        --------------  -----  \n",
      " 0   id            4803 non-null   int64  \n",
      " 1   title         4803 non-null   object \n",
      " 2   genres        4803 non-null   object \n",
      " 3   vote_average  4803 non-null   float64\n",
      " 4   vote_count    4803 non-null   int64  \n",
      " 5   popularity    4803 non-null   float64\n",
      " 6   keywords      4803 non-null   object \n",
      " 7   overview      4800 non-null   object \n",
      "dtypes: float64(2), int64(2), object(4)\n",
      "memory usage: 300.3+ KB\n"
     ]
    }
   ],
   "source": [
    "# 장르와 키워드 값들이 딕셔너리가 들어있는 리스트로 '문자열'상태로 되어있음\n",
    "# 이것을 바꾸어주어야 함!\n",
    "movies_df.info()"
   ]
  },
  {
   "cell_type": "markdown",
   "metadata": {},
   "source": [
    "**텍스트를 파이썬 자료구조 형태로 바꾸어주어야 함!**<br>\n",
    "**파이썬의 추상구문 트리인 ast 클래스의 literal_eval 매서드 사용**\n",
    "- literal_eval : 제공된 문자열이나 노드는 다음과 같은 파이썬 리터럴 구조로만 구성될 수 있습니다: 문자열, 바이트열, 숫자, 튜플, 리스트, 딕셔너리, 집합, 불리언 및 None\n",
    "\n",
    "- 위 함수 수행시 파이썬 자료구조를 기준으로해서 하나의 객체씩 할당됨"
   ]
  },
  {
   "cell_type": "code",
   "execution_count": 45,
   "metadata": {},
   "outputs": [],
   "source": [
    "from ast import literal_eval\n",
    "\n",
    "movies_df['genres'] = movies_df['genres'].apply(literal_eval)\n",
    "movies_df['keywords'] = movies_df['keywords'].apply(literal_eval)"
   ]
  },
  {
   "cell_type": "code",
   "execution_count": 46,
   "metadata": {},
   "outputs": [],
   "source": [
    "# genres라는 dict형태에서 'name' key의 value들만 가져오기\n",
    "movies_df['genres'] = movies_df['genres'].apply(lambda x: [y['name'] for y in x])\n",
    "# keywords도 동일하게 수행\n",
    "movies_df['keywords'] = movies_df['keywords'].apply(lambda x: [y['name'] for y in x])"
   ]
  },
  {
   "cell_type": "code",
   "execution_count": 47,
   "metadata": {},
   "outputs": [
    {
     "data": {
      "text/html": [
       "<div>\n",
       "<style scoped>\n",
       "    .dataframe tbody tr th:only-of-type {\n",
       "        vertical-align: middle;\n",
       "    }\n",
       "\n",
       "    .dataframe tbody tr th {\n",
       "        vertical-align: top;\n",
       "    }\n",
       "\n",
       "    .dataframe thead th {\n",
       "        text-align: right;\n",
       "    }\n",
       "</style>\n",
       "<table border=\"1\" class=\"dataframe\">\n",
       "  <thead>\n",
       "    <tr style=\"text-align: right;\">\n",
       "      <th></th>\n",
       "      <th>id</th>\n",
       "      <th>title</th>\n",
       "      <th>genres</th>\n",
       "      <th>vote_average</th>\n",
       "      <th>vote_count</th>\n",
       "      <th>popularity</th>\n",
       "      <th>keywords</th>\n",
       "      <th>overview</th>\n",
       "      <th>genres_literal</th>\n",
       "      <th>keywords_literal</th>\n",
       "    </tr>\n",
       "  </thead>\n",
       "  <tbody>\n",
       "    <tr>\n",
       "      <th>0</th>\n",
       "      <td>19995</td>\n",
       "      <td>Avatar</td>\n",
       "      <td>[Action, Adventure, Fantasy, Science Fiction]</td>\n",
       "      <td>7.2</td>\n",
       "      <td>11800</td>\n",
       "      <td>150.437577</td>\n",
       "      <td>[culture clash, future, space war, space colony, society, space travel, futuristic, romance, spa...</td>\n",
       "      <td>In the 22nd century, a paraplegic Marine is dispatched to the moon Pandora on a unique mission, ...</td>\n",
       "      <td>Action Adventure Fantasy Science Fiction</td>\n",
       "      <td>culture clash future space war space colony society space travel futuristic romance space alien ...</td>\n",
       "    </tr>\n",
       "  </tbody>\n",
       "</table>\n",
       "</div>"
      ],
      "text/plain": [
       "      id   title                                         genres  vote_average  \\\n",
       "0  19995  Avatar  [Action, Adventure, Fantasy, Science Fiction]           7.2   \n",
       "\n",
       "   vote_count  popularity  \\\n",
       "0       11800  150.437577   \n",
       "\n",
       "                                                                                              keywords  \\\n",
       "0  [culture clash, future, space war, space colony, society, space travel, futuristic, romance, spa...   \n",
       "\n",
       "                                                                                              overview  \\\n",
       "0  In the 22nd century, a paraplegic Marine is dispatched to the moon Pandora on a unique mission, ...   \n",
       "\n",
       "                             genres_literal  \\\n",
       "0  Action Adventure Fantasy Science Fiction   \n",
       "\n",
       "                                                                                      keywords_literal  \n",
       "0  culture clash future space war space colony society space travel futuristic romance space alien ...  "
      ]
     },
     "execution_count": 47,
     "metadata": {},
     "output_type": "execute_result"
    }
   ],
   "source": [
    "# 리스트에 담겨있는 genres, keywords를 공백 기준으로 문자열로 붙이기\n",
    "movies_df['genres_literal'] = movies_df['genres'].apply(lambda x : (' ').join(x))\n",
    "movies_df['keywords_literal'] = movies_df['keywords'].apply(lambda x: (' ').join(x))\n",
    "movies_df.head(1)"
   ]
  },
  {
   "cell_type": "code",
   "execution_count": 52,
   "metadata": {},
   "outputs": [
    {
     "name": "stdout",
     "output_type": "stream",
     "text": [
      "장르 벡터화 shape:  (4803, 276)\n",
      "키워드 벡터화 shape:  (4803, 41554)\n"
     ]
    }
   ],
   "source": [
    "# 모든 변수가 텍스트로 이루어졌으니 Countvectorizer로 feature 벡터화시키기\n",
    "# 경우에 따라 추가적으로 Lemmatization 추가해 토큰화 전용 함수 추가도 가능!\n",
    "\n",
    "from sklearn.feature_extraction.text import CountVectorizer\n",
    "cnt_vect = CountVectorizer(min_df=0, ngram_range=(1,2))\n",
    "# fit_transform안에 데이터프레임형태로 넣어주면 안됨. 하나의 변수씩만 넣어주자!\n",
    "genres_vect = cnt_vect.fit_transform(movies_df['genres_literal'])\n",
    "keywords_vect = cnt_vect.fit_transform(movies_df['keywords_literal'])\n",
    "print('장르 벡터화 shape: ', genres_vect.shape)\n",
    "print('키워드 벡터화 shape: ', keywords_vect.shape)"
   ]
  },
  {
   "cell_type": "code",
   "execution_count": 54,
   "metadata": {},
   "outputs": [
    {
     "name": "stdout",
     "output_type": "stream",
     "text": [
      "(4803, 4803)\n",
      "[[1.         0.59628479 0.4472136  ... 0.         0.         0.        ]\n",
      " [0.59628479 1.         0.4        ... 0.         0.         0.        ]\n",
      " [0.4472136  0.4        1.         ... 0.         0.         0.        ]]\n"
     ]
    }
   ],
   "source": [
    "# 장르에 따른 영화별 코사인 유사도 추출\n",
    "from sklearn.metrics.pairwise import cosine_similarity\n",
    "\n",
    "genre_sim = cosine_similarity(genres_vect, genres_vect)\n",
    "print(genre_sim.shape)\n",
    "print(genre_sim[:3])"
   ]
  },
  {
   "cell_type": "code",
   "execution_count": 57,
   "metadata": {},
   "outputs": [
    {
     "name": "stdout",
     "output_type": "stream",
     "text": [
      "[[   0 3141 3140 ... 4521 4710 4802]]\n"
     ]
    }
   ],
   "source": [
    "# argsort를 이용해서 유사도가 높은 영화들의 index 추출\n",
    "genre_sim_idx = genre_sim.argsort()[::-1]\n",
    "# 하나만 추출\n",
    "print(genre_sim_idx[:1])"
   ]
  },
  {
   "cell_type": "code",
   "execution_count": 94,
   "metadata": {},
   "outputs": [],
   "source": [
    "# 특정 영화를 기준으로 선정해서 유사도가 높은 영화를 반환하는 함수 생성\n",
    "def find_sim_movie(df, sorted_idx, title_name, top_n=10):\n",
    "    # 비교기준으로 선정할 특정 영화 선정\n",
    "    title_movie = df[df['title'] == title_name]\n",
    "    \n",
    "    # 비교기준 영화의 index.values를 할당해 유사도 행렬에서 비교기준 영화에 해당하는 유사도 행렬값을 찾자!\n",
    "    title_movie_idx = title_movie.index.values\n",
    "    # 모든 영화끼리의 유사도 행렬에서 비교기준 영화에 대한 유사도행렬 찾아서 할당\n",
    "    top_sim_idx = sorted_idx[title_movie_idx, :top_n]\n",
    "    print(top_sim_idx)\n",
    "    \n",
    "    # top_sim_idx는 2차원 array이기 때문에 1차원 array로 변경\n",
    "    # 왜냐하면 top_sim_idx로 movies_df의 index값으로 넣어서 유사한 영화추출할 것이기 때문\n",
    "    top_sim_idx = top_sim_idx.reshape(-1,)\n",
    "    similar_movie = df.iloc[top_sim_idx]\n",
    "    \n",
    "    return similar_movie"
   ]
  },
  {
   "cell_type": "code",
   "execution_count": null,
   "metadata": {},
   "outputs": [],
   "source": [
    "# 어벤져스 영화와 관련된 영화들 추출 "
   ]
  },
  {
   "cell_type": "code",
   "execution_count": 101,
   "metadata": {},
   "outputs": [
    {
     "name": "stdout",
     "output_type": "stream",
     "text": [
      "[[   0 2743 2749 2750 2751 2752 2755 2757 2760 2764]]\n"
     ]
    },
    {
     "data": {
      "text/html": [
       "<div>\n",
       "<style scoped>\n",
       "    .dataframe tbody tr th:only-of-type {\n",
       "        vertical-align: middle;\n",
       "    }\n",
       "\n",
       "    .dataframe tbody tr th {\n",
       "        vertical-align: top;\n",
       "    }\n",
       "\n",
       "    .dataframe thead th {\n",
       "        text-align: right;\n",
       "    }\n",
       "</style>\n",
       "<table border=\"1\" class=\"dataframe\">\n",
       "  <thead>\n",
       "    <tr style=\"text-align: right;\">\n",
       "      <th></th>\n",
       "      <th>title</th>\n",
       "      <th>vote_average</th>\n",
       "      <th>vote_count</th>\n",
       "    </tr>\n",
       "  </thead>\n",
       "  <tbody>\n",
       "    <tr>\n",
       "      <th>0</th>\n",
       "      <td>Avatar</td>\n",
       "      <td>7.2</td>\n",
       "      <td>11800</td>\n",
       "    </tr>\n",
       "    <tr>\n",
       "      <th>2743</th>\n",
       "      <td>The Butterfly Effect</td>\n",
       "      <td>7.3</td>\n",
       "      <td>2060</td>\n",
       "    </tr>\n",
       "    <tr>\n",
       "      <th>2749</th>\n",
       "      <td>Child's Play 2</td>\n",
       "      <td>5.8</td>\n",
       "      <td>308</td>\n",
       "    </tr>\n",
       "    <tr>\n",
       "      <th>2750</th>\n",
       "      <td>No Good Deed</td>\n",
       "      <td>5.6</td>\n",
       "      <td>181</td>\n",
       "    </tr>\n",
       "    <tr>\n",
       "      <th>2751</th>\n",
       "      <td>The Mist</td>\n",
       "      <td>6.7</td>\n",
       "      <td>1399</td>\n",
       "    </tr>\n",
       "    <tr>\n",
       "      <th>2752</th>\n",
       "      <td>Ex Machina</td>\n",
       "      <td>7.6</td>\n",
       "      <td>4737</td>\n",
       "    </tr>\n",
       "    <tr>\n",
       "      <th>2755</th>\n",
       "      <td>Earth to Echo</td>\n",
       "      <td>5.7</td>\n",
       "      <td>290</td>\n",
       "    </tr>\n",
       "    <tr>\n",
       "      <th>2757</th>\n",
       "      <td>Letters from Iwo Jima</td>\n",
       "      <td>7.2</td>\n",
       "      <td>541</td>\n",
       "    </tr>\n",
       "    <tr>\n",
       "      <th>2760</th>\n",
       "      <td>Room</td>\n",
       "      <td>8.1</td>\n",
       "      <td>2757</td>\n",
       "    </tr>\n",
       "    <tr>\n",
       "      <th>2764</th>\n",
       "      <td>Light It Up</td>\n",
       "      <td>6.6</td>\n",
       "      <td>7</td>\n",
       "    </tr>\n",
       "  </tbody>\n",
       "</table>\n",
       "</div>"
      ],
      "text/plain": [
       "                      title  vote_average  vote_count\n",
       "0                    Avatar           7.2       11800\n",
       "2743   The Butterfly Effect           7.3        2060\n",
       "2749         Child's Play 2           5.8         308\n",
       "2750           No Good Deed           5.6         181\n",
       "2751               The Mist           6.7        1399\n",
       "2752             Ex Machina           7.6        4737\n",
       "2755          Earth to Echo           5.7         290\n",
       "2757  Letters from Iwo Jima           7.2         541\n",
       "2760                   Room           8.1        2757\n",
       "2764            Light It Up           6.6           7"
      ]
     },
     "execution_count": 101,
     "metadata": {},
     "output_type": "execute_result"
    }
   ],
   "source": [
    "similar_movies = find_sim_movie(movies_df, genre_sim_idx, 'The Avengers')\n",
    "similar_movies[['title','vote_average','vote_count']]"
   ]
  },
  {
   "cell_type": "markdown",
   "metadata": {},
   "source": [
    "## 가중 평점을 활용해서 추가적인 변수를 넣기\n",
    "\n",
    "- v : 개별 영화에 평점을 투표한 횟수\n",
    "- m : 평점을 부여하기 위한 ``최소`` 투표 횟수\n",
    "- R : 개별 영화에 대한 평균 평점\n",
    "- C : 전체 영화에 대한 평균 평점"
   ]
  },
  {
   "cell_type": "code",
   "execution_count": 106,
   "metadata": {},
   "outputs": [],
   "source": [
    "C = movies_df['vote_average'].mean()\n",
    "\n",
    "# 투표횟수 중 60%이상의 횟수에 달하는 숫자\n",
    "# 예를들어 총 투표횟수가 100과 1일때 m값은 매우 달라진다.\n",
    "m = movies_df['vote_count'].quantile(0.6)\n",
    "\n",
    "def weighted_vote_average(record):\n",
    "    v = record['vote_count']\n",
    "    R = record['vote_average']\n",
    "    \n",
    "    return ( (v/(v+m)) * R) + ( (m/(m+v)) * C)"
   ]
  },
  {
   "cell_type": "code",
   "execution_count": 109,
   "metadata": {
    "scrolled": true
   },
   "outputs": [],
   "source": [
    "movies_df['weighted_vote'] = movies_df.apply(weighted_vote_average, axis=1)"
   ]
  },
  {
   "cell_type": "code",
   "execution_count": 110,
   "metadata": {},
   "outputs": [
    {
     "data": {
      "text/html": [
       "<div>\n",
       "<style scoped>\n",
       "    .dataframe tbody tr th:only-of-type {\n",
       "        vertical-align: middle;\n",
       "    }\n",
       "\n",
       "    .dataframe tbody tr th {\n",
       "        vertical-align: top;\n",
       "    }\n",
       "\n",
       "    .dataframe thead th {\n",
       "        text-align: right;\n",
       "    }\n",
       "</style>\n",
       "<table border=\"1\" class=\"dataframe\">\n",
       "  <thead>\n",
       "    <tr style=\"text-align: right;\">\n",
       "      <th></th>\n",
       "      <th>title</th>\n",
       "      <th>weighted_vote</th>\n",
       "    </tr>\n",
       "  </thead>\n",
       "  <tbody>\n",
       "    <tr>\n",
       "      <th>1652</th>\n",
       "      <td>Dragonball Evolution</td>\n",
       "      <td>4.320022</td>\n",
       "    </tr>\n",
       "    <tr>\n",
       "      <th>210</th>\n",
       "      <td>Batman &amp; Robin</td>\n",
       "      <td>4.591725</td>\n",
       "    </tr>\n",
       "    <tr>\n",
       "      <th>3746</th>\n",
       "      <td>The Boy Next Door</td>\n",
       "      <td>4.629738</td>\n",
       "    </tr>\n",
       "    <tr>\n",
       "      <th>242</th>\n",
       "      <td>Fantastic Four</td>\n",
       "      <td>4.636554</td>\n",
       "    </tr>\n",
       "    <tr>\n",
       "      <th>2122</th>\n",
       "      <td>Epic Movie</td>\n",
       "      <td>4.737894</td>\n",
       "    </tr>\n",
       "    <tr>\n",
       "      <th>303</th>\n",
       "      <td>Catwoman</td>\n",
       "      <td>4.794536</td>\n",
       "    </tr>\n",
       "    <tr>\n",
       "      <th>3843</th>\n",
       "      <td>Sharknado</td>\n",
       "      <td>4.802791</td>\n",
       "    </tr>\n",
       "    <tr>\n",
       "      <th>480</th>\n",
       "      <td>Battlefield Earth</td>\n",
       "      <td>4.830969</td>\n",
       "    </tr>\n",
       "    <tr>\n",
       "      <th>499</th>\n",
       "      <td>Jack and Jill</td>\n",
       "      <td>4.857033</td>\n",
       "    </tr>\n",
       "    <tr>\n",
       "      <th>2320</th>\n",
       "      <td>Left Behind</td>\n",
       "      <td>4.861876</td>\n",
       "    </tr>\n",
       "  </tbody>\n",
       "</table>\n",
       "</div>"
      ],
      "text/plain": [
       "                     title  weighted_vote\n",
       "1652  Dragonball Evolution       4.320022\n",
       "210         Batman & Robin       4.591725\n",
       "3746     The Boy Next Door       4.629738\n",
       "242         Fantastic Four       4.636554\n",
       "2122            Epic Movie       4.737894\n",
       "303               Catwoman       4.794536\n",
       "3843             Sharknado       4.802791\n",
       "480      Battlefield Earth       4.830969\n",
       "499          Jack and Jill       4.857033\n",
       "2320           Left Behind       4.861876"
      ]
     },
     "execution_count": 110,
     "metadata": {},
     "output_type": "execute_result"
    }
   ],
   "source": [
    "movies_df[['title','weighted_vote']].sort_values(by=['weighted_vote'])[:10]"
   ]
  },
  {
   "cell_type": "code",
   "execution_count": 121,
   "metadata": {},
   "outputs": [
    {
     "data": {
      "text/html": [
       "<div>\n",
       "<style scoped>\n",
       "    .dataframe tbody tr th:only-of-type {\n",
       "        vertical-align: middle;\n",
       "    }\n",
       "\n",
       "    .dataframe tbody tr th {\n",
       "        vertical-align: top;\n",
       "    }\n",
       "\n",
       "    .dataframe thead th {\n",
       "        text-align: right;\n",
       "    }\n",
       "</style>\n",
       "<table border=\"1\" class=\"dataframe\">\n",
       "  <thead>\n",
       "    <tr style=\"text-align: right;\">\n",
       "      <th></th>\n",
       "      <th>title</th>\n",
       "      <th>vote_average</th>\n",
       "      <th>weighted_vote</th>\n",
       "    </tr>\n",
       "  </thead>\n",
       "  <tbody>\n",
       "    <tr>\n",
       "      <th>2760</th>\n",
       "      <td>Room</td>\n",
       "      <td>8.1</td>\n",
       "      <td>7.862312</td>\n",
       "    </tr>\n",
       "    <tr>\n",
       "      <th>2752</th>\n",
       "      <td>Ex Machina</td>\n",
       "      <td>7.6</td>\n",
       "      <td>7.490704</td>\n",
       "    </tr>\n",
       "    <tr>\n",
       "      <th>0</th>\n",
       "      <td>Avatar</td>\n",
       "      <td>7.2</td>\n",
       "      <td>7.166301</td>\n",
       "    </tr>\n",
       "    <tr>\n",
       "      <th>2743</th>\n",
       "      <td>The Butterfly Effect</td>\n",
       "      <td>7.3</td>\n",
       "      <td>7.116008</td>\n",
       "    </tr>\n",
       "    <tr>\n",
       "      <th>2757</th>\n",
       "      <td>Letters from Iwo Jima</td>\n",
       "      <td>7.2</td>\n",
       "      <td>6.749914</td>\n",
       "    </tr>\n",
       "    <tr>\n",
       "      <th>2751</th>\n",
       "      <td>The Mist</td>\n",
       "      <td>6.7</td>\n",
       "      <td>6.572814</td>\n",
       "    </tr>\n",
       "    <tr>\n",
       "      <th>2783</th>\n",
       "      <td>The Call</td>\n",
       "      <td>6.6</td>\n",
       "      <td>6.484465</td>\n",
       "    </tr>\n",
       "    <tr>\n",
       "      <th>2787</th>\n",
       "      <td>Quest for Fire</td>\n",
       "      <td>7.1</td>\n",
       "      <td>6.321415</td>\n",
       "    </tr>\n",
       "    <tr>\n",
       "      <th>2742</th>\n",
       "      <td>The Shallows</td>\n",
       "      <td>6.2</td>\n",
       "      <td>6.179394</td>\n",
       "    </tr>\n",
       "    <tr>\n",
       "      <th>2778</th>\n",
       "      <td>Infamous</td>\n",
       "      <td>6.4</td>\n",
       "      <td>6.135104</td>\n",
       "    </tr>\n",
       "  </tbody>\n",
       "</table>\n",
       "</div>"
      ],
      "text/plain": [
       "                      title  vote_average  weighted_vote\n",
       "2760                   Room           8.1       7.862312\n",
       "2752             Ex Machina           7.6       7.490704\n",
       "0                    Avatar           7.2       7.166301\n",
       "2743   The Butterfly Effect           7.3       7.116008\n",
       "2757  Letters from Iwo Jima           7.2       6.749914\n",
       "2751               The Mist           6.7       6.572814\n",
       "2783               The Call           6.6       6.484465\n",
       "2787         Quest for Fire           7.1       6.321415\n",
       "2742           The Shallows           6.2       6.179394\n",
       "2778               Infamous           6.4       6.135104"
      ]
     },
     "execution_count": 121,
     "metadata": {},
     "output_type": "execute_result"
    }
   ],
   "source": [
    "def find_sim_movie(df, sorted_idx, title_name, top_n=10):\n",
    "    title_movie = df[df['title'] == title_name]\n",
    "    title_idx = title_movie.index.values\n",
    "    \n",
    "    similar_idx = sorted_idx[title_idx, :(top_n*2)]\n",
    "    similar_idx = similar_idx.reshape(-1,)\n",
    "    \n",
    "    #자기 자신 영화 제외, boolean index기법 사용!\n",
    "    similar_idx = similar_idx[similar_idx != title_idx]\n",
    "    \n",
    "    return df.iloc[similar_idx].sort_values(by=['weighted_vote'],\n",
    "                                           ascending=False)[:top_n]\n",
    "\n",
    "similar_movies = find_sim_movie(movies_df, genre_sim_idx,\n",
    "                               'The Avengers')\n",
    "similar_movies[['title','vote_average','weighted_vote']]"
   ]
  },
  {
   "cell_type": "code",
   "execution_count": null,
   "metadata": {},
   "outputs": [],
   "source": []
  }
 ],
 "metadata": {
  "hide_input": false,
  "kernelspec": {
   "display_name": "Python 3",
   "language": "python",
   "name": "python3"
  },
  "language_info": {
   "codemirror_mode": {
    "name": "ipython",
    "version": 3
   },
   "file_extension": ".py",
   "mimetype": "text/x-python",
   "name": "python",
   "nbconvert_exporter": "python",
   "pygments_lexer": "ipython3",
   "version": "3.7.7"
  },
  "toc": {
   "base_numbering": 1,
   "nav_menu": {},
   "number_sections": true,
   "sideBar": true,
   "skip_h1_title": false,
   "title_cell": "Table of Contents",
   "title_sidebar": "Contents",
   "toc_cell": false,
   "toc_position": {},
   "toc_section_display": true,
   "toc_window_display": false
  },
  "varInspector": {
   "cols": {
    "lenName": 16,
    "lenType": 16,
    "lenVar": 40
   },
   "kernels_config": {
    "python": {
     "delete_cmd_postfix": "",
     "delete_cmd_prefix": "del ",
     "library": "var_list.py",
     "varRefreshCmd": "print(var_dic_list())"
    },
    "r": {
     "delete_cmd_postfix": ") ",
     "delete_cmd_prefix": "rm(",
     "library": "var_list.r",
     "varRefreshCmd": "cat(var_dic_list()) "
    }
   },
   "types_to_exclude": [
    "module",
    "function",
    "builtin_function_or_method",
    "instance",
    "_Feature"
   ],
   "window_display": false
  }
 },
 "nbformat": 4,
 "nbformat_minor": 4
}

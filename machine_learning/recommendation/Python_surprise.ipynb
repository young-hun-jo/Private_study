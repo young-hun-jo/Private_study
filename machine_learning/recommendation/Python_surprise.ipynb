{
 "cells": [
  {
   "cell_type": "markdown",
   "metadata": {},
   "source": [
    "# Surprise 이용한 추천 시스템 구축"
   ]
  },
  {
   "cell_type": "code",
   "execution_count": 1,
   "metadata": {},
   "outputs": [
    {
     "name": "stdout",
     "output_type": "stream",
     "text": [
      "1.1.1\n"
     ]
    }
   ],
   "source": [
    "import surprise\n",
    "print(surprise.__version__)"
   ]
  },
  {
   "cell_type": "code",
   "execution_count": 1,
   "metadata": {},
   "outputs": [],
   "source": [
    "# Surprise이용한 추천 시스템 구축\n",
    "from surprise import SVD\n",
    "from surprise import Dataset\n",
    "from surprise import accuracy\n",
    "from surprise.model_selection import train_test_split"
   ]
  },
  {
   "cell_type": "markdown",
   "metadata": {},
   "source": [
    "- 내장된 데이터 로드할 때는 Dataset.load_builtin('데이터이름')"
   ]
  },
  {
   "cell_type": "code",
   "execution_count": 4,
   "metadata": {},
   "outputs": [],
   "source": [
    "# 내장 데이터인 무비렌즈 데이터 로드하고 학습/테스트 데이터로 분리\n",
    "data = Dataset.load_builtin('ml-100k')\n",
    "train, test = train_test_split(data, test_size=0.25,\n",
    "                              random_state=42)"
   ]
  },
  {
   "cell_type": "code",
   "execution_count": 6,
   "metadata": {},
   "outputs": [
    {
     "data": {
      "text/plain": [
       "<surprise.prediction_algorithms.matrix_factorization.SVD at 0x7fd70bb77a10>"
      ]
     },
     "execution_count": 6,
     "metadata": {},
     "output_type": "execute_result"
    }
   ],
   "source": [
    "# SVD 행렬 분해 알고리즘으로 SVD객체 생성 후 학습 수행\n",
    "algo = SVD()\n",
    "algo.fit(train)"
   ]
  },
  {
   "cell_type": "markdown",
   "metadata": {},
   "source": [
    "- Surprise 알고리즘에서 모든 test 데이터에 대한 예측값을 반환할 때는 ``test()``\n",
    "- 반면에, 하나의 데이터에 대한 예측값을 반환할 때는 ``predict()``"
   ]
  },
  {
   "cell_type": "code",
   "execution_count": 9,
   "metadata": {},
   "outputs": [
    {
     "name": "stdout",
     "output_type": "stream",
     "text": [
      "prediction type:  <class 'list'> size:  25000\n",
      "\n",
      "prediction 결과값 5개 미리보기\n"
     ]
    },
    {
     "data": {
      "text/plain": [
       "[Prediction(uid='391', iid='591', r_ui=4.0, est=3.549383426384395, details={'was_impossible': False}),\n",
       " Prediction(uid='181', iid='1291', r_ui=1.0, est=1.3491443445057234, details={'was_impossible': False}),\n",
       " Prediction(uid='637', iid='268', r_ui=2.0, est=2.6922889064272746, details={'was_impossible': False}),\n",
       " Prediction(uid='332', iid='451', r_ui=5.0, est=3.9588837231641776, details={'was_impossible': False}),\n",
       " Prediction(uid='271', iid='204', r_ui=4.0, est=3.733289272582197, details={'was_impossible': False})]"
      ]
     },
     "execution_count": 9,
     "metadata": {},
     "output_type": "execute_result"
    }
   ],
   "source": [
    "prediction = algo.test(test)\n",
    "print('prediction type: ', type(prediction),\n",
    "     'size: ', len(prediction))\n",
    "print()\n",
    "print('prediction 결과값 5개 미리보기')\n",
    "prediction[:5]"
   ]
  },
  {
   "cell_type": "markdown",
   "metadata": {},
   "source": [
    "- 예측값이 여러 요소를 담고 있는 하나의 Prediction이라는 객체 여러개가 리스트에 담겨 있음\n",
    "\n",
    "- 원하는 요소 호출이 ``predcition.uid``이런식으로 호출하기"
   ]
  },
  {
   "cell_type": "code",
   "execution_count": 11,
   "metadata": {},
   "outputs": [
    {
     "data": {
      "text/plain": [
       "[('391', '591', 3.549383426384395),\n",
       " ('181', '1291', 1.3491443445057234),\n",
       " ('637', '268', 2.6922889064272746),\n",
       " ('332', '451', 3.9588837231641776),\n",
       " ('271', '204', 3.733289272582197)]"
      ]
     },
     "execution_count": 11,
     "metadata": {},
     "output_type": "execute_result"
    }
   ],
   "source": [
    "# user id, item id, 예측평점값들만 추출해서 하나의 튜플로 담겨있도록 하기\n",
    "[(pred.uid, pred.iid, pred.est) for pred in prediction[:5]]"
   ]
  },
  {
   "cell_type": "code",
   "execution_count": 12,
   "metadata": {},
   "outputs": [
    {
     "name": "stdout",
     "output_type": "stream",
     "text": [
      "user: 196        item: 302        r_ui = None   est = 3.70   {'was_impossible': False}\n"
     ]
    }
   ],
   "source": [
    "# 개별 데이터에 대한 예측값 반환을 위해서 predict() 사용\n",
    "# user id, item id는 문자열로 되어있기 때문에 문자열로 넣어주어야 함!\n",
    "uid = str(196)\n",
    "iid = str(302)\n",
    "# 변수 순서 지켜주어서 넣어주어야 함!\n",
    "pred = algo.predict(uid, iid)\n",
    "print(pred)"
   ]
  },
  {
   "cell_type": "code",
   "execution_count": 13,
   "metadata": {},
   "outputs": [
    {
     "name": "stdout",
     "output_type": "stream",
     "text": [
      "RMSE: 0.9401\n"
     ]
    },
    {
     "data": {
      "text/plain": [
       "0.9401185404807917"
      ]
     },
     "execution_count": 13,
     "metadata": {},
     "output_type": "execute_result"
    }
   ],
   "source": [
    "# accuracy 메서드에 rmse라는 함수 있음. 이를 이용해서 실제값과 예측값 error반환\n",
    "accuracy.rmse(prediction)"
   ]
  },
  {
   "cell_type": "markdown",
   "metadata": {},
   "source": [
    "# Surprise 주요 모듈 소개"
   ]
  },
  {
   "cell_type": "code",
   "execution_count": 2,
   "metadata": {},
   "outputs": [],
   "source": [
    "import pandas as pd\n",
    "import os\n",
    "os.chdir('/Users/younghun/Desktop/gitrepo/data/ml-latest-small')"
   ]
  },
  {
   "cell_type": "code",
   "execution_count": 3,
   "metadata": {},
   "outputs": [],
   "source": [
    "ratings = pd.read_csv('ratings.csv')\n",
    "# Surprise 모듈에서 csv파일을 읽어오도록 포맷을 변경해주어야 하기 위해서 따로 저장\n",
    "# 이 때, index값과 Header(칼럼명)값들 없애주면서 저장시키기\n",
    "ratings.to_csv('ratings_surprise.csv', index=False, header=False)"
   ]
  },
  {
   "cell_type": "code",
   "execution_count": 22,
   "metadata": {},
   "outputs": [
    {
     "name": "stdout",
     "output_type": "stream",
     "text": [
      "README.txt            movies.csv            ratings_surprise.csv\r\n",
      "links.csv             ratings.csv           tags.csv\r\n"
     ]
    }
   ],
   "source": [
    "ls"
   ]
  },
  {
   "cell_type": "markdown",
   "metadata": {},
   "source": [
    "- Reader 클래스로 csv읽어올 포맷 지정하고 load_from_file() 이용해 데이터셋 로드"
   ]
  },
  {
   "cell_type": "code",
   "execution_count": 23,
   "metadata": {},
   "outputs": [],
   "source": [
    "from surprise import Reader\n",
    "\n",
    "reader = Reader(line_format='user item rating timestamp', sep=',',\n",
    "               rating_scale=(0.5, 5))\n",
    "data = Dataset.load_from_file('ratings_surprise.csv',reader=reader)"
   ]
  },
  {
   "cell_type": "code",
   "execution_count": 24,
   "metadata": {},
   "outputs": [
    {
     "name": "stdout",
     "output_type": "stream",
     "text": [
      "RMSE: 0.8785\n"
     ]
    },
    {
     "data": {
      "text/plain": [
       "0.8784769558636133"
      ]
     },
     "execution_count": 24,
     "metadata": {},
     "output_type": "execute_result"
    }
   ],
   "source": [
    "# 로드한 csv파일 train,test로 분할하고 SVD활용해서 학습시키기\n",
    "train, test = train_test_split(data, test_size=0.25,\n",
    "                              random_state=42)\n",
    "algo = SVD(n_factors=50, random_state=42)\n",
    "algo.fit(train)\n",
    "predictions = algo.test(test)\n",
    "accuracy.rmse(predictions)"
   ]
  },
  {
   "cell_type": "markdown",
   "metadata": {},
   "source": [
    "- pandas의 데이터프레임 형태를 데이터로 로드하는 load_from_df() 사용\n",
    "- csv파일 읽어올 때처럼 구분자 따로 넣어줄 필요 없음."
   ]
  },
  {
   "cell_type": "code",
   "execution_count": 26,
   "metadata": {},
   "outputs": [
    {
     "name": "stdout",
     "output_type": "stream",
     "text": [
      "RMSE: 0.8785\n"
     ]
    },
    {
     "data": {
      "text/plain": [
       "0.8784769558636133"
      ]
     },
     "execution_count": 26,
     "metadata": {},
     "output_type": "execute_result"
    }
   ],
   "source": [
    "import pandas as pd\n",
    "from surprise import Dataset, Reader\n",
    "\n",
    "ratings = pd.read_csv('ratings.csv')\n",
    "reader = Reader(rating_scale=(0.5, 5))\n",
    "\n",
    "# load_from_df사용해서 데이터프레임을 데이터셋으로 로드\n",
    "# 인자에 userid-itemid-ratings 변수들이 포함된 데이터프레임형태로 넣어주면 됨!\n",
    "data = Dataset.load_from_df(ratings[['userId','movieId','rating']],\n",
    "                           reader=reader)\n",
    "train, test = train_test_split(data, test_size=0.25, random_state=42)\n",
    "\n",
    "algo = SVD(n_factors=50, random_state=42)\n",
    "algo.fit(train)\n",
    "predictions = algo.test(test)\n",
    "accuracy.rmse(predictions)"
   ]
  },
  {
   "cell_type": "markdown",
   "metadata": {},
   "source": [
    "# CV를 활용한 Surprise\n",
    "\n",
    "- cross_validate 사용\n",
    "- GridSearchCV 사용"
   ]
  },
  {
   "cell_type": "code",
   "execution_count": 27,
   "metadata": {},
   "outputs": [
    {
     "name": "stdout",
     "output_type": "stream",
     "text": [
      "Evaluating RMSE, MAE of algorithm SVD on 5 split(s).\n",
      "\n",
      "                  Fold 1  Fold 2  Fold 3  Fold 4  Fold 5  Mean    Std     \n",
      "RMSE (testset)    0.8748  0.8697  0.8729  0.8630  0.8694  0.8700  0.0040  \n",
      "MAE (testset)     0.6689  0.6704  0.6691  0.6640  0.6699  0.6685  0.0023  \n",
      "Fit time          2.54    2.43    2.39    2.43    2.46    2.45    0.05    \n",
      "Test time         0.21    0.10    0.21    0.11    0.11    0.15    0.05    \n"
     ]
    },
    {
     "data": {
      "text/plain": [
       "{'test_rmse': array([0.87479456, 0.86971438, 0.87290775, 0.86299562, 0.86938629]),\n",
       " 'test_mae': array([0.66887094, 0.67035647, 0.66914078, 0.66395962, 0.66994668]),\n",
       " 'fit_time': (2.542858839035034,\n",
       "  2.4279098510742188,\n",
       "  2.393428087234497,\n",
       "  2.4252750873565674,\n",
       "  2.4552979469299316),\n",
       " 'test_time': (0.21466803550720215,\n",
       "  0.09823894500732422,\n",
       "  0.20530414581298828,\n",
       "  0.10641002655029297,\n",
       "  0.10782814025878906)}"
      ]
     },
     "execution_count": 27,
     "metadata": {},
     "output_type": "execute_result"
    }
   ],
   "source": [
    "from surprise.model_selection import cross_validate\n",
    "\n",
    "# Pandas DF 형태로 데이터 로드\n",
    "ratings = pd.read_csv('ratings.csv')\n",
    "reader = Reader(rating_scale=(0.5, 5))\n",
    "\n",
    "data = Dataset.load_from_df(ratings[['userId','movieId','rating']],\n",
    "                           reader=reader)\n",
    "\n",
    "algo = SVD(n_factors=50, random_state=42)\n",
    "# cross_validate에는 파라미터를 입력시켜 놓은 모델을 인자로 넣어주자!\n",
    "cross_validate(algo, data, measures=['RMSE','MAE'], cv=5,\n",
    "              verbose=True)"
   ]
  },
  {
   "cell_type": "code",
   "execution_count": 29,
   "metadata": {},
   "outputs": [
    {
     "name": "stdout",
     "output_type": "stream",
     "text": [
      "0.8764213291085435\n",
      "{'n_epochs': 20, 'n_factors': 50}\n"
     ]
    }
   ],
   "source": [
    "from surprise.model_selection import GridSearchCV\n",
    "\n",
    "# GridSearch 할 파라미터 사전적으로 정의\n",
    "param_grid = {'n_epochs':[20,40], 'n_factors':[50, 100,200]}\n",
    "\n",
    "# GridSearchCV는 cross_validate와는 달리 인자에 알고리즘 자체를 넣어준다!\n",
    "grid = GridSearchCV(SVD, param_grid=param_grid,\n",
    "                   measures=['rmse','mae'], cv=3) # measure을 소문자로 해줘야함!\n",
    "# GridSearchCV로 데이터 학습시키기\n",
    "grid.fit(data)\n",
    "\n",
    "# 최고의 score와 그 때의 파라미터 출력\n",
    "print(grid.best_score['rmse'])\n",
    "print(grid.best_params['rmse'])"
   ]
  },
  {
   "cell_type": "markdown",
   "metadata": {},
   "source": [
    "# Surprise 활용한 개인화 영화 추천 시스템 구축\n",
    "\n",
    "- train_test_split 없이 전체 데이터를 바로 학습데이터로 학습시킬 수 없음\n",
    "- 따라서 DatasetAutoFolds를 이용해서 파일 데이터를 따로 전체 학습 데이터로 만들어주어야 함!(이 때 csv파일로 단순히 가져오기 때문에 Reader인자에 변수명, 구분자를 넣어주자)"
   ]
  },
  {
   "cell_type": "code",
   "execution_count": 6,
   "metadata": {},
   "outputs": [],
   "source": [
    "from surprise.dataset import DatasetAutoFolds\n",
    "from surprise.dataset import Reader\n",
    "from surprise import SVD\n",
    "\n",
    "reader = Reader(line_format='user item rating timestamp', sep=',',\n",
    "               rating_scale=(0.5, 5))\n",
    "\n",
    "# DatasetAutoFolds 클래스를 사용해서 개별적으로 생성\n",
    "# index와 header가 없는 상태로 재생성했던 ratings_surprise.csv파일에 기반\n",
    "data_folds = DatasetAutoFolds(ratings_file='ratings_surprise.csv',\n",
    "                             reader=reader)\n",
    "\n",
    "# 위에서 개별적으로 생성한 csv파일을 학습데이터로 생성\n",
    "trainset = data_folds.build_full_trainset()"
   ]
  },
  {
   "cell_type": "code",
   "execution_count": 7,
   "metadata": {},
   "outputs": [
    {
     "data": {
      "text/plain": [
       "<surprise.prediction_algorithms.matrix_factorization.SVD at 0x7fd619414b10>"
      ]
     },
     "execution_count": 7,
     "metadata": {},
     "output_type": "execute_result"
    }
   ],
   "source": [
    "algo = SVD(n_factors=50, n_epochs=20, random_state=42)\n",
    "algo.fit(trainset)"
   ]
  },
  {
   "cell_type": "code",
   "execution_count": 8,
   "metadata": {
    "scrolled": true
   },
   "outputs": [
    {
     "name": "stdout",
     "output_type": "stream",
     "text": [
      "user id=9인 사람은 movie id=42에 대한 평점이 없음\n",
      "    movieId                   title              genres\n",
      "38       42  Dead Presidents (1995)  Action|Crime|Drama\n"
     ]
    }
   ],
   "source": [
    "# 영화에 대한 정보 데이터 로딩\n",
    "movies = pd.read_csv('movies.csv')\n",
    "ratings = pd.read_csv('ratings.csv')\n",
    "# 특정 사용자 9번의 movieId를 추출해서 특정 영화에 대한 평점 있는지 확인\n",
    "movieIds = ratings[ratings['userId']==9]['movieId']\n",
    "if movieIds[movieIds==42].count() == 0:\n",
    "    print('user id=9인 사람은 movie id=42에 대한 평점이 없음')\n",
    "    \n",
    "# 영화에 대한 정보 데이터에서 movieId가 42인 영화가 무엇인지 출력\n",
    "print(movies[movies['movieId']==42])"
   ]
  },
  {
   "cell_type": "code",
   "execution_count": 9,
   "metadata": {
    "scrolled": true
   },
   "outputs": [
    {
     "name": "stdout",
     "output_type": "stream",
     "text": [
      "user: 9          item: 42         r_ui = None   est = 3.00   {'was_impossible': False}\n"
     ]
    }
   ],
   "source": [
    "# 위에서 설정한 user id가 9인 사람이 movie id가 42인 영화에 대한 평점 예측 출력\n",
    "uid = str(9)\n",
    "iid = str(42)\n",
    "pred = algo.predict(uid, iid)\n",
    "print(pred)"
   ]
  },
  {
   "cell_type": "code",
   "execution_count": 16,
   "metadata": {},
   "outputs": [],
   "source": [
    "def get_unseen_surprise(ratings, movies, userId):\n",
    "    # 특정 유저가 본 movie id들을 리스트로 할당\n",
    "    seen_movies = ratings[ratings['userId']==userId]['movieId'].tolist()\n",
    "    # 모든 영화들의 movie id들 리스트로 할당\n",
    "    total_movies = movies['movieId'].tolist()\n",
    "    \n",
    "    # 모든 영화들의 movie id들 중 특정 유저가 본 movie id를 제외한 나머지 추출\n",
    "    unseen_movies = [movie for movie in total_movies if movie not in seen_movies]\n",
    "    print(f'특정 {userId}번 유저가 본 영화 수: {len(seen_movies)}\\n추천한 영화 개수: {len(unseen_movies)}\\n전체 영화수: {len(total_movies)}')\n",
    "    \n",
    "    return unseen_movies"
   ]
  },
  {
   "cell_type": "code",
   "execution_count": 17,
   "metadata": {},
   "outputs": [],
   "source": [
    "def recomm_movie_by_surprise(algo, userId, unseen_movies, top_n=10):\n",
    "    # 알고리즘 객체의 predict()를 이용해 특정 userId의 평점이 없는 영화들에 대해 평점 예측\n",
    "    predictions = [algo.predict(str(userId), str(movieId)) for movieId in unseen_movies]\n",
    "    \n",
    "    # predictions는 Prediction()으로 하나의 객체로 되어있기 때문에 예측평점(est값)을 기준으로 정렬해야함\n",
    "    # est값을 반환하는 함수부터 정의. 이것을 이용해 리스트를 정렬하는 sort()인자의 key값에 넣어주자!\n",
    "    def sortkey_est(pred):\n",
    "        return pred.est\n",
    "    \n",
    "    # sortkey_est함수로 리스트를 정렬하는 sort함수의 key인자에 넣어주자\n",
    "    # 리스트 sort는 디폴트값이 inplace=True인 것처럼 정렬되어 나온다. reverse=True가 내림차순\n",
    "    predictions.sort(key=sortkey_est, reverse=True)\n",
    "    # 상위 n개의 예측값들만 할당\n",
    "    top_predictions = predictions[:top_n]\n",
    "    \n",
    "    # top_predictions에서 movie id, rating, movie title 각 뽑아내기\n",
    "    top_movie_ids = [int(pred.iid) for pred in top_predictions]\n",
    "    top_movie_ratings = [pred.est for pred in top_predictions]\n",
    "    top_movie_titles = movies[movies.movieId.isin(top_movie_ids)]['title']\n",
    "    # 위 3가지를 튜플로 담기\n",
    "    # zip함수를 사용해서 각 자료구조(여기선 리스트)의 똑같은 위치에있는 값들을 mapping\n",
    "    # zip함수는 참고로 여러개의 문자열의 똑같은 위치들끼리 mapping도 가능!\n",
    "    top_movie_preds = [(ids, rating, title) for ids, rating, title in zip(top_movie_ids, top_movie_ratings, top_movie_titles)]\n",
    "    \n",
    "    return top_movie_preds"
   ]
  },
  {
   "cell_type": "code",
   "execution_count": 18,
   "metadata": {},
   "outputs": [
    {
     "name": "stdout",
     "output_type": "stream",
     "text": [
      "특정 9번 유저가 본 영화 수: 46\n",
      "추천한 영화 개수: 9696\n",
      "전체 영화수: 9742\n",
      "\n",
      "######## Top-10 추천영화 리스트 ########\n",
      "* 추천 영화 이름:  Dr. Strangelove or: How I Learned to Stop Worrying and Love the Bomb (1964)\n",
      "* 해당 영화의 예측평점:  4.322402915230924\n",
      "\n",
      "* 추천 영화 이름:  Philadelphia Story, The (1940)\n",
      "* 해당 영화의 예측평점:  4.172423325516417\n",
      "\n",
      "* 추천 영화 이름:  Rear Window (1954)\n",
      "* 해당 영화의 예측평점:  4.160378620971996\n",
      "\n",
      "* 추천 영화 이름:  His Girl Friday (1940)\n",
      "* 해당 영화의 예측평점:  4.100292470156683\n",
      "\n",
      "* 추천 영화 이름:  Boot, Das (Boat, The) (1981)\n",
      "* 해당 영화의 예측평점:  4.095329442967445\n",
      "\n",
      "* 추천 영화 이름:  Seventh Seal, The (Sjunde inseglet, Det) (1957)\n",
      "* 해당 영화의 예측평점:  4.063138824378056\n",
      "\n",
      "* 추천 영화 이름:  Boogie Nights (1997)\n",
      "* 해당 영화의 예측평점:  4.062524326115693\n",
      "\n",
      "* 추천 영화 이름:  Life Is Beautiful (La Vita è bella) (1997)\n",
      "* 해당 영화의 예측평점:  4.049268225445741\n",
      "\n",
      "* 추천 영화 이름:  Guess Who's Coming to Dinner (1967)\n",
      "* 해당 영화의 예측평점:  4.04578027089272\n",
      "\n",
      "* 추천 영화 이름:  There Will Be Blood (2007)\n",
      "* 해당 영화의 예측평점:  4.039674899262282\n",
      "\n"
     ]
    }
   ],
   "source": [
    "unseen_lst = get_unseen_surprise(ratings, movies, 9)\n",
    "top_movies_preds = recomm_movie_by_surprise(algo, 9, unseen_lst,\n",
    "                                           top_n=10)\n",
    "print()\n",
    "print('#'*8,'Top-10 추천영화 리스트','#'*8)\n",
    "\n",
    "# top_movies_preds가 여러가지의 튜플을 담고 있는 리스트이기 때문에 반복문 수행\n",
    "for top_movie in top_movies_preds:\n",
    "    print('* 추천 영화 이름: ', top_movie[2])\n",
    "    print('* 해당 영화의 예측평점: ', top_movie[1])\n",
    "    print()"
   ]
  },
  {
   "cell_type": "code",
   "execution_count": null,
   "metadata": {},
   "outputs": [],
   "source": []
  }
 ],
 "metadata": {
  "hide_input": false,
  "kernelspec": {
   "display_name": "Python 3",
   "language": "python",
   "name": "python3"
  },
  "language_info": {
   "codemirror_mode": {
    "name": "ipython",
    "version": 3
   },
   "file_extension": ".py",
   "mimetype": "text/x-python",
   "name": "python",
   "nbconvert_exporter": "python",
   "pygments_lexer": "ipython3",
   "version": "3.7.7"
  },
  "toc": {
   "base_numbering": 1,
   "nav_menu": {},
   "number_sections": true,
   "sideBar": true,
   "skip_h1_title": false,
   "title_cell": "Table of Contents",
   "title_sidebar": "Contents",
   "toc_cell": false,
   "toc_position": {},
   "toc_section_display": true,
   "toc_window_display": false
  },
  "varInspector": {
   "cols": {
    "lenName": 16,
    "lenType": 16,
    "lenVar": 40
   },
   "kernels_config": {
    "python": {
     "delete_cmd_postfix": "",
     "delete_cmd_prefix": "del ",
     "library": "var_list.py",
     "varRefreshCmd": "print(var_dic_list())"
    },
    "r": {
     "delete_cmd_postfix": ") ",
     "delete_cmd_prefix": "rm(",
     "library": "var_list.r",
     "varRefreshCmd": "cat(var_dic_list()) "
    }
   },
   "types_to_exclude": [
    "module",
    "function",
    "builtin_function_or_method",
    "instance",
    "_Feature"
   ],
   "window_display": false
  }
 },
 "nbformat": 4,
 "nbformat_minor": 4
}

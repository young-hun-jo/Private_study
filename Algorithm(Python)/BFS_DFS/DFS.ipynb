{
 "cells": [
  {
   "cell_type": "markdown",
   "metadata": {
    "toc": true
   },
   "source": [
    "<h1>Table of Contents<span class=\"tocSkip\"></span></h1>\n",
    "<div class=\"toc\"><ul class=\"toc-item\"><li><span><a href=\"#2599번---짝-정하기\" data-toc-modified-id=\"2599번---짝-정하기-1\"><span class=\"toc-item-num\">1&nbsp;&nbsp;</span>2599번 - 짝 정하기</a></span></li></ul></div>"
   ]
  },
  {
   "cell_type": "markdown",
   "metadata": {},
   "source": [
    "### 2599번 - 짝 정하기\n",
    "\n",
    "- 재귀함수를 이용하진 않음..\n",
    "- 해당 문제의 특이 패턴을 사용..\n",
    "- B를 구하기위해 A를 이용하고 C를 이용하기 위해 B를 이용(마치 점화식 처럼..)"
   ]
  },
  {
   "cell_type": "code",
   "execution_count": 1,
   "metadata": {},
   "outputs": [
    {
     "name": "stdout",
     "output_type": "stream",
     "text": [
      "6\n",
      "4 2\n",
      "1 3\n",
      "1 1\n",
      "1\n",
      "3 1\n",
      "1 0\n",
      "1 0\n"
     ]
    }
   ],
   "source": [
    "N = int(input())\n",
    "school = []\n",
    "check = True\n",
    "\n",
    "for i in range(3):\n",
    "    m, w = map(int, input().split())\n",
    "    school.append(m)\n",
    "    school.append(w)\n",
    "\n",
    "for i in range(0, school[0]+1):\n",
    "    a = i  # A남&B여\n",
    "    b = school[0] - a  # A남&C여\n",
    "    c = school[-1] - b  # B남&C여\n",
    "    d = school[2] - c  # B남&A여\n",
    "    e = school[1] - d  # C남&A여\n",
    "    f = school[-2] - e  # C남&B여\n",
    "\n",
    "    if a >= 0 and b >= 0 and c >= 0 and d >= 0 and e >= 0 and f >=0:\n",
    "        print(1)\n",
    "        print(a, b)\n",
    "        print(d, c)\n",
    "        print(e, f)\n",
    "        check = False\n",
    "        break\n",
    "\n",
    "if check:\n",
    "    print(0)"
   ]
  },
  {
   "cell_type": "code",
   "execution_count": null,
   "metadata": {},
   "outputs": [],
   "source": []
  }
 ],
 "metadata": {
  "hide_input": false,
  "kernelspec": {
   "display_name": "Python 3",
   "language": "python",
   "name": "python3"
  },
  "language_info": {
   "codemirror_mode": {
    "name": "ipython",
    "version": 3
   },
   "file_extension": ".py",
   "mimetype": "text/x-python",
   "name": "python",
   "nbconvert_exporter": "python",
   "pygments_lexer": "ipython3",
   "version": "3.7.6"
  },
  "toc": {
   "base_numbering": 1,
   "nav_menu": {},
   "number_sections": true,
   "sideBar": true,
   "skip_h1_title": false,
   "title_cell": "Table of Contents",
   "title_sidebar": "Contents",
   "toc_cell": true,
   "toc_position": {},
   "toc_section_display": true,
   "toc_window_display": false
  },
  "varInspector": {
   "cols": {
    "lenName": 16,
    "lenType": 16,
    "lenVar": 40
   },
   "kernels_config": {
    "python": {
     "delete_cmd_postfix": "",
     "delete_cmd_prefix": "del ",
     "library": "var_list.py",
     "varRefreshCmd": "print(var_dic_list())"
    },
    "r": {
     "delete_cmd_postfix": ") ",
     "delete_cmd_prefix": "rm(",
     "library": "var_list.r",
     "varRefreshCmd": "cat(var_dic_list()) "
    }
   },
   "types_to_exclude": [
    "module",
    "function",
    "builtin_function_or_method",
    "instance",
    "_Feature"
   ],
   "window_display": false
  }
 },
 "nbformat": 4,
 "nbformat_minor": 4
}

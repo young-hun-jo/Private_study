{
 "cells": [
  {
   "cell_type": "markdown",
   "metadata": {
    "toc": true
   },
   "source": [
    "<h1>Table of Contents<span class=\"tocSkip\"></span></h1>\n",
    "<div class=\"toc\"><ul class=\"toc-item\"><li><span><a href=\"#16956번---늑대와-양\" data-toc-modified-id=\"16956번---늑대와-양-1\"><span class=\"toc-item-num\">1&nbsp;&nbsp;</span>16956번 - 늑대와 양</a></span></li><li><span><a href=\"#기출문제1---특정-거리의-도시-찾기\" data-toc-modified-id=\"기출문제1---특정-거리의-도시-찾기-2\"><span class=\"toc-item-num\">2&nbsp;&nbsp;</span>기출문제1 - 특정 거리의 도시 찾기</a></span></li></ul></div>"
   ]
  },
  {
   "cell_type": "markdown",
   "metadata": {},
   "source": [
    "### 16956번 - 늑대와 양\n",
    "\n",
    "- 문제 입/출력 동일하지 않아도 괜찮. 왜냐하면 울타리의 최소 개수를 구하는 것이 아니기 때문\n",
    "- 앞으로 문제의 ``메모``부분도 읽어서 힌트를 얻자!"
   ]
  },
  {
   "cell_type": "code",
   "execution_count": null,
   "metadata": {},
   "outputs": [],
   "source": [
    "R, C = map(int, input().split())\n",
    "matrix = []\n",
    "for _ in range(R):\n",
    "    matrix.append([i for i in input()])\n",
    "\n",
    "dx = [1, -1, 0, 0]\n",
    "dy = [0, 0, 1, -1]\n",
    "\n",
    "\n",
    "def bfs(x, y):\n",
    "    global matrix\n",
    "\n",
    "    for i in range(4):\n",
    "        nx = x + dx[i]\n",
    "        ny = y + dy[i]\n",
    "        if (0 <= nx < R) and (0 <= ny < C):\n",
    "            if matrix[nx][ny] == 'S':\n",
    "                return False\n",
    "            if matrix[nx][ny] == '.':\n",
    "                matrix[nx][ny] = 'D'\n",
    "    return True\n",
    "\n",
    "\n",
    "for i in range(R):\n",
    "    for j in range(C):\n",
    "        flag = True\n",
    "        if matrix[i][j] == 'W':\n",
    "            flag = bfs(i, j)  # W 주변에 S가 있으면 False 반환됨\n",
    "            if flag is False:\n",
    "                print(0)\n",
    "                break\n",
    "\n",
    "if flag:\n",
    "    print(1)\n",
    "    for line in matrix:\n",
    "        print(\"\".join(line))"
   ]
  },
  {
   "cell_type": "code",
   "execution_count": null,
   "metadata": {},
   "outputs": [],
   "source": [
    "import sys\n",
    "R, C = map(int, sys.stdin.readline().split())\n",
    "matrix = [list(input()) for _ in range(R)]  # 문자열 list()로 감싸면 자동으로 문자열 하나씩 리스트로 만듦\n",
    "\n",
    "dx = [1, -1, 0, 0]\n",
    "dy = [0, 0, 1, -1]\n",
    "\n",
    "\n",
    "# 2.bfs함수 정의하기\n",
    "def bfs(x, y):\n",
    "    global matrix\n",
    "\n",
    "    for i in range(4):\n",
    "        nx = x + dx[i]\n",
    "        ny = y + dy[i]\n",
    "        if (0 <= nx < R) and (0 <= ny < C):\n",
    "            if matrix[nx][ny] == 'S':  # W의 주변에 S가 있다면->울타리설치 불가\n",
    "                return False\n",
    "            if matrix[nx][ny] == '.': # W의 주변에 .이있으면->울타리설치 가능\n",
    "                matrix[nx][ny] = 'D'\n",
    "    return True\n",
    "\n",
    "# 1.'W' 늑대 입장에서 먼저 설계 -> bfs 함수 정의하자\n",
    "for i in range(R):\n",
    "    for j in range(C):\n",
    "        flag = True\n",
    "        if matrix[i][j] == 'W':  # W위치에서만 bfs 수행\n",
    "            flag = bfs(i, j)\n",
    "            if flag is False:\n",
    "                print(0)\n",
    "                break\n",
    "\n",
    "# 3. flag값에 따라 결과물 출력\n",
    "if flag:\n",
    "    print(1)\n",
    "    for line in matrix:\n",
    "        print(\"\".join(line))"
   ]
  },
  {
   "cell_type": "markdown",
   "metadata": {},
   "source": [
    "### 기출문제1 - 특정 거리의 도시 찾기\n",
    "\n",
    "- **간선의 비용이 모두 동일할 때는 BFS 사용 즉, deque를 사용하자!**\n",
    "- **최단거리** 문제 구하는 거 p.154쪽의 미로문제와 유사 유형!"
   ]
  },
  {
   "cell_type": "code",
   "execution_count": 1,
   "metadata": {},
   "outputs": [
    {
     "name": "stdout",
     "output_type": "stream",
     "text": [
      "4 4 2 1\n",
      "1 2\n",
      "1 3\n",
      "3 4\n",
      "2 3\n",
      "4\n"
     ]
    }
   ],
   "source": [
    "### 책 정석 풀이 ###\n",
    "from collections import deque\n",
    "\n",
    "n, m, k, x = map(int, input().split())\n",
    "graph = [[] for _ in range(n+1)]  # 0번 도시 그냥 추가 -> 나중에 인덱스 출력시 헷갈리지 않게 하기 위해..\n",
    "\n",
    "# 데이터 정보 인접 리스트 방식으로 입력\n",
    "for _ in range(m):\n",
    "    a, b = map(int, input().split())\n",
    "    graph[a].append(b)\n",
    "\n",
    "distance = [-1] * (n+1)  # 모든 도시에 대한 최단 거리 계산\n",
    "distance[x] = 0          # 출발 도시 최단거리 0으로 설정\n",
    "\n",
    "# BFS 시작\n",
    "q = deque([x])  # 도시 담을 큐 자료구조 정의\n",
    "while q:\n",
    "    now = q.popleft()  # 현재 도시 추출\n",
    "    # 인접 리스트 정보 활용\n",
    "    for next_node in graph[now]:\n",
    "        # 인접 노드가 방문을 안했다면 방문처리하면서 최단거리 계산\n",
    "        if distance[next_node] == -1:\n",
    "            distance[next_node] = distance[now] + 1  # 거리계산할 때 현재 도시까지의 최단거리에 +1해주어야 함!\n",
    "            q.append(next_node)   # 큐에 인접노드 추가!\n",
    "\n",
    "check = False\n",
    "for i in range(1, n+1):\n",
    "    if distance[i] == k:\n",
    "        print(i)  # 어차피 distance인덱스는 오름차순으로 정렬되어 있기 때문에 따로 정렬 수행 안해도 됨!\n",
    "        check = True\n",
    "if not check:\n",
    "    print(-1)"
   ]
  },
  {
   "cell_type": "code",
   "execution_count": 2,
   "metadata": {},
   "outputs": [
    {
     "name": "stdout",
     "output_type": "stream",
     "text": [
      "4 4 2 1\n",
      "1 2\n",
      "1 3\n",
      "2 3\n",
      "2 4\n",
      "4\n"
     ]
    }
   ],
   "source": [
    "from collections import deque\n",
    "\n",
    "n, m, k, x = map(int, input().split())\n",
    "# 데이터 인접 리스트 방식으로 담기\n",
    "graph = [[] for _ in range(n+1)]\n",
    "for _ in range(m):\n",
    "    a, b = map(int, input().split())\n",
    "    graph[a].append(b)\n",
    "    \n",
    "# 각 도시마다 최단거리 계산할 리스트 정의\n",
    "distance = [-1] * (n+1)  # -1로 하는 이유는 출발 도시에서 출발도시까지 거리가 0이기 떄문에 눈에띄게 해주기 위함..?\n",
    "# 출발 도시에 거리 계산 적용\n",
    "distance[x] = 0\n",
    "\n",
    "# BFS 탐색 시작! deque 이용!\n",
    "q = deque([x])  # 큐에다가 출발 도시 x 포함에서 거쳐가는 도시 담기\n",
    "while q:\n",
    "    now = q.popleft()\n",
    "    for next in graph[now]:\n",
    "        if distance[next] == -1:  # -1값 = 거쳐가지 않았다는 뜻! 즉, 방문하지 않은 노드\n",
    "            # 최단거리 계산\n",
    "            distance[next] = distance[now] + 1  # 최단거리는 이전 도시까지의 거리 + 1(도로 하나당 거리 1이기 떄문)\n",
    "            # 이동한 도시 큐에 넣기\n",
    "            q.append(next)\n",
    "            \n",
    "# distance값이 k인 도착도시들 출력하기\n",
    "flag = False\n",
    "for i in range(1, n+1):  # 도시가 1부터 n까지이기 때문에 distance 인덱스가 0인 값 볼 필요 없음\n",
    "    if distance[i] == k:\n",
    "        print(i)\n",
    "        flag = True\n",
    "        \n",
    "# flag가 여전히 False면 최단거리 도시 없음\n",
    "if not flag:\n",
    "    print(-1)"
   ]
  },
  {
   "cell_type": "code",
   "execution_count": null,
   "metadata": {},
   "outputs": [],
   "source": []
  }
 ],
 "metadata": {
  "hide_input": false,
  "kernelspec": {
   "display_name": "Python 3",
   "language": "python",
   "name": "python3"
  },
  "language_info": {
   "codemirror_mode": {
    "name": "ipython",
    "version": 3
   },
   "file_extension": ".py",
   "mimetype": "text/x-python",
   "name": "python",
   "nbconvert_exporter": "python",
   "pygments_lexer": "ipython3",
   "version": "3.7.6"
  },
  "toc": {
   "base_numbering": 1,
   "nav_menu": {},
   "number_sections": true,
   "sideBar": true,
   "skip_h1_title": false,
   "title_cell": "Table of Contents",
   "title_sidebar": "Contents",
   "toc_cell": true,
   "toc_position": {},
   "toc_section_display": true,
   "toc_window_display": false
  },
  "varInspector": {
   "cols": {
    "lenName": 16,
    "lenType": 16,
    "lenVar": 40
   },
   "kernels_config": {
    "python": {
     "delete_cmd_postfix": "",
     "delete_cmd_prefix": "del ",
     "library": "var_list.py",
     "varRefreshCmd": "print(var_dic_list())"
    },
    "r": {
     "delete_cmd_postfix": ") ",
     "delete_cmd_prefix": "rm(",
     "library": "var_list.r",
     "varRefreshCmd": "cat(var_dic_list()) "
    }
   },
   "types_to_exclude": [
    "module",
    "function",
    "builtin_function_or_method",
    "instance",
    "_Feature"
   ],
   "window_display": false
  }
 },
 "nbformat": 4,
 "nbformat_minor": 4
}

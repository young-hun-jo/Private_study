{
 "cells": [
  {
   "cell_type": "markdown",
   "metadata": {
    "toc": true
   },
   "source": [
    "<h1>Table of Contents<span class=\"tocSkip\"></span></h1>\n",
    "<div class=\"toc\"><ul class=\"toc-item\"><li><span><a href=\"#16956번---늑대와-양\" data-toc-modified-id=\"16956번---늑대와-양-1\"><span class=\"toc-item-num\">1&nbsp;&nbsp;</span>16956번 - 늑대와 양</a></span></li></ul></div>"
   ]
  },
  {
   "cell_type": "markdown",
   "metadata": {},
   "source": [
    "### 16956번 - 늑대와 양\n",
    "\n",
    "- 문제 입/출력 동일하지 않아도 괜찮. 왜냐하면 울타리의 최소 개수를 구하는 것이 아니기 때문\n",
    "- 앞으로 문제의 ``메모``부분도 읽어서 힌트를 얻자!"
   ]
  },
  {
   "cell_type": "code",
   "execution_count": null,
   "metadata": {},
   "outputs": [],
   "source": [
    "R, C = map(int, input().split())\n",
    "matrix = []\n",
    "for _ in range(R):\n",
    "    matrix.append([i for i in input()])\n",
    "\n",
    "dx = [1, -1, 0, 0]\n",
    "dy = [0, 0, 1, -1]\n",
    "\n",
    "\n",
    "def bfs(x, y):\n",
    "    global matrix\n",
    "\n",
    "    for i in range(4):\n",
    "        nx = x + dx[i]\n",
    "        ny = y + dy[i]\n",
    "        if (0 <= nx < R) and (0 <= ny < C):\n",
    "            if matrix[nx][ny] == 'S':\n",
    "                return False\n",
    "            if matrix[nx][ny] == '.':\n",
    "                matrix[nx][ny] = 'D'\n",
    "    return True\n",
    "\n",
    "\n",
    "for i in range(R):\n",
    "    for j in range(C):\n",
    "        flag = True\n",
    "        if matrix[i][j] == 'W':\n",
    "            flag = bfs(i, j)  # W 주변에 S가 있으면 False 반환됨\n",
    "            if flag is False:\n",
    "                print(0)\n",
    "                break\n",
    "\n",
    "if flag:\n",
    "    print(1)\n",
    "    for line in matrix:\n",
    "        print(\"\".join(line))"
   ]
  },
  {
   "cell_type": "code",
   "execution_count": null,
   "metadata": {},
   "outputs": [],
   "source": [
    "import sys\n",
    "R, C = map(int, sys.stdin.readline().split())\n",
    "matrix = [list(input()) for _ in range(R)]  # 문자열 list()로 감싸면 자동으로 문자열 하나씩 리스트로 만듦\n",
    "\n",
    "dx = [1, -1, 0, 0]\n",
    "dy = [0, 0, 1, -1]\n",
    "\n",
    "\n",
    "# 2.bfs함수 정의하기\n",
    "def bfs(x, y):\n",
    "    global matrix\n",
    "\n",
    "    for i in range(4):\n",
    "        nx = x + dx[i]\n",
    "        ny = y + dy[i]\n",
    "        if (0 <= nx < R) and (0 <= ny < C):\n",
    "            if matrix[nx][ny] == 'S':  # W의 주변에 S가 있다면->울타리설치 불가\n",
    "                return False\n",
    "            if matrix[nx][ny] == '.': # W의 주변에 .이있으면->울타리설치 가능\n",
    "                matrix[nx][ny] = 'D'\n",
    "    return True\n",
    "\n",
    "# 1.'W' 늑대 입장에서 먼저 설계 -> bfs 함수 정의하자\n",
    "for i in range(R):\n",
    "    for j in range(C):\n",
    "        flag = True\n",
    "        if matrix[i][j] == 'W':  # W위치에서만 bfs 수행\n",
    "            flag = bfs(i, j)\n",
    "            if flag is False:\n",
    "                print(0)\n",
    "                break\n",
    "\n",
    "# 3. flag값에 따라 결과물 출력\n",
    "if flag:\n",
    "    print(1)\n",
    "    for line in matrix:\n",
    "        print(\"\".join(line))"
   ]
  }
 ],
 "metadata": {
  "hide_input": false,
  "kernelspec": {
   "display_name": "Python 3",
   "language": "python",
   "name": "python3"
  },
  "language_info": {
   "codemirror_mode": {
    "name": "ipython",
    "version": 3
   },
   "file_extension": ".py",
   "mimetype": "text/x-python",
   "name": "python",
   "nbconvert_exporter": "python",
   "pygments_lexer": "ipython3",
   "version": "3.7.6"
  },
  "toc": {
   "base_numbering": 1,
   "nav_menu": {},
   "number_sections": true,
   "sideBar": true,
   "skip_h1_title": false,
   "title_cell": "Table of Contents",
   "title_sidebar": "Contents",
   "toc_cell": true,
   "toc_position": {},
   "toc_section_display": true,
   "toc_window_display": false
  },
  "varInspector": {
   "cols": {
    "lenName": 16,
    "lenType": 16,
    "lenVar": 40
   },
   "kernels_config": {
    "python": {
     "delete_cmd_postfix": "",
     "delete_cmd_prefix": "del ",
     "library": "var_list.py",
     "varRefreshCmd": "print(var_dic_list())"
    },
    "r": {
     "delete_cmd_postfix": ") ",
     "delete_cmd_prefix": "rm(",
     "library": "var_list.r",
     "varRefreshCmd": "cat(var_dic_list()) "
    }
   },
   "types_to_exclude": [
    "module",
    "function",
    "builtin_function_or_method",
    "instance",
    "_Feature"
   ],
   "window_display": false
  }
 },
 "nbformat": 4,
 "nbformat_minor": 4
}

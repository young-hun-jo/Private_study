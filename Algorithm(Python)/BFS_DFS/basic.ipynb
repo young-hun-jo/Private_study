{
 "cells": [
  {
   "cell_type": "markdown",
   "id": "mounted-wallace",
   "metadata": {
    "toc": true
   },
   "source": [
    "<h1>Table of Contents<span class=\"tocSkip\"></span></h1>\n",
    "<div class=\"toc\"><ul class=\"toc-item\"><li><span><a href=\"#DFS---재귀함수로-구현\" data-toc-modified-id=\"DFS---재귀함수로-구현-1\"><span class=\"toc-item-num\">1&nbsp;&nbsp;</span>DFS - 재귀함수로 구현</a></span></li><li><span><a href=\"#BFS---Deque로-구현\" data-toc-modified-id=\"BFS---Deque로-구현-2\"><span class=\"toc-item-num\">2&nbsp;&nbsp;</span>BFS - Deque로 구현</a></span><ul class=\"toc-item\"><li><span><a href=\"#DFS---실전문제-1번\" data-toc-modified-id=\"DFS---실전문제-1번-2.1\"><span class=\"toc-item-num\">2.1&nbsp;&nbsp;</span>DFS - 실전문제 1번</a></span></li></ul></li></ul></div>"
   ]
  },
  {
   "cell_type": "markdown",
   "id": "acquired-separate",
   "metadata": {},
   "source": [
    "## DFS - 재귀함수로 구현"
   ]
  },
  {
   "cell_type": "code",
   "execution_count": 1,
   "id": "blank-dairy",
   "metadata": {},
   "outputs": [
    {
     "name": "stdout",
     "output_type": "stream",
     "text": [
      "1 2 7 6 8 3 4 5 "
     ]
    }
   ],
   "source": [
    "# graph : 각 노드가 연결된 정보를 담고있는 2차원 인접리스트\n",
    "# v : 첫 시작 노드\n",
    "# visited : 방문한 노드를 담을 스택 자료구조\n",
    "graph = [[],\n",
    "         [2,3,8],\n",
    "         [1,7],\n",
    "         [1,4,5],\n",
    "         [3,5],\n",
    "         [3,4],\n",
    "         [7],\n",
    "         [2,6,8],\n",
    "         [1,7]]\n",
    "\n",
    "visited = [False] * 9\n",
    "\n",
    "def dfs(graph, v, visited):\n",
    "    visited[v] = True # 현재 노드 방문 처리 -> 일반 Python 리스트는 스택으로 구현되어 있기 때문에 이를 스택으로 사용하면서 방문처리 용으로도 사용\n",
    "    print(v, end=' ') # 방문한 순서대로 노드 출력\n",
    "    \n",
    "    for i in graph[v]:  # 현재 노드에 대한 정보가 담겨있는 graph 즉, 현재 노드의 인접노드 탐색\n",
    "        if not visited[i]:  # 해당 인접노드가 방문 스택에 없을 때 -> 방문 스택에 담고 또 그의 인접 노드를 탐색하는 BFS 함수 재호출(재귀!)\n",
    "            dfs(graph, i, visited)\n",
    "\n",
    "dfs(graph, 1, visited)"
   ]
  },
  {
   "cell_type": "markdown",
   "id": "conservative-sucking",
   "metadata": {},
   "source": [
    "## BFS - Deque로 구현"
   ]
  },
  {
   "cell_type": "code",
   "execution_count": 2,
   "id": "interior-means",
   "metadata": {},
   "outputs": [
    {
     "name": "stdout",
     "output_type": "stream",
     "text": [
      "1 2 3 8 7 4 5 6 "
     ]
    }
   ],
   "source": [
    "'''\n",
    "BFS - 큐를 이용하고 Deque 라이브러리를 이용!\n",
    "'''\n",
    "from collections import deque\n",
    "\n",
    "graph = [[],\n",
    "         [2,3,8],\n",
    "         [1,7],\n",
    "         [1,4,5],\n",
    "         [3,5],\n",
    "         [3,4],\n",
    "         [7],\n",
    "         [2,6,8],\n",
    "         [1,7]]\n",
    "\n",
    "visited = [False] * 9\n",
    "\n",
    "def bfs(graph, start, visited):\n",
    "    queue = deque([start]) # 방문한 노드의 인접노드들을 담아놓을 큐 정의\n",
    "    visited[start] = True  # 방문한 노드를 방문 처리\n",
    "    \n",
    "    # 큐가 빌(False) 때까지 반복\n",
    "    while queue:\n",
    "        # 큐에 담긴 노드를 빼서 그 노드들의 인접노드들 큐에 담기\n",
    "        v = queue.popleft()\n",
    "        print(v, end=' ')\n",
    "        \n",
    "        for i in graph[v]: # graph의 정보를 이용해서 뺀 노드들의 인접노드들이 방문처리가 안된 노드들이면 큐에 담기\n",
    "            if not visited[i]:\n",
    "                queue.append(i)\n",
    "                visited[i] = True\n",
    "                \n",
    "bfs(graph, 1, visited)"
   ]
  },
  {
   "cell_type": "markdown",
   "id": "inappropriate-species",
   "metadata": {},
   "source": [
    "### DFS - 실전문제 1번"
   ]
  },
  {
   "cell_type": "code",
   "execution_count": null,
   "id": "enabling-company",
   "metadata": {},
   "outputs": [],
   "source": [
    "import sys\n",
    "\n",
    "N, M = map(int, sys.stdin.readline().split())\n",
    "matrix = []\n",
    "for _ in range(N):\n",
    "    matrix.append(list(map(int, sys.stdin.readline().strip())))\n",
    "\n",
    "\n",
    "# DFS -> 깊은 곳 부터 탐색하기!\n",
    "def dfs(x, y):\n",
    "    # x,y 좌표 노드가 판을 넘어갈 경우에는 즉시 False\n",
    "    if x < 0 or x > N - 1 or y < 0 or y > M - 1:\n",
    "        return False\n",
    "\n",
    "    global matrix\n",
    "\n",
    "    if matrix[x][y] == 0:\n",
    "        # 해당 x,y 좌표 노드를 방문 처리\n",
    "        matrix[x][y] = 1\n",
    "        # 노드의 상,하,좌,우 방향 각각 모두 DFS 탐색\n",
    "        dfs(x - 1, y)  # 상\n",
    "        dfs(x + 1, y)  # 하\n",
    "        dfs(x, y - 1)  # 좌\n",
    "        dfs(x, y + 1)  # 우\n",
    "        return True  # 위 상,하,좌,우 모두 False를 반환하게 되면(즉, 더이상 확장 못할 때) True를 반환! -> 따라서 True로 나오게 된다는 것은 아이스크림 틀 1개를 셋다고 간주할 수 있음!\n",
    "    # 해당 x,y 좌표 노드가 1 즉, 칸막이인 경우 False\n",
    "    return False\n",
    "\n",
    "\n",
    "count = 0\n",
    "for i in range(N):\n",
    "    for j in range(M):\n",
    "        if dfs(i, j) == True:\n",
    "            count += 1\n",
    "\n",
    "print(count)"
   ]
  },
  {
   "cell_type": "code",
   "execution_count": null,
   "id": "acoustic-complexity",
   "metadata": {},
   "outputs": [],
   "source": []
  }
 ],
 "metadata": {
  "hide_input": false,
  "kernelspec": {
   "display_name": "Python 3",
   "language": "python",
   "name": "python3"
  },
  "language_info": {
   "codemirror_mode": {
    "name": "ipython",
    "version": 3
   },
   "file_extension": ".py",
   "mimetype": "text/x-python",
   "name": "python",
   "nbconvert_exporter": "python",
   "pygments_lexer": "ipython3",
   "version": "3.7.7"
  },
  "toc": {
   "base_numbering": 1,
   "nav_menu": {},
   "number_sections": true,
   "sideBar": true,
   "skip_h1_title": false,
   "title_cell": "Table of Contents",
   "title_sidebar": "Contents",
   "toc_cell": true,
   "toc_position": {},
   "toc_section_display": true,
   "toc_window_display": false
  },
  "varInspector": {
   "cols": {
    "lenName": 16,
    "lenType": 16,
    "lenVar": 40
   },
   "kernels_config": {
    "python": {
     "delete_cmd_postfix": "",
     "delete_cmd_prefix": "del ",
     "library": "var_list.py",
     "varRefreshCmd": "print(var_dic_list())"
    },
    "r": {
     "delete_cmd_postfix": ") ",
     "delete_cmd_prefix": "rm(",
     "library": "var_list.r",
     "varRefreshCmd": "cat(var_dic_list()) "
    }
   },
   "types_to_exclude": [
    "module",
    "function",
    "builtin_function_or_method",
    "instance",
    "_Feature"
   ],
   "window_display": false
  }
 },
 "nbformat": 4,
 "nbformat_minor": 5
}

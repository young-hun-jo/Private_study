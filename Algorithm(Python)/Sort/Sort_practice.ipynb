{
 "cells": [
  {
   "cell_type": "markdown",
   "metadata": {
    "toc": true
   },
   "source": [
    "<h1>Table of Contents<span class=\"tocSkip\"></span></h1>\n",
    "<div class=\"toc\"><ul class=\"toc-item\"><li><span><a href=\"#실전문제---성적이-낮은-순서로-학생-출력하기\" data-toc-modified-id=\"실전문제---성적이-낮은-순서로-학생-출력하기-1\"><span class=\"toc-item-num\">1&nbsp;&nbsp;</span>실전문제 - 성적이 낮은 순서로 학생 출력하기</a></span></li><li><span><a href=\"#실전문제---두-배열의-원소-교체\" data-toc-modified-id=\"실전문제---두-배열의-원소-교체-2\"><span class=\"toc-item-num\">2&nbsp;&nbsp;</span>실전문제 - 두 배열의 원소 교체</a></span></li><li><span><a href=\"#기출문제-1번---안테나\" data-toc-modified-id=\"기출문제-1번---안테나-3\"><span class=\"toc-item-num\">3&nbsp;&nbsp;</span>기출문제 1번 - 안테나</a></span></li><li><span><a href=\"#기출문제-2번---안테나\" data-toc-modified-id=\"기출문제-2번---안테나-4\"><span class=\"toc-item-num\">4&nbsp;&nbsp;</span>기출문제 2번 - 안테나</a></span></li><li><span><a href=\"#기출문제-3번---실패율\" data-toc-modified-id=\"기출문제-3번---실패율-5\"><span class=\"toc-item-num\">5&nbsp;&nbsp;</span>기출문제 3번 - 실패율</a></span></li></ul></div>"
   ]
  },
  {
   "cell_type": "markdown",
   "metadata": {},
   "source": [
    "### 실전문제 - 성적이 낮은 순서로 학생 출력하기"
   ]
  },
  {
   "cell_type": "code",
   "execution_count": 1,
   "metadata": {},
   "outputs": [
    {
     "name": "stdout",
     "output_type": "stream",
     "text": [
      "2\n",
      "이순신 96\n",
      "홍길동 67\n",
      "홍길동 이순신 "
     ]
    }
   ],
   "source": [
    "N = int(input())\n",
    "lst = []\n",
    "\n",
    "for _ in range(N):\n",
    "    name, score = input().split()\n",
    "    score = int(score)\n",
    "    lst.append((name, score))\n",
    "\n",
    "sorted_lst = sorted(lst, key=lambda x: x[1])\n",
    "for i in sorted_lst:\n",
    "    print(i[0], end=' ')"
   ]
  },
  {
   "cell_type": "markdown",
   "metadata": {},
   "source": [
    "### 실전문제 - 두 배열의 원소 교체"
   ]
  },
  {
   "cell_type": "code",
   "execution_count": 2,
   "metadata": {},
   "outputs": [
    {
     "name": "stdout",
     "output_type": "stream",
     "text": [
      "5 3\n",
      "1 2 5 4 3\n",
      "5 5 6 6 9\n",
      "30\n"
     ]
    }
   ],
   "source": [
    "N, K = map(int, input().split())\n",
    "a = list(map(int, input().split()))\n",
    "b = list(map(int, input().split()))\n",
    "\n",
    "# a는 오름차순, b는 내림차순\n",
    "a = sorted(a)\n",
    "b = sorted(b, reverse=True)\n",
    "\n",
    "for i in range(K):\n",
    "    # a의 값이 더 클 수도 있으니깐! 조건 달기!!!!!\n",
    "    if a[i] < b[i]:\n",
    "        a[i] = b[i]\n",
    "    # 만약 똑같은 index끼리 비교하면서 a가 더 크다는 것은 더이상 b 나머지 값들 중 a의 어떤 값보다 큰 값은 없음을 의미하므로 바로 stop!(왜냐면 a는 오름차순, b는 내림차순이기 때문)\n",
    "    else:\n",
    "        break\n",
    "\n",
    "res = sum(a)\n",
    "print(res)"
   ]
  },
  {
   "cell_type": "markdown",
   "metadata": {},
   "source": [
    "### 기출문제 1번 - 안테나"
   ]
  },
  {
   "cell_type": "code",
   "execution_count": null,
   "metadata": {},
   "outputs": [],
   "source": [
    "#### 내가 푼 풀이 #####\n",
    "# lambda 함수를 통해 정렬 다중 조건을 넣을 수 있음\n",
    "# -는 내림차순 정렬!\n",
    "# ASCII  코드상 대문자는 소문자보다 작으므로 사전 순으로 앞에옴!(오름차순일 때 앞에온다는 의미)\n",
    "N = int(input())\n",
    "scores = []\n",
    "for _ in range(N):\n",
    "    name, kor, eng, math = input().split()\n",
    "    scores.append((name, int(kor), int(eng), int(math)))\n",
    "\n",
    "sort_scores = sorted(scores, key=lambda x: (-x[1], x[2], -x[3], x[0]))\n",
    "\n",
    "for score in sort_scores:\n",
    "    print(score[0])"
   ]
  },
  {
   "cell_type": "markdown",
   "metadata": {},
   "source": [
    "### 기출문제 2번 - 안테나\n",
    "\n",
    "- 데이터의 특징 패턴을 찾기\n",
    "- **아이디어: 집 위치 값들 중 중간값에 해당하는 위치의 집에 안테나를 설치하면 그 중간값 위치의 안테나로부터 모든 집간의 거리가 최소가 됨!**"
   ]
  },
  {
   "cell_type": "code",
   "execution_count": 1,
   "metadata": {},
   "outputs": [
    {
     "name": "stdout",
     "output_type": "stream",
     "text": [
      "4\n",
      "5 1 9 7\n",
      "5\n"
     ]
    }
   ],
   "source": [
    "#### 내가 푼 풀이 ##### -> 시간 20분 초과 ㅠㅠ\n",
    "N = int(input())\n",
    "homes = list(map(int, input().split()))\n",
    "antenna = [0] * (max(homes) + 1)  # index가 안테나 위치 번호, value가 거리\n",
    "\n",
    "# 각 안테나마다 집들 간의 거리 계산\n",
    "for i in range(1, len(antenna)):\n",
    "    for j in range(len(homes)):\n",
    "        antenna[i] += abs(i - homes[j])\n",
    "        \n",
    "# 안테나 번호와 메핑된 거리값들 zip 시키기\n",
    "antenna_nums = [i for i in range(len(antenna))]\n",
    "result = list(zip(antenna_nums, antenna))\n",
    "\n",
    "# 0번 인덱스를 제외하고 거리값을 기준으로 오름차순으로 정렬\n",
    "sorted_result = sorted(result[1:], key=lambda x: x[1])\n",
    "\n",
    "# 정렬시킨 거리값중 첫 번째(최솟값)과 같은 값을 갖는 거리를 갖는 안테나 따로 담기\n",
    "res = [x[0] for x in sorted_result if x[1] == sorted_result[0][1]]\n",
    "\n",
    "# 같은 값을 갖는 여러개 안테나 위치 중 가장 작은 값의 안테나 위치 출력\n",
    "print(min(res))"
   ]
  },
  {
   "cell_type": "code",
   "execution_count": 6,
   "metadata": {},
   "outputs": [
    {
     "name": "stdout",
     "output_type": "stream",
     "text": [
      "6\n",
      "1 2 3 5 8 9\n",
      "3\n"
     ]
    }
   ],
   "source": [
    "#### 해설 풀이 #####\n",
    "N = int(input())\n",
    "antenna = list(map(int, input().split()))\n",
    "antenna.sort()\n",
    "\n",
    "# 최소 안테나 위치 값이 여러개일 경우 가장 작은 값을 출력 -> 중앙값으로 해결 됨!\n",
    "# index는 0부터 시작한다는 것 참고!\n",
    "'''\n",
    "if) 데이터 개수가 6개 일때,\n",
    "[FLOOR] : (6-1)//2 = 2 -> 2번 index -> 결국 3번째 값을 의미\n",
    "[CEIL] : (6-1)//2 + 1 = 3 -> 3번 index -> 결국 4번째 값을 의미\n",
    "--> 하지만 문제상에서 가장 작은 안테나 위치만을 출력하라고 했으므로 [FLOOR] 방식을 선택하면 된다!\n",
    "\n",
    "'''\n",
    "print(antenna[(N-1)//2])"
   ]
  },
  {
   "cell_type": "markdown",
   "metadata": {},
   "source": [
    "### 기출문제 3번 - 실패율\n",
    "- **Tuple을 사용하자!**"
   ]
  },
  {
   "cell_type": "code",
   "execution_count": 2,
   "metadata": {},
   "outputs": [
    {
     "name": "stdout",
     "output_type": "stream",
     "text": [
      "[3, 4, 2, 1, 5]\n"
     ]
    }
   ],
   "source": [
    "N = 5\n",
    "stages = [2, 1, 2, 6, 2, 4, 3, 3]\n",
    "\n",
    "answer = []\n",
    "length = len(stages)\n",
    "\n",
    "for i in range(1, N+1):\n",
    "    # 특정 스테이지에 머물고 있는 플레이어 수(특정 스테이지 못깬 사람들) 세기\n",
    "    count = stages.count(i)\n",
    "\n",
    "    # 만약 stages 배열 사이즈가 0이면 실패율은 그냥 0\n",
    "    if length == 0:\n",
    "        fail = 0\n",
    "    else:\n",
    "        fail = count / length\n",
    "    # answer에 특정 스테이지(i)에서의 실패율 데이터 넣기\n",
    "    answer.append((i, fail))\n",
    "    # (중요!) 다음 스테이지 실패율 측정시 현재 스테이지에 머무는 사람 수 만큼 length에서 제외\n",
    "    length -= count\n",
    "# 실패율이 높은 스테이지부터 내림차순으로 정렬\n",
    "answer = sorted(answer, key=lambda x: x[1], reverse=True)\n",
    "# 실패율이 같으면 작은 번호의 스테이지로 오름 차순 -> 자동으로 정렬됨\n",
    "answer = [i[0] for i in answer]\n",
    "print(answer)"
   ]
  },
  {
   "cell_type": "code",
   "execution_count": 3,
   "metadata": {},
   "outputs": [],
   "source": [
    "def solution(N, stages):\n",
    "    answer = []\n",
    "    length = len(stages)\n",
    "    \n",
    "    for i in range(1, N+1):\n",
    "        count = stages.count(i) # 특정 스테이지에 머무는 사람 수 세기\n",
    "        \n",
    "        # 숫자가 커지면 len(stages) 하면 런타임 에러 발생\n",
    "        if length == 0:\n",
    "            fail = 0\n",
    "        else:\n",
    "            fail = count / length\n",
    "        answer.append((i, fail)) # 스테이지-실패율 데이터 넣기\n",
    "        length -= count # 다음 스테이지 실패율 분모 재계산\n",
    "    # 실패율 내림차순으로 정렬\n",
    "    answer = sorted(answer, key=lambda x: x[1], reverse=True)\n",
    "    answer = [i[0] for i in answer]\n",
    "    return answer"
   ]
  },
  {
   "cell_type": "code",
   "execution_count": null,
   "metadata": {},
   "outputs": [],
   "source": []
  }
 ],
 "metadata": {
  "hide_input": false,
  "kernelspec": {
   "display_name": "Python 3",
   "language": "python",
   "name": "python3"
  },
  "language_info": {
   "codemirror_mode": {
    "name": "ipython",
    "version": 3
   },
   "file_extension": ".py",
   "mimetype": "text/x-python",
   "name": "python",
   "nbconvert_exporter": "python",
   "pygments_lexer": "ipython3",
   "version": "3.7.6"
  },
  "toc": {
   "base_numbering": 1,
   "nav_menu": {},
   "number_sections": true,
   "sideBar": true,
   "skip_h1_title": false,
   "title_cell": "Table of Contents",
   "title_sidebar": "Contents",
   "toc_cell": true,
   "toc_position": {},
   "toc_section_display": true,
   "toc_window_display": false
  },
  "varInspector": {
   "cols": {
    "lenName": 16,
    "lenType": 16,
    "lenVar": 40
   },
   "kernels_config": {
    "python": {
     "delete_cmd_postfix": "",
     "delete_cmd_prefix": "del ",
     "library": "var_list.py",
     "varRefreshCmd": "print(var_dic_list())"
    },
    "r": {
     "delete_cmd_postfix": ") ",
     "delete_cmd_prefix": "rm(",
     "library": "var_list.r",
     "varRefreshCmd": "cat(var_dic_list()) "
    }
   },
   "types_to_exclude": [
    "module",
    "function",
    "builtin_function_or_method",
    "instance",
    "_Feature"
   ],
   "window_display": false
  }
 },
 "nbformat": 4,
 "nbformat_minor": 4
}

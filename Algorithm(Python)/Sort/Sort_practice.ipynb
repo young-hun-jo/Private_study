{
 "cells": [
  {
   "cell_type": "markdown",
   "metadata": {
    "toc": true
   },
   "source": [
    "<h1>Table of Contents<span class=\"tocSkip\"></span></h1>\n",
    "<div class=\"toc\"><ul class=\"toc-item\"><li><span><a href=\"#실전문제---성적이-낮은-순서로-학생-출력하기\" data-toc-modified-id=\"실전문제---성적이-낮은-순서로-학생-출력하기-1\"><span class=\"toc-item-num\">1&nbsp;&nbsp;</span>실전문제 - 성적이 낮은 순서로 학생 출력하기</a></span></li><li><span><a href=\"#실전문제---두-배열의-원소-교체\" data-toc-modified-id=\"실전문제---두-배열의-원소-교체-2\"><span class=\"toc-item-num\">2&nbsp;&nbsp;</span>실전문제 - 두 배열의 원소 교체</a></span></li></ul></div>"
   ]
  },
  {
   "cell_type": "markdown",
   "metadata": {},
   "source": [
    "### 실전문제 - 성적이 낮은 순서로 학생 출력하기"
   ]
  },
  {
   "cell_type": "code",
   "execution_count": 1,
   "metadata": {},
   "outputs": [
    {
     "name": "stdout",
     "output_type": "stream",
     "text": [
      "2\n",
      "이순신 96\n",
      "홍길동 67\n",
      "홍길동 이순신 "
     ]
    }
   ],
   "source": [
    "N = int(input())\n",
    "lst = []\n",
    "\n",
    "for _ in range(N):\n",
    "    name, score = input().split()\n",
    "    score = int(score)\n",
    "    lst.append((name, score))\n",
    "\n",
    "sorted_lst = sorted(lst, key=lambda x: x[1])\n",
    "for i in sorted_lst:\n",
    "    print(i[0], end=' ')"
   ]
  },
  {
   "cell_type": "markdown",
   "metadata": {},
   "source": [
    "### 실전문제 - 두 배열의 원소 교체"
   ]
  },
  {
   "cell_type": "code",
   "execution_count": 2,
   "metadata": {},
   "outputs": [
    {
     "name": "stdout",
     "output_type": "stream",
     "text": [
      "5 3\n",
      "1 2 5 4 3\n",
      "5 5 6 6 9\n",
      "30\n"
     ]
    }
   ],
   "source": [
    "N, K = map(int, input().split())\n",
    "a = list(map(int, input().split()))\n",
    "b = list(map(int, input().split()))\n",
    "\n",
    "# a는 오름차순, b는 내림차순\n",
    "a = sorted(a)\n",
    "b = sorted(b, reverse=True)\n",
    "\n",
    "for i in range(K):\n",
    "    # a의 값이 더 클 수도 있으니깐! 조건 달기!!!!!\n",
    "    if a[i] < b[i]:\n",
    "        a[i] = b[i]\n",
    "    # 만약 똑같은 index끼리 비교하면서 a가 더 크다는 것은 더이상 b 나머지 값들 중 a의 어떤 값보다 큰 값은 없음을 의미하므로 바로 stop!(왜냐면 a는 오름차순, b는 내림차순이기 때문)\n",
    "    else:\n",
    "        break\n",
    "\n",
    "res = sum(a)\n",
    "print(res)"
   ]
  },
  {
   "cell_type": "code",
   "execution_count": null,
   "metadata": {},
   "outputs": [],
   "source": []
  }
 ],
 "metadata": {
  "hide_input": false,
  "kernelspec": {
   "display_name": "Python 3",
   "language": "python",
   "name": "python3"
  },
  "language_info": {
   "codemirror_mode": {
    "name": "ipython",
    "version": 3
   },
   "file_extension": ".py",
   "mimetype": "text/x-python",
   "name": "python",
   "nbconvert_exporter": "python",
   "pygments_lexer": "ipython3",
   "version": "3.7.6"
  },
  "toc": {
   "base_numbering": 1,
   "nav_menu": {},
   "number_sections": true,
   "sideBar": true,
   "skip_h1_title": false,
   "title_cell": "Table of Contents",
   "title_sidebar": "Contents",
   "toc_cell": true,
   "toc_position": {},
   "toc_section_display": true,
   "toc_window_display": false
  },
  "varInspector": {
   "cols": {
    "lenName": 16,
    "lenType": 16,
    "lenVar": 40
   },
   "kernels_config": {
    "python": {
     "delete_cmd_postfix": "",
     "delete_cmd_prefix": "del ",
     "library": "var_list.py",
     "varRefreshCmd": "print(var_dic_list())"
    },
    "r": {
     "delete_cmd_postfix": ") ",
     "delete_cmd_prefix": "rm(",
     "library": "var_list.r",
     "varRefreshCmd": "cat(var_dic_list()) "
    }
   },
   "types_to_exclude": [
    "module",
    "function",
    "builtin_function_or_method",
    "instance",
    "_Feature"
   ],
   "window_display": false
  }
 },
 "nbformat": 4,
 "nbformat_minor": 4
}

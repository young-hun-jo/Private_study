{
 "cells": [
  {
   "cell_type": "markdown",
   "metadata": {
    "toc": true
   },
   "source": [
    "<h1>Table of Contents<span class=\"tocSkip\"></span></h1>\n",
    "<div class=\"toc\"><ul class=\"toc-item\"><li><span><a href=\"#선택-정렬-파이썬으로-구현하기\" data-toc-modified-id=\"선택-정렬-파이썬으로-구현하기-1\"><span class=\"toc-item-num\">1&nbsp;&nbsp;</span>선택 정렬 파이썬으로 구현하기</a></span></li><li><span><a href=\"#삽입-정렬-파이썬으로-구현하기\" data-toc-modified-id=\"삽입-정렬-파이썬으로-구현하기-2\"><span class=\"toc-item-num\">2&nbsp;&nbsp;</span>삽입 정렬 파이썬으로 구현하기</a></span></li><li><span><a href=\"#퀵-정렬-파이썬으로-구현하기\" data-toc-modified-id=\"퀵-정렬-파이썬으로-구현하기-3\"><span class=\"toc-item-num\">3&nbsp;&nbsp;</span>퀵 정렬 파이썬으로 구현하기</a></span></li></ul></div>"
   ]
  },
  {
   "cell_type": "markdown",
   "metadata": {},
   "source": [
    "### 선택 정렬 파이썬으로 구현하기\n",
    "\n",
    "- 모든 원소를 다 비교!\n",
    "- 시간 복잡도 : ``O(N^2)``(이중 for 문이기 떄문)"
   ]
  },
  {
   "cell_type": "code",
   "execution_count": 2,
   "metadata": {},
   "outputs": [
    {
     "name": "stdout",
     "output_type": "stream",
     "text": [
      "[0, 1, 2, 3, 4, 5, 6, 7, 8, 9]\n"
     ]
    }
   ],
   "source": [
    "array = [7, 5, 9, 0, 3, 1, 6, 2, 4, 8]\n",
    "\n",
    "for i in range(len(array)):\n",
    "    # array를 선택 정렬하기 위해 0번 인덱스부터 가장 작은값들 순차적으로 비교 시이작!\n",
    "    min_idx = i\n",
    "    for j in range(i+1, len(array)):\n",
    "        # 비교숫자 중 가장 작은 값이 든 idx를 min_idx에 할당!\n",
    "        if array[j] < array[min_idx]:\n",
    "            min_idx = j\n",
    "    # 한 loop가 완료된 후 위치 스와프! -> 즉, array를 정렬했을 때 0번째,1번째,2번째...인덱스에 올 값들을 N번 시행하는 것!\n",
    "    array[i], array[min_idx] = array[min_idx], array[i]\n",
    "\n",
    "print(array)"
   ]
  },
  {
   "cell_type": "code",
   "execution_count": 1,
   "metadata": {},
   "outputs": [
    {
     "name": "stdout",
     "output_type": "stream",
     "text": [
      "[0, 1, 2, 3, 4, 5, 6, 7, 8, 9]\n"
     ]
    }
   ],
   "source": [
    "# 연습 1\n",
    "array = [7, 5, 9, 0, 3, 1, 6, 2, 4, 8]\n",
    "\n",
    "for i in range(len(array)):\n",
    "    min_idx = i\n",
    "    for j in range(i+1, len(array)):\n",
    "        if array[j] < array[min_idx]:\n",
    "            min_idx = j\n",
    "    # 위치 스와핑하기\n",
    "    array[i], array[min_idx] = array[min_idx], array[i]\n",
    "\n",
    "print(array)"
   ]
  },
  {
   "cell_type": "markdown",
   "metadata": {},
   "source": [
    "### 삽입 정렬 파이썬으로 구현하기\n",
    "\n",
    "- 가장 첫 번째 데이터는 정렬된 것으로 가정\n",
    "- 정렬할 데이터 위치에서 array의 0번째 인덱스까지 왼쪽으로 이동하면서 크고 작은거 비교함. 왼쪽 데이터가 크다면 이동, 작다면 그대로 멈추고 거기에 놓기\n",
    "- 그래서 주어진 데이터가 거의 정렬이 되어있다면 삽입 정렬은 매우 효율적으로 수행\n",
    "- 시간 복잡도 : ``O(N^2)``"
   ]
  },
  {
   "cell_type": "code",
   "execution_count": 4,
   "metadata": {},
   "outputs": [
    {
     "name": "stdout",
     "output_type": "stream",
     "text": [
      "[0, 1, 2, 3, 4, 5, 6, 7, 8, 9]\n"
     ]
    }
   ],
   "source": [
    "# 삽입 정렬 -> 첫 번째 데이터는 정렬되었다고 가정함!\n",
    "array = [7, 5, 9, 0, 3, 1, 6, 2, 4, 8]\n",
    "\n",
    "for i in range(1, len(array)):\n",
    "    for j in range(i, 0, -1):  # i부터 1까지 -1 더해줌 = i번째 index부터 1번 인덱스까지 왼쪽으로 한칸씩 이동\n",
    "        if array[j] < array[j-1]:   # 왼쪽 값이 더 크다면 스와핑!\n",
    "            array[j-1], array[j] = array[j], array[j-1]\n",
    "        else:  # 왼쪽 값이 더 작다면 그대로 멈춤!\n",
    "            break\n",
    "\n",
    "print(array)"
   ]
  },
  {
   "cell_type": "code",
   "execution_count": 3,
   "metadata": {},
   "outputs": [
    {
     "name": "stdout",
     "output_type": "stream",
     "text": [
      "[0, 1, 2, 3, 4, 5, 6, 7, 8, 9]\n"
     ]
    }
   ],
   "source": [
    "# 연습 1\n",
    "array = [7, 5, 9, 0, 3, 1, 6, 2, 4, 8]\n",
    "\n",
    "for i in range(1, len(array)): # 0번째 데이터는 정렬된 것으로 가정\n",
    "    for j in range(i, 0, -1): # i번째부터 1번째 idx까지 왼쪽으로 이동\n",
    "        if array[j-1] > array[j]:\n",
    "            array[j-1], array[j] = array[j], array[j-1]\n",
    "        else:\n",
    "            break\n",
    "            \n",
    "print(array)"
   ]
  },
  {
   "cell_type": "markdown",
   "metadata": {},
   "source": [
    "### 퀵 정렬 파이썬으로 구현하기\n",
    "\n",
    "- 첫 번째 데이터를 Pivot으로 설정\n",
    "- Pivot을 기준으로 왼쪽에서 가장 먼저 Pivot보다 큰 값이 나타나는 데이터와 오른쪽에서 가장 먼저 Pivot보다 작은 값이 나타나는 데이터 두개를 선정. 그리고 교체\n",
    "- 이 때 왼쪽, 오른쪽 index가 엇갈릴 경우) **오른쪽 즉, Pivot보다 작은 데이터와 Pivot을 교환!** => 이렇게 함으로써 분할(파티션)이 이루어짐\n",
    "- 그리고 Pivot기준으로 분할된 왼쪽, 오른쪽 각각 리스트들을 각각 퀵 정렬 재 수행. 각 리스트들의 첫 번째 요소를 Pivot으로 재선정(이 때 재귀함수가 구현됨!)\n",
    "- 시간 복잡도 : ``O(NlogN)``\n",
    "- 하지만 평균 시간 복잡도이지 최악의 경우 ``O(N^2)``까지 가게 됨. 이 때 최악의 경우라 함은 **주어진 데이터가 이미 거의 정렬이 되어있는 경우**를 의미"
   ]
  },
  {
   "cell_type": "code",
   "execution_count": 7,
   "metadata": {},
   "outputs": [
    {
     "name": "stdout",
     "output_type": "stream",
     "text": [
      "[0, 1, 2, 3, 4, 5, 6, 7, 8, 9]\n"
     ]
    }
   ],
   "source": [
    "#### 계속 연습!!!! ####\n",
    "#퀵 정렬\n",
    "array = [5, 7, 9, 0, 3, 1, 6, 2, 4, 8]\n",
    "\n",
    "\n",
    "def quick_sort(array, start, end):\n",
    "    # 재귀함수를 구현 시 start가 end가 크거나 같다면(커야 하는 이유는 원소가 1개라서 start=0이고 end=-1일 경우가 있기 때문)\n",
    "    # 원소가 1개밖에 없다는 것이므로 이것은 곧 정렬이 완성되었다는 것을 의미!\n",
    "    if start >= end:\n",
    "        return \n",
    "    pivot = start  # array의 첫번째 요소로 Pivot을 지정\n",
    "    left = start + 1\n",
    "    right = end\n",
    "    # left, right index가 엇갈릴 경우 Stop\n",
    "    while left <= right:\n",
    "        # left가 end(끝 인덱스)보다 작거나 같으면서 left쪽에서 Pivot보다 큰 데이터를 찾을 때 까지 반복\n",
    "        while left <= end and array[left] <= array[pivot]:\n",
    "            left += 1\n",
    "        # right가 start(pivot+1인덱스) 보다 크면서(크거나 '같으면'안되는 이유는 뭔가?) \n",
    "        # right쪽에서 Pivot보다 작은 데이터를 찾을 때까지 반복\n",
    "        while right > start and array[right] >= array[pivot]:\n",
    "            right -= 1   # 인덱스 기준 왼쪽으로 이동해야 하니까 -1 임!\n",
    "\n",
    "        # left, right +1, -1한 후 서로 엇갈릴 경우 취해야 할 액션들\n",
    "        if right < left: # 엇갈린 경우 작은 데이터와 pivot 데이터 교체\n",
    "            array[pivot], array[right] = array[right], array[pivot]\n",
    "        else: # 엇갈리지 않은 경우는 left, right 데이터 교체\n",
    "            array[left], array[right] = array[right], array[left]\n",
    "\n",
    "    # 엇갈린 경우 pviot 기준으로 분할해서 양 옆 리스트들 퀵 정렬 재귀함수 호출 시작 \n",
    "    # => 분할했을 시 right 인덱스에 pivot값이 존재함! 따라서 하단의 재귀함수 인자에 right를 기준으로 설정하는 것임!\n",
    "    quick_sort(array, start, right-1)\n",
    "    quick_sort(array, right+1, end)\n",
    "\n",
    "quick_sort(array, 0, len(array)-1)\n",
    "print(array)"
   ]
  },
  {
   "cell_type": "code",
   "execution_count": 8,
   "metadata": {},
   "outputs": [
    {
     "name": "stdout",
     "output_type": "stream",
     "text": [
      "[0, 1, 2, 3, 4, 5, 5, 6, 7, 8, 9]\n"
     ]
    }
   ],
   "source": [
    "# 파이썬 장점을 활용해 재구현\n",
    "# 퀵 정렬\n",
    "array = [5, 7, 9, 0, 3, 1, 6, 2, 4, 8, 5]\n",
    "\n",
    "def quick_sort(array):\n",
    "    if len(array) <= 1:\n",
    "        return array\n",
    "    \n",
    "    pivot = array[0]\n",
    "    tail = array[1:]\n",
    "    \n",
    "    # 이 때 왼쪽이라 함은 pivot이라는 기준하에 두 개의 파티션으로 갈라지고 왼쪽 부분은 pivot보다 모두 작은 값을 의미\n",
    "    left_side = [x for x in tail if x <= pivot]\n",
    "    right_side = [x for x in tail if x > pivot]\n",
    "    \n",
    "    return quick_sort(left_side) + [pivot] + quick_sort(right_side)\n",
    "\n",
    "res = quick_sort(array)\n",
    "print(res)"
   ]
  },
  {
   "cell_type": "code",
   "execution_count": null,
   "metadata": {},
   "outputs": [],
   "source": []
  }
 ],
 "metadata": {
  "hide_input": false,
  "kernelspec": {
   "display_name": "Python 3",
   "language": "python",
   "name": "python3"
  },
  "language_info": {
   "codemirror_mode": {
    "name": "ipython",
    "version": 3
   },
   "file_extension": ".py",
   "mimetype": "text/x-python",
   "name": "python",
   "nbconvert_exporter": "python",
   "pygments_lexer": "ipython3",
   "version": "3.7.6"
  },
  "toc": {
   "base_numbering": 1,
   "nav_menu": {},
   "number_sections": true,
   "sideBar": true,
   "skip_h1_title": false,
   "title_cell": "Table of Contents",
   "title_sidebar": "Contents",
   "toc_cell": true,
   "toc_position": {},
   "toc_section_display": true,
   "toc_window_display": false
  },
  "varInspector": {
   "cols": {
    "lenName": 16,
    "lenType": 16,
    "lenVar": 40
   },
   "kernels_config": {
    "python": {
     "delete_cmd_postfix": "",
     "delete_cmd_prefix": "del ",
     "library": "var_list.py",
     "varRefreshCmd": "print(var_dic_list())"
    },
    "r": {
     "delete_cmd_postfix": ") ",
     "delete_cmd_prefix": "rm(",
     "library": "var_list.r",
     "varRefreshCmd": "cat(var_dic_list()) "
    }
   },
   "types_to_exclude": [
    "module",
    "function",
    "builtin_function_or_method",
    "instance",
    "_Feature"
   ],
   "window_display": false
  }
 },
 "nbformat": 4,
 "nbformat_minor": 4
}

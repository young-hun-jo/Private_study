{
 "cells": [
  {
   "cell_type": "markdown",
   "metadata": {},
   "source": [
    "### 11034번 - 캥거루 세마리 2"
   ]
  },
  {
   "cell_type": "code",
   "execution_count": 1,
   "metadata": {},
   "outputs": [
    {
     "name": "stdout",
     "output_type": "stream",
     "text": [
      "3 5 9\n",
      "3\n"
     ]
    }
   ],
   "source": [
    "### 내 풀이 ###\n",
    "a, b, c = map(int, input().split())\n",
    "cnt = 0\n",
    "# b값을 기준으로 a, c 방향 중 사이의 값이 어떤 곳이 더 많은지 비교\n",
    "a_cnt = b - a - 1\n",
    "c_cnt = c - b - 1\n",
    "while True:\n",
    "    # a,b,c 연속적인 값일 때는 break!\n",
    "    if b == a + 1 and c == a + 2:\n",
    "        break\n",
    "    # b와 c사이의 정수개수가 많을 때\n",
    "    if a_cnt < c_cnt:\n",
    "        a, b = b, b + 1\n",
    "        cnt += 1\n",
    "    # a와 c사이의 정수개수가 많거나 개수가 같을 때\n",
    "    else:\n",
    "        c, b = b, b - 1\n",
    "        cnt += 1\n",
    "print(cnt)"
   ]
  },
  {
   "cell_type": "markdown",
   "metadata": {},
   "source": [
    "- 연속해서 줄 입력받을 땐 ``sys.stdin.readline()``과 ``try ~ except``구문 사용하기!"
   ]
  },
  {
   "cell_type": "code",
   "execution_count": 2,
   "metadata": {},
   "outputs": [
    {
     "name": "stdout",
     "output_type": "stream",
     "text": [
      "3 5 9\n",
      "3\n"
     ]
    }
   ],
   "source": [
    "### 모법 답안 ###\n",
    "import sys\n",
    "\n",
    "while True:\n",
    "    try:\n",
    "        a, b, c = map(int, sys.stdin.readline().split())\n",
    "        a_cnt = b - a - 1\n",
    "        c_cnt = c - b - 1\n",
    "        print(max(a_cnt, c_cnt))\n",
    "    except:\n",
    "        break"
   ]
  },
  {
   "cell_type": "markdown",
   "metadata": {},
   "source": [
    "### 1434번 - 책 정리"
   ]
  },
  {
   "cell_type": "code",
   "execution_count": 1,
   "metadata": {},
   "outputs": [
    {
     "name": "stdout",
     "output_type": "stream",
     "text": [
      "3 3\n",
      "4 5 6\n",
      "7 7 7\n",
      "-6\n"
     ]
    }
   ],
   "source": [
    "## 나의 풀이 = 남의 풀이 ##\n",
    "box, book = map(int, input().split())\n",
    "box_v = list(map(int, input().split()))\n",
    "book_v = list(map(int, input().split()))\n",
    "used_box_v =sum(box_v) - sum(book_v)\n",
    "\n",
    "print(used_box_v)"
   ]
  },
  {
   "cell_type": "markdown",
   "metadata": {},
   "source": [
    "### 2810번 - 컵홀더"
   ]
  },
  {
   "cell_type": "code",
   "execution_count": 1,
   "metadata": {},
   "outputs": [],
   "source": [
    "## 내 풀이 -> 오류! ##\n",
    "# 좌석이 1개 일때, 컵홀더가 2개로 나옴. 즉, '컵홀더 개수 > 사람 수' 이 경우를 고려하지 못함..!\n",
    "n_seats = int(input())\n",
    "info_seats = input()\n",
    "\n",
    "S_cnt = sum([1 for s in info_seats if s == 'S'])\n",
    "L_cnt = sum([1 for l in info_seats if l == 'L'])\n",
    "\n",
    "max_total = (S_cnt + 1) + (L_cnt//2)\n",
    "print(max_total)"
   ]
  },
  {
   "cell_type": "code",
   "execution_count": 3,
   "metadata": {},
   "outputs": [
    {
     "name": "stdout",
     "output_type": "stream",
     "text": [
      "1\n",
      "S\n",
      "1\n"
     ]
    }
   ],
   "source": [
    "### 올바른 풀이 ###\n",
    "n_seats = int(input())\n",
    "info_seats = input()\n",
    "\n",
    "# Idea)커플석 LL이 2개 이상일 때, 한 명이 컵홀더를 사용하지 못함\n",
    "# Native Python) string.count('pattern') 사용 가능!\n",
    "LL_count = info_seats.count('LL')\n",
    "\n",
    "if LL_count <= 1:\n",
    "    print(len(info_seats))\n",
    "else:\n",
    "    print(len(info_seats) - LL_count + 1)"
   ]
  },
  {
   "cell_type": "code",
   "execution_count": null,
   "metadata": {},
   "outputs": [],
   "source": []
  }
 ],
 "metadata": {
  "hide_input": false,
  "kernelspec": {
   "display_name": "Python 3",
   "language": "python",
   "name": "python3"
  },
  "language_info": {
   "codemirror_mode": {
    "name": "ipython",
    "version": 3
   },
   "file_extension": ".py",
   "mimetype": "text/x-python",
   "name": "python",
   "nbconvert_exporter": "python",
   "pygments_lexer": "ipython3",
   "version": "3.7.6"
  },
  "toc": {
   "base_numbering": 1,
   "nav_menu": {},
   "number_sections": true,
   "sideBar": true,
   "skip_h1_title": false,
   "title_cell": "Table of Contents",
   "title_sidebar": "Contents",
   "toc_cell": false,
   "toc_position": {},
   "toc_section_display": true,
   "toc_window_display": false
  },
  "varInspector": {
   "cols": {
    "lenName": 16,
    "lenType": 16,
    "lenVar": 40
   },
   "kernels_config": {
    "python": {
     "delete_cmd_postfix": "",
     "delete_cmd_prefix": "del ",
     "library": "var_list.py",
     "varRefreshCmd": "print(var_dic_list())"
    },
    "r": {
     "delete_cmd_postfix": ") ",
     "delete_cmd_prefix": "rm(",
     "library": "var_list.r",
     "varRefreshCmd": "cat(var_dic_list()) "
    }
   },
   "types_to_exclude": [
    "module",
    "function",
    "builtin_function_or_method",
    "instance",
    "_Feature"
   ],
   "window_display": false
  }
 },
 "nbformat": 4,
 "nbformat_minor": 4
}

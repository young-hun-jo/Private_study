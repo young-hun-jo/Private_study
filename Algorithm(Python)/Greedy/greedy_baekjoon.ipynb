{
 "cells": [
  {
   "cell_type": "markdown",
   "metadata": {},
   "source": [
    "### 11034번 - 캥거루 세마리 2"
   ]
  },
  {
   "cell_type": "code",
   "execution_count": null,
   "metadata": {},
   "outputs": [],
   "source": [
    "### 내 풀이 ###\n",
    "a, b, c = map(int, input().split())\n",
    "cnt = 0\n",
    "# b값을 기준으로 a, c 방향 중 사이의 값이 어떤 곳이 더 많은지 비교\n",
    "a_cnt = b - a - 1\n",
    "c_cnt = c - b - 1\n",
    "while True:\n",
    "    # a,b,c 연속적인 값일 때는 break!\n",
    "    if b == a + 1 and c == a + 2:\n",
    "        break\n",
    "    # b와 c사이의 정수개수가 많을 때\n",
    "    if a_cnt < c_cnt:\n",
    "        a, b = b, b + 1\n",
    "        cnt += 1\n",
    "    # a와 c사이의 정수개수가 많거나 개수가 같을 때\n",
    "    else:\n",
    "        c, b = b, b - 1\n",
    "        cnt += 1\n",
    "print(cnt)"
   ]
  },
  {
   "cell_type": "markdown",
   "metadata": {},
   "source": [
    "- 연속해서 줄 입력받을 땐 ``sys.stdin.readline()``과 ``try ~ except``구문 사용하기!"
   ]
  },
  {
   "cell_type": "code",
   "execution_count": null,
   "metadata": {},
   "outputs": [],
   "source": [
    "### 모법 답안 ###\n",
    "import sys\n",
    "\n",
    "while True:\n",
    "    try:\n",
    "        a, b, c = map(int, sys.stdin.readline().split())\n",
    "        a_cnt = b - a - 1\n",
    "        c_cnt = c - b - 1\n",
    "        print(max(a_cnt, c_cnt))\n",
    "    except:\n",
    "        break"
   ]
  },
  {
   "cell_type": "markdown",
   "metadata": {},
   "source": [
    "### 1434번 - 책 정리"
   ]
  },
  {
   "cell_type": "code",
   "execution_count": null,
   "metadata": {},
   "outputs": [],
   "source": [
    "## 나의 풀이 = 남의 풀이 ##\n",
    "box, book = map(int, input().split())\n",
    "box_v = list(map(int, input().split()))\n",
    "book_v = list(map(int, input().split()))\n",
    "used_box_v =sum(box_v) - sum(book_v)\n",
    "\n",
    "print(used_box_v)"
   ]
  },
  {
   "cell_type": "markdown",
   "metadata": {},
   "source": [
    "### 2810번 - 컵홀더"
   ]
  },
  {
   "cell_type": "code",
   "execution_count": null,
   "metadata": {},
   "outputs": [],
   "source": [
    "## 내 풀이 -> 오류! ##\n",
    "# 좌석이 1개 일때, 컵홀더가 2개로 나옴. 즉, '컵홀더 개수 > 사람 수' 이 경우를 고려하지 못함..!\n",
    "n_seats = int(input())\n",
    "info_seats = input()\n",
    "\n",
    "S_cnt = sum([1 for s in info_seats if s == 'S'])\n",
    "L_cnt = sum([1 for l in info_seats if l == 'L'])\n",
    "\n",
    "max_total = (S_cnt + 1) + (L_cnt//2)\n",
    "print(max_total)"
   ]
  },
  {
   "cell_type": "code",
   "execution_count": null,
   "metadata": {},
   "outputs": [],
   "source": [
    "### 올바른 풀이 ###\n",
    "n_seats = int(input())\n",
    "info_seats = input()\n",
    "\n",
    "# Idea)커플석 LL이 2개 이상일 때, 한 명이 컵홀더를 사용하지 못함\n",
    "# Native Python) string.count('pattern') 사용 가능!\n",
    "LL_count = info_seats.count('LL')\n",
    "\n",
    "if LL_count <= 1:\n",
    "    print(len(info_seats))\n",
    "else:\n",
    "    print(len(info_seats) - LL_count + 1)"
   ]
  },
  {
   "cell_type": "markdown",
   "metadata": {},
   "source": [
    "### 5585번 - 거스름돈"
   ]
  },
  {
   "cell_type": "code",
   "execution_count": null,
   "metadata": {},
   "outputs": [],
   "source": [
    "paid = int(input())\n",
    "remain = 1000 - paid\n",
    "money = [500, 100, 50, 10, 5, 1]\n",
    "cnt = 0\n",
    "for m in money:\n",
    "    cnt += remain // m\n",
    "    remain = remain % m\n",
    "print(cnt)"
   ]
  },
  {
   "cell_type": "markdown",
   "metadata": {},
   "source": [
    "### 17224번 - APC는 왜 서브테스크 대회가 되었을까?"
   ]
  },
  {
   "cell_type": "code",
   "execution_count": null,
   "metadata": {},
   "outputs": [],
   "source": [
    "### 나의 풀이 - 100점만 얻음 ###\n",
    "'''\n",
    "N : 문제 개수\n",
    "L : 현정이의 문제 역량(L보다 작거나 같은 문제 풀이 가능)\n",
    "K : 시간 내 현정이가 풀 수 있는 문제 최대 개수\n",
    "'''\n",
    "N, L, K = map(int, input().split())\n",
    "score = 0\n",
    "# N개의 문제 개수 입력됨\n",
    "for _ in range(N):\n",
    "    sub1, sub2 = map(int, input().split())\n",
    "    # 현정이가 sub1,2 둘다 해결할 수 있을 경우 -> 140\n",
    "    if L >= sub1 and L >= sub2:\n",
    "        score += 140\n",
    "    # 현정이가 sub1만 해결할 수 있을 경우 -> 100\n",
    "    elif L >= sub1 and L < sub2:\n",
    "        score += 100\n",
    "    # 현정이가 sub1, sub2 둘 다 해결 못할 경우\n",
    "    else:\n",
    "        score += 0\n",
    "\n",
    "print(score)"
   ]
  },
  {
   "cell_type": "code",
   "execution_count": null,
   "metadata": {},
   "outputs": [],
   "source": [
    "### 모범 답안 ###\n",
    "\n",
    "N, L, K = map(int, input().split())\n",
    "\n",
    "## 우선 현정이가 풀 수 있는 문제 최댓값 상관말고 문제 중 현정이 역량 기준으로 풀 수 있는 문제들 기록 ##\n",
    "easy, hard = 0, 0\n",
    "for _ in range(N):\n",
    "    sub1, sub2 = map(int, input().split())\n",
    "    # sub2 맞추면 sub1까지 맞춘걸로 침!\n",
    "    if sub2 <= L:\n",
    "        hard += 1\n",
    "    # sub1만 맞추었을 경우에만 +1됨!!!\n",
    "    elif sub1 <= L:\n",
    "        easy += 1\n",
    "        \n",
    "# 풀 수 있는 문제 최댓값 상관없이 현정이가 풀 수 있는 sub2난이도 VS 현정이가 풀 수 있는 최대문제 개수 중 최솟값 설정\n",
    "ans = min(hard, K) * 140\n",
    "# 만약 주어진 문제들 중 sub2난이도 문제가 현정이가 풀 수 있는 문제개수 최댓값보다 작은 경우 처리!\n",
    "if hard < K:\n",
    "    # 예를 들어, 최대 5개문제를 풀 수 있는데, 3개의 sub2난이도 모두 해결가능하다면 easy값은 0이됨! 왜냐면 easy는 sub1만 맞출 역량이 될 경우만 +1 되기 때문!\n",
    "    ans += min(K - hard, easy) * 100\n",
    "print(ans)"
   ]
  },
  {
   "cell_type": "markdown",
   "metadata": {},
   "source": [
    "### 18238번 - ZOAC 2"
   ]
  },
  {
   "cell_type": "code",
   "execution_count": null,
   "metadata": {},
   "outputs": [],
   "source": [
    "### 모범 답안 ### => 이해안되면 손으로 직접 그려보기..\n",
    "# idea) 순환되는 즉 Z->A이기 때문에.. 26이라는 숫자 사용하기..\n",
    "\n",
    "# 문자열 입력 -> loop가능\n",
    "chars = input()\n",
    "\n",
    "start = 'A'\n",
    "count = 0\n",
    "for char in chars:\n",
    "    left = ord(start) - ord(char)\n",
    "    right = ord(char) - ord(start)\n",
    "    \n",
    "    if left < 0:\n",
    "        left += 26\n",
    "    if right < 0:\n",
    "        right += 26\n",
    "    count += min(left, right)\n",
    "    start = char\n",
    "\n",
    "print(count)"
   ]
  },
  {
   "cell_type": "markdown",
   "metadata": {},
   "source": [
    "### 2828번 - 사과 담기 게임"
   ]
  },
  {
   "cell_type": "code",
   "execution_count": null,
   "metadata": {},
   "outputs": [],
   "source": [
    "## terminal 에서 py파일로 실행하기 ##\n",
    "\n",
    "import sys\n",
    "N, M = map(int, sys.stdin.readline().rstrip('\\n').split())\n",
    "J = int(sys.stdin.readline().rstrip('\\n'))\n",
    "nums = [int(sys.stdin.readline().rstrip('\\n')) for _ in range(J)]\n",
    "\n",
    "count = 0\n",
    "size = M - 1 # 시작점이 1이기 때문!\n",
    "left = 1\n",
    "right = left + size\n",
    "\n",
    "for n in nums:\n",
    "    if (left <= n and n <= right):\n",
    "        continue\n",
    "    # 오른쪽으로 이동할 때\n",
    "    if right < n:\n",
    "        temp = abs(n - right)\n",
    "        right += temp\n",
    "        left += temp\n",
    "        count += temp\n",
    "    # 왼쪽으로 이동할 때\n",
    "    if n < left:\n",
    "        temp = abs(left - n)\n",
    "        right -= temp\n",
    "        left -= temp\n",
    "        count += temp\n",
    "print(count)"
   ]
  },
  {
   "cell_type": "markdown",
   "metadata": {},
   "source": [
    "### 2839번 - 설탕 배달"
   ]
  },
  {
   "cell_type": "code",
   "execution_count": null,
   "metadata": {},
   "outputs": [],
   "source": [
    "N = int(input())\n",
    "count = 0\n",
    "'''\n",
    "Idea) 가장 큰 수로 나누되 다른 작은 수로 감소시키면서 count 하기..\n",
    "'''\n",
    "while True:\n",
    "    if (N % 5 == 0):\n",
    "        count += N // 5\n",
    "        print(count)\n",
    "        break\n",
    "    N -= 3\n",
    "    count += 1\n",
    "    if N < 0:\n",
    "        print(-1)\n",
    "        break"
   ]
  },
  {
   "cell_type": "markdown",
   "metadata": {},
   "source": [
    "### 15904번 - UCPC의 약자는 무엇일까?"
   ]
  },
  {
   "cell_type": "code",
   "execution_count": null,
   "metadata": {},
   "outputs": [],
   "source": [
    "sentence = input().replace(' ', '')\n",
    "check_lst = ['U', 'C', 'P', 'C']\n",
    "check = True\n",
    "\n",
    "for i in range(len(check_lst)):\n",
    "    # UCPC 문자 하나씩 문장에 있는지 찾아내기\n",
    "    if check_lst[i] in sentence:\n",
    "        check = True\n",
    "        # find('str') => index를 반환 \n",
    "        idx = sentence.find(check_lst[i])\n",
    "        # senetence의 해당 index 다음부터 C문자열 찾기.. 그다음은 P.. 다음은 C..\n",
    "        sentence = sentence[idx+1:]\n",
    "    # UCPC 중 하나라도 없다면 hate!\n",
    "    else:\n",
    "        check = False\n",
    "        break\n",
    "\n",
    "if check == True:\n",
    "    print(\"I love UCPC\")\n",
    "else:\n",
    "    print(\"I hate UCPC\")"
   ]
  },
  {
   "cell_type": "code",
   "execution_count": null,
   "metadata": {},
   "outputs": [],
   "source": [
    "## 다른사람 풀이 ##\n",
    "import sys\n",
    "sentence = sys.stdin.readline()\n",
    "chars = ['U', 'C', 'P', 'C']\n",
    "idx = 0\n",
    "\n",
    "for s in sentence:\n",
    "    # 만약 chars에 들어있는 문자 리스트 요소 순서대로 존재하면 index + 1 시키기\n",
    "    if s == chars[idx]:\n",
    "        idx += 1\n",
    "    # chars 마지막인덱스가 3이기 때문에 3+1=4가 되면 UCPC까지 모두 돈거!\n",
    "    if idx == 4:\n",
    "        break\n",
    "\n",
    "print('I %s UCPC' % ('love' if idx == 4 else 'hate'))"
   ]
  },
  {
   "cell_type": "markdown",
   "metadata": {},
   "source": [
    "### 17262번 - 팬덤이 넘쳐흘러"
   ]
  },
  {
   "cell_type": "code",
   "execution_count": null,
   "metadata": {},
   "outputs": [],
   "source": [
    "import sys\n",
    "\"\"\"\n",
    "Idea) 가장 늦게 등교한 학생의 시간 - 가장 빨리 하교한 학생의 시간!\n",
    "\"\"\"\n",
    "N = int(sys.stdin.readline())\n",
    "fans = []\n",
    "for _ in range(N):\n",
    "    fans.append(list(map(int, sys.stdin.readline().split())))\n",
    "# 등교한 시간 순으로 학생들 정렬\n",
    "go = sorted(fans, key=lambda x: x[0])\n",
    "back = sorted(fans, key=lambda x: x[1])\n",
    "\n",
    "# 가장 늦게 등교한 학생의 시간 - 가장 빨리 하교한 학생의 시간\n",
    "res = go[-1][0] - back[0][1]\n",
    "# res값이 음수면 소요시간 0!\n",
    "if res < 0:\n",
    "    print(0)\n",
    "else:\n",
    "    print(res)"
   ]
  },
  {
   "cell_type": "code",
   "execution_count": 3,
   "metadata": {},
   "outputs": [
    {
     "name": "stdout",
     "output_type": "stream",
     "text": [
      "3\n",
      "1 4\n",
      "2 4\n",
      "9 10\n",
      "5\n"
     ]
    }
   ],
   "source": [
    "N = int(input())\n",
    "fans = []\n",
    "for _ in range(N):\n",
    "    fan = list(map(int, input().split()))\n",
    "    fans.append(fan)\n",
    "\n",
    "# 등교\n",
    "go = sorted(fans, key=lambda x: x[0])\n",
    "# 하교\n",
    "back = sorted(fans, key=lambda x: x[1])\n",
    "\n",
    "res = go[-1][0] - back[0][1]\n",
    "\n",
    "if res < 0:\n",
    "    print(0)\n",
    "else:\n",
    "    print(res)"
   ]
  },
  {
   "cell_type": "markdown",
   "metadata": {},
   "source": [
    "### 1439번 - 뒤집기"
   ]
  },
  {
   "cell_type": "code",
   "execution_count": 1,
   "metadata": {},
   "outputs": [
    {
     "name": "stdout",
     "output_type": "stream",
     "text": [
      "101010\n",
      "3\n"
     ]
    }
   ],
   "source": [
    "# 첫 번째 풀이 \n",
    "S = input()\n",
    "count = 0\n",
    "\n",
    "for i in range(len(S)-1):\n",
    "    if S[i] != S[i+1]:\n",
    "        count += 1\n",
    "print((count+1) // 2)"
   ]
  },
  {
   "cell_type": "code",
   "execution_count": 2,
   "metadata": {},
   "outputs": [
    {
     "name": "stdout",
     "output_type": "stream",
     "text": [
      "01001010110101011\n",
      "7\n"
     ]
    }
   ],
   "source": [
    "# 두 번째 풀이\n",
    "S = input()\n",
    "change = [S[0]]\n",
    "\n",
    "for i in range(1, len(S)):\n",
    "    if S[i] != change[-1]:\n",
    "        change.append(S[i])\n",
    "\n",
    "zero_cnt = change.count('0')\n",
    "one_cnt = change.count('1')\n",
    "print(min(zero_cnt, one_cnt))"
   ]
  },
  {
   "cell_type": "markdown",
   "metadata": {},
   "source": [
    "### 20117번 - 호반우 상인의 이상한 품질 계산법"
   ]
  },
  {
   "cell_type": "code",
   "execution_count": null,
   "metadata": {},
   "outputs": [],
   "source": [
    "### 내 풀이 ###\n",
    "import sys\n",
    "N = int(sys.stdin.readline())\n",
    "Q = list(map(int, sys.stdin.readline().split()))\n",
    "# 정렬\n",
    "Q = sorted(Q)\n",
    "profits = []\n",
    "last_idx = len(Q)-1\n",
    "\n",
    "# 길이가 짝수일 때\n",
    "if len(Q) % 2 == 0:\n",
    "    for i in range(0, int(len(Q)/2)):\n",
    "        j = last_idx - i\n",
    "        profit = Q[j] * 2\n",
    "        profits.append(profit)\n",
    "# 길이가 홀수일 때\n",
    "else:\n",
    "    for i in range(0, int(len(Q)/2) + 1):\n",
    "        j = last_idx - i\n",
    "        # 가장 가운데 index에 있는 값은 1번만 더하기!\n",
    "        if i == j:\n",
    "            profit = Q[j]\n",
    "            profits.append(profit)\n",
    "        # 가운데 제외는 뒤의 index(큰 값)값을 2번 더하기\n",
    "        else:\n",
    "            profit = Q[j] * 2\n",
    "            profits.append(profit)\n",
    "\n",
    "res = sum(profits)\n",
    "print(res)"
   ]
  },
  {
   "cell_type": "markdown",
   "metadata": {},
   "source": [
    "### 2720번 세탁소 사장 동혁"
   ]
  },
  {
   "cell_type": "code",
   "execution_count": null,
   "metadata": {},
   "outputs": [],
   "source": [
    "### 내가 푼 풀이 ###\n",
    "import sys\n",
    "T = int(sys.stdin.readline())\n",
    "C = [int(sys.stdin.readline()) for _ in range(T)]\n",
    "coins =[25, 10, 5, 1]\n",
    "count = [0, 0, 0, 0]\n",
    "\n",
    "for c in C:\n",
    "    for i, coin in enumerate(coins):\n",
    "        count[i] = str(c // coin)\n",
    "        c %= coin\n",
    "    print(' '.join(count))"
   ]
  },
  {
   "cell_type": "markdown",
   "metadata": {},
   "source": [
    "### 1783번 병든 나이트"
   ]
  },
  {
   "cell_type": "code",
   "execution_count": null,
   "metadata": {},
   "outputs": [],
   "source": [
    "import sys\n",
    "'''\n",
    "idea) 이동 방법에 대한 제약이 없다는 것 = 1,2,3,4 한 번씩 무조건 수행 안해도 됨!\n",
    "즉, 1번만 계속하던 뭐하던 상관없음!!\n",
    "'''\n",
    "N, M = map(int, sys.stdin.readline().split())\n",
    "\n",
    "if N == 1:\n",
    "    count = 1\n",
    "elif N == 2:\n",
    "    count = min(4, (M-1)//2 + 1)\n",
    "elif N >= 3 and M < 7:\n",
    "    count = min(4, M)\n",
    "else:\n",
    "    count = (2 + 1 + (M - 5))\n",
    "print(count)"
   ]
  },
  {
   "cell_type": "markdown",
   "metadata": {},
   "source": [
    "### 2891번 카약과 강풍"
   ]
  },
  {
   "cell_type": "code",
   "execution_count": null,
   "metadata": {},
   "outputs": [],
   "source": [
    "import sys\n",
    "N, S, R = map(int, sys.stdin.readline().split())\n",
    "broken = list(map(int, sys.stdin.readline().split()))\n",
    "spare = list(map(int, sys.stdin.readline().split()))\n",
    "\n",
    "no_start = S\n",
    "\n",
    "for i in range(S):\n",
    "    # 여분 카약이 없을 때!(빈 리스트는 False임!)\n",
    "    if not spare:\n",
    "        break\n",
    "    for j in range(R):\n",
    "        if broken[i] == spare[j] or broken[i] == spare[j]+1 or broken[i] == spare[j]-1:\n",
    "            no_start -= 1\n",
    "            spare[j] = -1 # 여분의 카약 사용한 인덱스 값에 -1 넣기\n",
    "            break # 이걸 만나면 첫 번째 loop문으로 빠져나감!(즉, i+1번째로 바로 넘어감!)\n",
    "print(no_start)"
   ]
  },
  {
   "cell_type": "markdown",
   "metadata": {},
   "source": [
    "### 4796번 캠핑"
   ]
  },
  {
   "cell_type": "code",
   "execution_count": null,
   "metadata": {},
   "outputs": [],
   "source": [
    "'''\n",
    "Idea) 반례 찾기..\n",
    "'''\n",
    "import sys\n",
    "case_num = 0\n",
    "case_dict = {}\n",
    "\n",
    "while True:\n",
    "    L, P, V = map(int, sys.stdin.readline().split())\n",
    "    if L == 0:\n",
    "        break\n",
    "    case_num += 1\n",
    "    if V % P > L:\n",
    "        count = (V // P) * L + L\n",
    "    else:\n",
    "        count = (V // P) * L + V % P\n",
    "    case_dict[case_num] = count\n",
    "\n",
    "for k, v in case_dict.items():\n",
    "    print(f\"Case {k}: {v}\")"
   ]
  }
 ],
 "metadata": {
  "hide_input": false,
  "kernelspec": {
   "display_name": "Python 3",
   "language": "python",
   "name": "python3"
  },
  "language_info": {
   "codemirror_mode": {
    "name": "ipython",
    "version": 3
   },
   "file_extension": ".py",
   "mimetype": "text/x-python",
   "name": "python",
   "nbconvert_exporter": "python",
   "pygments_lexer": "ipython3",
   "version": "3.7.7"
  },
  "toc": {
   "base_numbering": 1,
   "nav_menu": {},
   "number_sections": true,
   "sideBar": true,
   "skip_h1_title": false,
   "title_cell": "Table of Contents",
   "title_sidebar": "Contents",
   "toc_cell": false,
   "toc_position": {},
   "toc_section_display": true,
   "toc_window_display": false
  },
  "varInspector": {
   "cols": {
    "lenName": 16,
    "lenType": 16,
    "lenVar": 40
   },
   "kernels_config": {
    "python": {
     "delete_cmd_postfix": "",
     "delete_cmd_prefix": "del ",
     "library": "var_list.py",
     "varRefreshCmd": "print(var_dic_list())"
    },
    "r": {
     "delete_cmd_postfix": ") ",
     "delete_cmd_prefix": "rm(",
     "library": "var_list.r",
     "varRefreshCmd": "cat(var_dic_list()) "
    }
   },
   "types_to_exclude": [
    "module",
    "function",
    "builtin_function_or_method",
    "instance",
    "_Feature"
   ],
   "window_display": false
  }
 },
 "nbformat": 4,
 "nbformat_minor": 4
}

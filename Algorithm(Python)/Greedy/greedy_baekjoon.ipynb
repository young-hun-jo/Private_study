{
 "cells": [
  {
   "cell_type": "markdown",
   "metadata": {},
   "source": [
    "### 11034 캥거루 세마리 2"
   ]
  },
  {
   "cell_type": "code",
   "execution_count": 1,
   "metadata": {},
   "outputs": [
    {
     "name": "stdout",
     "output_type": "stream",
     "text": [
      "3 5 9\n",
      "3\n"
     ]
    }
   ],
   "source": [
    "### 내 풀이 ###\n",
    "a, b, c = map(int, input().split())\n",
    "cnt = 0\n",
    "# b값을 기준으로 a, c 방향 중 사이의 값이 어떤 곳이 더 많은지 비교\n",
    "a_cnt = b - a - 1\n",
    "c_cnt = c - b - 1\n",
    "while True:\n",
    "    # a,b,c 연속적인 값일 때는 break!\n",
    "    if b == a + 1 and c == a + 2:\n",
    "        break\n",
    "    # b와 c사이의 정수개수가 많을 때\n",
    "    if a_cnt < c_cnt:\n",
    "        a, b = b, b + 1\n",
    "        cnt += 1\n",
    "    # a와 c사이의 정수개수가 많거나 개수가 같을 때\n",
    "    else:\n",
    "        c, b = b, b - 1\n",
    "        cnt += 1\n",
    "print(cnt)"
   ]
  },
  {
   "cell_type": "markdown",
   "metadata": {},
   "source": [
    "- 연속해서 줄 입력받을 땐 ``sys.stdin.readline()``과 ``try ~ except``구문 사용하기!"
   ]
  },
  {
   "cell_type": "code",
   "execution_count": 2,
   "metadata": {},
   "outputs": [
    {
     "name": "stdout",
     "output_type": "stream",
     "text": [
      "3 5 9\n",
      "3\n"
     ]
    }
   ],
   "source": [
    "### 모법 답안 ###\n",
    "import sys\n",
    "\n",
    "while True:\n",
    "    try:\n",
    "        a, b, c = map(int, sys.stdin.readline().split())\n",
    "        a_cnt = b - a - 1\n",
    "        c_cnt = c - b - 1\n",
    "        print(max(a_cnt, c_cnt))\n",
    "    except:\n",
    "        break"
   ]
  },
  {
   "cell_type": "markdown",
   "metadata": {},
   "source": [
    "### 1434번 책 정리"
   ]
  },
  {
   "cell_type": "code",
   "execution_count": 1,
   "metadata": {},
   "outputs": [
    {
     "name": "stdout",
     "output_type": "stream",
     "text": [
      "3 3\n",
      "4 5 6\n",
      "7 7 7\n",
      "-6\n"
     ]
    }
   ],
   "source": [
    "## 나의 풀이 = 남의 풀이 ##\n",
    "box, book = map(int, input().split())\n",
    "box_v = list(map(int, input().split()))\n",
    "book_v = list(map(int, input().split()))\n",
    "used_box_v =sum(box_v) - sum(book_v)\n",
    "\n",
    "print(used_box_v)"
   ]
  },
  {
   "cell_type": "code",
   "execution_count": null,
   "metadata": {},
   "outputs": [],
   "source": []
  }
 ],
 "metadata": {
  "hide_input": false,
  "kernelspec": {
   "display_name": "Python 3",
   "language": "python",
   "name": "python3"
  },
  "language_info": {
   "codemirror_mode": {
    "name": "ipython",
    "version": 3
   },
   "file_extension": ".py",
   "mimetype": "text/x-python",
   "name": "python",
   "nbconvert_exporter": "python",
   "pygments_lexer": "ipython3",
   "version": "3.7.6"
  },
  "toc": {
   "base_numbering": 1,
   "nav_menu": {},
   "number_sections": true,
   "sideBar": true,
   "skip_h1_title": false,
   "title_cell": "Table of Contents",
   "title_sidebar": "Contents",
   "toc_cell": false,
   "toc_position": {},
   "toc_section_display": true,
   "toc_window_display": false
  },
  "varInspector": {
   "cols": {
    "lenName": 16,
    "lenType": 16,
    "lenVar": 40
   },
   "kernels_config": {
    "python": {
     "delete_cmd_postfix": "",
     "delete_cmd_prefix": "del ",
     "library": "var_list.py",
     "varRefreshCmd": "print(var_dic_list())"
    },
    "r": {
     "delete_cmd_postfix": ") ",
     "delete_cmd_prefix": "rm(",
     "library": "var_list.r",
     "varRefreshCmd": "cat(var_dic_list()) "
    }
   },
   "types_to_exclude": [
    "module",
    "function",
    "builtin_function_or_method",
    "instance",
    "_Feature"
   ],
   "window_display": false
  }
 },
 "nbformat": 4,
 "nbformat_minor": 4
}

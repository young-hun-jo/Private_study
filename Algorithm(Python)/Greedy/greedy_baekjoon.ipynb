{
 "cells": [
  {
   "cell_type": "markdown",
   "metadata": {},
   "source": [
    "### 11034번 - 캥거루 세마리 2"
   ]
  },
  {
   "cell_type": "code",
   "execution_count": 1,
   "metadata": {},
   "outputs": [
    {
     "name": "stdout",
     "output_type": "stream",
     "text": [
      "3 5 9\n",
      "3\n"
     ]
    }
   ],
   "source": [
    "### 내 풀이 ###\n",
    "a, b, c = map(int, input().split())\n",
    "cnt = 0\n",
    "# b값을 기준으로 a, c 방향 중 사이의 값이 어떤 곳이 더 많은지 비교\n",
    "a_cnt = b - a - 1\n",
    "c_cnt = c - b - 1\n",
    "while True:\n",
    "    # a,b,c 연속적인 값일 때는 break!\n",
    "    if b == a + 1 and c == a + 2:\n",
    "        break\n",
    "    # b와 c사이의 정수개수가 많을 때\n",
    "    if a_cnt < c_cnt:\n",
    "        a, b = b, b + 1\n",
    "        cnt += 1\n",
    "    # a와 c사이의 정수개수가 많거나 개수가 같을 때\n",
    "    else:\n",
    "        c, b = b, b - 1\n",
    "        cnt += 1\n",
    "print(cnt)"
   ]
  },
  {
   "cell_type": "markdown",
   "metadata": {},
   "source": [
    "- 연속해서 줄 입력받을 땐 ``sys.stdin.readline()``과 ``try ~ except``구문 사용하기!"
   ]
  },
  {
   "cell_type": "code",
   "execution_count": 2,
   "metadata": {},
   "outputs": [
    {
     "name": "stdout",
     "output_type": "stream",
     "text": [
      "3 5 9\n",
      "3\n"
     ]
    }
   ],
   "source": [
    "### 모법 답안 ###\n",
    "import sys\n",
    "\n",
    "while True:\n",
    "    try:\n",
    "        a, b, c = map(int, sys.stdin.readline().split())\n",
    "        a_cnt = b - a - 1\n",
    "        c_cnt = c - b - 1\n",
    "        print(max(a_cnt, c_cnt))\n",
    "    except:\n",
    "        break"
   ]
  },
  {
   "cell_type": "markdown",
   "metadata": {},
   "source": [
    "### 1434번 - 책 정리"
   ]
  },
  {
   "cell_type": "code",
   "execution_count": 1,
   "metadata": {},
   "outputs": [
    {
     "name": "stdout",
     "output_type": "stream",
     "text": [
      "3 3\n",
      "4 5 6\n",
      "7 7 7\n",
      "-6\n"
     ]
    }
   ],
   "source": [
    "## 나의 풀이 = 남의 풀이 ##\n",
    "box, book = map(int, input().split())\n",
    "box_v = list(map(int, input().split()))\n",
    "book_v = list(map(int, input().split()))\n",
    "used_box_v =sum(box_v) - sum(book_v)\n",
    "\n",
    "print(used_box_v)"
   ]
  },
  {
   "cell_type": "markdown",
   "metadata": {},
   "source": [
    "### 2810번 - 컵홀더"
   ]
  },
  {
   "cell_type": "code",
   "execution_count": 1,
   "metadata": {},
   "outputs": [],
   "source": [
    "## 내 풀이 -> 오류! ##\n",
    "# 좌석이 1개 일때, 컵홀더가 2개로 나옴. 즉, '컵홀더 개수 > 사람 수' 이 경우를 고려하지 못함..!\n",
    "n_seats = int(input())\n",
    "info_seats = input()\n",
    "\n",
    "S_cnt = sum([1 for s in info_seats if s == 'S'])\n",
    "L_cnt = sum([1 for l in info_seats if l == 'L'])\n",
    "\n",
    "max_total = (S_cnt + 1) + (L_cnt//2)\n",
    "print(max_total)"
   ]
  },
  {
   "cell_type": "code",
   "execution_count": 3,
   "metadata": {},
   "outputs": [
    {
     "name": "stdout",
     "output_type": "stream",
     "text": [
      "1\n",
      "S\n",
      "1\n"
     ]
    }
   ],
   "source": [
    "### 올바른 풀이 ###\n",
    "n_seats = int(input())\n",
    "info_seats = input()\n",
    "\n",
    "# Idea)커플석 LL이 2개 이상일 때, 한 명이 컵홀더를 사용하지 못함\n",
    "# Native Python) string.count('pattern') 사용 가능!\n",
    "LL_count = info_seats.count('LL')\n",
    "\n",
    "if LL_count <= 1:\n",
    "    print(len(info_seats))\n",
    "else:\n",
    "    print(len(info_seats) - LL_count + 1)"
   ]
  },
  {
   "cell_type": "markdown",
   "metadata": {},
   "source": [
    "### 5585번 - 거스름돈"
   ]
  },
  {
   "cell_type": "code",
   "execution_count": 1,
   "metadata": {},
   "outputs": [
    {
     "name": "stdout",
     "output_type": "stream",
     "text": [
      "380\n",
      "4\n"
     ]
    }
   ],
   "source": [
    "paid = int(input())\n",
    "remain = 1000 - paid\n",
    "money = [500, 100, 50, 10, 5, 1]\n",
    "cnt = 0\n",
    "for m in money:\n",
    "    cnt += remain // m\n",
    "    remain = remain % m\n",
    "print(cnt)"
   ]
  },
  {
   "cell_type": "markdown",
   "metadata": {},
   "source": [
    "### 17224번 - APC는 왜 서브테스크 대회가 되었을까?"
   ]
  },
  {
   "cell_type": "code",
   "execution_count": null,
   "metadata": {},
   "outputs": [],
   "source": [
    "### 나의 풀이 - 100점만 얻음 ###\n",
    "'''\n",
    "N : 문제 개수\n",
    "L : 현정이의 문제 역량(L보다 작거나 같은 문제 풀이 가능)\n",
    "K : 시간 내 현정이가 풀 수 있는 문제 최대 개수\n",
    "'''\n",
    "N, L, K = map(int, input().split())\n",
    "score = 0\n",
    "# N개의 문제 개수 입력됨\n",
    "for _ in range(N):\n",
    "    sub1, sub2 = map(int, input().split())\n",
    "    # 현정이가 sub1,2 둘다 해결할 수 있을 경우 -> 140\n",
    "    if L >= sub1 and L >= sub2:\n",
    "        score += 140\n",
    "    # 현정이가 sub1만 해결할 수 있을 경우 -> 100\n",
    "    elif L >= sub1 and L < sub2:\n",
    "        score += 100\n",
    "    # 현정이가 sub1, sub2 둘 다 해결 못할 경우\n",
    "    else:\n",
    "        score += 0\n",
    "\n",
    "print(score)"
   ]
  },
  {
   "cell_type": "code",
   "execution_count": 5,
   "metadata": {},
   "outputs": [
    {
     "name": "stdout",
     "output_type": "stream",
     "text": [
      "8 7 5\n",
      "1 3\n",
      "2 5\n",
      "3 5\n",
      "4 8\n",
      "5 8\n",
      "6 9\n",
      "6 7\n",
      "7 10\n",
      "660\n"
     ]
    }
   ],
   "source": [
    "### 모범 답안 ###\n",
    "\n",
    "N, L, K = map(int, input().split())\n",
    "\n",
    "## 우선 현정이가 풀 수 있는 문제 최댓값 상관말고 문제 중 현정이 역량 기준으로 풀 수 있는 문제들 기록 ##\n",
    "easy, hard = 0, 0\n",
    "for _ in range(N):\n",
    "    sub1, sub2 = map(int, input().split())\n",
    "    # sub2 맞추면 sub1까지 맞춘걸로 침!\n",
    "    if sub2 <= L:\n",
    "        hard += 1\n",
    "    # sub1만 맞추었을 경우에만 +1됨!!!\n",
    "    elif sub1 <= L:\n",
    "        easy += 1\n",
    "        \n",
    "# 풀 수 있는 문제 최댓값 상관없이 현정이가 풀 수 있는 sub2난이도 VS 현정이가 풀 수 있는 최대문제 개수 중 최솟값 설정\n",
    "ans = min(hard, K) * 140\n",
    "# 만약 주어진 문제들 중 sub2난이도 문제가 현정이가 풀 수 있는 문제개수 최댓값보다 작은 경우 처리!\n",
    "if hard < K:\n",
    "    # 예를 들어, 최대 5개문제를 풀 수 있는데, 3개의 sub2난이도 모두 해결가능하다면 easy값은 0이됨! 왜냐면 easy는 sub1만 맞출 역량이 될 경우만 +1 되기 때문!\n",
    "    ans += min(K - hard, easy) * 100\n",
    "print(ans)"
   ]
  },
  {
   "cell_type": "markdown",
   "metadata": {},
   "source": [
    "### 18238번 - ZOAC 2"
   ]
  },
  {
   "cell_type": "code",
   "execution_count": 1,
   "metadata": {},
   "outputs": [
    {
     "name": "stdout",
     "output_type": "stream",
     "text": [
      "ZOAC\n",
      "26\n"
     ]
    }
   ],
   "source": [
    "### 모범 답안 ### => 이해안되면 손으로 직접 그려보기..\n",
    "# idea) 순환되는 즉 Z->A이기 때문에.. 26이라는 숫자 사용하기..\n",
    "\n",
    "# 문자열 입력 -> loop가능\n",
    "chars = input()\n",
    "\n",
    "start = 'A'\n",
    "count = 0\n",
    "for char in chars:\n",
    "    left = ord(start) - ord(char)\n",
    "    right = ord(char) - ord(start)\n",
    "    \n",
    "    if left < 0:\n",
    "        left += 26\n",
    "    if right < 0:\n",
    "        right += 26\n",
    "    count += min(left, right)\n",
    "    start = char\n",
    "\n",
    "print(count)"
   ]
  },
  {
   "cell_type": "code",
   "execution_count": null,
   "metadata": {},
   "outputs": [],
   "source": []
  }
 ],
 "metadata": {
  "hide_input": false,
  "kernelspec": {
   "display_name": "Python 3",
   "language": "python",
   "name": "python3"
  },
  "language_info": {
   "codemirror_mode": {
    "name": "ipython",
    "version": 3
   },
   "file_extension": ".py",
   "mimetype": "text/x-python",
   "name": "python",
   "nbconvert_exporter": "python",
   "pygments_lexer": "ipython3",
   "version": "3.7.6"
  },
  "toc": {
   "base_numbering": 1,
   "nav_menu": {},
   "number_sections": true,
   "sideBar": true,
   "skip_h1_title": false,
   "title_cell": "Table of Contents",
   "title_sidebar": "Contents",
   "toc_cell": false,
   "toc_position": {},
   "toc_section_display": true,
   "toc_window_display": false
  },
  "varInspector": {
   "cols": {
    "lenName": 16,
    "lenType": 16,
    "lenVar": 40
   },
   "kernels_config": {
    "python": {
     "delete_cmd_postfix": "",
     "delete_cmd_prefix": "del ",
     "library": "var_list.py",
     "varRefreshCmd": "print(var_dic_list())"
    },
    "r": {
     "delete_cmd_postfix": ") ",
     "delete_cmd_prefix": "rm(",
     "library": "var_list.r",
     "varRefreshCmd": "cat(var_dic_list()) "
    }
   },
   "types_to_exclude": [
    "module",
    "function",
    "builtin_function_or_method",
    "instance",
    "_Feature"
   ],
   "window_display": false
  }
 },
 "nbformat": 4,
 "nbformat_minor": 4
}

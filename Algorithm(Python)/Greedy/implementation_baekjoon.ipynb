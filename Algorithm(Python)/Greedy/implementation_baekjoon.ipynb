{
 "cells": [
  {
   "cell_type": "markdown",
   "metadata": {
    "toc": true
   },
   "source": [
    "<h1>Table of Contents<span class=\"tocSkip\"></span></h1>\n",
    "<div class=\"toc\"><ul class=\"toc-item\"><li><span><a href=\"#책-예제)-왕실의-나이트\" data-toc-modified-id=\"책-예제)-왕실의-나이트-1\"><span class=\"toc-item-num\">1&nbsp;&nbsp;</span>책 예제) 왕실의 나이트</a></span></li><li><span><a href=\"#게임개발\" data-toc-modified-id=\"게임개발-2\"><span class=\"toc-item-num\">2&nbsp;&nbsp;</span>게임개발</a></span></li><li><span><a href=\"#1063번---킹\" data-toc-modified-id=\"1063번---킹-3\"><span class=\"toc-item-num\">3&nbsp;&nbsp;</span>1063번 - 킹</a></span></li><li><span><a href=\"#1292번---쉽게-푸는-문제\" data-toc-modified-id=\"1292번---쉽게-푸는-문제-4\"><span class=\"toc-item-num\">4&nbsp;&nbsp;</span>1292번 - 쉽게 푸는 문제</a></span></li><li><span><a href=\"#1316번---그룹-단어-체커\" data-toc-modified-id=\"1316번---그룹-단어-체커-5\"><span class=\"toc-item-num\">5&nbsp;&nbsp;</span>1316번 - 그룹 단어 체커</a></span></li><li><span><a href=\"#1380번---귀걸이\" data-toc-modified-id=\"1380번---귀걸이-6\"><span class=\"toc-item-num\">6&nbsp;&nbsp;</span>1380번 - 귀걸이</a></span></li><li><span><a href=\"#1475번---방-번호\" data-toc-modified-id=\"1475번---방-번호-7\"><span class=\"toc-item-num\">7&nbsp;&nbsp;</span>1475번 - 방 번호</a></span></li></ul></div>"
   ]
  },
  {
   "cell_type": "markdown",
   "metadata": {},
   "source": [
    "### 책 예제) 왕실의 나이트 "
   ]
  },
  {
   "cell_type": "code",
   "execution_count": 2,
   "metadata": {},
   "outputs": [
    {
     "name": "stdout",
     "output_type": "stream",
     "text": [
      "a1\n",
      "2\n"
     ]
    }
   ],
   "source": [
    "loc = input()\n",
    "x, y = int(loc[1]), loc[0]\n",
    "x, y = x, ord(y)-ord('a') + 1\n",
    "count = 0\n",
    "# 움직일 수 있는 방향\n",
    "directions = [(-1, 2), (-1, -2), (1, 2), (1, -2), (-2, 1), (-2, -1), (2, 1), (2, -1)]\n",
    "\n",
    "for d in directions:\n",
    "    nx = x + d[0]\n",
    "    ny = y + d[1]\n",
    "    if 1 <= nx <= 8 and 1 <= ny <= 8:\n",
    "        count += 1\n",
    "    else:\n",
    "        continue\n",
    "\n",
    "print(count)"
   ]
  },
  {
   "cell_type": "markdown",
   "metadata": {},
   "source": [
    "### 게임개발 \n",
    "- 매우 어려움.. 계속 반복하기\n",
    "- 아이디어는 **뒤로가기**기능 때문에 주어진 상태의 맵과 캐릭터의 이동이 반영된 맵 2개로 개별 운용해야 함"
   ]
  },
  {
   "cell_type": "code",
   "execution_count": null,
   "metadata": {},
   "outputs": [],
   "source": [
    "'''\n",
    "Idea) 뒤로가기 기능이 있기 때문에 맵 상태 행렬과 캐릭터가 거쳐간 맵 행렬 2개를 개별적으로 운용해야 함\n",
    "'''\n",
    "N, M = map(int, input().split())\n",
    "# 캐릭터가 거쳐한 행렬 만들기\n",
    "d = [[0]*M for _ in range(N)]\n",
    "# 초기 좌표와 방향\n",
    "x, y, direction = map(int, input().split())\n",
    "# 초기 좌표를 캐릭터가 거쳐간 행렬 d에 다가 입력시키기. 이 때 초기 좌표는 무조건 육지임!\n",
    "d[x][y] = 1\n",
    "\n",
    "# 주어진 맵 상태 입력\n",
    "array = []\n",
    "for _ in range(N):\n",
    "    array.append(list(map(int, input().split())))\n",
    "# 왼쪽으로 돌 방향(북:0, 동:1, 남:2, 서:3)\n",
    "dx = [-1, 0, 1, 0]\n",
    "dy = [0, 1, 0, -1]\n",
    "\n",
    "# 왼쪽 방향으로 돌 함수 정의 -> idea) 왼쪽 방향으로 돌면 북(0)-서(3)-남(2)-동(1) 순서이기 때문에 다른 로직을 이용해야 함!\n",
    "def turn_left():\n",
    "    global direction\n",
    "    # direction에서 1을 빼어 -1이 되면 3(서)로 다시 가도록 설정하는 로직 구현\n",
    "    direction -= 1\n",
    "    if direction == -1:\n",
    "        direction = 3\n",
    "\n",
    "# 동작 시작\n",
    "count = 1\n",
    "# 왼쪽으로 도는 방향 횟수 세기\n",
    "turn_time = 0 \n",
    "while True:\n",
    "    # 우선 왼쪽으로 방향 한 번 돌기\n",
    "    turn_left()\n",
    "    # 해당 방향으로 이동 시도\n",
    "    nx = x + dx[direction]\n",
    "    ny = y + dy[direction]\n",
    "    # 회전해서 이동한 값이 맵 상태 행렬(array)에서도 0이고 캐릭터가 거쳐간 행렬(d)에서도 0이면 그 자리로 이동하고 거쳐간 횟수 1추가!\n",
    "    if array[nx][ny] == 0 and d[nx][ny] == 0:\n",
    "        x, y = nx, ny\n",
    "        count += 1\n",
    "        turn_time = 0 # 왼쪽으로 돈 방향 횟수 초기화\n",
    "        continue\n",
    "    # 그렇지 않으면 방향 회전하기\n",
    "    else:\n",
    "        turn_time += 1\n",
    "    # 만약 방향 횟수가 4 즉, 모든 방향으로 다 돌았을 때 뒤로가기\n",
    "    if turn_time == 4:\n",
    "        nx = x - dx[direction]\n",
    "        ny = y - dy[direction]\n",
    "        # 뒤로 갔을 때 맵 상태 행렬(array)에서 0값이면 뒤로가서 다른 방향으로의 길 찾아보기\n",
    "        if array[nx][ny] == 0:\n",
    "            x, y = nx, ny\n",
    "        # 뒤로 갈려고 하는데 turn_time=4 즉, 원래 보고있던 방향으로 오기까지 나머지 다 막혀있고 다시 뒤로 가려고할 때 바다가 있을 경우\n",
    "        else:\n",
    "            break\n",
    "        # 뒤로 가기 한 다음 다른 방향 모두 살펴보기 위해서 turn_time 초기화\n",
    "        turn_time = 0\n",
    "print(count)"
   ]
  },
  {
   "cell_type": "markdown",
   "metadata": {},
   "source": [
    "### 1063번 - 킹\n",
    "- '\\n'은 strip 메소드로 공백을 제거하자!"
   ]
  },
  {
   "cell_type": "code",
   "execution_count": null,
   "metadata": {},
   "outputs": [],
   "source": [
    "import sys\n",
    "inputs = list(sys.stdin.readline().split())\n",
    "k_yx, s_yx = inputs[0], inputs[1]\n",
    "N = int(inputs[2])\n",
    "\n",
    "\n",
    "def change_xy(yx):\n",
    "    x, y = int(yx[1]), yx[0]  # x는 8~1 => 0~7 / y는 A~H => 0~7\n",
    "    x = abs(x - 8)\n",
    "    y = ord(y) - ord('A')\n",
    "    return x, y\n",
    "\n",
    "\n",
    "def inverse_change(x, y):\n",
    "    x = str(abs(x - 8))\n",
    "    y = chr(y + ord('A'))\n",
    "    yx = y+x\n",
    "    return yx\n",
    "\n",
    "\n",
    "# 킹의 초기 위치와 돌의 초기 위치를 좌표로 변환\n",
    "k_x, k_y = change_xy(k_yx)\n",
    "s_x, s_y = change_xy(s_yx)\n",
    "\n",
    "# 방향 벡터 정의\n",
    "vector_dict = {'R': (0, 1), 'L': (0, -1), 'B': (1, 0), 'T': (-1, 0),\n",
    "               'RT': (-1, 1), 'LT': (-1, -1), 'RB': (1, 1), 'LB': (1, -1)}\n",
    "# 입력되는 방향 리스트 담기\n",
    "vectors = [sys.stdin.readline().rstrip() for _ in range(N)]\n",
    "\n",
    "for v in vectors:\n",
    "    dx, dy = vector_dict[v][0], vector_dict[v][1]\n",
    "    nx = k_x + dx\n",
    "    ny = k_y + dy\n",
    "    # 이동한 위치가 체스판 밖으로 벗어날 경우 건너 뛰기\n",
    "    if nx < 0 or ny < 0 or 7 < nx or 7 < ny:\n",
    "        continue\n",
    "    # 이동한 위치에 돌이 있을 경우 돌도 같은 방향으로 옮기기\n",
    "    if nx == s_x and ny == s_y:\n",
    "        new_s_x = s_x + dx\n",
    "        new_s_y = s_y + dy\n",
    "        if new_s_x < 0 or new_s_y < 0 or 7 < new_s_x or 7 < new_s_y:\n",
    "            continue\n",
    "        else:\n",
    "            s_x, s_y = new_s_x, new_s_y\n",
    "\n",
    "    # 그렇지 않은 경우 = 주변에 돌도 없고 체스판 안쪽일 경우\n",
    "    k_x, k_y = nx, ny\n",
    "\n",
    "final_k_yx = inverse_change(k_x, k_y)\n",
    "final_s_yx = inverse_change(s_x, s_y)\n",
    "print(final_k_yx)\n",
    "print(final_s_yx)"
   ]
  },
  {
   "cell_type": "markdown",
   "metadata": {},
   "source": [
    "### 1292번 - 쉽게 푸는 문제"
   ]
  },
  {
   "cell_type": "code",
   "execution_count": null,
   "metadata": {},
   "outputs": [],
   "source": [
    "from itertools import chain\n",
    "import sys\n",
    "\n",
    "a = [[i] * i for i in range(1, 1001)]\n",
    "b = list(chain.from_iterable(a))\n",
    "A, B = map(int, sys.stdin.readline().split())\n",
    "res = sum(b[A-1: B])\n",
    "print(res)"
   ]
  },
  {
   "cell_type": "markdown",
   "metadata": {},
   "source": [
    "### 1316번 - 그룹 단어 체커"
   ]
  },
  {
   "cell_type": "code",
   "execution_count": null,
   "metadata": {},
   "outputs": [],
   "source": [
    "import sys\n",
    "N = int(sys.stdin.readline())\n",
    "words = [sys.stdin.readline() for _ in range(N)]\n",
    "count = 0\n",
    "# 여러 단어들을 loop\n",
    "for word in words:\n",
    "    # 단어 길이가 1개 일 때는 무조건 그룹단어!\n",
    "    if len(word) == 1:\n",
    "        count += 1\n",
    "        break\n",
    "    chars = [word[0]]\n",
    "    for i in range(1, len(word)):\n",
    "        if word[i] not in chars or word[i] == chars[-1]:\n",
    "            chars.append(word[i])\n",
    "        else:\n",
    "            count += 0\n",
    "            break\n",
    "    # 만약 마지막 index 까지 다 도달했다면 그룹단어 이므로 +1\n",
    "        if i == len(word)-1:\n",
    "            count += 1\n",
    "print(count)"
   ]
  },
  {
   "cell_type": "markdown",
   "metadata": {},
   "source": [
    "### 1380번 - 귀걸이"
   ]
  },
  {
   "cell_type": "code",
   "execution_count": null,
   "metadata": {},
   "outputs": [],
   "source": [
    "case = 0\n",
    "while True:\n",
    "    n = int(input())\n",
    "    if n == 0:\n",
    "        break\n",
    "    names = [input() for _ in range(n)]  # 주어진 이름 리스트 담기\n",
    "    lst = [0] * n  # 주어지는 학생 횟수 셀 리스트 정의\n",
    "    for _ in range(2*n-1):\n",
    "        num, char = input().split()\n",
    "        # 주어진 학생 번호-1 인덱스 위치에 있는 학생 횟수값 +1\n",
    "        lst[int(num)-1] += 1\n",
    "    # 학생 횟수값이 2가 아닌 즉, 귀걸이 받지 못하는 학생의 이름 할당\n",
    "    res = names[[i for i in range(n) if lst[i] != 2][0]]\n",
    "    case += 1\n",
    "    print(f\"{case} {res}\")"
   ]
  },
  {
   "cell_type": "markdown",
   "metadata": {},
   "source": [
    "### 1475번 - 방 번호"
   ]
  },
  {
   "cell_type": "code",
   "execution_count": 1,
   "metadata": {},
   "outputs": [
    {
     "name": "stdout",
     "output_type": "stream",
     "text": [
      "9999213424\n",
      "2\n"
     ]
    }
   ],
   "source": [
    "N = input()\n",
    "a = {'0':0, '1':0, '2':0, '3':0, '4':0, '5':0, '6':0, '7':0, '8':0}\n",
    "for i in range(len(N)):\n",
    "    # 방 번호에 6 또는 9가 들어가 있으면 6에다가 숫자 플러스!\n",
    "    if N[i] in ['6', '9']:\n",
    "        a['6'] += 1\n",
    "    # 다른 일반 숫자들 플러스!\n",
    "    else:\n",
    "        a[N[i]] += 1\n",
    "# 6(또는 9)가 많으면 6,9가 등장하는 횟수에 따라 결정 됨\n",
    "# 하지만 6,9는 적고 1,2,3..8이 많으면 가장 큰 횟수에 따라 세트수가 결정이 됨!\n",
    "if a['6'] % 2 == 0:\n",
    "    a['6'] = a['6'] // 2\n",
    "else:\n",
    "    a['6'] = a['6'] // 2 + 1\n",
    "res = max(a.values())\n",
    "print(res)"
   ]
  },
  {
   "cell_type": "code",
   "execution_count": null,
   "metadata": {},
   "outputs": [],
   "source": []
  }
 ],
 "metadata": {
  "hide_input": false,
  "kernelspec": {
   "display_name": "Python 3",
   "language": "python",
   "name": "python3"
  },
  "language_info": {
   "codemirror_mode": {
    "name": "ipython",
    "version": 3
   },
   "file_extension": ".py",
   "mimetype": "text/x-python",
   "name": "python",
   "nbconvert_exporter": "python",
   "pygments_lexer": "ipython3",
   "version": "3.7.6"
  },
  "toc": {
   "base_numbering": 1,
   "nav_menu": {},
   "number_sections": true,
   "sideBar": true,
   "skip_h1_title": false,
   "title_cell": "Table of Contents",
   "title_sidebar": "Contents",
   "toc_cell": true,
   "toc_position": {},
   "toc_section_display": true,
   "toc_window_display": false
  },
  "varInspector": {
   "cols": {
    "lenName": 16,
    "lenType": 16,
    "lenVar": 40
   },
   "kernels_config": {
    "python": {
     "delete_cmd_postfix": "",
     "delete_cmd_prefix": "del ",
     "library": "var_list.py",
     "varRefreshCmd": "print(var_dic_list())"
    },
    "r": {
     "delete_cmd_postfix": ") ",
     "delete_cmd_prefix": "rm(",
     "library": "var_list.r",
     "varRefreshCmd": "cat(var_dic_list()) "
    }
   },
   "types_to_exclude": [
    "module",
    "function",
    "builtin_function_or_method",
    "instance",
    "_Feature"
   ],
   "window_display": false
  }
 },
 "nbformat": 4,
 "nbformat_minor": 4
}

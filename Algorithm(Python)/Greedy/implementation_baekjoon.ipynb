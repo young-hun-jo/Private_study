{
 "cells": [
  {
   "cell_type": "markdown",
   "metadata": {
    "toc": true
   },
   "source": [
    "<h1>Table of Contents<span class=\"tocSkip\"></span></h1>\n",
    "<div class=\"toc\"><ul class=\"toc-item\"><li><span><a href=\"#책-예제)-왕실의-나이트\" data-toc-modified-id=\"책-예제)-왕실의-나이트-1\"><span class=\"toc-item-num\">1&nbsp;&nbsp;</span>책 예제) 왕실의 나이트</a></span></li><li><span><a href=\"#게임개발\" data-toc-modified-id=\"게임개발-2\"><span class=\"toc-item-num\">2&nbsp;&nbsp;</span>게임개발</a></span></li></ul></div>"
   ]
  },
  {
   "cell_type": "markdown",
   "metadata": {},
   "source": [
    "### 책 예제) 왕실의 나이트 "
   ]
  },
  {
   "cell_type": "code",
   "execution_count": 2,
   "metadata": {},
   "outputs": [
    {
     "name": "stdout",
     "output_type": "stream",
     "text": [
      "a1\n",
      "2\n"
     ]
    }
   ],
   "source": [
    "loc = input()\n",
    "x, y = int(loc[1]), loc[0]\n",
    "x, y = x, ord(y)-ord('a') + 1\n",
    "count = 0\n",
    "# 움직일 수 있는 방향\n",
    "directions = [(-1, 2), (-1, -2), (1, 2), (1, -2), (-2, 1), (-2, -1), (2, 1), (2, -1)]\n",
    "\n",
    "for d in directions:\n",
    "    nx = x + d[0]\n",
    "    ny = y + d[1]\n",
    "    if 1 <= nx <= 8 and 1 <= ny <= 8:\n",
    "        count += 1\n",
    "    else:\n",
    "        continue\n",
    "\n",
    "print(count)"
   ]
  },
  {
   "cell_type": "markdown",
   "metadata": {},
   "source": [
    "### 게임개발 \n",
    "- 매우 어려움.. 계속 반복하기\n",
    "- 아이디어는 **뒤로가기**기능 때문에 주어진 상태의 맵과 캐릭터의 이동이 반영된 맵 2개로 개별 운용해야 함"
   ]
  },
  {
   "cell_type": "code",
   "execution_count": null,
   "metadata": {},
   "outputs": [],
   "source": [
    "'''\n",
    "Idea) 뒤로가기 기능이 있기 때문에 맵 상태 행렬과 캐릭터가 거쳐간 맵 행렬 2개를 개별적으로 운용해야 함\n",
    "'''\n",
    "N, M = map(int, input().split())\n",
    "# 캐릭터가 거쳐한 행렬 만들기\n",
    "d = [[0]*M for _ in range(N)]\n",
    "# 초기 좌표와 방향\n",
    "x, y, direction = map(int, input().split())\n",
    "# 초기 좌표를 캐릭터가 거쳐간 행렬 d에 다가 입력시키기. 이 때 초기 좌표는 무조건 육지임!\n",
    "d[x][y] = 1\n",
    "\n",
    "# 주어진 맵 상태 입력\n",
    "array = []\n",
    "for _ in range(N):\n",
    "    array.append(list(map(int, input().split())))\n",
    "# 왼쪽으로 돌 방향(북:0, 동:1, 남:2, 서:3)\n",
    "dx = [-1, 0, 1, 0]\n",
    "dy = [0, 1, 0, -1]\n",
    "\n",
    "# 왼쪽 방향으로 돌 함수 정의 -> idea) 왼쪽 방향으로 돌면 북(0)-서(3)-남(2)-동(1) 순서이기 때문에 다른 로직을 이용해야 함!\n",
    "def turn_left():\n",
    "    global direction\n",
    "    # direction에서 1을 빼어 -1이 되면 3(서)로 다시 가도록 설정하는 로직 구현\n",
    "    direction -= 1\n",
    "    if direction == -1:\n",
    "        direction = 3\n",
    "\n",
    "# 동작 시작\n",
    "count = 1\n",
    "# 왼쪽으로 도는 방향 횟수 세기\n",
    "turn_time = 0 \n",
    "while True:\n",
    "    # 우선 왼쪽으로 방향 한 번 돌기\n",
    "    turn_left()\n",
    "    # 해당 방향으로 이동 시도\n",
    "    nx = x + dx[direction]\n",
    "    ny = y + dy[direction]\n",
    "    # 회전해서 이동한 값이 맵 상태 행렬(array)에서도 0이고 캐릭터가 거쳐간 행렬(d)에서도 0이면 그 자리로 이동하고 거쳐간 횟수 1추가!\n",
    "    if array[nx][ny] == 0 and d[nx][ny] == 0:\n",
    "        x, y = nx, ny\n",
    "        count += 1\n",
    "        turn_time = 0 # 왼쪽으로 돈 방향 횟수 초기화\n",
    "        continue\n",
    "    # 그렇지 않으면 방향 회전하기\n",
    "    else:\n",
    "        turn_time += 1\n",
    "    # 만약 방향 횟수가 4 즉, 모든 방향으로 다 돌았을 때 뒤로가기\n",
    "    if turn_time == 4:\n",
    "        nx = x - dx[direction]\n",
    "        ny = y - dy[direction]\n",
    "        # 뒤로 갔을 때 맵 상태 행렬(array)에서 0값이면 뒤로가서 다른 방향으로의 길 찾아보기\n",
    "        if array[nx][ny] == 0:\n",
    "            x, y = nx, ny\n",
    "        # 뒤로 갈려고 하는데 turn_time=4 즉, 원래 보고있던 방향으로 오기까지 나머지 다 막혀있고 다시 뒤로 가려고할 때 바다가 있을 경우\n",
    "        else:\n",
    "            break\n",
    "        # 뒤로 가기 한 다음 다른 방향 모두 살펴보기 위해서 turn_time 초기화\n",
    "        turn_time = 0\n",
    "print(count)"
   ]
  }
 ],
 "metadata": {
  "hide_input": false,
  "kernelspec": {
   "display_name": "Python 3",
   "language": "python",
   "name": "python3"
  },
  "language_info": {
   "codemirror_mode": {
    "name": "ipython",
    "version": 3
   },
   "file_extension": ".py",
   "mimetype": "text/x-python",
   "name": "python",
   "nbconvert_exporter": "python",
   "pygments_lexer": "ipython3",
   "version": "3.7.6"
  },
  "toc": {
   "base_numbering": 1,
   "nav_menu": {},
   "number_sections": true,
   "sideBar": true,
   "skip_h1_title": false,
   "title_cell": "Table of Contents",
   "title_sidebar": "Contents",
   "toc_cell": true,
   "toc_position": {},
   "toc_section_display": true,
   "toc_window_display": false
  },
  "varInspector": {
   "cols": {
    "lenName": 16,
    "lenType": 16,
    "lenVar": 40
   },
   "kernels_config": {
    "python": {
     "delete_cmd_postfix": "",
     "delete_cmd_prefix": "del ",
     "library": "var_list.py",
     "varRefreshCmd": "print(var_dic_list())"
    },
    "r": {
     "delete_cmd_postfix": ") ",
     "delete_cmd_prefix": "rm(",
     "library": "var_list.r",
     "varRefreshCmd": "cat(var_dic_list()) "
    }
   },
   "types_to_exclude": [
    "module",
    "function",
    "builtin_function_or_method",
    "instance",
    "_Feature"
   ],
   "window_display": false
  }
 },
 "nbformat": 4,
 "nbformat_minor": 4
}

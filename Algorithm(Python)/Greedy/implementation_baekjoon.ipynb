{
 "cells": [
  {
   "cell_type": "markdown",
   "metadata": {
    "toc": true
   },
   "source": [
    "<h1>Table of Contents<span class=\"tocSkip\"></span></h1>\n",
    "<div class=\"toc\"><ul class=\"toc-item\"><li><span><a href=\"#책-예제)-왕실의-나이트\" data-toc-modified-id=\"책-예제)-왕실의-나이트-1\"><span class=\"toc-item-num\">1&nbsp;&nbsp;</span>책 예제) 왕실의 나이트</a></span></li><li><span><a href=\"#게임개발\" data-toc-modified-id=\"게임개발-2\"><span class=\"toc-item-num\">2&nbsp;&nbsp;</span>게임개발</a></span></li><li><span><a href=\"#1063번---킹\" data-toc-modified-id=\"1063번---킹-3\"><span class=\"toc-item-num\">3&nbsp;&nbsp;</span>1063번 - 킹</a></span></li><li><span><a href=\"#1292번---쉽게-푸는-문제\" data-toc-modified-id=\"1292번---쉽게-푸는-문제-4\"><span class=\"toc-item-num\">4&nbsp;&nbsp;</span>1292번 - 쉽게 푸는 문제</a></span></li><li><span><a href=\"#1316번---그룹-단어-체커\" data-toc-modified-id=\"1316번---그룹-단어-체커-5\"><span class=\"toc-item-num\">5&nbsp;&nbsp;</span>1316번 - 그룹 단어 체커</a></span></li><li><span><a href=\"#1380번---귀걸이\" data-toc-modified-id=\"1380번---귀걸이-6\"><span class=\"toc-item-num\">6&nbsp;&nbsp;</span>1380번 - 귀걸이</a></span></li><li><span><a href=\"#1475번---방-번호\" data-toc-modified-id=\"1475번---방-번호-7\"><span class=\"toc-item-num\">7&nbsp;&nbsp;</span>1475번 - 방 번호</a></span></li><li><span><a href=\"#1476번---날짜-계산\" data-toc-modified-id=\"1476번---날짜-계산-8\"><span class=\"toc-item-num\">8&nbsp;&nbsp;</span>1476번 - 날짜 계산</a></span></li><li><span><a href=\"#1531번---투명\" data-toc-modified-id=\"1531번---투명-9\"><span class=\"toc-item-num\">9&nbsp;&nbsp;</span>1531번 - 투명</a></span></li><li><span><a href=\"#1769번---3의-배수\" data-toc-modified-id=\"1769번---3의-배수-10\"><span class=\"toc-item-num\">10&nbsp;&nbsp;</span>1769번 - 3의 배수</a></span></li><li><span><a href=\"#1913번---달팽이\" data-toc-modified-id=\"1913번---달팽이-11\"><span class=\"toc-item-num\">11&nbsp;&nbsp;</span>1913번 - 달팽이</a></span></li><li><span><a href=\"#2303번---숫자게임\" data-toc-modified-id=\"2303번---숫자게임-12\"><span class=\"toc-item-num\">12&nbsp;&nbsp;</span>2303번 - 숫자게임</a></span></li><li><span><a href=\"#2477번---참외밭\" data-toc-modified-id=\"2477번---참외밭-13\"><span class=\"toc-item-num\">13&nbsp;&nbsp;</span>2477번 - 참외밭</a></span></li><li><span><a href=\"#2563번---색종이\" data-toc-modified-id=\"2563번---색종이-14\"><span class=\"toc-item-num\">14&nbsp;&nbsp;</span>2563번 - 색종이</a></span></li><li><span><a href=\"#[그리디]기출문제1---모험가-길드\" data-toc-modified-id=\"[그리디]기출문제1---모험가-길드-15\"><span class=\"toc-item-num\">15&nbsp;&nbsp;</span>[그리디]기출문제1 - 모험가 길드</a></span></li><li><span><a href=\"#[구현]-기출문제1---럭키-스트레이트\" data-toc-modified-id=\"[구현]-기출문제1---럭키-스트레이트-16\"><span class=\"toc-item-num\">16&nbsp;&nbsp;</span>[구현] 기출문제1 - 럭키 스트레이트</a></span></li><li><span><a href=\"#[구현]-기출문제2---문자열-재정렬\" data-toc-modified-id=\"[구현]-기출문제2---문자열-재정렬-17\"><span class=\"toc-item-num\">17&nbsp;&nbsp;</span>[구현] 기출문제2 - 문자열 재정렬</a></span></li><li><span><a href=\"#[구현]-기출문제3---문자열-압축\" data-toc-modified-id=\"[구현]-기출문제3---문자열-압축-18\"><span class=\"toc-item-num\">18&nbsp;&nbsp;</span>[구현] 기출문제3 - 문자열 압축</a></span></li></ul></div>"
   ]
  },
  {
   "cell_type": "markdown",
   "metadata": {},
   "source": [
    "### 책 예제) 왕실의 나이트 "
   ]
  },
  {
   "cell_type": "code",
   "execution_count": 2,
   "metadata": {},
   "outputs": [
    {
     "name": "stdout",
     "output_type": "stream",
     "text": [
      "a1\n",
      "2\n"
     ]
    }
   ],
   "source": [
    "loc = input()\n",
    "x, y = int(loc[1]), loc[0]\n",
    "x, y = x, ord(y)-ord('a') + 1\n",
    "count = 0\n",
    "# 움직일 수 있는 방향\n",
    "directions = [(-1, 2), (-1, -2), (1, 2), (1, -2), (-2, 1), (-2, -1), (2, 1), (2, -1)]\n",
    "\n",
    "for d in directions:\n",
    "    nx = x + d[0]\n",
    "    ny = y + d[1]\n",
    "    if 1 <= nx <= 8 and 1 <= ny <= 8:\n",
    "        count += 1\n",
    "    else:\n",
    "        continue\n",
    "\n",
    "print(count)"
   ]
  },
  {
   "cell_type": "markdown",
   "metadata": {},
   "source": [
    "### 게임개발 \n",
    "- 매우 어려움.. 계속 반복하기\n",
    "- 아이디어는 **뒤로가기**기능 때문에 주어진 상태의 맵과 캐릭터의 이동이 반영된 맵 2개로 개별 운용해야 함"
   ]
  },
  {
   "cell_type": "code",
   "execution_count": null,
   "metadata": {},
   "outputs": [],
   "source": [
    "'''\n",
    "Idea) 뒤로가기 기능이 있기 때문에 맵 상태 행렬과 캐릭터가 거쳐간 맵 행렬 2개를 개별적으로 운용해야 함\n",
    "'''\n",
    "N, M = map(int, input().split())\n",
    "# 캐릭터가 거쳐한 행렬 만들기\n",
    "d = [[0]*M for _ in range(N)]\n",
    "# 초기 좌표와 방향\n",
    "x, y, direction = map(int, input().split())\n",
    "# 초기 좌표를 캐릭터가 거쳐간 행렬 d에 다가 입력시키기. 이 때 초기 좌표는 무조건 육지임!\n",
    "d[x][y] = 1\n",
    "\n",
    "# 주어진 맵 상태 입력\n",
    "array = []\n",
    "for _ in range(N):\n",
    "    array.append(list(map(int, input().split())))\n",
    "# 왼쪽으로 돌 방향(북:0, 동:1, 남:2, 서:3)\n",
    "dx = [-1, 0, 1, 0]\n",
    "dy = [0, 1, 0, -1]\n",
    "\n",
    "# 왼쪽 방향으로 돌 함수 정의 -> idea) 왼쪽 방향으로 돌면 북(0)-서(3)-남(2)-동(1) 순서이기 때문에 다른 로직을 이용해야 함!\n",
    "def turn_left():\n",
    "    global direction\n",
    "    # direction에서 1을 빼어 -1이 되면 3(서)로 다시 가도록 설정하는 로직 구현\n",
    "    direction -= 1\n",
    "    if direction == -1:\n",
    "        direction = 3\n",
    "\n",
    "# 동작 시작\n",
    "count = 1\n",
    "# 왼쪽으로 도는 방향 횟수 세기\n",
    "turn_time = 0 \n",
    "while True:\n",
    "    # 우선 왼쪽으로 방향 한 번 돌기\n",
    "    turn_left()\n",
    "    # 해당 방향으로 이동 시도\n",
    "    nx = x + dx[direction]\n",
    "    ny = y + dy[direction]\n",
    "    # 회전해서 이동한 값이 맵 상태 행렬(array)에서도 0이고 캐릭터가 거쳐간 행렬(d)에서도 0이면 그 자리로 이동하고 거쳐간 횟수 1추가!\n",
    "    if array[nx][ny] == 0 and d[nx][ny] == 0:\n",
    "        x, y = nx, ny\n",
    "        count += 1\n",
    "        turn_time = 0 # 왼쪽으로 돈 방향 횟수 초기화\n",
    "        continue\n",
    "    # 그렇지 않으면 방향 회전하기\n",
    "    else:\n",
    "        turn_time += 1\n",
    "    # 만약 방향 횟수가 4 즉, 모든 방향으로 다 돌았을 때 뒤로가기\n",
    "    if turn_time == 4:\n",
    "        nx = x - dx[direction]\n",
    "        ny = y - dy[direction]\n",
    "        # 뒤로 갔을 때 맵 상태 행렬(array)에서 0값이면 뒤로가서 다른 방향으로의 길 찾아보기\n",
    "        if array[nx][ny] == 0:\n",
    "            x, y = nx, ny\n",
    "        # 뒤로 갈려고 하는데 turn_time=4 즉, 원래 보고있던 방향으로 오기까지 나머지 다 막혀있고 다시 뒤로 가려고할 때 바다가 있을 경우\n",
    "        else:\n",
    "            break\n",
    "        # 뒤로 가기 한 다음 다른 방향 모두 살펴보기 위해서 turn_time 초기화\n",
    "        turn_time = 0\n",
    "print(count)"
   ]
  },
  {
   "cell_type": "markdown",
   "metadata": {},
   "source": [
    "### 1063번 - 킹\n",
    "- '\\n'은 strip 메소드로 공백을 제거하자!"
   ]
  },
  {
   "cell_type": "code",
   "execution_count": null,
   "metadata": {},
   "outputs": [],
   "source": [
    "import sys\n",
    "inputs = list(sys.stdin.readline().split())\n",
    "k_yx, s_yx = inputs[0], inputs[1]\n",
    "N = int(inputs[2])\n",
    "\n",
    "\n",
    "def change_xy(yx):\n",
    "    x, y = int(yx[1]), yx[0]  # x는 8~1 => 0~7 / y는 A~H => 0~7\n",
    "    x = abs(x - 8)\n",
    "    y = ord(y) - ord('A')\n",
    "    return x, y\n",
    "\n",
    "\n",
    "def inverse_change(x, y):\n",
    "    x = str(abs(x - 8))\n",
    "    y = chr(y + ord('A'))\n",
    "    yx = y+x\n",
    "    return yx\n",
    "\n",
    "\n",
    "# 킹의 초기 위치와 돌의 초기 위치를 좌표로 변환\n",
    "k_x, k_y = change_xy(k_yx)\n",
    "s_x, s_y = change_xy(s_yx)\n",
    "\n",
    "# 방향 벡터 정의\n",
    "vector_dict = {'R': (0, 1), 'L': (0, -1), 'B': (1, 0), 'T': (-1, 0),\n",
    "               'RT': (-1, 1), 'LT': (-1, -1), 'RB': (1, 1), 'LB': (1, -1)}\n",
    "# 입력되는 방향 리스트 담기\n",
    "vectors = [sys.stdin.readline().rstrip() for _ in range(N)]\n",
    "\n",
    "for v in vectors:\n",
    "    dx, dy = vector_dict[v][0], vector_dict[v][1]\n",
    "    nx = k_x + dx\n",
    "    ny = k_y + dy\n",
    "    # 이동한 위치가 체스판 밖으로 벗어날 경우 건너 뛰기\n",
    "    if nx < 0 or ny < 0 or 7 < nx or 7 < ny:\n",
    "        continue\n",
    "    # 이동한 위치에 돌이 있을 경우 돌도 같은 방향으로 옮기기\n",
    "    if nx == s_x and ny == s_y:\n",
    "        new_s_x = s_x + dx\n",
    "        new_s_y = s_y + dy\n",
    "        if new_s_x < 0 or new_s_y < 0 or 7 < new_s_x or 7 < new_s_y:\n",
    "            continue\n",
    "        else:\n",
    "            s_x, s_y = new_s_x, new_s_y\n",
    "\n",
    "    # 그렇지 않은 경우 = 주변에 돌도 없고 체스판 안쪽일 경우\n",
    "    k_x, k_y = nx, ny\n",
    "\n",
    "final_k_yx = inverse_change(k_x, k_y)\n",
    "final_s_yx = inverse_change(s_x, s_y)\n",
    "print(final_k_yx)\n",
    "print(final_s_yx)"
   ]
  },
  {
   "cell_type": "markdown",
   "metadata": {},
   "source": [
    "### 1292번 - 쉽게 푸는 문제"
   ]
  },
  {
   "cell_type": "code",
   "execution_count": null,
   "metadata": {},
   "outputs": [],
   "source": [
    "from itertools import chain\n",
    "import sys\n",
    "\n",
    "a = [[i] * i for i in range(1, 1001)]\n",
    "b = list(chain.from_iterable(a))\n",
    "A, B = map(int, sys.stdin.readline().split())\n",
    "res = sum(b[A-1: B])\n",
    "print(res)"
   ]
  },
  {
   "cell_type": "markdown",
   "metadata": {},
   "source": [
    "### 1316번 - 그룹 단어 체커"
   ]
  },
  {
   "cell_type": "code",
   "execution_count": null,
   "metadata": {},
   "outputs": [],
   "source": [
    "import sys\n",
    "N = int(sys.stdin.readline())\n",
    "words = [sys.stdin.readline() for _ in range(N)]\n",
    "count = 0\n",
    "# 여러 단어들을 loop\n",
    "for word in words:\n",
    "    # 단어 길이가 1개 일 때는 무조건 그룹단어!\n",
    "    if len(word) == 1:\n",
    "        count += 1\n",
    "        break\n",
    "    chars = [word[0]]\n",
    "    for i in range(1, len(word)):\n",
    "        if word[i] not in chars or word[i] == chars[-1]:\n",
    "            chars.append(word[i])\n",
    "        else:\n",
    "            count += 0\n",
    "            break\n",
    "    # 만약 마지막 index 까지 다 도달했다면 그룹단어 이므로 +1\n",
    "        if i == len(word)-1:\n",
    "            count += 1\n",
    "print(count)"
   ]
  },
  {
   "cell_type": "markdown",
   "metadata": {},
   "source": [
    "### 1380번 - 귀걸이"
   ]
  },
  {
   "cell_type": "code",
   "execution_count": null,
   "metadata": {},
   "outputs": [],
   "source": [
    "case = 0\n",
    "while True:\n",
    "    n = int(input())\n",
    "    if n == 0:\n",
    "        break\n",
    "    names = [input() for _ in range(n)]  # 주어진 이름 리스트 담기\n",
    "    lst = [0] * n  # 주어지는 학생 횟수 셀 리스트 정의\n",
    "    for _ in range(2*n-1):\n",
    "        num, char = input().split()\n",
    "        # 주어진 학생 번호-1 인덱스 위치에 있는 학생 횟수값 +1\n",
    "        lst[int(num)-1] += 1\n",
    "    # 학생 횟수값이 2가 아닌 즉, 귀걸이 받지 못하는 학생의 이름 할당\n",
    "    res = names[[i for i in range(n) if lst[i] != 2][0]]\n",
    "    case += 1\n",
    "    print(f\"{case} {res}\")"
   ]
  },
  {
   "cell_type": "markdown",
   "metadata": {},
   "source": [
    "### 1475번 - 방 번호"
   ]
  },
  {
   "cell_type": "code",
   "execution_count": 1,
   "metadata": {},
   "outputs": [
    {
     "name": "stdout",
     "output_type": "stream",
     "text": [
      "9999213424\n",
      "2\n"
     ]
    }
   ],
   "source": [
    "N = input()\n",
    "a = {'0':0, '1':0, '2':0, '3':0, '4':0, '5':0, '6':0, '7':0, '8':0}\n",
    "for i in range(len(N)):\n",
    "    # 방 번호에 6 또는 9가 들어가 있으면 6에다가 숫자 플러스!\n",
    "    if N[i] in ['6', '9']:\n",
    "        a['6'] += 1\n",
    "    # 다른 일반 숫자들 플러스!\n",
    "    else:\n",
    "        a[N[i]] += 1\n",
    "# 6(또는 9)가 많으면 6,9가 등장하는 횟수에 따라 결정 됨\n",
    "# 하지만 6,9는 적고 1,2,3..8이 많으면 가장 큰 횟수에 따라 세트수가 결정이 됨!\n",
    "if a['6'] % 2 == 0:\n",
    "    a['6'] = a['6'] // 2\n",
    "else:\n",
    "    a['6'] = a['6'] // 2 + 1\n",
    "res = max(a.values())\n",
    "print(res)"
   ]
  },
  {
   "cell_type": "code",
   "execution_count": 2,
   "metadata": {},
   "outputs": [
    {
     "name": "stdout",
     "output_type": "stream",
     "text": [
      "0\n"
     ]
    }
   ],
   "source": [
    "## zip iterator를 이용해 dict 만들어 해결하기\n",
    "import sys\n",
    "N = sys.stdin.readline().strip()\n",
    "keys = [str(i) for i in range(0, 9)]\n",
    "values = [0] * 9\n",
    "\n",
    "count_dict = dict(zip(keys, values))\n",
    "for n in N:\n",
    "    # 9가 나오면 6 나온 것으로 세기\n",
    "    if n in ['6', '9']:\n",
    "        count_dict['6'] += 1\n",
    "    else:\n",
    "        count_dict[n] += 1\n",
    "\n",
    "if count_dict['6'] % 2 == 0:\n",
    "    count_dict['6'] = count_dict['6'] // 2\n",
    "else:\n",
    "    count_dict['6'] = count_dict['6'] // 2 + 1\n",
    "res = max(count_dict.values())\n",
    "print(res)"
   ]
  },
  {
   "cell_type": "markdown",
   "metadata": {},
   "source": [
    "### 1476번 - 날짜 계산\n",
    "- 범위가 특정한 수로 여러개 주어지면 서로의 수가 서로소인지 아닌지 생각하고 최소공배수 또는 서로소의 곱으로 나오는 수 생각하기\n",
    "- 값이 초기화될 때 값을 재설정 해주지 말고 초기화값으로 돌아가도록 수를 빼주자..\n",
    "- 시간 복잡도 고려하기...ㅜㅜ어렵다.."
   ]
  },
  {
   "cell_type": "code",
   "execution_count": 1,
   "metadata": {},
   "outputs": [
    {
     "name": "stdout",
     "output_type": "stream",
     "text": [
      "14 28 9\n",
      "6944\n"
     ]
    }
   ],
   "source": [
    "e, s, m, count = 1, 1, 1, 1\n",
    "E, S, M = map(int, input().split())\n",
    "\n",
    "while True:\n",
    "    if E == e and S == s and M == m:\n",
    "        break\n",
    "    e += 1\n",
    "    s += 1\n",
    "    m += 1\n",
    "    count += 1\n",
    "    if e > 15: e -= 15\n",
    "    if s > 28: s -= 28\n",
    "    if m > 19: m -= 19\n",
    "\n",
    "print(count)"
   ]
  },
  {
   "cell_type": "markdown",
   "metadata": {},
   "source": [
    "### 1531번 - 투명"
   ]
  },
  {
   "cell_type": "code",
   "execution_count": null,
   "metadata": {},
   "outputs": [],
   "source": [
    "import sys\n",
    "N, M = map(int, sys.stdin.readline().split())\n",
    "# count matrix 만들기\n",
    "matrix = [[0] * 100 for _ in range(100)]\n",
    "# 좌표 입력받기\n",
    "for _ in range(N):\n",
    "    x1, y1, x2, y2 = map(int, sys.stdin.readline().split())\n",
    "    for i in range(x1, x2+1):\n",
    "        for j in range(y1, y2+1):\n",
    "            matrix[i-1][j-1] += 1\n",
    "count = 0\n",
    "for i in range(100):\n",
    "    for j in range(100):\n",
    "        if matrix[i][j] > M:\n",
    "            count += 1\n",
    "print(count)"
   ]
  },
  {
   "cell_type": "markdown",
   "metadata": {},
   "source": [
    "### 1769번 - 3의 배수"
   ]
  },
  {
   "cell_type": "code",
   "execution_count": null,
   "metadata": {},
   "outputs": [],
   "source": [
    "import sys\n",
    "X = sys.stdin.readline().rstrip()\n",
    "count = 0\n",
    "while True:\n",
    "    if int(X) < 10:\n",
    "        if X in ['3', '6', '9']:\n",
    "            print(count)\n",
    "            print('YES')\n",
    "            break\n",
    "        else:\n",
    "            print(count)\n",
    "            print('NO')\n",
    "            break\n",
    "    else:\n",
    "        sum = 0\n",
    "        for x in X:\n",
    "            sum += int(x)\n",
    "        count += 1\n",
    "        if sum < 10:\n",
    "            if sum in [3, 6, 9]:\n",
    "                print(count)\n",
    "                print('YES')\n",
    "                break\n",
    "            else:\n",
    "                print(count)\n",
    "                print('NO')\n",
    "                break\n",
    "        else:\n",
    "            X = str(sum)"
   ]
  },
  {
   "cell_type": "markdown",
   "metadata": {},
   "source": [
    "### 1913번 - 달팽이"
   ]
  },
  {
   "cell_type": "code",
   "execution_count": 1,
   "metadata": {},
   "outputs": [
    {
     "name": "stdout",
     "output_type": "stream",
     "text": [
      "9\n",
      "19\n",
      "81 50 51 52 53 54 55 56 57\n",
      "80 49 26 27 28 29 30 31 58\n",
      "79 48 25 10 11 12 13 32 59\n",
      "78 47 24 9 2 3 14 33 60\n",
      "77 46 23 8 1 4 15 34 61\n",
      "76 45 22 7 6 5 16 35 62\n",
      "75 44 21 20 19 18 17 36 63\n",
      "74 43 42 41 40 39 38 37 64\n",
      "73 72 71 70 69 68 67 66 65\n",
      "7 5\n"
     ]
    }
   ],
   "source": [
    "# 내가 푼 풀이\n",
    "N = int(input())\n",
    "n = input()\n",
    "matrix = [[0] * N for _ in range(N)]\n",
    "# 방향 벡터\n",
    "vectors = [(0, -1), (1, 0), (0, 1), (-1, 0)] # 왼->아->오->위\n",
    "vector_time = 0\n",
    "values = [v for v in range(1, pow(N, 2)+1)]\n",
    "values = sorted(values, reverse=True) # 내림차순 정렬\n",
    "\n",
    "x, y = 0, 0\n",
    "matrix[x][y] = str(values[0])\n",
    "values_idx = 1\n",
    "\n",
    "\n",
    "def explore_vector():\n",
    "    global vector_time\n",
    "    vector_time += 1\n",
    "    if vector_time == 4:\n",
    "        vector_time = 0\n",
    "\n",
    "\n",
    "while True:\n",
    "    nx = x + vectors[vector_time][0]\n",
    "    ny = y + vectors[vector_time][1]\n",
    "    if nx < 0 or ny < 0 or N-1 < nx or N-1 < ny or matrix[nx][ny] != 0:\n",
    "        explore_vector()\n",
    "    else:\n",
    "        matrix[nx][ny] = str(values[values_idx])\n",
    "        values_idx += 1\n",
    "        x, y = nx, ny\n",
    "\n",
    "    if values_idx == len(values):\n",
    "        break\n",
    "\n",
    "for m in matrix:\n",
    "    print(' '.join(m))\n",
    "\n",
    "for i in range(N):\n",
    "    for j in range(N):\n",
    "        if matrix[i][j] == n:\n",
    "            print(i+1, j+1)"
   ]
  },
  {
   "cell_type": "markdown",
   "metadata": {},
   "source": [
    "### 2303번 - 숫자게임"
   ]
  },
  {
   "cell_type": "code",
   "execution_count": 1,
   "metadata": {},
   "outputs": [
    {
     "name": "stdout",
     "output_type": "stream",
     "text": [
      "3\n",
      "7 5 5 4 9\n",
      "3 5 5 2 10\n",
      "5 5 7 4 9\n",
      "3\n"
     ]
    }
   ],
   "source": [
    "from itertools import combinations\n",
    "\n",
    "N = int(input())\n",
    "cards = [list(map(int, input().split())) for _ in range(N)]\n",
    "nums = [i+1 for i in range(N)] # 사람 번호\n",
    "combs = []\n",
    "sums = []\n",
    "\n",
    "for card in cards:\n",
    "    card_combs = list(combinations(card, 3))\n",
    "    total_max = int(str(sum(card_combs[0]))[-1])\n",
    "    idx = 0\n",
    "    for i in range(1, len(card_combs)):\n",
    "        total = int(str(sum(card_combs[i]))[-1])\n",
    "        if total_max < total:\n",
    "            idx = i\n",
    "            total_max = total\n",
    "    combs.append(card_combs[idx])\n",
    "    sums.append(total_max)\n",
    "\n",
    "max_sum = max(sums)\n",
    "max_person = []\n",
    "for i in range(N):\n",
    "    if sums[i] == max_sum:\n",
    "        max_person.append(nums[i])\n",
    "print(max_person[-1])"
   ]
  },
  {
   "cell_type": "markdown",
   "metadata": {},
   "source": [
    "### 2477번 - 참외밭"
   ]
  },
  {
   "cell_type": "code",
   "execution_count": null,
   "metadata": {},
   "outputs": [],
   "source": [
    "'''\n",
    "1 / 6 => 1을 만들기 위해 6에 얼마나 곱(몫)하고 얼마나 더할(나머지)것인가를 의미..\n",
    "so.. -1 % 6 = -1을 만들기 위해 6에 -1(몫)을 곱하고 +5(나머지)를 더해야 하므로 -1 % 6 = 5임!\n",
    "'''\n",
    "\n",
    "K = int(input())\n",
    "dirs = [list(map(int, input().split())) for _ in range(6)]\n",
    "\n",
    "w, w_idx = 0, 0\n",
    "h, h_idx = 0, 0\n",
    "\n",
    "for i in range(len(dirs)):\n",
    "    if dirs[i][0] in [3, 4]: # 세로\n",
    "        if h < dirs[i][1]:\n",
    "            h = dirs[i][1]\n",
    "            h_idx = i\n",
    "    elif dirs[i][0] in [1, 2]:\n",
    "        if w < dirs[i][1]:\n",
    "            w = dirs[i][1]\n",
    "            w_idx = i\n",
    "# 가장 큰 사각형 넓이\n",
    "big_square = w * h\n",
    "# 가장 큰 세로변의 양옆 인덱스에 있는 가로변들 차이 구하기\n",
    "small_w = abs(dirs[(w_idx-1) % 6][1] - dirs[(w_idx+1) % 6][1])\n",
    "# 가장 큰 가로변의 양옆 인덱스에 있는 세로변들 차이 구하기\n",
    "small_h = abs(dirs[(h_idx-1) % 6][1] - dirs[(h_idx+1) % 6][1])\n",
    "small_square = small_w * small_h\n",
    "\n",
    "res = K * (big_square - small_square)\n",
    "print(res)"
   ]
  },
  {
   "cell_type": "markdown",
   "metadata": {},
   "source": [
    "### 2563번 - 색종이"
   ]
  },
  {
   "cell_type": "code",
   "execution_count": null,
   "metadata": {},
   "outputs": [],
   "source": [
    "import sys\n",
    "'''\n",
    "겹치는 부분을 제외하기 위해서 겹칠 때마다 굳이 +1할 필요 없다!!!\n",
    "해당 문제에서는 좌표가 0,0부터 시작이기 때문에 input 좌표를 굳이 1빼줄 필요없음!!!\n",
    "또, array의 한 요소값 = 하나의 색종이 조각 -> 으로 생각해서 넓이가 10이면 range(0, 10)이가 됨!!\n",
    "'''\n",
    "N = int(sys.stdin.readline())\n",
    "matrix = [[0]*100 for _ in range(100)]\n",
    "\n",
    "for _ in range(N):\n",
    "    a, b = map(int, sys.stdin.readline().split())\n",
    "    for i in range(a, a+10):\n",
    "        for j in range(b, b+10):\n",
    "            matrix[i][j] = 1\n",
    "\n",
    "count = 0\n",
    "for i in range(100):\n",
    "    for j in range(100):\n",
    "        if matrix[i][j] == 1:\n",
    "            count += 1\n",
    "print(count)"
   ]
  },
  {
   "cell_type": "markdown",
   "metadata": {},
   "source": [
    "### [그리디]기출문제1 - 모험가 길드\n",
    "\n",
    "- **Idea: 현재 그룹에 포함된 모험가 수 >= 현재 확인하고 있는 공포도 --> 만족 시 그룹 형성 가능!**"
   ]
  },
  {
   "cell_type": "code",
   "execution_count": null,
   "metadata": {},
   "outputs": [],
   "source": [
    "## 내가 푼 풀이 ## -> 수가 커지면 런타임 에러날 것 같음..\n",
    "N = int(input())\n",
    "phobia = list(map(int, input().split()))\n",
    "set_phobia = list(set(phobia)) # distinct한 공포도\n",
    "group = 0\n",
    "\n",
    "for set_p in set_phobia: # distinct한 공포도 하나씩 loop\n",
    "    cnt = phobia.count(set_p) # distinct한 공포도 count\n",
    "    group_cnt = cnt // set_p # count를 공포도로 나눈 몫이 그룹으로 형성될 count\n",
    "    group += group_cnt\n",
    "\n",
    "print(group)"
   ]
  },
  {
   "cell_type": "code",
   "execution_count": 1,
   "metadata": {},
   "outputs": [
    {
     "name": "stdout",
     "output_type": "stream",
     "text": [
      "5\n",
      "2 3 1 2 2\n",
      "2\n"
     ]
    }
   ],
   "source": [
    "## 정석 풀이 ##\n",
    "N = int(input())\n",
    "phobia = list(map(int, input().split()))\n",
    "\n",
    "result = 0  # 형성되는 그룹 count\n",
    "count = 0   # 현재 그룹에 포함되는 모험가 수\n",
    "\n",
    "for i in phobia:\n",
    "    count += 1  # 현재 그룹에 포함되는 모험가 수 +1 하기\n",
    "    if count >= i:\n",
    "        result += 1  # 그룹 형성 +1\n",
    "        count = 0    # 다음 그룹을 형성하기 위해 모험가 수 count 초기화\n",
    "        \n",
    "print(result)"
   ]
  },
  {
   "cell_type": "code",
   "execution_count": 11,
   "metadata": {},
   "outputs": [
    {
     "name": "stdout",
     "output_type": "stream",
     "text": [
      "1\n"
     ]
    }
   ],
   "source": [
    "!source activate venvforpython\n",
    "import numpy as np\n",
    "\n",
    "phobia = np.random.randint(low=1, high=10000, size=10000)\n",
    "phobia = phobia.tolist()\n",
    "set_phobia = list(set(phobia))\n",
    "group = 0\n",
    "\n",
    "for set_p in set_phobia:\n",
    "    cnt = phobia.count(set_p)\n",
    "    print(cnt)\n",
    "    group_cnt = cnt // set_p\n",
    "    group += group_cnt\n",
    "\n",
    "print(group)"
   ]
  },
  {
   "cell_type": "markdown",
   "metadata": {},
   "source": [
    "### [구현] 기출문제1 - 럭키 스트레이트"
   ]
  },
  {
   "cell_type": "code",
   "execution_count": 1,
   "metadata": {},
   "outputs": [
    {
     "name": "stdout",
     "output_type": "stream",
     "text": [
      "545233\n",
      "READY\n"
     ]
    }
   ],
   "source": [
    "### 내가 푼 풀이 ###\n",
    "N = input()\n",
    "half = len(N) // 2\n",
    "left = [int(n) for n in N[:half]]\n",
    "right = [int(n) for n in N[half:]]\n",
    "\n",
    "if sum(left) == sum(right):\n",
    "    print('LUCKY')\n",
    "else:\n",
    "    print('READY')"
   ]
  },
  {
   "cell_type": "code",
   "execution_count": 3,
   "metadata": {},
   "outputs": [
    {
     "name": "stdout",
     "output_type": "stream",
     "text": [
      "545223\n",
      "READY\n"
     ]
    }
   ],
   "source": [
    "### 책의 정석 풀이 ###\n",
    "N = input()\n",
    "length = len(N)\n",
    "summary = 0\n",
    "\n",
    "for i in range(0, length//2):\n",
    "    summary += int(N[i])\n",
    "\n",
    "for i in range(length//2, length):\n",
    "    summary -= int(N[i])\n",
    "    \n",
    "if summary == 0:\n",
    "    print('LUCKY')\n",
    "else:\n",
    "    print('READY')"
   ]
  },
  {
   "cell_type": "markdown",
   "metadata": {},
   "source": [
    "### [구현] 기출문제2 - 문자열 재정렬\n",
    "\n",
    "- 문자열로 구성되어있는지 확인하는 방법의 메소드로 ``.isalpha()``가 있음!! 이를 애용하도록 하자!\n",
    "    * 반대로 숫자만으로 구성되어있는지를 확인하는 ``.isdigit()``도 있음!\n",
    "    * ``isalnum()`` : 문자또는 숫자로 구성되어있으면 True, 공백 포함되어 있으면 False\n",
    "    * ``isspace()`` : 공백이 하나라도 있으면 True"
   ]
  },
  {
   "cell_type": "code",
   "execution_count": 4,
   "metadata": {},
   "outputs": [
    {
     "name": "stdout",
     "output_type": "stream",
     "text": [
      "ABDASD\n",
      "AABDDS\n"
     ]
    }
   ],
   "source": [
    "### 내 풀이 ###\n",
    "S = input()\n",
    "alphabet = []\n",
    "number = 0\n",
    "\n",
    "for s in S:\n",
    "    if 65 <= ord(s) <= 90:\n",
    "        alphabet.append(s)\n",
    "    else:\n",
    "        number += int(s)\n",
    "alphabet = sorted(alphabet)\n",
    "\n",
    "# 틀린 부분!!! => 문자열에 숫자가 주어지지 않을 경우를 고려해야 함!\n",
    "if number != 0:\n",
    "    alphabet.append(str(number))\n",
    "\n",
    "print(''.join(alphabet))"
   ]
  },
  {
   "cell_type": "code",
   "execution_count": 10,
   "metadata": {},
   "outputs": [
    {
     "name": "stdout",
     "output_type": "stream",
     "text": [
      "ABDASD\n",
      "AABDDS\n"
     ]
    }
   ],
   "source": [
    "### 정석 풀이 ###\n",
    "S = input()\n",
    "alphabet = []\n",
    "number = 0\n",
    "\n",
    "for s in S:\n",
    "    if s.isalpha():\n",
    "        alphabet.append(s)\n",
    "    else:\n",
    "        number += int(s)\n",
    "alphabet.sort()\n",
    "\n",
    "if number != 0:\n",
    "    alphabet.append(str(number))\n",
    "\n",
    "print(''.join(alphabet))"
   ]
  },
  {
   "cell_type": "markdown",
   "metadata": {},
   "source": [
    "### [구현] 기출문제3 - 문자열 압축\n",
    "\n",
    "- 카카오 문제 매우 어렵다..하핳"
   ]
  },
  {
   "cell_type": "code",
   "execution_count": null,
   "metadata": {},
   "outputs": [],
   "source": [
    "### 책 정석 풀이 ###\n",
    "s = input()\n",
    "answer = len(s)  # 압축하지 않은 native한 문자열 길이\n",
    "\n",
    "# 1개 단위부터 (N//2)개 단위까지 압축 시도 -> 이 때 왜 N//2냐? ex. N=12개면 N//2는 6으로 6개 단위로 2개 압축가능. but 7개/5개 압축은 그냥 압축시키지 않은 결과랑 동일하게 된다. 의미가 없어짐..\n",
    "for step in range(1, (len(s)//2)+1):\n",
    "    compressed = \"\"   # 압축시켜 기록할 문자열\n",
    "    prev = s[0:step]  # 맨 처음 압축하는 문자열 step 단위로 확인\n",
    "    count = 1         # 반복되는 문자열 셀 count -> prev가 등장한 것만으로도 count +1 쳐야함!\n",
    "    # 압축한 문자열이 다음 step 단위의 문자열과 반복되는지 확인 -> $ 3번째 스텝인자를 넣어주면 len(s)끝까지 도달하지 않을 경우에 남은 len(s)까지 남은 문자열이 존재\n",
    "    for j in range(step, len(s), step):\n",
    "        # 만약 prev가 next와 동일한 문자열이면 압축\n",
    "        if prev == s[j:j+step]:\n",
    "            count += 1\n",
    "        # 만약 동일한 문자열 아니면 compressed 문자열에다가 기록\n",
    "        else:\n",
    "            compressed += str(count) + prev if count >= 2 else prev\n",
    "            prev = s[j:j+step]  # 동일한 문자열 확인하는 기준이 되는 prev 재설정\n",
    "            count = 1           # 카운트도 초기화\n",
    "    # inner loop문에서 '$'부분에 대한 나머지 문자열을 처리\n",
    "    compressed += str(count) + prev if count >=2 else prev\n",
    "    answer = min(answer, len(compressed))\n",
    "\n",
    "print(answer)"
   ]
  },
  {
   "cell_type": "code",
   "execution_count": 11,
   "metadata": {},
   "outputs": [],
   "source": [
    "### 함수 상태로 연습 ###\n",
    "def solution(s):\n",
    "    answer = len(s)  # 압축하지 않은 상태의 문자열 길이\n",
    "    # step 단위 만큼 압축 시도 시작\n",
    "    for step in range(1, len(s)//2+1):\n",
    "        compressed = ''  # 압축한 문자열 기록\n",
    "        prev = s[0:step] # 압축 시작 후 첫 번째 문자열\n",
    "        count = 1\n",
    "        # 첫 번째 문자열 이후로 step 단위 만큼 이동해서 동일한 문자열 여부 확인\n",
    "        for j in range(step, len(s), step):\n",
    "            if prev == s[j:j+step]:\n",
    "                count += 1\n",
    "            else:\n",
    "                compressed += str(count) + prev if count >= 2 else prev\n",
    "                prev = s[j:j+step]\n",
    "                count = 1\n",
    "        # step단위로 수행후 len(s)끝까지 도달하지 않은 문자열들 처리하기\n",
    "        compressed += str(count) + prev if count >= 2 else prev\n",
    "        # 최소 문자열 길이 측정\n",
    "        answer = min(answer, len(compressed))\n",
    "    \n",
    "    return answer"
   ]
  },
  {
   "cell_type": "code",
   "execution_count": null,
   "metadata": {},
   "outputs": [],
   "source": []
  }
 ],
 "metadata": {
  "hide_input": false,
  "kernelspec": {
   "display_name": "Python 3",
   "language": "python",
   "name": "python3"
  },
  "language_info": {
   "codemirror_mode": {
    "name": "ipython",
    "version": 3
   },
   "file_extension": ".py",
   "mimetype": "text/x-python",
   "name": "python",
   "nbconvert_exporter": "python",
   "pygments_lexer": "ipython3",
   "version": "3.7.6"
  },
  "toc": {
   "base_numbering": 1,
   "nav_menu": {},
   "number_sections": true,
   "sideBar": true,
   "skip_h1_title": false,
   "title_cell": "Table of Contents",
   "title_sidebar": "Contents",
   "toc_cell": true,
   "toc_position": {},
   "toc_section_display": true,
   "toc_window_display": false
  },
  "varInspector": {
   "cols": {
    "lenName": 16,
    "lenType": 16,
    "lenVar": 40
   },
   "kernels_config": {
    "python": {
     "delete_cmd_postfix": "",
     "delete_cmd_prefix": "del ",
     "library": "var_list.py",
     "varRefreshCmd": "print(var_dic_list())"
    },
    "r": {
     "delete_cmd_postfix": ") ",
     "delete_cmd_prefix": "rm(",
     "library": "var_list.r",
     "varRefreshCmd": "cat(var_dic_list()) "
    }
   },
   "types_to_exclude": [
    "module",
    "function",
    "builtin_function_or_method",
    "instance",
    "_Feature"
   ],
   "window_display": false
  }
 },
 "nbformat": 4,
 "nbformat_minor": 4
}

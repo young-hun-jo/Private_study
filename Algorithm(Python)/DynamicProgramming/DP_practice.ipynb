{
 "cells": [
  {
   "cell_type": "markdown",
   "metadata": {
    "toc": true
   },
   "source": [
    "<h1>Table of Contents<span class=\"tocSkip\"></span></h1>\n",
    "<div class=\"toc\"><ul class=\"toc-item\"><li><span><a href=\"#실전문제---1로-만들기\" data-toc-modified-id=\"실전문제---1로-만들기-1\"><span class=\"toc-item-num\">1&nbsp;&nbsp;</span>실전문제 - 1로 만들기</a></span></li><li><span><a href=\"#실전문제---개미-전사\" data-toc-modified-id=\"실전문제---개미-전사-2\"><span class=\"toc-item-num\">2&nbsp;&nbsp;</span>실전문제 - 개미 전사</a></span></li><li><span><a href=\"#실전문제---바닥-공사\" data-toc-modified-id=\"실전문제---바닥-공사-3\"><span class=\"toc-item-num\">3&nbsp;&nbsp;</span>실전문제 - 바닥 공사</a></span></li></ul></div>"
   ]
  },
  {
   "cell_type": "markdown",
   "metadata": {},
   "source": [
    "### 실전문제 - 1로 만들기"
   ]
  },
  {
   "cell_type": "code",
   "execution_count": 1,
   "metadata": {},
   "outputs": [
    {
     "name": "stdout",
     "output_type": "stream",
     "text": [
      "324\n",
      "6\n"
     ]
    }
   ],
   "source": [
    "x = int(input())\n",
    "d = [0] * 30001  # 주어진 x 범위\n",
    "\n",
    "for i in range(2, x+1):\n",
    "    # 1.우선 -1을 시킨 값이 1로 만들어지는 최소횟수를 할당 \n",
    "    d[i] = d[i-1] + 1\n",
    "    # 2. 2로 나눈 값이 1로 만들어지는 최소횟수와 1번 결과를 비교\n",
    "    if i % 2 == 0:\n",
    "        d[i] = min(d[i], d[i//2] + 1)\n",
    "    # 3. 3으로 나눈 값이 1로 만들어지는 최소횟수와 1,2번 중 최소횟수와 비교\n",
    "    if i % 3 == 0:\n",
    "        d[i] = min(d[i], d[i//3] + 1)\n",
    "    # 4. 5로 나눈 값이 1로 만들어지는 최소횟수와 1,2,3번 중 최소횟수와 비교\n",
    "    if i % 5 == 0:\n",
    "        d[i] = min(d[i], d[i//5] + 1)\n",
    "\n",
    "print(d[x])"
   ]
  },
  {
   "cell_type": "markdown",
   "metadata": {},
   "source": [
    "### 실전문제 - 개미 전사"
   ]
  },
  {
   "cell_type": "code",
   "execution_count": null,
   "metadata": {},
   "outputs": [],
   "source": [
    "### 깃헙 이슈에 질문한 풀이 ###\n",
    "\n",
    "n = int(input())\n",
    "array = list(map(int, input().split()))\n",
    "d = [0] * 100\n",
    "# array의 0,1번째 인덱스의 값인 1번째, 2번째 창고 DP 테이블에 기록\n",
    "d[0] = array[0]\n",
    "d[1] = array[1]\n",
    "\n",
    "for i in range(2, n):\n",
    "    d[i] = max(array[i] + d[i-2], d[i-1])\n",
    "\n",
    "print(d[n-1])"
   ]
  },
  {
   "cell_type": "code",
   "execution_count": null,
   "metadata": {},
   "outputs": [],
   "source": [
    "### 교재 정답 ###\n",
    "n = int(input())\n",
    "array = list(map(int, input().split()))\n",
    "d = [0] * 100\n",
    "# array의 0,1번째 인덱스의 값인 1번째, 2번째 창고 DP 테이블에 기록\n",
    "d[0] = array[0]\n",
    "d[1] = max(array[0], array[1])  # why??\n",
    "\n",
    "for i in range(2, n):\n",
    "    d[i] = max(array[i] + d[i-2], d[i-1])\n",
    "\n",
    "print(d[n-1])"
   ]
  },
  {
   "cell_type": "markdown",
   "metadata": {},
   "source": [
    "### 실전문제 - 바닥 공사"
   ]
  },
  {
   "cell_type": "code",
   "execution_count": 1,
   "metadata": {},
   "outputs": [
    {
     "name": "stdout",
     "output_type": "stream",
     "text": [
      "54\n",
      "12419\n"
     ]
    }
   ],
   "source": [
    "### 교재 정답 ###\n",
    "n = int(input())\n",
    "d = [0] * 1001\n",
    "d[1] = 1\n",
    "d[2] = 3\n",
    "\n",
    "# DP의 전형적인 풀이방법 -> Bottom-Up = 이미 다 채워진 상태에서 출발하는 아이디어 생각하기..(계속 시도)\n",
    "for i in range(3, n+1):\n",
    "    d[i] = (d[i-1] + d[i-2] * 2) % 796796\n",
    "\n",
    "print(d[n])"
   ]
  },
  {
   "cell_type": "code",
   "execution_count": null,
   "metadata": {},
   "outputs": [],
   "source": []
  }
 ],
 "metadata": {
  "hide_input": false,
  "kernelspec": {
   "display_name": "Python 3",
   "language": "python",
   "name": "python3"
  },
  "language_info": {
   "codemirror_mode": {
    "name": "ipython",
    "version": 3
   },
   "file_extension": ".py",
   "mimetype": "text/x-python",
   "name": "python",
   "nbconvert_exporter": "python",
   "pygments_lexer": "ipython3",
   "version": "3.7.6"
  },
  "toc": {
   "base_numbering": 1,
   "nav_menu": {},
   "number_sections": true,
   "sideBar": true,
   "skip_h1_title": false,
   "title_cell": "Table of Contents",
   "title_sidebar": "Contents",
   "toc_cell": true,
   "toc_position": {},
   "toc_section_display": true,
   "toc_window_display": false
  },
  "varInspector": {
   "cols": {
    "lenName": 16,
    "lenType": 16,
    "lenVar": 40
   },
   "kernels_config": {
    "python": {
     "delete_cmd_postfix": "",
     "delete_cmd_prefix": "del ",
     "library": "var_list.py",
     "varRefreshCmd": "print(var_dic_list())"
    },
    "r": {
     "delete_cmd_postfix": ") ",
     "delete_cmd_prefix": "rm(",
     "library": "var_list.r",
     "varRefreshCmd": "cat(var_dic_list()) "
    }
   },
   "types_to_exclude": [
    "module",
    "function",
    "builtin_function_or_method",
    "instance",
    "_Feature"
   ],
   "window_display": false
  }
 },
 "nbformat": 4,
 "nbformat_minor": 4
}

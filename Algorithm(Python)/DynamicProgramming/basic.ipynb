{
 "cells": [
  {
   "cell_type": "markdown",
   "metadata": {
    "toc": true
   },
   "source": [
    "<h1>Table of Contents<span class=\"tocSkip\"></span></h1>\n",
    "<div class=\"toc\"><ul class=\"toc-item\"><li><span><a href=\"#다이나믹-프로그래밍(동적-계획법)\" data-toc-modified-id=\"다이나믹-프로그래밍(동적-계획법)-1\"><span class=\"toc-item-num\">1&nbsp;&nbsp;</span>다이나믹 프로그래밍(동적 계획법)</a></span></li></ul></div>"
   ]
  },
  {
   "cell_type": "markdown",
   "metadata": {},
   "source": [
    "# 다이나믹 프로그래밍(동적 계획법)\n",
    "\n",
    "- **한 번 계산한 문제는 다시 계산하지 않도록 하는** 알고리즘\n",
    "- **메모리 공간을 약간 더 사용** -> 연산 속도를 비약적으로 증가시키는 방법\n",
    "- 다이나믹 프로그래밍을 사용 시 조건\n",
    "    - **큰 문제를 작은 문제로 나눌 수 있다!**\n",
    "    - **작은 문제에서 구한 정답은 그것을 포함하는 큰 문제에서도 동일하다!**\n",
    "- **메모제이션(캐싱)** 기법을 이용. 즉, **한 번 구한 결과를 메모리 공간에 담아두고 같은 식을 나중에 또 호출하게 되면 그 때 메모리에서 빼서 갖다 바로 쓰는 것!**\n",
    "- 다이나믹 프로그래밍에 크게 2가지 구현 방법이 존재\n",
    "    * **재귀 함수** \n",
    "        - 메모제이션 기법을 활용(한 번 구한 결과를 저장할 메모리)\n",
    "        - 그러나 컴퓨터 시스템에서 재귀함수를 다시 호출 시 메모리 상제 적재되는 과정을 따라야 하므로 **오버헤드**문제 발생\n",
    "        - Top-Down 방식(큰 문제를 해결하기 위해 작은 문제를 호출함!)\n",
    "    * **단순 반복문**\n",
    "        - DP 테이블(한 번 구한 결과를 저장할 메모리)\n",
    "        - Boottom-Up 방식(작은 문제부터 차근차근 답을 도출!)\n",
    "<br><br>\n",
    "- **메모 제이션**은 때로 사전(dict) 자료를 이용할 수도 있는데, 수열처럼 연속적이지 않은 자료일 때 유용함\n",
    "    * ex. $a_n$을 계산하고자 할 때 $a_0$ 부터 $a_{n-1}$ 모두가 아닌 **일부의 작은 문제에 대한 해답만 필요한 경우**\n",
    "<br><br>\n",
    "- 첫 번째, 주어진 문제가 다이나믹 프로그래밍 유형인지 확인 -> 만약 완전탐색 알고리즘으로 접근했을 때 시간이 매우 오래 걸린다면 의심! -> 또, 해결하고자 하는 부분 문제들의 중복이 많다면 의심!\n",
    "- 재귀함수로 비효율적인 프로그램을 작성하고 작은 문제에서 구현된 답이 또 사용되는 것을 알고 코드를 개선시킬 수도 있지만..\n",
    "- 되도록 **단순 반복문을 활용한 Bottom-Up** 방식으로 구현하는 것을 권장!\n",
    "- 참고)재귀함수로 구현했을 때 ``recursion Error``가 발생한다면 ``sys``의 ``setrecursionlimit()``을 호출해 재귀 제한 완화시키는 방법도 있음!"
   ]
  },
  {
   "cell_type": "code",
   "execution_count": 8,
   "metadata": {},
   "outputs": [
    {
     "name": "stdout",
     "output_type": "stream",
     "text": [
      "5 -> 러닝타임: 0.0 초\n",
      "610 -> 러닝타임: 0.0 초\n",
      "75025 -> 러닝타임: 0.03 초\n",
      "9227465 -> 러닝타임: 1.99 초\n"
     ]
    }
   ],
   "source": [
    "# 피보나치 수열을 단순 재귀함수로 구현하는 방법\n",
    "import time\n",
    "\n",
    "def fibo(x):\n",
    "    if x == 1 or x == 2:\n",
    "        return 1\n",
    "    return fibo(x-1) + fibo(x-2)\n",
    "\n",
    "for num in range(5, 40, 10):\n",
    "    start = time.time()\n",
    "    res = fibo(num)\n",
    "    print(res, '-> 러닝타임:', round(time.time() - start, 2), '초')"
   ]
  },
  {
   "cell_type": "markdown",
   "metadata": {},
   "source": [
    "- 숫자가 좀만 커쳐도 속도가 매우 오래걸림을 알 수 있음"
   ]
  },
  {
   "cell_type": "code",
   "execution_count": 11,
   "metadata": {},
   "outputs": [
    {
     "name": "stdout",
     "output_type": "stream",
     "text": [
      "5 -> 러닝타임: 0.0 초\n",
      "610 -> 러닝타임: 0.0 초\n",
      "75025 -> 러닝타임: 0.0 초\n",
      "9227465 -> 러닝타임: 0.0 초\n"
     ]
    }
   ],
   "source": [
    "# 재귀함수를 사용한 Top-Down방식을 활용해 피보나치 수열 구현\n",
    "import time\n",
    "\n",
    "d = [0] * 100\n",
    "\n",
    "def fibo(x):\n",
    "    if x == 1 or x == 2:\n",
    "        return 1\n",
    "    # 이미 계산한 값이라면 메모리에서 결과 가져오기\n",
    "    if d[x] != 0:\n",
    "        return d[x]\n",
    "    # 아직 계산하지 않았다면 계산 후 메모리에 저장\n",
    "    d[x] = fibo(x-1) + fibo(x-2)\n",
    "    return d[x]\n",
    "    \n",
    "for num in range(5, 40, 10):\n",
    "    start = time.time()\n",
    "    res = fibo(num)\n",
    "    print(res, '-> 러닝타임:', round(time.time() - start, 2), '초')"
   ]
  },
  {
   "cell_type": "code",
   "execution_count": 16,
   "metadata": {},
   "outputs": [
    {
     "name": "stdout",
     "output_type": "stream",
     "text": [
      "f5, [0, 0, 0, 0, 0, 0, 0, 0, 0, 0]->f4, [0, 0, 0, 0, 0, 0, 0, 0, 0, 0]->f3, [0, 0, 0, 0, 0, 0, 0, 0, 0, 0]->f2, [0, 0, 0, 0, 0, 0, 0, 0, 0, 0]->f1, [0, 0, 0, 0, 0, 0, 0, 0, 0, 0]->f2, [0, 0, 0, 2, 0, 0, 0, 0, 0, 0]->f3, [0, 0, 0, 2, 3, 0, 0, 0, 0, 0]->5\n"
     ]
    }
   ],
   "source": [
    "# 다이나믹 프로그래밍으로 피보나치 수열을 구현하게 되면 실질적으로 어떤 함수들이 호출되었는지 확인\n",
    "\n",
    "d = [0] * 10\n",
    "\n",
    "def fibo(x):\n",
    "    print(f\"f{str(x)}, {d}\", end='->') # 어떤 함수를 호출했는지 출력\n",
    "    if x == 1 or x == 2:\n",
    "        return 1\n",
    "    if d[x] != 0:\n",
    "        return d[x]\n",
    "    d[x] = fibo(x-1) + fibo(x-2)\n",
    "    return d[x]\n",
    "\n",
    "print(fibo(5))    "
   ]
  },
  {
   "cell_type": "code",
   "execution_count": 19,
   "metadata": {},
   "outputs": [
    {
     "name": "stdout",
     "output_type": "stream",
     "text": [
      "218922995834555169026\n"
     ]
    }
   ],
   "source": [
    "# 단순반목문을 활용한 Bottom-Up 방식으로 피보나치 수열 구현\n",
    "# 피보나치 수열의 99번째 값을 출력해보자.\n",
    "import time\n",
    "\n",
    "d = [0] * 100 # 0번째 인덱스 때문에 100개 만들기\n",
    "d[1] = 1  # 1번째 항\n",
    "d[2] = 1  # 2번째 항\n",
    "N = 99\n",
    "\n",
    "for i in range(3, N+1):\n",
    "    d[i] = d[i-1] + d[i-2]\n",
    "\n",
    "# 99번째 인덱스에 있는 값이 99번째 피보나치 수열값\n",
    "print(d[N])"
   ]
  },
  {
   "cell_type": "code",
   "execution_count": null,
   "metadata": {},
   "outputs": [],
   "source": []
  }
 ],
 "metadata": {
  "hide_input": false,
  "kernelspec": {
   "display_name": "Python 3",
   "language": "python",
   "name": "python3"
  },
  "language_info": {
   "codemirror_mode": {
    "name": "ipython",
    "version": 3
   },
   "file_extension": ".py",
   "mimetype": "text/x-python",
   "name": "python",
   "nbconvert_exporter": "python",
   "pygments_lexer": "ipython3",
   "version": "3.7.6"
  },
  "toc": {
   "base_numbering": 1,
   "nav_menu": {},
   "number_sections": true,
   "sideBar": true,
   "skip_h1_title": false,
   "title_cell": "Table of Contents",
   "title_sidebar": "Contents",
   "toc_cell": true,
   "toc_position": {},
   "toc_section_display": true,
   "toc_window_display": false
  },
  "varInspector": {
   "cols": {
    "lenName": 16,
    "lenType": 16,
    "lenVar": 40
   },
   "kernels_config": {
    "python": {
     "delete_cmd_postfix": "",
     "delete_cmd_prefix": "del ",
     "library": "var_list.py",
     "varRefreshCmd": "print(var_dic_list())"
    },
    "r": {
     "delete_cmd_postfix": ") ",
     "delete_cmd_prefix": "rm(",
     "library": "var_list.r",
     "varRefreshCmd": "cat(var_dic_list()) "
    }
   },
   "types_to_exclude": [
    "module",
    "function",
    "builtin_function_or_method",
    "instance",
    "_Feature"
   ],
   "window_display": false
  }
 },
 "nbformat": 4,
 "nbformat_minor": 4
}

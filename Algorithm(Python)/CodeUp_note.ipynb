{
 "cells": [
  {
   "cell_type": "markdown",
   "metadata": {},
   "source": [
    "### 1091 문제\n",
    "어떤 규칙에 따라 수를 순서대로 나열한 것을 수열이라고 한다.\n",
    "\n",
    "예를 들어\n",
    "1 -1 3 -5 11 -21 43 ... 은\n",
    "1부터 시작해 이전에 만든 수에 -2를 곱한 다음 1을 더해 다음 수를 만든 수열이다.\n",
    "\n",
    "이런 이상한 수열을 알게 된 영일이는 또 궁금해졌다.\n",
    "\n",
    "\"그럼.... 13번째 나오는 수는 뭘까?\"\n",
    "\n",
    "영일이는 물론 수학을 아주 잘하지만 이런 문제는 본 적이 거의 없었다...\n",
    "\n",
    "그래서 프로그램을 만들어 더 큰 수도 자동으로 계산하고 싶어졌다.\n",
    "\n",
    "\n",
    "시작 값(a), 곱할 값(m), 더할 값(d), 몇 번째인지를 나타내는 정수(n)가 입력될 때,\n",
    "n번째 수를 출력하는 프로그램을 만들어보자."
   ]
  },
  {
   "cell_type": "code",
   "execution_count": 5,
   "metadata": {},
   "outputs": [
    {
     "name": "stdout",
     "output_type": "stream",
     "text": [
      "1 -2 1 8\n",
      "결과값: -85\n"
     ]
    }
   ],
   "source": [
    "a, m, d, n = input().split()\n",
    "a, m = int(a), int(m)\n",
    "d , n = int(d), int(n)\n",
    "\n",
    "for i in range(n-1): # 0~n-2번째까지니까 결국 for문 도는 횟수는 n-1번! -> 우리가 구하려는 일반항: a_n = m * a_n-1 + d 잖아!\n",
    "    a = m * a + d # a_3를 구할 때는 a_2를 이용하니까 a에 재할당!\n",
    "print(\"결과값:\", a)    "
   ]
  },
  {
   "cell_type": "markdown",
   "metadata": {},
   "source": [
    "### 1092 문제\n",
    "\n",
    "- if 조건문에서 and/or 연산자 연속으로 사용 가능!"
   ]
  },
  {
   "cell_type": "code",
   "execution_count": 6,
   "metadata": {},
   "outputs": [
    {
     "name": "stdout",
     "output_type": "stream",
     "text": [
      "1 2 8\n",
      "8\n"
     ]
    }
   ],
   "source": [
    "a, b, c = input().split()\n",
    "a = int(a)\n",
    "b = int(b)\n",
    "c = int(c)\n",
    "\n",
    "day = 1\n",
    "while True:\n",
    "    if (day % a == 0) and (day % b == 0) and (day % c ==0): # 가능!\n",
    "        print(day)\n",
    "        break\n",
    "    day += 1"
   ]
  },
  {
   "cell_type": "markdown",
   "metadata": {},
   "source": [
    "### 1093 문제\n",
    "- 리스트 요소를 문자열로 바꾸고 공백으로 붙이는 방법!"
   ]
  },
  {
   "cell_type": "code",
   "execution_count": 7,
   "metadata": {},
   "outputs": [
    {
     "name": "stdout",
     "output_type": "stream",
     "text": [
      "10\n",
      "3 2 4\n",
      "0 1 1 1 0 0 0 0 0 0 0 0 0 0 0 0 0 0 0 0 0 0 0\n"
     ]
    }
   ],
   "source": [
    "n = int(input())\n",
    "nums = list(map(int, input().split()))\n",
    "freq = [0]*23\n",
    "\n",
    "for i in nums:\n",
    "    freq[i-1] += 1\n",
    "res = ' '.join(str(e) for e in freq)\n",
    "print(res)"
   ]
  },
  {
   "cell_type": "markdown",
   "metadata": {},
   "source": [
    "### 1094 문제\n",
    "- 리스트 거꾸로 뒤집기\n",
    "    * list[::-1]\n",
    "    * list.reverse() 하면 inplace 됨!"
   ]
  },
  {
   "cell_type": "markdown",
   "metadata": {},
   "source": [
    "### 1096 문제\n",
    "기숙사 생활을 하는 학교에서 어떤 금요일(전원 귀가일)에는 모두 집으로 귀가를 한다.\n",
    "\n",
    "오랜만에 집에 간 영일이는 아버지와 함께 두던 매우 큰 오목에 대해서 생각해 보다가\n",
    "\"바둑판에 돌을 올린 것을 프로그래밍 할 수 있을까?\"하고 생각하였다.\n",
    "\n",
    "바둑판(19 * 19)에 n개의 흰 돌을 놓는다고 할 때,\n",
    "n개의 흰 돌이 놓인 위치를 출력하는 프로그램을 작성해보자.\n",
    "\n",
    "\n",
    "참고\n",
    "가로번호, 세로번호를 사용할 수 있는 2차원 배열을 사용하면\n",
    "이러한 형태를 쉽게 기록하고 사용할 수 있다. 물론 더 확장한 n차원 배열도 만들 수 있다.\n"
   ]
  },
  {
   "cell_type": "code",
   "execution_count": 8,
   "metadata": {},
   "outputs": [
    {
     "name": "stdout",
     "output_type": "stream",
     "text": [
      "5\n",
      "1 1\n",
      "2 2\n",
      "3 3\n",
      "4 4\n",
      "5 5\n",
      "1 0 0 0 0 0 0 0 0 0 0 0 0 0 0 0 0 0 0\n",
      "0 1 0 0 0 0 0 0 0 0 0 0 0 0 0 0 0 0 0\n",
      "0 0 1 0 0 0 0 0 0 0 0 0 0 0 0 0 0 0 0\n",
      "0 0 0 1 0 0 0 0 0 0 0 0 0 0 0 0 0 0 0\n",
      "0 0 0 0 1 0 0 0 0 0 0 0 0 0 0 0 0 0 0\n",
      "0 0 0 0 0 0 0 0 0 0 0 0 0 0 0 0 0 0 0\n",
      "0 0 0 0 0 0 0 0 0 0 0 0 0 0 0 0 0 0 0\n",
      "0 0 0 0 0 0 0 0 0 0 0 0 0 0 0 0 0 0 0\n",
      "0 0 0 0 0 0 0 0 0 0 0 0 0 0 0 0 0 0 0\n",
      "0 0 0 0 0 0 0 0 0 0 0 0 0 0 0 0 0 0 0\n",
      "0 0 0 0 0 0 0 0 0 0 0 0 0 0 0 0 0 0 0\n",
      "0 0 0 0 0 0 0 0 0 0 0 0 0 0 0 0 0 0 0\n",
      "0 0 0 0 0 0 0 0 0 0 0 0 0 0 0 0 0 0 0\n",
      "0 0 0 0 0 0 0 0 0 0 0 0 0 0 0 0 0 0 0\n",
      "0 0 0 0 0 0 0 0 0 0 0 0 0 0 0 0 0 0 0\n",
      "0 0 0 0 0 0 0 0 0 0 0 0 0 0 0 0 0 0 0\n",
      "0 0 0 0 0 0 0 0 0 0 0 0 0 0 0 0 0 0 0\n",
      "0 0 0 0 0 0 0 0 0 0 0 0 0 0 0 0 0 0 0\n"
     ]
    }
   ],
   "source": [
    "# 내가 푼 풀이 -> 틀림..왜틀렸을가?\n",
    "n = int(input())\n",
    "xy_lst = [list(map(int, input().split())) for _ in range(n)]\n",
    "res = [[0]*19 for _ in range(18)]\n",
    "for xy in xy_lst:\n",
    "    x, y = xy[0], xy[1]\n",
    "    res[x-1][y-1] = 1\n",
    "res = '\\n'.join(str(e) for e in res)\n",
    "res = res.replace(',','')\n",
    "res = res.replace('[', '')\n",
    "res = res.replace(']', '')\n",
    "print(res)"
   ]
  },
  {
   "cell_type": "code",
   "execution_count": 17,
   "metadata": {},
   "outputs": [
    {
     "name": "stdout",
     "output_type": "stream",
     "text": [
      "4\n",
      "1 5\n",
      "19 17\n",
      "2 5\n",
      "3 4\n",
      "0 0 0 0 1 0 0 0 0 0 0 0 0 0 0 0 0 0 0 \n",
      "0 0 0 0 1 0 0 0 0 0 0 0 0 0 0 0 0 0 0 \n",
      "0 0 0 1 0 0 0 0 0 0 0 0 0 0 0 0 0 0 0 \n",
      "0 0 0 0 0 0 0 0 0 0 0 0 0 0 0 0 0 0 0 \n",
      "0 0 0 0 0 0 0 0 0 0 0 0 0 0 0 0 0 0 0 \n",
      "0 0 0 0 0 0 0 0 0 0 0 0 0 0 0 0 0 0 0 \n",
      "0 0 0 0 0 0 0 0 0 0 0 0 0 0 0 0 0 0 0 \n",
      "0 0 0 0 0 0 0 0 0 0 0 0 0 0 0 0 0 0 0 \n",
      "0 0 0 0 0 0 0 0 0 0 0 0 0 0 0 0 0 0 0 \n",
      "0 0 0 0 0 0 0 0 0 0 0 0 0 0 0 0 0 0 0 \n",
      "0 0 0 0 0 0 0 0 0 0 0 0 0 0 0 0 0 0 0 \n",
      "0 0 0 0 0 0 0 0 0 0 0 0 0 0 0 0 0 0 0 \n",
      "0 0 0 0 0 0 0 0 0 0 0 0 0 0 0 0 0 0 0 \n",
      "0 0 0 0 0 0 0 0 0 0 0 0 0 0 0 0 0 0 0 \n",
      "0 0 0 0 0 0 0 0 0 0 0 0 0 0 0 0 0 0 0 \n",
      "0 0 0 0 0 0 0 0 0 0 0 0 0 0 0 0 0 0 0 \n",
      "0 0 0 0 0 0 0 0 0 0 0 0 0 0 0 0 0 0 0 \n",
      "0 0 0 0 0 0 0 0 0 0 0 0 0 0 0 0 0 0 0 \n",
      "0 0 0 0 0 0 0 0 0 0 0 0 0 0 0 0 1 0 0 \n"
     ]
    }
   ],
   "source": [
    "#### 모법 답안 ####\n",
    "\n",
    "# 우선 19 by 19 판 2차원 array 만들기\n",
    "zero = [[0]*19 for _ in range(19)]\n",
    "\n",
    "# 몇 개의 흰 돌을 둘지 입력\n",
    "n = int(input())\n",
    "# n개수 만큼 좌표입력 후 해당 좌표값의 array값을 1로 만들기\n",
    "for i in range(n):\n",
    "    b, c = map(int, input().split())\n",
    "    zero[b-1][c-1] = 1 # index는 0부터 시작이라서 -1해주기\n",
    "    \n",
    "# 리스트를 문자열로 만들기\n",
    "for i in range(19):\n",
    "    for j in range(19):\n",
    "        # 구분자를 공백으로 해주고 한줄씩 출력시키자!\n",
    "        print(zero[i][j], end=' ')\n",
    "    print()"
   ]
  },
  {
   "cell_type": "code",
   "execution_count": null,
   "metadata": {},
   "outputs": [],
   "source": []
  }
 ],
 "metadata": {
  "hide_input": false,
  "kernelspec": {
   "display_name": "Python 3",
   "language": "python",
   "name": "python3"
  },
  "language_info": {
   "codemirror_mode": {
    "name": "ipython",
    "version": 3
   },
   "file_extension": ".py",
   "mimetype": "text/x-python",
   "name": "python",
   "nbconvert_exporter": "python",
   "pygments_lexer": "ipython3",
   "version": "3.7.6"
  },
  "toc": {
   "base_numbering": 1,
   "nav_menu": {},
   "number_sections": true,
   "sideBar": true,
   "skip_h1_title": false,
   "title_cell": "Table of Contents",
   "title_sidebar": "Contents",
   "toc_cell": false,
   "toc_position": {},
   "toc_section_display": true,
   "toc_window_display": false
  },
  "varInspector": {
   "cols": {
    "lenName": 16,
    "lenType": 16,
    "lenVar": 40
   },
   "kernels_config": {
    "python": {
     "delete_cmd_postfix": "",
     "delete_cmd_prefix": "del ",
     "library": "var_list.py",
     "varRefreshCmd": "print(var_dic_list())"
    },
    "r": {
     "delete_cmd_postfix": ") ",
     "delete_cmd_prefix": "rm(",
     "library": "var_list.r",
     "varRefreshCmd": "cat(var_dic_list()) "
    }
   },
   "types_to_exclude": [
    "module",
    "function",
    "builtin_function_or_method",
    "instance",
    "_Feature"
   ],
   "window_display": false
  }
 },
 "nbformat": 4,
 "nbformat_minor": 4
}

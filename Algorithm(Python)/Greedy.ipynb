{
 "cells": [
  {
   "cell_type": "markdown",
   "metadata": {},
   "source": [
    "## 그리디 알고리즘\n",
    "\n",
    "- 현재 상황에서 지금 당장 좋은 것만 고르는 방법\n",
    "- 문제에서 ``가장 큰 순서대로``, ``가장 작은 순서대로``와 같은 기준을 알게 모르게 제시 해주는 경우 있음\n",
    "- 요소 종류의 개수 K만큼 시간 복잡도가 ``O(K)``\n",
    "- 해법이 타당한지 검토해야 함!\n",
    "    * 큰 단위의 요소가 작은 단위의 모두 배수가 되어야 함!\n",
    "        * Ex) [500, 100, 50, 10]이 있으면 어떤 수든 큰 단위가 작은 단위의 배수! => ``최적의 해 보장 조건``\n",
    "- 바로 문제 유형을 파악하기 어렵다면 **그리디 알고리즘** 의심하고 탐욕적인 해결법이 존재하는지 고민해보기"
   ]
  },
  {
   "cell_type": "markdown",
   "metadata": {},
   "source": [
    "#### 예제 1) 큰 수의 법칙"
   ]
  },
  {
   "cell_type": "code",
   "execution_count": 4,
   "metadata": {},
   "outputs": [
    {
     "name": "stdout",
     "output_type": "stream",
     "text": [
      "5 8 3\n",
      "2 4 5 4 6\n",
      "46\n"
     ]
    }
   ],
   "source": [
    "##### 모범 답안1 ###### but m크기가 100억이상되면 시간초과 문제 발생\n",
    "## idea) 3+3+3 + 1 을 한 번, 3+3+3 + 1 을 한 번 ....(반복)\n",
    "n, m, k = map(int, input().split())\n",
    "nums = list(map(int, input().split()))\n",
    "\n",
    "# 데이터 오름차순으로 정렬\n",
    "nums.sort()\n",
    "first = nums[n-1] # 최대값\n",
    "second = nums[n-2] # 두 번째로 최대값\n",
    "\n",
    "res = 0\n",
    "\n",
    "while True:\n",
    "    # 가장 큰 수를 연속해서 k번까지 더하기\n",
    "    for _ in range(k):\n",
    "        if m == 0:\n",
    "            break\n",
    "        res += first\n",
    "        # m값을 1씩 감소시키기\n",
    "        m -= 1\n",
    "    # m이 k의 배수일 때, m = 0으로 횟수가 다 채워졌을 때는 빠져나오기\n",
    "    if m == 0:\n",
    "        break\n",
    "    # 가장 큰 수 k번까지 연속으로 더해진 후 한 번의 싸이클 중 나머지 횟수를 두번째 값 더하기\n",
    "    res += second\n",
    "    m -= 1\n",
    "    \n",
    "print(res)\n",
    "    "
   ]
  },
  {
   "cell_type": "markdown",
   "metadata": {},
   "source": [
    "- 가장 큰 수가 등장하는 횟수\n",
    "    * M이 (K+1)로 나누어 떨어지는 경우와 아닌 경우 모두 고려해야 함\n",
    "    * 반복되는 수열의 길이 = K+1, 그래서 M // (K+1) = 수열이 반복되는 횟수\n",
    "    * 수열이 반복되는 횟수에 K(반복가능 횟수)를 곱해주면 = 가장 큰 수가 등장하는 횟수\n",
    "    * 그리고 M % (K+1) 즉, 나머지만큼 추가로 (가장 큰)수가 더해지면 되므로\n",
    "    * ``int(M / (K+1)) * K + M % (K+1) = 가장 큰 수가 등장하는 횟수``"
   ]
  },
  {
   "cell_type": "code",
   "execution_count": 6,
   "metadata": {},
   "outputs": [
    {
     "name": "stdout",
     "output_type": "stream",
     "text": [
      "5 8 3\n",
      "2 4 5 4 6\n",
      "46\n"
     ]
    }
   ],
   "source": [
    "##### 모범 답안2 ###### m크기가 100억이상되면 시간초과 문제 발생하지 않는 방법(수학적인 이론을 이용!)\n",
    "n, m, k = map(int, input().split())\n",
    "nums = list(map(int, input().split()))\n",
    "\n",
    "nums.sort()\n",
    "first = nums[n-1]\n",
    "second = nums[n-2]\n",
    "\n",
    "count = int(m / (k+1)) * k \n",
    "count += m % (k+1)\n",
    "\n",
    "res = 0\n",
    "res += count * first\n",
    "res += (m - count) * second\n",
    "print(res)"
   ]
  },
  {
   "cell_type": "code",
   "execution_count": 1,
   "metadata": {},
   "outputs": [
    {
     "name": "stdout",
     "output_type": "stream",
     "text": [
      "5 8 3\n",
      "2 4 5 4 6\n",
      "46\n"
     ]
    }
   ],
   "source": [
    "##### 나의 풀이 ###### => 여러가지 Test case 적용은 안 한 풀이임!(오류 있을 가능성 있음)\n",
    "# n개의 자연수, m번 더하고 k번 까지 연속적으로 더하기 가능\n",
    "n, m, k = map(int, input().split())\n",
    "nums = list(map(int, input().split()))\n",
    "\n",
    "def solution(n, m, k, nums):\n",
    "    sum_lst = []\n",
    "    max_num = max(nums)\n",
    "    # 만약 m이 k의 배수일 때\n",
    "    if m % k == 0:\n",
    "        share = m // k\n",
    "        sum_lst.append(max_num * share)\n",
    "    # m이 k의 배수가 아니고 나머지가 남을 때\n",
    "    elif m % k:\n",
    "        share = m // k\n",
    "        remain = m % k\n",
    "        # k번까지 연속해서 더하는 것을 share번 할 수 있으니까\n",
    "        sum_lst.append(max_num * k * share)\n",
    "        # 2번쨰로 큰 값을 찾기 위해 1번쨰로 큰 값 삭제\n",
    "        nums.remove(max_num)\n",
    "        sum_lst.append(max(nums) * remain)\n",
    "    return sum(sum_lst)\n",
    "\n",
    "res = solution(n, m, k, nums)\n",
    "print(res)"
   ]
  },
  {
   "cell_type": "markdown",
   "metadata": {},
   "source": [
    "#### 예제 2) 숫자 카드 게임"
   ]
  },
  {
   "cell_type": "code",
   "execution_count": 5,
   "metadata": {},
   "outputs": [
    {
     "name": "stdout",
     "output_type": "stream",
     "text": [
      "2 4\n",
      "7 3 1 8\n",
      "3 3 5 4\n",
      "3\n"
     ]
    }
   ],
   "source": [
    "##### 모범 답안1 ##### => min() 함수를 사용하는 방법\n",
    "n, m = map(int, input().split())\n",
    "\n",
    "result = 0\n",
    "\n",
    "for _ in range(n):\n",
    "    # 한 줄씩 데이터 입력!\n",
    "    data = list(map(int, input().split()))\n",
    "    # 입력된 한 줄의 데이터에서 최솟값 선택!\n",
    "    min_v = min(data)\n",
    "    result = max(result, min_v)\n",
    "\n",
    "print(result)"
   ]
  },
  {
   "cell_type": "code",
   "execution_count": 4,
   "metadata": {},
   "outputs": [
    {
     "name": "stdout",
     "output_type": "stream",
     "text": [
      "2 4\n",
      "7 3 1 8\n",
      "3 3 5 4\n",
      "3\n"
     ]
    }
   ],
   "source": [
    "##### 모범 답안2 ##### => 이중 loop 문 사용\n",
    "n, m = map(int, input().split())\n",
    "\n",
    "result = 0\n",
    "\n",
    "for _ in range(n):\n",
    "    data = list(map(int, input().split()))\n",
    "    min_v = 10001 # 값의범위가 1 <= x <= 10000이라고 지정되어서\n",
    "    # 한 줄 입력 데이터 내부에서 최솟값 선택\n",
    "    for a in data:\n",
    "        min_v = min(min_v, a)\n",
    "    # 각 줄 입력 데이터의 최솟값들 중 최댓값을 선택\n",
    "    result = max(result, min_v)\n",
    "    \n",
    "print(result)"
   ]
  },
  {
   "cell_type": "code",
   "execution_count": 2,
   "metadata": {},
   "outputs": [
    {
     "name": "stdout",
     "output_type": "stream",
     "text": [
      "2 4\n",
      "7 3 1 8\n",
      "3 3 5 4\n",
      "3\n"
     ]
    }
   ],
   "source": [
    "##### 나의 풀이 #####\n",
    "\n",
    "# N=행, M=열\n",
    "n, m = map(int, input().split())\n",
    "init = [[0] * m for _ in range(n)]\n",
    "\n",
    "for i in range(n):\n",
    "    init[i][:m] = map(int, input().split())\n",
    "\n",
    "# 각 행의 최솟값들 중 최댓값을 갖는 행을 선택하자\n",
    "# 각 행의 최솟값\n",
    "dic = {}\n",
    "for idx in range(n):\n",
    "    # 행번호 : 그 행의 최솟값\n",
    "    dic[idx] = min(init[idx])\n",
    "inverse = [(v, k) for k, v in dic.items()]\n",
    "max_idx = max(inverse)[1]\n",
    "result = min(init[max_idx])\n",
    "print(result)"
   ]
  },
  {
   "cell_type": "code",
   "execution_count": null,
   "metadata": {},
   "outputs": [],
   "source": []
  }
 ],
 "metadata": {
  "hide_input": false,
  "kernelspec": {
   "display_name": "Python 3",
   "language": "python",
   "name": "python3"
  },
  "language_info": {
   "codemirror_mode": {
    "name": "ipython",
    "version": 3
   },
   "file_extension": ".py",
   "mimetype": "text/x-python",
   "name": "python",
   "nbconvert_exporter": "python",
   "pygments_lexer": "ipython3",
   "version": "3.7.7"
  },
  "toc": {
   "base_numbering": 1,
   "nav_menu": {},
   "number_sections": true,
   "sideBar": true,
   "skip_h1_title": false,
   "title_cell": "Table of Contents",
   "title_sidebar": "Contents",
   "toc_cell": false,
   "toc_position": {},
   "toc_section_display": true,
   "toc_window_display": false
  },
  "varInspector": {
   "cols": {
    "lenName": 16,
    "lenType": 16,
    "lenVar": 40
   },
   "kernels_config": {
    "python": {
     "delete_cmd_postfix": "",
     "delete_cmd_prefix": "del ",
     "library": "var_list.py",
     "varRefreshCmd": "print(var_dic_list())"
    },
    "r": {
     "delete_cmd_postfix": ") ",
     "delete_cmd_prefix": "rm(",
     "library": "var_list.r",
     "varRefreshCmd": "cat(var_dic_list()) "
    }
   },
   "types_to_exclude": [
    "module",
    "function",
    "builtin_function_or_method",
    "instance",
    "_Feature"
   ],
   "window_display": false
  }
 },
 "nbformat": 4,
 "nbformat_minor": 4
}

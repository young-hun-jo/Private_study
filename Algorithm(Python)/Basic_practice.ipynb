{
 "cells": [
  {
   "cell_type": "markdown",
   "metadata": {},
   "source": [
    "# 2강 - 1번 문제\n",
    "- 정렬된 리스트에 새로운 요소 삽입\n",
    "\n",
    "리스트 L 과 정수 x 가 인자로 주어질 때, 리스트 내의 올바른 위치에 x 를 삽입하여 그 결과 리스트를 반환하는 함수 solution 을 완성하세요.\n",
    "\n",
    "인자로 주어지는 리스트 L 은 정수 원소들로 이루어져 있으며 크기에 따라 (오름차순으로) 정렬되어 있다고 가정합니다.\n",
    "\n",
    "예를 들어, L = [20, 37, 58, 72, 91] 이고 x = 65 인 경우, 올바른 리턴 값은 [20, 37, 58, 65, 72, 91] 입니다.\n",
    "\n",
    "힌트: 순환문을 이용하여 올바른 위치를 결정하고 insert() 메서드를 이용하여 삽입하는 것이 한 가지 방법입니다.\n",
    "\n",
    "주의: 리스트 내에 존재하는 모든 원소들보다 작거나 모든 원소들보다 큰 정수가 주어지는 경우에 대해서도 올바르게 처리해야 합니다."
   ]
  },
  {
   "cell_type": "code",
   "execution_count": 32,
   "metadata": {},
   "outputs": [],
   "source": [
    "def solution(L, x):\n",
    "    if L[0] > x:\n",
    "        L.insert(0, x)\n",
    "        return L\n",
    "    elif L[len(L)-1] < x:\n",
    "        # 리스트 끝에 요소 붙일 때는 원래 인덱스에서 길이 +1 됨!\n",
    "        L.insert(len(L), x)\n",
    "        return L\n",
    "    for idx in range(0, len(L)-1):\n",
    "        if L[idx] < x and L[idx+1] > x:\n",
    "            L.insert(idx+1, x)\n",
    "            return L"
   ]
  },
  {
   "cell_type": "markdown",
   "metadata": {},
   "source": [
    "# 2강 - 2번 문제\n",
    "\n",
    "- 리스트에서 원소 찾아내기\n",
    "\n",
    "인자로 주어지는 리스트 L 내에서, 또한 인자로 주어지는 원소 x 가 발견되는 모든 인덱스를 구하여 이 인덱스들로 이루어진 리스트를 반환하는 함수 solution 을 완성하세요.\n",
    "\n",
    "리스트 L 은 정수들로 이루어져 있고 그 순서는 임의로 부여되어 있다고 가정하며, 동일한 원소가 반복하여 들어 있을 수 있습니다. 이 안에 정수 x 가 존재하면 그것들을 모두 발견하여 해당 인덱스들을 리스트로 만들어 반환하고, 만약 존재하지 않으면 하나의 원소로 이루어진 리스트 [-1] 를 반환하는 함수를 완성하세요.\n",
    "\n",
    "예를 들어, L = [64, 72, 83, 72, 54] 이고 x = 72 인 경우의 올바른 리턴 값은 [1, 3] 입니다.\n",
    "또 다른 예를 들어, L = [64, 72, 83, 72, 54] 이고 x = 83 인 경우의 올바른 리턴 값은 [2] 입니다.\n",
    "마지막으로 또 다른 예를 들어, L = [64, 72, 83, 72, 54] 이고 x = 49 인 경우의 올바른 리턴 값은 [-1] 입니다.\n"
   ]
  },
  {
   "cell_type": "code",
   "execution_count": 33,
   "metadata": {},
   "outputs": [],
   "source": [
    "# 내가 한 방법\n",
    "def solution(L, x):\n",
    "    idx_lst = []\n",
    "    # x값이 L리스트 안에 없을 경우 \n",
    "    if x not in L:\n",
    "        idx_lst.append(-1)\n",
    "        return idx_lst\n",
    "    # 인덱스 초기화 \n",
    "    start_at = -1\n",
    "    # while 안에 try, except 구문 있게하자!\n",
    "    while True:\n",
    "        try:\n",
    "            # 먼저 처음부터 끝(입력 안하면 디폴트로 끝 인덱스임) 사이의 인덱스 최솟값 반환\n",
    "            idx = L.index(x, start_at+1)\n",
    "            idx_lst.append(idx)\n",
    "            # 찾은 최솟값 인덱스를 시작점으로 설정 => 이게 위로 L.index()가서 +1 하게 되면서 촤솟값 인덱스 다음 위치부터 시작\n",
    "            start_at = idx\n",
    "        except ValueError:\n",
    "            break\n",
    "    #while이랑 같은 indent위치에 있어야 그동안 요소들이 첨가된 idx_lst 한 번만 출력!\n",
    "    return idx_lst"
   ]
  },
  {
   "cell_type": "code",
   "execution_count": null,
   "metadata": {},
   "outputs": [],
   "source": [
    "# 남이 푼 방법\n",
    "def solution(L, x):\n",
    "    if x in L:\n",
    "        return [i for i, y in enumerate(L) if y == x]\n",
    "    else:\n",
    "        return [-1]"
   ]
  },
  {
   "cell_type": "code",
   "execution_count": 34,
   "metadata": {},
   "outputs": [],
   "source": [
    "# 남이 푼 방법 - 해설\n",
    "def solution(L, x):\n",
    "    # x값이 L리스트 안에 있을 경우\n",
    "    if x in L:\n",
    "        # i는 L의 index, value는 L의 요소값들\n",
    "        # value가 x값과 같을 때의 index를 리스트로 넣어라!\n",
    "        return [i for i, value in enumerate(L) if value == x]\n",
    "    \n",
    "    # x값이 L리스트 안에 없는 경우\n",
    "    else:\n",
    "        return [-1]"
   ]
  },
  {
   "cell_type": "markdown",
   "metadata": {},
   "source": [
    "# 3강 - 1번 문제\n",
    "\n",
    "- 이진 탐색 구현(``이진 탐색은 리스트 요소가 오름차순으로 정렬되어 있어야 함을 전제!``)\n",
    "\n",
    "리스트 L 과, 그 안에서 찾으려 하는 원소 x 가 인자로 주어질 때, x 와 같은 값을 가지는 원소의 인덱스를 리턴하는 함수 solution() 을 완성하세요. 만약 리스트 L 안에 x 와 같은 값을 가지는 원소가 존재하지 않는 경우에는 -1 을 리턴합니다. 리스트 L 은 자연수 원소들로 이루어져 있으며, 크기 순으로 정렬되어 있다고 가정합니다. 또한, 동일한 원소는 두 번 이상 나타나지 않습니다.\n",
    "\n",
    "예를 들어,\n",
    "L = [2, 3, 5, 6, 9, 11, 15]\n",
    "x = 6\n",
    "의 인자들이 주어지면, L[3] == 6 이므로 3 을 리턴해야 합니다.\n",
    "\n",
    "또 다른 예로,\n",
    "L = [2, 5, 7, 9, 11]\n",
    "x = 4\n",
    "로 주어지면, 리스트 L 내에 4 의 원소가 존재하지 않으므로 -1 을 리턴해야 합니다."
   ]
  },
  {
   "cell_type": "code",
   "execution_count": 35,
   "metadata": {},
   "outputs": [],
   "source": [
    "# 내가 한 방법\n",
    "def solution(L, x):\n",
    "    # 인덱스 최솟값 할당\n",
    "    lower = 0\n",
    "    # 인덱스 최대값 할당\n",
    "    upper = len(L) - 1\n",
    "    \n",
    "    # 인덱스 최솟값 > 인덱스 최댓값 될 때까지 반복\n",
    "    # '=' 하나가 없어서 효율성 테스트에서 통과 못한다..(lower=upper index일 때도 while문 돌도록 하기)\n",
    "    while lower <= upper:\n",
    "        # 중간 인덱스 설정(이진 기준 설정)\n",
    "        middle = (lower + upper) // 2\n",
    "        \n",
    "        # x값이 중간 인덱스랑 일치하는 값이면!\n",
    "        if L[middle] == x:\n",
    "            return middle\n",
    "        # x값이 중간 인덱스보다 작을 때\n",
    "        elif L[middle] > x:\n",
    "            # 탐색할 인덱스 최댓값을 중간 인덱스-1로 하향 설정\n",
    "            upper = middle - 1\n",
    "        else:\n",
    "            # x값이 중간 인덱스보다 클 때 탐색할 인덱스 최솟값을 중간 인덱스+1로 상향 설정\n",
    "            lower = middle + 1\n",
    "    # 위 while 조건을 위배할 때 즉, x값이 원소 안에 존재하지 않을 때 리턴\n",
    "    return -1"
   ]
  },
  {
   "cell_type": "markdown",
   "metadata": {},
   "source": [
    "# 4강 - 1번 문제(피보나치 수열)\n",
    "\n",
    "인자로 0 또는 양의 정수인 x 가 주어질 때, Fibonacci 순열의 해당 값을 구하여 반환하는 함수 solution() 을 완성하세요.\n",
    "\n",
    "Fibonacci 순열은 아래와 같이 정의됩니다.\n",
    "F0 = 0\n",
    "F1 = 1\n",
    "Fn = Fn - 1 + Fn - 2, n >= 2"
   ]
  },
  {
   "cell_type": "markdown",
   "metadata": {},
   "source": [
    "- F0 = solution(0) -> 0 반환\n",
    "- F1 = solution(1) -> 1 반환\n",
    "- F2 = solution(2) = solution(1) + solution(0) -> 1 + 0 = 1 반환\n",
    "- F3 = solution(3) = solution(2) + solution(1) = solution(1) + solution(0) + solution(1) = 1 + 0 + 1 = 2 반환\n",
    "- F4 = solution(4) = solution(3) + solution(2) = solution(2) + solution(1) + solution(1) + solution(0) = solution(1) + solution(0) + solution(1) + solution(1) + solution(0) = 1 + 0 + 1 + 1 + 0 = 3 반환\n",
    "... 계속 반복"
   ]
  },
  {
   "cell_type": "code",
   "execution_count": 2,
   "metadata": {},
   "outputs": [
    {
     "name": "stdout",
     "output_type": "stream",
     "text": [
      "13\n"
     ]
    }
   ],
   "source": [
    "# 1. 재귀알고리즘 사용\n",
    "def solution(x):\n",
    "    # x가 2보다 작을때(0또는 1일 때는 해당 값을 반환함)\n",
    "    if x < 2:\n",
    "        return x\n",
    "    else:\n",
    "        return solution(x-1) + solution(x-2) \n",
    "\n",
    "test = solution(7)\n",
    "print(test)"
   ]
  },
  {
   "cell_type": "code",
   "execution_count": 4,
   "metadata": {},
   "outputs": [
    {
     "name": "stdout",
     "output_type": "stream",
     "text": [
      "13\n"
     ]
    }
   ],
   "source": [
    "# 2. iterative 사용 -> 반복학습하자..! 어렵다 ㅜㅜ\n",
    "def solution(x):\n",
    "    a, b = 0, 1\n",
    "    for i in range(0, x):\n",
    "        a, b = b, a + b\n",
    "    return a \n",
    "\n",
    "test = solution(7)\n",
    "print(test)"
   ]
  },
  {
   "cell_type": "markdown",
   "metadata": {},
   "source": [
    "# 7강 - 연결리스트 순회 구현하기"
   ]
  },
  {
   "cell_type": "code",
   "execution_count": 1,
   "metadata": {},
   "outputs": [],
   "source": [
    "class Node:\n",
    "    # 노드안에 있는 데이터와 링크가 가르키는 것 없음!\n",
    "    def __init__(self, item):\n",
    "        self.data = item\n",
    "        # 이동할 다음 노드 가리키는 링크\n",
    "        self.next = None\n",
    "\n",
    "class LinkedList:\n",
    "    # 생성 시 노드 개수는 0임, head와 tail도 None임\n",
    "    def __init__(self):\n",
    "        self.nodeCount = 0\n",
    "        self.head = None\n",
    "        self.tail = None\n",
    "    # 다른 노드로 가는 메서드\n",
    "    # pos번째 노드 자체를 리턴하려는 것\n",
    "    def getAt(self, pos):\n",
    "        # 0번째 노드이거나 노드 번째수가 노드 개수보다 클 때 None\n",
    "        if pos < 1 or pos > self.nodeCount:\n",
    "            return None\n",
    "        # 첫번째 노드\n",
    "        i = 1\n",
    "        # 첫 번째 리스트를 curr(현재 리스트)로 설정\n",
    "        curr = self.head\n",
    "        # i가 pos번째 보다 작은 값이면 무한 반복\n",
    "        while i < pos:\n",
    "            # Node 클래스에 있는 self.next 이용\n",
    "            curr = curr.next\n",
    "            # 첫 번째 노드에서 1씩 증가한 번째 노드로 이동\n",
    "            i += 1\n",
    "        # 마지막에 있는 노드 반환\n",
    "        return curr\n",
    "\n",
    "    def traverse(self):\n",
    "        node_lst = []\n",
    "        # 빈 연결 리스트에 대한 순회 결과\n",
    "        if self.head == None:\n",
    "            return []\n",
    "        # 처음 노드를 head로 설정\n",
    "        curr = self.head\n",
    "        # 처음 노드의 data를 리스트에 첨가\n",
    "        node_lst.append(curr.data)\n",
    "        \n",
    "        # 노드가 1개 이상 있는 연결 리스트에 대한 순회 결과\n",
    "        while curr.next is not None:\n",
    "            curr = curr.next\n",
    "            node_lst.append(curr.data)\n",
    "        return node_lst"
   ]
  },
  {
   "cell_type": "code",
   "execution_count": null,
   "metadata": {},
   "outputs": [],
   "source": [
    "##### 남이 푼 풀이 ######\n",
    "\n",
    "# head,tail이 가르키는 것은 데이터+링크를 포함하고 있는 '노드'! 따라서 self.head, self.tail에는 Node class의 인스턴스를 담고 있으므로\n",
    "# Node 클래스의 data, next에 접근 가능함!\n",
    "# next(링크)를 타고 다음 노드로 넘어감!\n",
    "\n",
    "class Node:\n",
    "    def __init__(self, item):\n",
    "        # 노드안에 있는 데이터\n",
    "        self.data = item\n",
    "        # 다음으로 이동할 노드를 가리키는 링크\n",
    "        self.next = None\n",
    "\n",
    "class LinkedList:\n",
    "    def __init__(self):\n",
    "        # 노드 개수\n",
    "        self.nodeCount = 0\n",
    "        # 첫 노드를 가리킴\n",
    "        self.head = None\n",
    "        # 끝 노드를 가리킴\n",
    "        self.tail = None\n",
    "    # pos = '몇' 번째 노드인가\n",
    "    def getAt(self, pos):\n",
    "        # 노드는 1번째부터 시작하므로 pos=0인자로 넣는건 None을 반환\n",
    "        if pos < 1 or pos > self.nodeCount:\n",
    "            return None\n",
    "        # 찾으러갈 때 한번만 순회하면서 가도록 하기 위한 조건(i<pos)을 달기 위해 정의\n",
    "        i = 1\n",
    "        # 현재 노드 : head노드로 시작!\n",
    "        curr = self.head\n",
    "        # 1)pos=1일때, i=1이기 때문에 while문 돌지않고 curr을 return\n",
    "        # 2)pos=2일때, i=1<pos=2이기 때문에 다음노드로 이동할 링크 할당한 후 i+1 시키기! 그러면 i=2가 되고 i<pos만족하지 못하고 curr을 return 함!\n",
    "        while i < pos:\n",
    "            curr = curr.next\n",
    "            i += 1\n",
    "        return curr\n",
    "\n",
    "    def traverse(self):\n",
    "        # 데이터 담을 빈 리스트 정의\n",
    "        link_lst = []\n",
    "        # 첫 번째 노드 정의\n",
    "        node = self.head\n",
    "        # head 노드가 빈리스트가 아니라면!\n",
    "        while node is not None:\n",
    "            # 그 노드에 있는 데이터 담기!\n",
    "            link_lst.append(node.data)\n",
    "            # next를 이용해 다음 노드로 이동!\n",
    "            node = node.next\n",
    "        return link_lst\n",
    "        \n",
    "# 이 solution 함수는 그대로 두어야 합니다.\n",
    "def solution(x):\n",
    "    return 0"
   ]
  },
  {
   "cell_type": "markdown",
   "metadata": {},
   "source": [
    "# 8강 - 연결리스트 삽입"
   ]
  },
  {
   "cell_type": "code",
   "execution_count": null,
   "metadata": {},
   "outputs": [],
   "source": [
    "def insertAt(self, pos, newNode):\n",
    "    # pos가 올바른 값을 갖는 범위에 있는지 검사하기 위함\n",
    "    if pos < 1 or pos > self.nodeCount + 1:\n",
    "        return False\n",
    "    # 리스트 맨 앞에다가 새로운 노드를 삽입하는 경우\n",
    "    if pos == 1:\n",
    "        # 삽입된 새로운 노드의 링크를 원래 맨앞에 있던 head 노드에다가 연결\n",
    "        newNode.next = self.head\n",
    "        # 그리고 새로운 head를 맨 앞에 삽인된 newNode에다가 설정\n",
    "        self.head = newNode\n",
    "    # 리스트 중간에다가 새로운 노드를 삽입하는 경우    \n",
    "    else:\n",
    "        # pos번째 바로 이전인 prev 노드를 찾자\n",
    "        prev = self.getAt(pos - 1)\n",
    "        # 중간에 삽입된 새로운 노드의 링크를 prev의 다음 노드에다가 연결\n",
    "        newNode.next = prev.next\n",
    "        # prev의 링크를 새롭게 삽입된 노드에다가 연결\n",
    "        prev.next = newNode\n",
    "    # 리스트 맨 뒤에다가 새로운 노드를 삽입하는 경우\n",
    "    if pos == self.nodeCount + 1:\n",
    "        # 원래의 tail을 새롭게 삽입된 노드로 설정\n",
    "        self.tail = newNode\n",
    "    ## 참고로 빈 리스트에다가 최초로 노드를 삽입하는 경우\n",
    "    # 리스트 맨 앞, 맨 뒤에 삽입하는 2개 조건을 동시에 만족하면서 heed, tail잘 조정\n",
    "    \n",
    "    #마지막으로 새로운 노드를 삽입했으니 nodeCount를 1개 증가\n",
    "    self.nodeCount += 1\n",
    "    return True"
   ]
  },
  {
   "cell_type": "code",
   "execution_count": null,
   "metadata": {},
   "outputs": [],
   "source": [
    "def insertAt(self, pos, newNode):\n",
    "    # pos가 올바른 값을 갖는 범위에 있는지 검사하기 위함\n",
    "    if pos < 1 or pos > self.nodeCount + 1:\n",
    "        return False\n",
    "    # 리스트 맨 앞에다가 새로운 노드를 삽입하는 경우\n",
    "    if pos == 1:\n",
    "        # 삽입된 새로운 노드의 링크를 원래 맨앞에 있던 head 노드에다가 연결\n",
    "        newNode.next = self.head\n",
    "        # 그리고 새로운 head를 맨 앞에 삽인된 newNode에다가 설정\n",
    "        self.head = newNode\n",
    "    # 리스트 중간에다가 새로운 노드를 삽입하는 경우    \n",
    "    else:\n",
    "        ##### 달라진 부분-맨 뒤 리스트에 삽입하는 경우 앞에서부터 찾지 않고 바로 tail로 가서 즉시 삽입!\n",
    "        if pos == self.nodeCount + 1:\n",
    "            # prev노드는 tail의 노드로 할당\n",
    "            prev = self.tail\n",
    "        else:\n",
    "            # pos번째 바로 이전인 prev 노드를 찾자\n",
    "            prev = self.getAt(pos - 1)\n",
    "        # 중간에 삽입된 새로운 노드의 링크를 prev의 다음 노드에다가 연결\n",
    "        newNode.next = prev.next\n",
    "        # prev의 링크를 새롭게 삽입된 노드에다가 연결\n",
    "        prev.next = newNode\n",
    "    \n",
    "    ## 참고로 빈 리스트에다가 최초로 노드를 삽입하는 경우\n",
    "    # 리스트 맨 앞, 맨 뒤에 삽입하는 2개 조건을 동시에 만족하면서 heed, tail잘 조정\n",
    "    \n",
    "    #마지막으로 새로운 노드를 삽입했으니 nodeCount를 1개 증가\n",
    "    self.nodeCount += 1\n",
    "    return True"
   ]
  }
 ],
 "metadata": {
  "hide_input": false,
  "kernelspec": {
   "display_name": "Python 3",
   "language": "python",
   "name": "python3"
  },
  "language_info": {
   "codemirror_mode": {
    "name": "ipython",
    "version": 3
   },
   "file_extension": ".py",
   "mimetype": "text/x-python",
   "name": "python",
   "nbconvert_exporter": "python",
   "pygments_lexer": "ipython3",
   "version": "3.7.7"
  },
  "toc": {
   "base_numbering": 1,
   "nav_menu": {},
   "number_sections": true,
   "sideBar": true,
   "skip_h1_title": false,
   "title_cell": "Table of Contents",
   "title_sidebar": "Contents",
   "toc_cell": false,
   "toc_position": {},
   "toc_section_display": true,
   "toc_window_display": false
  },
  "varInspector": {
   "cols": {
    "lenName": 16,
    "lenType": 16,
    "lenVar": 40
   },
   "kernels_config": {
    "python": {
     "delete_cmd_postfix": "",
     "delete_cmd_prefix": "del ",
     "library": "var_list.py",
     "varRefreshCmd": "print(var_dic_list())"
    },
    "r": {
     "delete_cmd_postfix": ") ",
     "delete_cmd_prefix": "rm(",
     "library": "var_list.r",
     "varRefreshCmd": "cat(var_dic_list()) "
    }
   },
   "types_to_exclude": [
    "module",
    "function",
    "builtin_function_or_method",
    "instance",
    "_Feature"
   ],
   "window_display": false
  }
 },
 "nbformat": 4,
 "nbformat_minor": 4
}

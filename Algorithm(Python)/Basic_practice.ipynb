{
 "cells": [
  {
   "cell_type": "markdown",
   "metadata": {},
   "source": [
    "# 2강 - 1번 문제\n",
    "- 정렬된 리스트에 새로운 요소 삽입\n",
    "\n",
    "리스트 L 과 정수 x 가 인자로 주어질 때, 리스트 내의 올바른 위치에 x 를 삽입하여 그 결과 리스트를 반환하는 함수 solution 을 완성하세요.\n",
    "\n",
    "인자로 주어지는 리스트 L 은 정수 원소들로 이루어져 있으며 크기에 따라 (오름차순으로) 정렬되어 있다고 가정합니다.\n",
    "\n",
    "예를 들어, L = [20, 37, 58, 72, 91] 이고 x = 65 인 경우, 올바른 리턴 값은 [20, 37, 58, 65, 72, 91] 입니다.\n",
    "\n",
    "힌트: 순환문을 이용하여 올바른 위치를 결정하고 insert() 메서드를 이용하여 삽입하는 것이 한 가지 방법입니다.\n",
    "\n",
    "주의: 리스트 내에 존재하는 모든 원소들보다 작거나 모든 원소들보다 큰 정수가 주어지는 경우에 대해서도 올바르게 처리해야 합니다."
   ]
  },
  {
   "cell_type": "code",
   "execution_count": 32,
   "metadata": {},
   "outputs": [],
   "source": [
    "def solution(L, x):\n",
    "    if L[0] > x:\n",
    "        L.insert(0, x)\n",
    "        return L\n",
    "    elif L[len(L)-1] < x:\n",
    "        # 리스트 끝에 요소 붙일 때는 원래 인덱스에서 길이 +1 됨!\n",
    "        L.insert(len(L), x)\n",
    "        return L\n",
    "    for idx in range(0, len(L)-1):\n",
    "        if L[idx] < x and L[idx+1] > x:\n",
    "            L.insert(idx+1, x)\n",
    "            return L"
   ]
  },
  {
   "cell_type": "markdown",
   "metadata": {},
   "source": [
    "# 2강 - 2번 문제\n",
    "\n",
    "- 리스트에서 원소 찾아내기\n",
    "\n",
    "인자로 주어지는 리스트 L 내에서, 또한 인자로 주어지는 원소 x 가 발견되는 모든 인덱스를 구하여 이 인덱스들로 이루어진 리스트를 반환하는 함수 solution 을 완성하세요.\n",
    "\n",
    "리스트 L 은 정수들로 이루어져 있고 그 순서는 임의로 부여되어 있다고 가정하며, 동일한 원소가 반복하여 들어 있을 수 있습니다. 이 안에 정수 x 가 존재하면 그것들을 모두 발견하여 해당 인덱스들을 리스트로 만들어 반환하고, 만약 존재하지 않으면 하나의 원소로 이루어진 리스트 [-1] 를 반환하는 함수를 완성하세요.\n",
    "\n",
    "예를 들어, L = [64, 72, 83, 72, 54] 이고 x = 72 인 경우의 올바른 리턴 값은 [1, 3] 입니다.\n",
    "또 다른 예를 들어, L = [64, 72, 83, 72, 54] 이고 x = 83 인 경우의 올바른 리턴 값은 [2] 입니다.\n",
    "마지막으로 또 다른 예를 들어, L = [64, 72, 83, 72, 54] 이고 x = 49 인 경우의 올바른 리턴 값은 [-1] 입니다.\n"
   ]
  },
  {
   "cell_type": "code",
   "execution_count": 33,
   "metadata": {},
   "outputs": [],
   "source": [
    "# 내가 한 방법\n",
    "def solution(L, x):\n",
    "    idx_lst = []\n",
    "    # x값이 L리스트 안에 없을 경우 \n",
    "    if x not in L:\n",
    "        idx_lst.append(-1)\n",
    "        return idx_lst\n",
    "    # 인덱스 초기화 \n",
    "    start_at = -1\n",
    "    while True:\n",
    "        try:\n",
    "            # 먼저 처음부터 끝(입력 안하면 디폴트로 끝 인덱스임) 사이의 인덱스 최솟값 반환\n",
    "            idx = L.index(x, start_at+1)\n",
    "            idx_lst.append(idx)\n",
    "            # 찾은 최솟값 인덱스를 시작점으로 설정 => 이게 위로 L.index()가서 +1 하게 되면서 촤솟값 인덱스 다음 위치부터 시작\n",
    "            start_at = idx\n",
    "        except ValueError:\n",
    "            break\n",
    "    return idx_lst"
   ]
  },
  {
   "cell_type": "code",
   "execution_count": null,
   "metadata": {},
   "outputs": [],
   "source": [
    "# 남이 푼 방법\n",
    "def solution(L, x):\n",
    "    if x in L:\n",
    "        return [i for i, y in enumerate(L) if y == x]\n",
    "    else:\n",
    "        return [-1]"
   ]
  },
  {
   "cell_type": "code",
   "execution_count": 34,
   "metadata": {},
   "outputs": [],
   "source": [
    "# 남이 푼 방법 - 해설\n",
    "def solution(L, x):\n",
    "    # x값이 L리스트 안에 있을 경우\n",
    "    if x in L:\n",
    "        # i는 L의 index, value는 L의 요소값들\n",
    "        # value가 x값과 같을 때의 index를 리스트로 넣어라!\n",
    "        return [i for i, value in enumerate(L) if value == x]\n",
    "    \n",
    "    # x값이 L리스트 안에 없는 경우\n",
    "    else:\n",
    "        return [-1]"
   ]
  },
  {
   "cell_type": "markdown",
   "metadata": {},
   "source": [
    "# 3강 - 1번 문제\n",
    "\n",
    "- 이진 탐색 구현(``이진 탐색은 리스트 요소가 오름차순으로 정렬되어 있어야 함을 전제!``)\n",
    "\n",
    "리스트 L 과, 그 안에서 찾으려 하는 원소 x 가 인자로 주어질 때, x 와 같은 값을 가지는 원소의 인덱스를 리턴하는 함수 solution() 을 완성하세요. 만약 리스트 L 안에 x 와 같은 값을 가지는 원소가 존재하지 않는 경우에는 -1 을 리턴합니다. 리스트 L 은 자연수 원소들로 이루어져 있으며, 크기 순으로 정렬되어 있다고 가정합니다. 또한, 동일한 원소는 두 번 이상 나타나지 않습니다.\n",
    "\n",
    "예를 들어,\n",
    "L = [2, 3, 5, 6, 9, 11, 15]\n",
    "x = 6\n",
    "의 인자들이 주어지면, L[3] == 6 이므로 3 을 리턴해야 합니다.\n",
    "\n",
    "또 다른 예로,\n",
    "L = [2, 5, 7, 9, 11]\n",
    "x = 4\n",
    "로 주어지면, 리스트 L 내에 4 의 원소가 존재하지 않으므로 -1 을 리턴해야 합니다."
   ]
  },
  {
   "cell_type": "code",
   "execution_count": 35,
   "metadata": {},
   "outputs": [],
   "source": [
    "# 내가 한 방법\n",
    "def solution(L, x):\n",
    "    # 인덱스 최솟값 할당\n",
    "    lower = 0\n",
    "    # 인덱스 최대값 할당\n",
    "    upper = len(L) - 1\n",
    "    \n",
    "    # 인덱스 최솟값 >= 인덱스 최댓값 될 때까지 반복\n",
    "    while lower < upper:\n",
    "        # 중간 인덱스 설정(이진 기준 설정)\n",
    "        middle = (lower + upper) // 2\n",
    "        \n",
    "        # x값이 중간 인덱스랑 일치하는 값이면!\n",
    "        if L[middle] == x:\n",
    "            return middle\n",
    "        # x값이 중간 인덱스보다 작을 때\n",
    "        elif L[middle] > x:\n",
    "            # 탐색할 인덱스 최댓값을 중간 인덱스-1로 하향 설정\n",
    "            upper = middle - 1\n",
    "        else:\n",
    "            # x값이 중간 인덱스보다 클 때 탐색할 인덱스 최솟값을 중간 인덱스+1로 상향 설정\n",
    "            lower = middle + 1\n",
    "    # 위 while 조건을 위배할 때 즉, x값이 원소 안에 존재하지 않을 때 리턴\n",
    "    return -1"
   ]
  },
  {
   "cell_type": "code",
   "execution_count": null,
   "metadata": {},
   "outputs": [],
   "source": []
  }
 ],
 "metadata": {
  "hide_input": false,
  "kernelspec": {
   "display_name": "Python 3",
   "language": "python",
   "name": "python3"
  },
  "language_info": {
   "codemirror_mode": {
    "name": "ipython",
    "version": 3
   },
   "file_extension": ".py",
   "mimetype": "text/x-python",
   "name": "python",
   "nbconvert_exporter": "python",
   "pygments_lexer": "ipython3",
   "version": "3.7.7"
  },
  "toc": {
   "base_numbering": 1,
   "nav_menu": {},
   "number_sections": true,
   "sideBar": true,
   "skip_h1_title": false,
   "title_cell": "Table of Contents",
   "title_sidebar": "Contents",
   "toc_cell": false,
   "toc_position": {},
   "toc_section_display": true,
   "toc_window_display": false
  },
  "varInspector": {
   "cols": {
    "lenName": 16,
    "lenType": 16,
    "lenVar": 40
   },
   "kernels_config": {
    "python": {
     "delete_cmd_postfix": "",
     "delete_cmd_prefix": "del ",
     "library": "var_list.py",
     "varRefreshCmd": "print(var_dic_list())"
    },
    "r": {
     "delete_cmd_postfix": ") ",
     "delete_cmd_prefix": "rm(",
     "library": "var_list.r",
     "varRefreshCmd": "cat(var_dic_list()) "
    }
   },
   "types_to_exclude": [
    "module",
    "function",
    "builtin_function_or_method",
    "instance",
    "_Feature"
   ],
   "window_display": false
  }
 },
 "nbformat": 4,
 "nbformat_minor": 4
}

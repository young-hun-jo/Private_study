{
 "cells": [
  {
   "cell_type": "markdown",
   "metadata": {
    "toc": true
   },
   "source": [
    "<h1>Table of Contents<span class=\"tocSkip\"></span></h1>\n",
    "<div class=\"toc\"><ul class=\"toc-item\"><li><span><a href=\"#실전문제---부품-찾기\" data-toc-modified-id=\"실전문제---부품-찾기-1\"><span class=\"toc-item-num\">1&nbsp;&nbsp;</span>실전문제 - 부품 찾기</a></span><ul class=\"toc-item\"><li><span><a href=\"#이진-탐색-알고리즘-사용한-풀이\" data-toc-modified-id=\"이진-탐색-알고리즘-사용한-풀이-1.1\"><span class=\"toc-item-num\">1.1&nbsp;&nbsp;</span>이진 탐색 알고리즘 사용한 풀이</a></span></li><li><span><a href=\"#계수-정렬-사용한-풀이\" data-toc-modified-id=\"계수-정렬-사용한-풀이-1.2\"><span class=\"toc-item-num\">1.2&nbsp;&nbsp;</span>계수 정렬 사용한 풀이</a></span></li><li><span><a href=\"#집합-자료형을-사용한-풀이\" data-toc-modified-id=\"집합-자료형을-사용한-풀이-1.3\"><span class=\"toc-item-num\">1.3&nbsp;&nbsp;</span>집합 자료형을 사용한 풀이</a></span></li></ul></li></ul></div>"
   ]
  },
  {
   "cell_type": "markdown",
   "metadata": {},
   "source": [
    "### 실전문제 - 부품 찾기\n",
    "#### 이진 탐색 알고리즘 사용한 풀이"
   ]
  },
  {
   "cell_type": "code",
   "execution_count": 1,
   "metadata": {},
   "outputs": [
    {
     "name": "stdout",
     "output_type": "stream",
     "text": [
      "5\n",
      "8 3 7 9 2\n",
      "3\n",
      "5 7 9\n",
      "no yes yes "
     ]
    }
   ],
   "source": [
    "n = int(input())\n",
    "n_nums = list(map(int, input().split()))\n",
    "m = int(input())\n",
    "m_nums = list(map(int, input().split()))\n",
    "# n을 정렬\n",
    "n_nums.sort()\n",
    "\n",
    "\n",
    "def binary_search(array, target, start, end):\n",
    "    if start > end:\n",
    "        return 'no'\n",
    "    mid = (start + end) // 2\n",
    "    if array[mid] == target:\n",
    "        return 'yes'\n",
    "    elif target < array[mid]:\n",
    "        return binary_search(array, target, start, mid-1)\n",
    "    else:\n",
    "        return binary_search(array, target, mid+1, end)\n",
    "\n",
    "\n",
    "for m_num in m_nums:\n",
    "    res = binary_search(n_nums, m_num, 0, n-1)\n",
    "    print(res, end=' ')"
   ]
  },
  {
   "cell_type": "markdown",
   "metadata": {},
   "source": [
    "#### 계수 정렬 사용한 풀이"
   ]
  },
  {
   "cell_type": "code",
   "execution_count": 2,
   "metadata": {},
   "outputs": [
    {
     "name": "stdout",
     "output_type": "stream",
     "text": [
      "5\n",
      "8 3 7 9 2\n",
      "3\n",
      "5 7 9\n",
      "no yes yes "
     ]
    }
   ],
   "source": [
    "n = int(input())\n",
    "array = [0] * (int(1e6)+1)\n",
    "for i in input().split():\n",
    "    array[int(i)] = 1\n",
    "\n",
    "m = int(input())\n",
    "for j in input().split():\n",
    "    if array[int(j)] == 1:\n",
    "        print('yes', end=' ')\n",
    "    else:\n",
    "        print('no', end=' ')"
   ]
  },
  {
   "cell_type": "markdown",
   "metadata": {},
   "source": [
    "#### 집합 자료형을 사용한 풀이\n",
    "- **집합 자료형**은 단지 **특정 데이터가 존재하는 여부 검사할 때** 매우 효과적으로 사용 가능\n",
    "- 튜플, 집합, 리스트, 딕셔너리(디폴트는 key값 기준) 모두 for loop 가능!"
   ]
  },
  {
   "cell_type": "code",
   "execution_count": 7,
   "metadata": {},
   "outputs": [
    {
     "name": "stdout",
     "output_type": "stream",
     "text": [
      "5\n",
      "8 3 7 9 2\n",
      "3\n",
      "5 7 9\n",
      "no yes yes "
     ]
    }
   ],
   "source": [
    "n = int(input())\n",
    "array = set(map(int, input().split()))\n",
    "m = int(input())\n",
    "m_nums = list(map(int, input().split()))\n",
    "\n",
    "for x in m_nums:\n",
    "    if x in array:\n",
    "        print('yes', end=' ')\n",
    "    else:\n",
    "        print('no', end=' ')"
   ]
  },
  {
   "cell_type": "code",
   "execution_count": null,
   "metadata": {},
   "outputs": [],
   "source": []
  }
 ],
 "metadata": {
  "hide_input": false,
  "kernelspec": {
   "display_name": "Python 3",
   "language": "python",
   "name": "python3"
  },
  "language_info": {
   "codemirror_mode": {
    "name": "ipython",
    "version": 3
   },
   "file_extension": ".py",
   "mimetype": "text/x-python",
   "name": "python",
   "nbconvert_exporter": "python",
   "pygments_lexer": "ipython3",
   "version": "3.7.6"
  },
  "toc": {
   "base_numbering": 1,
   "nav_menu": {},
   "number_sections": true,
   "sideBar": true,
   "skip_h1_title": false,
   "title_cell": "Table of Contents",
   "title_sidebar": "Contents",
   "toc_cell": true,
   "toc_position": {},
   "toc_section_display": true,
   "toc_window_display": false
  },
  "varInspector": {
   "cols": {
    "lenName": 16,
    "lenType": 16,
    "lenVar": 40
   },
   "kernels_config": {
    "python": {
     "delete_cmd_postfix": "",
     "delete_cmd_prefix": "del ",
     "library": "var_list.py",
     "varRefreshCmd": "print(var_dic_list())"
    },
    "r": {
     "delete_cmd_postfix": ") ",
     "delete_cmd_prefix": "rm(",
     "library": "var_list.r",
     "varRefreshCmd": "cat(var_dic_list()) "
    }
   },
   "types_to_exclude": [
    "module",
    "function",
    "builtin_function_or_method",
    "instance",
    "_Feature"
   ],
   "window_display": false
  }
 },
 "nbformat": 4,
 "nbformat_minor": 4
}

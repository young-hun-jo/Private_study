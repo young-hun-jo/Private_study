{
 "cells": [
  {
   "cell_type": "markdown",
   "metadata": {
    "toc": true
   },
   "source": [
    "<h1>Table of Contents<span class=\"tocSkip\"></span></h1>\n",
    "<div class=\"toc\"><ul class=\"toc-item\"><li><span><a href=\"#순차-탐색(Sequential-Search)\" data-toc-modified-id=\"순차-탐색(Sequential-Search)-1\"><span class=\"toc-item-num\">1&nbsp;&nbsp;</span>순차 탐색(Sequential Search)</a></span></li><li><span><a href=\"#이진-탐색(Binary-Search)\" data-toc-modified-id=\"이진-탐색(Binary-Search)-2\"><span class=\"toc-item-num\">2&nbsp;&nbsp;</span>이진 탐색(Binary Search)</a></span></li><li><span><a href=\"#트리-자료구조\" data-toc-modified-id=\"트리-자료구조-3\"><span class=\"toc-item-num\">3&nbsp;&nbsp;</span>트리 자료구조</a></span></li></ul></div>"
   ]
  },
  {
   "cell_type": "markdown",
   "metadata": {},
   "source": [
    "## 순차 탐색(Sequential Search)\n",
    "\n",
    "- 리스트 내에 특정 데이터를 찾기 위해 **하나씩 차례대로 확인하는 방법**\n",
    "- 보통 **정렬되지 않은 리스트**에서 특정 데이터를 찾을 때 자주 사용\n",
    "- 리스트 내에 **특정 원소 존재 여부** 체크할 때, **특정 원소 개수를 세는** ``list.count('value')``메소드도 **순차탐색**을 사용\n",
    "- 정렬 여부 상관없이 사용되므로 데이터 개수가 N개 일때 최악의 경우 **시간 복잡도는 O(N)**"
   ]
  },
  {
   "cell_type": "code",
   "execution_count": 4,
   "metadata": {},
   "outputs": [
    {
     "name": "stdout",
     "output_type": "stream",
     "text": [
      "14 데이터는 array의 3번째에 존재합니다!\n"
     ]
    }
   ],
   "source": [
    "# 순차 탐색 파이썬으로 구현\n",
    "\n",
    "def sequential_search(n, target, array):\n",
    "    # array의 데이터 하나씩 원소를 확인\n",
    "    for i in range(n):\n",
    "        if array[i] == target:\n",
    "            return i+1\n",
    "\n",
    "array = [i for i in range(10, 30, 2)]\n",
    "n = len(array)\n",
    "target = 14\n",
    "\n",
    "res = sequential_search(n, target, array)\n",
    "print(f\"{target} 데이터는 array의 {res}번째에 존재합니다!\")"
   ]
  },
  {
   "cell_type": "markdown",
   "metadata": {},
   "source": [
    "## 이진 탐색(Binary Search)\n",
    "- 배열 데이터가 **정렬 되어있을 경우에만 사용 가능**\n",
    "- 이진 탐색 구현시, 3개의 변수를 사용하는데,\n",
    "    * 배열의 시작점\n",
    "    * 배열의 끝점\n",
    "    * 배열의 중간점 = (시작점+끝점) // 2 즉, 중간점이 실수(e.g 4.5)인 경우 내림 적용(4.5 -> 4)\n",
    "- 즉, 찾으려는 데이터와 중간점에 있는 위치의 데이터와 반복적으로 비교\n",
    "- 이미 정렬되어 있기 때문에 만약 찾으려는 데이터가 중간점보다 작다면 중간점보다 큰 데이터들은 비교할 필요가 없음\n",
    "    * 이는 확인하는 연산 횟수를 (이상적으로) 매번 절반 줄어들게 하는 효과 -> 이는 퀵정렬과 유사한 점\n",
    "    * 그래서 **시간 복잡도가 O(logN)**\n",
    "- 파이썬으로 구현하는 방법은 1.재귀함수 2.while 반복문 으로 구현\n",
    "- 또한 이진 탐색 문제는 **입력 데이터가 매우 많거나 탐색 범위가 매우 넓을 때 자주 사용(데이터 개수가 천만단위 이상이거나 탐색 범위가 1000억이상일 때)** 그래서 일반 ``input()``을 사용하면 시간초과가 날 수 있으니 ``sys.stdin.readline().rstrip()``을 대신 사용하자!"
   ]
  },
  {
   "cell_type": "code",
   "execution_count": 13,
   "metadata": {},
   "outputs": [
    {
     "name": "stdout",
     "output_type": "stream",
     "text": [
      "10 7\n",
      "1 3 5 7 9 11 13 15 17 19\n",
      "4\n"
     ]
    }
   ],
   "source": [
    "# 1.재귀 함수로 구현 --> 재귀 함수 return시키자 제발!!\n",
    "def binary_search(array, target, start, end):\n",
    "    # 만약 start가 end보다 크면 None\n",
    "    if start > end:\n",
    "        return None\n",
    "    middle = (start + end) // 2 # 중간점 계산\n",
    "    # 만약 중간점이 target과 같으면 반환\n",
    "    if array[middle] == target:\n",
    "        return middle + 1\n",
    "    elif target < array[middle]:\n",
    "        return binary_search(array, target, start, middle-1)\n",
    "    else:\n",
    "        return binary_search(array, target, middle+1, end)\n",
    "\n",
    "n, target = list(map(int, input().split()))\n",
    "array = list(map(int, input().split()))\n",
    "\n",
    "result = binary_search(array, target, 0, n-1)\n",
    "if result == None:\n",
    "    print(\"존재하는 원소가 없습니다!\")\n",
    "else:\n",
    "    print(result)"
   ]
  },
  {
   "cell_type": "code",
   "execution_count": 14,
   "metadata": {},
   "outputs": [
    {
     "name": "stdout",
     "output_type": "stream",
     "text": [
      "10 7\n",
      "1 3 5 7 9 11 13 15 17 19\n",
      "4\n"
     ]
    }
   ],
   "source": [
    "# 2.while 반복문으로 구현\n",
    "def binary_search(array, target, start, end):\n",
    "    while start <= end:\n",
    "        middle = (start + end) // 2\n",
    "        if array[middle] == target:\n",
    "            return middle + 1\n",
    "        elif target < array[middle]:\n",
    "            end = middle - 1\n",
    "        else:\n",
    "            start = middle + 1\n",
    "\n",
    "n, target = list(map(int, input().split()))\n",
    "array = list(map(int, input().split()))\n",
    "\n",
    "result = binary_search(array, target, 0, n-1)\n",
    "if result == None:\n",
    "    print(\"존재하는 원소가 없습니다!\")\n",
    "else:\n",
    "    print(result)"
   ]
  },
  {
   "cell_type": "markdown",
   "metadata": {},
   "source": [
    "## 트리 자료구조\n",
    "\n",
    "- 트리 자료구조는 그래프 자료구조의 일종으로 DB 시스템이나 파일 시스템과 같은 곳에서 대용량의 데이터를 처리하고 관리하기 위한 목적으로 사용\n",
    "- 또, 큰 데이터를 처리하는 SW는 대부분 데이터를 트리구조로 저장해서 **이진탐색**과 같은 기법을 이용해 빠르게 탐색이 가능\n",
    "- 이진트리 구현 코드는 **Basic(CodeUp) -> Basic_practice.ipynb** 참조"
   ]
  },
  {
   "cell_type": "code",
   "execution_count": null,
   "metadata": {},
   "outputs": [],
   "source": []
  }
 ],
 "metadata": {
  "hide_input": false,
  "kernelspec": {
   "display_name": "Python 3",
   "language": "python",
   "name": "python3"
  },
  "language_info": {
   "codemirror_mode": {
    "name": "ipython",
    "version": 3
   },
   "file_extension": ".py",
   "mimetype": "text/x-python",
   "name": "python",
   "nbconvert_exporter": "python",
   "pygments_lexer": "ipython3",
   "version": "3.7.6"
  },
  "toc": {
   "base_numbering": 1,
   "nav_menu": {},
   "number_sections": true,
   "sideBar": true,
   "skip_h1_title": false,
   "title_cell": "Table of Contents",
   "title_sidebar": "Contents",
   "toc_cell": true,
   "toc_position": {},
   "toc_section_display": true,
   "toc_window_display": false
  },
  "varInspector": {
   "cols": {
    "lenName": 16,
    "lenType": 16,
    "lenVar": 40
   },
   "kernels_config": {
    "python": {
     "delete_cmd_postfix": "",
     "delete_cmd_prefix": "del ",
     "library": "var_list.py",
     "varRefreshCmd": "print(var_dic_list())"
    },
    "r": {
     "delete_cmd_postfix": ") ",
     "delete_cmd_prefix": "rm(",
     "library": "var_list.r",
     "varRefreshCmd": "cat(var_dic_list()) "
    }
   },
   "types_to_exclude": [
    "module",
    "function",
    "builtin_function_or_method",
    "instance",
    "_Feature"
   ],
   "window_display": false
  }
 },
 "nbformat": 4,
 "nbformat_minor": 4
}

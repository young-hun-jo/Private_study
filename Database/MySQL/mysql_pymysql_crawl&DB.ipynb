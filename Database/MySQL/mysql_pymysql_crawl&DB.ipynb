{
 "cells": [
  {
   "cell_type": "markdown",
   "metadata": {},
   "source": [
    "## 실제 활용해보며 익히는 MySQL 기본 + (중급) 문법\n",
    "- 다양한 문법을 나열하기보다는, 실제 예제를 통해, 필요할 때, 그때 그때 문법을 익혀야 이해가 빠릅니다."
   ]
  },
  {
   "cell_type": "markdown",
   "metadata": {},
   "source": [
    "### 1. Schema 정의\n",
    "- TABLE 분리, FOREIGN KEY, PRIMARY KEY 사용"
   ]
  },
  {
   "cell_type": "code",
   "execution_count": null,
   "metadata": {},
   "outputs": [],
   "source": [
    "CREATE TABLE ranking (\n",
    "    num INT AUTO_INCREMENT NOT NULL PRIMARY KEY,\n",
    "    main_category VARCHAR(50) NOT NULL,\n",
    "    sub_category VARCHAR(50) NOT NULL,\n",
    "    item_ranking TINYINT UNSIGNED NOT NULL,\n",
    "    item_code VARCHAR(20) NOT NULL,\n",
    "    FOREIGN KEY (item_code) REFERENCES items(item_code)\n",
    ");"
   ]
  },
  {
   "cell_type": "code",
   "execution_count": null,
   "metadata": {},
   "outputs": [],
   "source": [
    "CREATE TABLE items (\n",
    "    item_code VARCHAR(20) NOT NULL PRIMARY KEY,\n",
    "    title VARCHAR(200) NOT NULL,\n",
    "    ori_price INT NOT NULL,\n",
    "    dis_price INT NOT NULL,\n",
    "    discount_percent INT NOT NULL,\n",
    "    provider VARCHAR(100)\n",
    ");"
   ]
  },
  {
   "cell_type": "markdown",
   "metadata": {},
   "source": [
    "##### 참고: 한글 처리에 문제가 있을 경우, DB, TABLE 에 DEFAULT CHARSET=utf8 COLLATE=utf8_bin 옵션을 모두 추가해서 실행\n",
    "```sql\n",
    "CREATE DATABASE bestproducts DEFAULT CHARSET=utf8 COLLATE=utf8_bin; \n",
    "CREATE TABLE tablename(field definitions) DEFAULT CHARSET=utf8 COLLATE=utf8_bin;\n",
    "```"
   ]
  },
  {
   "cell_type": "code",
   "execution_count": 18,
   "metadata": {},
   "outputs": [],
   "source": [
    "import pymysql\n",
    "db = pymysql.connect(host='localhost', port=3306, user='root', passwd='funcoding', db='bestproducts', charset='utf8')\n",
    "cursor = db.cursor()\n",
    "\n",
    "sql = '''\n",
    "CREATE TABLE items (\n",
    "    item_code VARCHAR(20) NOT NULL PRIMARY KEY,\n",
    "    title VARCHAR(200) NOT NULL,\n",
    "    ori_price INT NOT NULL,\n",
    "    dis_price INT NOT NULL,\n",
    "    discount_percent INT NOT NULL,\n",
    "    provider VARCHAR(100)\n",
    ");\n",
    "'''\n",
    "cursor.execute(sql)\n",
    "\n",
    "sql = '''\n",
    "CREATE TABLE ranking (\n",
    "    num INT AUTO_INCREMENT NOT NULL PRIMARY KEY,\n",
    "    main_category VARCHAR(50) NOT NULL,\n",
    "    sub_category VARCHAR(50) NOT NULL,\n",
    "    item_ranking TINYINT UNSIGNED NOT NULL,\n",
    "    item_code VARCHAR(10) NOT NULL,\n",
    "    FOREIGN KEY (item_code) REFERENCES items(item_code)\n",
    ");\n",
    "'''\n",
    "cursor.execute(sql)\n",
    "\n",
    "db.commit()\n",
    "db.close()"
   ]
  },
  {
   "cell_type": "markdown",
   "metadata": {},
   "source": [
    "### 2. 크롤링"
   ]
  },
  {
   "cell_type": "markdown",
   "metadata": {},
   "source": [
    "#### main category 정보 가져오기"
   ]
  },
  {
   "cell_type": "code",
   "execution_count": 4,
   "metadata": {},
   "outputs": [
    {
     "name": "stdout",
     "output_type": "stream",
     "text": [
      "http://corners.gmarket.co.kr//Bestsellers ALL\n",
      "http://corners.gmarket.co.kr//Bestsellers?viewType=G&groupCode=G01 패션의류\n",
      "http://corners.gmarket.co.kr//Bestsellers?viewType=G&groupCode=G02 신발/잡화\n",
      "http://corners.gmarket.co.kr//Bestsellers?viewType=G&groupCode=G03 화장품/헤어\n",
      "http://corners.gmarket.co.kr//Bestsellers?viewType=G&groupCode=G04 유아동/출산\n",
      "http://corners.gmarket.co.kr//Bestsellers?viewType=G&groupCode=G07 식품\n",
      "http://corners.gmarket.co.kr//Bestsellers?viewType=G&groupCode=G08 생활/주방/건강\n",
      "http://corners.gmarket.co.kr//Bestsellers?viewType=G&groupCode=G09 가구/침구\n",
      "http://corners.gmarket.co.kr//Bestsellers?viewType=G&groupCode=G05 스포츠/자동차\n",
      "http://corners.gmarket.co.kr//Bestsellers?viewType=G&groupCode=G06 컴퓨터/전자\n",
      "http://corners.gmarket.co.kr//Bestsellers?viewType=G&groupCode=G10 도서/음반\n",
      "http://corners.gmarket.co.kr//Bestsellers?viewType=G&groupCode=G11 여행\n",
      "http://corners.gmarket.co.kr//Bestsellers?viewType=G&groupCode=G12 e쿠폰/티켓\n"
     ]
    }
   ],
   "source": [
    "import requests\n",
    "from bs4 import BeautifulSoup\n",
    "\n",
    "res = requests.get('http://corners.gmarket.co.kr/Bestsellers')\n",
    "soup = BeautifulSoup(res.content, 'html.parser')\n",
    "\n",
    "categories = soup.select('div.gbest-cate ul.by-group li a')\n",
    "for category in categories:\n",
    "    print ('http://corners.gmarket.co.kr/' + category['href'], category.get_text())"
   ]
  },
  {
   "cell_type": "markdown",
   "metadata": {},
   "source": [
    "#### main/sub category 정보 가져오기"
   ]
  },
  {
   "cell_type": "code",
   "execution_count": 15,
   "metadata": {},
   "outputs": [
    {
     "name": "stdout",
     "output_type": "stream",
     "text": [
      "http://corners.gmarket.co.kr//Bestsellers ALL\n",
      "http://corners.gmarket.co.kr//Bestsellers?viewType=G&groupCode=G01 패션의류\n",
      "http://corners.gmarket.co.kr//Bestsellers?viewType=G&groupCode=G01 패션의류 여성의류 http://corners.gmarket.co.kr//Bestsellers?viewType=G&groupCode=G01&subGroupCode=S102\n",
      "http://corners.gmarket.co.kr//Bestsellers?viewType=G&groupCode=G01 패션의류 남성의류 http://corners.gmarket.co.kr//Bestsellers?viewType=G&groupCode=G01&subGroupCode=S002\n",
      "http://corners.gmarket.co.kr//Bestsellers?viewType=G&groupCode=G01 패션의류 언더웨어 http://corners.gmarket.co.kr//Bestsellers?viewType=G&groupCode=G01&subGroupCode=S088\n",
      "http://corners.gmarket.co.kr//Bestsellers?viewType=G&groupCode=G01 패션의류 브랜드 여성의류 http://corners.gmarket.co.kr//Bestsellers?viewType=G&groupCode=G01&subGroupCode=S161\n",
      "http://corners.gmarket.co.kr//Bestsellers?viewType=G&groupCode=G01 패션의류 브랜드 남성의류 http://corners.gmarket.co.kr//Bestsellers?viewType=G&groupCode=G01&subGroupCode=S162\n",
      "http://corners.gmarket.co.kr//Bestsellers?viewType=G&groupCode=G01 패션의류 브랜드 진/캐쥬얼  http://corners.gmarket.co.kr//Bestsellers?viewType=G&groupCode=G01&subGroupCode=S163\n",
      "http://corners.gmarket.co.kr//Bestsellers?viewType=G&groupCode=G02 신발/잡화\n",
      "http://corners.gmarket.co.kr//Bestsellers?viewType=G&groupCode=G02 신발/잡화 여성신발 http://corners.gmarket.co.kr//Bestsellers?viewType=G&groupCode=G02&subGroupCode=S004\n",
      "http://corners.gmarket.co.kr//Bestsellers?viewType=G&groupCode=G02 신발/잡화 남성신발 http://corners.gmarket.co.kr//Bestsellers?viewType=G&groupCode=G02&subGroupCode=S005\n",
      "http://corners.gmarket.co.kr//Bestsellers?viewType=G&groupCode=G02 신발/잡화 운동화 http://corners.gmarket.co.kr//Bestsellers?viewType=G&groupCode=G02&subGroupCode=S007\n",
      "http://corners.gmarket.co.kr//Bestsellers?viewType=G&groupCode=G02 신발/잡화 가방/지갑 http://corners.gmarket.co.kr//Bestsellers?viewType=G&groupCode=G02&subGroupCode=S008\n",
      "http://corners.gmarket.co.kr//Bestsellers?viewType=G&groupCode=G02 신발/잡화 여행가방 http://corners.gmarket.co.kr//Bestsellers?viewType=G&groupCode=G02&subGroupCode=S172\n",
      "http://corners.gmarket.co.kr//Bestsellers?viewType=G&groupCode=G02 신발/잡화 잡화/액세서리 http://corners.gmarket.co.kr//Bestsellers?viewType=G&groupCode=G02&subGroupCode=S127\n",
      "http://corners.gmarket.co.kr//Bestsellers?viewType=G&groupCode=G02 신발/잡화 수입명품 http://corners.gmarket.co.kr//Bestsellers?viewType=G&groupCode=G02&subGroupCode=S134\n",
      "http://corners.gmarket.co.kr//Bestsellers?viewType=G&groupCode=G02 신발/잡화 브랜드 신발/가방 http://corners.gmarket.co.kr//Bestsellers?viewType=G&groupCode=G02&subGroupCode=S166\n",
      "http://corners.gmarket.co.kr//Bestsellers?viewType=G&groupCode=G02 신발/잡화 브랜드 쥬얼리/시계 http://corners.gmarket.co.kr//Bestsellers?viewType=G&groupCode=G02&subGroupCode=S167\n",
      "http://corners.gmarket.co.kr//Bestsellers?viewType=G&groupCode=G03 화장품/헤어\n",
      "http://corners.gmarket.co.kr//Bestsellers?viewType=G&groupCode=G03 화장품/헤어 화장품 http://corners.gmarket.co.kr//Bestsellers?viewType=G&groupCode=G03&subGroupCode=S011\n",
      "http://corners.gmarket.co.kr//Bestsellers?viewType=G&groupCode=G03 화장품/헤어 보습제품 http://corners.gmarket.co.kr//Bestsellers?viewType=G&groupCode=G03&subGroupCode=S081\n",
      "http://corners.gmarket.co.kr//Bestsellers?viewType=G&groupCode=G03 화장품/헤어 남성화장품 http://corners.gmarket.co.kr//Bestsellers?viewType=G&groupCode=G03&subGroupCode=S055\n",
      "http://corners.gmarket.co.kr//Bestsellers?viewType=G&groupCode=G03 화장품/헤어 향수 http://corners.gmarket.co.kr//Bestsellers?viewType=G&groupCode=G03&subGroupCode=S012\n",
      "http://corners.gmarket.co.kr//Bestsellers?viewType=G&groupCode=G03 화장품/헤어 화장소품 http://corners.gmarket.co.kr//Bestsellers?viewType=G&groupCode=G03&subGroupCode=S016\n",
      "http://corners.gmarket.co.kr//Bestsellers?viewType=G&groupCode=G03 화장품/헤어 바디클렌져/바디로션 http://corners.gmarket.co.kr//Bestsellers?viewType=G&groupCode=G03&subGroupCode=S013\n",
      "http://corners.gmarket.co.kr//Bestsellers?viewType=G&groupCode=G03 화장품/헤어 샴푸/헤어에센스/스타일링 http://corners.gmarket.co.kr//Bestsellers?viewType=G&groupCode=G03&subGroupCode=S014\n",
      "http://corners.gmarket.co.kr//Bestsellers?viewType=G&groupCode=G03 화장품/헤어 제모/데오드란트/슬리밍 http://corners.gmarket.co.kr//Bestsellers?viewType=G&groupCode=G03&subGroupCode=S069\n",
      "http://corners.gmarket.co.kr//Bestsellers?viewType=G&groupCode=G03 화장품/헤어 백화점 명품화장품 http://corners.gmarket.co.kr//Bestsellers?viewType=G&groupCode=G03&subGroupCode=S171\n",
      "http://corners.gmarket.co.kr//Bestsellers?viewType=G&groupCode=G04 유아동/출산\n",
      "http://corners.gmarket.co.kr//Bestsellers?viewType=G&groupCode=G04 유아동/출산 기저귀 http://corners.gmarket.co.kr//Bestsellers?viewType=G&groupCode=G04&subGroupCode=S017\n",
      "http://corners.gmarket.co.kr//Bestsellers?viewType=G&groupCode=G04 유아동/출산 분유/이유식 http://corners.gmarket.co.kr//Bestsellers?viewType=G&groupCode=G04&subGroupCode=S063\n",
      "http://corners.gmarket.co.kr//Bestsellers?viewType=G&groupCode=G04 유아동/출산 물티슈 http://corners.gmarket.co.kr//Bestsellers?viewType=G&groupCode=G04&subGroupCode=S020\n",
      "http://corners.gmarket.co.kr//Bestsellers?viewType=G&groupCode=G04 유아동/출산 신생아의류/잡화 http://corners.gmarket.co.kr//Bestsellers?viewType=G&groupCode=G04&subGroupCode=S131\n",
      "http://corners.gmarket.co.kr//Bestsellers?viewType=G&groupCode=G04 유아동/출산 유아동의류 http://corners.gmarket.co.kr//Bestsellers?viewType=G&groupCode=G04&subGroupCode=S064\n",
      "http://corners.gmarket.co.kr//Bestsellers?viewType=G&groupCode=G04 유아동/출산 주니어의류 http://corners.gmarket.co.kr//Bestsellers?viewType=G&groupCode=G04&subGroupCode=S077\n",
      "http://corners.gmarket.co.kr//Bestsellers?viewType=G&groupCode=G04 유아동/출산 아동화  http://corners.gmarket.co.kr//Bestsellers?viewType=G&groupCode=G04&subGroupCode=S132\n",
      "http://corners.gmarket.co.kr//Bestsellers?viewType=G&groupCode=G04 유아동/출산 아동가방/잡화  http://corners.gmarket.co.kr//Bestsellers?viewType=G&groupCode=G04&subGroupCode=S133\n",
      "http://corners.gmarket.co.kr//Bestsellers?viewType=G&groupCode=G04 유아동/출산 출산/유아용품 http://corners.gmarket.co.kr//Bestsellers?viewType=G&groupCode=G04&subGroupCode=S018\n",
      "http://corners.gmarket.co.kr//Bestsellers?viewType=G&groupCode=G04 유아동/출산 장난감/교육완구 http://corners.gmarket.co.kr//Bestsellers?viewType=G&groupCode=G04&subGroupCode=S076\n",
      "http://corners.gmarket.co.kr//Bestsellers?viewType=G&groupCode=G04 유아동/출산 임부복/용품 http://corners.gmarket.co.kr//Bestsellers?viewType=G&groupCode=G04&subGroupCode=S062\n",
      "http://corners.gmarket.co.kr//Bestsellers?viewType=G&groupCode=G04 유아동/출산 생리대 http://corners.gmarket.co.kr//Bestsellers?viewType=G&groupCode=G04&subGroupCode=S019\n",
      "http://corners.gmarket.co.kr//Bestsellers?viewType=G&groupCode=G04 유아동/출산 브랜드 아동패션 http://corners.gmarket.co.kr//Bestsellers?viewType=G&groupCode=G04&subGroupCode=S168\n",
      "http://corners.gmarket.co.kr//Bestsellers?viewType=G&groupCode=G04 유아동/출산 홈플러스 베이비 http://corners.gmarket.co.kr//Bestsellers?viewType=G&groupCode=G04&subGroupCode=S158\n",
      "http://corners.gmarket.co.kr//Bestsellers?viewType=G&groupCode=G04 유아동/출산  http://corners.gmarket.co.kr//bestseller/BestSellerList.asp?group_kind=G&group_cd=G10&groupSub_kind=GS&groupSub_cd=S073\n",
      "http://corners.gmarket.co.kr//Bestsellers?viewType=G&groupCode=G07 식품\n",
      "http://corners.gmarket.co.kr//Bestsellers?viewType=G&groupCode=G07 식품 과일/견과 http://corners.gmarket.co.kr//Bestsellers?viewType=G&groupCode=G07&subGroupCode=S103\n",
      "http://corners.gmarket.co.kr//Bestsellers?viewType=G&groupCode=G07 식품 쌀/잡곡 http://corners.gmarket.co.kr//Bestsellers?viewType=G&groupCode=G07&subGroupCode=S031\n",
      "http://corners.gmarket.co.kr//Bestsellers?viewType=G&groupCode=G07 식품 축산 http://corners.gmarket.co.kr//Bestsellers?viewType=G&groupCode=G07&subGroupCode=S089\n",
      "http://corners.gmarket.co.kr//Bestsellers?viewType=G&groupCode=G07 식품 수산 http://corners.gmarket.co.kr//Bestsellers?viewType=G&groupCode=G07&subGroupCode=S090\n",
      "http://corners.gmarket.co.kr//Bestsellers?viewType=G&groupCode=G07 식품 김치/반찬 http://corners.gmarket.co.kr//Bestsellers?viewType=G&groupCode=G07&subGroupCode=S104\n",
      "http://corners.gmarket.co.kr//Bestsellers?viewType=G&groupCode=G07 식품 생수/커피/음료 http://corners.gmarket.co.kr//Bestsellers?viewType=G&groupCode=G07&subGroupCode=S105\n",
      "http://corners.gmarket.co.kr//Bestsellers?viewType=G&groupCode=G07 식품 간편조리/간식 http://corners.gmarket.co.kr//Bestsellers?viewType=G&groupCode=G07&subGroupCode=S106\n",
      "http://corners.gmarket.co.kr//Bestsellers?viewType=G&groupCode=G07 식품 캔/오일/조미료 http://corners.gmarket.co.kr//Bestsellers?viewType=G&groupCode=G07&subGroupCode=S107\n",
      "http://corners.gmarket.co.kr//Bestsellers?viewType=G&groupCode=G07 식품 건강 http://corners.gmarket.co.kr//Bestsellers?viewType=G&groupCode=G07&subGroupCode=S033\n",
      "http://corners.gmarket.co.kr//Bestsellers?viewType=G&groupCode=G07 식품 다이어트 http://corners.gmarket.co.kr//Bestsellers?viewType=G&groupCode=G07&subGroupCode=S092\n",
      "http://corners.gmarket.co.kr//Bestsellers?viewType=G&groupCode=G07 식품 정관장/홍삼 http://corners.gmarket.co.kr//Bestsellers?viewType=G&groupCode=G07&subGroupCode=S108\n",
      "http://corners.gmarket.co.kr//Bestsellers?viewType=G&groupCode=G07 식품 채소 http://corners.gmarket.co.kr//Bestsellers?viewType=G&groupCode=G07&subGroupCode=S147\n",
      "http://corners.gmarket.co.kr//Bestsellers?viewType=G&groupCode=G07 식품 홈플러스 식품 http://corners.gmarket.co.kr//Bestsellers?viewType=G&groupCode=G07&subGroupCode=S160\n",
      "http://corners.gmarket.co.kr//Bestsellers?viewType=G&groupCode=G07 식품  http://corners.gmarket.co.kr//bestseller/BestSellerList.asp?group_kind=G&group_cd=G04&groupSub_kind=GS&groupSub_cd=S063\n",
      "http://corners.gmarket.co.kr//Bestsellers?viewType=G&groupCode=G08 생활/주방/건강\n"
     ]
    },
    {
     "name": "stdout",
     "output_type": "stream",
     "text": [
      "http://corners.gmarket.co.kr//Bestsellers?viewType=G&groupCode=G08 생활/주방/건강 생활용품 http://corners.gmarket.co.kr//Bestsellers?viewType=G&groupCode=G08&subGroupCode=S035\n",
      "http://corners.gmarket.co.kr//Bestsellers?viewType=G&groupCode=G08 생활/주방/건강 주방용품 http://corners.gmarket.co.kr//Bestsellers?viewType=G&groupCode=G08&subGroupCode=S034\n",
      "http://corners.gmarket.co.kr//Bestsellers?viewType=G&groupCode=G08 생활/주방/건강 세제/세면용품 http://corners.gmarket.co.kr//Bestsellers?viewType=G&groupCode=G08&subGroupCode=S066\n",
      "http://corners.gmarket.co.kr//Bestsellers?viewType=G&groupCode=G08 생활/주방/건강 화장지/일용잡화 http://corners.gmarket.co.kr//Bestsellers?viewType=G&groupCode=G08&subGroupCode=S067\n",
      "http://corners.gmarket.co.kr//Bestsellers?viewType=G&groupCode=G08 생활/주방/건강 위생용품 http://corners.gmarket.co.kr//Bestsellers?viewType=G&groupCode=G08&subGroupCode=S037\n",
      "http://corners.gmarket.co.kr//Bestsellers?viewType=G&groupCode=G08 생활/주방/건강 취미/원예용품 http://corners.gmarket.co.kr//Bestsellers?viewType=G&groupCode=G08&subGroupCode=S038\n",
      "http://corners.gmarket.co.kr//Bestsellers?viewType=G&groupCode=G08 생활/주방/건강 문구/사무용품 http://corners.gmarket.co.kr//Bestsellers?viewType=G&groupCode=G08&subGroupCode=S040\n",
      "http://corners.gmarket.co.kr//Bestsellers?viewType=G&groupCode=G08 생활/주방/건강 반려동물용품 http://corners.gmarket.co.kr//Bestsellers?viewType=G&groupCode=G08&subGroupCode=S137\n",
      "http://corners.gmarket.co.kr//Bestsellers?viewType=G&groupCode=G08 생활/주방/건강 공구설비/자재 http://corners.gmarket.co.kr//Bestsellers?viewType=G&groupCode=G08&subGroupCode=S145\n",
      "http://corners.gmarket.co.kr//Bestsellers?viewType=G&groupCode=G08 생활/주방/건강 건강/의료용품 http://corners.gmarket.co.kr//Bestsellers?viewType=G&groupCode=G08&subGroupCode=S146\n",
      "http://corners.gmarket.co.kr//Bestsellers?viewType=G&groupCode=G08 생활/주방/건강 홈플러스 리빙 http://corners.gmarket.co.kr//Bestsellers?viewType=G&groupCode=G08&subGroupCode=S159\n",
      "http://corners.gmarket.co.kr//Bestsellers?viewType=G&groupCode=G08 생활/주방/건강 렌탈 서비스 http://corners.gmarket.co.kr//Bestsellers?viewType=G&groupCode=G08&subGroupCode=S173\n",
      "http://corners.gmarket.co.kr//Bestsellers?viewType=G&groupCode=G09 가구/침구\n",
      "http://corners.gmarket.co.kr//Bestsellers?viewType=G&groupCode=G09 가구/침구 가구 http://corners.gmarket.co.kr//Bestsellers?viewType=G&groupCode=G09&subGroupCode=S041\n",
      "http://corners.gmarket.co.kr//Bestsellers?viewType=G&groupCode=G09 가구/침구 침구 http://corners.gmarket.co.kr//Bestsellers?viewType=G&groupCode=G09&subGroupCode=S042\n",
      "http://corners.gmarket.co.kr//Bestsellers?viewType=G&groupCode=G09 가구/침구 커튼/블라인드 http://corners.gmarket.co.kr//Bestsellers?viewType=G&groupCode=G09&subGroupCode=S071\n",
      "http://corners.gmarket.co.kr//Bestsellers?viewType=G&groupCode=G09 가구/침구 홈패션/인테리어소품 http://corners.gmarket.co.kr//Bestsellers?viewType=G&groupCode=G09&subGroupCode=S043\n",
      "http://corners.gmarket.co.kr//Bestsellers?viewType=G&groupCode=G09 가구/침구 브랜드 가구/침구/인테리어 http://corners.gmarket.co.kr//Bestsellers?viewType=G&groupCode=G09&subGroupCode=S091\n",
      "http://corners.gmarket.co.kr//Bestsellers?viewType=G&groupCode=G05 스포츠/자동차\n",
      "http://corners.gmarket.co.kr//Bestsellers?viewType=G&groupCode=G05 스포츠/자동차 레저 http://corners.gmarket.co.kr//Bestsellers?viewType=G&groupCode=G05&subGroupCode=S021\n",
      "http://corners.gmarket.co.kr//Bestsellers?viewType=G&groupCode=G05 스포츠/자동차 스포츠 http://corners.gmarket.co.kr//Bestsellers?viewType=G&groupCode=G05&subGroupCode=S022\n",
      "http://corners.gmarket.co.kr//Bestsellers?viewType=G&groupCode=G05 스포츠/자동차 골프 http://corners.gmarket.co.kr//Bestsellers?viewType=G&groupCode=G05&subGroupCode=S023\n",
      "http://corners.gmarket.co.kr//Bestsellers?viewType=G&groupCode=G05 스포츠/자동차 스포츠/레저 브랜드 http://corners.gmarket.co.kr//Bestsellers?viewType=G&groupCode=G05&subGroupCode=S100\n",
      "http://corners.gmarket.co.kr//Bestsellers?viewType=G&groupCode=G05 스포츠/자동차 자동차용품 http://corners.gmarket.co.kr//Bestsellers?viewType=G&groupCode=G05&subGroupCode=S024\n",
      "http://corners.gmarket.co.kr//Bestsellers?viewType=G&groupCode=G06 컴퓨터/전자\n",
      "http://corners.gmarket.co.kr//Bestsellers?viewType=G&groupCode=G06 컴퓨터/전자 노트북/태블릿 http://corners.gmarket.co.kr//Bestsellers?viewType=G&groupCode=G06&subGroupCode=S141\n",
      "http://corners.gmarket.co.kr//Bestsellers?viewType=G&groupCode=G06 컴퓨터/전자 모니터/프린터 http://corners.gmarket.co.kr//Bestsellers?viewType=G&groupCode=G06&subGroupCode=S140\n",
      "http://corners.gmarket.co.kr//Bestsellers?viewType=G&groupCode=G06 컴퓨터/전자 컴퓨터/용품 http://corners.gmarket.co.kr//Bestsellers?viewType=G&groupCode=G06&subGroupCode=S056\n",
      "http://corners.gmarket.co.kr//Bestsellers?viewType=G&groupCode=G06 컴퓨터/전자 대형가전 http://corners.gmarket.co.kr//Bestsellers?viewType=G&groupCode=G06&subGroupCode=S059\n",
      "http://corners.gmarket.co.kr//Bestsellers?viewType=G&groupCode=G06 컴퓨터/전자 저장장치  http://corners.gmarket.co.kr//Bestsellers?viewType=G&groupCode=G06&subGroupCode=S138\n",
      "http://corners.gmarket.co.kr//Bestsellers?viewType=G&groupCode=G06 컴퓨터/전자 주방가전 http://corners.gmarket.co.kr//Bestsellers?viewType=G&groupCode=G06&subGroupCode=S142\n",
      "http://corners.gmarket.co.kr//Bestsellers?viewType=G&groupCode=G06 컴퓨터/전자 건강가전 http://corners.gmarket.co.kr//Bestsellers?viewType=G&groupCode=G06&subGroupCode=S139\n",
      "http://corners.gmarket.co.kr//Bestsellers?viewType=G&groupCode=G06 컴퓨터/전자 계절가전 http://corners.gmarket.co.kr//Bestsellers?viewType=G&groupCode=G06&subGroupCode=S061\n",
      "http://corners.gmarket.co.kr//Bestsellers?viewType=G&groupCode=G06 컴퓨터/전자 생활/미용가전 http://corners.gmarket.co.kr//Bestsellers?viewType=G&groupCode=G06&subGroupCode=S060\n",
      "http://corners.gmarket.co.kr//Bestsellers?viewType=G&groupCode=G06 컴퓨터/전자 카메라 http://corners.gmarket.co.kr//Bestsellers?viewType=G&groupCode=G06&subGroupCode=S057\n",
      "http://corners.gmarket.co.kr//Bestsellers?viewType=G&groupCode=G06 컴퓨터/전자 휴대폰 http://corners.gmarket.co.kr//Bestsellers?viewType=G&groupCode=G06&subGroupCode=S065\n",
      "http://corners.gmarket.co.kr//Bestsellers?viewType=G&groupCode=G06 컴퓨터/전자 헤드폰/이어폰 http://corners.gmarket.co.kr//Bestsellers?viewType=G&groupCode=G06&subGroupCode=S143\n",
      "http://corners.gmarket.co.kr//Bestsellers?viewType=G&groupCode=G06 컴퓨터/전자 MP3/스피커 http://corners.gmarket.co.kr//Bestsellers?viewType=G&groupCode=G06&subGroupCode=S144\n",
      "http://corners.gmarket.co.kr//Bestsellers?viewType=G&groupCode=G06 컴퓨터/전자 게임 http://corners.gmarket.co.kr//Bestsellers?viewType=G&groupCode=G06&subGroupCode=S058\n",
      "http://corners.gmarket.co.kr//Bestsellers?viewType=G&groupCode=G06 컴퓨터/전자 디지털 액세서리 http://corners.gmarket.co.kr//Bestsellers?viewType=G&groupCode=G06&subGroupCode=S112\n",
      "http://corners.gmarket.co.kr//Bestsellers?viewType=G&groupCode=G06 컴퓨터/전자 컴퓨터 사업자몰 http://corners.gmarket.co.kr//Bestsellers?viewType=G&groupCode=G06&subGroupCode=S169\n",
      "http://corners.gmarket.co.kr//Bestsellers?viewType=G&groupCode=G06 컴퓨터/전자 하이마트 http://corners.gmarket.co.kr/http://minishop.gmarket.co.kr/ehimart1\n",
      "http://corners.gmarket.co.kr//Bestsellers?viewType=G&groupCode=G10 도서/음반\n",
      "http://corners.gmarket.co.kr//Bestsellers?viewType=G&groupCode=G10 도서/음반 시/소설 http://corners.gmarket.co.kr//Bestsellers?viewType=G&groupCode=G10&subGroupCode=S044\n",
      "http://corners.gmarket.co.kr//Bestsellers?viewType=G&groupCode=G10 도서/음반 경제/경영/개발 http://corners.gmarket.co.kr//Bestsellers?viewType=G&groupCode=G10&subGroupCode=S093\n",
      "http://corners.gmarket.co.kr//Bestsellers?viewType=G&groupCode=G10 도서/음반 인문/사회/과학/IT http://corners.gmarket.co.kr//Bestsellers?viewType=G&groupCode=G10&subGroupCode=S094\n",
      "http://corners.gmarket.co.kr//Bestsellers?viewType=G&groupCode=G10 도서/음반 가정/생활/취미/레저 http://corners.gmarket.co.kr//Bestsellers?viewType=G&groupCode=G10&subGroupCode=S095\n",
      "http://corners.gmarket.co.kr//Bestsellers?viewType=G&groupCode=G10 도서/음반 만화/잡지 http://corners.gmarket.co.kr//Bestsellers?viewType=G&groupCode=G10&subGroupCode=S096\n",
      "http://corners.gmarket.co.kr//Bestsellers?viewType=G&groupCode=G10 도서/음반 해외원서 http://corners.gmarket.co.kr//Bestsellers?viewType=G&groupCode=G10&subGroupCode=S097\n",
      "http://corners.gmarket.co.kr//Bestsellers?viewType=G&groupCode=G10 도서/음반 학습/수험 http://corners.gmarket.co.kr//Bestsellers?viewType=G&groupCode=G10&subGroupCode=S045\n",
      "http://corners.gmarket.co.kr//Bestsellers?viewType=G&groupCode=G10 도서/음반 어린이 http://corners.gmarket.co.kr//Bestsellers?viewType=G&groupCode=G10&subGroupCode=S073\n",
      "http://corners.gmarket.co.kr//Bestsellers?viewType=G&groupCode=G10 도서/음반 음반 http://corners.gmarket.co.kr//Bestsellers?viewType=G&groupCode=G10&subGroupCode=S046\n",
      "http://corners.gmarket.co.kr//Bestsellers?viewType=G&groupCode=G10 도서/음반 DVD http://corners.gmarket.co.kr//Bestsellers?viewType=G&groupCode=G10&subGroupCode=S074\n",
      "http://corners.gmarket.co.kr//Bestsellers?viewType=G&groupCode=G11 여행\n"
     ]
    },
    {
     "name": "stdout",
     "output_type": "stream",
     "text": [
      "http://corners.gmarket.co.kr//Bestsellers?viewType=G&groupCode=G11 여행 국내여행 http://corners.gmarket.co.kr//Bestsellers?viewType=G&groupCode=G11&subGroupCode=S047\n",
      "http://corners.gmarket.co.kr//Bestsellers?viewType=G&groupCode=G11 여행 해외여행 http://corners.gmarket.co.kr//Bestsellers?viewType=G&groupCode=G11&subGroupCode=S048\n",
      "http://corners.gmarket.co.kr//Bestsellers?viewType=G&groupCode=G11 여행 여행소품 http://corners.gmarket.co.kr//Bestsellers?viewType=G&groupCode=G11&subGroupCode=S049\n",
      "http://corners.gmarket.co.kr//Bestsellers?viewType=G&groupCode=G12 e쿠폰/티켓\n",
      "http://corners.gmarket.co.kr//Bestsellers?viewType=G&groupCode=G12 e쿠폰/티켓 외식 http://corners.gmarket.co.kr//Bestsellers?viewType=G&groupCode=G12&subGroupCode=S051\n",
      "http://corners.gmarket.co.kr//Bestsellers?viewType=G&groupCode=G12 e쿠폰/티켓 온라인컨텐츠 http://corners.gmarket.co.kr//Bestsellers?viewType=G&groupCode=G12&subGroupCode=S052\n",
      "http://corners.gmarket.co.kr//Bestsellers?viewType=G&groupCode=G12 e쿠폰/티켓 생활쿠폰 http://corners.gmarket.co.kr//Bestsellers?viewType=G&groupCode=G12&subGroupCode=S053\n",
      "http://corners.gmarket.co.kr//Bestsellers?viewType=G&groupCode=G12 e쿠폰/티켓 상품권 http://corners.gmarket.co.kr//Bestsellers?viewType=G&groupCode=G12&subGroupCode=S148\n",
      "http://corners.gmarket.co.kr//Bestsellers?viewType=G&groupCode=G12 e쿠폰/티켓 모바일 상품권 http://corners.gmarket.co.kr//Bestsellers?viewType=G&groupCode=G12&subGroupCode=S135\n"
     ]
    }
   ],
   "source": [
    "import requests\n",
    "from bs4 import BeautifulSoup\n",
    "\n",
    "res = requests.get('http://corners.gmarket.co.kr/Bestsellers')\n",
    "soup = BeautifulSoup(res.content, 'html.parser')\n",
    "\n",
    "categories = soup.select('div.gbest-cate ul.by-group li a')\n",
    "for category in categories:\n",
    "    get_category('http://corners.gmarket.co.kr/' + category['href'], category.get_text())"
   ]
  },
  {
   "cell_type": "code",
   "execution_count": 14,
   "metadata": {},
   "outputs": [],
   "source": [
    "def get_category(category_link, category_name):\n",
    "    print (category_link, category_name)\n",
    "    res = requests.get(category_link)\n",
    "    soup = BeautifulSoup(res.content, 'html.parser')\n",
    "    \n",
    "    sub_categories = soup.select('div.navi.group ul li a')\n",
    "    for sub_category in sub_categories:\n",
    "        print (category_link, category_name, sub_category.get_text(), 'http://corners.gmarket.co.kr/' + sub_category['href'])\n",
    "    "
   ]
  },
  {
   "cell_type": "markdown",
   "metadata": {},
   "source": [
    "### main/sub category + 상품 정보 + 상품 코드 + 판매자(제공자) 크롤링"
   ]
  },
  {
   "cell_type": "code",
   "execution_count": 30,
   "metadata": {},
   "outputs": [
    {
     "name": "stdout",
     "output_type": "stream",
     "text": [
      "http://corners.gmarket.co.kr//Bestsellers ALL\n",
      "{'category_name': 'ALL', 'sub_category_name': 'ALL', 'ranking': 1, 'title': '[질레트]질레트 대용량팩 프로쉴드 면도날 10입 +젤2개', 'ori_price': '44000', 'dis_price': '44000', 'discount_percent': 0, 'item_code': '1570813583', 'provider': '스마일배송'}\n",
      "0\n",
      "INSERT INTO items VALUES('1570813583',\n",
      "        '[질레트]질레트 대용량팩 프로쉴드 면도날 10입 +젤2개', \n",
      "        44000, \n",
      "        44000, \n",
      "        0, \n",
      "        '스마일배송')\n",
      "INSERT INTO ranking (main_category, sub_category, item_ranking, item_code) VALUES('ALL',\n",
      "    'ALL', \n",
      "    '1', \n",
      "    '1570813583')\n",
      "{'category_name': 'ALL', 'sub_category_name': 'ALL', 'ranking': 2, 'title': '진안 매콤화끈 중독의맛 뼈없는 직화불닭발 150g  5팩', 'ori_price': '20900', 'dis_price': '19900', 'discount_percent': '4', 'item_code': '1663821673', 'provider': '우체국쇼핑'}\n",
      "0\n",
      "INSERT INTO items VALUES('1663821673',\n",
      "        '진안 매콤화끈 중독의맛 뼈없는 직화불닭발 150g  5팩', \n",
      "        20900, \n",
      "        19900, \n",
      "        4, \n",
      "        '우체국쇼핑')\n",
      "INSERT INTO ranking (main_category, sub_category, item_ranking, item_code) VALUES('ALL',\n",
      "    'ALL', \n",
      "    '2', \n",
      "    '1663821673')\n",
      "{'category_name': 'ALL', 'sub_category_name': 'ALL', 'ranking': 3, 'title': '[오설록]프리미엄 티 컬렉션 40입 추석선물세트/쇼핑백지급', 'ori_price': '25000', 'dis_price': '18900', 'discount_percent': '24', 'item_code': '1164687842', 'provider': '오설록본사직영몰'}\n",
      "0\n",
      "INSERT INTO items VALUES('1164687842',\n",
      "        '[오설록]프리미엄 티 컬렉션 40입 추석선물세트/쇼핑백지급', \n",
      "        25000, \n",
      "        18900, \n",
      "        24, \n",
      "        '오설록본사직영몰')\n",
      "INSERT INTO ranking (main_category, sub_category, item_ranking, item_code) VALUES('ALL',\n",
      "    'ALL', \n",
      "    '3', \n",
      "    '1164687842')\n",
      "{'category_name': 'ALL', 'sub_category_name': 'ALL', 'ranking': 4, 'title': '(공식판매처)에버랜드 얼리버드 종일권(9/6~12/31)', 'ori_price': '56000', 'dis_price': '30000', 'discount_percent': '46', 'item_code': '1659497949', 'provider': '하마씨'}\n",
      "0\n",
      "INSERT INTO items VALUES('1659497949',\n",
      "        '(공식판매처)에버랜드 얼리버드 종일권(9/6~12/31)', \n",
      "        56000, \n",
      "        30000, \n",
      "        46, \n",
      "        '하마씨')\n",
      "INSERT INTO ranking (main_category, sub_category, item_ranking, item_code) VALUES('ALL',\n",
      "    'ALL', \n",
      "    '4', \n",
      "    '1659497949')\n",
      "{'category_name': 'ALL', 'sub_category_name': 'ALL', 'ranking': 5, 'title': 'WaterPulse 워터펄스 구강세정기 V300 한국대리점정품', 'ori_price': '29800', 'dis_price': '29800', 'discount_percent': 0, 'item_code': '1512608569', 'provider': 'JackTrading'}\n",
      "0\n",
      "INSERT INTO items VALUES('1512608569',\n",
      "        'WaterPulse 워터펄스 구강세정기 V300 한국대리점정품', \n",
      "        29800, \n",
      "        29800, \n",
      "        0, \n",
      "        'JackTrading')\n",
      "INSERT INTO ranking (main_category, sub_category, item_ranking, item_code) VALUES('ALL',\n",
      "    'ALL', \n",
      "    '5', \n",
      "    '1512608569')\n",
      "{'category_name': 'ALL', 'sub_category_name': 'ALL', 'ranking': 6, 'title': '찜용 돼지갈비 500g+500g+500g 20%쿠폰증정', 'ori_price': '27800', 'dis_price': '13900', 'discount_percent': '50', 'item_code': '1636920213', 'provider': '누리푸드'}\n",
      "0\n",
      "INSERT INTO items VALUES('1636920213',\n",
      "        '찜용 돼지갈비 500g+500g+500g 20%쿠폰증정', \n",
      "        27800, \n",
      "        13900, \n",
      "        50, \n",
      "        '누리푸드')\n",
      "INSERT INTO ranking (main_category, sub_category, item_ranking, item_code) VALUES('ALL',\n",
      "    'ALL', \n",
      "    '6', \n",
      "    '1636920213')\n",
      "{'category_name': 'ALL', 'sub_category_name': 'ALL', 'ranking': 7, 'title': '[컬리수]티셔츠/상하복/점퍼 外 UP TO 85% SALE', 'ori_price': '25600', 'dis_price': '7700', 'discount_percent': '69', 'item_code': '1544162478', 'provider': '한세드림 공식스토어'}\n",
      "0\n",
      "INSERT INTO items VALUES('1544162478',\n",
      "        '[컬리수]티셔츠/상하복/점퍼 外 UP TO 85% SALE', \n",
      "        25600, \n",
      "        7700, \n",
      "        69, \n",
      "        '한세드림 공식스토어')\n",
      "INSERT INTO ranking (main_category, sub_category, item_ranking, item_code) VALUES('ALL',\n",
      "    'ALL', \n",
      "    '7', \n",
      "    '1544162478')\n",
      "{'category_name': 'ALL', 'sub_category_name': 'ALL', 'ranking': 8, 'title': '비비수산 국내산 순살고등어 120g에서 140g x10팩', 'ori_price': '11900', 'dis_price': '10900', 'discount_percent': '8', 'item_code': '1662879521', 'provider': '우체국쇼핑'}\n",
      "0\n",
      "INSERT INTO items VALUES('1662879521',\n",
      "        '비비수산 국내산 순살고등어 120g에서 140g x10팩', \n",
      "        11900, \n",
      "        10900, \n",
      "        8, \n",
      "        '우체국쇼핑')\n",
      "INSERT INTO ranking (main_category, sub_category, item_ranking, item_code) VALUES('ALL',\n",
      "    'ALL', \n",
      "    '8', \n",
      "    '1662879521')\n",
      "{'category_name': 'ALL', 'sub_category_name': 'ALL', 'ranking': 9, 'title': '맥퀸뉴욕 1+1+1 마이스트롱 오토브로우/육각심 브로우', 'ori_price': '36000', 'dis_price': '10900', 'discount_percent': '69', 'item_code': '1604440426', 'provider': '맥퀸뉴욕본사직영'}\n",
      "0\n",
      "INSERT INTO items VALUES('1604440426',\n",
      "        '맥퀸뉴욕 1+1+1 마이스트롱 오토브로우/육각심 브로우', \n",
      "        36000, \n",
      "        10900, \n",
      "        69, \n",
      "        '맥퀸뉴욕본사직영')\n",
      "INSERT INTO ranking (main_category, sub_category, item_ranking, item_code) VALUES('ALL',\n",
      "    'ALL', \n",
      "    '9', \n",
      "    '1604440426')\n",
      "{'category_name': 'ALL', 'sub_category_name': 'ALL', 'ranking': 10, 'title': '[네파](현대백화점)[네파] NEPA 여성용 패트릭 다운점퍼 7E82021', 'ori_price': '105000', 'dis_price': '76650', 'discount_percent': '27', 'item_code': '1656283696', 'provider': '현대백화점'}\n",
      "0\n",
      "INSERT INTO items VALUES('1656283696',\n",
      "        '[네파](현대백화점)[네파] NEPA 여성용 패트릭 다운점퍼 7E82021', \n",
      "        105000, \n",
      "        76650, \n",
      "        27, \n",
      "        '현대백화점')\n",
      "INSERT INTO ranking (main_category, sub_category, item_ranking, item_code) VALUES('ALL',\n",
      "    'ALL', \n",
      "    '10', \n",
      "    '1656283696')\n"
     ]
    },
    {
     "ename": "KeyboardInterrupt",
     "evalue": "",
     "output_type": "error",
     "traceback": [
      "\u001b[0;31m---------------------------------------------------------------------------\u001b[0m",
      "\u001b[0;31mTypeError\u001b[0m                                 Traceback (most recent call last)",
      "\u001b[0;32m/anaconda3/lib/python3.7/site-packages/urllib3/connectionpool.py\u001b[0m in \u001b[0;36m_make_request\u001b[0;34m(self, conn, method, url, timeout, chunked, **httplib_request_kw)\u001b[0m\n\u001b[1;32m    376\u001b[0m             \u001b[0;32mtry\u001b[0m\u001b[0;34m:\u001b[0m  \u001b[0;31m# Python 2.7, use buffering of HTTP responses\u001b[0m\u001b[0;34m\u001b[0m\u001b[0;34m\u001b[0m\u001b[0m\n\u001b[0;32m--> 377\u001b[0;31m                 \u001b[0mhttplib_response\u001b[0m \u001b[0;34m=\u001b[0m \u001b[0mconn\u001b[0m\u001b[0;34m.\u001b[0m\u001b[0mgetresponse\u001b[0m\u001b[0;34m(\u001b[0m\u001b[0mbuffering\u001b[0m\u001b[0;34m=\u001b[0m\u001b[0;32mTrue\u001b[0m\u001b[0;34m)\u001b[0m\u001b[0;34m\u001b[0m\u001b[0;34m\u001b[0m\u001b[0m\n\u001b[0m\u001b[1;32m    378\u001b[0m             \u001b[0;32mexcept\u001b[0m \u001b[0mTypeError\u001b[0m\u001b[0;34m:\u001b[0m  \u001b[0;31m# Python 2.6 and older, Python 3\u001b[0m\u001b[0;34m\u001b[0m\u001b[0;34m\u001b[0m\u001b[0m\n",
      "\u001b[0;31mTypeError\u001b[0m: getresponse() got an unexpected keyword argument 'buffering'",
      "\nDuring handling of the above exception, another exception occurred:\n",
      "\u001b[0;31mKeyboardInterrupt\u001b[0m                         Traceback (most recent call last)",
      "\u001b[0;32m<ipython-input-30-136a71a92979>\u001b[0m in \u001b[0;36m<module>\u001b[0;34m()\u001b[0m\n\u001b[1;32m     10\u001b[0m \u001b[0mcategories\u001b[0m \u001b[0;34m=\u001b[0m \u001b[0msoup\u001b[0m\u001b[0;34m.\u001b[0m\u001b[0mselect\u001b[0m\u001b[0;34m(\u001b[0m\u001b[0;34m'div.gbest-cate ul.by-group li a'\u001b[0m\u001b[0;34m)\u001b[0m\u001b[0;34m\u001b[0m\u001b[0;34m\u001b[0m\u001b[0m\n\u001b[1;32m     11\u001b[0m \u001b[0;32mfor\u001b[0m \u001b[0mcategory\u001b[0m \u001b[0;32min\u001b[0m \u001b[0mcategories\u001b[0m\u001b[0;34m:\u001b[0m\u001b[0;34m\u001b[0m\u001b[0;34m\u001b[0m\u001b[0m\n\u001b[0;32m---> 12\u001b[0;31m     \u001b[0mget_category\u001b[0m\u001b[0;34m(\u001b[0m\u001b[0;34m'http://corners.gmarket.co.kr/'\u001b[0m \u001b[0;34m+\u001b[0m \u001b[0mcategory\u001b[0m\u001b[0;34m[\u001b[0m\u001b[0;34m'href'\u001b[0m\u001b[0;34m]\u001b[0m\u001b[0;34m,\u001b[0m \u001b[0mcategory\u001b[0m\u001b[0;34m.\u001b[0m\u001b[0mget_text\u001b[0m\u001b[0;34m(\u001b[0m\u001b[0;34m)\u001b[0m\u001b[0;34m)\u001b[0m\u001b[0;34m\u001b[0m\u001b[0;34m\u001b[0m\u001b[0m\n\u001b[0m",
      "\u001b[0;32m<ipython-input-21-25443225347d>\u001b[0m in \u001b[0;36mget_category\u001b[0;34m(category_link, category_name)\u001b[0m\n\u001b[1;32m      4\u001b[0m     \u001b[0msoup\u001b[0m \u001b[0;34m=\u001b[0m \u001b[0mBeautifulSoup\u001b[0m\u001b[0;34m(\u001b[0m\u001b[0mres\u001b[0m\u001b[0;34m.\u001b[0m\u001b[0mcontent\u001b[0m\u001b[0;34m,\u001b[0m \u001b[0;34m'html.parser'\u001b[0m\u001b[0;34m)\u001b[0m\u001b[0;34m\u001b[0m\u001b[0;34m\u001b[0m\u001b[0m\n\u001b[1;32m      5\u001b[0m \u001b[0;34m\u001b[0m\u001b[0m\n\u001b[0;32m----> 6\u001b[0;31m     \u001b[0mget_items\u001b[0m\u001b[0;34m(\u001b[0m\u001b[0msoup\u001b[0m\u001b[0;34m,\u001b[0m \u001b[0mcategory_name\u001b[0m\u001b[0;34m,\u001b[0m \u001b[0;34m\"ALL\"\u001b[0m\u001b[0;34m)\u001b[0m\u001b[0;34m\u001b[0m\u001b[0;34m\u001b[0m\u001b[0m\n\u001b[0m\u001b[1;32m      7\u001b[0m \u001b[0;34m\u001b[0m\u001b[0m\n\u001b[1;32m      8\u001b[0m     \u001b[0msub_categories\u001b[0m \u001b[0;34m=\u001b[0m \u001b[0msoup\u001b[0m\u001b[0;34m.\u001b[0m\u001b[0mselect\u001b[0m\u001b[0;34m(\u001b[0m\u001b[0;34m'div.navi.group ul li > a'\u001b[0m\u001b[0;34m)\u001b[0m\u001b[0;34m\u001b[0m\u001b[0;34m\u001b[0m\u001b[0m\n",
      "\u001b[0;32m<ipython-input-20-9dcdbfbc53ea>\u001b[0m in \u001b[0;36mget_items\u001b[0;34m(html, category_name, sub_category_name)\u001b[0m\n\u001b[1;32m     28\u001b[0m         \u001b[0mitem_code\u001b[0m \u001b[0;34m=\u001b[0m \u001b[0mproduct_link\u001b[0m\u001b[0;34m.\u001b[0m\u001b[0mattrs\u001b[0m\u001b[0;34m[\u001b[0m\u001b[0;34m'href'\u001b[0m\u001b[0;34m]\u001b[0m\u001b[0;34m.\u001b[0m\u001b[0msplit\u001b[0m\u001b[0;34m(\u001b[0m\u001b[0;34m'='\u001b[0m\u001b[0;34m)\u001b[0m\u001b[0;34m[\u001b[0m\u001b[0;36m1\u001b[0m\u001b[0;34m]\u001b[0m\u001b[0;34m\u001b[0m\u001b[0;34m\u001b[0m\u001b[0m\n\u001b[1;32m     29\u001b[0m \u001b[0;34m\u001b[0m\u001b[0m\n\u001b[0;32m---> 30\u001b[0;31m         \u001b[0mres\u001b[0m \u001b[0;34m=\u001b[0m \u001b[0mrequests\u001b[0m\u001b[0;34m.\u001b[0m\u001b[0mget\u001b[0m\u001b[0;34m(\u001b[0m\u001b[0mproduct_link\u001b[0m\u001b[0;34m.\u001b[0m\u001b[0mattrs\u001b[0m\u001b[0;34m[\u001b[0m\u001b[0;34m'href'\u001b[0m\u001b[0;34m]\u001b[0m\u001b[0;34m)\u001b[0m\u001b[0;34m\u001b[0m\u001b[0;34m\u001b[0m\u001b[0m\n\u001b[0m\u001b[1;32m     31\u001b[0m         \u001b[0msoup\u001b[0m \u001b[0;34m=\u001b[0m \u001b[0mBeautifulSoup\u001b[0m\u001b[0;34m(\u001b[0m\u001b[0mres\u001b[0m\u001b[0;34m.\u001b[0m\u001b[0mcontent\u001b[0m\u001b[0;34m,\u001b[0m \u001b[0;34m'html.parser'\u001b[0m\u001b[0;34m)\u001b[0m\u001b[0;34m\u001b[0m\u001b[0;34m\u001b[0m\u001b[0m\n\u001b[1;32m     32\u001b[0m         \u001b[0mprovider\u001b[0m \u001b[0;34m=\u001b[0m \u001b[0msoup\u001b[0m\u001b[0;34m.\u001b[0m\u001b[0mselect_one\u001b[0m\u001b[0;34m(\u001b[0m\u001b[0;34m'div.item-topinfo_headline > p > a > strong'\u001b[0m\u001b[0;34m)\u001b[0m\u001b[0;34m\u001b[0m\u001b[0;34m\u001b[0m\u001b[0m\n",
      "\u001b[0;32m/anaconda3/lib/python3.7/site-packages/requests/api.py\u001b[0m in \u001b[0;36mget\u001b[0;34m(url, params, **kwargs)\u001b[0m\n\u001b[1;32m     70\u001b[0m \u001b[0;34m\u001b[0m\u001b[0m\n\u001b[1;32m     71\u001b[0m     \u001b[0mkwargs\u001b[0m\u001b[0;34m.\u001b[0m\u001b[0msetdefault\u001b[0m\u001b[0;34m(\u001b[0m\u001b[0;34m'allow_redirects'\u001b[0m\u001b[0;34m,\u001b[0m \u001b[0;32mTrue\u001b[0m\u001b[0;34m)\u001b[0m\u001b[0;34m\u001b[0m\u001b[0;34m\u001b[0m\u001b[0m\n\u001b[0;32m---> 72\u001b[0;31m     \u001b[0;32mreturn\u001b[0m \u001b[0mrequest\u001b[0m\u001b[0;34m(\u001b[0m\u001b[0;34m'get'\u001b[0m\u001b[0;34m,\u001b[0m \u001b[0murl\u001b[0m\u001b[0;34m,\u001b[0m \u001b[0mparams\u001b[0m\u001b[0;34m=\u001b[0m\u001b[0mparams\u001b[0m\u001b[0;34m,\u001b[0m \u001b[0;34m**\u001b[0m\u001b[0mkwargs\u001b[0m\u001b[0;34m)\u001b[0m\u001b[0;34m\u001b[0m\u001b[0;34m\u001b[0m\u001b[0m\n\u001b[0m\u001b[1;32m     73\u001b[0m \u001b[0;34m\u001b[0m\u001b[0m\n\u001b[1;32m     74\u001b[0m \u001b[0;34m\u001b[0m\u001b[0m\n",
      "\u001b[0;32m/anaconda3/lib/python3.7/site-packages/requests/api.py\u001b[0m in \u001b[0;36mrequest\u001b[0;34m(method, url, **kwargs)\u001b[0m\n\u001b[1;32m     56\u001b[0m     \u001b[0;31m# cases, and look like a memory leak in others.\u001b[0m\u001b[0;34m\u001b[0m\u001b[0;34m\u001b[0m\u001b[0;34m\u001b[0m\u001b[0m\n\u001b[1;32m     57\u001b[0m     \u001b[0;32mwith\u001b[0m \u001b[0msessions\u001b[0m\u001b[0;34m.\u001b[0m\u001b[0mSession\u001b[0m\u001b[0;34m(\u001b[0m\u001b[0;34m)\u001b[0m \u001b[0;32mas\u001b[0m \u001b[0msession\u001b[0m\u001b[0;34m:\u001b[0m\u001b[0;34m\u001b[0m\u001b[0;34m\u001b[0m\u001b[0m\n\u001b[0;32m---> 58\u001b[0;31m         \u001b[0;32mreturn\u001b[0m \u001b[0msession\u001b[0m\u001b[0;34m.\u001b[0m\u001b[0mrequest\u001b[0m\u001b[0;34m(\u001b[0m\u001b[0mmethod\u001b[0m\u001b[0;34m=\u001b[0m\u001b[0mmethod\u001b[0m\u001b[0;34m,\u001b[0m \u001b[0murl\u001b[0m\u001b[0;34m=\u001b[0m\u001b[0murl\u001b[0m\u001b[0;34m,\u001b[0m \u001b[0;34m**\u001b[0m\u001b[0mkwargs\u001b[0m\u001b[0;34m)\u001b[0m\u001b[0;34m\u001b[0m\u001b[0;34m\u001b[0m\u001b[0m\n\u001b[0m\u001b[1;32m     59\u001b[0m \u001b[0;34m\u001b[0m\u001b[0m\n\u001b[1;32m     60\u001b[0m \u001b[0;34m\u001b[0m\u001b[0m\n",
      "\u001b[0;32m/anaconda3/lib/python3.7/site-packages/requests/sessions.py\u001b[0m in \u001b[0;36mrequest\u001b[0;34m(self, method, url, params, data, headers, cookies, files, auth, timeout, allow_redirects, proxies, hooks, stream, verify, cert, json)\u001b[0m\n\u001b[1;32m    510\u001b[0m         }\n\u001b[1;32m    511\u001b[0m         \u001b[0msend_kwargs\u001b[0m\u001b[0;34m.\u001b[0m\u001b[0mupdate\u001b[0m\u001b[0;34m(\u001b[0m\u001b[0msettings\u001b[0m\u001b[0;34m)\u001b[0m\u001b[0;34m\u001b[0m\u001b[0;34m\u001b[0m\u001b[0m\n\u001b[0;32m--> 512\u001b[0;31m         \u001b[0mresp\u001b[0m \u001b[0;34m=\u001b[0m \u001b[0mself\u001b[0m\u001b[0;34m.\u001b[0m\u001b[0msend\u001b[0m\u001b[0;34m(\u001b[0m\u001b[0mprep\u001b[0m\u001b[0;34m,\u001b[0m \u001b[0;34m**\u001b[0m\u001b[0msend_kwargs\u001b[0m\u001b[0;34m)\u001b[0m\u001b[0;34m\u001b[0m\u001b[0;34m\u001b[0m\u001b[0m\n\u001b[0m\u001b[1;32m    513\u001b[0m \u001b[0;34m\u001b[0m\u001b[0m\n\u001b[1;32m    514\u001b[0m         \u001b[0;32mreturn\u001b[0m \u001b[0mresp\u001b[0m\u001b[0;34m\u001b[0m\u001b[0;34m\u001b[0m\u001b[0m\n",
      "\u001b[0;32m/anaconda3/lib/python3.7/site-packages/requests/sessions.py\u001b[0m in \u001b[0;36msend\u001b[0;34m(self, request, **kwargs)\u001b[0m\n\u001b[1;32m    620\u001b[0m \u001b[0;34m\u001b[0m\u001b[0m\n\u001b[1;32m    621\u001b[0m         \u001b[0;31m# Send the request\u001b[0m\u001b[0;34m\u001b[0m\u001b[0;34m\u001b[0m\u001b[0;34m\u001b[0m\u001b[0m\n\u001b[0;32m--> 622\u001b[0;31m         \u001b[0mr\u001b[0m \u001b[0;34m=\u001b[0m \u001b[0madapter\u001b[0m\u001b[0;34m.\u001b[0m\u001b[0msend\u001b[0m\u001b[0;34m(\u001b[0m\u001b[0mrequest\u001b[0m\u001b[0;34m,\u001b[0m \u001b[0;34m**\u001b[0m\u001b[0mkwargs\u001b[0m\u001b[0;34m)\u001b[0m\u001b[0;34m\u001b[0m\u001b[0;34m\u001b[0m\u001b[0m\n\u001b[0m\u001b[1;32m    623\u001b[0m \u001b[0;34m\u001b[0m\u001b[0m\n\u001b[1;32m    624\u001b[0m         \u001b[0;31m# Total elapsed time of the request (approximately)\u001b[0m\u001b[0;34m\u001b[0m\u001b[0;34m\u001b[0m\u001b[0;34m\u001b[0m\u001b[0m\n",
      "\u001b[0;32m/anaconda3/lib/python3.7/site-packages/requests/adapters.py\u001b[0m in \u001b[0;36msend\u001b[0;34m(self, request, stream, timeout, verify, cert, proxies)\u001b[0m\n\u001b[1;32m    443\u001b[0m                     \u001b[0mdecode_content\u001b[0m\u001b[0;34m=\u001b[0m\u001b[0;32mFalse\u001b[0m\u001b[0;34m,\u001b[0m\u001b[0;34m\u001b[0m\u001b[0;34m\u001b[0m\u001b[0m\n\u001b[1;32m    444\u001b[0m                     \u001b[0mretries\u001b[0m\u001b[0;34m=\u001b[0m\u001b[0mself\u001b[0m\u001b[0;34m.\u001b[0m\u001b[0mmax_retries\u001b[0m\u001b[0;34m,\u001b[0m\u001b[0;34m\u001b[0m\u001b[0;34m\u001b[0m\u001b[0m\n\u001b[0;32m--> 445\u001b[0;31m                     \u001b[0mtimeout\u001b[0m\u001b[0;34m=\u001b[0m\u001b[0mtimeout\u001b[0m\u001b[0;34m\u001b[0m\u001b[0;34m\u001b[0m\u001b[0m\n\u001b[0m\u001b[1;32m    446\u001b[0m                 )\n\u001b[1;32m    447\u001b[0m \u001b[0;34m\u001b[0m\u001b[0m\n",
      "\u001b[0;32m/anaconda3/lib/python3.7/site-packages/urllib3/connectionpool.py\u001b[0m in \u001b[0;36murlopen\u001b[0;34m(self, method, url, body, headers, retries, redirect, assert_same_host, timeout, pool_timeout, release_conn, chunked, body_pos, **response_kw)\u001b[0m\n\u001b[1;32m    598\u001b[0m                                                   \u001b[0mtimeout\u001b[0m\u001b[0;34m=\u001b[0m\u001b[0mtimeout_obj\u001b[0m\u001b[0;34m,\u001b[0m\u001b[0;34m\u001b[0m\u001b[0;34m\u001b[0m\u001b[0m\n\u001b[1;32m    599\u001b[0m                                                   \u001b[0mbody\u001b[0m\u001b[0;34m=\u001b[0m\u001b[0mbody\u001b[0m\u001b[0;34m,\u001b[0m \u001b[0mheaders\u001b[0m\u001b[0;34m=\u001b[0m\u001b[0mheaders\u001b[0m\u001b[0;34m,\u001b[0m\u001b[0;34m\u001b[0m\u001b[0;34m\u001b[0m\u001b[0m\n\u001b[0;32m--> 600\u001b[0;31m                                                   chunked=chunked)\n\u001b[0m\u001b[1;32m    601\u001b[0m \u001b[0;34m\u001b[0m\u001b[0m\n\u001b[1;32m    602\u001b[0m             \u001b[0;31m# If we're going to release the connection in ``finally:``, then\u001b[0m\u001b[0;34m\u001b[0m\u001b[0;34m\u001b[0m\u001b[0;34m\u001b[0m\u001b[0m\n",
      "\u001b[0;32m/anaconda3/lib/python3.7/site-packages/urllib3/connectionpool.py\u001b[0m in \u001b[0;36m_make_request\u001b[0;34m(self, conn, method, url, timeout, chunked, **httplib_request_kw)\u001b[0m\n\u001b[1;32m    378\u001b[0m             \u001b[0;32mexcept\u001b[0m \u001b[0mTypeError\u001b[0m\u001b[0;34m:\u001b[0m  \u001b[0;31m# Python 2.6 and older, Python 3\u001b[0m\u001b[0;34m\u001b[0m\u001b[0;34m\u001b[0m\u001b[0m\n\u001b[1;32m    379\u001b[0m                 \u001b[0;32mtry\u001b[0m\u001b[0;34m:\u001b[0m\u001b[0;34m\u001b[0m\u001b[0;34m\u001b[0m\u001b[0m\n\u001b[0;32m--> 380\u001b[0;31m                     \u001b[0mhttplib_response\u001b[0m \u001b[0;34m=\u001b[0m \u001b[0mconn\u001b[0m\u001b[0;34m.\u001b[0m\u001b[0mgetresponse\u001b[0m\u001b[0;34m(\u001b[0m\u001b[0;34m)\u001b[0m\u001b[0;34m\u001b[0m\u001b[0;34m\u001b[0m\u001b[0m\n\u001b[0m\u001b[1;32m    381\u001b[0m                 \u001b[0;32mexcept\u001b[0m \u001b[0mException\u001b[0m \u001b[0;32mas\u001b[0m \u001b[0me\u001b[0m\u001b[0;34m:\u001b[0m\u001b[0;34m\u001b[0m\u001b[0;34m\u001b[0m\u001b[0m\n\u001b[1;32m    382\u001b[0m                     \u001b[0;31m# Remove the TypeError from the exception chain in Python 3;\u001b[0m\u001b[0;34m\u001b[0m\u001b[0;34m\u001b[0m\u001b[0;34m\u001b[0m\u001b[0m\n",
      "\u001b[0;32m/anaconda3/lib/python3.7/http/client.py\u001b[0m in \u001b[0;36mgetresponse\u001b[0;34m(self)\u001b[0m\n\u001b[1;32m   1319\u001b[0m         \u001b[0;32mtry\u001b[0m\u001b[0;34m:\u001b[0m\u001b[0;34m\u001b[0m\u001b[0;34m\u001b[0m\u001b[0m\n\u001b[1;32m   1320\u001b[0m             \u001b[0;32mtry\u001b[0m\u001b[0;34m:\u001b[0m\u001b[0;34m\u001b[0m\u001b[0;34m\u001b[0m\u001b[0m\n\u001b[0;32m-> 1321\u001b[0;31m                 \u001b[0mresponse\u001b[0m\u001b[0;34m.\u001b[0m\u001b[0mbegin\u001b[0m\u001b[0;34m(\u001b[0m\u001b[0;34m)\u001b[0m\u001b[0;34m\u001b[0m\u001b[0;34m\u001b[0m\u001b[0m\n\u001b[0m\u001b[1;32m   1322\u001b[0m             \u001b[0;32mexcept\u001b[0m \u001b[0mConnectionError\u001b[0m\u001b[0;34m:\u001b[0m\u001b[0;34m\u001b[0m\u001b[0;34m\u001b[0m\u001b[0m\n\u001b[1;32m   1323\u001b[0m                 \u001b[0mself\u001b[0m\u001b[0;34m.\u001b[0m\u001b[0mclose\u001b[0m\u001b[0;34m(\u001b[0m\u001b[0;34m)\u001b[0m\u001b[0;34m\u001b[0m\u001b[0;34m\u001b[0m\u001b[0m\n",
      "\u001b[0;32m/anaconda3/lib/python3.7/http/client.py\u001b[0m in \u001b[0;36mbegin\u001b[0;34m(self)\u001b[0m\n\u001b[1;32m    294\u001b[0m         \u001b[0;31m# read until we get a non-100 response\u001b[0m\u001b[0;34m\u001b[0m\u001b[0;34m\u001b[0m\u001b[0;34m\u001b[0m\u001b[0m\n\u001b[1;32m    295\u001b[0m         \u001b[0;32mwhile\u001b[0m \u001b[0;32mTrue\u001b[0m\u001b[0;34m:\u001b[0m\u001b[0;34m\u001b[0m\u001b[0;34m\u001b[0m\u001b[0m\n\u001b[0;32m--> 296\u001b[0;31m             \u001b[0mversion\u001b[0m\u001b[0;34m,\u001b[0m \u001b[0mstatus\u001b[0m\u001b[0;34m,\u001b[0m \u001b[0mreason\u001b[0m \u001b[0;34m=\u001b[0m \u001b[0mself\u001b[0m\u001b[0;34m.\u001b[0m\u001b[0m_read_status\u001b[0m\u001b[0;34m(\u001b[0m\u001b[0;34m)\u001b[0m\u001b[0;34m\u001b[0m\u001b[0;34m\u001b[0m\u001b[0m\n\u001b[0m\u001b[1;32m    297\u001b[0m             \u001b[0;32mif\u001b[0m \u001b[0mstatus\u001b[0m \u001b[0;34m!=\u001b[0m \u001b[0mCONTINUE\u001b[0m\u001b[0;34m:\u001b[0m\u001b[0;34m\u001b[0m\u001b[0;34m\u001b[0m\u001b[0m\n\u001b[1;32m    298\u001b[0m                 \u001b[0;32mbreak\u001b[0m\u001b[0;34m\u001b[0m\u001b[0;34m\u001b[0m\u001b[0m\n",
      "\u001b[0;32m/anaconda3/lib/python3.7/http/client.py\u001b[0m in \u001b[0;36m_read_status\u001b[0;34m(self)\u001b[0m\n\u001b[1;32m    255\u001b[0m \u001b[0;34m\u001b[0m\u001b[0m\n\u001b[1;32m    256\u001b[0m     \u001b[0;32mdef\u001b[0m \u001b[0m_read_status\u001b[0m\u001b[0;34m(\u001b[0m\u001b[0mself\u001b[0m\u001b[0;34m)\u001b[0m\u001b[0;34m:\u001b[0m\u001b[0;34m\u001b[0m\u001b[0;34m\u001b[0m\u001b[0m\n\u001b[0;32m--> 257\u001b[0;31m         \u001b[0mline\u001b[0m \u001b[0;34m=\u001b[0m \u001b[0mstr\u001b[0m\u001b[0;34m(\u001b[0m\u001b[0mself\u001b[0m\u001b[0;34m.\u001b[0m\u001b[0mfp\u001b[0m\u001b[0;34m.\u001b[0m\u001b[0mreadline\u001b[0m\u001b[0;34m(\u001b[0m\u001b[0m_MAXLINE\u001b[0m \u001b[0;34m+\u001b[0m \u001b[0;36m1\u001b[0m\u001b[0;34m)\u001b[0m\u001b[0;34m,\u001b[0m \u001b[0;34m\"iso-8859-1\"\u001b[0m\u001b[0;34m)\u001b[0m\u001b[0;34m\u001b[0m\u001b[0;34m\u001b[0m\u001b[0m\n\u001b[0m\u001b[1;32m    258\u001b[0m         \u001b[0;32mif\u001b[0m \u001b[0mlen\u001b[0m\u001b[0;34m(\u001b[0m\u001b[0mline\u001b[0m\u001b[0;34m)\u001b[0m \u001b[0;34m>\u001b[0m \u001b[0m_MAXLINE\u001b[0m\u001b[0;34m:\u001b[0m\u001b[0;34m\u001b[0m\u001b[0;34m\u001b[0m\u001b[0m\n\u001b[1;32m    259\u001b[0m             \u001b[0;32mraise\u001b[0m \u001b[0mLineTooLong\u001b[0m\u001b[0;34m(\u001b[0m\u001b[0;34m\"status line\"\u001b[0m\u001b[0;34m)\u001b[0m\u001b[0;34m\u001b[0m\u001b[0;34m\u001b[0m\u001b[0m\n",
      "\u001b[0;32m/anaconda3/lib/python3.7/socket.py\u001b[0m in \u001b[0;36mreadinto\u001b[0;34m(self, b)\u001b[0m\n\u001b[1;32m    587\u001b[0m         \u001b[0;32mwhile\u001b[0m \u001b[0;32mTrue\u001b[0m\u001b[0;34m:\u001b[0m\u001b[0;34m\u001b[0m\u001b[0;34m\u001b[0m\u001b[0m\n\u001b[1;32m    588\u001b[0m             \u001b[0;32mtry\u001b[0m\u001b[0;34m:\u001b[0m\u001b[0;34m\u001b[0m\u001b[0;34m\u001b[0m\u001b[0m\n\u001b[0;32m--> 589\u001b[0;31m                 \u001b[0;32mreturn\u001b[0m \u001b[0mself\u001b[0m\u001b[0;34m.\u001b[0m\u001b[0m_sock\u001b[0m\u001b[0;34m.\u001b[0m\u001b[0mrecv_into\u001b[0m\u001b[0;34m(\u001b[0m\u001b[0mb\u001b[0m\u001b[0;34m)\u001b[0m\u001b[0;34m\u001b[0m\u001b[0;34m\u001b[0m\u001b[0m\n\u001b[0m\u001b[1;32m    590\u001b[0m             \u001b[0;32mexcept\u001b[0m \u001b[0mtimeout\u001b[0m\u001b[0;34m:\u001b[0m\u001b[0;34m\u001b[0m\u001b[0;34m\u001b[0m\u001b[0m\n\u001b[1;32m    591\u001b[0m                 \u001b[0mself\u001b[0m\u001b[0;34m.\u001b[0m\u001b[0m_timeout_occurred\u001b[0m \u001b[0;34m=\u001b[0m \u001b[0;32mTrue\u001b[0m\u001b[0;34m\u001b[0m\u001b[0;34m\u001b[0m\u001b[0m\n",
      "\u001b[0;31mKeyboardInterrupt\u001b[0m: "
     ]
    }
   ],
   "source": [
    "import requests\n",
    "from bs4 import BeautifulSoup\n",
    "import pymysql\n",
    "db = pymysql.connect(host='localhost', port=3306, user='root', passwd='funcoding', db='bestproducts', charset='utf8')\n",
    "cursor = db.cursor()\n",
    "\n",
    "res = requests.get('http://corners.gmarket.co.kr/Bestsellers')\n",
    "soup = BeautifulSoup(res.content, 'html.parser')\n",
    "\n",
    "categories = soup.select('div.gbest-cate ul.by-group li a')\n",
    "for category in categories:\n",
    "    get_category('http://corners.gmarket.co.kr/' + category['href'], category.get_text())"
   ]
  },
  {
   "cell_type": "code",
   "execution_count": 21,
   "metadata": {},
   "outputs": [],
   "source": [
    "def get_category(category_link, category_name):\n",
    "    print (category_link, category_name)\n",
    "    res = requests.get(category_link)\n",
    "    soup = BeautifulSoup(res.content, 'html.parser')\n",
    "\n",
    "    get_items(soup, category_name, \"ALL\")\n",
    "    \n",
    "    sub_categories = soup.select('div.navi.group ul li > a')\n",
    "    for sub_category in sub_categories:\n",
    "        res = requests.get('http://corners.gmarket.co.kr/' + sub_category['href'])\n",
    "        soup = BeautifulSoup(res.content, 'html.parser')\n",
    "        get_items(soup, category_name, sub_category.get_text())            "
   ]
  },
  {
   "cell_type": "code",
   "execution_count": 20,
   "metadata": {},
   "outputs": [],
   "source": [
    "def get_items(html, category_name, sub_category_name):\n",
    "    items_result_list = list()\n",
    "    best_item = html.select('div.best-list')\n",
    "    for index, item in enumerate(best_item[1].select('li')):\n",
    "        data_dict = dict()\n",
    "        \n",
    "        ranking = index + 1\n",
    "        title = item.select_one('a.itemname')\n",
    "        ori_price = item.select_one('div.o-price')\n",
    "        dis_price = item.select_one('div.s-price strong span')\n",
    "        discount_percent = item.select_one('div.s-price em')\n",
    "\n",
    "        if ori_price == None or ori_price.get_text() == '':\n",
    "            ori_price = dis_price\n",
    "        \n",
    "        if dis_price == None:\n",
    "            ori_price, dis_price = 0, 0\n",
    "        else:\n",
    "            ori_price = ori_price.get_text().replace(',', '').replace('원', '')\n",
    "            dis_price = dis_price.get_text().replace(',', '').replace('원', '')\n",
    "\n",
    "        if discount_percent == None or discount_percent.get_text() == '':\n",
    "            discount_percent = 0\n",
    "        else:\n",
    "            discount_percent = discount_percent.get_text().replace('%', '')\n",
    "        \n",
    "        product_link = item.select_one('div.thumb > a')\n",
    "        item_code = product_link.attrs['href'].split('=')[1]\n",
    "        \n",
    "        res = requests.get(product_link.attrs['href'])\n",
    "        soup = BeautifulSoup(res.content, 'html.parser')\n",
    "        provider = soup.select_one('div.item-topinfo_headline > p > a > strong')\n",
    "        if provider == None:\n",
    "            provider = ''\n",
    "        else:\n",
    "            provider = provider.get_text()\n",
    "            \n",
    "        data_dict['category_name'] = category_name\n",
    "        data_dict['sub_category_name'] = sub_category_name\n",
    "        data_dict['ranking'] = ranking\n",
    "        data_dict['title'] = title.get_text()\n",
    "        data_dict['ori_price'] = ori_price\n",
    "        data_dict['dis_price'] = dis_price\n",
    "        data_dict['discount_percent'] = discount_percent\n",
    "        data_dict['item_code'] = item_code\n",
    "        data_dict['provider'] = provider        \n",
    "        \n",
    "        save_data(data_dict)\n",
    "        # print (category_name, sub_category_name, ranking, item_code, provider, title.get_text(), ori_price, dis_price, discount_percent)"
   ]
  },
  {
   "cell_type": "markdown",
   "metadata": {},
   "source": [
    "### INSERT SQL 만들기"
   ]
  },
  {
   "cell_type": "markdown",
   "metadata": {},
   "source": [
    "##### Table 구조\n",
    "```sql\n",
    "CREATE TABLE ranking (\n",
    "    num INT AUTO_INCREMENT NOT NULL PRIMARY KEY,\n",
    "    main_category VARCHAR(20) NOT NULL,\n",
    "    sub_category VARCHAR(20) NOT NULL,\n",
    "    item_ranking TINYINT NOT NULL,\n",
    "    item_code VARCHAR(10) NOT NULL,\n",
    "    FOREIGN KEY (item_code) REFERENCES items(item_code)\n",
    ");\n",
    "```"
   ]
  },
  {
   "cell_type": "code",
   "execution_count": 51,
   "metadata": {},
   "outputs": [],
   "source": [
    "item_info = {'category_name': 'ALL', 'sub_category_name': 'ALL', 'ranking': 1, 'title': '[오설록]프리미엄 티 컬렉션 40입 추석선물세트/쇼핑백지급', 'ori_price': '25000', 'dis_price': '18900', 'discount_percent': '24', 'item_code': '1164687842', 'provider': '오설록본사직영몰'}"
   ]
  },
  {
   "cell_type": "code",
   "execution_count": 54,
   "metadata": {},
   "outputs": [],
   "source": [
    "sql = \"\"\"INSERT INTO ranking (main_category, sub_category, item_ranking, item_code) VALUES('\n",
    "\"\"\" + item_info['category_name'] + \"\"\"',\n",
    "'\"\"\" + item_info['sub_category_name'] + \"\"\"', \n",
    "'\"\"\" + str(item_info['ranking']) + \"\"\"', \n",
    "'\"\"\" + item_info['item_code'] + \"\"\"')\"\"\"       "
   ]
  },
  {
   "cell_type": "code",
   "execution_count": 56,
   "metadata": {},
   "outputs": [
    {
     "data": {
      "text/plain": [
       "\"INSERT INTO ranking (main_category, sub_category, item_ranking, item_code) VALUES('ALL','ALL', '1', '1164687842')\""
      ]
     },
     "execution_count": 56,
     "metadata": {},
     "output_type": "execute_result"
    }
   ],
   "source": [
    "sql.replace('\\n', '')"
   ]
  },
  {
   "cell_type": "markdown",
   "metadata": {},
   "source": [
    "### 목적\n",
    "- 실제로 데이터베이스를 사용하는 방법을 현업스타일로 설명을 드리는 것\n",
    "- 현실 세계의 데이터를 어떻게 테이블로 정의할 것인가\n",
    "- 어떻게 데이터를 넣을 것인가? (프로그래밍으로 넣는 것이 일반적)\n",
    "- 저장된 데이터를 분석한다. (SQL만 쓰는 경우 + 프로그래밍에서 데이터를 분석해서, 풀스택으로 서비스화함)\n",
    "\n",
    "##### 기존 SQL 강의: 단순히 세세한 SQL 문법을 다 소개받고, 끝"
   ]
  },
  {
   "cell_type": "markdown",
   "metadata": {},
   "source": [
    "#### Table 구조\n",
    "```sql\n",
    "CREATE TABLE items (\n",
    "    item_code VARCHAR(10) NOT NULL PRIMARY KEY,\n",
    "    title VARCHAR(200) NOT NULL,\n",
    "    ori_price INT NOT NULL,\n",
    "    dis_price INT NOT NULL,\n",
    "    discount_percent INT NOT NULL,\n",
    "    provider VARCHAR(100)\n",
    ");\n",
    "```"
   ]
  },
  {
   "cell_type": "code",
   "execution_count": 58,
   "metadata": {},
   "outputs": [],
   "source": [
    "sql = \"\"\"INSERT INTO items VALUES('\n",
    "\"\"\" + item_info['item_code'] + \"\"\"',\n",
    "'\"\"\" + item_info['title'] + \"\"\"', \n",
    "\"\"\" + item_info['ori_price'] + \"\"\", \n",
    "\"\"\" + item_info['dis_price'] + \"\"\", \n",
    "\"\"\" + item_info['discount_percent'] + \"\"\", \n",
    "'\"\"\" + item_info['provider'] + \"\"\"')\"\"\"    "
   ]
  },
  {
   "cell_type": "code",
   "execution_count": 60,
   "metadata": {},
   "outputs": [
    {
     "data": {
      "text/plain": [
       "\"INSERT INTO items VALUES('1164687842','[오설록]프리미엄 티 컬렉션 40입 추석선물세트/쇼핑백지급', 25000, 18900, 24, '오설록본사직영몰')\""
      ]
     },
     "execution_count": 60,
     "metadata": {},
     "output_type": "execute_result"
    }
   ],
   "source": [
    "sql.replace('\\n', '')"
   ]
  },
  {
   "cell_type": "markdown",
   "metadata": {},
   "source": [
    "#### DELETE TABLE DATA"
   ]
  },
  {
   "cell_type": "code",
   "execution_count": 2,
   "metadata": {},
   "outputs": [],
   "source": [
    "import pymysql\n",
    "db = pymysql.connect(host='localhost', port=3306, user='root', passwd='funcoding', db='bestproducts', charset='utf8')\n",
    "cursor = db.cursor()\n",
    "\n",
    "sql = \"DELETE FROM ranking\"\n",
    "cursor.execute(sql)\n",
    "\n",
    "sql = \"DELETE FROM items\"\n",
    "cursor.execute(sql)\n",
    "\n",
    "db.commit()\n",
    "db.close()"
   ]
  },
  {
   "cell_type": "markdown",
   "metadata": {},
   "source": [
    "#### COUNT SQL \n",
    "- COUNT: 검색 결과의 row 수를 가져올 수 있는 SQL 문법\n",
    "- SQL 예제: SELECT COUNT(*) FROM items\n",
    "\n",
    "```sql\n",
    "sql = \"\"\"SELECT COUNT(*) FROM items WHERE item_code = '\"\"\" + item_info['item_code'] + \"\"\"';\"\"\"\n",
    "cursor.execute(sql)\n",
    "result = cursor.fetchone()\n",
    "print (result[0])\n",
    "```\n",
    "\n",
    "- COUNT SQL 예제1: SELECT COUNT(*) FROM items (전체 row 수)\n",
    "- COUNT SQL 예제2: SELECT COUNT(ori_price) FROM items (ori_price field 값이 있는 row 수)"
   ]
  },
  {
   "cell_type": "markdown",
   "metadata": {},
   "source": [
    "### 최종 코드 (pymysql + crawling)"
   ]
  },
  {
   "cell_type": "code",
   "execution_count": null,
   "metadata": {},
   "outputs": [],
   "source": [
    "import requests\n",
    "from bs4 import BeautifulSoup\n",
    "import pymysql\n",
    "\n",
    "db = pymysql.connect(host='localhost', port=3306, user='root', passwd='funcoding', db='bestproducts', charset='utf8')\n",
    "cursor = db.cursor()\n",
    "\n",
    "res = requests.get('http://corners.gmarket.co.kr/Bestsellers')\n",
    "soup = BeautifulSoup(res.content, 'html.parser')\n",
    "\n",
    "categories = soup.select('div.gbest-cate ul.by-group li a')\n",
    "for category in categories:\n",
    "    get_category('http://corners.gmarket.co.kr/' + category['href'], category.get_text())\n",
    "\n",
    "db.commit()\n",
    "db.close()"
   ]
  },
  {
   "cell_type": "code",
   "execution_count": null,
   "metadata": {},
   "outputs": [],
   "source": [
    "def get_category(category_link, category_name):\n",
    "    print(category_link, category_name)\n",
    "    res = requests.get(category_link)\n",
    "    soup = BeautifulSoup(res.content, 'html.parser')\n",
    "\n",
    "    get_items(soup, category_name, \"ALL\")\n",
    "\n",
    "    sub_categories = soup.select('div.navi.group ul li > a')\n",
    "    for sub_category in sub_categories:\n",
    "        res = requests.get('http://corners.gmarket.co.kr/' + sub_category['href'])\n",
    "        soup = BeautifulSoup(res.content, 'html.parser')\n",
    "        print(category_name, sub_category.get_text())\n",
    "        get_items(soup, category_name, sub_category.get_text())"
   ]
  },
  {
   "cell_type": "code",
   "execution_count": null,
   "metadata": {},
   "outputs": [],
   "source": [
    "def get_items(html, category_name, sub_category_name):\n",
    "    best_item = html.select('div.best-list')\n",
    "    for index, item in enumerate(best_item[1].select('li')):\n",
    "        data_dict = dict()\n",
    "\n",
    "        ranking = index + 1\n",
    "        title = item.select_one('a.itemname')\n",
    "        ori_price = item.select_one('div.o-price')\n",
    "        dis_price = item.select_one('div.s-price strong span')\n",
    "        discount_percent = item.select_one('div.s-price em')\n",
    "\n",
    "        if ori_price == None or ori_price.get_text() == '':\n",
    "            ori_price = dis_price\n",
    "\n",
    "        if dis_price == None:\n",
    "            ori_price, dis_price = 0, 0\n",
    "        else:\n",
    "            ori_price = ori_price.get_text().replace(',', '').replace('원', '')\n",
    "            dis_price = dis_price.get_text().replace(',', '').replace('원', '')\n",
    "\n",
    "        if discount_percent == None or discount_percent.get_text() == '':\n",
    "            discount_percent = 0\n",
    "        else:\n",
    "            discount_percent = discount_percent.get_text().replace('%', '')\n",
    "\n",
    "        product_link = item.select_one('div.thumb > a')\n",
    "        item_code = product_link.attrs['href'].split('=')[1]\n",
    "\n",
    "        res = requests.get(product_link.attrs['href'])\n",
    "        soup = BeautifulSoup(res.content, 'html.parser')\n",
    "        provider = soup.select_one('div.item-topinfo_headline > p > a > strong')\n",
    "        if provider == None:\n",
    "            provider = ''\n",
    "        else:\n",
    "            provider = provider.get_text()\n",
    "\n",
    "        data_dict['category_name'] = category_name\n",
    "        data_dict['sub_category_name'] = sub_category_name\n",
    "        data_dict['ranking'] = ranking\n",
    "        data_dict['title'] = title.get_text()\n",
    "        data_dict['ori_price'] = ori_price\n",
    "        data_dict['dis_price'] = dis_price\n",
    "        data_dict['discount_percent'] = discount_percent\n",
    "        data_dict['item_code'] = item_code\n",
    "        data_dict['provider'] = provider\n",
    "\n",
    "        save_data(data_dict)"
   ]
  },
  {
   "cell_type": "code",
   "execution_count": null,
   "metadata": {},
   "outputs": [],
   "source": [
    "def save_data(item_info):\n",
    "    print (item_info)\n",
    "    sql = \"\"\"SELECT COUNT(*) FROM items WHERE item_code = '\"\"\" + item_info['item_code'] + \"\"\"';\"\"\"\n",
    "    cursor.execute(sql)\n",
    "    result = cursor.fetchone()\n",
    "    print (result[0])\n",
    "    if result[0] == 0:\n",
    "        sql = \"\"\"INSERT INTO items VALUES('\"\"\" + item_info['item_code'] + \"\"\"',\n",
    "        '\"\"\" + item_info['title'] + \"\"\"', \n",
    "        \"\"\" + str(item_info['ori_price']) + \"\"\", \n",
    "        \"\"\" + str(item_info['dis_price']) + \"\"\", \n",
    "        \"\"\" + str(item_info['discount_percent']) + \"\"\", \n",
    "        '\"\"\" + item_info['provider'] + \"\"\"')\"\"\"\n",
    "        print (sql)\n",
    "        cursor.execute(sql)\n",
    "    \n",
    "    sql = \"\"\"INSERT INTO ranking (main_category, sub_category, item_ranking, item_code) VALUES('\"\"\" + item_info['category_name'] + \"\"\"',\n",
    "    '\"\"\" + item_info['sub_category_name'] + \"\"\"', \n",
    "    '\"\"\" + str(item_info['ranking']) + \"\"\"', \n",
    "    '\"\"\" + item_info['item_code'] + \"\"\"')\"\"\"     \n",
    "    print (sql)    \n",
    "    cursor.execute(sql)"
   ]
  },
  {
   "cell_type": "code",
   "execution_count": null,
   "metadata": {},
   "outputs": [],
   "source": []
  }
 ],
 "metadata": {
  "kernelspec": {
   "display_name": "Python 3",
   "language": "python",
   "name": "python3"
  },
  "language_info": {
   "codemirror_mode": {
    "name": "ipython",
    "version": 3
   },
   "file_extension": ".py",
   "mimetype": "text/x-python",
   "name": "python",
   "nbconvert_exporter": "python",
   "pygments_lexer": "ipython3",
   "version": "3.7.3"
  }
 },
 "nbformat": 4,
 "nbformat_minor": 2
}

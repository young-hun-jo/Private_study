{
 "cells": [
  {
   "cell_type": "code",
   "execution_count": 8,
   "metadata": {},
   "outputs": [],
   "source": [
    "import pymysql"
   ]
  },
  {
   "cell_type": "code",
   "execution_count": 10,
   "metadata": {},
   "outputs": [],
   "source": [
    "db = pymysql.connect(host='localhost', port=3306, user='root', passwd='watson1259@', db='enuri_ecommerce',charset='utf8')"
   ]
  },
  {
   "cell_type": "code",
   "execution_count": 11,
   "metadata": {},
   "outputs": [
    {
     "data": {
      "text/plain": [
       "<pymysql.connections.Connection at 0x1bb80bd4588>"
      ]
     },
     "execution_count": 11,
     "metadata": {},
     "output_type": "execute_result"
    }
   ],
   "source": [
    "db"
   ]
  },
  {
   "cell_type": "code",
   "execution_count": 12,
   "metadata": {},
   "outputs": [
    {
     "data": {
      "text/plain": [
       "<pymysql.cursors.Cursor at 0x1bb80bd4a90>"
      ]
     },
     "execution_count": 12,
     "metadata": {},
     "output_type": "execute_result"
    }
   ],
   "source": [
    "cursor = db.cursor()\n"
   ]
  },
  {
   "cell_type": "code",
   "execution_count": 16,
   "metadata": {},
   "outputs": [],
   "source": [
    "sql = '''\n",
    "    CREATE TABLE enuri (\n",
    "    id int not null auto_increment,\n",
    "    name varchar(5) not null,\n",
    "    mode_num varchar(20) not null,\n",
    "    model_type varchar(30) not null,\n",
    "    primary key(id)\n",
    "    );\n",
    "'''\n",
    "\n",
    "cursor.execute(sql)\n",
    "\n",
    "db.commit()\n",
    "db.close()"
   ]
  },
  {
   "cell_type": "code",
   "execution_count": 31,
   "metadata": {},
   "outputs": [],
   "source": [
    "import pymysql\n",
    "db = pymysql.connect(host='localhost', port=3306, user='root', passwd='watson1259@', db='enuri_ecommerce',charset='utf8')\n",
    "cursor=db.cursor()\n",
    "\n",
    "sql = '''\n",
    "    insert into enuri values(1, 'i5','9400F','커피레이크 리프레시');\n",
    "'''\n",
    "\n",
    "cursor.execute(sql)\n",
    "db.commit()\n",
    "db.close()"
   ]
  },
  {
   "cell_type": "code",
   "execution_count": 32,
   "metadata": {},
   "outputs": [],
   "source": [
    "import pymysql\n",
    "db = pymysql.connect(host='localhost', port=3306, user='root', passwd='watson1259@', db='enuri_ecommerce',charset='utf8')\n",
    "cursor=db.cursor()\n",
    "\n",
    "sql= '''\n",
    "    insert into enuri(name, mode_num, model_type)\n",
    "    values\n",
    "    ('i7','9600KF','커피레이크 리프레시'),\n",
    "    ('i5','9100F','커피레이크 리프레시'),\n",
    "    ('i3','9700','커피레이크 리프레시'),\n",
    "    ('i7','9700KF','커피레이크 리프레시'),\n",
    "    ('i7','9700F','커피레이크 리프레시');\n",
    "'''\n",
    "\n",
    "cursor.execute(sql)\n",
    "db.commit()\n",
    "db.close()"
   ]
  },
  {
   "cell_type": "code",
   "execution_count": 35,
   "metadata": {},
   "outputs": [
    {
     "name": "stdout",
     "output_type": "stream",
     "text": [
      "9600KF\n",
      "9700KF\n",
      "9700F\n"
     ]
    }
   ],
   "source": [
    "import pymysql\n",
    "db = pymysql.connect(host='localhost', port=3306, user='root', passwd='watson1259@', db='enuri_ecommerce',charset='utf8')\n",
    "cursor=db.cursor()\n",
    "\n",
    "sql = '''\n",
    "    select * from enuri where name='i7'\n",
    "'''\n",
    "cursor.execute(sql)\n",
    "results = cursor.fetchall()\n",
    "for result in results:\n",
    "    print(result[2])\n",
    "db.close()\n",
    "# commit안하는 이유는 데이터 수정하는 것이 아니라서!!!!"
   ]
  },
  {
   "cell_type": "code",
   "execution_count": 36,
   "metadata": {},
   "outputs": [],
   "source": [
    "import pymysql\n",
    "db = pymysql.connect(host='localhost', port=3306, user='root', passwd='watson1259@', db='enuri_ecommerce',charset='utf8')\n",
    "cursor=db.cursor()\n",
    "\n",
    "sql = '''\n",
    "    delete from enuri where name='i3'\n",
    "'''\n",
    "\n",
    "cursor.execute(sql)\n",
    "db.commit()\n",
    "db.close()"
   ]
  },
  {
   "cell_type": "code",
   "execution_count": 3,
   "metadata": {},
   "outputs": [],
   "source": [
    "import pymysql\n",
    "import pandas as pd\n",
    "\n",
    "host_name = 'localhost'\n",
    "host_port = 3306\n",
    "username = 'root'\n",
    "passwd = 'watson1259@'\n",
    "database_name = 'student_mgmt'"
   ]
  },
  {
   "cell_type": "code",
   "execution_count": 4,
   "metadata": {},
   "outputs": [],
   "source": [
    "db = pymysql.connect(\n",
    "    host = host_name,\n",
    "    port = host_port,\n",
    "    user = username,\n",
    "    passwd = passwd,\n",
    "    db = database_name,\n",
    "    charset = 'utf8'\n",
    ")"
   ]
  },
  {
   "cell_type": "code",
   "execution_count": null,
   "metadata": {},
   "outputs": [],
   "source": []
  }
 ],
 "metadata": {
  "kernelspec": {
   "display_name": "Python 3",
   "language": "python",
   "name": "python3"
  },
  "language_info": {
   "codemirror_mode": {
    "name": "ipython",
    "version": 3
   },
   "file_extension": ".py",
   "mimetype": "text/x-python",
   "name": "python",
   "nbconvert_exporter": "python",
   "pygments_lexer": "ipython3",
   "version": "3.7.3"
  }
 },
 "nbformat": 4,
 "nbformat_minor": 4
}

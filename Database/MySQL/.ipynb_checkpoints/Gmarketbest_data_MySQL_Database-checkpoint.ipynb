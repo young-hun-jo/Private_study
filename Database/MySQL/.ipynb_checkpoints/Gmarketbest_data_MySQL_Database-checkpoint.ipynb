{
 "cells": [
  {
   "cell_type": "markdown",
   "metadata": {},
   "source": [
    "# 1. 스키마 설계"
   ]
  },
  {
   "cell_type": "code",
   "execution_count": 9,
   "metadata": {},
   "outputs": [],
   "source": [
    "import pymysql\n",
    "db = pymysql.connect(host='localhost', port=3306, user='root', passwd='watson1259@', db='gmarketbest', charset='utf8')\n",
    "cursor = db.cursor()\n",
    "\n",
    "sql = '''\n",
    "create table items (\n",
    "    item_code varchar(100) not null primary key,\n",
    "    title varchar(200) not null,\n",
    "    ori_price int not null,\n",
    "    dis_price int not null,\n",
    "    discount_percent int not null,\n",
    "    provider varchar(50)\n",
    ");\n",
    "'''\n",
    "\n",
    "cursor.execute(sql)\n",
    "\n",
    "sql ='''\n",
    "create table ranking (\n",
    "    num int not null auto_increment primary key,\n",
    "    main_category varchar(50) not null,\n",
    "    sub_category varchar(50) not null,\n",
    "    item_ranking int not null,\n",
    "    item_code varchar(100) not null,\n",
    "    foreign key(item_code) references items(item_code)    \n",
    ");\n",
    "'''\n",
    "cursor.execute(sql)\n",
    "\n",
    "db.commit()\n",
    "db.close()"
   ]
  },
  {
   "cell_type": "markdown",
   "metadata": {},
   "source": [
    "# 2. 크롤링 "
   ]
  },
  {
   "cell_type": "markdown",
   "metadata": {},
   "source": [
    "####  2-1. 메인 카테고리 정보 가져오기"
   ]
  },
  {
   "cell_type": "code",
   "execution_count": 17,
   "metadata": {},
   "outputs": [
    {
     "name": "stdout",
     "output_type": "stream",
     "text": [
      "http://corners.gmarket.co.kr/Bestsellers ALL\n",
      "http://corners.gmarket.co.kr/Bestsellers?viewType=G&groupCode=G01 패션의류\n",
      "http://corners.gmarket.co.kr/Bestsellers?viewType=G&groupCode=G02 신발/잡화\n",
      "http://corners.gmarket.co.kr/Bestsellers?viewType=G&groupCode=G03 화장품/헤어\n",
      "http://corners.gmarket.co.kr/Bestsellers?viewType=G&groupCode=G04 유아동/출산\n",
      "http://corners.gmarket.co.kr/Bestsellers?viewType=G&groupCode=G07 식품\n",
      "http://corners.gmarket.co.kr/Bestsellers?viewType=G&groupCode=G08 생활/주방/건강\n",
      "http://corners.gmarket.co.kr/Bestsellers?viewType=G&groupCode=G09 가구/침구\n",
      "http://corners.gmarket.co.kr/Bestsellers?viewType=G&groupCode=G05 스포츠/자동차\n",
      "http://corners.gmarket.co.kr/Bestsellers?viewType=G&groupCode=G06 컴퓨터/전자\n",
      "http://corners.gmarket.co.kr/Bestsellers?viewType=G&groupCode=G10 도서/음반\n",
      "http://corners.gmarket.co.kr/Bestsellers?viewType=G&groupCode=G11 여행\n",
      "http://corners.gmarket.co.kr/Bestsellers?viewType=G&groupCode=G12 e쿠폰/티켓\n"
     ]
    }
   ],
   "source": [
    "import requests\n",
    "from bs4 import BeautifulSoup\n",
    "\n",
    "res = requests.get(\"http://corners.gmarket.co.kr/Bestsellers\")\n",
    "soup = BeautifulSoup(res.content, 'html.parser')\n",
    "main_categories = soup.select(\"div.gbest-cate ul.by-group li a\")\n",
    "for main_category in main_categories:\n",
    "    print('http://corners.gmarket.co.kr'+main_category['href'], main_category.get_text())"
   ]
  },
  {
   "cell_type": "markdown",
   "metadata": {},
   "source": [
    "#### 2-2. 메인, 서브 카테고리 가져오기"
   ]
  },
  {
   "cell_type": "code",
   "execution_count": null,
   "metadata": {
    "scrolled": true
   },
   "outputs": [],
   "source": [
    "import requests\n",
    "from bs4 import BeautifulSoup\n",
    "\n",
    "res = requests.get(\"http://corners.gmarket.co.kr/Bestsellers\")\n",
    "soup = BeautifulSoup(res.content, 'html.parser')\n",
    "main_categories = soup.select(\"div.gbest-cate ul.by-group li a\")\n",
    "for main_category in main_categories:\n",
    "    get_sub_category('http://corners.gmarket.co.kr'+main_category['href'], main_category.get_text())"
   ]
  },
  {
   "cell_type": "code",
   "execution_count": null,
   "metadata": {},
   "outputs": [],
   "source": [
    "def get_sub_category(main_category_link, main_category_name):\n",
    "    print(main_category_link, main_category_name)\n",
    "    res = requests.get(main_category_link)\n",
    "    soup = BeautifulSoup(res.content, 'html.parser')\n",
    "    \n",
    "    get_items(soup, main_category_name, 'all')\n",
    "    \n",
    "    sub_categories = soup.select(\"div.navi.group ul li a\")\n",
    "    for sub_category in sub_categories:\n",
    "        print('http://corners.gmarket.co.kr'+ sub_category['href'], sub_category.get_text())"
   ]
  },
  {
   "cell_type": "code",
   "execution_count": null,
   "metadata": {},
   "outputs": [],
   "source": [
    "def get_items(html, main_category_name, sub_category_name):\n",
    "    items_result_list = list()\n",
    "    results = html.select('div.best-list')\n",
    "    for result in results[1].select('li'):\n",
    "        title = result.select_one('a.itemname').get_text()\n",
    "        ori_price = result.select_one('div.o-price') \n",
    "        dis_price = result.select_one('div.s-price strong span')\n",
    "        if ori_price is None or ori_price.get_text() == '':\n",
    "            ori_price = dis_price\n",
    "        ori_price = ori_price.get_text().replace('원','').replace(',','')\n",
    "        dis_price = dis_price.get_text().replace('원','').replace(',','')\n",
    "        dis_rate = result.select_one('div.s-price span em')\n",
    "        if dis_rate is None or dis_rate.get_text() == '':\n",
    "            dis_rate = 0\n",
    "        else:\n",
    "            dis_rate = dis_rate.get_text().replace('%','')\n",
    "       \n",
    "        print(main_category_name, sub_category_name, title, ori_price, dis_price, dis_rate)\n",
    "        "
   ]
  },
  {
   "cell_type": "markdown",
   "metadata": {},
   "source": [
    "#### 2-3. 메인,서브 카테고리 + 상품 정보 등 크롤링"
   ]
  },
  {
   "cell_type": "code",
   "execution_count": null,
   "metadata": {},
   "outputs": [],
   "source": []
  },
  {
   "cell_type": "code",
   "execution_count": null,
   "metadata": {},
   "outputs": [],
   "source": []
  },
  {
   "cell_type": "code",
   "execution_count": null,
   "metadata": {},
   "outputs": [],
   "source": []
  },
  {
   "cell_type": "code",
   "execution_count": null,
   "metadata": {},
   "outputs": [],
   "source": []
  },
  {
   "cell_type": "code",
   "execution_count": null,
   "metadata": {},
   "outputs": [],
   "source": []
  },
  {
   "cell_type": "code",
   "execution_count": null,
   "metadata": {},
   "outputs": [],
   "source": []
  },
  {
   "cell_type": "code",
   "execution_count": null,
   "metadata": {},
   "outputs": [],
   "source": []
  },
  {
   "cell_type": "code",
   "execution_count": null,
   "metadata": {},
   "outputs": [],
   "source": []
  }
 ],
 "metadata": {
  "kernelspec": {
   "display_name": "Python 3",
   "language": "python",
   "name": "python3"
  },
  "language_info": {
   "codemirror_mode": {
    "name": "ipython",
    "version": 3
   },
   "file_extension": ".py",
   "mimetype": "text/x-python",
   "name": "python",
   "nbconvert_exporter": "python",
   "pygments_lexer": "ipython3",
   "version": "3.7.3"
  }
 },
 "nbformat": 4,
 "nbformat_minor": 4
}

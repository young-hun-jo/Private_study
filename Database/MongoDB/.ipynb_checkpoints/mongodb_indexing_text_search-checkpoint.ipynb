{
 "cells": [
  {
   "cell_type": "markdown",
   "metadata": {},
   "source": [
    "## 2. mongodb 인덱스 (INDEX)\n",
    "- 검색을 더 빠르게 수행하고자 만든 추가적인 data structure\n",
    "  - index 데이터 구조가 없다면, 컬렉션에 있는 데이터를 하나씩 조회하는 방식으로 검색이 됨"
   ]
  },
  {
   "cell_type": "markdown",
   "metadata": {},
   "source": [
    "### 2.1 기본 인덱스 _id\n",
    "- 모든 mongodb 컬렉션은 기본적으로 _id 필드를 기반으로 기본 인덱스가 생성됨"
   ]
  },
  {
   "cell_type": "markdown",
   "metadata": {},
   "source": [
    "#### mongodb 접속 기본 코드"
   ]
  },
  {
   "cell_type": "code",
   "execution_count": 2,
   "metadata": {},
   "outputs": [
    {
     "name": "stdout",
     "output_type": "stream",
     "text": [
      "{'_id': ObjectId('5d4541ccc92b652d52161313'), '배우이름': '주지훈', '흥행지수': 29515, '출연영화': ['신과 함께-인과 연', '공작', '암수살인', '신과 함께-죄와 벌', '아수라', '좋은 친구들'], '랭킹': '1', '원어명': '주지훈', '직업': '배우', '생년월일': '1982-05-16', '성별': '남', '홈페이지': '\\nhttps://www.instagram.com/_jujihoon/\\n', '신장/체중': '187cm, 68kg', '학교': '경기대학교 연기', '취미': '컴퓨터 게임', '특기': '속독, 노래, 춤, 합기도, 피아노', '다른이름': '주영훈'}\n",
      "{'_id': ObjectId('5d4541ccc92b652d52161314'), '배우이름': '진선규', '흥행지수': 27687, '출연영화': ['극한직업', '사바하', '롱 리브 더 킹: 목포 영웅', '돈', '동네사람들', '완벽한 타인'], '랭킹': '2', '직업': '배우', '생년월일': '1977-09-13', '성별': '남'}\n",
      "{'_id': ObjectId('5d4541ccc92b652d52161315'), '배우이름': '마동석', '흥행지수': 25252, '출연영화': ['신과 함께-인과 연', '성난황소', '동네사람들', '원더풀 고스트', '노리개: 그녀의 눈물', '악인전'], '랭킹': '3', '직업': '배우', '생년월일': '1971-03-01', '성별': '남', '홈페이지': '\\nhttps://www.instagram.com/madongseok_/\\nhttps://twitter.com/madongseok12\\n'}\n"
     ]
    }
   ],
   "source": [
    "from bs4 import BeautifulSoup\n",
    "import requests\n",
    "import pymongo\n",
    "import re\n",
    "\n",
    "conn = pymongo.MongoClient()\n",
    "actor_db = conn.cine21\n",
    "actor_collection = actor_db.actor_collection\n",
    "\n",
    "actor_collection.find_one({})\n",
    "docs = actor_collection.find({}).limit(3)\n",
    "for doc in docs:\n",
    "    print (doc)\n",
    "actor = actor_collection"
   ]
  },
  {
   "cell_type": "markdown",
   "metadata": {},
   "source": [
    "### 2.2 Single(단일) 필드 인덱스"
   ]
  },
  {
   "cell_type": "markdown",
   "metadata": {},
   "source": [
    "#### index 생성: create_index()"
   ]
  },
  {
   "cell_type": "code",
   "execution_count": 28,
   "metadata": {},
   "outputs": [
    {
     "data": {
      "text/plain": [
       "'배우이름_1'"
      ]
     },
     "execution_count": 28,
     "metadata": {},
     "output_type": "execute_result"
    }
   ],
   "source": [
    "actor.create_index('배우이름')"
   ]
  },
  {
   "cell_type": "markdown",
   "metadata": {},
   "source": [
    "#### index 정보 확인: index_information()"
   ]
  },
  {
   "cell_type": "code",
   "execution_count": 26,
   "metadata": {},
   "outputs": [
    {
     "data": {
      "text/plain": [
       "{'_id_': {'v': 2, 'key': [('_id', 1)], 'ns': 'cine21.actor_collection'},\n",
       " '출연영화_text': {'v': 2,\n",
       "  'key': [('_fts', 'text'), ('_ftsx', 1)],\n",
       "  'ns': 'cine21.actor_collection',\n",
       "  'weights': SON([('출연영화', 1)]),\n",
       "  'default_language': 'english',\n",
       "  'language_override': 'language',\n",
       "  'textIndexVersion': 3}}"
      ]
     },
     "execution_count": 26,
     "metadata": {},
     "output_type": "execute_result"
    }
   ],
   "source": [
    "actor.index_information()"
   ]
  },
  {
   "cell_type": "markdown",
   "metadata": {},
   "source": [
    "- key: ('필드명', direction)\n",
    "  - direction\n",
    "    - pymongo.ASCENDING = 1\n",
    "    - pymongo.DESCENDING = -1\n",
    "    - pymongo.TEXT = 'text'"
   ]
  },
  {
   "cell_type": "markdown",
   "metadata": {},
   "source": [
    "#### 전체 인덱스 삭제"
   ]
  },
  {
   "cell_type": "code",
   "execution_count": 38,
   "metadata": {},
   "outputs": [],
   "source": [
    "actor.drop_indexes()"
   ]
  },
  {
   "cell_type": "code",
   "execution_count": 33,
   "metadata": {},
   "outputs": [
    {
     "data": {
      "text/plain": [
       "{'_id_': {'v': 2, 'key': [('_id', 1)], 'ns': 'cine21.actor_collection'}}"
      ]
     },
     "execution_count": 33,
     "metadata": {},
     "output_type": "execute_result"
    }
   ],
   "source": [
    "actor.index_information()"
   ]
  },
  {
   "cell_type": "markdown",
   "metadata": {},
   "source": [
    "#### 특정 인덱스 삭제"
   ]
  },
  {
   "cell_type": "code",
   "execution_count": 9,
   "metadata": {},
   "outputs": [],
   "source": [
    "actor.drop_index([('배우이름', 1)])"
   ]
  },
  {
   "cell_type": "code",
   "execution_count": 10,
   "metadata": {},
   "outputs": [
    {
     "data": {
      "text/plain": [
       "{'_id_': {'v': 2, 'key': [('_id', 1)], 'ns': 'cine21.actor_collection'}}"
      ]
     },
     "execution_count": 10,
     "metadata": {},
     "output_type": "execute_result"
    }
   ],
   "source": [
    "actor.index_information()"
   ]
  },
  {
   "cell_type": "markdown",
   "metadata": {},
   "source": [
    "#### 여러개의 single index 생성 가능"
   ]
  },
  {
   "cell_type": "code",
   "execution_count": 11,
   "metadata": {},
   "outputs": [
    {
     "data": {
      "text/plain": [
       "'배우이름_1'"
      ]
     },
     "execution_count": 11,
     "metadata": {},
     "output_type": "execute_result"
    }
   ],
   "source": [
    "actor.create_index('배우이름')"
   ]
  },
  {
   "cell_type": "code",
   "execution_count": 12,
   "metadata": {},
   "outputs": [
    {
     "data": {
      "text/plain": [
       "'랭킹_1'"
      ]
     },
     "execution_count": 12,
     "metadata": {},
     "output_type": "execute_result"
    }
   ],
   "source": [
    "actor.create_index('랭킹')"
   ]
  },
  {
   "cell_type": "code",
   "execution_count": 13,
   "metadata": {},
   "outputs": [
    {
     "data": {
      "text/plain": [
       "'흥행지수_1'"
      ]
     },
     "execution_count": 13,
     "metadata": {},
     "output_type": "execute_result"
    }
   ],
   "source": [
    "actor.create_index('흥행지수')"
   ]
  },
  {
   "cell_type": "code",
   "execution_count": 18,
   "metadata": {},
   "outputs": [
    {
     "data": {
      "text/plain": [
       "{'_id_': {'v': 2, 'key': [('_id', 1)], 'ns': 'cine21.actor_collection'},\n",
       " '배우이름_1': {'v': 2, 'key': [('배우이름', 1)], 'ns': 'cine21.actor_collection'},\n",
       " '랭킹_1': {'v': 2, 'key': [('랭킹', 1)], 'ns': 'cine21.actor_collection'},\n",
       " '흥행지수_1': {'v': 2, 'key': [('흥행지수', 1)], 'ns': 'cine21.actor_collection'},\n",
       " '직업_-1': {'v': 2, 'key': [('직업', -1)], 'ns': 'cine21.actor_collection'},\n",
       " '출연영화_text': {'v': 2,\n",
       "  'key': [('_fts', 'text'), ('_ftsx', 1)],\n",
       "  'ns': 'cine21.actor_collection',\n",
       "  'weights': SON([('출연영화', 1)]),\n",
       "  'default_language': 'english',\n",
       "  'language_override': 'language',\n",
       "  'textIndexVersion': 3}}"
      ]
     },
     "execution_count": 18,
     "metadata": {},
     "output_type": "execute_result"
    }
   ],
   "source": [
    "actor.index_information()"
   ]
  },
  {
   "cell_type": "code",
   "execution_count": 15,
   "metadata": {},
   "outputs": [
    {
     "data": {
      "text/plain": [
       "'직업_-1'"
      ]
     },
     "execution_count": 15,
     "metadata": {},
     "output_type": "execute_result"
    }
   ],
   "source": [
    "actor.create_index([('직업', pymongo.DESCENDING)])"
   ]
  },
  {
   "cell_type": "markdown",
   "metadata": {},
   "source": [
    "#### 부분 문자열 검색을 위해, text index 생성"
   ]
  },
  {
   "cell_type": "code",
   "execution_count": 52,
   "metadata": {},
   "outputs": [],
   "source": [
    "actor.drop_indexes()"
   ]
  },
  {
   "cell_type": "code",
   "execution_count": 50,
   "metadata": {},
   "outputs": [
    {
     "data": {
      "text/plain": [
       "'직업_text'"
      ]
     },
     "execution_count": 50,
     "metadata": {},
     "output_type": "execute_result"
    }
   ],
   "source": [
    "actor.create_index([('직업', 'text')])"
   ]
  },
  {
   "cell_type": "code",
   "execution_count": 51,
   "metadata": {},
   "outputs": [
    {
     "data": {
      "text/plain": [
       "{'_id_': {'v': 2, 'key': [('_id', 1)], 'ns': 'cine21.actor_collection'},\n",
       " '직업_text': {'v': 2,\n",
       "  'key': [('_fts', 'text'), ('_ftsx', 1)],\n",
       "  'ns': 'cine21.actor_collection',\n",
       "  'weights': SON([('직업', 1)]),\n",
       "  'default_language': 'english',\n",
       "  'language_override': 'language',\n",
       "  'textIndexVersion': 3}}"
      ]
     },
     "execution_count": 51,
     "metadata": {},
     "output_type": "execute_result"
    }
   ],
   "source": [
    "actor.index_information()"
   ]
  },
  {
   "cell_type": "markdown",
   "metadata": {},
   "source": [
    "#### 부분 문자열 검색: $text"
   ]
  },
  {
   "cell_type": "code",
   "execution_count": 41,
   "metadata": {},
   "outputs": [
    {
     "name": "stdout",
     "output_type": "stream",
     "text": [
      "{'_id': ObjectId('5d4541ccc92b652d52161387'), '배우이름': '임윤아', '흥행지수': 2176, '출연영화': ['엑시트', '공조'], '랭킹': '117', '직업': '가수', '생년월일': '1990-05-30', '성별': '여', '홈페이지': '\\nhttps://www.instagram.com/yoona__lim/\\n', '소속사': 'SM엔터테인먼트', '다른이름': '소녀시대; girlsgeneration; girls generation'}\n",
      "{'_id': ObjectId('5d4541ccc92b652d52161378'), '배우이름': '진영', '흥행지수': 2469, '출연영화': ['내안의 그놈', '수상한 그녀'], '랭킹': '102', '직업': '가수', '생년월일': '1991-11-18', '성별': '남', '홈페이지': '\\nhttps://twitter.com/_jinyoung911118\\nhttps://instagram.com/jinyoung0423/\\n', '신장/체중': '178cm, 59kg', '다른이름': '정진영; 비원에이포; B1A4'}\n",
      "{'_id': ObjectId('5d4541ccc92b652d52161377'), '배우이름': '도경수', '흥행지수': 2475, '출연영화': ['스윙키즈', '언더독', '신과 함께-죄와 벌', '형', '순정', '7호실'], '랭킹': '101', '직업': '가수', '성별': '남', '다른이름': '엑소;EXO; 디오'}\n",
      "{'_id': ObjectId('5d4541ccc92b652d52161369'), '배우이름': '김설현', '흥행지수': 2944, '출연영화': ['안시성'], '랭킹': '87', '직업': '가수', '생년월일': '1995-01-03', '성별': '여', '홈페이지': '\\nhttps://instagram.com/sh_9513\\n', '다른이름': '김설현;AOA;에이오에이'}\n"
     ]
    }
   ],
   "source": [
    "docs = actor.find({'$text': {'$search': '가수'}})\n",
    "for doc in docs:\n",
    "    print (doc)"
   ]
  },
  {
   "cell_type": "markdown",
   "metadata": {},
   "source": [
    "### 2.3 Compound(복합) 필드 인덱스\n",
    "- 최대 31개의 필드로 만들 수 있음"
   ]
  },
  {
   "cell_type": "code",
   "execution_count": 84,
   "metadata": {},
   "outputs": [],
   "source": [
    "actor.drop_indexes()"
   ]
  },
  {
   "cell_type": "code",
   "execution_count": 82,
   "metadata": {},
   "outputs": [
    {
     "data": {
      "text/plain": [
       "'출연영화_text_직업_text_흥행지수_-1'"
      ]
     },
     "execution_count": 82,
     "metadata": {},
     "output_type": "execute_result"
    }
   ],
   "source": [
    "actor.create_index([('출연영화', pymongo.TEXT), ('직업', pymongo.TEXT), ('흥행지수', pymongo.DESCENDING)])"
   ]
  },
  {
   "cell_type": "code",
   "execution_count": 83,
   "metadata": {},
   "outputs": [
    {
     "name": "stdout",
     "output_type": "stream",
     "text": [
      "{'_id': ObjectId('5d4541ccc92b652d52161359'), '배우이름': '정해균', '흥행지수': 3596, '출연영화': ['신과 함께-인과 연', '나랏말싸미', '성난황소', '신과 함께-죄와 벌'], '랭킹': '71', '직업': '배우', '생년월일': '1968-08-16', '성별': '남'}\n",
      "{'_id': ObjectId('5d4541ccc92b652d5216133e'), '배우이름': '이준혁', '흥행지수': 5536, '출연영화': ['신과 함께-인과 연', '신과 함께-죄와 벌'], '랭킹': '44', '직업': '배우', '생년월일': '1984-03-13', '성별': '남', '홈페이지': '\\nhttps://twitter.com/4eyedjack\\n', '신장/체중': '181cm, 70kg', '학교': '한신대학교 광고홍보학'}\n",
      "{'_id': ObjectId('5d4541ccc92b652d52161335'), '배우이름': '장광', '흥행지수': 7075, '출연영화': ['신과 함께-인과 연', '협상', '안시성', '동네사람들', '덕구', '신과 함께-죄와 벌'], '랭킹': '35', '직업': '배우', '생년월일': '1952-01-05', '성별': '남'}\n",
      "{'_id': ObjectId('5d4541ccc92b652d5216132f'), '배우이름': '임원희', '흥행지수': 8304, '출연영화': ['신과 함께-인과 연', '신과 함께-죄와 벌', '늦여름'], '랭킹': '29', '직업': '배우', '생년월일': '1970-10-11', '성별': '남', '신장/체중': '175cm, 68kg', '학교': '서울예술대학 연극', '소속사': '빌리지엔터테인먼트'}\n",
      "{'_id': ObjectId('5d4541ccc92b652d52161326'), '배우이름': '김동욱', '흥행지수': 11121, '출연영화': ['신과 함께-인과 연', '어쩌다, 결혼', '신과 함께-죄와 벌'], '랭킹': '20', '직업': '배우', '생년월일': '1983-07-29', '성별': '남', '신장/체중': '175cm, 60kg', '학교': '한국예술종합학교 연극원', '취미': '음악듣기, 축구', '특기': '기계체조'}\n",
      "{'_id': ObjectId('5d4541ccc92b652d5216131b'), '배우이름': '김향기', '흥행지수': 17272, '출연영화': ['신과 함께-인과 연', '영주', '증인', '신과 함께-죄와 벌', '우아한 거짓말', '눈길'], '랭킹': '9', '직업': '배우', '생년월일': '2000-08-09', '성별': '여', '홈페이지': '\\nhttps://twitter.com/smell2001\\n', '특기': '애교 부리기, 피아노 치기'}\n",
      "{'_id': ObjectId('5d4541ccc92b652d52161317'), '배우이름': '하정우', '흥행지수': 21128, '출연영화': ['신과 함께-인과 연', 'PMC: 더 벙커', '신과 함께-죄와 벌', '더 테러 라이브', '암살', '베를린'], '랭킹': '5', '직업': '배우', '생년월일': '1978-03-11', '성별': '남', '홈페이지': '\\nhttps://www.facebook.com/ft.hajungwoo\\n', '신장/체중': '184cm, 75kg', '학교': '중앙대학교 연극학 학사', '취미': '피아노, 검도, 수영', '다른이름': '김성훈; 河正宇'}\n",
      "{'_id': ObjectId('5d4541ccc92b652d52161313'), '배우이름': '주지훈', '흥행지수': 29515, '출연영화': ['신과 함께-인과 연', '공작', '암수살인', '신과 함께-죄와 벌', '아수라', '좋은 친구들'], '랭킹': '1', '원어명': '주지훈', '직업': '배우', '생년월일': '1982-05-16', '성별': '남', '홈페이지': '\\nhttps://www.instagram.com/_jujihoon/\\n', '신장/체중': '187cm, 68kg', '학교': '경기대학교 연기', '취미': '컴퓨터 게임', '특기': '속독, 노래, 춤, 합기도, 피아노', '다른이름': '주영훈'}\n",
      "{'_id': ObjectId('5d4541ccc92b652d52161377'), '배우이름': '도경수', '흥행지수': 2475, '출연영화': ['스윙키즈', '언더독', '신과 함께-죄와 벌', '형', '순정', '7호실'], '랭킹': '101', '직업': '가수', '성별': '남', '다른이름': '엑소;EXO; 디오'}\n",
      "{'_id': ObjectId('5d4541ccc92b652d52161364'), '배우이름': '이정재', '흥행지수': 3102, '출연영화': ['사바하', '인천상륙작전', '신과 함께-죄와 벌', '암살', '도둑들'], '랭킹': '82', '직업': '배우', '생년월일': '1973-03-15', '성별': '남', '홈페이지': '\\nhttps://www.facebook.com/cjesjungjae\\n', '신장/체중': '180cm, 68kg', '학교': '동국문화예술대학원 공연영상예술학과', '취미': '골프, 영화감상', '특기': '인테리어, 구기종목, 보디빌딩', '소속사': '예당엔터테인먼트'}\n",
      "{'_id': ObjectId('5d4541ccc92b652d52161337'), '배우이름': '남일우', '흥행지수': 6920, '출연영화': ['신과 함께-인과 연', '친절한 금자씨', '검은 사제들', '남자가 사랑할 때'], '랭킹': '37', '직업': '배우', '생년월일': '1938-05-25', '성별': '남'}\n",
      "{'_id': ObjectId('5d4541ccc92b652d52161325'), '배우이름': '조한철', '흥행지수': 11833, '출연영화': ['신과 함께-인과 연', '국가부도의 날', '로망', '배심원들'], '랭킹': '19', '직업': '배우', '생년월일': '1973-05-13', '성별': '남'}\n",
      "{'_id': ObjectId('5d4541ccc92b652d52161315'), '배우이름': '마동석', '흥행지수': 25252, '출연영화': ['신과 함께-인과 연', '성난황소', '동네사람들', '원더풀 고스트', '노리개: 그녀의 눈물', '악인전'], '랭킹': '3', '직업': '배우', '생년월일': '1971-03-01', '성별': '남', '홈페이지': '\\nhttps://www.instagram.com/madongseok_/\\nhttps://twitter.com/madongseok12\\n'}\n"
     ]
    }
   ],
   "source": [
    "docs = actor.find({'$text': {'$search': '신과'}})\n",
    "for doc in docs:\n",
    "    print (doc)"
   ]
  },
  {
   "cell_type": "code",
   "execution_count": null,
   "metadata": {},
   "outputs": [],
   "source": []
  },
  {
   "cell_type": "markdown",
   "metadata": {},
   "source": [
    "### 2.4 다양한 문자열 검색"
   ]
  },
  {
   "cell_type": "code",
   "execution_count": 85,
   "metadata": {},
   "outputs": [
    {
     "name": "stdout",
     "output_type": "stream",
     "text": [
      "{'_id': ObjectId('5d4541ccc92b652d52161313'), '배우이름': '주지훈', '흥행지수': 29515, '출연영화': ['신과 함께-인과 연', '공작', '암수살인', '신과 함께-죄와 벌', '아수라', '좋은 친구들'], '랭킹': '1', '원어명': '주지훈', '직업': '배우', '생년월일': '1982-05-16', '성별': '남', '홈페이지': '\\nhttps://www.instagram.com/_jujihoon/\\n', '신장/체중': '187cm, 68kg', '학교': '경기대학교 연기', '취미': '컴퓨터 게임', '특기': '속독, 노래, 춤, 합기도, 피아노', '다른이름': '주영훈'}\n",
      "{'_id': ObjectId('5d4541ccc92b652d52161315'), '배우이름': '마동석', '흥행지수': 25252, '출연영화': ['신과 함께-인과 연', '성난황소', '동네사람들', '원더풀 고스트', '노리개: 그녀의 눈물', '악인전'], '랭킹': '3', '직업': '배우', '생년월일': '1971-03-01', '성별': '남', '홈페이지': '\\nhttps://www.instagram.com/madongseok_/\\nhttps://twitter.com/madongseok12\\n'}\n",
      "{'_id': ObjectId('5d4541ccc92b652d52161317'), '배우이름': '하정우', '흥행지수': 21128, '출연영화': ['신과 함께-인과 연', 'PMC: 더 벙커', '신과 함께-죄와 벌', '더 테러 라이브', '암살', '베를린'], '랭킹': '5', '직업': '배우', '생년월일': '1978-03-11', '성별': '남', '홈페이지': '\\nhttps://www.facebook.com/ft.hajungwoo\\n', '신장/체중': '184cm, 75kg', '학교': '중앙대학교 연극학 학사', '취미': '피아노, 검도, 수영', '다른이름': '김성훈; 河正宇'}\n",
      "{'_id': ObjectId('5d4541ccc92b652d5216131b'), '배우이름': '김향기', '흥행지수': 17272, '출연영화': ['신과 함께-인과 연', '영주', '증인', '신과 함께-죄와 벌', '우아한 거짓말', '눈길'], '랭킹': '9', '직업': '배우', '생년월일': '2000-08-09', '성별': '여', '홈페이지': '\\nhttps://twitter.com/smell2001\\n', '특기': '애교 부리기, 피아노 치기'}\n",
      "{'_id': ObjectId('5d4541ccc92b652d52161325'), '배우이름': '조한철', '흥행지수': 11833, '출연영화': ['신과 함께-인과 연', '국가부도의 날', '로망', '배심원들'], '랭킹': '19', '직업': '배우', '생년월일': '1973-05-13', '성별': '남'}\n",
      "{'_id': ObjectId('5d4541ccc92b652d52161326'), '배우이름': '김동욱', '흥행지수': 11121, '출연영화': ['신과 함께-인과 연', '어쩌다, 결혼', '신과 함께-죄와 벌'], '랭킹': '20', '직업': '배우', '생년월일': '1983-07-29', '성별': '남', '신장/체중': '175cm, 60kg', '학교': '한국예술종합학교 연극원', '취미': '음악듣기, 축구', '특기': '기계체조'}\n",
      "{'_id': ObjectId('5d4541ccc92b652d5216132f'), '배우이름': '임원희', '흥행지수': 8304, '출연영화': ['신과 함께-인과 연', '신과 함께-죄와 벌', '늦여름'], '랭킹': '29', '직업': '배우', '생년월일': '1970-10-11', '성별': '남', '신장/체중': '175cm, 68kg', '학교': '서울예술대학 연극', '소속사': '빌리지엔터테인먼트'}\n",
      "{'_id': ObjectId('5d4541ccc92b652d52161335'), '배우이름': '장광', '흥행지수': 7075, '출연영화': ['신과 함께-인과 연', '협상', '안시성', '동네사람들', '덕구', '신과 함께-죄와 벌'], '랭킹': '35', '직업': '배우', '생년월일': '1952-01-05', '성별': '남'}\n",
      "{'_id': ObjectId('5d4541ccc92b652d52161337'), '배우이름': '남일우', '흥행지수': 6920, '출연영화': ['신과 함께-인과 연', '친절한 금자씨', '검은 사제들', '남자가 사랑할 때'], '랭킹': '37', '직업': '배우', '생년월일': '1938-05-25', '성별': '남'}\n",
      "{'_id': ObjectId('5d4541ccc92b652d5216133e'), '배우이름': '이준혁', '흥행지수': 5536, '출연영화': ['신과 함께-인과 연', '신과 함께-죄와 벌'], '랭킹': '44', '직업': '배우', '생년월일': '1984-03-13', '성별': '남', '홈페이지': '\\nhttps://twitter.com/4eyedjack\\n', '신장/체중': '181cm, 70kg', '학교': '한신대학교 광고홍보학'}\n",
      "{'_id': ObjectId('5d4541ccc92b652d52161359'), '배우이름': '정해균', '흥행지수': 3596, '출연영화': ['신과 함께-인과 연', '나랏말싸미', '성난황소', '신과 함께-죄와 벌'], '랭킹': '71', '직업': '배우', '생년월일': '1968-08-16', '성별': '남'}\n",
      "{'_id': ObjectId('5d4541ccc92b652d52161364'), '배우이름': '이정재', '흥행지수': 3102, '출연영화': ['사바하', '인천상륙작전', '신과 함께-죄와 벌', '암살', '도둑들'], '랭킹': '82', '직업': '배우', '생년월일': '1973-03-15', '성별': '남', '홈페이지': '\\nhttps://www.facebook.com/cjesjungjae\\n', '신장/체중': '180cm, 68kg', '학교': '동국문화예술대학원 공연영상예술학과', '취미': '골프, 영화감상', '특기': '인테리어, 구기종목, 보디빌딩', '소속사': '예당엔터테인먼트'}\n",
      "{'_id': ObjectId('5d4541ccc92b652d52161377'), '배우이름': '도경수', '흥행지수': 2475, '출연영화': ['스윙키즈', '언더독', '신과 함께-죄와 벌', '형', '순정', '7호실'], '랭킹': '101', '직업': '가수', '성별': '남', '다른이름': '엑소;EXO; 디오'}\n"
     ]
    }
   ],
   "source": [
    "# 정규표현식 ($text operator 는 $search operator 와 함께 사용됨)\n",
    "result = actor.find({'출연영화' : {'$regex' : '함께'}})\n",
    "for record in result:\n",
    "    print(record)"
   ]
  },
  {
   "cell_type": "code",
   "execution_count": null,
   "metadata": {},
   "outputs": [],
   "source": []
  },
  {
   "cell_type": "code",
   "execution_count": 86,
   "metadata": {},
   "outputs": [],
   "source": [
    "from bs4 import BeautifulSoup\n",
    "import requests\n",
    "import pymongo\n",
    "import re\n",
    "\n",
    "conn = pymongo.MongoClient()\n",
    "actor_db = conn.cine21\n",
    "text_collection = actor_db.text_collection"
   ]
  },
  {
   "cell_type": "code",
   "execution_count": 87,
   "metadata": {},
   "outputs": [
    {
     "data": {
      "text/plain": [
       "<pymongo.results.InsertManyResult at 0x10b306b08>"
      ]
     },
     "execution_count": 87,
     "metadata": {},
     "output_type": "execute_result"
    }
   ],
   "source": [
    "text_collection.insert_many(\n",
    "    [\n",
    "        { \"name\": \"Java Hut\", \"description\": \"Coffee and cakes\", \"ranking\": 1 },\n",
    "        { \"name\": \"Burger Buns\", \"description\": \"Java hamburgers\", \"ranking\": 2 },\n",
    "        { \"name\": \"Coffee Shop\", \"description\": \"Just coffee\", \"ranking\": 3 },\n",
    "        { \"name\": \"Clothes Clothes Clothes\", \"description\": \"Discount clothing\", \"ranking\": 4 },\n",
    "        { \"name\": \"Java Shopping\", \"description\": \"Indonesian goods\", \"ranking\": 5 }\n",
    "    ]\n",
    ")"
   ]
  },
  {
   "cell_type": "code",
   "execution_count": 91,
   "metadata": {},
   "outputs": [
    {
     "name": "stdout",
     "output_type": "stream",
     "text": [
      "{'_id': ObjectId('5d4d2d3bc92b650ad6a7cb3d'), 'name': 'Coffee Shop', 'description': 'Just coffee', 'ranking': 3}\n"
     ]
    }
   ],
   "source": [
    "docs = text_collection.find({'name': {'$regex': 'Co.*'}})\n",
    "for doc in docs:\n",
    "    print (doc)"
   ]
  },
  {
   "cell_type": "code",
   "execution_count": 92,
   "metadata": {},
   "outputs": [
    {
     "name": "stdout",
     "output_type": "stream",
     "text": [
      "{'_id': ObjectId('5d4d2d3bc92b650ad6a7cb3d'), 'name': 'Coffee Shop', 'description': 'Just coffee', 'ranking': 3}\n",
      "{'_id': ObjectId('5d4d2d3bc92b650ad6a7cb3f'), 'name': 'Java Shopping', 'description': 'Indonesian goods', 'ranking': 5}\n"
     ]
    }
   ],
   "source": [
    "docs = text_collection.find({'name': {'$regex': 'Sh.*'}})\n",
    "for doc in docs:\n",
    "    print (doc)"
   ]
  },
  {
   "cell_type": "code",
   "execution_count": 93,
   "metadata": {},
   "outputs": [
    {
     "data": {
      "text/plain": [
       "'name_text'"
      ]
     },
     "execution_count": 93,
     "metadata": {},
     "output_type": "execute_result"
    }
   ],
   "source": [
    "text_collection.create_index([('name', pymongo.TEXT)])"
   ]
  },
  {
   "cell_type": "code",
   "execution_count": 95,
   "metadata": {},
   "outputs": [
    {
     "name": "stdout",
     "output_type": "stream",
     "text": [
      "{'_id': ObjectId('5d4d2d3bc92b650ad6a7cb3d'), 'name': 'Coffee Shop', 'description': 'Just coffee', 'ranking': 3}\n"
     ]
    }
   ],
   "source": [
    "docs = text_collection.find({'$text': {'$search': 'coffee'}})\n",
    "for doc in docs:\n",
    "    print (doc)"
   ]
  },
  {
   "cell_type": "code",
   "execution_count": 96,
   "metadata": {},
   "outputs": [
    {
     "name": "stdout",
     "output_type": "stream",
     "text": [
      "{'_id': ObjectId('5d4d2d3bc92b650ad6a7cb3d'), 'name': 'Coffee Shop', 'description': 'Just coffee', 'ranking': 3}\n",
      "{'_id': ObjectId('5d4d2d3bc92b650ad6a7cb3f'), 'name': 'Java Shopping', 'description': 'Indonesian goods', 'ranking': 5}\n",
      "{'_id': ObjectId('5d4d2d3bc92b650ad6a7cb3b'), 'name': 'Java Hut', 'description': 'Coffee and cakes', 'ranking': 1}\n"
     ]
    }
   ],
   "source": [
    "docs = text_collection.find({'$text': {'$search': 'java coffee shop'}})\n",
    "for doc in docs:\n",
    "    print (doc)"
   ]
  },
  {
   "cell_type": "code",
   "execution_count": 101,
   "metadata": {},
   "outputs": [
    {
     "name": "stdout",
     "output_type": "stream",
     "text": [
      "{'_id': ObjectId('5d4d2d3bc92b650ad6a7cb3d'), 'name': 'Coffee Shop', 'description': 'Just coffee', 'ranking': 3}\n"
     ]
    }
   ],
   "source": [
    "docs = text_collection.find({'$text': {'$search': '\\\"coffee shop\\\"'}})\n",
    "for doc in docs:\n",
    "    print (doc)"
   ]
  },
  {
   "cell_type": "code",
   "execution_count": 103,
   "metadata": {},
   "outputs": [
    {
     "name": "stdout",
     "output_type": "stream",
     "text": [
      "{'_id': ObjectId('5d4d2d3bc92b650ad6a7cb3d'), 'name': 'Coffee Shop', 'description': 'Just coffee', 'ranking': 3}\n"
     ]
    }
   ],
   "source": [
    "docs = text_collection.find({'$text': {'$search': 'Coffee', '$caseSensitive': True}})\n",
    "for doc in docs:\n",
    "    print (doc)"
   ]
  },
  {
   "cell_type": "code",
   "execution_count": null,
   "metadata": {},
   "outputs": [],
   "source": []
  },
  {
   "cell_type": "markdown",
   "metadata": {},
   "source": [
    "<div class=\"alert alert-block alert-warning\">\n",
    "<font color=\"blue\" size=\"4em\">실습</font><br>\n",
    "배우중에 중앙대학교를 나온 배우를 흥행지수 순으로 최대 10명 출력하라\n",
    "</div>"
   ]
  },
  {
   "cell_type": "code",
   "execution_count": 106,
   "metadata": {},
   "outputs": [
    {
     "name": "stdout",
     "output_type": "stream",
     "text": [
      "{'_id': ObjectId('5d4541ccc92b652d52161313'), '배우이름': '주지훈', '흥행지수': 29515, '출연영화': ['신과 함께-인과 연', '공작', '암수살인', '신과 함께-죄와 벌', '아수라', '좋은 친구들'], '랭킹': '1', '원어명': '주지훈', '직업': '배우', '생년월일': '1982-05-16', '성별': '남', '홈페이지': '\\nhttps://www.instagram.com/_jujihoon/\\n', '신장/체중': '187cm, 68kg', '학교': '경기대학교 연기', '취미': '컴퓨터 게임', '특기': '속독, 노래, 춤, 합기도, 피아노', '다른이름': '주영훈'}\n",
      "{'_id': ObjectId('5d4541ccc92b652d52161357'), '배우이름': '정우성', '흥행지수': 3732, '출연영화': ['인랑', '증인', '호우시절', '더 킹', '비트', '아수라'], '랭킹': '69', '직업': '배우', '생년월일': '1973-03-20', '성별': '남', '홈페이지': '\\nhttps://www.instagram.com/tojws/\\nhttps://www.facebook.com/officialjws\\n', '신장/체중': '186cm, 79kg', '학교': '경기상업고등학교 중퇴', '취미': '비디오 감상，드라이브', '특기': '농구，수영', '소속사': '(주)토러스 필름'}\n"
     ]
    }
   ],
   "source": [
    "result = actor.find({'학교' : {'$regex' : '중앙대학교'}}).sort('흥행지수', pymongo.DESCENDING).limit(10)\n",
    "for record in result:\n",
    "    print(record)"
   ]
  },
  {
   "cell_type": "code",
   "execution_count": null,
   "metadata": {},
   "outputs": [],
   "source": []
  },
  {
   "cell_type": "code",
   "execution_count": null,
   "metadata": {},
   "outputs": [],
   "source": []
  }
 ],
 "metadata": {
  "kernelspec": {
   "display_name": "Python 3",
   "language": "python",
   "name": "python3"
  },
  "language_info": {
   "codemirror_mode": {
    "name": "ipython",
    "version": 3
   },
   "file_extension": ".py",
   "mimetype": "text/x-python",
   "name": "python",
   "nbconvert_exporter": "python",
   "pygments_lexer": "ipython3",
   "version": "3.7.3"
  },
  "toc": {
   "base_numbering": 1,
   "nav_menu": {},
   "number_sections": true,
   "sideBar": true,
   "skip_h1_title": false,
   "title_cell": "Table of Contents",
   "title_sidebar": "Contents",
   "toc_cell": false,
   "toc_position": {},
   "toc_section_display": true,
   "toc_window_display": false
  },
  "varInspector": {
   "cols": {
    "lenName": 16,
    "lenType": 16,
    "lenVar": 40
   },
   "kernels_config": {
    "python": {
     "delete_cmd_postfix": "",
     "delete_cmd_prefix": "del ",
     "library": "var_list.py",
     "varRefreshCmd": "print(var_dic_list())"
    },
    "r": {
     "delete_cmd_postfix": ") ",
     "delete_cmd_prefix": "rm(",
     "library": "var_list.r",
     "varRefreshCmd": "cat(var_dic_list()) "
    }
   },
   "types_to_exclude": [
    "module",
    "function",
    "builtin_function_or_method",
    "instance",
    "_Feature"
   ],
   "window_display": false
  }
 },
 "nbformat": 4,
 "nbformat_minor": 2
}

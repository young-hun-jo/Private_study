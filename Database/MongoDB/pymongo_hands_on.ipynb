{
 "cells": [
  {
   "cell_type": "code",
   "execution_count": 1,
   "metadata": {},
   "outputs": [],
   "source": [
    "import pymongo"
   ]
  },
  {
   "cell_type": "code",
   "execution_count": 5,
   "metadata": {},
   "outputs": [],
   "source": [
    "conn = pymongo.MongoClient()"
   ]
  },
  {
   "cell_type": "code",
   "execution_count": 10,
   "metadata": {},
   "outputs": [],
   "source": [
    "people_db = conn.people_db"
   ]
  },
  {
   "cell_type": "code",
   "execution_count": 11,
   "metadata": {},
   "outputs": [
    {
     "name": "stdout",
     "output_type": "stream",
     "text": [
      "Database(MongoClient(host=['localhost:27017'], document_class=dict, tz_aware=False, connect=True), 'people_db')\n"
     ]
    }
   ],
   "source": [
    "print(people_db)"
   ]
  },
  {
   "cell_type": "code",
   "execution_count": 13,
   "metadata": {},
   "outputs": [
    {
     "name": "stdout",
     "output_type": "stream",
     "text": [
      "people_db\n"
     ]
    }
   ],
   "source": [
    "print(people_db.name)"
   ]
  },
  {
   "cell_type": "code",
   "execution_count": 14,
   "metadata": {},
   "outputs": [],
   "source": [
    "info = people_db.info"
   ]
  },
  {
   "cell_type": "code",
   "execution_count": 15,
   "metadata": {},
   "outputs": [
    {
     "data": {
      "text/plain": [
       "Collection(Database(MongoClient(host=['localhost:27017'], document_class=dict, tz_aware=False, connect=True), 'people_db'), 'info')"
      ]
     },
     "execution_count": 15,
     "metadata": {},
     "output_type": "execute_result"
    }
   ],
   "source": [
    "info"
   ]
  },
  {
   "cell_type": "code",
   "execution_count": 16,
   "metadata": {},
   "outputs": [],
   "source": [
    "person = {'number':1, 'sex':'male', 'age':20, 'country' : 'South Korea'}"
   ]
  },
  {
   "cell_type": "code",
   "execution_count": 17,
   "metadata": {},
   "outputs": [
    {
     "data": {
      "text/plain": [
       "<pymongo.results.InsertOneResult at 0x180f2bb6e48>"
      ]
     },
     "execution_count": 17,
     "metadata": {},
     "output_type": "execute_result"
    }
   ],
   "source": [
    "info.insert_one(person)"
   ]
  },
  {
   "cell_type": "code",
   "execution_count": 19,
   "metadata": {},
   "outputs": [],
   "source": [
    "many_person = [\n",
    "        {'number':2, 'sex':'female', 'age':30, 'country' : 'North Korea'},\n",
    "        {'number':3, 'sex':'male', 'age':50, 'country' : 'China'},\n",
    "        {'number':4, 'sex':'female', 'age':10, 'country' : 'Japan'},\n",
    "        {'number':5, 'sex':'male', 'age':20, 'country' : 'France'},\n",
    "        {'number':6, 'sex':'female', 'age':70, 'country' : 'Singapore'}\n",
    "]"
   ]
  },
  {
   "cell_type": "code",
   "execution_count": 20,
   "metadata": {},
   "outputs": [
    {
     "data": {
      "text/plain": [
       "<pymongo.results.InsertManyResult at 0x180f2c60548>"
      ]
     },
     "execution_count": 20,
     "metadata": {},
     "output_type": "execute_result"
    }
   ],
   "source": [
    "info.insert_many(many_person)"
   ]
  },
  {
   "cell_type": "code",
   "execution_count": 22,
   "metadata": {},
   "outputs": [],
   "source": [
    "data = {'number':7, 'sex':'male', 'age':24, 'country':'Germany'}"
   ]
  },
  {
   "cell_type": "code",
   "execution_count": 23,
   "metadata": {},
   "outputs": [],
   "source": [
    "data_id = info.insert_one(data)"
   ]
  },
  {
   "cell_type": "code",
   "execution_count": 25,
   "metadata": {},
   "outputs": [
    {
     "data": {
      "text/plain": [
       "ObjectId('5e7dfc1cee8b84958a2a2028')"
      ]
     },
     "execution_count": 25,
     "metadata": {},
     "output_type": "execute_result"
    }
   ],
   "source": [
    "data_id.inserted_id"
   ]
  },
  {
   "cell_type": "code",
   "execution_count": 27,
   "metadata": {},
   "outputs": [
    {
     "data": {
      "text/plain": [
       "7"
      ]
     },
     "execution_count": 27,
     "metadata": {},
     "output_type": "execute_result"
    }
   ],
   "source": [
    "info.estimated_document_count()"
   ]
  },
  {
   "cell_type": "code",
   "execution_count": 28,
   "metadata": {},
   "outputs": [
    {
     "data": {
      "text/plain": [
       "<pymongo.results.InsertManyResult at 0x180f4e60408>"
      ]
     },
     "execution_count": 28,
     "metadata": {},
     "output_type": "execute_result"
    }
   ],
   "source": [
    "data = []\n",
    "data.append({'number':6, 'sex':'female', 'age':70, 'country' : 'Singapore'})\n",
    "data.append({'number':6, 'sex':'female', 'age':70, 'country' : 'Singapore'})\n",
    "data.append({'number':6, 'sex':'female', 'age':70, 'country' : 'Singapore'})\n",
    "data.append({'number':6, 'sex':'female', 'age':70, 'country' : 'Singapore'})\n",
    "\n",
    "info.insert_many(data)"
   ]
  },
  {
   "cell_type": "code",
   "execution_count": 29,
   "metadata": {},
   "outputs": [],
   "source": [
    "data = {\n",
    "    'movie' : 'avengers',\n",
    "    'character' :{\n",
    "        'winner':{\n",
    "            'ironman':'Tony Stark'\n",
    "        },\n",
    "        'loser':{\n",
    "            'Thanos':'Thanos'\n",
    "        }\n",
    "    },\n",
    "    'release_Date':'2019-04-30'\n",
    "}"
   ]
  },
  {
   "cell_type": "code",
   "execution_count": 30,
   "metadata": {},
   "outputs": [
    {
     "data": {
      "text/plain": [
       "<pymongo.results.InsertOneResult at 0x180f2f41508>"
      ]
     },
     "execution_count": 30,
     "metadata": {},
     "output_type": "execute_result"
    }
   ],
   "source": [
    "info.insert_one(data)"
   ]
  },
  {
   "cell_type": "markdown",
   "metadata": {},
   "source": [
    "# 재실습 ( 2020 -03 -28 )"
   ]
  },
  {
   "cell_type": "code",
   "execution_count": 1,
   "metadata": {},
   "outputs": [],
   "source": [
    "import pymongo"
   ]
  },
  {
   "cell_type": "code",
   "execution_count": 2,
   "metadata": {},
   "outputs": [],
   "source": [
    "conn = pymongo.MongoClient()"
   ]
  },
  {
   "cell_type": "code",
   "execution_count": 3,
   "metadata": {},
   "outputs": [],
   "source": [
    "mydb = conn.mydb"
   ]
  },
  {
   "cell_type": "code",
   "execution_count": 4,
   "metadata": {},
   "outputs": [],
   "source": [
    "people = mydb.people"
   ]
  },
  {
   "cell_type": "code",
   "execution_count": 5,
   "metadata": {},
   "outputs": [
    {
     "data": {
      "text/plain": [
       "Collection(Database(MongoClient(host=['localhost:27017'], document_class=dict, tz_aware=False, connect=True), 'mydb'), 'people')"
      ]
     },
     "execution_count": 5,
     "metadata": {},
     "output_type": "execute_result"
    }
   ],
   "source": [
    "people"
   ]
  },
  {
   "cell_type": "code",
   "execution_count": 6,
   "metadata": {},
   "outputs": [],
   "source": [
    "data = []\n",
    "for index in range(100):\n",
    "    data.append({'num': index, 'name' : 'jo_young_hun', 'age' : 26, 'city':'Daejeon'})"
   ]
  },
  {
   "cell_type": "code",
   "execution_count": 7,
   "metadata": {},
   "outputs": [
    {
     "data": {
      "text/plain": [
       "[{'num': 0, 'name': 'jo_young_hun', 'age': 26, 'city': 'Daejeon'},\n",
       " {'num': 1, 'name': 'jo_young_hun', 'age': 26, 'city': 'Daejeon'},\n",
       " {'num': 2, 'name': 'jo_young_hun', 'age': 26, 'city': 'Daejeon'},\n",
       " {'num': 3, 'name': 'jo_young_hun', 'age': 26, 'city': 'Daejeon'},\n",
       " {'num': 4, 'name': 'jo_young_hun', 'age': 26, 'city': 'Daejeon'},\n",
       " {'num': 5, 'name': 'jo_young_hun', 'age': 26, 'city': 'Daejeon'},\n",
       " {'num': 6, 'name': 'jo_young_hun', 'age': 26, 'city': 'Daejeon'},\n",
       " {'num': 7, 'name': 'jo_young_hun', 'age': 26, 'city': 'Daejeon'},\n",
       " {'num': 8, 'name': 'jo_young_hun', 'age': 26, 'city': 'Daejeon'},\n",
       " {'num': 9, 'name': 'jo_young_hun', 'age': 26, 'city': 'Daejeon'},\n",
       " {'num': 10, 'name': 'jo_young_hun', 'age': 26, 'city': 'Daejeon'},\n",
       " {'num': 11, 'name': 'jo_young_hun', 'age': 26, 'city': 'Daejeon'},\n",
       " {'num': 12, 'name': 'jo_young_hun', 'age': 26, 'city': 'Daejeon'},\n",
       " {'num': 13, 'name': 'jo_young_hun', 'age': 26, 'city': 'Daejeon'},\n",
       " {'num': 14, 'name': 'jo_young_hun', 'age': 26, 'city': 'Daejeon'},\n",
       " {'num': 15, 'name': 'jo_young_hun', 'age': 26, 'city': 'Daejeon'},\n",
       " {'num': 16, 'name': 'jo_young_hun', 'age': 26, 'city': 'Daejeon'},\n",
       " {'num': 17, 'name': 'jo_young_hun', 'age': 26, 'city': 'Daejeon'},\n",
       " {'num': 18, 'name': 'jo_young_hun', 'age': 26, 'city': 'Daejeon'},\n",
       " {'num': 19, 'name': 'jo_young_hun', 'age': 26, 'city': 'Daejeon'},\n",
       " {'num': 20, 'name': 'jo_young_hun', 'age': 26, 'city': 'Daejeon'},\n",
       " {'num': 21, 'name': 'jo_young_hun', 'age': 26, 'city': 'Daejeon'},\n",
       " {'num': 22, 'name': 'jo_young_hun', 'age': 26, 'city': 'Daejeon'},\n",
       " {'num': 23, 'name': 'jo_young_hun', 'age': 26, 'city': 'Daejeon'},\n",
       " {'num': 24, 'name': 'jo_young_hun', 'age': 26, 'city': 'Daejeon'},\n",
       " {'num': 25, 'name': 'jo_young_hun', 'age': 26, 'city': 'Daejeon'},\n",
       " {'num': 26, 'name': 'jo_young_hun', 'age': 26, 'city': 'Daejeon'},\n",
       " {'num': 27, 'name': 'jo_young_hun', 'age': 26, 'city': 'Daejeon'},\n",
       " {'num': 28, 'name': 'jo_young_hun', 'age': 26, 'city': 'Daejeon'},\n",
       " {'num': 29, 'name': 'jo_young_hun', 'age': 26, 'city': 'Daejeon'},\n",
       " {'num': 30, 'name': 'jo_young_hun', 'age': 26, 'city': 'Daejeon'},\n",
       " {'num': 31, 'name': 'jo_young_hun', 'age': 26, 'city': 'Daejeon'},\n",
       " {'num': 32, 'name': 'jo_young_hun', 'age': 26, 'city': 'Daejeon'},\n",
       " {'num': 33, 'name': 'jo_young_hun', 'age': 26, 'city': 'Daejeon'},\n",
       " {'num': 34, 'name': 'jo_young_hun', 'age': 26, 'city': 'Daejeon'},\n",
       " {'num': 35, 'name': 'jo_young_hun', 'age': 26, 'city': 'Daejeon'},\n",
       " {'num': 36, 'name': 'jo_young_hun', 'age': 26, 'city': 'Daejeon'},\n",
       " {'num': 37, 'name': 'jo_young_hun', 'age': 26, 'city': 'Daejeon'},\n",
       " {'num': 38, 'name': 'jo_young_hun', 'age': 26, 'city': 'Daejeon'},\n",
       " {'num': 39, 'name': 'jo_young_hun', 'age': 26, 'city': 'Daejeon'},\n",
       " {'num': 40, 'name': 'jo_young_hun', 'age': 26, 'city': 'Daejeon'},\n",
       " {'num': 41, 'name': 'jo_young_hun', 'age': 26, 'city': 'Daejeon'},\n",
       " {'num': 42, 'name': 'jo_young_hun', 'age': 26, 'city': 'Daejeon'},\n",
       " {'num': 43, 'name': 'jo_young_hun', 'age': 26, 'city': 'Daejeon'},\n",
       " {'num': 44, 'name': 'jo_young_hun', 'age': 26, 'city': 'Daejeon'},\n",
       " {'num': 45, 'name': 'jo_young_hun', 'age': 26, 'city': 'Daejeon'},\n",
       " {'num': 46, 'name': 'jo_young_hun', 'age': 26, 'city': 'Daejeon'},\n",
       " {'num': 47, 'name': 'jo_young_hun', 'age': 26, 'city': 'Daejeon'},\n",
       " {'num': 48, 'name': 'jo_young_hun', 'age': 26, 'city': 'Daejeon'},\n",
       " {'num': 49, 'name': 'jo_young_hun', 'age': 26, 'city': 'Daejeon'},\n",
       " {'num': 50, 'name': 'jo_young_hun', 'age': 26, 'city': 'Daejeon'},\n",
       " {'num': 51, 'name': 'jo_young_hun', 'age': 26, 'city': 'Daejeon'},\n",
       " {'num': 52, 'name': 'jo_young_hun', 'age': 26, 'city': 'Daejeon'},\n",
       " {'num': 53, 'name': 'jo_young_hun', 'age': 26, 'city': 'Daejeon'},\n",
       " {'num': 54, 'name': 'jo_young_hun', 'age': 26, 'city': 'Daejeon'},\n",
       " {'num': 55, 'name': 'jo_young_hun', 'age': 26, 'city': 'Daejeon'},\n",
       " {'num': 56, 'name': 'jo_young_hun', 'age': 26, 'city': 'Daejeon'},\n",
       " {'num': 57, 'name': 'jo_young_hun', 'age': 26, 'city': 'Daejeon'},\n",
       " {'num': 58, 'name': 'jo_young_hun', 'age': 26, 'city': 'Daejeon'},\n",
       " {'num': 59, 'name': 'jo_young_hun', 'age': 26, 'city': 'Daejeon'},\n",
       " {'num': 60, 'name': 'jo_young_hun', 'age': 26, 'city': 'Daejeon'},\n",
       " {'num': 61, 'name': 'jo_young_hun', 'age': 26, 'city': 'Daejeon'},\n",
       " {'num': 62, 'name': 'jo_young_hun', 'age': 26, 'city': 'Daejeon'},\n",
       " {'num': 63, 'name': 'jo_young_hun', 'age': 26, 'city': 'Daejeon'},\n",
       " {'num': 64, 'name': 'jo_young_hun', 'age': 26, 'city': 'Daejeon'},\n",
       " {'num': 65, 'name': 'jo_young_hun', 'age': 26, 'city': 'Daejeon'},\n",
       " {'num': 66, 'name': 'jo_young_hun', 'age': 26, 'city': 'Daejeon'},\n",
       " {'num': 67, 'name': 'jo_young_hun', 'age': 26, 'city': 'Daejeon'},\n",
       " {'num': 68, 'name': 'jo_young_hun', 'age': 26, 'city': 'Daejeon'},\n",
       " {'num': 69, 'name': 'jo_young_hun', 'age': 26, 'city': 'Daejeon'},\n",
       " {'num': 70, 'name': 'jo_young_hun', 'age': 26, 'city': 'Daejeon'},\n",
       " {'num': 71, 'name': 'jo_young_hun', 'age': 26, 'city': 'Daejeon'},\n",
       " {'num': 72, 'name': 'jo_young_hun', 'age': 26, 'city': 'Daejeon'},\n",
       " {'num': 73, 'name': 'jo_young_hun', 'age': 26, 'city': 'Daejeon'},\n",
       " {'num': 74, 'name': 'jo_young_hun', 'age': 26, 'city': 'Daejeon'},\n",
       " {'num': 75, 'name': 'jo_young_hun', 'age': 26, 'city': 'Daejeon'},\n",
       " {'num': 76, 'name': 'jo_young_hun', 'age': 26, 'city': 'Daejeon'},\n",
       " {'num': 77, 'name': 'jo_young_hun', 'age': 26, 'city': 'Daejeon'},\n",
       " {'num': 78, 'name': 'jo_young_hun', 'age': 26, 'city': 'Daejeon'},\n",
       " {'num': 79, 'name': 'jo_young_hun', 'age': 26, 'city': 'Daejeon'},\n",
       " {'num': 80, 'name': 'jo_young_hun', 'age': 26, 'city': 'Daejeon'},\n",
       " {'num': 81, 'name': 'jo_young_hun', 'age': 26, 'city': 'Daejeon'},\n",
       " {'num': 82, 'name': 'jo_young_hun', 'age': 26, 'city': 'Daejeon'},\n",
       " {'num': 83, 'name': 'jo_young_hun', 'age': 26, 'city': 'Daejeon'},\n",
       " {'num': 84, 'name': 'jo_young_hun', 'age': 26, 'city': 'Daejeon'},\n",
       " {'num': 85, 'name': 'jo_young_hun', 'age': 26, 'city': 'Daejeon'},\n",
       " {'num': 86, 'name': 'jo_young_hun', 'age': 26, 'city': 'Daejeon'},\n",
       " {'num': 87, 'name': 'jo_young_hun', 'age': 26, 'city': 'Daejeon'},\n",
       " {'num': 88, 'name': 'jo_young_hun', 'age': 26, 'city': 'Daejeon'},\n",
       " {'num': 89, 'name': 'jo_young_hun', 'age': 26, 'city': 'Daejeon'},\n",
       " {'num': 90, 'name': 'jo_young_hun', 'age': 26, 'city': 'Daejeon'},\n",
       " {'num': 91, 'name': 'jo_young_hun', 'age': 26, 'city': 'Daejeon'},\n",
       " {'num': 92, 'name': 'jo_young_hun', 'age': 26, 'city': 'Daejeon'},\n",
       " {'num': 93, 'name': 'jo_young_hun', 'age': 26, 'city': 'Daejeon'},\n",
       " {'num': 94, 'name': 'jo_young_hun', 'age': 26, 'city': 'Daejeon'},\n",
       " {'num': 95, 'name': 'jo_young_hun', 'age': 26, 'city': 'Daejeon'},\n",
       " {'num': 96, 'name': 'jo_young_hun', 'age': 26, 'city': 'Daejeon'},\n",
       " {'num': 97, 'name': 'jo_young_hun', 'age': 26, 'city': 'Daejeon'},\n",
       " {'num': 98, 'name': 'jo_young_hun', 'age': 26, 'city': 'Daejeon'},\n",
       " {'num': 99, 'name': 'jo_young_hun', 'age': 26, 'city': 'Daejeon'}]"
      ]
     },
     "execution_count": 7,
     "metadata": {},
     "output_type": "execute_result"
    }
   ],
   "source": [
    "data"
   ]
  },
  {
   "cell_type": "code",
   "execution_count": 8,
   "metadata": {},
   "outputs": [
    {
     "data": {
      "text/plain": [
       "<pymongo.results.InsertManyResult at 0x2bd01010788>"
      ]
     },
     "execution_count": 8,
     "metadata": {},
     "output_type": "execute_result"
    }
   ],
   "source": [
    "people.insert_many(data)"
   ]
  },
  {
   "cell_type": "code",
   "execution_count": 13,
   "metadata": {},
   "outputs": [
    {
     "data": {
      "text/plain": [
       "{'_id': ObjectId('5e7f3ef09fa6e1d98a29e00b'),\n",
       " 'num': 0,\n",
       " 'name': 'jo_young_hun',\n",
       " 'age': 26,\n",
       " 'city': 'Daejeon'}"
      ]
     },
     "execution_count": 13,
     "metadata": {},
     "output_type": "execute_result"
    }
   ],
   "source": [
    "people.find_one()"
   ]
  },
  {
   "cell_type": "code",
   "execution_count": 25,
   "metadata": {},
   "outputs": [
    {
     "name": "stdout",
     "output_type": "stream",
     "text": [
      "{'_id': ObjectId('5e7f3ef09fa6e1d98a29e03e'), 'num': 51, 'name': 'jo_young_hun', 'age': 26, 'city': 'Daejeon'}\n",
      "{'_id': ObjectId('5e7f3ef09fa6e1d98a29e03f'), 'num': 52, 'name': 'jo_young_hun', 'age': 26, 'city': 'Daejeon'}\n",
      "{'_id': ObjectId('5e7f3ef09fa6e1d98a29e040'), 'num': 53, 'name': 'jo_young_hun', 'age': 26, 'city': 'Daejeon'}\n",
      "{'_id': ObjectId('5e7f3ef09fa6e1d98a29e041'), 'num': 54, 'name': 'jo_young_hun', 'age': 26, 'city': 'Daejeon'}\n",
      "{'_id': ObjectId('5e7f3ef09fa6e1d98a29e042'), 'num': 55, 'name': 'jo_young_hun', 'age': 26, 'city': 'Daejeon'}\n",
      "{'_id': ObjectId('5e7f3ef09fa6e1d98a29e043'), 'num': 56, 'name': 'jo_young_hun', 'age': 26, 'city': 'Daejeon'}\n",
      "{'_id': ObjectId('5e7f3ef09fa6e1d98a29e044'), 'num': 57, 'name': 'jo_young_hun', 'age': 26, 'city': 'Daejeon'}\n",
      "{'_id': ObjectId('5e7f3ef09fa6e1d98a29e045'), 'num': 58, 'name': 'jo_young_hun', 'age': 26, 'city': 'Daejeon'}\n",
      "{'_id': ObjectId('5e7f3ef09fa6e1d98a29e046'), 'num': 59, 'name': 'jo_young_hun', 'age': 26, 'city': 'Daejeon'}\n",
      "{'_id': ObjectId('5e7f3ef09fa6e1d98a29e047'), 'num': 60, 'name': 'jo_young_hun', 'age': 26, 'city': 'Daejeon'}\n",
      "{'_id': ObjectId('5e7f3ef09fa6e1d98a29e048'), 'num': 61, 'name': 'jo_young_hun', 'age': 26, 'city': 'Daejeon'}\n",
      "{'_id': ObjectId('5e7f3ef09fa6e1d98a29e049'), 'num': 62, 'name': 'jo_young_hun', 'age': 26, 'city': 'Daejeon'}\n",
      "{'_id': ObjectId('5e7f3ef09fa6e1d98a29e04a'), 'num': 63, 'name': 'jo_young_hun', 'age': 26, 'city': 'Daejeon'}\n",
      "{'_id': ObjectId('5e7f3ef09fa6e1d98a29e04b'), 'num': 64, 'name': 'jo_young_hun', 'age': 26, 'city': 'Daejeon'}\n",
      "{'_id': ObjectId('5e7f3ef09fa6e1d98a29e04c'), 'num': 65, 'name': 'jo_young_hun', 'age': 26, 'city': 'Daejeon'}\n",
      "{'_id': ObjectId('5e7f3ef09fa6e1d98a29e04d'), 'num': 66, 'name': 'jo_young_hun', 'age': 26, 'city': 'Daejeon'}\n",
      "{'_id': ObjectId('5e7f3ef09fa6e1d98a29e04e'), 'num': 67, 'name': 'jo_young_hun', 'age': 26, 'city': 'Daejeon'}\n",
      "{'_id': ObjectId('5e7f3ef09fa6e1d98a29e04f'), 'num': 68, 'name': 'jo_young_hun', 'age': 26, 'city': 'Daejeon'}\n",
      "{'_id': ObjectId('5e7f3ef09fa6e1d98a29e050'), 'num': 69, 'name': 'jo_young_hun', 'age': 26, 'city': 'Daejeon'}\n",
      "{'_id': ObjectId('5e7f3ef09fa6e1d98a29e051'), 'num': 70, 'name': 'jo_young_hun', 'age': 26, 'city': 'Daejeon'}\n",
      "{'_id': ObjectId('5e7f3ef09fa6e1d98a29e052'), 'num': 71, 'name': 'jo_young_hun', 'age': 26, 'city': 'Daejeon'}\n",
      "{'_id': ObjectId('5e7f3ef09fa6e1d98a29e053'), 'num': 72, 'name': 'jo_young_hun', 'age': 26, 'city': 'Daejeon'}\n",
      "{'_id': ObjectId('5e7f3ef09fa6e1d98a29e054'), 'num': 73, 'name': 'jo_young_hun', 'age': 26, 'city': 'Daejeon'}\n",
      "{'_id': ObjectId('5e7f3ef09fa6e1d98a29e055'), 'num': 74, 'name': 'jo_young_hun', 'age': 26, 'city': 'Daejeon'}\n",
      "{'_id': ObjectId('5e7f3ef09fa6e1d98a29e056'), 'num': 75, 'name': 'jo_young_hun', 'age': 26, 'city': 'Daejeon'}\n",
      "{'_id': ObjectId('5e7f3ef09fa6e1d98a29e057'), 'num': 76, 'name': 'jo_young_hun', 'age': 26, 'city': 'Daejeon'}\n",
      "{'_id': ObjectId('5e7f3ef09fa6e1d98a29e058'), 'num': 77, 'name': 'jo_young_hun', 'age': 26, 'city': 'Daejeon'}\n",
      "{'_id': ObjectId('5e7f3ef09fa6e1d98a29e059'), 'num': 78, 'name': 'jo_young_hun', 'age': 26, 'city': 'Daejeon'}\n",
      "{'_id': ObjectId('5e7f3ef09fa6e1d98a29e05a'), 'num': 79, 'name': 'jo_young_hun', 'age': 26, 'city': 'Daejeon'}\n",
      "{'_id': ObjectId('5e7f3ef09fa6e1d98a29e05b'), 'num': 80, 'name': 'jo_young_hun', 'age': 26, 'city': 'Daejeon'}\n",
      "{'_id': ObjectId('5e7f3ef09fa6e1d98a29e05c'), 'num': 81, 'name': 'jo_young_hun', 'age': 26, 'city': 'Daejeon'}\n",
      "{'_id': ObjectId('5e7f3ef09fa6e1d98a29e05d'), 'num': 82, 'name': 'jo_young_hun', 'age': 26, 'city': 'Daejeon'}\n",
      "{'_id': ObjectId('5e7f3ef09fa6e1d98a29e05e'), 'num': 83, 'name': 'jo_young_hun', 'age': 26, 'city': 'Daejeon'}\n",
      "{'_id': ObjectId('5e7f3ef09fa6e1d98a29e05f'), 'num': 84, 'name': 'jo_young_hun', 'age': 26, 'city': 'Daejeon'}\n",
      "{'_id': ObjectId('5e7f3ef09fa6e1d98a29e060'), 'num': 85, 'name': 'jo_young_hun', 'age': 26, 'city': 'Daejeon'}\n",
      "{'_id': ObjectId('5e7f3ef09fa6e1d98a29e061'), 'num': 86, 'name': 'jo_young_hun', 'age': 26, 'city': 'Daejeon'}\n",
      "{'_id': ObjectId('5e7f3ef09fa6e1d98a29e062'), 'num': 87, 'name': 'jo_young_hun', 'age': 26, 'city': 'Daejeon'}\n",
      "{'_id': ObjectId('5e7f3ef09fa6e1d98a29e063'), 'num': 88, 'name': 'jo_young_hun', 'age': 26, 'city': 'Daejeon'}\n",
      "{'_id': ObjectId('5e7f3ef09fa6e1d98a29e064'), 'num': 89, 'name': 'jo_young_hun', 'age': 26, 'city': 'Daejeon'}\n",
      "{'_id': ObjectId('5e7f3ef09fa6e1d98a29e065'), 'num': 90, 'name': 'jo_young_hun', 'age': 26, 'city': 'Daejeon'}\n",
      "{'_id': ObjectId('5e7f3ef09fa6e1d98a29e066'), 'num': 91, 'name': 'jo_young_hun', 'age': 26, 'city': 'Daejeon'}\n",
      "{'_id': ObjectId('5e7f3ef09fa6e1d98a29e067'), 'num': 92, 'name': 'jo_young_hun', 'age': 26, 'city': 'Daejeon'}\n",
      "{'_id': ObjectId('5e7f3ef09fa6e1d98a29e068'), 'num': 93, 'name': 'jo_young_hun', 'age': 26, 'city': 'Daejeon'}\n",
      "{'_id': ObjectId('5e7f3ef09fa6e1d98a29e069'), 'num': 94, 'name': 'jo_young_hun', 'age': 26, 'city': 'Daejeon'}\n",
      "{'_id': ObjectId('5e7f3ef09fa6e1d98a29e06a'), 'num': 95, 'name': 'jo_young_hun', 'age': 26, 'city': 'Daejeon'}\n",
      "{'_id': ObjectId('5e7f3ef09fa6e1d98a29e06b'), 'num': 96, 'name': 'jo_young_hun', 'age': 26, 'city': 'Daejeon'}\n",
      "{'_id': ObjectId('5e7f3ef09fa6e1d98a29e06c'), 'num': 97, 'name': 'jo_young_hun', 'age': 26, 'city': 'Daejeon'}\n",
      "{'_id': ObjectId('5e7f3ef09fa6e1d98a29e06d'), 'num': 98, 'name': 'jo_young_hun', 'age': 26, 'city': 'Daejeon'}\n",
      "{'_id': ObjectId('5e7f3ef09fa6e1d98a29e06e'), 'num': 99, 'name': 'jo_young_hun', 'age': 26, 'city': 'Daejeon'}\n"
     ]
    }
   ],
   "source": [
    "data_list = people.find()\n",
    "for n in data_list:\n",
    "    print(n)"
   ]
  },
  {
   "cell_type": "code",
   "execution_count": 19,
   "metadata": {},
   "outputs": [
    {
     "data": {
      "text/plain": [
       "<pymongo.results.UpdateResult at 0x2bd01248608>"
      ]
     },
     "execution_count": 19,
     "metadata": {},
     "output_type": "execute_result"
    }
   ],
   "source": [
    "people.update_many({'num':0}, {'$set' : { 'age' : 10}})"
   ]
  },
  {
   "cell_type": "code",
   "execution_count": 20,
   "metadata": {},
   "outputs": [
    {
     "data": {
      "text/plain": [
       "{'_id': ObjectId('5e7f3ef09fa6e1d98a29e00b'),\n",
       " 'num': 0,\n",
       " 'name': 'jo_young_hun',\n",
       " 'age': 10,\n",
       " 'city': 'Daejeon'}"
      ]
     },
     "execution_count": 20,
     "metadata": {},
     "output_type": "execute_result"
    }
   ],
   "source": [
    "people.find_one()"
   ]
  },
  {
   "cell_type": "code",
   "execution_count": 22,
   "metadata": {},
   "outputs": [
    {
     "data": {
      "text/plain": [
       "<pymongo.results.DeleteResult at 0x2bd0118a148>"
      ]
     },
     "execution_count": 22,
     "metadata": {},
     "output_type": "execute_result"
    }
   ],
   "source": [
    "people.delete_one({'age':10})"
   ]
  },
  {
   "cell_type": "code",
   "execution_count": 24,
   "metadata": {},
   "outputs": [
    {
     "data": {
      "text/plain": [
       "<pymongo.results.DeleteResult at 0x2bd01246ac8>"
      ]
     },
     "execution_count": 24,
     "metadata": {},
     "output_type": "execute_result"
    }
   ],
   "source": [
    "people.delete_many({'num' : {'$lte' : 50}})"
   ]
  },
  {
   "cell_type": "code",
   "execution_count": null,
   "metadata": {},
   "outputs": [],
   "source": []
  },
  {
   "cell_type": "code",
   "execution_count": null,
   "metadata": {},
   "outputs": [],
   "source": []
  },
  {
   "cell_type": "code",
   "execution_count": null,
   "metadata": {},
   "outputs": [],
   "source": []
  },
  {
   "cell_type": "code",
   "execution_count": null,
   "metadata": {},
   "outputs": [],
   "source": []
  },
  {
   "cell_type": "code",
   "execution_count": null,
   "metadata": {},
   "outputs": [],
   "source": []
  },
  {
   "cell_type": "code",
   "execution_count": null,
   "metadata": {},
   "outputs": [],
   "source": []
  },
  {
   "cell_type": "code",
   "execution_count": null,
   "metadata": {},
   "outputs": [],
   "source": []
  },
  {
   "cell_type": "code",
   "execution_count": null,
   "metadata": {},
   "outputs": [],
   "source": []
  },
  {
   "cell_type": "code",
   "execution_count": null,
   "metadata": {},
   "outputs": [],
   "source": []
  },
  {
   "cell_type": "code",
   "execution_count": null,
   "metadata": {},
   "outputs": [],
   "source": []
  },
  {
   "cell_type": "code",
   "execution_count": null,
   "metadata": {},
   "outputs": [],
   "source": []
  },
  {
   "cell_type": "code",
   "execution_count": null,
   "metadata": {},
   "outputs": [],
   "source": []
  }
 ],
 "metadata": {
  "kernelspec": {
   "display_name": "Python 3",
   "language": "python",
   "name": "python3"
  },
  "language_info": {
   "codemirror_mode": {
    "name": "ipython",
    "version": 3
   },
   "file_extension": ".py",
   "mimetype": "text/x-python",
   "name": "python",
   "nbconvert_exporter": "python",
   "pygments_lexer": "ipython3",
   "version": "3.7.3"
  }
 },
 "nbformat": 4,
 "nbformat_minor": 4
}

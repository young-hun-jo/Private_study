{
 "cells": [
  {
   "cell_type": "code",
   "execution_count": 1,
   "metadata": {},
   "outputs": [],
   "source": [
    "import requests\n",
    "from bs4 import BeautifulSoup as bs\n",
    "import pymongo\n",
    "import re"
   ]
  },
  {
   "cell_type": "code",
   "execution_count": 2,
   "metadata": {},
   "outputs": [],
   "source": [
    "conn = pymongo.MongoClient()\n",
    "cine_db = conn.cine21\n",
    "actors = cine_db.actors"
   ]
  },
  {
   "cell_type": "code",
   "execution_count": 29,
   "metadata": {},
   "outputs": [],
   "source": [
    "cine21_url = \"http://www.cine21.com/rank/person/content\"\n",
    "header = {}\n",
    "header['section'] = 'actor'\n",
    "header['period_start'] = '2020-03'\n",
    "header['gender'] = 'all'\n",
    "header['page'] = 1\n",
    "\n",
    "res = requests.post(cine21_url, data=header)"
   ]
  },
  {
   "cell_type": "code",
   "execution_count": 30,
   "metadata": {
    "scrolled": true
   },
   "outputs": [
    {
     "name": "stdout",
     "output_type": "stream",
     "text": [
      " <ul class=\"people_list\">\n",
      "<li class=\"people_li\">\n",
      "<a href=\"/db/person/info/?person_id=2552\"><img alt=\"\" class=\"people_thumb\" src=\"http://image.cine21.com/resize/cine21/person/2019/1211/11_32_33__5df055413c01a[X145,145].jpg\" target=\"_blank\"/></a>\n",
      "<div class=\"name\"><a href=\"/db/person/info/?person_id=2552\">전도연(1편)</a></div>\n",
      "<ul class=\"num_info\">\n",
      "<li><span class=\"tit\">흥행지수</span><strong>72,695</strong></li>\n",
      "<!--\r\n",
      "\t\t\t\t\t\t<li><a href=\"#\" class=\"btn_graph\"><span class=\"ico\"></span><span>흥행성적<br />그래프로 보기</span></a></li>\r\n",
      "\t\t\t\t\t\t-->\n",
      "</ul>\n",
      "<!-- 영화포스터는 최대 5개까지만 -->\n",
      "<ul class=\"mov_list\">\n",
      "<li>\n",
      "<a href=\"/movie/info/?movie_id=54143\">\n",
      "<img alt=\"\" class=\"thumb\" src=\"http://image.cine21.com/resize/cine21/poster/2020/0212/16_42_16__5e43ac5844ca0[X85,120].jpg\" target=\"_blank\"/>\n",
      "<span>지푸라기라도 잡고 싶은 짐승들</span>\n",
      "</a>\n",
      "</li>\n",
      "</ul>\n",
      "<!-- 순위 --><span class=\"grade\">1</span>\n",
      "</li>\n",
      "<li class=\"people_li\">\n",
      "<a href=\"/db/person/info/?person_id=13093\"><img alt=\"\" class=\"people_thumb\" src=\"http://image.cine21.com/resize/cine21/person/2010/0518/P0000002_02[X145,145].jpg\" target=\"_blank\"/></a>\n",
      "<div class=\"name\"><a href=\"/db/person/info/?person_id=13093\">윤여정(2편)</a></div>\n",
      "<ul class=\"num_info\">\n",
      "<li><span class=\"tit\">흥행지수</span><strong>70,101</strong></li>\n",
      "<!--\r\n",
      "\t\t\t\t\t\t<li><a href=\"#\" class=\"btn_graph\"><span class=\"ico\"></span><span>흥행성적<br />그래프로 보기</span></a></li>\r\n",
      "\t\t\t\t\t\t-->\n",
      "</ul>\n",
      "<!-- 영화포스터는 최대 5개까지만 -->\n",
      "<ul class=\"mov_list\">\n",
      "<li>\n",
      "<a href=\"/movie/info/?movie_id=54143\">\n",
      "<img alt=\"\" class=\"thumb\" src=\"http://image.cine21.com/resize/cine21/poster/2020/0212/16_42_16__5e43ac5844ca0[X85,120].jpg\" target=\"_blank\"/>\n",
      "<span>지푸라기라도 잡고 싶은 짐승들</span>\n",
      "</a>\n",
      "</li>\n",
      "<li>\n",
      "<a href=\"/movie/info/?movie_id=55438\">\n",
      "<img alt=\"\" class=\"thumb\" src=\"http://image.cine21.com/resize/cine21/poster/2020/0214/14_45_58__5e46341621192[X85,120].jpg\" target=\"_blank\"/>\n",
      "<span>찬실이는 복도 많지</span>\n",
      "</a>\n",
      "</li>\n",
      "</ul>\n",
      "<!-- 순위 --><span class=\"grade\">2</span>\n",
      "</li>\n",
      "<li class=\"people_li\">\n",
      "<a href=\"/db/person/info/?person_id=1533\"><img alt=\"\" class=\"people_thumb\" src=\"http://image.cine21.com/resize/cine21/person/2019/1226/11_24_48__5e0419f0a5c08[X145,145].jpg\" target=\"_blank\"/></a>\n",
      "<div class=\"name\"><a href=\"/db/person/info/?person_id=1533\">정우성(1편)</a></div>\n",
      "<ul class=\"num_info\">\n",
      "<li><span class=\"tit\">흥행지수</span><strong>66,085</strong></li>\n",
      "<!--\r\n",
      "\t\t\t\t\t\t<li><a href=\"#\" class=\"btn_graph\"><span class=\"ico\"></span><span>흥행성적<br />그래프로 보기</span></a></li>\r\n",
      "\t\t\t\t\t\t-->\n",
      "</ul>\n",
      "<!-- 영화포스터는 최대 5개까지만 -->\n",
      "<ul class=\"mov_list\">\n",
      "<li>\n",
      "<a href=\"/movie/info/?movie_id=54143\">\n",
      "<img alt=\"\" class=\"thumb\" src=\"http://image.cine21.com/resize/cine21/poster/2020/0212/16_42_16__5e43ac5844ca0[X85,120].jpg\" target=\"_blank\"/>\n",
      "<span>지푸라기라도 잡고 싶은 짐승들</span>\n",
      "</a>\n",
      "</li>\n",
      "</ul>\n",
      "<!-- 순위 --><span class=\"grade\">3</span>\n",
      "</li>\n",
      "<li class=\"people_li\">\n",
      "<a href=\"/db/person/info/?person_id=66161\"><img alt=\"\" class=\"people_thumb\" src=\"http://image.cine21.com/resize/cine21/person/2019/0821/16_23_11__5d5cf15f3a41f[X145,145].jpg\" target=\"_blank\"/></a>\n",
      "<div class=\"name\"><a href=\"/db/person/info/?person_id=66161\">배성우(1편)</a></div>\n",
      "<ul class=\"num_info\">\n",
      "<li><span class=\"tit\">흥행지수</span><strong>59,475</strong></li>\n",
      "<!--\r\n",
      "\t\t\t\t\t\t<li><a href=\"#\" class=\"btn_graph\"><span class=\"ico\"></span><span>흥행성적<br />그래프로 보기</span></a></li>\r\n",
      "\t\t\t\t\t\t-->\n",
      "</ul>\n",
      "<!-- 영화포스터는 최대 5개까지만 -->\n",
      "<ul class=\"mov_list\">\n",
      "<li>\n",
      "<a href=\"/movie/info/?movie_id=54143\">\n",
      "<img alt=\"\" class=\"thumb\" src=\"http://image.cine21.com/resize/cine21/poster/2020/0212/16_42_16__5e43ac5844ca0[X85,120].jpg\" target=\"_blank\"/>\n",
      "<span>지푸라기라도 잡고 싶은 짐승들</span>\n",
      "</a>\n",
      "</li>\n",
      "</ul>\n",
      "<!-- 순위 --><span class=\"grade\">4</span>\n",
      "</li>\n",
      "<li class=\"people_li\">\n",
      "<a href=\"/db/person/info/?person_id=48845\"><img alt=\"\" class=\"people_thumb\" src=\"http://image.cine21.com/resize/cine21/person/2019/0515/10_41_13__5cdb6e39cca9c[X145,145].jpg\" target=\"_blank\"/></a>\n",
      "<div class=\"name\"><a href=\"/db/person/info/?person_id=48845\">라미란(1편)</a></div>\n",
      "<ul class=\"num_info\">\n",
      "<li><span class=\"tit\">흥행지수</span><strong>52,057</strong></li>\n",
      "<!--\r\n",
      "\t\t\t\t\t\t<li><a href=\"#\" class=\"btn_graph\"><span class=\"ico\"></span><span>흥행성적<br />그래프로 보기</span></a></li>\r\n",
      "\t\t\t\t\t\t-->\n",
      "</ul>\n",
      "<!-- 영화포스터는 최대 5개까지만 -->\n",
      "<ul class=\"mov_list\">\n",
      "<li>\n",
      "<a href=\"/movie/info/?movie_id=55654\">\n",
      "<img alt=\"\" class=\"thumb\" src=\"http://image.cine21.com/resize/cine21/poster/2020/0121/11_14_30__5e265e86d16cb[X85,120].jpg\" target=\"_blank\"/>\n",
      "<span>정직한 후보</span>\n",
      "</a>\n",
      "</li>\n",
      "</ul>\n",
      "<!-- 순위 --><span class=\"grade\">5</span>\n",
      "</li>\n",
      "<li class=\"people_li\">\n",
      "<a href=\"/db/person/info/?person_id=67495\"><img alt=\"\" class=\"people_thumb\" src=\"http://image.cine21.com/resize/cine21/still/2019/0327/11_24_22__5c9aded62c2e8[X145,145].jpg\" target=\"_blank\"/></a>\n",
      "<div class=\"name\"><a href=\"/db/person/info/?person_id=67495\">김무열(1편)</a></div>\n",
      "<ul class=\"num_info\">\n",
      "<li><span class=\"tit\">흥행지수</span><strong>47,718</strong></li>\n",
      "<!--\r\n",
      "\t\t\t\t\t\t<li><a href=\"#\" class=\"btn_graph\"><span class=\"ico\"></span><span>흥행성적<br />그래프로 보기</span></a></li>\r\n",
      "\t\t\t\t\t\t-->\n",
      "</ul>\n",
      "<!-- 영화포스터는 최대 5개까지만 -->\n",
      "<ul class=\"mov_list\">\n",
      "<li>\n",
      "<a href=\"/movie/info/?movie_id=55654\">\n",
      "<img alt=\"\" class=\"thumb\" src=\"http://image.cine21.com/resize/cine21/poster/2020/0121/11_14_30__5e265e86d16cb[X85,120].jpg\" target=\"_blank\"/>\n",
      "<span>정직한 후보</span>\n",
      "</a>\n",
      "</li>\n",
      "</ul>\n",
      "<!-- 순위 --><span class=\"grade\">6</span>\n",
      "</li>\n",
      "<li class=\"people_li\">\n",
      "<a href=\"/db/person/info/?person_id=64972\"><img alt=\"\" class=\"people_thumb\" src=\"http://image.cine21.com/resize/cine21/still/2019/0326/17_55_00__5c99e8e403746[X145,145].jpg\" target=\"_blank\"/></a>\n",
      "<div class=\"name\"><a href=\"/db/person/info/?person_id=64972\">정만식(2편)</a></div>\n",
      "<ul class=\"num_info\">\n",
      "<li><span class=\"tit\">흥행지수</span><strong>46,266</strong></li>\n",
      "<!--\r\n",
      "\t\t\t\t\t\t<li><a href=\"#\" class=\"btn_graph\"><span class=\"ico\"></span><span>흥행성적<br />그래프로 보기</span></a></li>\r\n",
      "\t\t\t\t\t\t-->\n",
      "</ul>\n",
      "<!-- 영화포스터는 최대 5개까지만 -->\n",
      "<ul class=\"mov_list\">\n",
      "<li>\n",
      "<a href=\"/movie/info/?movie_id=54143\">\n",
      "<img alt=\"\" class=\"thumb\" src=\"http://image.cine21.com/resize/cine21/poster/2020/0212/16_42_16__5e43ac5844ca0[X85,120].jpg\" target=\"_blank\"/>\n",
      "<span>지푸라기라도 잡고 싶은 짐승들</span>\n",
      "</a>\n",
      "</li>\n",
      "<li>\n",
      "<a href=\"/movie/info/?movie_id=50637\">\n",
      "<img alt=\"\" class=\"thumb\" src=\"http://image.cine21.com/resize/cine21/poster/2018/1001/50637_5bb1aebb1aee4[X85,120].jpg\" target=\"_blank\"/>\n",
      "<span>창궐</span>\n",
      "</a>\n",
      "</li>\n",
      "</ul>\n",
      "<!-- 순위 --><span class=\"grade\">7</span>\n",
      "</li>\n",
      "</ul>\n",
      "<div class=\"pagination\"><a class=\"btn_first\" href=\"javascript:fetch_list(1)\"><span class=\"hidden\">처음으로</span><span class=\"ico\"></span></a><div class=\"page\"><a class=\"on\" href=\"javascript:;\">1</a><a href=\"javascript:fetch_list(2)\">2</a><a href=\"javascript:fetch_list(3)\">3</a><a href=\"javascript:fetch_list(4)\">4</a><a href=\"javascript:fetch_list(5)\">5</a><a href=\"javascript:fetch_list(6)\">6</a><a href=\"javascript:fetch_list(7)\">7</a><a href=\"javascript:fetch_list(8)\">8</a><a href=\"javascript:fetch_list(9)\">9</a><a href=\"javascript:fetch_list(10)\">10</a></div><a class=\"btn_next\" href=\"javascript:fetch_list(11)\"><span class=\"hidden\">다음</span><span class=\"ico\"></span></a><a class=\"btn_end\" href=\"javascript:fetch_list(46)\"><span class=\"hidden\">끝으로</span><span class=\"ico\"></span></a> </div>\n"
     ]
    }
   ],
   "source": [
    "soup = bs(res.content, 'html.parser')\n",
    "print(soup)"
   ]
  },
  {
   "cell_type": "code",
   "execution_count": 38,
   "metadata": {},
   "outputs": [
    {
     "name": "stdout",
     "output_type": "stream",
     "text": [
      "[{'다른 이름': 'Jeon Do Youn', '직업': '배우', '생년월일': '1973-02-11', '성별': '여', '신장/체중': '165cm, 45kg', '학교': '서울예술대학 방송연예', '취미': '음악듣기, 영화감상', '특기': '수상스키, 포켓볼', '소속사': '노아엔터테인먼트'}, {'원어명': '윤여정', '직업': '배우', '생년월일': '1947-06-19', '성별': '여', '학교': '한양대학교 국문학 (중퇴)'}, {'직업': '배우', '생년월일': '1973-03-20', '성별': '남', '홈페이지': 'https://www.instagram.com/tojws/\\nhttps://www.facebook.com/officialjws', '신장/체중': '186cm, 79kg', '학교': '경기상업고등학교 중퇴', '취미': '비디오 감상，드라이브', '특기': '농구，수영', '소속사': '(주)토러스 필름'}, {'직업': '배우', '생년월일': '1972-11-21', '성별': '남', '신장/체중': '177cm, 72kg'}, {'직업': '배우', '생년월일': '1975-03-06', '성별': '여', '홈페이지': 'https://www.facebook.com/cjesmiran'}, {'직업': '배우', '생년월일': '1982-05-22', '성별': '남', '홈페이지': 'https://twitter.com/k_moo'}, {'직업': '배우', '성별': '남'}]\n"
     ]
    }
   ],
   "source": [
    "actors = soup.select(\"ul.people_list li.people_li div.name\")\n",
    "\n",
    "actor_list = []\n",
    "for actor in actors:\n",
    "    actor_name = re.sub('\\(\\w*\\)','',actor.text)\n",
    "    actor_link = actor.select_one('a').attrs['href']\n",
    "    actor_links = requests.get(\"http://www.cine21.com/\"+actor_link)\n",
    "    actor_response = bs(actor_links.content, 'html.parser')\n",
    "    default_info = actor_response.select_one(\"ul.default_info\")\n",
    "    actor_details = default_info.select(\"li\")\n",
    "    \n",
    "    actor_dict = {}\n",
    "    for actor_detail in actor_details:\n",
    "        actor_schema = actor_detail.select_one('span.tit').text\n",
    "        actor_value = re.sub(\"<span.*?>.*?</span>\",'',str(actor_detail))\n",
    "        actor_value = re.sub(\"<.*?>\",'',actor_value).strip()\n",
    "        actor_dict[actor_schema] = actor_value\n",
    "    actor_list.append(actor_dict)\n",
    "print(actor_list)"
   ]
  },
  {
   "cell_type": "code",
   "execution_count": 48,
   "metadata": {},
   "outputs": [
    {
     "name": "stdout",
     "output_type": "stream",
     "text": [
      "전도연\n",
      "72695\n",
      "윤여정\n",
      "70101\n",
      "정우성\n",
      "66085\n",
      "배성우\n",
      "59475\n",
      "라미란\n",
      "52057\n",
      "김무열\n",
      "47718\n",
      "정만식\n",
      "46266\n"
     ]
    }
   ],
   "source": [
    "# 배우 이름과 흥행지수 따오기\n",
    "\n",
    "actors = soup.select(\"ul.people_list li.people_li div.name\")\n",
    "hits = soup.select(\"ul.people_list li.people_li ul.num_info li strong\")\n",
    "for index, actor in enumerate(actors):\n",
    "    actor_name = re.sub(\"\\(\\w*\\)\",'',actor.text)\n",
    "    print(actor_name)\n",
    "    print(int(hits[index].text.replace(',','')))\n"
   ]
  },
  {
   "cell_type": "code",
   "execution_count": null,
   "metadata": {},
   "outputs": [],
   "source": []
  },
  {
   "cell_type": "code",
   "execution_count": null,
   "metadata": {},
   "outputs": [],
   "source": []
  },
  {
   "cell_type": "code",
   "execution_count": null,
   "metadata": {},
   "outputs": [],
   "source": []
  },
  {
   "cell_type": "code",
   "execution_count": null,
   "metadata": {},
   "outputs": [],
   "source": []
  },
  {
   "cell_type": "code",
   "execution_count": null,
   "metadata": {},
   "outputs": [],
   "source": []
  },
  {
   "cell_type": "code",
   "execution_count": null,
   "metadata": {},
   "outputs": [],
   "source": []
  },
  {
   "cell_type": "code",
   "execution_count": null,
   "metadata": {},
   "outputs": [],
   "source": []
  },
  {
   "cell_type": "code",
   "execution_count": null,
   "metadata": {},
   "outputs": [],
   "source": []
  },
  {
   "cell_type": "code",
   "execution_count": null,
   "metadata": {},
   "outputs": [],
   "source": []
  },
  {
   "cell_type": "code",
   "execution_count": null,
   "metadata": {},
   "outputs": [],
   "source": []
  },
  {
   "cell_type": "code",
   "execution_count": null,
   "metadata": {},
   "outputs": [],
   "source": []
  },
  {
   "cell_type": "code",
   "execution_count": null,
   "metadata": {},
   "outputs": [],
   "source": []
  },
  {
   "cell_type": "code",
   "execution_count": null,
   "metadata": {},
   "outputs": [],
   "source": []
  },
  {
   "cell_type": "code",
   "execution_count": null,
   "metadata": {},
   "outputs": [],
   "source": []
  },
  {
   "cell_type": "code",
   "execution_count": null,
   "metadata": {},
   "outputs": [],
   "source": []
  },
  {
   "cell_type": "code",
   "execution_count": null,
   "metadata": {},
   "outputs": [],
   "source": []
  },
  {
   "cell_type": "code",
   "execution_count": null,
   "metadata": {},
   "outputs": [],
   "source": []
  },
  {
   "cell_type": "code",
   "execution_count": null,
   "metadata": {},
   "outputs": [],
   "source": []
  },
  {
   "cell_type": "code",
   "execution_count": null,
   "metadata": {},
   "outputs": [],
   "source": []
  },
  {
   "cell_type": "code",
   "execution_count": null,
   "metadata": {},
   "outputs": [],
   "source": []
  },
  {
   "cell_type": "code",
   "execution_count": null,
   "metadata": {},
   "outputs": [],
   "source": []
  },
  {
   "cell_type": "code",
   "execution_count": null,
   "metadata": {},
   "outputs": [],
   "source": []
  },
  {
   "cell_type": "code",
   "execution_count": null,
   "metadata": {},
   "outputs": [],
   "source": []
  },
  {
   "cell_type": "code",
   "execution_count": null,
   "metadata": {},
   "outputs": [],
   "source": []
  },
  {
   "cell_type": "code",
   "execution_count": null,
   "metadata": {},
   "outputs": [],
   "source": []
  },
  {
   "cell_type": "code",
   "execution_count": null,
   "metadata": {},
   "outputs": [],
   "source": []
  },
  {
   "cell_type": "code",
   "execution_count": null,
   "metadata": {},
   "outputs": [],
   "source": []
  },
  {
   "cell_type": "code",
   "execution_count": null,
   "metadata": {},
   "outputs": [],
   "source": []
  },
  {
   "cell_type": "code",
   "execution_count": null,
   "metadata": {},
   "outputs": [],
   "source": []
  },
  {
   "cell_type": "code",
   "execution_count": null,
   "metadata": {},
   "outputs": [],
   "source": []
  },
  {
   "cell_type": "code",
   "execution_count": null,
   "metadata": {},
   "outputs": [],
   "source": []
  },
  {
   "cell_type": "code",
   "execution_count": null,
   "metadata": {},
   "outputs": [],
   "source": []
  },
  {
   "cell_type": "code",
   "execution_count": null,
   "metadata": {},
   "outputs": [],
   "source": []
  },
  {
   "cell_type": "code",
   "execution_count": null,
   "metadata": {},
   "outputs": [],
   "source": []
  },
  {
   "cell_type": "code",
   "execution_count": null,
   "metadata": {},
   "outputs": [],
   "source": []
  },
  {
   "cell_type": "code",
   "execution_count": null,
   "metadata": {},
   "outputs": [],
   "source": []
  },
  {
   "cell_type": "code",
   "execution_count": null,
   "metadata": {},
   "outputs": [],
   "source": []
  },
  {
   "cell_type": "code",
   "execution_count": null,
   "metadata": {},
   "outputs": [],
   "source": []
  },
  {
   "cell_type": "code",
   "execution_count": null,
   "metadata": {},
   "outputs": [],
   "source": []
  },
  {
   "cell_type": "code",
   "execution_count": null,
   "metadata": {},
   "outputs": [],
   "source": []
  },
  {
   "cell_type": "code",
   "execution_count": null,
   "metadata": {},
   "outputs": [],
   "source": []
  },
  {
   "cell_type": "code",
   "execution_count": null,
   "metadata": {},
   "outputs": [],
   "source": []
  },
  {
   "cell_type": "code",
   "execution_count": null,
   "metadata": {},
   "outputs": [],
   "source": []
  },
  {
   "cell_type": "code",
   "execution_count": null,
   "metadata": {},
   "outputs": [],
   "source": []
  },
  {
   "cell_type": "code",
   "execution_count": null,
   "metadata": {},
   "outputs": [],
   "source": []
  }
 ],
 "metadata": {
  "kernelspec": {
   "display_name": "Python 3",
   "language": "python",
   "name": "python3"
  },
  "language_info": {
   "codemirror_mode": {
    "name": "ipython",
    "version": 3
   },
   "file_extension": ".py",
   "mimetype": "text/x-python",
   "name": "python",
   "nbconvert_exporter": "python",
   "pygments_lexer": "ipython3",
   "version": "3.7.3"
  }
 },
 "nbformat": 4,
 "nbformat_minor": 4
}

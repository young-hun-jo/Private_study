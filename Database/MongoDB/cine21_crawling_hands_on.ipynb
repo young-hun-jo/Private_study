{
 "cells": [
  {
   "cell_type": "code",
   "execution_count": 3,
   "metadata": {},
   "outputs": [],
   "source": [
    "import requests\n",
    "from bs4 import BeautifulSoup as bs\n",
    "import pymongo\n",
    "import re"
   ]
  },
  {
   "cell_type": "code",
   "execution_count": 2,
   "metadata": {},
   "outputs": [],
   "source": [
    "conn = pymongo.MongoClient()\n",
    "cine_db = conn.cine21\n",
    "actors = cine_db.actors"
   ]
  },
  {
   "cell_type": "code",
   "execution_count": 3,
   "metadata": {},
   "outputs": [],
   "source": [
    "cine21_url = \"http://www.cine21.com/rank/person/content\"\n",
    "header = {}\n",
    "header['section'] = 'actor'\n",
    "header['period_start'] = '2020-03'\n",
    "header['gender'] = 'all'\n",
    "header['page'] = 1\n",
    "\n",
    "res = requests.post(cine21_url, data=header)"
   ]
  },
  {
   "cell_type": "code",
   "execution_count": 4,
   "metadata": {
    "scrolled": true
   },
   "outputs": [
    {
     "name": "stdout",
     "output_type": "stream",
     "text": [
      " <ul class=\"people_list\">\n",
      "<li class=\"people_li\">\n",
      "<a href=\"/db/person/info/?person_id=2552\"><img alt=\"\" class=\"people_thumb\" src=\"http://image.cine21.com/resize/cine21/person/2019/1211/11_32_33__5df055413c01a[X145,145].jpg\" target=\"_blank\"/></a>\n",
      "<div class=\"name\"><a href=\"/db/person/info/?person_id=2552\">전도연(1편)</a></div>\n",
      "<ul class=\"num_info\">\n",
      "<li><span class=\"tit\">흥행지수</span><strong>71,991</strong></li>\n",
      "<!--\r\n",
      "\t\t\t\t\t\t<li><a href=\"#\" class=\"btn_graph\"><span class=\"ico\"></span><span>흥행성적<br />그래프로 보기</span></a></li>\r\n",
      "\t\t\t\t\t\t-->\n",
      "</ul>\n",
      "<!-- 영화포스터는 최대 5개까지만 -->\n",
      "<ul class=\"mov_list\">\n",
      "<li>\n",
      "<a href=\"/movie/info/?movie_id=54143\">\n",
      "<img alt=\"\" class=\"thumb\" src=\"http://image.cine21.com/resize/cine21/poster/2020/0212/16_42_16__5e43ac5844ca0[X85,120].jpg\" target=\"_blank\"/>\n",
      "<span>지푸라기라도 잡고 싶은 짐승들</span>\n",
      "</a>\n",
      "</li>\n",
      "</ul>\n",
      "<!-- 순위 --><span class=\"grade\">1</span>\n",
      "</li>\n",
      "<li class=\"people_li\">\n",
      "<a href=\"/db/person/info/?person_id=13093\"><img alt=\"\" class=\"people_thumb\" src=\"http://image.cine21.com/resize/cine21/person/2010/0518/P0000002_02[X145,145].jpg\" target=\"_blank\"/></a>\n",
      "<div class=\"name\"><a href=\"/db/person/info/?person_id=13093\">윤여정(2편)</a></div>\n",
      "<ul class=\"num_info\">\n",
      "<li><span class=\"tit\">흥행지수</span><strong>69,492</strong></li>\n",
      "<!--\r\n",
      "\t\t\t\t\t\t<li><a href=\"#\" class=\"btn_graph\"><span class=\"ico\"></span><span>흥행성적<br />그래프로 보기</span></a></li>\r\n",
      "\t\t\t\t\t\t-->\n",
      "</ul>\n",
      "<!-- 영화포스터는 최대 5개까지만 -->\n",
      "<ul class=\"mov_list\">\n",
      "<li>\n",
      "<a href=\"/movie/info/?movie_id=54143\">\n",
      "<img alt=\"\" class=\"thumb\" src=\"http://image.cine21.com/resize/cine21/poster/2020/0212/16_42_16__5e43ac5844ca0[X85,120].jpg\" target=\"_blank\"/>\n",
      "<span>지푸라기라도 잡고 싶은 짐승들</span>\n",
      "</a>\n",
      "</li>\n",
      "<li>\n",
      "<a href=\"/movie/info/?movie_id=55438\">\n",
      "<img alt=\"\" class=\"thumb\" src=\"http://image.cine21.com/resize/cine21/poster/2020/0214/14_45_58__5e46341621192[X85,120].jpg\" target=\"_blank\"/>\n",
      "<span>찬실이는 복도 많지</span>\n",
      "</a>\n",
      "</li>\n",
      "</ul>\n",
      "<!-- 순위 --><span class=\"grade\">2</span>\n",
      "</li>\n",
      "<li class=\"people_li\">\n",
      "<a href=\"/db/person/info/?person_id=1533\"><img alt=\"\" class=\"people_thumb\" src=\"http://image.cine21.com/resize/cine21/person/2019/1226/11_24_48__5e0419f0a5c08[X145,145].jpg\" target=\"_blank\"/></a>\n",
      "<div class=\"name\"><a href=\"/db/person/info/?person_id=1533\">정우성(1편)</a></div>\n",
      "<ul class=\"num_info\">\n",
      "<li><span class=\"tit\">흥행지수</span><strong>65,448</strong></li>\n",
      "<!--\r\n",
      "\t\t\t\t\t\t<li><a href=\"#\" class=\"btn_graph\"><span class=\"ico\"></span><span>흥행성적<br />그래프로 보기</span></a></li>\r\n",
      "\t\t\t\t\t\t-->\n",
      "</ul>\n",
      "<!-- 영화포스터는 최대 5개까지만 -->\n",
      "<ul class=\"mov_list\">\n",
      "<li>\n",
      "<a href=\"/movie/info/?movie_id=54143\">\n",
      "<img alt=\"\" class=\"thumb\" src=\"http://image.cine21.com/resize/cine21/poster/2020/0212/16_42_16__5e43ac5844ca0[X85,120].jpg\" target=\"_blank\"/>\n",
      "<span>지푸라기라도 잡고 싶은 짐승들</span>\n",
      "</a>\n",
      "</li>\n",
      "</ul>\n",
      "<!-- 순위 --><span class=\"grade\">3</span>\n",
      "</li>\n",
      "<li class=\"people_li\">\n",
      "<a href=\"/db/person/info/?person_id=66161\"><img alt=\"\" class=\"people_thumb\" src=\"http://image.cine21.com/resize/cine21/person/2019/0821/16_23_11__5d5cf15f3a41f[X145,145].jpg\" target=\"_blank\"/></a>\n",
      "<div class=\"name\"><a href=\"/db/person/info/?person_id=66161\">배성우(1편)</a></div>\n",
      "<ul class=\"num_info\">\n",
      "<li><span class=\"tit\">흥행지수</span><strong>58,900</strong></li>\n",
      "<!--\r\n",
      "\t\t\t\t\t\t<li><a href=\"#\" class=\"btn_graph\"><span class=\"ico\"></span><span>흥행성적<br />그래프로 보기</span></a></li>\r\n",
      "\t\t\t\t\t\t-->\n",
      "</ul>\n",
      "<!-- 영화포스터는 최대 5개까지만 -->\n",
      "<ul class=\"mov_list\">\n",
      "<li>\n",
      "<a href=\"/movie/info/?movie_id=54143\">\n",
      "<img alt=\"\" class=\"thumb\" src=\"http://image.cine21.com/resize/cine21/poster/2020/0212/16_42_16__5e43ac5844ca0[X85,120].jpg\" target=\"_blank\"/>\n",
      "<span>지푸라기라도 잡고 싶은 짐승들</span>\n",
      "</a>\n",
      "</li>\n",
      "</ul>\n",
      "<!-- 순위 --><span class=\"grade\">4</span>\n",
      "</li>\n",
      "<li class=\"people_li\">\n",
      "<a href=\"/db/person/info/?person_id=48845\"><img alt=\"\" class=\"people_thumb\" src=\"http://image.cine21.com/resize/cine21/person/2019/0515/10_41_13__5cdb6e39cca9c[X145,145].jpg\" target=\"_blank\"/></a>\n",
      "<div class=\"name\"><a href=\"/db/person/info/?person_id=48845\">라미란(1편)</a></div>\n",
      "<ul class=\"num_info\">\n",
      "<li><span class=\"tit\">흥행지수</span><strong>51,681</strong></li>\n",
      "<!--\r\n",
      "\t\t\t\t\t\t<li><a href=\"#\" class=\"btn_graph\"><span class=\"ico\"></span><span>흥행성적<br />그래프로 보기</span></a></li>\r\n",
      "\t\t\t\t\t\t-->\n",
      "</ul>\n",
      "<!-- 영화포스터는 최대 5개까지만 -->\n",
      "<ul class=\"mov_list\">\n",
      "<li>\n",
      "<a href=\"/movie/info/?movie_id=55654\">\n",
      "<img alt=\"\" class=\"thumb\" src=\"http://image.cine21.com/resize/cine21/poster/2020/0121/11_14_30__5e265e86d16cb[X85,120].jpg\" target=\"_blank\"/>\n",
      "<span>정직한 후보</span>\n",
      "</a>\n",
      "</li>\n",
      "</ul>\n",
      "<!-- 순위 --><span class=\"grade\">5</span>\n",
      "</li>\n",
      "<li class=\"people_li\">\n",
      "<a href=\"/db/person/info/?person_id=67495\"><img alt=\"\" class=\"people_thumb\" src=\"http://image.cine21.com/resize/cine21/still/2019/0327/11_24_22__5c9aded62c2e8[X145,145].jpg\" target=\"_blank\"/></a>\n",
      "<div class=\"name\"><a href=\"/db/person/info/?person_id=67495\">김무열(1편)</a></div>\n",
      "<ul class=\"num_info\">\n",
      "<li><span class=\"tit\">흥행지수</span><strong>47,375</strong></li>\n",
      "<!--\r\n",
      "\t\t\t\t\t\t<li><a href=\"#\" class=\"btn_graph\"><span class=\"ico\"></span><span>흥행성적<br />그래프로 보기</span></a></li>\r\n",
      "\t\t\t\t\t\t-->\n",
      "</ul>\n",
      "<!-- 영화포스터는 최대 5개까지만 -->\n",
      "<ul class=\"mov_list\">\n",
      "<li>\n",
      "<a href=\"/movie/info/?movie_id=55654\">\n",
      "<img alt=\"\" class=\"thumb\" src=\"http://image.cine21.com/resize/cine21/poster/2020/0121/11_14_30__5e265e86d16cb[X85,120].jpg\" target=\"_blank\"/>\n",
      "<span>정직한 후보</span>\n",
      "</a>\n",
      "</li>\n",
      "</ul>\n",
      "<!-- 순위 --><span class=\"grade\">6</span>\n",
      "</li>\n",
      "<li class=\"people_li\">\n",
      "<a href=\"/db/person/info/?person_id=64972\"><img alt=\"\" class=\"people_thumb\" src=\"http://image.cine21.com/resize/cine21/still/2019/0326/17_55_00__5c99e8e403746[X145,145].jpg\" target=\"_blank\"/></a>\n",
      "<div class=\"name\"><a href=\"/db/person/info/?person_id=64972\">정만식(2편)</a></div>\n",
      "<ul class=\"num_info\">\n",
      "<li><span class=\"tit\">흥행지수</span><strong>45,820</strong></li>\n",
      "<!--\r\n",
      "\t\t\t\t\t\t<li><a href=\"#\" class=\"btn_graph\"><span class=\"ico\"></span><span>흥행성적<br />그래프로 보기</span></a></li>\r\n",
      "\t\t\t\t\t\t-->\n",
      "</ul>\n",
      "<!-- 영화포스터는 최대 5개까지만 -->\n",
      "<ul class=\"mov_list\">\n",
      "<li>\n",
      "<a href=\"/movie/info/?movie_id=54143\">\n",
      "<img alt=\"\" class=\"thumb\" src=\"http://image.cine21.com/resize/cine21/poster/2020/0212/16_42_16__5e43ac5844ca0[X85,120].jpg\" target=\"_blank\"/>\n",
      "<span>지푸라기라도 잡고 싶은 짐승들</span>\n",
      "</a>\n",
      "</li>\n",
      "<li>\n",
      "<a href=\"/movie/info/?movie_id=50637\">\n",
      "<img alt=\"\" class=\"thumb\" src=\"http://image.cine21.com/resize/cine21/poster/2018/1001/50637_5bb1aebb1aee4[X85,120].jpg\" target=\"_blank\"/>\n",
      "<span>창궐</span>\n",
      "</a>\n",
      "</li>\n",
      "</ul>\n",
      "<!-- 순위 --><span class=\"grade\">7</span>\n",
      "</li>\n",
      "</ul>\n",
      "<div class=\"pagination\"><a class=\"btn_first\" href=\"javascript:fetch_list(1)\"><span class=\"hidden\">처음으로</span><span class=\"ico\"></span></a><div class=\"page\"><a class=\"on\" href=\"javascript:;\">1</a><a href=\"javascript:fetch_list(2)\">2</a><a href=\"javascript:fetch_list(3)\">3</a><a href=\"javascript:fetch_list(4)\">4</a><a href=\"javascript:fetch_list(5)\">5</a><a href=\"javascript:fetch_list(6)\">6</a><a href=\"javascript:fetch_list(7)\">7</a><a href=\"javascript:fetch_list(8)\">8</a><a href=\"javascript:fetch_list(9)\">9</a><a href=\"javascript:fetch_list(10)\">10</a></div><a class=\"btn_next\" href=\"javascript:fetch_list(11)\"><span class=\"hidden\">다음</span><span class=\"ico\"></span></a><a class=\"btn_end\" href=\"javascript:fetch_list(46)\"><span class=\"hidden\">끝으로</span><span class=\"ico\"></span></a> </div>\n"
     ]
    }
   ],
   "source": [
    "soup = bs(res.content, 'html.parser')\n",
    "print(soup)"
   ]
  },
  {
   "cell_type": "code",
   "execution_count": 5,
   "metadata": {},
   "outputs": [
    {
     "name": "stdout",
     "output_type": "stream",
     "text": [
      "[{'다른 이름': 'Jeon Do Youn', '직업': '배우', '생년월일': '1973-02-11', '성별': '여', '신장/체중': '165cm, 45kg', '학교': '서울예술대학 방송연예', '취미': '음악듣기, 영화감상', '특기': '수상스키, 포켓볼', '소속사': '노아엔터테인먼트'}, {'원어명': '윤여정', '직업': '배우', '생년월일': '1947-06-19', '성별': '여', '학교': '한양대학교 국문학 (중퇴)'}, {'직업': '배우', '생년월일': '1973-03-20', '성별': '남', '홈페이지': 'https://www.instagram.com/tojws/\\nhttps://www.facebook.com/officialjws', '신장/체중': '186cm, 79kg', '학교': '경기상업고등학교 중퇴', '취미': '비디오 감상，드라이브', '특기': '농구，수영', '소속사': '(주)토러스 필름'}, {'직업': '배우', '생년월일': '1972-11-21', '성별': '남', '신장/체중': '177cm, 72kg'}, {'직업': '배우', '생년월일': '1975-03-06', '성별': '여', '홈페이지': 'https://www.facebook.com/cjesmiran'}, {'직업': '배우', '생년월일': '1982-05-22', '성별': '남', '홈페이지': 'https://twitter.com/k_moo'}, {'직업': '배우', '성별': '남'}]\n"
     ]
    }
   ],
   "source": [
    "actors = soup.select(\"ul.people_list li.people_li div.name\")\n",
    "\n",
    "actor_list = []\n",
    "for actor in actors:\n",
    "    actor_name = re.sub('\\(\\w*\\)','',actor.text)\n",
    "    actor_link = actor.select_one('a').attrs['href']\n",
    "    actor_links = requests.get(\"http://www.cine21.com/\"+actor_link)\n",
    "    actor_response = bs(actor_links.content, 'html.parser')\n",
    "    default_info = actor_response.select_one(\"ul.default_info\")\n",
    "    actor_details = default_info.select(\"li\")\n",
    "    \n",
    "    actor_dict = {}\n",
    "    for actor_detail in actor_details:\n",
    "        actor_schema = actor_detail.select_one('span.tit').text\n",
    "        actor_value = re.sub(\"<span.*?>.*?</span>\",'',str(actor_detail))\n",
    "        actor_value = re.sub(\"<.*?>\",'',actor_value).strip()\n",
    "        actor_dict[actor_schema] = actor_value\n",
    "    actor_list.append(actor_dict)\n",
    "print(actor_list)"
   ]
  },
  {
   "cell_type": "code",
   "execution_count": 35,
   "metadata": {},
   "outputs": [
    {
     "name": "stdout",
     "output_type": "stream",
     "text": [
      "[{'배우이름': '전도연', '흥행지수': 71991, '출연작': ['지푸라기라도 잡고 싶은 짐승들'], '다른 이름': 'Jeon Do Youn', '직업': '배우', '생년월일': '1973-02-11', '성별': '여', '신장/체중': '165cm, 45kg', '학교': '서울예술대학 방송연예', '취미': '음악듣기, 영화감상', '특기': '수상스키, 포켓볼', '소속사': '노아엔터테인먼트'}, {'배우이름': '윤여정', '흥행지수': 69492, '출연작': ['지푸라기라도 잡고 싶은 짐승들', '찬실이는 복도 많지'], '원어명': '윤여정', '직업': '배우', '생년월일': '1947-06-19', '성별': '여', '학교': '한양대학교 국문학 (중퇴)'}, {'배우이름': '정우성', '흥행지수': 65448, '출연작': ['지푸라기라도 잡고 싶은 짐승들'], '직업': '배우', '생년월일': '1973-03-20', '성별': '남', '홈페이지': 'https://www.instagram.com/tojws/\\nhttps://www.facebook.com/officialjws', '신장/체중': '186cm, 79kg', '학교': '경기상업고등학교 중퇴', '취미': '비디오 감상，드라이브', '특기': '농구，수영', '소속사': '(주)토러스 필름'}, {'배우이름': '배성우', '흥행지수': 58900, '출연작': ['지푸라기라도 잡고 싶은 짐승들'], '직업': '배우', '생년월일': '1972-11-21', '성별': '남', '신장/체중': '177cm, 72kg'}, {'배우이름': '라미란', '흥행지수': 51681, '출연작': ['정직한 후보'], '직업': '배우', '생년월일': '1975-03-06', '성별': '여', '홈페이지': 'https://www.facebook.com/cjesmiran'}, {'배우이름': '김무열', '흥행지수': 47375, '출연작': ['정직한 후보'], '직업': '배우', '생년월일': '1982-05-22', '성별': '남', '홈페이지': 'https://twitter.com/k_moo'}, {'배우이름': '정만식', '흥행지수': 45820, '출연작': ['지푸라기라도 잡고 싶은 짐승들', '창궐'], '직업': '배우', '성별': '남'}]\n"
     ]
    }
   ],
   "source": [
    "# 배우 이름과 흥행지수 따오기\n",
    "actors_info_list = []\n",
    "\n",
    "actors = soup.select(\"ul.people_list li.people_li\")\n",
    "hits = soup.select(\"ul.people_list li.people_li ul.num_info li strong\")\n",
    "movies = soup.select(\"ul.mov_list\")\n",
    "for index, actor in enumerate(actors):\n",
    "    actor_name = actor.select_one(\"div.name\")\n",
    "    actor_name = re.sub(\"\\(\\w*\\)\",'',actor_name.text)\n",
    "    actor_hits = int(hits[index].text.replace(',',''))\n",
    "    movie_titles = movies[index].select('li a span')\n",
    "    movie_titles_list = []\n",
    "    for movie_title in movie_titles:\n",
    "        movie_titles_list.append(movie_title.text)\n",
    "    \n",
    "    actor_info_dict = {}\n",
    "    actor_info_dict['배우이름'] = actor_name\n",
    "    actor_info_dict['흥행지수'] = actor_hits\n",
    "    actor_info_dict['출연작'] = movie_titles_list\n",
    "    \n",
    "    actors_link = actor.select_one('a').attrs['href']\n",
    "    actor_links = requests.get(\"http://www.cine21.com/\"+actors_link)\n",
    "    actor_response = bs(actor_links.content, 'html.parser')\n",
    "    default_info = actor_response.select_one(\"ul.default_info\")\n",
    "    actor_details = default_info.select(\"li\")\n",
    "    for actor_detail in actor_details:\n",
    "        actor_schema = actor_detail.select_one('span.tit').text\n",
    "        actor_value = re.sub(\"<span.*?>.*?</span>\",'',str(actor_detail))\n",
    "        actor_value = re.sub(\"<.*?>\",'',actor_value).strip()\n",
    "        actor_info_dict[actor_schema] = actor_value\n",
    "    actors_info_list.append(actor_info_dict)\n",
    "print(actors_info_list)\n",
    "    "
   ]
  },
  {
   "cell_type": "markdown",
   "metadata": {},
   "source": [
    "## 최종 단계\n",
    "- pymongo 연결\n",
    "- 필요한 라이브러리 import\n",
    "- 크롤링코드 작성\n",
    "- collection.insert_many로 MongoDB에 데이터 입력"
   ]
  },
  {
   "cell_type": "code",
   "execution_count": 2,
   "metadata": {},
   "outputs": [],
   "source": [
    "import requests\n",
    "from bs4 import BeautifulSoup as bs\n",
    "import re\n",
    "import pymongo\n",
    "\n",
    "conn = pymongo.MongoClient()\n",
    "cine21 = conn.cine21\n",
    "actors_db = cine21.actors_db\n",
    "\n",
    "actors_info_list = []\n",
    "\n",
    "cine21_url = \"http://www.cine21.com/rank/person/content\"\n",
    "header = {}\n",
    "header['section'] = 'actor'\n",
    "header['period_start'] = '2020-03'\n",
    "header['gender'] = 'all'\n",
    "for index in range(1,21):\n",
    "    header['page'] = index\n",
    "\n",
    "    res = requests.post(cine21_url, data=header)\n",
    "    soup = bs(res.content, 'html.parser')\n",
    "    actors = soup.select(\"ul.people_list li.people_li\")\n",
    "    hits = soup.select(\"ul.people_list li.people_li ul.num_info li strong\")\n",
    "    movies = soup.select(\"ul.mov_list\")\n",
    "    rankings = soup.select('ul.people_list li.people_li')\n",
    "    for index, actor in enumerate(actors):\n",
    "        actor_info_dict = {}\n",
    "        actor_ranking = rankings[index].select_one('span.grade').text\n",
    "        actor_name = actor.select_one(\"div.name\")\n",
    "        actor_name = re.sub(\"\\(\\w*\\)\",'',actor_name.text)\n",
    "        actor_hits = int(hits[index].text.replace(',',''))\n",
    "        movie_titles = movies[index].select('li a span')\n",
    "        movie_titles_list = []\n",
    "        for movie_title in movie_titles:\n",
    "            movie_titles_list.append(movie_title.text)\n",
    "        \n",
    "        actor_info_dict['배우순위'] = actor_ranking\n",
    "        actor_info_dict['배우이름'] = actor_name\n",
    "        actor_info_dict['흥행지수'] = actor_hits\n",
    "        actor_info_dict['출연작'] = movie_titles_list\n",
    "\n",
    "        actors_link = actor.select_one('a').attrs['href']\n",
    "        actor_links = requests.get(\"http://www.cine21.com/\"+actors_link)\n",
    "        actor_response = bs(actor_links.content, 'html.parser')\n",
    "        default_info = actor_response.select_one(\"ul.default_info\")\n",
    "        actor_details = default_info.select(\"li\")\n",
    "        for actor_detail in actor_details:\n",
    "            actor_schema = actor_detail.select_one('span.tit').text\n",
    "            actor_value = re.sub(\"<span.*?>.*?</span>\",'',str(actor_detail))\n",
    "            actor_value = re.sub(\"<.*?>\",'',actor_value).strip()\n",
    "            actor_info_dict[actor_schema] = actor_value\n",
    "        actors_info_list.append(actor_info_dict)"
   ]
  },
  {
   "cell_type": "code",
   "execution_count": 4,
   "metadata": {},
   "outputs": [],
   "source": [
    "conn = pymongo.MongoClient()\n",
    "cine21 = conn.cine21\n",
    "actors_db = cine21.actors_db"
   ]
  },
  {
   "cell_type": "code",
   "execution_count": 15,
   "metadata": {},
   "outputs": [
    {
     "data": {
      "text/plain": [
       "<pymongo.results.UpdateResult at 0x29c11b38b88>"
      ]
     },
     "execution_count": 15,
     "metadata": {},
     "output_type": "execute_result"
    }
   ],
   "source": [
    "actors_db.update_many({}, {'$rename': {'배우이름': '배우 이름'}})"
   ]
  },
  {
   "cell_type": "code",
   "execution_count": 5,
   "metadata": {},
   "outputs": [
    {
     "name": "stdout",
     "output_type": "stream",
     "text": [
      "{'_id': ObjectId('5e8869c8155a38268c005b64'), '배우순위': '1', '흥행지수': 70877, '출연작': ['지푸라기라도 잡고 싶은 짐승들'], '다른 이름': 'Jeon Do Youn', '직업': '배우', '생년월일': '1973-02-11', '성별': '여', '신장/체중': '165cm, 45kg', '학교': '서울예술대학 방송연예', '취미': '음악듣기, 영화감상', '특기': '수상스키, 포켓볼', '소속사': '노아엔터테인먼트', '배우 이름': '전도연'}\n",
      "{'_id': ObjectId('5e8869c8155a38268c005b65'), '배우순위': '2', '흥행지수': 68603, '출연작': ['지푸라기라도 잡고 싶은 짐승들', '찬실이는 복도 많지'], '원어명': '윤여정', '직업': '배우', '생년월일': '1947-06-19', '성별': '여', '학교': '한양대학교 국문학 (중퇴)', '배우 이름': '윤여정'}\n",
      "{'_id': ObjectId('5e8869c8155a38268c005b66'), '배우순위': '3', '흥행지수': 64632, '출연작': ['지푸라기라도 잡고 싶은 짐승들', '비트'], '직업': '배우', '생년월일': '1973-03-20', '성별': '남', '홈페이지': 'https://www.instagram.com/tojws/\\nhttps://www.facebook.com/officialjws', '신장/체중': '186cm, 79kg', '학교': '경기상업고등학교 중퇴', '취미': '비디오 감상，드라이브', '특기': '농구，수영', '소속사': '(주)토러스 필름', '배우 이름': '정우성'}\n",
      "{'_id': ObjectId('5e8869c8155a38268c005b67'), '배우순위': '4', '흥행지수': 57989, '출연작': ['지푸라기라도 잡고 싶은 짐승들'], '직업': '배우', '생년월일': '1972-11-21', '성별': '남', '신장/체중': '177cm, 72kg', '배우 이름': '배성우'}\n",
      "{'_id': ObjectId('5e8869c8155a38268c005b68'), '배우순위': '5', '흥행지수': 50847, '출연작': ['정직한 후보'], '직업': '배우', '생년월일': '1975-03-06', '성별': '여', '홈페이지': 'https://www.facebook.com/cjesmiran', '배우 이름': '라미란'}\n"
     ]
    }
   ],
   "source": [
    "docs = actors_db.find({}).limit(5)\n",
    "for doc in docs:\n",
    "    print(doc)"
   ]
  },
  {
   "cell_type": "code",
   "execution_count": 20,
   "metadata": {},
   "outputs": [
    {
     "name": "stdout",
     "output_type": "stream",
     "text": [
      "{'_id': ObjectId('5e8869c8155a38268c005bc6'), '배우순위': '99', '흥행지수': 629, '출연작': ['아내를 죽였다'], '다른 이름': '이보연', '직업': '배우', '생년월일': '1982-07-03', '성별': '남', '홈페이지': 'https://www.instagram.com/lee_si_eon/\\nhttps://twitter.com/dm33482', '배우 이름': '이시언'}\n",
      "{'_id': ObjectId('5e8869c8155a38268c005bc5'), '배우순위': '98', '흥행지수': 661, '출연작': ['눈의 여왕4'], '직업': '성우', '성별': '남', '배우 이름': '임채헌'}\n",
      "{'_id': ObjectId('5e8869c8155a38268c005bc4'), '배우순위': '97', '흥행지수': 665, '출연작': ['리틀 포레스트'], '직업': '배우', '생년월일': '1986-09-25', '성별': '남', '홈페이지': 'https://www.instagram.com/ryusdb/', '배우 이름': '류준열'}\n",
      "{'_id': ObjectId('5e8869c8155a38268c005bc3'), '배우순위': '96', '흥행지수': 671, '출연작': ['살인의 추억'], '다른 이름': '宋在浩;송재언', '직업': '배우', '생년월일': '1939-03-10', '성별': '남', '신장/체중': '165cm, 65kg', '학교': '동아대학교 국어국문학', '취미': '촬영', '특기': '사격', '배우 이름': '송재호'}\n",
      "{'_id': ObjectId('5e8869c8155a38268c005bc2'), '배우순위': '95', '흥행지수': 674, '출연작': ['이장'], '직업': '배우', '성별': '남', '배우 이름': '강민준'}\n"
     ]
    }
   ],
   "source": [
    "                        # sort에서 디폴트값은 sort한 속성이 없는 순으로 출력됨!!!!\n",
    "docs = actors_db.find({}).sort('배우순위',pymongo.DESCENDING).limit(5)\n",
    "for doc in docs:\n",
    "    print(doc)"
   ]
  },
  {
   "cell_type": "code",
   "execution_count": 21,
   "metadata": {},
   "outputs": [
    {
     "name": "stdout",
     "output_type": "stream",
     "text": [
      "{'_id': ObjectId('5e8869c8155a38268c005bc3'), '배우순위': '96', '흥행지수': 671, '출연작': ['살인의 추억'], '다른 이름': '宋在浩;송재언', '직업': '배우', '생년월일': '1939-03-10', '성별': '남', '신장/체중': '165cm, 65kg', '학교': '동아대학교 국어국문학', '취미': '촬영', '특기': '사격', '배우 이름': '송재호'}\n",
      "{'_id': ObjectId('5e8869c8155a38268c005bbf'), '배우순위': '92', '흥행지수': 732, '출연작': ['백두산', '남산의 부장들'], '다른 이름': 'Byung-hun Lee;BH Lee', '직업': '배우', '생년월일': '1970-07-12', '성별': '남', '홈페이지': 'http://www.leebyunghun.kr/', '신장/체중': '177cm, 72kg', '학교': '한양대학교 불어문학과', '취미': '모자수집, 여행', '특기': '태권도, 스노우보드, 수영, 팔씨름', '배우 이름': '이병헌'}\n",
      "{'_id': ObjectId('5e8869c8155a38268c005bb1'), '배우순위': '78', '흥행지수': 945, '출연작': ['불한당: 나쁜 놈들의 세상'], '직업': '배우', '생년월일': '1978-09-15', '성별': '남', '신장/체중': '180cm, 70kg', '취미': '낚시, 당구', '특기': '스노우보드', '배우 이름': '김성오'}\n",
      "{'_id': ObjectId('5e8869c8155a38268c005ba2'), '배우순위': '63', '흥행지수': 1261, '출연작': ['살인의 추억'], '직업': '배우', '생년월일': '1972-06-01', '성별': '남', '신장/체중': '183cm, 78kg', '학교': '중앙대학교 연극학과', '취미': '낚시, 등산, 독서(고전 읽기), 스포츠', '특기': '운동과 무술', '소속사': '국엔터테인먼트', '배우 이름': '김상경'}\n",
      "{'_id': ObjectId('5e8869c8155a38268c005b9b'), '배우순위': '56', '흥행지수': 1461, '출연작': ['불한당: 나쁜 놈들의 세상', '백두산'], '다른 이름': '전이다', '직업': '배우', '생년월일': '1976-08-10', '성별': '여', '신장/체중': '171cm, 49kg', '학교': '상명대학교 영화과', '취미': '영화감상, 노래 부르기', '특기': '수영', '소속사': '호두엔터테인먼트', '배우 이름': '전혜진'}\n"
     ]
    }
   ],
   "source": [
    "docs = actors_db.find({'특기':{'$exists':True}}).sort('배우순위', pymongo.DESCENDING).limit(5)\n",
    "for doc in docs:\n",
    "    print(doc)"
   ]
  },
  {
   "cell_type": "code",
   "execution_count": 32,
   "metadata": {},
   "outputs": [
    {
     "name": "stdout",
     "output_type": "stream",
     "text": [
      "{'배우 이름': '전도연'}\n",
      "{'배우 이름': '윤여정'}\n",
      "{'배우 이름': '정우성'}\n",
      "{'배우 이름': '배성우'}\n",
      "{'배우 이름': '라미란'}\n",
      "{'배우 이름': '김무열'}\n",
      "{'배우 이름': '나문희'}\n",
      "{'배우 이름': '신현빈'}\n",
      "{'배우 이름': '윤경호'}\n",
      "{'배우 이름': '정가람'}\n",
      "{'배우 이름': '송영창'}\n",
      "{'배우 이름': '진경'}\n",
      "{'배우 이름': '온주완'}\n",
      "{'배우 이름': '성훈'}\n",
      "{'배우 이름': '조한철'}\n",
      "{'배우 이름': '강말금'}\n",
      "{'배우 이름': '박지환'}\n",
      "{'배우 이름': '손종학'}\n",
      "{'배우 이름': '김준한'}\n",
      "{'배우 이름': '김영민'}\n",
      "{'배우 이름': '조수향'}\n",
      "{'배우 이름': '김소은'}\n",
      "{'배우 이름': '윤승아'}\n",
      "{'배우 이름': '윤세아'}\n",
      "{'배우 이름': '허동원'}\n",
      "{'배우 이름': '지창욱'}\n",
      "{'배우 이름': '송강호'}\n",
      "{'배우 이름': '배유람'}\n",
      "{'배우 이름': '김소현'}\n",
      "{'배우 이름': '김용림'}\n",
      "{'배우 이름': '이레'}\n",
      "{'배우 이름': '하정우'}\n",
      "{'배우 이름': '심은경'}\n",
      "{'배우 이름': '장혜진'}\n",
      "{'배우 이름': '김남길'}\n",
      "{'배우 이름': '박소담'}\n",
      "{'배우 이름': '이정은'}\n",
      "{'배우 이름': '오지호'}\n",
      "{'배우 이름': '이선균'}\n",
      "{'배우 이름': '허율'}\n",
      "{'배우 이름': '김상호'}\n",
      "{'배우 이름': '조여정'}\n",
      "{'배우 이름': '김시아'}\n",
      "{'배우 이름': '양정화'}\n",
      "{'배우 이름': '정지소'}\n",
      "{'배우 이름': '한동규'}\n",
      "{'배우 이름': '전혜진'}\n",
      "{'배우 이름': '서영화'}\n",
      "{'배우 이름': '정현준'}\n",
      "{'배우 이름': '설경구'}\n",
      "{'배우 이름': '임시완'}\n",
      "{'배우 이름': '김상경'}\n",
      "{'배우 이름': '김희원'}\n",
      "{'배우 이름': '이경영'}\n",
      "{'배우 이름': '공민정'}\n",
      "{'배우 이름': '김뢰하'}\n",
      "{'배우 이름': '신린아'}\n",
      "{'배우 이름': '고서희'}\n",
      "{'배우 이름': '박서준'}\n",
      "{'배우 이름': '김수진'}\n",
      "{'배우 이름': '엄상현'}\n",
      "{'배우 이름': '김주령'}\n",
      "{'배우 이름': '김성오'}\n",
      "{'배우 이름': '남기애'}\n",
      "{'배우 이름': '유승목'}\n",
      "{'배우 이름': '박정민'}\n",
      "{'배우 이름': '김태리'}\n",
      "{'배우 이름': '박명훈'}\n",
      "{'배우 이름': '박지윤'}\n",
      "{'배우 이름': '한정수'}\n",
      "{'배우 이름': '문지윤'}\n",
      "{'배우 이름': '유지태'}\n",
      "{'배우 이름': '박노식'}\n",
      "{'배우 이름': '이병헌'}\n",
      "{'배우 이름': '장인섭'}\n",
      "{'배우 이름': '송재호'}\n",
      "{'배우 이름': '류준열'}\n",
      "{'배우 이름': '이시언'}\n",
      "{'배우 이름': '김지훈'}\n",
      "{'배우 이름': '변희봉'}\n",
      "{'배우 이름': '문소리'}\n",
      "{'배우 이름': '이제훈'}\n",
      "{'배우 이름': '안내상'}\n",
      "{'배우 이름': '진선규'}\n",
      "{'배우 이름': '박수영'}\n",
      "{'배우 이름': '윤용식'}\n",
      "{'배우 이름': '정해인'}\n",
      "{'배우 이름': '류태호'}\n",
      "{'배우 이름': '종호'}\n",
      "{'배우 이름': '이성민'}\n",
      "{'배우 이름': '이영애'}\n",
      "{'배우 이름': '안재홍'}\n",
      "{'배우 이름': '안재홍'}\n",
      "{'배우 이름': '염정아'}\n",
      "{'배우 이름': '최병모'}\n",
      "{'배우 이름': '전미선'}\n",
      "{'배우 이름': '박인환'}\n",
      "{'배우 이름': '오광록'}\n",
      "{'배우 이름': '임현성'}\n",
      "{'배우 이름': '최성은'}\n",
      "{'배우 이름': '서지영'}\n",
      "{'배우 이름': '권상우'}\n",
      "{'배우 이름': '이재응'}\n",
      "{'배우 이름': '정준호'}\n",
      "{'배우 이름': '배수지'}\n",
      "{'배우 이름': '김종수'}\n",
      "{'배우 이름': '이상원'}\n"
     ]
    }
   ],
   "source": [
    "docs = actors_db.find({'생년월일':{'$exists':True}}, {'_id':0,'배우 이름':1})\n",
    "for doc in docs:\n",
    "    print(doc)"
   ]
  },
  {
   "cell_type": "code",
   "execution_count": 6,
   "metadata": {},
   "outputs": [
    {
     "data": {
      "text/plain": [
       "<pymongo.results.UpdateResult at 0x282743da488>"
      ]
     },
     "execution_count": 6,
     "metadata": {},
     "output_type": "execute_result"
    }
   ],
   "source": [
    "actors_db.update_many({}, {'$rename':{'배우 이름':'배우이름'}})"
   ]
  },
  {
   "cell_type": "code",
   "execution_count": 10,
   "metadata": {},
   "outputs": [
    {
     "name": "stdout",
     "output_type": "stream",
     "text": [
      "{'생년월일': '2011-11-08', '배우이름': '정현준'}\n",
      "{'생년월일': '2009-06-26', '배우이름': '허율'}\n",
      "{'생년월일': '2009-05-14', '배우이름': '신린아'}\n",
      "{'생년월일': '2008-05-06', '배우이름': '김시아'}\n",
      "{'생년월일': '2006-03-12', '배우이름': '이레'}\n"
     ]
    }
   ],
   "source": [
    "docs = actors_db.find({}, {'배우이름':1,'생년월일':1, '_id':0}).sort('생년월일', pymongo.DESCENDING).limit(5)\n",
    "for doc in docs:\n",
    "    print(doc)"
   ]
  },
  {
   "cell_type": "code",
   "execution_count": 11,
   "metadata": {},
   "outputs": [
    {
     "name": "stdout",
     "output_type": "stream",
     "text": [
      "{'_id': ObjectId('5e8869c8155a38268c005b64'), '배우순위': '1', '흥행지수': 70877, '출연작': ['지푸라기라도 잡고 싶은 짐승들'], '다른 이름': 'Jeon Do Youn', '직업': '배우', '생년월일': '1973-02-11', '성별': '여', '신장/체중': '165cm, 45kg', '학교': '서울예술대학 방송연예', '취미': '음악듣기, 영화감상', '특기': '수상스키, 포켓볼', '소속사': '노아엔터테인먼트', '배우이름': '전도연'}\n",
      "{'_id': ObjectId('5e8869c8155a38268c005b66'), '배우순위': '3', '흥행지수': 64632, '출연작': ['지푸라기라도 잡고 싶은 짐승들', '비트'], '직업': '배우', '생년월일': '1973-03-20', '성별': '남', '홈페이지': 'https://www.instagram.com/tojws/\\nhttps://www.facebook.com/officialjws', '신장/체중': '186cm, 79kg', '학교': '경기상업고등학교 중퇴', '취미': '비디오 감상，드라이브', '특기': '농구，수영', '소속사': '(주)토러스 필름', '배우이름': '정우성'}\n",
      "{'_id': ObjectId('5e8869c8155a38268c005b7f'), '배우순위': '28', '흥행지수': 4788, '출연작': ['너의 이름은.'], '직업': '배우', '생년월일': '1987-07-05', '성별': '남', '홈페이지': 'https://twitter.com/jichangwook\\nhttps://www.instagram.com/jichangwook/', '신장/체중': '180cm, 65kg', '학교': '단국대학교 공연영상학부', '특기': '노래, 유도, 수영', '소속사': '(주)글로리어스', '배우이름': '지창욱'}\n",
      "{'_id': ObjectId('5e8869c8155a38268c005b86'), '배우순위': '35', '흥행지수': 2855, '출연작': ['신문기자'], '직업': '배우', '생년월일': '1995-05-31', '성별': '여', '홈페이지': 'https://twitter.com/fallen_angel531\\nhttps://www.instagram.com/shimxe.k_/', '신장/체중': '158cm, 38kg', '학교': '피치버그고등학교', '특기': '노래, 태권도', '배우이름': '심은경'}\n",
      "{'_id': ObjectId('5e8869c8155a38268c005b8c'), '배우순위': '41', '흥행지수': 2349, '출연작': ['악몽'], '직업': '배우', '생년월일': '1976-04-14', '성별': '남', '신장/체중': '183cm', '학교': '안양과학대학 공업경영학', '취미': '영화감상, 노래', '특기': '화난사람 달래기, 남을 기분좋게 하기', '소속사': '헤븐리스타엔터테인먼트', '배우이름': '오지호'}\n"
     ]
    }
   ],
   "source": [
    "docs = actors_db.find({'특기':{'$exists':True}}).sort('순위').limit(5)\n",
    "for doc in docs:\n",
    "    print(doc)"
   ]
  },
  {
   "cell_type": "code",
   "execution_count": 16,
   "metadata": {},
   "outputs": [
    {
     "name": "stdout",
     "output_type": "stream",
     "text": [
      "{'흥행지수': 70877, '배우이름': '전도연'}\n",
      "{'흥행지수': 68603, '배우이름': '윤여정'}\n",
      "{'흥행지수': 64632, '배우이름': '정우성'}\n",
      "{'흥행지수': 57989, '배우이름': '배성우'}\n",
      "{'흥행지수': 45207, '배우이름': '정만식'}\n",
      "{'흥행지수': 40142, '배우이름': '신현빈'}\n",
      "{'흥행지수': 32216, '배우이름': '정가람'}\n",
      "{'흥행지수': 25773, '배우이름': '진경'}\n",
      "{'흥행지수': 19331, '배우이름': '박지환'}\n",
      "{'흥행지수': 12888, '배우이름': '김준한'}\n",
      "{'흥행지수': 6549, '배우이름': '허동원'}\n"
     ]
    }
   ],
   "source": [
    "docs = actors_db.find({'흥행지수':{'$gte':100}, '출연작':'지푸라기라도 잡고 싶은 짐승들'}, {'배우이름':1,'흥행지수':1,'_id':0})\n",
    "for doc in docs:\n",
    "    print(doc)"
   ]
  },
  {
   "cell_type": "code",
   "execution_count": 22,
   "metadata": {},
   "outputs": [
    {
     "name": "stdout",
     "output_type": "stream",
     "text": [
      "{'배우순위': '1', '흥행지수': 70877, '출연작': ['지푸라기라도 잡고 싶은 짐승들'], '다른 이름': 'Jeon Do Youn', '직업': '배우', '생년월일': '1973-02-11', '성별': '여', '신장/체중': '165cm, 45kg', '학교': '서울예술대학 방송연예', '취미': '음악듣기, 영화감상', '특기': '수상스키, 포켓볼', '소속사': '노아엔터테인먼트', '배우이름': '전도연'}\n",
      "{'배우순위': '2', '흥행지수': 68603, '출연작': ['지푸라기라도 잡고 싶은 짐승들', '찬실이는 복도 많지'], '원어명': '윤여정', '직업': '배우', '생년월일': '1947-06-19', '성별': '여', '학교': '한양대학교 국문학 (중퇴)', '배우이름': '윤여정'}\n",
      "{'배우순위': '3', '흥행지수': 64632, '출연작': ['지푸라기라도 잡고 싶은 짐승들', '비트'], '직업': '배우', '생년월일': '1973-03-20', '성별': '남', '홈페이지': 'https://www.instagram.com/tojws/\\nhttps://www.facebook.com/officialjws', '신장/체중': '186cm, 79kg', '학교': '경기상업고등학교 중퇴', '취미': '비디오 감상，드라이브', '특기': '농구，수영', '소속사': '(주)토러스 필름', '배우이름': '정우성'}\n",
      "{'배우순위': '4', '흥행지수': 57989, '출연작': ['지푸라기라도 잡고 싶은 짐승들'], '직업': '배우', '생년월일': '1972-11-21', '성별': '남', '신장/체중': '177cm, 72kg', '배우이름': '배성우'}\n",
      "{'배우순위': '7', '흥행지수': 45207, '출연작': ['지푸라기라도 잡고 싶은 짐승들', '부당거래', '창궐'], '직업': '배우', '성별': '남', '배우이름': '정만식'}\n",
      "{'배우순위': '9', '흥행지수': 40142, '출연작': ['지푸라기라도 잡고 싶은 짐승들', '클로젯'], '직업': '배우', '생년월일': '1986-04-10', '성별': '여', '홈페이지': 'https://instagram.com/hyunbeenshin', '신장/체중': '168cm, 45kg', '학교': '한국예술종합대학교 미술사이론학', '소속사': '제롬 엔터테인먼트', '배우이름': '신현빈'}\n",
      "{'배우순위': '12', '흥행지수': 32216, '출연작': ['지푸라기라도 잡고 싶은 짐승들'], '직업': '배우', '생년월일': '1993-02-23', '성별': '남', '홈페이지': 'http://www.vlive.tv/channels/EBE269', '배우이름': '정가람'}\n",
      "{'배우순위': '14', '흥행지수': 25773, '출연작': ['지푸라기라도 잡고 싶은 짐승들'], '직업': '배우', '생년월일': '1972-03-27', '성별': '여', '배우이름': '진경'}\n",
      "{'배우순위': '19', '흥행지수': 19331, '출연작': ['지푸라기라도 잡고 싶은 짐승들'], '직업': '배우', '생년월일': '1980-09-05', '성별': '남', '배우이름': '박지환'}\n",
      "{'배우순위': '21', '흥행지수': 12888, '출연작': ['지푸라기라도 잡고 싶은 짐승들'], '직업': '배우', '생년월일': '1983-03-29', '성별': '남', '배우이름': '김준한'}\n",
      "{'배우순위': '27', '흥행지수': 6549, '출연작': ['지푸라기라도 잡고 싶은 짐승들', '히트맨'], '직업': '배우', '생년월일': '1980-06-09', '성별': '남', '배우이름': '허동원'}\n",
      "{'배우순위': '107', '흥행지수': 536, '출연작': ['불한당: 나쁜 놈들의 세상', '극한직업'], '직업': '배우', '생년월일': '1977-09-13', '성별': '남', '배우이름': '진선규'}\n",
      "{'배우순위': '137', '흥행지수': 310, '출연작': ['시동', '극한직업'], '직업': '배우', '생년월일': '1964-11-30', '성별': '남', '홈페이지': 'https://www.instagram.com/alrun85/\\nhttps://www.facebook.com/profile.php?id=100001721292638', '배우이름': '김종수'}\n"
     ]
    }
   ],
   "source": [
    "docs = actors_db.find({'$or' : [{'출연작':'지푸라기라도 잡고 싶은 짐승들'},{'출연작':'극한직업'}]}, { '_id':0})\n",
    "for doc in docs:\n",
    "    print(doc)"
   ]
  },
  {
   "cell_type": "code",
   "execution_count": 23,
   "metadata": {},
   "outputs": [
    {
     "name": "stdout",
     "output_type": "stream",
     "text": [
      "{'흥행지수': 70877, '출연작': ['지푸라기라도 잡고 싶은 짐승들'], '배우이름': '전도연'}\n",
      "{'흥행지수': 68603, '출연작': ['지푸라기라도 잡고 싶은 짐승들', '찬실이는 복도 많지'], '배우이름': '윤여정'}\n",
      "{'흥행지수': 64632, '출연작': ['지푸라기라도 잡고 싶은 짐승들', '비트'], '배우이름': '정우성'}\n",
      "{'흥행지수': 57989, '출연작': ['지푸라기라도 잡고 싶은 짐승들'], '배우이름': '배성우'}\n",
      "{'흥행지수': 45207, '출연작': ['지푸라기라도 잡고 싶은 짐승들', '부당거래', '창궐'], '배우이름': '정만식'}\n",
      "{'흥행지수': 40142, '출연작': ['지푸라기라도 잡고 싶은 짐승들', '클로젯'], '배우이름': '신현빈'}\n",
      "{'흥행지수': 32216, '출연작': ['지푸라기라도 잡고 싶은 짐승들'], '배우이름': '정가람'}\n",
      "{'흥행지수': 25773, '출연작': ['지푸라기라도 잡고 싶은 짐승들'], '배우이름': '진경'}\n",
      "{'흥행지수': 19331, '출연작': ['지푸라기라도 잡고 싶은 짐승들'], '배우이름': '박지환'}\n",
      "{'흥행지수': 12888, '출연작': ['지푸라기라도 잡고 싶은 짐승들'], '배우이름': '김준한'}\n",
      "{'흥행지수': 6549, '출연작': ['지푸라기라도 잡고 싶은 짐승들', '히트맨'], '배우이름': '허동원'}\n",
      "{'흥행지수': 536, '출연작': ['불한당: 나쁜 놈들의 세상', '극한직업'], '배우이름': '진선규'}\n",
      "{'흥행지수': 310, '출연작': ['시동', '극한직업'], '배우이름': '김종수'}\n"
     ]
    }
   ],
   "source": [
    "docs = actors_db.find({'흥행지수':{'$gte':100}, '$or':[{'출연작':'지푸라기라도 잡고 싶은 짐승들'},{'출연작':'극한직업'}]},\n",
    "                     {'흥행지수':1, '배우이름':1, '출연작':1, '_id':0})\n",
    "for doc in docs:\n",
    "    print(doc)"
   ]
  },
  {
   "cell_type": "code",
   "execution_count": 24,
   "metadata": {},
   "outputs": [
    {
     "name": "stdout",
     "output_type": "stream",
     "text": [
      "{'흥행지수': 8527, '배우이름': '윤승아'}\n",
      "{'흥행지수': 8472, '배우이름': '윤세아'}\n",
      "{'흥행지수': 6549, '배우이름': '허동원'}\n",
      "{'흥행지수': 4788, '배우이름': '지창욱'}\n",
      "{'흥행지수': 4484, '배우이름': '송강호'}\n",
      "{'흥행지수': 4268, '배우이름': '배유람'}\n",
      "{'흥행지수': 4255, '배우이름': '김소현'}\n",
      "{'흥행지수': 4236, '배우이름': '김용림'}\n",
      "{'흥행지수': 3723, '배우이름': '이레'}\n",
      "{'흥행지수': 3333, '배우이름': '하정우'}\n",
      "{'흥행지수': 2855, '배우이름': '심은경'}\n",
      "{'흥행지수': 2852, '배우이름': '장혜진'}\n",
      "{'흥행지수': 2591, '배우이름': '김남길'}\n",
      "{'흥행지수': 2568, '배우이름': '박소담'}\n",
      "{'흥행지수': 2478, '배우이름': '이정은'}\n",
      "{'흥행지수': 2478, '배우이름': '홍근택'}\n",
      "{'흥행지수': 2349, '배우이름': '오지호'}\n",
      "{'흥행지수': 2316, '배우이름': '이선균'}\n",
      "{'흥행지수': 2223, '배우이름': '허율'}\n",
      "{'흥행지수': 2091, '배우이름': '김상호'}\n",
      "{'흥행지수': 1997, '배우이름': '조여정'}\n",
      "{'흥행지수': 1984, '배우이름': '차지현'}\n",
      "{'흥행지수': 1958, '배우이름': '차지현'}\n",
      "{'흥행지수': 1939, '배우이름': '김시아'}\n",
      "{'흥행지수': 1803, '배우이름': '양정화'}\n",
      "{'흥행지수': 1713, '배우이름': '정지소'}\n",
      "{'흥행지수': 1671, '배우이름': '임희철'}\n",
      "{'흥행지수': 1568, '배우이름': '지성원'}\n",
      "{'흥행지수': 1516, '배우이름': '장리우'}\n",
      "{'흥행지수': 1487, '배우이름': '장준현'}\n",
      "{'흥행지수': 1465, '배우이름': '한동규'}\n",
      "{'흥행지수': 1461, '배우이름': '전혜진'}\n",
      "{'흥행지수': 1449, '배우이름': '박재한'}\n",
      "{'흥행지수': 1429, '배우이름': '서영화'}\n",
      "{'흥행지수': 1426, '배우이름': '정현준'}\n",
      "{'흥행지수': 1378, '배우이름': '설경구'}\n",
      "{'흥행지수': 1349, '배우이름': '이선희'}\n",
      "{'흥행지수': 1290, '배우이름': '임시완'}\n",
      "{'흥행지수': 1261, '배우이름': '김상경'}\n",
      "{'흥행지수': 1203, '배우이름': '김희원'}\n",
      "{'흥행지수': 1203, '배우이름': '이경영'}\n",
      "{'흥행지수': 1181, '배우이름': '공민정'}\n",
      "{'흥행지수': 1178, '배우이름': '김뢰하'}\n",
      "{'흥행지수': 1174, '배우이름': '신린아'}\n",
      "{'흥행지수': 1171, '배우이름': '고서희'}\n",
      "{'흥행지수': 1142, '배우이름': '박서준'}\n",
      "{'흥행지수': 1110, '배우이름': '김수진'}\n",
      "{'흥행지수': 1055, '배우이름': '엄상현'}\n",
      "{'흥행지수': 1013, '배우이름': '윤금선아'}\n",
      "{'흥행지수': 1010, '배우이름': '김주령'}\n",
      "{'흥행지수': 997, '배우이름': '신용우'}\n",
      "{'흥행지수': 990, '배우이름': '윤정욱'}\n",
      "{'흥행지수': 948, '배우이름': '조현정'}\n",
      "{'흥행지수': 945, '배우이름': '김성오'}\n",
      "{'흥행지수': 945, '배우이름': '남기애'}\n",
      "{'흥행지수': 926, '배우이름': '유승목'}\n",
      "{'흥행지수': 916, '배우이름': '박정민'}\n",
      "{'흥행지수': 887, '배우이름': '김태리'}\n",
      "{'흥행지수': 855, '배우이름': '박명훈'}\n",
      "{'흥행지수': 842, '배우이름': '곽민규'}\n",
      "{'흥행지수': 842, '배우이름': '곽민규'}\n",
      "{'흥행지수': 797, '배우이름': '박지윤'}\n",
      "{'흥행지수': 784, '배우이름': '한정수'}\n",
      "{'흥행지수': 774, '배우이름': '문지윤'}\n",
      "{'흥행지수': 768, '배우이름': '유지태'}\n",
      "{'흥행지수': 755, '배우이름': '박노식'}\n",
      "{'흥행지수': 742, '배우이름': '박지아'}\n",
      "{'흥행지수': 732, '배우이름': '이병헌'}\n",
      "{'흥행지수': 723, '배우이름': '김다희'}\n",
      "{'흥행지수': 687, '배우이름': '장인섭'}\n",
      "{'흥행지수': 674, '배우이름': '강민준'}\n",
      "{'흥행지수': 671, '배우이름': '송재호'}\n",
      "{'흥행지수': 665, '배우이름': '류준열'}\n",
      "{'흥행지수': 661, '배우이름': '임채헌'}\n",
      "{'흥행지수': 629, '배우이름': '이시언'}\n",
      "{'흥행지수': 610, '배우이름': '박영재'}\n",
      "{'흥행지수': 603, '배우이름': '김지훈'}\n",
      "{'흥행지수': 587, '배우이름': '변희봉'}\n",
      "{'흥행지수': 571, '배우이름': '문소리'}\n",
      "{'흥행지수': 561, '배우이름': '이제훈'}\n",
      "{'흥행지수': 558, '배우이름': '임은정'}\n",
      "{'흥행지수': 539, '배우이름': '안내상'}\n",
      "{'흥행지수': 536, '배우이름': '진선규'}\n",
      "{'흥행지수': 516, '배우이름': '박수영'}\n",
      "{'흥행지수': 510, '배우이름': '윤용식'}\n",
      "{'흥행지수': 506, '배우이름': '정해인'}\n",
      "{'흥행지수': 503, '배우이름': '류태호'}\n",
      "{'흥행지수': 503, '배우이름': '유순웅'}\n",
      "{'흥행지수': 494, '배우이름': '종호'}\n",
      "{'흥행지수': 490, '배우이름': '남도형'}\n",
      "{'흥행지수': 477, '배우이름': '이성민'}\n",
      "{'흥행지수': 465, '배우이름': '이소영'}\n",
      "{'흥행지수': 461, '배우이름': '이영애'}\n",
      "{'흥행지수': 458, '배우이름': '김현심'}\n",
      "{'흥행지수': 448, '배우이름': '안재홍'}\n",
      "{'흥행지수': 448, '배우이름': '안재홍'}\n",
      "{'흥행지수': 436, '배우이름': '염정아'}\n",
      "{'흥행지수': 429, '배우이름': '최병모'}\n",
      "{'흥행지수': 419, '배우이름': '전미선'}\n",
      "{'흥행지수': 410, '배우이름': '박인환'}\n",
      "{'흥행지수': 390, '배우이름': '오광록'}\n",
      "{'흥행지수': 371, '배우이름': '임현성'}\n",
      "{'흥행지수': 371, '배우이름': '정가영'}\n",
      "{'흥행지수': 361, '배우이름': '최성은'}\n",
      "{'흥행지수': 361, '배우이름': '김영은'}\n",
      "{'흥행지수': 358, '배우이름': '서지영'}\n",
      "{'흥행지수': 358, '배우이름': '권상우'}\n",
      "{'흥행지수': 352, '배우이름': '전태열'}\n",
      "{'흥행지수': 339, '배우이름': '강선숙'}\n",
      "{'흥행지수': 336, '배우이름': '이재응'}\n",
      "{'흥행지수': 319, '배우이름': '정준호'}\n",
      "{'흥행지수': 313, '배우이름': '배수지'}\n",
      "{'흥행지수': 310, '배우이름': '김종수'}\n",
      "{'흥행지수': 306, '배우이름': '신신애'}\n",
      "{'흥행지수': 306, '배우이름': '홍진욱'}\n",
      "{'흥행지수': 287, '배우이름': '이상원'}\n"
     ]
    }
   ],
   "source": [
    "docs = actors_db.find({'$nor':[{'흥행지수':{'$in':[9182,8439]}},{'흥행지수':{'$gt':10000}}]},\n",
    "                     {'배우이름':1,'흥행지수':1,'_id':0})\n",
    "for doc in docs:\n",
    "    print(doc)"
   ]
  },
  {
   "cell_type": "code",
   "execution_count": 26,
   "metadata": {},
   "outputs": [
    {
     "name": "stdout",
     "output_type": "stream",
     "text": [
      "{'_id': ObjectId('5e8869c8155a38268c005b67'), '배우순위': '4', '흥행지수': 57989, '출연작': ['지푸라기라도 잡고 싶은 짐승들'], '직업': '배우', '생년월일': '1972-11-21', '성별': '남', '신장/체중': '177cm, 72kg', '배우이름': '배성우'}\n",
      "{'_id': ObjectId('5e8869c8155a38268c005b68'), '배우순위': '5', '흥행지수': 50847, '출연작': ['정직한 후보'], '직업': '배우', '생년월일': '1975-03-06', '성별': '여', '홈페이지': 'https://www.facebook.com/cjesmiran', '배우이름': '라미란'}\n",
      "{'_id': ObjectId('5e8869c8155a38268c005b69'), '배우순위': '6', '흥행지수': 46607, '출연작': ['정직한 후보'], '직업': '배우', '생년월일': '1982-05-22', '성별': '남', '홈페이지': 'https://twitter.com/k_moo', '배우이름': '김무열'}\n",
      "{'_id': ObjectId('5e8869c8155a38268c005b6a'), '배우순위': '7', '흥행지수': 45207, '출연작': ['지푸라기라도 잡고 싶은 짐승들', '부당거래', '창궐'], '직업': '배우', '성별': '남', '배우이름': '정만식'}\n",
      "{'_id': ObjectId('5e8869c8155a38268c005b6b'), '배우순위': '8', '흥행지수': 42372, '출연작': ['정직한 후보'], '직업': '배우', '생년월일': '1941-11-30', '성별': '여', '홈페이지': 'http://www.namuni.kr/', '학교': '창덕여자고등학교', '배우이름': '나문희'}\n",
      "{'_id': ObjectId('5e8869c8155a38268c005b6c'), '배우순위': '9', '흥행지수': 40142, '출연작': ['지푸라기라도 잡고 싶은 짐승들', '클로젯'], '직업': '배우', '생년월일': '1986-04-10', '성별': '여', '홈페이지': 'https://instagram.com/hyunbeenshin', '신장/체중': '168cm, 45kg', '학교': '한국예술종합대학교 미술사이론학', '소속사': '제롬 엔터테인먼트', '배우이름': '신현빈'}\n",
      "{'_id': ObjectId('5e8869c8155a38268c005b6d'), '배우순위': '10', '흥행지수': 38349, '출연작': ['정직한 후보', '시동'], '직업': '배우', '생년월일': '1980-07-05', '성별': '남', '배우이름': '윤경호'}\n",
      "{'_id': ObjectId('5e8869c8155a38268c005b6e'), '배우순위': '11', '흥행지수': 33897, '출연작': ['정직한 후보'], '직업': '배우', '성별': '남', '홈페이지': 'http://www.vlive.tv/channels/D5353F', '배우이름': '장동주'}\n",
      "{'_id': ObjectId('5e8869c8155a38268c005b6f'), '배우순위': '12', '흥행지수': 32216, '출연작': ['지푸라기라도 잡고 싶은 짐승들'], '직업': '배우', '생년월일': '1993-02-23', '성별': '남', '홈페이지': 'http://www.vlive.tv/channels/EBE269', '배우이름': '정가람'}\n",
      "{'_id': ObjectId('5e8869c8155a38268c005b70'), '배우순위': '13', '흥행지수': 29661, '출연작': ['정직한 후보'], '다른 이름': '宋永彰', '직업': '배우', '생년월일': '1958-04-02', '성별': '남', '학교': '중앙대학교대학원 연극영화학', '취미': '볼링, 비디오감상', '배우이름': '송영창'}\n",
      "{'_id': ObjectId('5e8869c8155a38268c005b71'), '배우순위': '14', '흥행지수': 25773, '출연작': ['지푸라기라도 잡고 싶은 짐승들'], '직업': '배우', '생년월일': '1972-03-27', '성별': '여', '배우이름': '진경'}\n",
      "{'_id': ObjectId('5e8869c8155a38268c005b72'), '배우순위': '15', '흥행지수': 25422, '출연작': ['정직한 후보'], '다른 이름': '송정식', '직업': '배우', '생년월일': '1983-12-11', '성별': '남', '홈페이지': 'https://www.instagram.com/ojw1211/', '신장/체중': '180cm, 68kg', '학교': '서울예술대학 방송연예 (재학)', '취미': '춤, 노래, 수영, 킥복싱', '배우이름': '온주완'}\n",
      "{'_id': ObjectId('5e8869c8155a38268c005b73'), '배우순위': '16', '흥행지수': 22934, '출연작': ['사랑하고 있습니까'], '다른 이름': '방성훈', '직업': '배우', '생년월일': '1983-02-14', '성별': '남', '홈페이지': 'https://twitter.com/bbangsh83\\nhttps://www.instagram.com/sunghoon1983/', '신장/체중': '184cm, 74kg', '학교': '용인대학교 사회체육학과', '소속사': '스탤리온', '배우이름': '성훈'}\n",
      "{'_id': ObjectId('5e8869c8155a38268c005b74'), '배우순위': '17', '흥행지수': 21328, '출연작': ['정직한 후보', '백두산'], '직업': '배우', '생년월일': '1973-05-13', '성별': '남', '배우이름': '조한철'}\n",
      "{'_id': ObjectId('5e8869c8155a38268c005b75'), '배우순위': '18', '흥행지수': 21318, '출연작': ['찬실이는 복도 많지'], '다른 이름': '강수혜', '직업': '배우', '생년월일': '1979-00-00', '성별': '여', '배우이름': '강말금'}\n",
      "{'_id': ObjectId('5e8869c8155a38268c005b76'), '배우순위': '19', '흥행지수': 19331, '출연작': ['지푸라기라도 잡고 싶은 짐승들'], '직업': '배우', '생년월일': '1980-09-05', '성별': '남', '배우이름': '박지환'}\n",
      "{'_id': ObjectId('5e8869c8155a38268c005b77'), '배우순위': '20', '흥행지수': 16950, '출연작': ['정직한 후보'], '직업': '배우', '생년월일': '1967-06-20', '성별': '남', '배우이름': '손종학'}\n",
      "{'_id': ObjectId('5e8869c8155a38268c005b78'), '배우순위': '21', '흥행지수': 12888, '출연작': ['지푸라기라도 잡고 싶은 짐승들'], '직업': '배우', '생년월일': '1983-03-29', '성별': '남', '배우이름': '김준한'}\n",
      "{'_id': ObjectId('5e8869c8155a38268c005b79'), '배우순위': '22', '흥행지수': 12788, '출연작': ['찬실이는 복도 많지'], '직업': '배우', '생년월일': '1971-11-05', '성별': '남', '홈페이지': 'http://twitter.com/koractor\\nhttp://instagram.com/youngmin_vitamin', '배우이름': '김영민'}\n",
      "{'_id': ObjectId('5e8869c8155a38268c005b7a'), '배우순위': '23', '흥행지수': 12711, '출연작': ['정직한 후보'], '직업': '배우', '생년월일': '1991-01-21', '성별': '여', '홈페이지': 'https://instagram.com/soohyang15/', '배우이름': '조수향'}\n",
      "{'_id': ObjectId('5e8869c8155a38268c005b7b'), '배우순위': '24', '흥행지수': 11466, '출연작': ['사랑하고 있습니까'], '직업': '배우', '생년월일': '1989-09-06', '성별': '여', '홈페이지': 'https://twitter.com/kimso_\\nhttps://www.facebook.com/ft.kseun\\nhttps://instagram.com/socun89/', '신장/체중': '163cm', '학교': '중앙대학교 연극영화 (재학)', '배우이름': '김소은'}\n"
     ]
    }
   ],
   "source": [
    "docs = actors_db.find({'흥행지수':{'$gte':10000}}).skip(3)\n",
    "for doc in docs:\n",
    "    print(doc)"
   ]
  },
  {
   "cell_type": "code",
   "execution_count": 27,
   "metadata": {},
   "outputs": [
    {
     "name": "stdout",
     "output_type": "stream",
     "text": [
      "{'_id': ObjectId('5e8869c8155a38268c005b64'), '배우순위': '1', '흥행지수': 70877, '출연작': ['지푸라기라도 잡고 싶은 짐승들'], '다른 이름': 'Jeon Do Youn', '직업': '배우', '생년월일': '1973-02-11', '성별': '여', '신장/체중': '165cm, 45kg', '학교': '서울예술대학 방송연예', '취미': '음악듣기, 영화감상', '특기': '수상스키, 포켓볼', '소속사': '노아엔터테인먼트', '배우이름': '전도연'}\n",
      "{'_id': ObjectId('5e8869c8155a38268c005b65'), '배우순위': '2', '흥행지수': 68603, '출연작': ['지푸라기라도 잡고 싶은 짐승들', '찬실이는 복도 많지'], '원어명': '윤여정', '직업': '배우', '생년월일': '1947-06-19', '성별': '여', '학교': '한양대학교 국문학 (중퇴)', '배우이름': '윤여정'}\n",
      "{'_id': ObjectId('5e8869c8155a38268c005b66'), '배우순위': '3', '흥행지수': 64632, '출연작': ['지푸라기라도 잡고 싶은 짐승들', '비트'], '직업': '배우', '생년월일': '1973-03-20', '성별': '남', '홈페이지': 'https://www.instagram.com/tojws/\\nhttps://www.facebook.com/officialjws', '신장/체중': '186cm, 79kg', '학교': '경기상업고등학교 중퇴', '취미': '비디오 감상，드라이브', '특기': '농구，수영', '소속사': '(주)토러스 필름', '배우이름': '정우성'}\n"
     ]
    }
   ],
   "source": [
    "docs = actors_db.find({'흥행지수':{'$gte':10000}}).limit(3)\n",
    "for doc in docs:\n",
    "    print(doc)"
   ]
  },
  {
   "cell_type": "code",
   "execution_count": 28,
   "metadata": {
    "scrolled": true
   },
   "outputs": [
    {
     "name": "stdout",
     "output_type": "stream",
     "text": [
      "{'_id': ObjectId('5e8869c8155a38268c005b67'), '배우순위': '4', '흥행지수': 57989, '출연작': ['지푸라기라도 잡고 싶은 짐승들'], '직업': '배우', '생년월일': '1972-11-21', '성별': '남', '신장/체중': '177cm, 72kg', '배우이름': '배성우'}\n",
      "{'_id': ObjectId('5e8869c8155a38268c005b68'), '배우순위': '5', '흥행지수': 50847, '출연작': ['정직한 후보'], '직업': '배우', '생년월일': '1975-03-06', '성별': '여', '홈페이지': 'https://www.facebook.com/cjesmiran', '배우이름': '라미란'}\n",
      "{'_id': ObjectId('5e8869c8155a38268c005b69'), '배우순위': '6', '흥행지수': 46607, '출연작': ['정직한 후보'], '직업': '배우', '생년월일': '1982-05-22', '성별': '남', '홈페이지': 'https://twitter.com/k_moo', '배우이름': '김무열'}\n",
      "{'_id': ObjectId('5e8869c8155a38268c005b6a'), '배우순위': '7', '흥행지수': 45207, '출연작': ['지푸라기라도 잡고 싶은 짐승들', '부당거래', '창궐'], '직업': '배우', '성별': '남', '배우이름': '정만식'}\n",
      "{'_id': ObjectId('5e8869c8155a38268c005b6b'), '배우순위': '8', '흥행지수': 42372, '출연작': ['정직한 후보'], '직업': '배우', '생년월일': '1941-11-30', '성별': '여', '홈페이지': 'http://www.namuni.kr/', '학교': '창덕여자고등학교', '배우이름': '나문희'}\n"
     ]
    }
   ],
   "source": [
    "docs = actors_db.find({'흥행지수':{'$gte':10000}}).skip(3).limit(5)\n",
    "for doc in docs:\n",
    "    print(doc)"
   ]
  },
  {
   "cell_type": "code",
   "execution_count": 29,
   "metadata": {},
   "outputs": [
    {
     "name": "stdout",
     "output_type": "stream",
     "text": [
      "{'_id': ObjectId('5e8869c8155a38268c005bce'), '배우순위': '107', '흥행지수': 536, '출연작': ['불한당: 나쁜 놈들의 세상', '극한직업'], '직업': '배우', '생년월일': '1977-09-13', '성별': '남', '배우이름': '진선규'}\n",
      "{'_id': ObjectId('5e8869c8155a38268c005bec'), '배우순위': '137', '흥행지수': 310, '출연작': ['시동', '극한직업'], '직업': '배우', '생년월일': '1964-11-30', '성별': '남', '홈페이지': 'https://www.instagram.com/alrun85/\\nhttps://www.facebook.com/profile.php?id=100001721292638', '배우이름': '김종수'}\n"
     ]
    }
   ],
   "source": [
    "docs = actors_db.find({'출연작':'극한직업'})\n",
    "for doc in docs:\n",
    "    print(doc)"
   ]
  },
  {
   "cell_type": "code",
   "execution_count": 32,
   "metadata": {},
   "outputs": [
    {
     "name": "stdout",
     "output_type": "stream",
     "text": [
      "{'_id': ObjectId('5e8869c8155a38268c005b64'), '배우순위': '1', '흥행지수': 70877, '출연작': ['지푸라기라도 잡고 싶은 짐승들'], '다른 이름': 'Jeon Do Youn', '직업': '배우', '생년월일': '1973-02-11', '성별': '여', '신장/체중': '165cm, 45kg', '학교': '서울예술대학 방송연예', '취미': '음악듣기, 영화감상', '특기': '수상스키, 포켓볼', '소속사': '노아엔터테인먼트', '배우이름': '전도연'}\n",
      "{'_id': ObjectId('5e8869c8155a38268c005b65'), '배우순위': '2', '흥행지수': 68603, '출연작': ['지푸라기라도 잡고 싶은 짐승들', '찬실이는 복도 많지'], '원어명': '윤여정', '직업': '배우', '생년월일': '1947-06-19', '성별': '여', '학교': '한양대학교 국문학 (중퇴)', '배우이름': '윤여정'}\n",
      "{'_id': ObjectId('5e8869c8155a38268c005b66'), '배우순위': '3', '흥행지수': 64632, '출연작': ['지푸라기라도 잡고 싶은 짐승들', '비트'], '직업': '배우', '생년월일': '1973-03-20', '성별': '남', '홈페이지': 'https://www.instagram.com/tojws/\\nhttps://www.facebook.com/officialjws', '신장/체중': '186cm, 79kg', '학교': '경기상업고등학교 중퇴', '취미': '비디오 감상，드라이브', '특기': '농구，수영', '소속사': '(주)토러스 필름', '배우이름': '정우성'}\n",
      "{'_id': ObjectId('5e8869c8155a38268c005b67'), '배우순위': '4', '흥행지수': 57989, '출연작': ['지푸라기라도 잡고 싶은 짐승들'], '직업': '배우', '생년월일': '1972-11-21', '성별': '남', '신장/체중': '177cm, 72kg', '배우이름': '배성우'}\n",
      "{'_id': ObjectId('5e8869c8155a38268c005b68'), '배우순위': '5', '흥행지수': 50847, '출연작': ['정직한 후보'], '직업': '배우', '생년월일': '1975-03-06', '성별': '여', '홈페이지': 'https://www.facebook.com/cjesmiran', '배우이름': '라미란'}\n",
      "{'_id': ObjectId('5e8869c8155a38268c005b69'), '배우순위': '6', '흥행지수': 46607, '출연작': ['정직한 후보'], '직업': '배우', '생년월일': '1982-05-22', '성별': '남', '홈페이지': 'https://twitter.com/k_moo', '배우이름': '김무열'}\n",
      "{'_id': ObjectId('5e8869c8155a38268c005b6a'), '배우순위': '7', '흥행지수': 45207, '출연작': ['지푸라기라도 잡고 싶은 짐승들', '부당거래', '창궐'], '직업': '배우', '성별': '남', '배우이름': '정만식'}\n",
      "{'_id': ObjectId('5e8869c8155a38268c005b6b'), '배우순위': '8', '흥행지수': 42372, '출연작': ['정직한 후보'], '직업': '배우', '생년월일': '1941-11-30', '성별': '여', '홈페이지': 'http://www.namuni.kr/', '학교': '창덕여자고등학교', '배우이름': '나문희'}\n",
      "{'_id': ObjectId('5e8869c8155a38268c005b6c'), '배우순위': '9', '흥행지수': 40142, '출연작': ['지푸라기라도 잡고 싶은 짐승들', '클로젯'], '직업': '배우', '생년월일': '1986-04-10', '성별': '여', '홈페이지': 'https://instagram.com/hyunbeenshin', '신장/체중': '168cm, 45kg', '학교': '한국예술종합대학교 미술사이론학', '소속사': '제롬 엔터테인먼트', '배우이름': '신현빈'}\n",
      "{'_id': ObjectId('5e8869c8155a38268c005b6d'), '배우순위': '10', '흥행지수': 38349, '출연작': ['정직한 후보', '시동'], '직업': '배우', '생년월일': '1980-07-05', '성별': '남', '배우이름': '윤경호'}\n",
      "{'_id': ObjectId('5e8869c8155a38268c005b6e'), '배우순위': '11', '흥행지수': 33897, '출연작': ['정직한 후보'], '직업': '배우', '성별': '남', '홈페이지': 'http://www.vlive.tv/channels/D5353F', '배우이름': '장동주'}\n",
      "{'_id': ObjectId('5e8869c8155a38268c005b6f'), '배우순위': '12', '흥행지수': 32216, '출연작': ['지푸라기라도 잡고 싶은 짐승들'], '직업': '배우', '생년월일': '1993-02-23', '성별': '남', '홈페이지': 'http://www.vlive.tv/channels/EBE269', '배우이름': '정가람'}\n",
      "{'_id': ObjectId('5e8869c8155a38268c005b70'), '배우순위': '13', '흥행지수': 29661, '출연작': ['정직한 후보'], '다른 이름': '宋永彰', '직업': '배우', '생년월일': '1958-04-02', '성별': '남', '학교': '중앙대학교대학원 연극영화학', '취미': '볼링, 비디오감상', '배우이름': '송영창'}\n",
      "{'_id': ObjectId('5e8869c8155a38268c005b71'), '배우순위': '14', '흥행지수': 25773, '출연작': ['지푸라기라도 잡고 싶은 짐승들'], '직업': '배우', '생년월일': '1972-03-27', '성별': '여', '배우이름': '진경'}\n",
      "{'_id': ObjectId('5e8869c8155a38268c005b72'), '배우순위': '15', '흥행지수': 25422, '출연작': ['정직한 후보'], '다른 이름': '송정식', '직업': '배우', '생년월일': '1983-12-11', '성별': '남', '홈페이지': 'https://www.instagram.com/ojw1211/', '신장/체중': '180cm, 68kg', '학교': '서울예술대학 방송연예 (재학)', '취미': '춤, 노래, 수영, 킥복싱', '배우이름': '온주완'}\n",
      "{'_id': ObjectId('5e8869c8155a38268c005b74'), '배우순위': '17', '흥행지수': 21328, '출연작': ['정직한 후보', '백두산'], '직업': '배우', '생년월일': '1973-05-13', '성별': '남', '배우이름': '조한철'}\n",
      "{'_id': ObjectId('5e8869c8155a38268c005b76'), '배우순위': '19', '흥행지수': 19331, '출연작': ['지푸라기라도 잡고 싶은 짐승들'], '직업': '배우', '생년월일': '1980-09-05', '성별': '남', '배우이름': '박지환'}\n",
      "{'_id': ObjectId('5e8869c8155a38268c005b77'), '배우순위': '20', '흥행지수': 16950, '출연작': ['정직한 후보'], '직업': '배우', '생년월일': '1967-06-20', '성별': '남', '배우이름': '손종학'}\n",
      "{'_id': ObjectId('5e8869c8155a38268c005b78'), '배우순위': '21', '흥행지수': 12888, '출연작': ['지푸라기라도 잡고 싶은 짐승들'], '직업': '배우', '생년월일': '1983-03-29', '성별': '남', '배우이름': '김준한'}\n",
      "{'_id': ObjectId('5e8869c8155a38268c005b7a'), '배우순위': '23', '흥행지수': 12711, '출연작': ['정직한 후보'], '직업': '배우', '생년월일': '1991-01-21', '성별': '여', '홈페이지': 'https://instagram.com/soohyang15/', '배우이름': '조수향'}\n",
      "{'_id': ObjectId('5e8869c8155a38268c005b7d'), '배우순위': '26', '흥행지수': 8472, '출연작': ['정직한 후보'], '직업': '배우', '생년월일': '1978-01-02', '성별': '여', '홈페이지': 'https://www.instagram.com/loveyoonsea/', '신장/체중': '165cm, 45kg', '학교': '용인대학교', '배우이름': '윤세아'}\n",
      "{'_id': ObjectId('5e8869c8155a38268c005b7e'), '배우순위': '27', '흥행지수': 6549, '출연작': ['지푸라기라도 잡고 싶은 짐승들', '히트맨'], '직업': '배우', '생년월일': '1980-06-09', '성별': '남', '배우이름': '허동원'}\n",
      "{'_id': ObjectId('5e8869c8155a38268c005b83'), '배우순위': '32', '흥행지수': 4236, '출연작': ['정직한 후보'], '직업': '배우', '생년월일': '1940-03-03', '성별': '여', '배우이름': '김용림'}\n"
     ]
    }
   ],
   "source": [
    "docs = actors_db.find({'$or':[{'출연작':'지푸라기라도 잡고 싶은 짐승들'}, {'출연작':'정직한 후보'}]})\n",
    "for doc in docs:\n",
    "    print(doc)"
   ]
  },
  {
   "cell_type": "code",
   "execution_count": 35,
   "metadata": {},
   "outputs": [
    {
     "name": "stdout",
     "output_type": "stream",
     "text": [
      "{'_id': ObjectId('5e8869c8155a38268c005b74'), '배우순위': '17', '흥행지수': 21328, '출연작': ['정직한 후보', '백두산'], '직업': '배우', '생년월일': '1973-05-13', '성별': '남', '배우이름': '조한철'}\n"
     ]
    }
   ],
   "source": [
    "docs = actors_db.find({'출연작':{'$all':['백두산','정직한 후보']}})\n",
    "for doc in docs:\n",
    "    print(doc)"
   ]
  },
  {
   "cell_type": "code",
   "execution_count": 36,
   "metadata": {},
   "outputs": [
    {
     "name": "stdout",
     "output_type": "stream",
     "text": [
      "{'_id': ObjectId('5e8869c8155a38268c005b68'), '배우순위': '5', '흥행지수': 50847, '출연작': ['정직한 후보'], '직업': '배우', '생년월일': '1975-03-06', '성별': '여', '홈페이지': 'https://www.facebook.com/cjesmiran', '배우이름': '라미란'}\n",
      "{'_id': ObjectId('5e8869c8155a38268c005b69'), '배우순위': '6', '흥행지수': 46607, '출연작': ['정직한 후보'], '직업': '배우', '생년월일': '1982-05-22', '성별': '남', '홈페이지': 'https://twitter.com/k_moo', '배우이름': '김무열'}\n",
      "{'_id': ObjectId('5e8869c8155a38268c005b6b'), '배우순위': '8', '흥행지수': 42372, '출연작': ['정직한 후보'], '직업': '배우', '생년월일': '1941-11-30', '성별': '여', '홈페이지': 'http://www.namuni.kr/', '학교': '창덕여자고등학교', '배우이름': '나문희'}\n",
      "{'_id': ObjectId('5e8869c8155a38268c005b6d'), '배우순위': '10', '흥행지수': 38349, '출연작': ['정직한 후보', '시동'], '직업': '배우', '생년월일': '1980-07-05', '성별': '남', '배우이름': '윤경호'}\n",
      "{'_id': ObjectId('5e8869c8155a38268c005b6e'), '배우순위': '11', '흥행지수': 33897, '출연작': ['정직한 후보'], '직업': '배우', '성별': '남', '홈페이지': 'http://www.vlive.tv/channels/D5353F', '배우이름': '장동주'}\n",
      "{'_id': ObjectId('5e8869c8155a38268c005b70'), '배우순위': '13', '흥행지수': 29661, '출연작': ['정직한 후보'], '다른 이름': '宋永彰', '직업': '배우', '생년월일': '1958-04-02', '성별': '남', '학교': '중앙대학교대학원 연극영화학', '취미': '볼링, 비디오감상', '배우이름': '송영창'}\n",
      "{'_id': ObjectId('5e8869c8155a38268c005b72'), '배우순위': '15', '흥행지수': 25422, '출연작': ['정직한 후보'], '다른 이름': '송정식', '직업': '배우', '생년월일': '1983-12-11', '성별': '남', '홈페이지': 'https://www.instagram.com/ojw1211/', '신장/체중': '180cm, 68kg', '학교': '서울예술대학 방송연예 (재학)', '취미': '춤, 노래, 수영, 킥복싱', '배우이름': '온주완'}\n",
      "{'_id': ObjectId('5e8869c8155a38268c005b74'), '배우순위': '17', '흥행지수': 21328, '출연작': ['정직한 후보', '백두산'], '직업': '배우', '생년월일': '1973-05-13', '성별': '남', '배우이름': '조한철'}\n",
      "{'_id': ObjectId('5e8869c8155a38268c005b77'), '배우순위': '20', '흥행지수': 16950, '출연작': ['정직한 후보'], '직업': '배우', '생년월일': '1967-06-20', '성별': '남', '배우이름': '손종학'}\n",
      "{'_id': ObjectId('5e8869c8155a38268c005b7a'), '배우순위': '23', '흥행지수': 12711, '출연작': ['정직한 후보'], '직업': '배우', '생년월일': '1991-01-21', '성별': '여', '홈페이지': 'https://instagram.com/soohyang15/', '배우이름': '조수향'}\n",
      "{'_id': ObjectId('5e8869c8155a38268c005b7d'), '배우순위': '26', '흥행지수': 8472, '출연작': ['정직한 후보'], '직업': '배우', '생년월일': '1978-01-02', '성별': '여', '홈페이지': 'https://www.instagram.com/loveyoonsea/', '신장/체중': '165cm, 45kg', '학교': '용인대학교', '배우이름': '윤세아'}\n",
      "{'_id': ObjectId('5e8869c8155a38268c005b83'), '배우순위': '32', '흥행지수': 4236, '출연작': ['정직한 후보'], '직업': '배우', '생년월일': '1940-03-03', '성별': '여', '배우이름': '김용림'}\n"
     ]
    }
   ],
   "source": [
    "docs = actors_db.find({'출연작.0':'정직한 후보'})\n",
    "for doc in docs:\n",
    "    print(doc)"
   ]
  },
  {
   "cell_type": "code",
   "execution_count": 37,
   "metadata": {},
   "outputs": [
    {
     "name": "stdout",
     "output_type": "stream",
     "text": [
      "{'_id': ObjectId('5e8869c8155a38268c005b6a'), '배우순위': '7', '흥행지수': 45207, '출연작': ['지푸라기라도 잡고 싶은 짐승들', '부당거래', '창궐'], '직업': '배우', '성별': '남', '배우이름': '정만식'}\n",
      "{'_id': ObjectId('5e8869c8155a38268c005b8a'), '배우순위': '39', '흥행지수': 2478, '출연작': ['용길이네 곱창집', '기생충', '미스터 주: 사라진 VIP'], '직업': '배우', '생년월일': '1970-01-23', '성별': '여', '학교': '한양대학교', '배우이름': '이정은'}\n",
      "{'_id': ObjectId('5e8869c8155a38268c005bd5'), '배우순위': '114', '흥행지수': 490, '출연작': ['눈의 여왕4', '극장판 미니특공대: 공룡왕 디노', '극장판 원피스 스탬피드'], '직업': '성우', '성별': '남', '배우이름': '남도형'}\n",
      "{'_id': ObjectId('5e8869c8155a38268c005bd6'), '배우순위': '115', '흥행지수': 477, '출연작': ['남산의 부장들', '부당거래', '미스터 주: 사라진 VIP'], '직업': '배우', '생년월일': '1968-10-15', '성별': '남', '신장/체중': '178cm', '배우이름': '이성민'}\n"
     ]
    }
   ],
   "source": [
    "docs = actors_db.find({'출연작':{'$size':3}})\n",
    "for doc in docs:\n",
    "    print(doc)"
   ]
  },
  {
   "cell_type": "code",
   "execution_count": 38,
   "metadata": {},
   "outputs": [],
   "source": [
    "conn = pymongo.MongoClient()\n",
    "cine21 = conn.cine21\n",
    "elematch_sample = cine21.sample"
   ]
  },
  {
   "cell_type": "code",
   "execution_count": 39,
   "metadata": {},
   "outputs": [
    {
     "data": {
      "text/plain": [
       "<pymongo.results.InsertManyResult at 0x28274a6d908>"
      ]
     },
     "execution_count": 39,
     "metadata": {},
     "output_type": "execute_result"
    }
   ],
   "source": [
    "elematch_sample.insert_many([\n",
    "    {'result':[88,75,91]},\n",
    "    {'result':[82,85,89]}\n",
    "])"
   ]
  },
  {
   "cell_type": "code",
   "execution_count": 42,
   "metadata": {},
   "outputs": [
    {
     "name": "stdout",
     "output_type": "stream",
     "text": [
      "{'_id': ObjectId('5e89b88540acd094bec5c26b'), 'result': [88, 75, 91]}\n",
      "{'_id': ObjectId('5e89b88540acd094bec5c26c'), 'result': [82, 85, 89]}\n"
     ]
    }
   ],
   "source": [
    "docs = elematch_sample.find({'result':{'$elemMatch':{'$gte':88, '$lte':89}}})\n",
    "for doc in docs:\n",
    "    print(doc)"
   ]
  },
  {
   "cell_type": "code",
   "execution_count": null,
   "metadata": {},
   "outputs": [],
   "source": []
  },
  {
   "cell_type": "code",
   "execution_count": null,
   "metadata": {},
   "outputs": [],
   "source": []
  },
  {
   "cell_type": "code",
   "execution_count": null,
   "metadata": {},
   "outputs": [],
   "source": []
  },
  {
   "cell_type": "code",
   "execution_count": null,
   "metadata": {},
   "outputs": [],
   "source": []
  },
  {
   "cell_type": "code",
   "execution_count": null,
   "metadata": {},
   "outputs": [],
   "source": []
  },
  {
   "cell_type": "code",
   "execution_count": null,
   "metadata": {},
   "outputs": [],
   "source": []
  },
  {
   "cell_type": "code",
   "execution_count": null,
   "metadata": {},
   "outputs": [],
   "source": []
  },
  {
   "cell_type": "code",
   "execution_count": null,
   "metadata": {},
   "outputs": [],
   "source": []
  },
  {
   "cell_type": "code",
   "execution_count": null,
   "metadata": {},
   "outputs": [],
   "source": []
  },
  {
   "cell_type": "code",
   "execution_count": null,
   "metadata": {},
   "outputs": [],
   "source": []
  },
  {
   "cell_type": "code",
   "execution_count": null,
   "metadata": {},
   "outputs": [],
   "source": []
  },
  {
   "cell_type": "code",
   "execution_count": null,
   "metadata": {},
   "outputs": [],
   "source": []
  },
  {
   "cell_type": "code",
   "execution_count": null,
   "metadata": {},
   "outputs": [],
   "source": []
  },
  {
   "cell_type": "code",
   "execution_count": null,
   "metadata": {},
   "outputs": [],
   "source": []
  },
  {
   "cell_type": "code",
   "execution_count": null,
   "metadata": {},
   "outputs": [],
   "source": []
  },
  {
   "cell_type": "code",
   "execution_count": null,
   "metadata": {},
   "outputs": [],
   "source": []
  },
  {
   "cell_type": "code",
   "execution_count": null,
   "metadata": {},
   "outputs": [],
   "source": []
  },
  {
   "cell_type": "code",
   "execution_count": null,
   "metadata": {},
   "outputs": [],
   "source": []
  },
  {
   "cell_type": "code",
   "execution_count": null,
   "metadata": {},
   "outputs": [],
   "source": []
  },
  {
   "cell_type": "code",
   "execution_count": null,
   "metadata": {},
   "outputs": [],
   "source": []
  },
  {
   "cell_type": "code",
   "execution_count": null,
   "metadata": {},
   "outputs": [],
   "source": []
  },
  {
   "cell_type": "code",
   "execution_count": null,
   "metadata": {},
   "outputs": [],
   "source": []
  },
  {
   "cell_type": "code",
   "execution_count": null,
   "metadata": {},
   "outputs": [],
   "source": []
  },
  {
   "cell_type": "code",
   "execution_count": null,
   "metadata": {},
   "outputs": [],
   "source": []
  },
  {
   "cell_type": "code",
   "execution_count": null,
   "metadata": {},
   "outputs": [],
   "source": []
  },
  {
   "cell_type": "code",
   "execution_count": null,
   "metadata": {},
   "outputs": [],
   "source": []
  },
  {
   "cell_type": "code",
   "execution_count": null,
   "metadata": {},
   "outputs": [],
   "source": []
  },
  {
   "cell_type": "code",
   "execution_count": null,
   "metadata": {},
   "outputs": [],
   "source": []
  },
  {
   "cell_type": "code",
   "execution_count": null,
   "metadata": {},
   "outputs": [],
   "source": []
  },
  {
   "cell_type": "code",
   "execution_count": null,
   "metadata": {},
   "outputs": [],
   "source": []
  }
 ],
 "metadata": {
  "kernelspec": {
   "display_name": "Python 3",
   "language": "python",
   "name": "python3"
  },
  "language_info": {
   "codemirror_mode": {
    "name": "ipython",
    "version": 3
   },
   "file_extension": ".py",
   "mimetype": "text/x-python",
   "name": "python",
   "nbconvert_exporter": "python",
   "pygments_lexer": "ipython3",
   "version": "3.7.3"
  },
  "toc": {
   "base_numbering": 1,
   "nav_menu": {},
   "number_sections": true,
   "sideBar": true,
   "skip_h1_title": false,
   "title_cell": "Table of Contents",
   "title_sidebar": "Contents",
   "toc_cell": false,
   "toc_position": {},
   "toc_section_display": true,
   "toc_window_display": false
  },
  "varInspector": {
   "cols": {
    "lenName": 16,
    "lenType": 16,
    "lenVar": 40
   },
   "kernels_config": {
    "python": {
     "delete_cmd_postfix": "",
     "delete_cmd_prefix": "del ",
     "library": "var_list.py",
     "varRefreshCmd": "print(var_dic_list())"
    },
    "r": {
     "delete_cmd_postfix": ") ",
     "delete_cmd_prefix": "rm(",
     "library": "var_list.r",
     "varRefreshCmd": "cat(var_dic_list()) "
    }
   },
   "types_to_exclude": [
    "module",
    "function",
    "builtin_function_or_method",
    "instance",
    "_Feature"
   ],
   "window_display": false
  }
 },
 "nbformat": 4,
 "nbformat_minor": 4
}

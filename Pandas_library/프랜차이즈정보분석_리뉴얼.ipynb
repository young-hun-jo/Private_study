{
 "cells": [
  {
   "cell_type": "code",
   "execution_count": 7,
   "metadata": {},
   "outputs": [],
   "source": [
    "import pandas as pd\n",
    "import numpy as np\n",
    "import seaborn as sns\n",
    "import matplotlib.pyplot as plt\n",
    "from IPython.display import set_matplotlib_formats"
   ]
  },
  {
   "cell_type": "code",
   "execution_count": 1,
   "metadata": {},
   "outputs": [],
   "source": [
    "# 경고메세지 무시\n",
    "import warnings\n",
    "warnings.filterwarnings(action='ignore')"
   ]
  },
  {
   "cell_type": "code",
   "execution_count": 4,
   "metadata": {},
   "outputs": [
    {
     "data": {
      "text/plain": [
       "(528311, 39)"
      ]
     },
     "execution_count": 4,
     "metadata": {},
     "output_type": "execute_result"
    }
   ],
   "source": [
    "data = pd.read_csv(\"C:/Users/joyh1/Desktop/GitRepo/data/상가업소정보_201912_02.csv\", sep='|')\n",
    "data.shape"
   ]
  },
  {
   "cell_type": "code",
   "execution_count": 21,
   "metadata": {},
   "outputs": [],
   "source": [
    "plt.rc(\"font\",family='Malgun Gothic')\n",
    "plt.rc(\"axes\",unicode_minus=False)\n",
    "set_matplotlib_formats(\"retina\")"
   ]
  },
  {
   "cell_type": "code",
   "execution_count": 22,
   "metadata": {},
   "outputs": [
    {
     "data": {
      "text/plain": [
       "[<matplotlib.lines.Line2D at 0x1b2b2ca0fd0>]"
      ]
     },
     "execution_count": 22,
     "metadata": {},
     "output_type": "execute_result"
    },
    {
     "data": {
      "image/png": "[encoded data removed]",
      "text/plain": [
       "<Figure size 432x288 with 1 Axes>"
      ]
     },
     "metadata": {
      "image/png": {
       "height": 264,
       "width": 365
      },
      "needs_background": "light"
     },
     "output_type": "display_data"
    }
   ],
   "source": [
    "plt.title(\"폰트설정\")\n",
    "plt.plot(a)"
   ]
  },
  {
   "cell_type": "code",
   "execution_count": 23,
   "metadata": {},
   "outputs": [
    {
     "data": {
      "text/plain": [
       "(528311, 39)"
      ]
     },
     "execution_count": 23,
     "metadata": {},
     "output_type": "execute_result"
    }
   ],
   "source": [
    "data.shape"
   ]
  },
  {
   "cell_type": "code",
   "execution_count": 24,
   "metadata": {},
   "outputs": [
    {
     "data": {
      "text/html": [
       "<div>\n",
       "<style scoped>\n",
       "    .dataframe tbody tr th:only-of-type {\n",
       "        vertical-align: middle;\n",
       "    }\n",
       "\n",
       "    .dataframe tbody tr th {\n",
       "        vertical-align: top;\n",
       "    }\n",
       "\n",
       "    .dataframe thead th {\n",
       "        text-align: right;\n",
       "    }\n",
       "</style>\n",
       "<table border=\"1\" class=\"dataframe\">\n",
       "  <thead>\n",
       "    <tr style=\"text-align: right;\">\n",
       "      <th></th>\n",
       "      <th>상가업소번호</th>\n",
       "      <th>상호명</th>\n",
       "      <th>지점명</th>\n",
       "      <th>상권업종대분류코드</th>\n",
       "      <th>상권업종대분류명</th>\n",
       "      <th>상권업종중분류코드</th>\n",
       "      <th>상권업종중분류명</th>\n",
       "      <th>상권업종소분류코드</th>\n",
       "      <th>상권업종소분류명</th>\n",
       "      <th>표준산업분류코드</th>\n",
       "      <th>...</th>\n",
       "      <th>건물관리번호</th>\n",
       "      <th>건물명</th>\n",
       "      <th>도로명주소</th>\n",
       "      <th>구우편번호</th>\n",
       "      <th>신우편번호</th>\n",
       "      <th>동정보</th>\n",
       "      <th>층정보</th>\n",
       "      <th>호정보</th>\n",
       "      <th>경도</th>\n",
       "      <th>위도</th>\n",
       "    </tr>\n",
       "  </thead>\n",
       "  <tbody>\n",
       "    <tr>\n",
       "      <th>0</th>\n",
       "      <td>19917773</td>\n",
       "      <td>대구통닭</td>\n",
       "      <td>통통치킨상인2호점</td>\n",
       "      <td>Q</td>\n",
       "      <td>음식</td>\n",
       "      <td>Q05</td>\n",
       "      <td>닭/오리요리</td>\n",
       "      <td>Q05A08</td>\n",
       "      <td>후라이드/양념치킨</td>\n",
       "      <td>I56193</td>\n",
       "      <td>...</td>\n",
       "      <td>2729011500115310012015585</td>\n",
       "      <td>NaN</td>\n",
       "      <td>대구광역시 달서구 상화북로43길 74</td>\n",
       "      <td>704370.0</td>\n",
       "      <td>42806.0</td>\n",
       "      <td>NaN</td>\n",
       "      <td>1</td>\n",
       "      <td>NaN</td>\n",
       "      <td>128.546040</td>\n",
       "      <td>35.817554</td>\n",
       "    </tr>\n",
       "    <tr>\n",
       "      <th>1</th>\n",
       "      <td>19919475</td>\n",
       "      <td>빵마루</td>\n",
       "      <td>NaN</td>\n",
       "      <td>Q</td>\n",
       "      <td>음식</td>\n",
       "      <td>Q08</td>\n",
       "      <td>제과제빵떡케익</td>\n",
       "      <td>Q08A01</td>\n",
       "      <td>제과점</td>\n",
       "      <td>I56191</td>\n",
       "      <td>...</td>\n",
       "      <td>2726011200107610008006755</td>\n",
       "      <td>녹원아파트</td>\n",
       "      <td>대구광역시 수성구 무학로 187</td>\n",
       "      <td>706090.0</td>\n",
       "      <td>42183.0</td>\n",
       "      <td>NaN</td>\n",
       "      <td>1</td>\n",
       "      <td>NaN</td>\n",
       "      <td>128.628821</td>\n",
       "      <td>35.830867</td>\n",
       "    </tr>\n",
       "  </tbody>\n",
       "</table>\n",
       "<p>2 rows × 39 columns</p>\n",
       "</div>"
      ],
      "text/plain": [
       "     상가업소번호   상호명        지점명 상권업종대분류코드 상권업종대분류명 상권업종중분류코드 상권업종중분류명 상권업종소분류코드  \\\n",
       "0  19917773  대구통닭  통통치킨상인2호점         Q       음식       Q05   닭/오리요리    Q05A08   \n",
       "1  19919475   빵마루        NaN         Q       음식       Q08  제과제빵떡케익    Q08A01   \n",
       "\n",
       "    상권업종소분류명 표준산업분류코드  ...                     건물관리번호    건물명  \\\n",
       "0  후라이드/양념치킨   I56193  ...  2729011500115310012015585    NaN   \n",
       "1        제과점   I56191  ...  2726011200107610008006755  녹원아파트   \n",
       "\n",
       "                  도로명주소     구우편번호    신우편번호  동정보 층정보  호정보          경도  \\\n",
       "0  대구광역시 달서구 상화북로43길 74  704370.0  42806.0  NaN   1  NaN  128.546040   \n",
       "1     대구광역시 수성구 무학로 187  706090.0  42183.0  NaN   1  NaN  128.628821   \n",
       "\n",
       "          위도  \n",
       "0  35.817554  \n",
       "1  35.830867  \n",
       "\n",
       "[2 rows x 39 columns]"
      ]
     },
     "execution_count": 24,
     "metadata": {},
     "output_type": "execute_result"
    }
   ],
   "source": [
    "data.head(2)"
   ]
  },
  {
   "cell_type": "code",
   "execution_count": 25,
   "metadata": {},
   "outputs": [
    {
     "data": {
      "text/plain": [
       "상가업소번호       0.000000\n",
       "상호명          0.000000\n",
       "지점명          0.880434\n",
       "상권업종대분류코드    0.000000\n",
       "상권업종대분류명     0.000000\n",
       "상권업종중분류코드    0.000000\n",
       "상권업종중분류명     0.000000\n",
       "상권업종소분류코드    0.000000\n",
       "상권업종소분류명     0.000000\n",
       "표준산업분류코드     0.060907\n",
       "표준산업분류명      0.060907\n",
       "시도코드         0.000000\n",
       "시도명          0.000000\n",
       "시군구코드        0.000000\n",
       "시군구명         0.000000\n",
       "행정동코드        0.000000\n",
       "행정동명         0.000000\n",
       "법정동코드        0.000000\n",
       "법정동명         0.000000\n",
       "지번코드         0.000000\n",
       "대지구분코드       0.000000\n",
       "대지구분명        0.000000\n",
       "지번본번지        0.000000\n",
       "지번부번지        0.189617\n",
       "지번주소         0.000000\n",
       "도로명코드        0.000000\n",
       "도로명          0.000000\n",
       "건물본번지        0.000000\n",
       "건물부번지        0.839481\n",
       "건물관리번호       0.000000\n",
       "건물명          0.676172\n",
       "도로명주소        0.000000\n",
       "구우편번호        0.000119\n",
       "신우편번호        0.000030\n",
       "동정보          0.900748\n",
       "층정보          0.530909\n",
       "호정보          0.822784\n",
       "경도           0.000000\n",
       "위도           0.000000\n",
       "dtype: float64"
      ]
     },
     "execution_count": 25,
     "metadata": {},
     "output_type": "execute_result"
    }
   ],
   "source": [
    "data.isnull().mean()"
   ]
  },
  {
   "cell_type": "code",
   "execution_count": 43,
   "metadata": {},
   "outputs": [
    {
     "data": {
      "text/plain": [
       "(528311, 11)"
      ]
     },
     "execution_count": 43,
     "metadata": {},
     "output_type": "execute_result"
    }
   ],
   "source": [
    "columns = ['상호명', '상권업종대분류명', '상권업종중분류명', '상권업종소분류명', \n",
    "           '시도명', '시군구명', '행정동명', '법정동명', '도로명주소', '경도', '위도']\n",
    "\n",
    "df = data[columns].copy()\n",
    "df.shape"
   ]
  },
  {
   "cell_type": "code",
   "execution_count": 44,
   "metadata": {},
   "outputs": [
    {
     "data": {
      "text/html": [
       "<div>\n",
       "<style scoped>\n",
       "    .dataframe tbody tr th:only-of-type {\n",
       "        vertical-align: middle;\n",
       "    }\n",
       "\n",
       "    .dataframe tbody tr th {\n",
       "        vertical-align: top;\n",
       "    }\n",
       "\n",
       "    .dataframe thead th {\n",
       "        text-align: right;\n",
       "    }\n",
       "</style>\n",
       "<table border=\"1\" class=\"dataframe\">\n",
       "  <thead>\n",
       "    <tr style=\"text-align: right;\">\n",
       "      <th></th>\n",
       "      <th>상호명</th>\n",
       "      <th>상권업종대분류명</th>\n",
       "      <th>상권업종중분류명</th>\n",
       "      <th>상권업종소분류명</th>\n",
       "      <th>시도명</th>\n",
       "      <th>시군구명</th>\n",
       "      <th>행정동명</th>\n",
       "      <th>법정동명</th>\n",
       "      <th>도로명주소</th>\n",
       "      <th>경도</th>\n",
       "      <th>위도</th>\n",
       "    </tr>\n",
       "  </thead>\n",
       "  <tbody>\n",
       "    <tr>\n",
       "      <th>0</th>\n",
       "      <td>대구통닭</td>\n",
       "      <td>음식</td>\n",
       "      <td>닭/오리요리</td>\n",
       "      <td>후라이드/양념치킨</td>\n",
       "      <td>대구광역시</td>\n",
       "      <td>달서구</td>\n",
       "      <td>상인1동</td>\n",
       "      <td>상인동</td>\n",
       "      <td>대구광역시 달서구 상화북로43길 74</td>\n",
       "      <td>128.54604</td>\n",
       "      <td>35.817554</td>\n",
       "    </tr>\n",
       "  </tbody>\n",
       "</table>\n",
       "</div>"
      ],
      "text/plain": [
       "    상호명 상권업종대분류명 상권업종중분류명   상권업종소분류명    시도명 시군구명  행정동명 법정동명  \\\n",
       "0  대구통닭       음식   닭/오리요리  후라이드/양념치킨  대구광역시  달서구  상인1동  상인동   \n",
       "\n",
       "                  도로명주소         경도         위도  \n",
       "0  대구광역시 달서구 상화북로43길 74  128.54604  35.817554  "
      ]
     },
     "execution_count": 44,
     "metadata": {},
     "output_type": "execute_result"
    }
   ],
   "source": [
    "df.head(1)"
   ]
  },
  {
   "cell_type": "code",
   "execution_count": 57,
   "metadata": {},
   "outputs": [
    {
     "data": {
      "text/html": [
       "<div>\n",
       "<style scoped>\n",
       "    .dataframe tbody tr th:only-of-type {\n",
       "        vertical-align: middle;\n",
       "    }\n",
       "\n",
       "    .dataframe tbody tr th {\n",
       "        vertical-align: top;\n",
       "    }\n",
       "\n",
       "    .dataframe thead th {\n",
       "        text-align: right;\n",
       "    }\n",
       "</style>\n",
       "<table border=\"1\" class=\"dataframe\">\n",
       "  <thead>\n",
       "    <tr style=\"text-align: right;\">\n",
       "      <th></th>\n",
       "      <th>상호명</th>\n",
       "      <th>상권업종대분류명</th>\n",
       "      <th>상권업종중분류명</th>\n",
       "      <th>상권업종소분류명</th>\n",
       "      <th>시도명</th>\n",
       "      <th>시군구명</th>\n",
       "      <th>행정동명</th>\n",
       "      <th>법정동명</th>\n",
       "      <th>도로명주소</th>\n",
       "      <th>경도</th>\n",
       "      <th>위도</th>\n",
       "    </tr>\n",
       "  </thead>\n",
       "  <tbody>\n",
       "    <tr>\n",
       "      <th>22</th>\n",
       "      <td>한미푸드</td>\n",
       "      <td>소매</td>\n",
       "      <td>음/식료품소매</td>\n",
       "      <td>식자재판매</td>\n",
       "      <td>대전광역시</td>\n",
       "      <td>중구</td>\n",
       "      <td>대흥동</td>\n",
       "      <td>대흥동</td>\n",
       "      <td>대전광역시 중구 대흥로28번길 47</td>\n",
       "      <td>127.419096</td>\n",
       "      <td>36.323250</td>\n",
       "    </tr>\n",
       "    <tr>\n",
       "      <th>23</th>\n",
       "      <td>산봉냉면</td>\n",
       "      <td>음식</td>\n",
       "      <td>한식</td>\n",
       "      <td>냉면집</td>\n",
       "      <td>대전광역시</td>\n",
       "      <td>서구</td>\n",
       "      <td>둔산2동</td>\n",
       "      <td>둔산동</td>\n",
       "      <td>대전광역시 서구 대덕대로 211</td>\n",
       "      <td>127.378173</td>\n",
       "      <td>36.351866</td>\n",
       "    </tr>\n",
       "  </tbody>\n",
       "</table>\n",
       "</div>"
      ],
      "text/plain": [
       "     상호명 상권업종대분류명 상권업종중분류명 상권업종소분류명    시도명 시군구명  행정동명 법정동명  \\\n",
       "22  한미푸드       소매  음/식료품소매    식자재판매  대전광역시   중구   대흥동  대흥동   \n",
       "23  산봉냉면       음식       한식      냉면집  대전광역시   서구  둔산2동  둔산동   \n",
       "\n",
       "                  도로명주소          경도         위도  \n",
       "22  대전광역시 중구 대흥로28번길 47  127.419096  36.323250  \n",
       "23    대전광역시 서구 대덕대로 211  127.378173  36.351866  "
      ]
     },
     "execution_count": 57,
     "metadata": {},
     "output_type": "execute_result"
    }
   ],
   "source": [
    "df_daejeon = df[df['시도명'] == '대전광역시'].copy()\n",
    "df_daejeon.head(2)"
   ]
  },
  {
   "cell_type": "code",
   "execution_count": 35,
   "metadata": {},
   "outputs": [
    {
     "data": {
      "text/plain": [
       "5"
      ]
     },
     "execution_count": 35,
     "metadata": {},
     "output_type": "execute_result"
    }
   ],
   "source": [
    "df_daejeon['시군구명'].nunique()"
   ]
  },
  {
   "cell_type": "code",
   "execution_count": 36,
   "metadata": {},
   "outputs": [
    {
     "data": {
      "text/plain": [
       "(91229, 11)"
      ]
     },
     "execution_count": 36,
     "metadata": {},
     "output_type": "execute_result"
    }
   ],
   "source": [
    "df_daejeon.shape"
   ]
  },
  {
   "cell_type": "code",
   "execution_count": 37,
   "metadata": {},
   "outputs": [],
   "source": [
    "df_daejeon.to_csv(\"daejeon.csv\", index=False)"
   ]
  },
  {
   "cell_type": "code",
   "execution_count": 38,
   "metadata": {},
   "outputs": [
    {
     "data": {
      "text/html": [
       "<div>\n",
       "<style scoped>\n",
       "    .dataframe tbody tr th:only-of-type {\n",
       "        vertical-align: middle;\n",
       "    }\n",
       "\n",
       "    .dataframe tbody tr th {\n",
       "        vertical-align: top;\n",
       "    }\n",
       "\n",
       "    .dataframe thead th {\n",
       "        text-align: right;\n",
       "    }\n",
       "</style>\n",
       "<table border=\"1\" class=\"dataframe\">\n",
       "  <thead>\n",
       "    <tr style=\"text-align: right;\">\n",
       "      <th></th>\n",
       "      <th>상호명</th>\n",
       "      <th>상권업종대분류명</th>\n",
       "      <th>상권업종중분류명</th>\n",
       "      <th>상권업종소분류명</th>\n",
       "      <th>시도명</th>\n",
       "      <th>시군구명</th>\n",
       "      <th>행정동명</th>\n",
       "      <th>법정동명</th>\n",
       "      <th>도로명주소</th>\n",
       "      <th>경도</th>\n",
       "      <th>위도</th>\n",
       "    </tr>\n",
       "  </thead>\n",
       "  <tbody>\n",
       "    <tr>\n",
       "      <th>0</th>\n",
       "      <td>한미푸드</td>\n",
       "      <td>소매</td>\n",
       "      <td>음/식료품소매</td>\n",
       "      <td>식자재판매</td>\n",
       "      <td>대전광역시</td>\n",
       "      <td>중구</td>\n",
       "      <td>대흥동</td>\n",
       "      <td>대흥동</td>\n",
       "      <td>대전광역시 중구 대흥로28번길 47</td>\n",
       "      <td>127.419096</td>\n",
       "      <td>36.323250</td>\n",
       "    </tr>\n",
       "    <tr>\n",
       "      <th>1</th>\n",
       "      <td>산봉냉면</td>\n",
       "      <td>음식</td>\n",
       "      <td>한식</td>\n",
       "      <td>냉면집</td>\n",
       "      <td>대전광역시</td>\n",
       "      <td>서구</td>\n",
       "      <td>둔산2동</td>\n",
       "      <td>둔산동</td>\n",
       "      <td>대전광역시 서구 대덕대로 211</td>\n",
       "      <td>127.378173</td>\n",
       "      <td>36.351866</td>\n",
       "    </tr>\n",
       "    <tr>\n",
       "      <th>2</th>\n",
       "      <td>돌다리식당</td>\n",
       "      <td>음식</td>\n",
       "      <td>한식</td>\n",
       "      <td>한식/백반/한정식</td>\n",
       "      <td>대전광역시</td>\n",
       "      <td>중구</td>\n",
       "      <td>석교동</td>\n",
       "      <td>석교동</td>\n",
       "      <td>대전광역시 중구 대종로 234-17</td>\n",
       "      <td>127.442208</td>\n",
       "      <td>36.310580</td>\n",
       "    </tr>\n",
       "    <tr>\n",
       "      <th>3</th>\n",
       "      <td>또래오래</td>\n",
       "      <td>음식</td>\n",
       "      <td>닭/오리요리</td>\n",
       "      <td>후라이드/양념치킨</td>\n",
       "      <td>대전광역시</td>\n",
       "      <td>중구</td>\n",
       "      <td>태평1동</td>\n",
       "      <td>태평동</td>\n",
       "      <td>대전광역시 중구 수침로55번길 37</td>\n",
       "      <td>127.398644</td>\n",
       "      <td>36.325212</td>\n",
       "    </tr>\n",
       "    <tr>\n",
       "      <th>4</th>\n",
       "      <td>무지개횟집</td>\n",
       "      <td>음식</td>\n",
       "      <td>일식/수산물</td>\n",
       "      <td>횟집</td>\n",
       "      <td>대전광역시</td>\n",
       "      <td>서구</td>\n",
       "      <td>정림동</td>\n",
       "      <td>정림동</td>\n",
       "      <td>대전광역시 서구 정림동로7번길 22</td>\n",
       "      <td>127.366426</td>\n",
       "      <td>36.305534</td>\n",
       "    </tr>\n",
       "    <tr>\n",
       "      <th>...</th>\n",
       "      <td>...</td>\n",
       "      <td>...</td>\n",
       "      <td>...</td>\n",
       "      <td>...</td>\n",
       "      <td>...</td>\n",
       "      <td>...</td>\n",
       "      <td>...</td>\n",
       "      <td>...</td>\n",
       "      <td>...</td>\n",
       "      <td>...</td>\n",
       "      <td>...</td>\n",
       "    </tr>\n",
       "    <tr>\n",
       "      <th>91224</th>\n",
       "      <td>신천농산</td>\n",
       "      <td>소매</td>\n",
       "      <td>음/식료품소매</td>\n",
       "      <td>청과물소매</td>\n",
       "      <td>대전광역시</td>\n",
       "      <td>중구</td>\n",
       "      <td>목동</td>\n",
       "      <td>목동</td>\n",
       "      <td>대전광역시 중구 목동로 37</td>\n",
       "      <td>127.405574</td>\n",
       "      <td>36.335179</td>\n",
       "    </tr>\n",
       "    <tr>\n",
       "      <th>91225</th>\n",
       "      <td>청석골칡냉면장터국밥</td>\n",
       "      <td>음식</td>\n",
       "      <td>한식</td>\n",
       "      <td>냉면집</td>\n",
       "      <td>대전광역시</td>\n",
       "      <td>서구</td>\n",
       "      <td>도마2동</td>\n",
       "      <td>도마동</td>\n",
       "      <td>대전광역시 서구 사마7길 5</td>\n",
       "      <td>127.373907</td>\n",
       "      <td>36.316839</td>\n",
       "    </tr>\n",
       "    <tr>\n",
       "      <th>91226</th>\n",
       "      <td>세이광고기획</td>\n",
       "      <td>생활서비스</td>\n",
       "      <td>광고/인쇄</td>\n",
       "      <td>광고물제작-종합</td>\n",
       "      <td>대전광역시</td>\n",
       "      <td>대덕구</td>\n",
       "      <td>덕암동</td>\n",
       "      <td>덕암동</td>\n",
       "      <td>대전광역시 대덕구 덕암로249번길 28</td>\n",
       "      <td>127.422767</td>\n",
       "      <td>36.442971</td>\n",
       "    </tr>\n",
       "    <tr>\n",
       "      <th>91227</th>\n",
       "      <td>광닭발</td>\n",
       "      <td>음식</td>\n",
       "      <td>닭/오리요리</td>\n",
       "      <td>닭내장/닭발요리</td>\n",
       "      <td>대전광역시</td>\n",
       "      <td>유성구</td>\n",
       "      <td>노은3동</td>\n",
       "      <td>지족동</td>\n",
       "      <td>대전광역시 유성구 지족북로13번길 14-20</td>\n",
       "      <td>127.301451</td>\n",
       "      <td>36.386969</td>\n",
       "    </tr>\n",
       "    <tr>\n",
       "      <th>91228</th>\n",
       "      <td>하얀기쁨</td>\n",
       "      <td>생활서비스</td>\n",
       "      <td>세탁/가사서비스</td>\n",
       "      <td>세탁소/빨래방</td>\n",
       "      <td>대전광역시</td>\n",
       "      <td>유성구</td>\n",
       "      <td>관평동</td>\n",
       "      <td>관평동</td>\n",
       "      <td>대전광역시 유성구 관평1로 15</td>\n",
       "      <td>127.387018</td>\n",
       "      <td>36.425895</td>\n",
       "    </tr>\n",
       "  </tbody>\n",
       "</table>\n",
       "<p>91229 rows × 11 columns</p>\n",
       "</div>"
      ],
      "text/plain": [
       "              상호명 상권업종대분류명  상권업종중분류명   상권업종소분류명    시도명 시군구명  행정동명 법정동명  \\\n",
       "0            한미푸드       소매   음/식료품소매      식자재판매  대전광역시   중구   대흥동  대흥동   \n",
       "1            산봉냉면       음식        한식        냉면집  대전광역시   서구  둔산2동  둔산동   \n",
       "2           돌다리식당       음식        한식  한식/백반/한정식  대전광역시   중구   석교동  석교동   \n",
       "3            또래오래       음식    닭/오리요리  후라이드/양념치킨  대전광역시   중구  태평1동  태평동   \n",
       "4           무지개횟집       음식    일식/수산물         횟집  대전광역시   서구   정림동  정림동   \n",
       "...           ...      ...       ...        ...    ...  ...   ...  ...   \n",
       "91224        신천농산       소매   음/식료품소매      청과물소매  대전광역시   중구    목동   목동   \n",
       "91225  청석골칡냉면장터국밥       음식        한식        냉면집  대전광역시   서구  도마2동  도마동   \n",
       "91226      세이광고기획    생활서비스     광고/인쇄   광고물제작-종합  대전광역시  대덕구   덕암동  덕암동   \n",
       "91227         광닭발       음식    닭/오리요리   닭내장/닭발요리  대전광역시  유성구  노은3동  지족동   \n",
       "91228        하얀기쁨    생활서비스  세탁/가사서비스    세탁소/빨래방  대전광역시  유성구   관평동  관평동   \n",
       "\n",
       "                          도로명주소          경도         위도  \n",
       "0           대전광역시 중구 대흥로28번길 47  127.419096  36.323250  \n",
       "1             대전광역시 서구 대덕대로 211  127.378173  36.351866  \n",
       "2           대전광역시 중구 대종로 234-17  127.442208  36.310580  \n",
       "3           대전광역시 중구 수침로55번길 37  127.398644  36.325212  \n",
       "4           대전광역시 서구 정림동로7번길 22  127.366426  36.305534  \n",
       "...                         ...         ...        ...  \n",
       "91224           대전광역시 중구 목동로 37  127.405574  36.335179  \n",
       "91225           대전광역시 서구 사마7길 5  127.373907  36.316839  \n",
       "91226     대전광역시 대덕구 덕암로249번길 28  127.422767  36.442971  \n",
       "91227  대전광역시 유성구 지족북로13번길 14-20  127.301451  36.386969  \n",
       "91228         대전광역시 유성구 관평1로 15  127.387018  36.425895  \n",
       "\n",
       "[91229 rows x 11 columns]"
      ]
     },
     "execution_count": 38,
     "metadata": {},
     "output_type": "execute_result"
    }
   ],
   "source": [
    "pd.read_csv(\"daejeon.csv\")"
   ]
  },
  {
   "cell_type": "code",
   "execution_count": 58,
   "metadata": {},
   "outputs": [],
   "source": [
    "df_daejeon['상호명_소문자'] = df_daejeon['상호명'].str.lower()"
   ]
  },
  {
   "cell_type": "code",
   "execution_count": 47,
   "metadata": {},
   "outputs": [
    {
     "data": {
      "text/html": [
       "<div>\n",
       "<style scoped>\n",
       "    .dataframe tbody tr th:only-of-type {\n",
       "        vertical-align: middle;\n",
       "    }\n",
       "\n",
       "    .dataframe tbody tr th {\n",
       "        vertical-align: top;\n",
       "    }\n",
       "\n",
       "    .dataframe thead th {\n",
       "        text-align: right;\n",
       "    }\n",
       "</style>\n",
       "<table border=\"1\" class=\"dataframe\">\n",
       "  <thead>\n",
       "    <tr style=\"text-align: right;\">\n",
       "      <th></th>\n",
       "      <th>상호명</th>\n",
       "      <th>상권업종대분류명</th>\n",
       "      <th>상권업종중분류명</th>\n",
       "      <th>상권업종소분류명</th>\n",
       "      <th>시도명</th>\n",
       "      <th>시군구명</th>\n",
       "      <th>행정동명</th>\n",
       "      <th>법정동명</th>\n",
       "      <th>도로명주소</th>\n",
       "      <th>경도</th>\n",
       "      <th>위도</th>\n",
       "      <th>상호명_소문자</th>\n",
       "    </tr>\n",
       "  </thead>\n",
       "  <tbody>\n",
       "    <tr>\n",
       "      <th>22</th>\n",
       "      <td>한미푸드</td>\n",
       "      <td>소매</td>\n",
       "      <td>음/식료품소매</td>\n",
       "      <td>식자재판매</td>\n",
       "      <td>대전광역시</td>\n",
       "      <td>중구</td>\n",
       "      <td>대흥동</td>\n",
       "      <td>대흥동</td>\n",
       "      <td>대전광역시 중구 대흥로28번길 47</td>\n",
       "      <td>127.419096</td>\n",
       "      <td>36.323250</td>\n",
       "      <td>한미푸드</td>\n",
       "    </tr>\n",
       "    <tr>\n",
       "      <th>23</th>\n",
       "      <td>산봉냉면</td>\n",
       "      <td>음식</td>\n",
       "      <td>한식</td>\n",
       "      <td>냉면집</td>\n",
       "      <td>대전광역시</td>\n",
       "      <td>서구</td>\n",
       "      <td>둔산2동</td>\n",
       "      <td>둔산동</td>\n",
       "      <td>대전광역시 서구 대덕대로 211</td>\n",
       "      <td>127.378173</td>\n",
       "      <td>36.351866</td>\n",
       "      <td>산봉냉면</td>\n",
       "    </tr>\n",
       "  </tbody>\n",
       "</table>\n",
       "</div>"
      ],
      "text/plain": [
       "     상호명 상권업종대분류명 상권업종중분류명 상권업종소분류명    시도명 시군구명  행정동명 법정동명  \\\n",
       "22  한미푸드       소매  음/식료품소매    식자재판매  대전광역시   중구   대흥동  대흥동   \n",
       "23  산봉냉면       음식       한식      냉면집  대전광역시   서구  둔산2동  둔산동   \n",
       "\n",
       "                  도로명주소          경도         위도 상호명_소문자  \n",
       "22  대전광역시 중구 대흥로28번길 47  127.419096  36.323250    한미푸드  \n",
       "23    대전광역시 서구 대덕대로 211  127.378173  36.351866    산봉냉면  "
      ]
     },
     "execution_count": 47,
     "metadata": {},
     "output_type": "execute_result"
    }
   ],
   "source": [
    "df_daejeon.head(2)"
   ]
  },
  {
   "cell_type": "code",
   "execution_count": 53,
   "metadata": {},
   "outputs": [],
   "source": [
    "df_daejeon.loc[df_daejeon['상호명_소문자'].str.contains(\"배스킨|베스킨|31|baskin\"), '브랜드명'] = '배스킨라빈스'"
   ]
  },
  {
   "cell_type": "code",
   "execution_count": 56,
   "metadata": {},
   "outputs": [],
   "source": [
    "df_daejeon.loc[df_daejeon['상호명_소문자'].str.contains(\"던킨|dunkin|던킨도너츠\"), '브랜드명'] = '던킨도너츠'"
   ]
  },
  {
   "cell_type": "code",
   "execution_count": 60,
   "metadata": {},
   "outputs": [
    {
     "data": {
      "text/plain": [
       "(112, 12)"
      ]
     },
     "execution_count": 60,
     "metadata": {},
     "output_type": "execute_result"
    }
   ],
   "source": [
    "df_31 = df_daejeon[df_daejeon['상호명_소문자'].str.contains(\"배스킨|베스킨|baskin|던킨|dunkin\")].copy()\n",
    "df_31.shape"
   ]
  },
  {
   "cell_type": "code",
   "execution_count": 61,
   "metadata": {},
   "outputs": [
    {
     "data": {
      "text/html": [
       "<div>\n",
       "<style scoped>\n",
       "    .dataframe tbody tr th:only-of-type {\n",
       "        vertical-align: middle;\n",
       "    }\n",
       "\n",
       "    .dataframe tbody tr th {\n",
       "        vertical-align: top;\n",
       "    }\n",
       "\n",
       "    .dataframe thead th {\n",
       "        text-align: right;\n",
       "    }\n",
       "</style>\n",
       "<table border=\"1\" class=\"dataframe\">\n",
       "  <thead>\n",
       "    <tr style=\"text-align: right;\">\n",
       "      <th></th>\n",
       "      <th>상호명</th>\n",
       "      <th>상권업종대분류명</th>\n",
       "      <th>상권업종중분류명</th>\n",
       "      <th>상권업종소분류명</th>\n",
       "      <th>시도명</th>\n",
       "      <th>시군구명</th>\n",
       "      <th>행정동명</th>\n",
       "      <th>법정동명</th>\n",
       "      <th>도로명주소</th>\n",
       "      <th>경도</th>\n",
       "      <th>위도</th>\n",
       "      <th>상호명_소문자</th>\n",
       "      <th>브랜드명</th>\n",
       "    </tr>\n",
       "  </thead>\n",
       "  <tbody>\n",
       "    <tr>\n",
       "      <th>2310</th>\n",
       "      <td>배스킨라빈스31</td>\n",
       "      <td>음식</td>\n",
       "      <td>패스트푸드</td>\n",
       "      <td>아이스크림판매</td>\n",
       "      <td>대전광역시</td>\n",
       "      <td>서구</td>\n",
       "      <td>가수원동</td>\n",
       "      <td>도안동</td>\n",
       "      <td>대전광역시 서구 도안북로93번길 7</td>\n",
       "      <td>127.338602</td>\n",
       "      <td>36.330366</td>\n",
       "      <td>배스킨라빈스31</td>\n",
       "      <td>배스킨라빈스</td>\n",
       "    </tr>\n",
       "    <tr>\n",
       "      <th>28199</th>\n",
       "      <td>베스킨라벤스</td>\n",
       "      <td>음식</td>\n",
       "      <td>패스트푸드</td>\n",
       "      <td>아이스크림판매</td>\n",
       "      <td>대전광역시</td>\n",
       "      <td>중구</td>\n",
       "      <td>문화1동</td>\n",
       "      <td>문화동</td>\n",
       "      <td>대전광역시 중구 계백로 1700</td>\n",
       "      <td>127.408803</td>\n",
       "      <td>36.320631</td>\n",
       "      <td>베스킨라벤스</td>\n",
       "      <td>배스킨라빈스</td>\n",
       "    </tr>\n",
       "    <tr>\n",
       "      <th>29237</th>\n",
       "      <td>대전역3층던킨도너츠점</td>\n",
       "      <td>음식</td>\n",
       "      <td>패스트푸드</td>\n",
       "      <td>도너츠전문</td>\n",
       "      <td>대전광역시</td>\n",
       "      <td>동구</td>\n",
       "      <td>중앙동</td>\n",
       "      <td>정동</td>\n",
       "      <td>대전광역시 동구 중앙로 215</td>\n",
       "      <td>127.432113</td>\n",
       "      <td>36.334398</td>\n",
       "      <td>대전역3층던킨도너츠점</td>\n",
       "      <td>NaN</td>\n",
       "    </tr>\n",
       "    <tr>\n",
       "      <th>41262</th>\n",
       "      <td>베스킨라빈스</td>\n",
       "      <td>음식</td>\n",
       "      <td>패스트푸드</td>\n",
       "      <td>아이스크림판매</td>\n",
       "      <td>대전광역시</td>\n",
       "      <td>서구</td>\n",
       "      <td>탄방동</td>\n",
       "      <td>탄방동</td>\n",
       "      <td>대전광역시 서구 문정로 96</td>\n",
       "      <td>127.389914</td>\n",
       "      <td>36.346429</td>\n",
       "      <td>베스킨라빈스</td>\n",
       "      <td>배스킨라빈스</td>\n",
       "    </tr>\n",
       "    <tr>\n",
       "      <th>58892</th>\n",
       "      <td>베스킨라빈스</td>\n",
       "      <td>음식</td>\n",
       "      <td>패스트푸드</td>\n",
       "      <td>아이스크림판매</td>\n",
       "      <td>대전광역시</td>\n",
       "      <td>유성구</td>\n",
       "      <td>신성동</td>\n",
       "      <td>신성동</td>\n",
       "      <td>대전광역시 유성구 신성남로 45</td>\n",
       "      <td>127.350008</td>\n",
       "      <td>36.386630</td>\n",
       "      <td>베스킨라빈스</td>\n",
       "      <td>배스킨라빈스</td>\n",
       "    </tr>\n",
       "  </tbody>\n",
       "</table>\n",
       "</div>"
      ],
      "text/plain": [
       "               상호명 상권업종대분류명 상권업종중분류명 상권업종소분류명    시도명 시군구명  행정동명 법정동명  \\\n",
       "2310      배스킨라빈스31       음식    패스트푸드  아이스크림판매  대전광역시   서구  가수원동  도안동   \n",
       "28199       베스킨라벤스       음식    패스트푸드  아이스크림판매  대전광역시   중구  문화1동  문화동   \n",
       "29237  대전역3층던킨도너츠점       음식    패스트푸드    도너츠전문  대전광역시   동구   중앙동   정동   \n",
       "41262       베스킨라빈스       음식    패스트푸드  아이스크림판매  대전광역시   서구   탄방동  탄방동   \n",
       "58892       베스킨라빈스       음식    패스트푸드  아이스크림판매  대전광역시  유성구   신성동  신성동   \n",
       "\n",
       "                     도로명주소          경도         위도      상호명_소문자    브랜드명  \n",
       "2310   대전광역시 서구 도안북로93번길 7  127.338602  36.330366     배스킨라빈스31  배스킨라빈스  \n",
       "28199    대전광역시 중구 계백로 1700  127.408803  36.320631       베스킨라벤스  배스킨라빈스  \n",
       "29237     대전광역시 동구 중앙로 215  127.432113  36.334398  대전역3층던킨도너츠점     NaN  \n",
       "41262      대전광역시 서구 문정로 96  127.389914  36.346429       베스킨라빈스  배스킨라빈스  \n",
       "58892    대전광역시 유성구 신성남로 45  127.350008  36.386630       베스킨라빈스  배스킨라빈스  "
      ]
     },
     "execution_count": 61,
     "metadata": {},
     "output_type": "execute_result"
    }
   ],
   "source": [
    "df_31.loc[df_31['상호명_소문자'].str.contains(\"배스킨|베스킨|31|baskin\"), '브랜드명'] = '배스킨라빈스'\n",
    "df_31.head()"
   ]
  },
  {
   "cell_type": "code",
   "execution_count": 62,
   "metadata": {},
   "outputs": [
    {
     "data": {
      "text/html": [
       "<div>\n",
       "<style scoped>\n",
       "    .dataframe tbody tr th:only-of-type {\n",
       "        vertical-align: middle;\n",
       "    }\n",
       "\n",
       "    .dataframe tbody tr th {\n",
       "        vertical-align: top;\n",
       "    }\n",
       "\n",
       "    .dataframe thead th {\n",
       "        text-align: right;\n",
       "    }\n",
       "</style>\n",
       "<table border=\"1\" class=\"dataframe\">\n",
       "  <thead>\n",
       "    <tr style=\"text-align: right;\">\n",
       "      <th></th>\n",
       "      <th>상호명</th>\n",
       "      <th>상권업종대분류명</th>\n",
       "      <th>상권업종중분류명</th>\n",
       "      <th>상권업종소분류명</th>\n",
       "      <th>시도명</th>\n",
       "      <th>시군구명</th>\n",
       "      <th>행정동명</th>\n",
       "      <th>법정동명</th>\n",
       "      <th>도로명주소</th>\n",
       "      <th>경도</th>\n",
       "      <th>위도</th>\n",
       "      <th>상호명_소문자</th>\n",
       "      <th>브랜드명</th>\n",
       "    </tr>\n",
       "  </thead>\n",
       "  <tbody>\n",
       "    <tr>\n",
       "      <th>2310</th>\n",
       "      <td>배스킨라빈스31</td>\n",
       "      <td>음식</td>\n",
       "      <td>패스트푸드</td>\n",
       "      <td>아이스크림판매</td>\n",
       "      <td>대전광역시</td>\n",
       "      <td>서구</td>\n",
       "      <td>가수원동</td>\n",
       "      <td>도안동</td>\n",
       "      <td>대전광역시 서구 도안북로93번길 7</td>\n",
       "      <td>127.338602</td>\n",
       "      <td>36.330366</td>\n",
       "      <td>배스킨라빈스31</td>\n",
       "      <td>배스킨라빈스</td>\n",
       "    </tr>\n",
       "    <tr>\n",
       "      <th>28199</th>\n",
       "      <td>베스킨라벤스</td>\n",
       "      <td>음식</td>\n",
       "      <td>패스트푸드</td>\n",
       "      <td>아이스크림판매</td>\n",
       "      <td>대전광역시</td>\n",
       "      <td>중구</td>\n",
       "      <td>문화1동</td>\n",
       "      <td>문화동</td>\n",
       "      <td>대전광역시 중구 계백로 1700</td>\n",
       "      <td>127.408803</td>\n",
       "      <td>36.320631</td>\n",
       "      <td>베스킨라벤스</td>\n",
       "      <td>배스킨라빈스</td>\n",
       "    </tr>\n",
       "    <tr>\n",
       "      <th>29237</th>\n",
       "      <td>대전역3층던킨도너츠점</td>\n",
       "      <td>음식</td>\n",
       "      <td>패스트푸드</td>\n",
       "      <td>도너츠전문</td>\n",
       "      <td>대전광역시</td>\n",
       "      <td>동구</td>\n",
       "      <td>중앙동</td>\n",
       "      <td>정동</td>\n",
       "      <td>대전광역시 동구 중앙로 215</td>\n",
       "      <td>127.432113</td>\n",
       "      <td>36.334398</td>\n",
       "      <td>대전역3층던킨도너츠점</td>\n",
       "      <td>던킨도너츠</td>\n",
       "    </tr>\n",
       "    <tr>\n",
       "      <th>41262</th>\n",
       "      <td>베스킨라빈스</td>\n",
       "      <td>음식</td>\n",
       "      <td>패스트푸드</td>\n",
       "      <td>아이스크림판매</td>\n",
       "      <td>대전광역시</td>\n",
       "      <td>서구</td>\n",
       "      <td>탄방동</td>\n",
       "      <td>탄방동</td>\n",
       "      <td>대전광역시 서구 문정로 96</td>\n",
       "      <td>127.389914</td>\n",
       "      <td>36.346429</td>\n",
       "      <td>베스킨라빈스</td>\n",
       "      <td>배스킨라빈스</td>\n",
       "    </tr>\n",
       "    <tr>\n",
       "      <th>58892</th>\n",
       "      <td>베스킨라빈스</td>\n",
       "      <td>음식</td>\n",
       "      <td>패스트푸드</td>\n",
       "      <td>아이스크림판매</td>\n",
       "      <td>대전광역시</td>\n",
       "      <td>유성구</td>\n",
       "      <td>신성동</td>\n",
       "      <td>신성동</td>\n",
       "      <td>대전광역시 유성구 신성남로 45</td>\n",
       "      <td>127.350008</td>\n",
       "      <td>36.386630</td>\n",
       "      <td>베스킨라빈스</td>\n",
       "      <td>배스킨라빈스</td>\n",
       "    </tr>\n",
       "  </tbody>\n",
       "</table>\n",
       "</div>"
      ],
      "text/plain": [
       "               상호명 상권업종대분류명 상권업종중분류명 상권업종소분류명    시도명 시군구명  행정동명 법정동명  \\\n",
       "2310      배스킨라빈스31       음식    패스트푸드  아이스크림판매  대전광역시   서구  가수원동  도안동   \n",
       "28199       베스킨라벤스       음식    패스트푸드  아이스크림판매  대전광역시   중구  문화1동  문화동   \n",
       "29237  대전역3층던킨도너츠점       음식    패스트푸드    도너츠전문  대전광역시   동구   중앙동   정동   \n",
       "41262       베스킨라빈스       음식    패스트푸드  아이스크림판매  대전광역시   서구   탄방동  탄방동   \n",
       "58892       베스킨라빈스       음식    패스트푸드  아이스크림판매  대전광역시  유성구   신성동  신성동   \n",
       "\n",
       "                     도로명주소          경도         위도      상호명_소문자    브랜드명  \n",
       "2310   대전광역시 서구 도안북로93번길 7  127.338602  36.330366     배스킨라빈스31  배스킨라빈스  \n",
       "28199    대전광역시 중구 계백로 1700  127.408803  36.320631       베스킨라벤스  배스킨라빈스  \n",
       "29237     대전광역시 동구 중앙로 215  127.432113  36.334398  대전역3층던킨도너츠점   던킨도너츠  \n",
       "41262      대전광역시 서구 문정로 96  127.389914  36.346429       베스킨라빈스  배스킨라빈스  \n",
       "58892    대전광역시 유성구 신성남로 45  127.350008  36.386630       베스킨라빈스  배스킨라빈스  "
      ]
     },
     "execution_count": 62,
     "metadata": {},
     "output_type": "execute_result"
    }
   ],
   "source": [
    "df_31.loc[~df_31['상호명_소문자'].str.contains(\"배스킨|베스킨|31|baskin\"), '브랜드명'] = '던킨도너츠'\n",
    "df_31.head()"
   ]
  },
  {
   "cell_type": "code",
   "execution_count": 73,
   "metadata": {},
   "outputs": [
    {
     "data": {
      "text/plain": [
       "음식    112\n",
       "Name: 상권업종대분류명, dtype: int64"
      ]
     },
     "execution_count": 73,
     "metadata": {},
     "output_type": "execute_result"
    }
   ],
   "source": [
    "df_31['상권업종대분류명'].value_counts().copy()\n"
   ]
  },
  {
   "cell_type": "markdown",
   "metadata": {},
   "source": [
    "`` *countplot은 자체적으로 값을 count해주기 떄문에 x축 한개 변수만 넣어주면 된다! ``"
   ]
  },
  {
   "cell_type": "code",
   "execution_count": 74,
   "metadata": {},
   "outputs": [
    {
     "data": {
      "text/plain": [
       "배스킨라빈스    85\n",
       "던킨도너츠     27\n",
       "Name: 브랜드명, dtype: int64"
      ]
     },
     "execution_count": 74,
     "metadata": {},
     "output_type": "execute_result"
    }
   ],
   "source": [
    "brand_count =df_31['브랜드명'].value_counts().copy()\n",
    "brand_count"
   ]
  },
  {
   "cell_type": "code",
   "execution_count": 65,
   "metadata": {},
   "outputs": [
    {
     "data": {
      "text/plain": [
       "배스킨라빈스    0.758929\n",
       "던킨도너츠     0.241071\n",
       "Name: 브랜드명, dtype: float64"
      ]
     },
     "execution_count": 65,
     "metadata": {},
     "output_type": "execute_result"
    }
   ],
   "source": [
    "df_31['브랜드명'].value_counts(normalize=True)"
   ]
  },
  {
   "cell_type": "code",
   "execution_count": 76,
   "metadata": {
    "scrolled": true
   },
   "outputs": [
    {
     "data": {
      "image/png": "[encoded data removed]",
      "text/plain": [
       "<Figure size 432x288 with 1 Axes>"
      ]
     },
     "metadata": {
      "image/png": {
       "height": 263,
       "width": 381
      },
      "needs_background": "light"
     },
     "output_type": "display_data"
    }
   ],
   "source": [
    "g = sns.countplot(data=df_31, x='브랜드명')\n",
    "for i, val in enumerate(brand_count.index):\n",
    "    g.text(x=i, y=brand_count[i], s=brand_count[i])"
   ]
  },
  {
   "cell_type": "code",
   "execution_count": 86,
   "metadata": {},
   "outputs": [
    {
     "data": {
      "text/plain": [
       "서구     40\n",
       "유성구    27\n",
       "중구     18\n",
       "동구     18\n",
       "대덕구     9\n",
       "Name: 시군구명, dtype: int64"
      ]
     },
     "execution_count": 86,
     "metadata": {},
     "output_type": "execute_result"
    }
   ],
   "source": [
    "brand_count = df_31['시군구명'].value_counts().copy()\n",
    "brand_count"
   ]
  },
  {
   "cell_type": "code",
   "execution_count": 91,
   "metadata": {},
   "outputs": [
    {
     "data": {
      "image/png": "[encoded data removed]",
      "text/plain": [
       "<Figure size 432x288 with 1 Axes>"
      ]
     },
     "metadata": {
      "image/png": {
       "height": 263,
       "width": 381
      },
      "needs_background": "light"
     },
     "output_type": "display_data"
    }
   ],
   "source": [
    "sns.countplot(data=df_31, x='시군구명', hue='브랜드명')\n",
    "\n"
   ]
  },
  {
   "cell_type": "code",
   "execution_count": 95,
   "metadata": {},
   "outputs": [
    {
     "data": {
      "text/plain": [
       "<matplotlib.axes._subplots.AxesSubplot at 0x1b2caf43780>"
      ]
     },
     "execution_count": 95,
     "metadata": {},
     "output_type": "execute_result"
    },
    {
     "data": {
      "image/png": "[encoded data removed]",
      "text/plain": [
       "<Figure size 432x288 with 1 Axes>"
      ]
     },
     "metadata": {
      "image/png": {
       "height": 263,
       "width": 400
      },
      "needs_background": "light"
     },
     "output_type": "display_data"
    }
   ],
   "source": [
    "df_31[['위도','경도']].plot.scatter(x='경도',y='위도')"
   ]
  },
  {
   "cell_type": "code",
   "execution_count": 96,
   "metadata": {},
   "outputs": [
    {
     "data": {
      "text/plain": [
       "<matplotlib.axes._subplots.AxesSubplot at 0x1b2caf2d9e8>"
      ]
     },
     "execution_count": 96,
     "metadata": {},
     "output_type": "execute_result"
    },
    {
     "data": {
      "image/png": "[encoded data removed]",
      "text/plain": [
       "<Figure size 432x288 with 1 Axes>"
      ]
     },
     "metadata": {
      "image/png": {
       "height": 263,
       "width": 415
      },
      "needs_background": "light"
     },
     "output_type": "display_data"
    }
   ],
   "source": [
    "sns.scatterplot(data=df_31, x='경도', y='위도', hue='브랜드명')"
   ]
  },
  {
   "cell_type": "code",
   "execution_count": 99,
   "metadata": {},
   "outputs": [
    {
     "data": {
      "text/plain": [
       "<seaborn.axisgrid.JointGrid at 0x1b2cfdaa710>"
      ]
     },
     "execution_count": 99,
     "metadata": {},
     "output_type": "execute_result"
    },
    {
     "data": {
      "image/png": "[encoded data removed]",
      "text/plain": [
       "<Figure size 432x432 with 3 Axes>"
      ]
     },
     "metadata": {
      "image/png": {
       "height": 427,
       "width": 436
      },
      "needs_background": "light"
     },
     "output_type": "display_data"
    }
   ],
   "source": [
    "sns.jointplot(data=df_31, x='경도', y='위도', kind='hex', color='red')"
   ]
  },
  {
   "cell_type": "code",
   "execution_count": null,
   "metadata": {},
   "outputs": [],
   "source": []
  }
 ],
 "metadata": {
  "kernelspec": {
   "display_name": "Python 3",
   "language": "python",
   "name": "python3"
  },
  "language_info": {
   "codemirror_mode": {
    "name": "ipython",
    "version": 3
   },
   "file_extension": ".py",
   "mimetype": "text/x-python",
   "name": "python",
   "nbconvert_exporter": "python",
   "pygments_lexer": "ipython3",
   "version": "3.7.3"
  },
  "toc": {
   "base_numbering": 1,
   "nav_menu": {},
   "number_sections": true,
   "sideBar": true,
   "skip_h1_title": false,
   "title_cell": "Table of Contents",
   "title_sidebar": "Contents",
   "toc_cell": false,
   "toc_position": {},
   "toc_section_display": true,
   "toc_window_display": false
  },
  "varInspector": {
   "cols": {
    "lenName": 16,
    "lenType": 16,
    "lenVar": 40
   },
   "kernels_config": {
    "python": {
     "delete_cmd_postfix": "",
     "delete_cmd_prefix": "del ",
     "library": "var_list.py",
     "varRefreshCmd": "print(var_dic_list())"
    },
    "r": {
     "delete_cmd_postfix": ") ",
     "delete_cmd_prefix": "rm(",
     "library": "var_list.r",
     "varRefreshCmd": "cat(var_dic_list()) "
    }
   },
   "types_to_exclude": [
    "module",
    "function",
    "builtin_function_or_method",
    "instance",
    "_Feature"
   ],
   "window_display": false
  }
 },
 "nbformat": 4,
 "nbformat_minor": 4
}

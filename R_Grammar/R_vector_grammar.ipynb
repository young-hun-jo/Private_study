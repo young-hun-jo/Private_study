{
 "cells": [
  {
   "cell_type": "markdown",
   "metadata": {},
   "source": [
    "# Basic grammar of R programming"
   ]
  },
  {
   "cell_type": "code",
   "execution_count": 1,
   "metadata": {},
   "outputs": [],
   "source": [
    "# R에 내장되어 있는 데이터 리스트 보기\n",
    "data()"
   ]
  },
  {
   "cell_type": "code",
   "execution_count": 2,
   "metadata": {},
   "outputs": [
    {
     "data": {
      "text/html": [
       "<ol class=list-inline>\n",
       "\t<li>'Sepal.Length'</li>\n",
       "\t<li>'Sepal.Width'</li>\n",
       "\t<li>'Petal.Length'</li>\n",
       "\t<li>'Petal.Width'</li>\n",
       "\t<li>'Species'</li>\n",
       "</ol>\n"
      ],
      "text/latex": [
       "\\begin{enumerate*}\n",
       "\\item 'Sepal.Length'\n",
       "\\item 'Sepal.Width'\n",
       "\\item 'Petal.Length'\n",
       "\\item 'Petal.Width'\n",
       "\\item 'Species'\n",
       "\\end{enumerate*}\n"
      ],
      "text/markdown": [
       "1. 'Sepal.Length'\n",
       "2. 'Sepal.Width'\n",
       "3. 'Petal.Length'\n",
       "4. 'Petal.Width'\n",
       "5. 'Species'\n",
       "\n",
       "\n"
      ],
      "text/plain": [
       "[1] \"Sepal.Length\" \"Sepal.Width\"  \"Petal.Length\" \"Petal.Width\"  \"Species\"     "
      ]
     },
     "metadata": {},
     "output_type": "display_data"
    }
   ],
   "source": [
    "# 변수명 보기\n",
    "names(iris)"
   ]
  },
  {
   "cell_type": "code",
   "execution_count": 3,
   "metadata": {},
   "outputs": [
    {
     "name": "stdout",
     "output_type": "stream",
     "text": [
      "[1] \"hello R\"\n"
     ]
    }
   ],
   "source": [
    "# 데이터 출력\n",
    "print('hello R')"
   ]
  },
  {
   "cell_type": "code",
   "execution_count": 4,
   "metadata": {},
   "outputs": [
    {
     "data": {
      "text/html": [
       "<table>\n",
       "<thead><tr><th scope=col>Sepal.Length</th><th scope=col>Sepal.Width</th><th scope=col>Petal.Length</th><th scope=col>Petal.Width</th><th scope=col>Species</th></tr></thead>\n",
       "<tbody>\n",
       "\t<tr><td>5.1   </td><td>3.5   </td><td>1.4   </td><td>0.2   </td><td>setosa</td></tr>\n",
       "\t<tr><td>4.9   </td><td>3.0   </td><td>1.4   </td><td>0.2   </td><td>setosa</td></tr>\n",
       "\t<tr><td>4.7   </td><td>3.2   </td><td>1.3   </td><td>0.2   </td><td>setosa</td></tr>\n",
       "</tbody>\n",
       "</table>\n"
      ],
      "text/latex": [
       "\\begin{tabular}{r|lllll}\n",
       " Sepal.Length & Sepal.Width & Petal.Length & Petal.Width & Species\\\\\n",
       "\\hline\n",
       "\t 5.1    & 3.5    & 1.4    & 0.2    & setosa\\\\\n",
       "\t 4.9    & 3.0    & 1.4    & 0.2    & setosa\\\\\n",
       "\t 4.7    & 3.2    & 1.3    & 0.2    & setosa\\\\\n",
       "\\end{tabular}\n"
      ],
      "text/markdown": [
       "\n",
       "| Sepal.Length | Sepal.Width | Petal.Length | Petal.Width | Species |\n",
       "|---|---|---|---|---|\n",
       "| 5.1    | 3.5    | 1.4    | 0.2    | setosa |\n",
       "| 4.9    | 3.0    | 1.4    | 0.2    | setosa |\n",
       "| 4.7    | 3.2    | 1.3    | 0.2    | setosa |\n",
       "\n"
      ],
      "text/plain": [
       "  Sepal.Length Sepal.Width Petal.Length Petal.Width Species\n",
       "1 5.1          3.5         1.4          0.2         setosa \n",
       "2 4.9          3.0         1.4          0.2         setosa \n",
       "3 4.7          3.2         1.3          0.2         setosa "
      ]
     },
     "metadata": {},
     "output_type": "display_data"
    }
   ],
   "source": [
    "# head, tail 미리보기의 default 값은 10\n",
    "# 특정 갯수만 보고싶다면..\n",
    "head(iris, n=3)"
   ]
  },
  {
   "cell_type": "code",
   "execution_count": 5,
   "metadata": {},
   "outputs": [],
   "source": [
    "# help(함수이름), ?함수이름, ?'함수이름' => 도움말호출\n",
    "help(seq)\n",
    "\n",
    "# 특정함수에 대한 예시볼 때\n",
    "example(seq)"
   ]
  },
  {
   "cell_type": "code",
   "execution_count": null,
   "metadata": {},
   "outputs": [],
   "source": [
    "# 디렉토리지정\n",
    "setwd(\"dircetory_path\")\n",
    "# 지정된 디렉토리 확인\n",
    "getwd()"
   ]
  },
  {
   "cell_type": "code",
   "execution_count": 7,
   "metadata": {},
   "outputs": [
    {
     "name": "stdout",
     "output_type": "stream",
     "text": [
      "[1] 3\n",
      "[1] \"a\"\n",
      "[1] 3.141593\n",
      "[1] 3.14\n",
      "[1] 1\n"
     ]
    },
    {
     "name": "stderr",
     "output_type": "stream",
     "text": [
      "Warning message in print.default(\"a\", \"b\"):\n",
      "\"강제형변환에 의해 생성된 NA 입니다\""
     ]
    },
    {
     "ename": "ERROR",
     "evalue": "Error in print.default(\"a\", \"b\"): 'digits' 인자가 잘못되었습니다\n",
     "output_type": "error",
     "traceback": [
      "Error in print.default(\"a\", \"b\"): 'digits' 인자가 잘못되었습니다\nTraceback:\n",
      "1. print(\"a\", \"b\")",
      "2. print.default(\"a\", \"b\")"
     ]
    }
   ],
   "source": [
    "print(1+2)\n",
    "print('a')\n",
    "print(pi)\n",
    "        # 출력할 자릿수 설정\n",
    "print(pi, digits=3)\n",
    "\n",
    "# 1만 출력됨\n",
    "print(1,2) \n",
    "\n",
    "# error 발생\n",
    "print('a','b')"
   ]
  },
  {
   "cell_type": "code",
   "execution_count": 8,
   "metadata": {},
   "outputs": [
    {
     "name": "stdout",
     "output_type": "stream",
     "text": [
      "1 가 a 24 \n",
      " :"
     ]
    }
   ],
   "source": [
    "# 문자, 숫자 한 번에 출력하는 함수는 cat()\n",
    "# \\n 개행 넣어주면 \\n 뒤에 있는 문자들은 개행되서 출력됨\n",
    "cat(1,'가','a',24,'\\n',':')"
   ]
  },
  {
   "cell_type": "code",
   "execution_count": 11,
   "metadata": {},
   "outputs": [
    {
     "data": {
      "text/html": [
       "1"
      ],
      "text/latex": [
       "1"
      ],
      "text/markdown": [
       "1"
      ],
      "text/plain": [
       "[1] 1"
      ]
     },
     "metadata": {},
     "output_type": "display_data"
    },
    {
     "data": {
      "text/html": [
       "2"
      ],
      "text/latex": [
       "2"
      ],
      "text/markdown": [
       "2"
      ],
      "text/plain": [
       "[1] 2"
      ]
     },
     "metadata": {},
     "output_type": "display_data"
    },
    {
     "data": {
      "text/html": [
       "3"
      ],
      "text/latex": [
       "3"
      ],
      "text/markdown": [
       "3"
      ],
      "text/plain": [
       "[1] 3"
      ]
     },
     "metadata": {},
     "output_type": "display_data"
    },
    {
     "name": "stdout",
     "output_type": "stream",
     "text": [
      "1 \n",
      " 2 \n",
      " 3"
     ]
    }
   ],
   "source": [
    "# ;(semi-colon) 도 개행 할 수 있음\n",
    "1;2;3\n",
    "cat(1,'\\n',2,'\\n',3)"
   ]
  },
  {
   "cell_type": "code",
   "execution_count": 14,
   "metadata": {},
   "outputs": [
    {
     "data": {
      "text/html": [
       "5"
      ],
      "text/latex": [
       "5"
      ],
      "text/markdown": [
       "5"
      ],
      "text/plain": [
       "[1] 5"
      ]
     },
     "metadata": {},
     "output_type": "display_data"
    },
    {
     "data": {
      "text/html": [
       "5"
      ],
      "text/latex": [
       "5"
      ],
      "text/markdown": [
       "5"
      ],
      "text/plain": [
       "[1] 5"
      ]
     },
     "metadata": {},
     "output_type": "display_data"
    }
   ],
   "source": [
    "# / 또는 %/% 는 정수 나누기\n",
    "10%/%2\n",
    "10/2"
   ]
  },
  {
   "cell_type": "code",
   "execution_count": 15,
   "metadata": {},
   "outputs": [
    {
     "data": {
      "text/html": [
       "2"
      ],
      "text/latex": [
       "2"
      ],
      "text/markdown": [
       "2"
      ],
      "text/plain": [
       "[1] 2"
      ]
     },
     "metadata": {},
     "output_type": "display_data"
    }
   ],
   "source": [
    "# %% 나머지 구하기\n",
    "5%%3"
   ]
  },
  {
   "cell_type": "code",
   "execution_count": 16,
   "metadata": {},
   "outputs": [
    {
     "data": {
      "text/html": [
       "16"
      ],
      "text/latex": [
       "16"
      ],
      "text/markdown": [
       "16"
      ],
      "text/plain": [
       "[1] 16"
      ]
     },
     "metadata": {},
     "output_type": "display_data"
    },
    {
     "data": {
      "text/html": [
       "16"
      ],
      "text/latex": [
       "16"
      ],
      "text/markdown": [
       "16"
      ],
      "text/plain": [
       "[1] 16"
      ]
     },
     "metadata": {},
     "output_type": "display_data"
    }
   ],
   "source": [
    "# ^ 또는 ** 승수 구하기\n",
    "2^4\n",
    "2**4"
   ]
  },
  {
   "cell_type": "code",
   "execution_count": 19,
   "metadata": {},
   "outputs": [
    {
     "data": {
      "text/html": [
       "10000"
      ],
      "text/latex": [
       "10000"
      ],
      "text/markdown": [
       "10000"
      ],
      "text/plain": [
       "[1] 10000"
      ]
     },
     "metadata": {},
     "output_type": "display_data"
    },
    {
     "data": {
      "text/html": [
       "0.2"
      ],
      "text/latex": [
       "0.2"
      ],
      "text/markdown": [
       "0.2"
      ],
      "text/plain": [
       "[1] 0.2"
      ]
     },
     "metadata": {},
     "output_type": "display_data"
    }
   ],
   "source": [
    "# e는 0이 5개부터 e로 바뀜 ex) 1e+07 일때 뒤에 '7'이 0의 개수\n",
    "# 2e-1 일때 -1은 소수점 첫째자리\n",
    "1e+04\n",
    "2e-1"
   ]
  },
  {
   "cell_type": "code",
   "execution_count": 20,
   "metadata": {},
   "outputs": [
    {
     "data": {
      "text/html": [
       "2"
      ],
      "text/latex": [
       "2"
      ],
      "text/markdown": [
       "2"
      ],
      "text/plain": [
       "[1] 2"
      ]
     },
     "metadata": {},
     "output_type": "display_data"
    }
   ],
   "source": [
    "# 숫자형으로 강제변환 as.numeric()\n",
    "a = '2'\n",
    "as.numeric(a)"
   ]
  },
  {
   "cell_type": "code",
   "execution_count": 22,
   "metadata": {
    "scrolled": true
   },
   "outputs": [
    {
     "data": {
      "text/html": [
       "<ol class=list-inline>\n",
       "\t<li>5.1</li>\n",
       "\t<li>4.9</li>\n",
       "\t<li>4.7</li>\n",
       "\t<li>4.6</li>\n",
       "\t<li>5</li>\n",
       "\t<li>5.4</li>\n",
       "\t<li>4.6</li>\n",
       "\t<li>5</li>\n",
       "\t<li>4.4</li>\n",
       "\t<li>4.9</li>\n",
       "\t<li>5.4</li>\n",
       "\t<li>4.8</li>\n",
       "\t<li>4.8</li>\n",
       "\t<li>4.3</li>\n",
       "\t<li>5.8</li>\n",
       "\t<li>5.7</li>\n",
       "\t<li>5.4</li>\n",
       "\t<li>5.1</li>\n",
       "\t<li>5.7</li>\n",
       "\t<li>5.1</li>\n",
       "\t<li>5.4</li>\n",
       "\t<li>5.1</li>\n",
       "\t<li>4.6</li>\n",
       "\t<li>5.1</li>\n",
       "\t<li>4.8</li>\n",
       "\t<li>5</li>\n",
       "\t<li>5</li>\n",
       "\t<li>5.2</li>\n",
       "\t<li>5.2</li>\n",
       "\t<li>4.7</li>\n",
       "\t<li>4.8</li>\n",
       "\t<li>5.4</li>\n",
       "\t<li>5.2</li>\n",
       "\t<li>5.5</li>\n",
       "\t<li>4.9</li>\n",
       "\t<li>5</li>\n",
       "\t<li>5.5</li>\n",
       "\t<li>4.9</li>\n",
       "\t<li>4.4</li>\n",
       "\t<li>5.1</li>\n",
       "\t<li>5</li>\n",
       "\t<li>4.5</li>\n",
       "\t<li>4.4</li>\n",
       "\t<li>5</li>\n",
       "\t<li>5.1</li>\n",
       "\t<li>4.8</li>\n",
       "\t<li>5.1</li>\n",
       "\t<li>4.6</li>\n",
       "\t<li>5.3</li>\n",
       "\t<li>5</li>\n",
       "\t<li>7</li>\n",
       "\t<li>6.4</li>\n",
       "\t<li>6.9</li>\n",
       "\t<li>5.5</li>\n",
       "\t<li>6.5</li>\n",
       "\t<li>5.7</li>\n",
       "\t<li>6.3</li>\n",
       "\t<li>4.9</li>\n",
       "\t<li>6.6</li>\n",
       "\t<li>5.2</li>\n",
       "\t<li>5</li>\n",
       "\t<li>5.9</li>\n",
       "\t<li>6</li>\n",
       "\t<li>6.1</li>\n",
       "\t<li>5.6</li>\n",
       "\t<li>6.7</li>\n",
       "\t<li>5.6</li>\n",
       "\t<li>5.8</li>\n",
       "\t<li>6.2</li>\n",
       "\t<li>5.6</li>\n",
       "\t<li>5.9</li>\n",
       "\t<li>6.1</li>\n",
       "\t<li>6.3</li>\n",
       "\t<li>6.1</li>\n",
       "\t<li>6.4</li>\n",
       "\t<li>6.6</li>\n",
       "\t<li>6.8</li>\n",
       "\t<li>6.7</li>\n",
       "\t<li>6</li>\n",
       "\t<li>5.7</li>\n",
       "\t<li>5.5</li>\n",
       "\t<li>5.5</li>\n",
       "\t<li>5.8</li>\n",
       "\t<li>6</li>\n",
       "\t<li>5.4</li>\n",
       "\t<li>6</li>\n",
       "\t<li>6.7</li>\n",
       "\t<li>6.3</li>\n",
       "\t<li>5.6</li>\n",
       "\t<li>5.5</li>\n",
       "\t<li>5.5</li>\n",
       "\t<li>6.1</li>\n",
       "\t<li>5.8</li>\n",
       "\t<li>5</li>\n",
       "\t<li>5.6</li>\n",
       "\t<li>5.7</li>\n",
       "\t<li>5.7</li>\n",
       "\t<li>6.2</li>\n",
       "\t<li>5.1</li>\n",
       "\t<li>5.7</li>\n",
       "\t<li>6.3</li>\n",
       "\t<li>5.8</li>\n",
       "\t<li>7.1</li>\n",
       "\t<li>6.3</li>\n",
       "\t<li>6.5</li>\n",
       "\t<li>7.6</li>\n",
       "\t<li>4.9</li>\n",
       "\t<li>7.3</li>\n",
       "\t<li>6.7</li>\n",
       "\t<li>7.2</li>\n",
       "\t<li>6.5</li>\n",
       "\t<li>6.4</li>\n",
       "\t<li>6.8</li>\n",
       "\t<li>5.7</li>\n",
       "\t<li>5.8</li>\n",
       "\t<li>6.4</li>\n",
       "\t<li>6.5</li>\n",
       "\t<li>7.7</li>\n",
       "\t<li>7.7</li>\n",
       "\t<li>6</li>\n",
       "\t<li>6.9</li>\n",
       "\t<li>5.6</li>\n",
       "\t<li>7.7</li>\n",
       "\t<li>6.3</li>\n",
       "\t<li>6.7</li>\n",
       "\t<li>7.2</li>\n",
       "\t<li>6.2</li>\n",
       "\t<li>6.1</li>\n",
       "\t<li>6.4</li>\n",
       "\t<li>7.2</li>\n",
       "\t<li>7.4</li>\n",
       "\t<li>7.9</li>\n",
       "\t<li>6.4</li>\n",
       "\t<li>6.3</li>\n",
       "\t<li>6.1</li>\n",
       "\t<li>7.7</li>\n",
       "\t<li>6.3</li>\n",
       "\t<li>6.4</li>\n",
       "\t<li>6</li>\n",
       "\t<li>6.9</li>\n",
       "\t<li>6.7</li>\n",
       "\t<li>6.9</li>\n",
       "\t<li>5.8</li>\n",
       "\t<li>6.8</li>\n",
       "\t<li>6.7</li>\n",
       "\t<li>6.7</li>\n",
       "\t<li>6.3</li>\n",
       "\t<li>6.5</li>\n",
       "\t<li>6.2</li>\n",
       "\t<li>5.9</li>\n",
       "</ol>\n",
       "\n",
       "<details>\n",
       "\t<summary style=display:list-item;cursor:pointer>\n",
       "\t\t<strong>Levels</strong>:\n",
       "\t</summary>\n",
       "\t<ol class=list-inline>\n",
       "\t\t<li>'4.3'</li>\n",
       "\t\t<li>'4.4'</li>\n",
       "\t\t<li>'4.5'</li>\n",
       "\t\t<li>'4.6'</li>\n",
       "\t\t<li>'4.7'</li>\n",
       "\t\t<li>'4.8'</li>\n",
       "\t\t<li>'4.9'</li>\n",
       "\t\t<li>'5'</li>\n",
       "\t\t<li>'5.1'</li>\n",
       "\t\t<li>'5.2'</li>\n",
       "\t\t<li>'5.3'</li>\n",
       "\t\t<li>'5.4'</li>\n",
       "\t\t<li>'5.5'</li>\n",
       "\t\t<li>'5.6'</li>\n",
       "\t\t<li>'5.7'</li>\n",
       "\t\t<li>'5.8'</li>\n",
       "\t\t<li>'5.9'</li>\n",
       "\t\t<li>'6'</li>\n",
       "\t\t<li>'6.1'</li>\n",
       "\t\t<li>'6.2'</li>\n",
       "\t\t<li>'6.3'</li>\n",
       "\t\t<li>'6.4'</li>\n",
       "\t\t<li>'6.5'</li>\n",
       "\t\t<li>'6.6'</li>\n",
       "\t\t<li>'6.7'</li>\n",
       "\t\t<li>'6.8'</li>\n",
       "\t\t<li>'6.9'</li>\n",
       "\t\t<li>'7'</li>\n",
       "\t\t<li>'7.1'</li>\n",
       "\t\t<li>'7.2'</li>\n",
       "\t\t<li>'7.3'</li>\n",
       "\t\t<li>'7.4'</li>\n",
       "\t\t<li>'7.6'</li>\n",
       "\t\t<li>'7.7'</li>\n",
       "\t\t<li>'7.9'</li>\n",
       "\t</ol>\n",
       "</details>"
      ],
      "text/latex": [
       "\\begin{enumerate*}\n",
       "\\item 5.1\n",
       "\\item 4.9\n",
       "\\item 4.7\n",
       "\\item 4.6\n",
       "\\item 5\n",
       "\\item 5.4\n",
       "\\item 4.6\n",
       "\\item 5\n",
       "\\item 4.4\n",
       "\\item 4.9\n",
       "\\item 5.4\n",
       "\\item 4.8\n",
       "\\item 4.8\n",
       "\\item 4.3\n",
       "\\item 5.8\n",
       "\\item 5.7\n",
       "\\item 5.4\n",
       "\\item 5.1\n",
       "\\item 5.7\n",
       "\\item 5.1\n",
       "\\item 5.4\n",
       "\\item 5.1\n",
       "\\item 4.6\n",
       "\\item 5.1\n",
       "\\item 4.8\n",
       "\\item 5\n",
       "\\item 5\n",
       "\\item 5.2\n",
       "\\item 5.2\n",
       "\\item 4.7\n",
       "\\item 4.8\n",
       "\\item 5.4\n",
       "\\item 5.2\n",
       "\\item 5.5\n",
       "\\item 4.9\n",
       "\\item 5\n",
       "\\item 5.5\n",
       "\\item 4.9\n",
       "\\item 4.4\n",
       "\\item 5.1\n",
       "\\item 5\n",
       "\\item 4.5\n",
       "\\item 4.4\n",
       "\\item 5\n",
       "\\item 5.1\n",
       "\\item 4.8\n",
       "\\item 5.1\n",
       "\\item 4.6\n",
       "\\item 5.3\n",
       "\\item 5\n",
       "\\item 7\n",
       "\\item 6.4\n",
       "\\item 6.9\n",
       "\\item 5.5\n",
       "\\item 6.5\n",
       "\\item 5.7\n",
       "\\item 6.3\n",
       "\\item 4.9\n",
       "\\item 6.6\n",
       "\\item 5.2\n",
       "\\item 5\n",
       "\\item 5.9\n",
       "\\item 6\n",
       "\\item 6.1\n",
       "\\item 5.6\n",
       "\\item 6.7\n",
       "\\item 5.6\n",
       "\\item 5.8\n",
       "\\item 6.2\n",
       "\\item 5.6\n",
       "\\item 5.9\n",
       "\\item 6.1\n",
       "\\item 6.3\n",
       "\\item 6.1\n",
       "\\item 6.4\n",
       "\\item 6.6\n",
       "\\item 6.8\n",
       "\\item 6.7\n",
       "\\item 6\n",
       "\\item 5.7\n",
       "\\item 5.5\n",
       "\\item 5.5\n",
       "\\item 5.8\n",
       "\\item 6\n",
       "\\item 5.4\n",
       "\\item 6\n",
       "\\item 6.7\n",
       "\\item 6.3\n",
       "\\item 5.6\n",
       "\\item 5.5\n",
       "\\item 5.5\n",
       "\\item 6.1\n",
       "\\item 5.8\n",
       "\\item 5\n",
       "\\item 5.6\n",
       "\\item 5.7\n",
       "\\item 5.7\n",
       "\\item 6.2\n",
       "\\item 5.1\n",
       "\\item 5.7\n",
       "\\item 6.3\n",
       "\\item 5.8\n",
       "\\item 7.1\n",
       "\\item 6.3\n",
       "\\item 6.5\n",
       "\\item 7.6\n",
       "\\item 4.9\n",
       "\\item 7.3\n",
       "\\item 6.7\n",
       "\\item 7.2\n",
       "\\item 6.5\n",
       "\\item 6.4\n",
       "\\item 6.8\n",
       "\\item 5.7\n",
       "\\item 5.8\n",
       "\\item 6.4\n",
       "\\item 6.5\n",
       "\\item 7.7\n",
       "\\item 7.7\n",
       "\\item 6\n",
       "\\item 6.9\n",
       "\\item 5.6\n",
       "\\item 7.7\n",
       "\\item 6.3\n",
       "\\item 6.7\n",
       "\\item 7.2\n",
       "\\item 6.2\n",
       "\\item 6.1\n",
       "\\item 6.4\n",
       "\\item 7.2\n",
       "\\item 7.4\n",
       "\\item 7.9\n",
       "\\item 6.4\n",
       "\\item 6.3\n",
       "\\item 6.1\n",
       "\\item 7.7\n",
       "\\item 6.3\n",
       "\\item 6.4\n",
       "\\item 6\n",
       "\\item 6.9\n",
       "\\item 6.7\n",
       "\\item 6.9\n",
       "\\item 5.8\n",
       "\\item 6.8\n",
       "\\item 6.7\n",
       "\\item 6.7\n",
       "\\item 6.3\n",
       "\\item 6.5\n",
       "\\item 6.2\n",
       "\\item 5.9\n",
       "\\end{enumerate*}\n",
       "\n",
       "\\emph{Levels}: \\begin{enumerate*}\n",
       "\\item '4.3'\n",
       "\\item '4.4'\n",
       "\\item '4.5'\n",
       "\\item '4.6'\n",
       "\\item '4.7'\n",
       "\\item '4.8'\n",
       "\\item '4.9'\n",
       "\\item '5'\n",
       "\\item '5.1'\n",
       "\\item '5.2'\n",
       "\\item '5.3'\n",
       "\\item '5.4'\n",
       "\\item '5.5'\n",
       "\\item '5.6'\n",
       "\\item '5.7'\n",
       "\\item '5.8'\n",
       "\\item '5.9'\n",
       "\\item '6'\n",
       "\\item '6.1'\n",
       "\\item '6.2'\n",
       "\\item '6.3'\n",
       "\\item '6.4'\n",
       "\\item '6.5'\n",
       "\\item '6.6'\n",
       "\\item '6.7'\n",
       "\\item '6.8'\n",
       "\\item '6.9'\n",
       "\\item '7'\n",
       "\\item '7.1'\n",
       "\\item '7.2'\n",
       "\\item '7.3'\n",
       "\\item '7.4'\n",
       "\\item '7.6'\n",
       "\\item '7.7'\n",
       "\\item '7.9'\n",
       "\\end{enumerate*}\n"
      ],
      "text/markdown": [
       "1. 5.1\n",
       "2. 4.9\n",
       "3. 4.7\n",
       "4. 4.6\n",
       "5. 5\n",
       "6. 5.4\n",
       "7. 4.6\n",
       "8. 5\n",
       "9. 4.4\n",
       "10. 4.9\n",
       "11. 5.4\n",
       "12. 4.8\n",
       "13. 4.8\n",
       "14. 4.3\n",
       "15. 5.8\n",
       "16. 5.7\n",
       "17. 5.4\n",
       "18. 5.1\n",
       "19. 5.7\n",
       "20. 5.1\n",
       "21. 5.4\n",
       "22. 5.1\n",
       "23. 4.6\n",
       "24. 5.1\n",
       "25. 4.8\n",
       "26. 5\n",
       "27. 5\n",
       "28. 5.2\n",
       "29. 5.2\n",
       "30. 4.7\n",
       "31. 4.8\n",
       "32. 5.4\n",
       "33. 5.2\n",
       "34. 5.5\n",
       "35. 4.9\n",
       "36. 5\n",
       "37. 5.5\n",
       "38. 4.9\n",
       "39. 4.4\n",
       "40. 5.1\n",
       "41. 5\n",
       "42. 4.5\n",
       "43. 4.4\n",
       "44. 5\n",
       "45. 5.1\n",
       "46. 4.8\n",
       "47. 5.1\n",
       "48. 4.6\n",
       "49. 5.3\n",
       "50. 5\n",
       "51. 7\n",
       "52. 6.4\n",
       "53. 6.9\n",
       "54. 5.5\n",
       "55. 6.5\n",
       "56. 5.7\n",
       "57. 6.3\n",
       "58. 4.9\n",
       "59. 6.6\n",
       "60. 5.2\n",
       "61. 5\n",
       "62. 5.9\n",
       "63. 6\n",
       "64. 6.1\n",
       "65. 5.6\n",
       "66. 6.7\n",
       "67. 5.6\n",
       "68. 5.8\n",
       "69. 6.2\n",
       "70. 5.6\n",
       "71. 5.9\n",
       "72. 6.1\n",
       "73. 6.3\n",
       "74. 6.1\n",
       "75. 6.4\n",
       "76. 6.6\n",
       "77. 6.8\n",
       "78. 6.7\n",
       "79. 6\n",
       "80. 5.7\n",
       "81. 5.5\n",
       "82. 5.5\n",
       "83. 5.8\n",
       "84. 6\n",
       "85. 5.4\n",
       "86. 6\n",
       "87. 6.7\n",
       "88. 6.3\n",
       "89. 5.6\n",
       "90. 5.5\n",
       "91. 5.5\n",
       "92. 6.1\n",
       "93. 5.8\n",
       "94. 5\n",
       "95. 5.6\n",
       "96. 5.7\n",
       "97. 5.7\n",
       "98. 6.2\n",
       "99. 5.1\n",
       "100. 5.7\n",
       "101. 6.3\n",
       "102. 5.8\n",
       "103. 7.1\n",
       "104. 6.3\n",
       "105. 6.5\n",
       "106. 7.6\n",
       "107. 4.9\n",
       "108. 7.3\n",
       "109. 6.7\n",
       "110. 7.2\n",
       "111. 6.5\n",
       "112. 6.4\n",
       "113. 6.8\n",
       "114. 5.7\n",
       "115. 5.8\n",
       "116. 6.4\n",
       "117. 6.5\n",
       "118. 7.7\n",
       "119. 7.7\n",
       "120. 6\n",
       "121. 6.9\n",
       "122. 5.6\n",
       "123. 7.7\n",
       "124. 6.3\n",
       "125. 6.7\n",
       "126. 7.2\n",
       "127. 6.2\n",
       "128. 6.1\n",
       "129. 6.4\n",
       "130. 7.2\n",
       "131. 7.4\n",
       "132. 7.9\n",
       "133. 6.4\n",
       "134. 6.3\n",
       "135. 6.1\n",
       "136. 7.7\n",
       "137. 6.3\n",
       "138. 6.4\n",
       "139. 6\n",
       "140. 6.9\n",
       "141. 6.7\n",
       "142. 6.9\n",
       "143. 5.8\n",
       "144. 6.8\n",
       "145. 6.7\n",
       "146. 6.7\n",
       "147. 6.3\n",
       "148. 6.5\n",
       "149. 6.2\n",
       "150. 5.9\n",
       "\n",
       "\n",
       "\n",
       "**Levels**: 1. '4.3'\n",
       "2. '4.4'\n",
       "3. '4.5'\n",
       "4. '4.6'\n",
       "5. '4.7'\n",
       "6. '4.8'\n",
       "7. '4.9'\n",
       "8. '5'\n",
       "9. '5.1'\n",
       "10. '5.2'\n",
       "11. '5.3'\n",
       "12. '5.4'\n",
       "13. '5.5'\n",
       "14. '5.6'\n",
       "15. '5.7'\n",
       "16. '5.8'\n",
       "17. '5.9'\n",
       "18. '6'\n",
       "19. '6.1'\n",
       "20. '6.2'\n",
       "21. '6.3'\n",
       "22. '6.4'\n",
       "23. '6.5'\n",
       "24. '6.6'\n",
       "25. '6.7'\n",
       "26. '6.8'\n",
       "27. '6.9'\n",
       "28. '7'\n",
       "29. '7.1'\n",
       "30. '7.2'\n",
       "31. '7.3'\n",
       "32. '7.4'\n",
       "33. '7.6'\n",
       "34. '7.7'\n",
       "35. '7.9'\n",
       "\n",
       "\n"
      ],
      "text/plain": [
       "  [1] 5.1 4.9 4.7 4.6 5   5.4 4.6 5   4.4 4.9 5.4 4.8 4.8 4.3 5.8 5.7 5.4 5.1\n",
       " [19] 5.7 5.1 5.4 5.1 4.6 5.1 4.8 5   5   5.2 5.2 4.7 4.8 5.4 5.2 5.5 4.9 5  \n",
       " [37] 5.5 4.9 4.4 5.1 5   4.5 4.4 5   5.1 4.8 5.1 4.6 5.3 5   7   6.4 6.9 5.5\n",
       " [55] 6.5 5.7 6.3 4.9 6.6 5.2 5   5.9 6   6.1 5.6 6.7 5.6 5.8 6.2 5.6 5.9 6.1\n",
       " [73] 6.3 6.1 6.4 6.6 6.8 6.7 6   5.7 5.5 5.5 5.8 6   5.4 6   6.7 6.3 5.6 5.5\n",
       " [91] 5.5 6.1 5.8 5   5.6 5.7 5.7 6.2 5.1 5.7 6.3 5.8 7.1 6.3 6.5 7.6 4.9 7.3\n",
       "[109] 6.7 7.2 6.5 6.4 6.8 5.7 5.8 6.4 6.5 7.7 7.7 6   6.9 5.6 7.7 6.3 6.7 7.2\n",
       "[127] 6.2 6.1 6.4 7.2 7.4 7.9 6.4 6.3 6.1 7.7 6.3 6.4 6   6.9 6.7 6.9 5.8 6.8\n",
       "[145] 6.7 6.7 6.3 6.5 6.2 5.9\n",
       "35 Levels: 4.3 4.4 4.5 4.6 4.7 4.8 4.9 5 5.1 5.2 5.3 5.4 5.5 5.6 5.7 ... 7.9"
      ]
     },
     "metadata": {},
     "output_type": "display_data"
    },
    {
     "data": {
      "text/html": [
       "<dl class=dl-horizontal>\n",
       "\t<dt>4.3</dt>\n",
       "\t\t<dd>1</dd>\n",
       "\t<dt>4.4</dt>\n",
       "\t\t<dd>3</dd>\n",
       "\t<dt>4.5</dt>\n",
       "\t\t<dd>1</dd>\n",
       "\t<dt>4.6</dt>\n",
       "\t\t<dd>4</dd>\n",
       "\t<dt>4.7</dt>\n",
       "\t\t<dd>2</dd>\n",
       "\t<dt>4.8</dt>\n",
       "\t\t<dd>5</dd>\n",
       "\t<dt>4.9</dt>\n",
       "\t\t<dd>6</dd>\n",
       "\t<dt>5</dt>\n",
       "\t\t<dd>10</dd>\n",
       "\t<dt>5.1</dt>\n",
       "\t\t<dd>9</dd>\n",
       "\t<dt>5.2</dt>\n",
       "\t\t<dd>4</dd>\n",
       "\t<dt>5.3</dt>\n",
       "\t\t<dd>1</dd>\n",
       "\t<dt>5.4</dt>\n",
       "\t\t<dd>6</dd>\n",
       "\t<dt>5.5</dt>\n",
       "\t\t<dd>7</dd>\n",
       "\t<dt>5.6</dt>\n",
       "\t\t<dd>6</dd>\n",
       "\t<dt>5.7</dt>\n",
       "\t\t<dd>8</dd>\n",
       "\t<dt>5.8</dt>\n",
       "\t\t<dd>7</dd>\n",
       "\t<dt>5.9</dt>\n",
       "\t\t<dd>3</dd>\n",
       "\t<dt>6</dt>\n",
       "\t\t<dd>6</dd>\n",
       "\t<dt>6.1</dt>\n",
       "\t\t<dd>6</dd>\n",
       "\t<dt>6.2</dt>\n",
       "\t\t<dd>4</dd>\n",
       "\t<dt>6.3</dt>\n",
       "\t\t<dd>9</dd>\n",
       "\t<dt>6.4</dt>\n",
       "\t\t<dd>7</dd>\n",
       "\t<dt>6.5</dt>\n",
       "\t\t<dd>5</dd>\n",
       "\t<dt>6.6</dt>\n",
       "\t\t<dd>2</dd>\n",
       "\t<dt>6.7</dt>\n",
       "\t\t<dd>8</dd>\n",
       "\t<dt>6.8</dt>\n",
       "\t\t<dd>3</dd>\n",
       "\t<dt>6.9</dt>\n",
       "\t\t<dd>4</dd>\n",
       "\t<dt>7</dt>\n",
       "\t\t<dd>1</dd>\n",
       "\t<dt>7.1</dt>\n",
       "\t\t<dd>1</dd>\n",
       "\t<dt>7.2</dt>\n",
       "\t\t<dd>3</dd>\n",
       "\t<dt>7.3</dt>\n",
       "\t\t<dd>1</dd>\n",
       "\t<dt>7.4</dt>\n",
       "\t\t<dd>1</dd>\n",
       "\t<dt>7.6</dt>\n",
       "\t\t<dd>1</dd>\n",
       "\t<dt>7.7</dt>\n",
       "\t\t<dd>4</dd>\n",
       "\t<dt>7.9</dt>\n",
       "\t\t<dd>1</dd>\n",
       "</dl>\n"
      ],
      "text/latex": [
       "\\begin{description*}\n",
       "\\item[4.3] 1\n",
       "\\item[4.4] 3\n",
       "\\item[4.5] 1\n",
       "\\item[4.6] 4\n",
       "\\item[4.7] 2\n",
       "\\item[4.8] 5\n",
       "\\item[4.9] 6\n",
       "\\item[5] 10\n",
       "\\item[5.1] 9\n",
       "\\item[5.2] 4\n",
       "\\item[5.3] 1\n",
       "\\item[5.4] 6\n",
       "\\item[5.5] 7\n",
       "\\item[5.6] 6\n",
       "\\item[5.7] 8\n",
       "\\item[5.8] 7\n",
       "\\item[5.9] 3\n",
       "\\item[6] 6\n",
       "\\item[6.1] 6\n",
       "\\item[6.2] 4\n",
       "\\item[6.3] 9\n",
       "\\item[6.4] 7\n",
       "\\item[6.5] 5\n",
       "\\item[6.6] 2\n",
       "\\item[6.7] 8\n",
       "\\item[6.8] 3\n",
       "\\item[6.9] 4\n",
       "\\item[7] 1\n",
       "\\item[7.1] 1\n",
       "\\item[7.2] 3\n",
       "\\item[7.3] 1\n",
       "\\item[7.4] 1\n",
       "\\item[7.6] 1\n",
       "\\item[7.7] 4\n",
       "\\item[7.9] 1\n",
       "\\end{description*}\n"
      ],
      "text/markdown": [
       "4.3\n",
       ":   14.4\n",
       ":   34.5\n",
       ":   14.6\n",
       ":   44.7\n",
       ":   24.8\n",
       ":   54.9\n",
       ":   65\n",
       ":   105.1\n",
       ":   95.2\n",
       ":   45.3\n",
       ":   15.4\n",
       ":   65.5\n",
       ":   75.6\n",
       ":   65.7\n",
       ":   85.8\n",
       ":   75.9\n",
       ":   36\n",
       ":   66.1\n",
       ":   66.2\n",
       ":   46.3\n",
       ":   96.4\n",
       ":   76.5\n",
       ":   56.6\n",
       ":   26.7\n",
       ":   86.8\n",
       ":   36.9\n",
       ":   47\n",
       ":   17.1\n",
       ":   17.2\n",
       ":   37.3\n",
       ":   17.4\n",
       ":   17.6\n",
       ":   17.7\n",
       ":   47.9\n",
       ":   1\n",
       "\n"
      ],
      "text/plain": [
       "4.3 4.4 4.5 4.6 4.7 4.8 4.9   5 5.1 5.2 5.3 5.4 5.5 5.6 5.7 5.8 5.9   6 6.1 6.2 \n",
       "  1   3   1   4   2   5   6  10   9   4   1   6   7   6   8   7   3   6   6   4 \n",
       "6.3 6.4 6.5 6.6 6.7 6.8 6.9   7 7.1 7.2 7.3 7.4 7.6 7.7 7.9 \n",
       "  9   7   5   2   8   3   4   1   1   3   1   1   1   4   1 "
      ]
     },
     "metadata": {},
     "output_type": "display_data"
    }
   ],
   "source": [
    "# NA는 출력되지만 NULL은 출력되지 않음(들어갈 공간이 애초에 없다는 뜻)\n",
    "# factor형 :셀 수 있는 정도의 카테고리값이 있는 것\n",
    "factor(iris$Sepal.Length)\n",
    "\n",
    "# factor 별로 데이터 개수 출력\n",
    "summary(factor(iris$Sepal.Length))"
   ]
  },
  {
   "cell_type": "code",
   "execution_count": 24,
   "metadata": {},
   "outputs": [
    {
     "data": {
      "text/html": [
       "<time datetime=\"2020-04-27\">2020-04-27</time>"
      ],
      "text/latex": [
       "2020-04-27"
      ],
      "text/markdown": [
       "2020-04-27"
      ],
      "text/plain": [
       "[1] \"2020-04-27\""
      ]
     },
     "metadata": {},
     "output_type": "display_data"
    },
    {
     "data": {
      "text/plain": [
       "[1] \"2020-04-27 22:29:18 KST\""
      ]
     },
     "metadata": {},
     "output_type": "display_data"
    },
    {
     "data": {
      "text/html": [
       "'Mon Apr 27 22:29:18 2020'"
      ],
      "text/latex": [
       "'Mon Apr 27 22:29:18 2020'"
      ],
      "text/markdown": [
       "'Mon Apr 27 22:29:18 2020'"
      ],
      "text/plain": [
       "[1] \"Mon Apr 27 22:29:18 2020\""
      ]
     },
     "metadata": {},
     "output_type": "display_data"
    },
    {
     "data": {
      "text/html": [
       "<time datetime=\"2014-01-11\">2014-01-11</time>"
      ],
      "text/latex": [
       "2014-01-11"
      ],
      "text/markdown": [
       "2014-01-11"
      ],
      "text/plain": [
       "[1] \"2014-01-11\""
      ]
     },
     "metadata": {},
     "output_type": "display_data"
    }
   ],
   "source": [
    "# 날짜만 출력\n",
    "Sys.Date()\n",
    "# 날짜, 시간 출력\n",
    "Sys.time()\n",
    "# 미국식 날짜, 시간 출력\n",
    "date()\n",
    "# 문자를 날짜로 강제변환\n",
    "as.Date('2014/01/11')"
   ]
  },
  {
   "cell_type": "markdown",
   "metadata": {},
   "source": [
    "---\n",
    "- %d : 일자를 숫자로 인식\n",
    "- %m : 월을 숫자로 인식\n",
    "- %b : 월을 영어약어로 인식 ex) MARCH -> MAR\n",
    "- %B : 월을 전체이음으로 인식 ex)MARCH\n",
    "- %y : 연도를 숫자 2자리로 인식\n",
    "- %Y : 연도를 숮자 4자리로 인식"
   ]
  },
  {
   "cell_type": "code",
   "execution_count": 27,
   "metadata": {},
   "outputs": [
    {
     "data": {
      "text/html": [
       "<time datetime=\"2014-11-01\">2014-11-01</time>"
      ],
      "text/latex": [
       "2014-11-01"
      ],
      "text/markdown": [
       "2014-11-01"
      ],
      "text/plain": [
       "[1] \"2014-11-01\""
      ]
     },
     "metadata": {},
     "output_type": "display_data"
    },
    {
     "data": {
      "text/html": [
       "<time datetime=\"2014-11-11\">2014-11-11</time>"
      ],
      "text/latex": [
       "2014-11-11"
      ],
      "text/markdown": [
       "2014-11-11"
      ],
      "text/plain": [
       "[1] \"2014-11-11\""
      ]
     },
     "metadata": {},
     "output_type": "display_data"
    },
    {
     "data": {
      "text/html": [
       "<time datetime=\"2014-11-01\">2014-11-01</time>"
      ],
      "text/latex": [
       "2014-11-01"
      ],
      "text/markdown": [
       "2014-11-01"
      ],
      "text/plain": [
       "[1] \"2014-11-01\""
      ]
     },
     "metadata": {},
     "output_type": "display_data"
    }
   ],
   "source": [
    "# 원하는 포맷으로 문자->날짜로 바꾸기\n",
    "as.Date('01-11-2014', format=\"%d-%m-%Y\")\n",
    "as.Date('2014년11월11일', format='%Y년%m월%d일')\n",
    "as.Date('011114', format='%d%m%y')"
   ]
  },
  {
   "cell_type": "code",
   "execution_count": 28,
   "metadata": {},
   "outputs": [
    {
     "data": {
      "text/plain": [
       "Time difference of 275 days"
      ]
     },
     "metadata": {},
     "output_type": "display_data"
    }
   ],
   "source": [
    "#날짜 간격 구하기\n",
    "a<-as.Date('03-31-2014', format='%m-%d-%Y')\n",
    "b<-as.Date('31-12-2014', format='%d-%m-%Y')\n",
    "b-a"
   ]
  },
  {
   "cell_type": "markdown",
   "metadata": {},
   "source": [
    "## 데이터 종류 : 벡터(1차원)"
   ]
  },
  {
   "cell_type": "code",
   "execution_count": 29,
   "metadata": {},
   "outputs": [
    {
     "data": {
      "text/html": [
       "<ol class=list-inline>\n",
       "\t<li>'1'</li>\n",
       "\t<li>'2'</li>\n",
       "\t<li>'3'</li>\n",
       "\t<li>'4'</li>\n",
       "\t<li>'5'</li>\n",
       "\t<li>'6'</li>\n",
       "\t<li>'7'</li>\n",
       "\t<li>'8'</li>\n",
       "</ol>\n"
      ],
      "text/latex": [
       "\\begin{enumerate*}\n",
       "\\item '1'\n",
       "\\item '2'\n",
       "\\item '3'\n",
       "\\item '4'\n",
       "\\item '5'\n",
       "\\item '6'\n",
       "\\item '7'\n",
       "\\item '8'\n",
       "\\end{enumerate*}\n"
      ],
      "text/markdown": [
       "1. '1'\n",
       "2. '2'\n",
       "3. '3'\n",
       "4. '4'\n",
       "5. '5'\n",
       "6. '6'\n",
       "7. '7'\n",
       "8. '8'\n",
       "\n",
       "\n"
      ],
      "text/plain": [
       "[1] \"1\" \"2\" \"3\" \"4\" \"5\" \"6\" \"7\" \"8\""
      ]
     },
     "metadata": {},
     "output_type": "display_data"
    }
   ],
   "source": [
    "# 벡터 c() 안에 하나라도 '문자열' 이면 모두 문자로 간주\n",
    "# 그러므로 벡터안에는 모두 같은 데이터 타입이 들어가야 함!\n",
    "a<-c(1,2,3,4,5,6,7,'8')\n",
    "a"
   ]
  },
  {
   "cell_type": "code",
   "execution_count": 30,
   "metadata": {},
   "outputs": [
    {
     "data": {
      "text/html": [
       "<ol class=list-inline>\n",
       "\t<li>5</li>\n",
       "\t<li>6</li>\n",
       "\t<li>7</li>\n",
       "\t<li>8</li>\n",
       "\t<li>9</li>\n",
       "\t<li>10</li>\n",
       "</ol>\n"
      ],
      "text/latex": [
       "\\begin{enumerate*}\n",
       "\\item 5\n",
       "\\item 6\n",
       "\\item 7\n",
       "\\item 8\n",
       "\\item 9\n",
       "\\item 10\n",
       "\\end{enumerate*}\n"
      ],
      "text/markdown": [
       "1. 5\n",
       "2. 6\n",
       "3. 7\n",
       "4. 8\n",
       "5. 9\n",
       "6. 10\n",
       "\n",
       "\n"
      ],
      "text/plain": [
       "[1]  5  6  7  8  9 10"
      ]
     },
     "metadata": {},
     "output_type": "display_data"
    }
   ],
   "source": [
    "# 변수에 연속값 넣기 but 문자열은 X!!!\n",
    "b<-5:10\n",
    "b"
   ]
  },
  {
   "cell_type": "code",
   "execution_count": 34,
   "metadata": {},
   "outputs": [],
   "source": [
    "# 연속함수 seq 날짜에 적용해보기\n",
    "date1<-seq(from=as.Date('2014-01-01'), to=as.Date('2014-12-30'), by=1) # 하루 간격\n",
    "date2<-seq(from=as.Date('2014-01-01'), to=as.Date('2014-12-30'), by='week') # 일주일 간격\n",
    "date3<-seq(from=as.Date('2014-01-01'), to=as.Date('2014-12-30'), by='month') # 한달 간격\n",
    "date4<-seq(from=as.Date('2014-01-01'), to=as.Date('2014-12-30'), by='year') # 일년 간격\n",
    "date5<-seq(from=as.Date('2014-01-01'), to=as.Date('2014-12-30'), by='2 month') # 두달 간격"
   ]
  },
  {
   "cell_type": "code",
   "execution_count": 36,
   "metadata": {},
   "outputs": [
    {
     "data": {
      "text/html": [
       "<ol class=list-inline>\n",
       "\t<li>'a'</li>\n",
       "\t<li>'b'</li>\n",
       "\t<li>'date'</li>\n",
       "\t<li>'date1'</li>\n",
       "\t<li>'date2'</li>\n",
       "\t<li>'date3'</li>\n",
       "\t<li>'date4'</li>\n",
       "\t<li>'date5'</li>\n",
       "</ol>\n"
      ],
      "text/latex": [
       "\\begin{enumerate*}\n",
       "\\item 'a'\n",
       "\\item 'b'\n",
       "\\item 'date'\n",
       "\\item 'date1'\n",
       "\\item 'date2'\n",
       "\\item 'date3'\n",
       "\\item 'date4'\n",
       "\\item 'date5'\n",
       "\\end{enumerate*}\n"
      ],
      "text/markdown": [
       "1. 'a'\n",
       "2. 'b'\n",
       "3. 'date'\n",
       "4. 'date1'\n",
       "5. 'date2'\n",
       "6. 'date3'\n",
       "7. 'date4'\n",
       "8. 'date5'\n",
       "\n",
       "\n"
      ],
      "text/plain": [
       "[1] \"a\"     \"b\"     \"date\"  \"date1\" \"date2\" \"date3\" \"date4\" \"date5\""
      ]
     },
     "metadata": {},
     "output_type": "display_data"
    }
   ],
   "source": [
    "# 생성변수 모두 확인 \n",
    "objects()"
   ]
  },
  {
   "cell_type": "code",
   "execution_count": 37,
   "metadata": {},
   "outputs": [],
   "source": [
    "# 변수 제거 => rm(변수명)\n",
    "rm(a)"
   ]
  },
  {
   "cell_type": "code",
   "execution_count": 38,
   "metadata": {},
   "outputs": [],
   "source": [
    "# 모든변수 제거 => rm(list=ls())\n",
    "rm(list=ls())"
   ]
  },
  {
   "cell_type": "code",
   "execution_count": 39,
   "metadata": {},
   "outputs": [
    {
     "data": {
      "text/html": [],
      "text/latex": [],
      "text/markdown": [],
      "text/plain": [
       "character(0)"
      ]
     },
     "metadata": {},
     "output_type": "display_data"
    }
   ],
   "source": [
    "objects()"
   ]
  },
  {
   "cell_type": "markdown",
   "metadata": {},
   "source": [
    "* 같은 데이터 입력가능 \n",
    "    - 1차원 : 벡터 =>indexing번호는 1부터임!\n",
    "    - 2차원 : 행렬\n",
    "    - N차원 : 배열\n",
    "\n",
    "* 다른 데이터도 입력가능\n",
    "    - 1차원 : 리스트\n",
    "    - 2차원 : 데이터프레임"
   ]
  },
  {
   "cell_type": "code",
   "execution_count": 45,
   "metadata": {},
   "outputs": [
    {
     "data": {
      "text/html": [
       "7"
      ],
      "text/latex": [
       "7"
      ],
      "text/markdown": [
       "7"
      ],
      "text/plain": [
       "[1] 7"
      ]
     },
     "metadata": {},
     "output_type": "display_data"
    }
   ],
   "source": [
    "# 변수길이 출력 length()\n",
    "a<-c(1,2,3,4,5,6,7)\n",
    "length(a)"
   ]
  },
  {
   "cell_type": "code",
   "execution_count": 46,
   "metadata": {},
   "outputs": [
    {
     "data": {
      "text/html": [
       "<ol class=list-inline>\n",
       "\t<li>4</li>\n",
       "\t<li>5</li>\n",
       "\t<li>6</li>\n",
       "\t<li>7</li>\n",
       "</ol>\n"
      ],
      "text/latex": [
       "\\begin{enumerate*}\n",
       "\\item 4\n",
       "\\item 5\n",
       "\\item 6\n",
       "\\item 7\n",
       "\\end{enumerate*}\n"
      ],
      "text/markdown": [
       "1. 4\n",
       "2. 5\n",
       "3. 6\n",
       "4. 7\n",
       "\n",
       "\n"
      ],
      "text/plain": [
       "[1] 4 5 6 7"
      ]
     },
     "metadata": {},
     "output_type": "display_data"
    }
   ],
   "source": [
    "# vec[-1:-3] : 벡터요소 중 1번~3번 요소 빼고 출력\n",
    "a[-1:-3]"
   ]
  },
  {
   "cell_type": "code",
   "execution_count": 47,
   "metadata": {},
   "outputs": [
    {
     "data": {
      "text/html": [
       "<ol class=list-inline>\n",
       "\t<li>1</li>\n",
       "\t<li>10</li>\n",
       "\t<li>3</li>\n",
       "\t<li>4</li>\n",
       "\t<li>5</li>\n",
       "\t<li>6</li>\n",
       "\t<li>7</li>\n",
       "\t<li>11</li>\n",
       "</ol>\n"
      ],
      "text/latex": [
       "\\begin{enumerate*}\n",
       "\\item 1\n",
       "\\item 10\n",
       "\\item 3\n",
       "\\item 4\n",
       "\\item 5\n",
       "\\item 6\n",
       "\\item 7\n",
       "\\item 11\n",
       "\\end{enumerate*}\n"
      ],
      "text/markdown": [
       "1. 1\n",
       "2. 10\n",
       "3. 3\n",
       "4. 4\n",
       "5. 5\n",
       "6. 6\n",
       "7. 7\n",
       "8. 11\n",
       "\n",
       "\n"
      ],
      "text/plain": [
       "[1]  1 10  3  4  5  6  7 11"
      ]
     },
     "metadata": {},
     "output_type": "display_data"
    }
   ],
   "source": [
    "# 벡터 요소 변경1 => 벡터 자리 지정해서 입력\n",
    "a[2]<-10\n",
    "# 벡터 요소 변경2 => 맨 끝에다가 입력\n",
    "a<-c(a,11)\n",
    "a"
   ]
  },
  {
   "cell_type": "code",
   "execution_count": 50,
   "metadata": {},
   "outputs": [
    {
     "data": {
      "text/html": [
       "<ol class=list-inline>\n",
       "\t<li>1</li>\n",
       "\t<li>10</li>\n",
       "\t<li>3</li>\n",
       "\t<li>111</li>\n",
       "\t<li>4</li>\n",
       "\t<li>5</li>\n",
       "\t<li>6</li>\n",
       "\t<li>7</li>\n",
       "\t<li>11</li>\n",
       "</ol>\n"
      ],
      "text/latex": [
       "\\begin{enumerate*}\n",
       "\\item 1\n",
       "\\item 10\n",
       "\\item 3\n",
       "\\item 111\n",
       "\\item 4\n",
       "\\item 5\n",
       "\\item 6\n",
       "\\item 7\n",
       "\\item 11\n",
       "\\end{enumerate*}\n"
      ],
      "text/markdown": [
       "1. 1\n",
       "2. 10\n",
       "3. 3\n",
       "4. 111\n",
       "5. 4\n",
       "6. 5\n",
       "7. 6\n",
       "8. 7\n",
       "9. 11\n",
       "\n",
       "\n"
      ],
      "text/plain": [
       "[1]   1  10   3 111   4   5   6   7  11"
      ]
     },
     "metadata": {},
     "output_type": "display_data"
    },
    {
     "data": {
      "text/html": [
       "<ol class=list-inline>\n",
       "\t<li>1</li>\n",
       "\t<li>10</li>\n",
       "\t<li>3</li>\n",
       "\t<li>120</li>\n",
       "\t<li>121</li>\n",
       "\t<li>4</li>\n",
       "\t<li>5</li>\n",
       "\t<li>6</li>\n",
       "\t<li>7</li>\n",
       "\t<li>11</li>\n",
       "</ol>\n"
      ],
      "text/latex": [
       "\\begin{enumerate*}\n",
       "\\item 1\n",
       "\\item 10\n",
       "\\item 3\n",
       "\\item 120\n",
       "\\item 121\n",
       "\\item 4\n",
       "\\item 5\n",
       "\\item 6\n",
       "\\item 7\n",
       "\\item 11\n",
       "\\end{enumerate*}\n"
      ],
      "text/markdown": [
       "1. 1\n",
       "2. 10\n",
       "3. 3\n",
       "4. 120\n",
       "5. 121\n",
       "6. 4\n",
       "7. 5\n",
       "8. 6\n",
       "9. 7\n",
       "10. 11\n",
       "\n",
       "\n"
      ],
      "text/plain": [
       " [1]   1  10   3 120 121   4   5   6   7  11"
      ]
     },
     "metadata": {},
     "output_type": "display_data"
    }
   ],
   "source": [
    "# 벡터 요소 추가입력1 : append(vector, 넣을요소, after=특정위치) : 특정위치 뒤에 해당 벡터에 요소넣음\n",
    "append(a, 111, after=3)\n",
    "\n",
    "# 벡터 요소 추가입력2 : append(vector, c(120,121), after=3)\n",
    "append(a, c(120,121), after=3)"
   ]
  },
  {
   "cell_type": "code",
   "execution_count": 1,
   "metadata": {},
   "outputs": [
    {
     "data": {
      "text/html": [
       "<style>\n",
       ".list-inline {list-style: none; margin:0; padding: 0}\n",
       ".list-inline>li {display: inline-block}\n",
       ".list-inline>li:not(:last-child)::after {content: \"\\00b7\"; padding: 0 .5ex}\n",
       "</style>\n",
       "<ol class=list-inline><li>5</li><li>7</li><li>9</li></ol>\n"
      ],
      "text/latex": [
       "\\begin{enumerate*}\n",
       "\\item 5\n",
       "\\item 7\n",
       "\\item 9\n",
       "\\end{enumerate*}\n"
      ],
      "text/markdown": [
       "1. 5\n",
       "2. 7\n",
       "3. 9\n",
       "\n",
       "\n"
      ],
      "text/plain": [
       "[1] 5 7 9"
      ]
     },
     "metadata": {},
     "output_type": "display_data"
    }
   ],
   "source": [
    "# 벡터 사칙연산 -> 각 요소끼리 자동으로 계산\n",
    "c(1,2,3) + c(4,5,6)"
   ]
  },
  {
   "cell_type": "code",
   "execution_count": 2,
   "metadata": {},
   "outputs": [
    {
     "name": "stderr",
     "output_type": "stream",
     "text": [
      "Warning message in var1 + var2:\n",
      "\"두 객체의 길이가 서로 배수관계에 있지 않습니다\"\n"
     ]
    },
    {
     "data": {
      "text/html": [
       "<style>\n",
       ".list-inline {list-style: none; margin:0; padding: 0}\n",
       ".list-inline>li {display: inline-block}\n",
       ".list-inline>li:not(:last-child)::after {content: \"\\00b7\"; padding: 0 .5ex}\n",
       "</style>\n",
       "<ol class=list-inline><li>6</li><li>8</li><li>10</li><li>12</li><li>10</li></ol>\n"
      ],
      "text/latex": [
       "\\begin{enumerate*}\n",
       "\\item 6\n",
       "\\item 8\n",
       "\\item 10\n",
       "\\item 12\n",
       "\\item 10\n",
       "\\end{enumerate*}\n"
      ],
      "text/markdown": [
       "1. 6\n",
       "2. 8\n",
       "3. 10\n",
       "4. 12\n",
       "5. 10\n",
       "\n",
       "\n"
      ],
      "text/plain": [
       "[1]  6  8 10 12 10"
      ]
     },
     "metadata": {},
     "output_type": "display_data"
    }
   ],
   "source": [
    "# 벡터 순환원리 \n",
    "var1<-c(1,2,3,4)\n",
    "var2<-c(5,6,7,8,9)\n",
    "var1+var2"
   ]
  },
  {
   "cell_type": "code",
   "execution_count": 3,
   "metadata": {},
   "outputs": [
    {
     "data": {
      "text/html": [
       "4"
      ],
      "text/latex": [
       "4"
      ],
      "text/markdown": [
       "4"
      ],
      "text/plain": [
       "[1] 4"
      ]
     },
     "metadata": {},
     "output_type": "display_data"
    },
    {
     "data": {
      "text/html": [
       "4"
      ],
      "text/latex": [
       "4"
      ],
      "text/markdown": [
       "4"
      ],
      "text/plain": [
       "[1] 4"
      ]
     },
     "metadata": {},
     "output_type": "display_data"
    }
   ],
   "source": [
    "# 벡터 길이 출력  : length(), NROW()\n",
    "vec1<-c(1,2,3,4)\n",
    "length(vec1)\n",
    "NROW(vec1)"
   ]
  },
  {
   "cell_type": "code",
   "execution_count": 6,
   "metadata": {},
   "outputs": [
    {
     "data": {
      "text/html": [
       "TRUE"
      ],
      "text/latex": [
       "TRUE"
      ],
      "text/markdown": [
       "TRUE"
      ],
      "text/plain": [
       "[1] TRUE"
      ]
     },
     "metadata": {},
     "output_type": "display_data"
    },
    {
     "data": {
      "text/html": [
       "TRUE"
      ],
      "text/latex": [
       "TRUE"
      ],
      "text/markdown": [
       "TRUE"
      ],
      "text/plain": [
       "[1] TRUE"
      ]
     },
     "metadata": {},
     "output_type": "display_data"
    },
    {
     "data": {
      "text/html": [
       "FALSE"
      ],
      "text/latex": [
       "FALSE"
      ],
      "text/markdown": [
       "FALSE"
      ],
      "text/plain": [
       "[1] FALSE"
      ]
     },
     "metadata": {},
     "output_type": "display_data"
    }
   ],
   "source": [
    "# 벡터에 특정 문자 포함 여부 찾기\n",
    "var1<-c(1,2,3,4,'가')\n",
    "3 %in% var1\n",
    "'가' %in% var1\n",
    "'나' %in% var1"
   ]
  },
  {
   "cell_type": "code",
   "execution_count": 11,
   "metadata": {},
   "outputs": [
    {
     "data": {
      "text/html": [
       "<style>\n",
       ".list-inline {list-style: none; margin:0; padding: 0}\n",
       ".list-inline>li {display: inline-block}\n",
       ".list-inline>li:not(:last-child)::after {content: \"\\00b7\"; padding: 0 .5ex}\n",
       "</style>\n",
       "<ol class=list-inline><li>5</li><li>-3</li><li>8</li><li>&lt;NA&gt;</li></ol>\n"
      ],
      "text/latex": [
       "\\begin{enumerate*}\n",
       "\\item 5\n",
       "\\item -3\n",
       "\\item 8\n",
       "\\item <NA>\n",
       "\\end{enumerate*}\n"
      ],
      "text/markdown": [
       "1. 5\n",
       "2. -3\n",
       "3. 8\n",
       "4. &lt;NA&gt;\n",
       "\n",
       "\n"
      ],
      "text/plain": [
       "[1]  5 -3  8 NA"
      ]
     },
     "metadata": {},
     "output_type": "display_data"
    },
    {
     "data": {
      "text/html": [
       "<style>\n",
       ".list-inline {list-style: none; margin:0; padding: 0}\n",
       ".list-inline>li {display: inline-block}\n",
       ".list-inline>li:not(:last-child)::after {content: \"\\00b7\"; padding: 0 .5ex}\n",
       "</style>\n",
       "<ol class=list-inline><li>5</li><li>-3</li><li>8</li></ol>\n"
      ],
      "text/latex": [
       "\\begin{enumerate*}\n",
       "\\item 5\n",
       "\\item -3\n",
       "\\item 8\n",
       "\\end{enumerate*}\n"
      ],
      "text/markdown": [
       "1. 5\n",
       "2. -3\n",
       "3. 8\n",
       "\n",
       "\n"
      ],
      "text/plain": [
       "[1]  5 -3  8"
      ]
     },
     "metadata": {},
     "output_type": "display_data"
    },
    {
     "data": {
      "text/html": [
       "<style>\n",
       ".list-inline {list-style: none; margin:0; padding: 0}\n",
       ".list-inline>li {display: inline-block}\n",
       ".list-inline>li:not(:last-child)::after {content: \"\\00b7\"; padding: 0 .5ex}\n",
       "</style>\n",
       "<ol class=list-inline><li>1</li><li>3</li><li>4</li></ol>\n"
      ],
      "text/latex": [
       "\\begin{enumerate*}\n",
       "\\item 1\n",
       "\\item 3\n",
       "\\item 4\n",
       "\\end{enumerate*}\n"
      ],
      "text/markdown": [
       "1. 1\n",
       "2. 3\n",
       "3. 4\n",
       "\n",
       "\n"
      ],
      "text/plain": [
       "[1] 1 3 4"
      ]
     },
     "metadata": {},
     "output_type": "display_data"
    }
   ],
   "source": [
    "# 특정 벡터요소 추출하기\n",
    "z<-c(5,2,-3,8,NA)\n",
    "# 1. 논리테스트 => True에 해당하는 벡터요소 반환, NA 출력해버림\n",
    "w<-z[z*z>8]\n",
    "w\n",
    "\n",
    "# 2. subset함수 => subset(데이터, 조건) , NA 출력 안함!!\n",
    "y<-subset(z, z*z>8)\n",
    "y\n",
    "\n",
    "# 3. 특정조건 만족하는 벡터 인덱스 반환 => which(조건)\n",
    "which(z*z>8)"
   ]
  },
  {
   "cell_type": "code",
   "execution_count": 13,
   "metadata": {},
   "outputs": [
    {
     "data": {
      "text/html": [
       "<style>\n",
       ".list-inline {list-style: none; margin:0; padding: 0}\n",
       ".list-inline>li {display: inline-block}\n",
       ".list-inline>li:not(:last-child)::after {content: \"\\00b7\"; padding: 0 .5ex}\n",
       "</style>\n",
       "<ol class=list-inline><li>'apple'</li><li>'banana'</li><li>'grapes'</li></ol>\n"
      ],
      "text/latex": [
       "\\begin{enumerate*}\n",
       "\\item 'apple'\n",
       "\\item 'banana'\n",
       "\\item 'grapes'\n",
       "\\end{enumerate*}\n"
      ],
      "text/markdown": [
       "1. 'apple'\n",
       "2. 'banana'\n",
       "3. 'grapes'\n",
       "\n",
       "\n"
      ],
      "text/plain": [
       "[1] \"apple\"  \"banana\" \"grapes\""
      ]
     },
     "metadata": {},
     "output_type": "display_data"
    }
   ],
   "source": [
    "# 벡터 이름 지정 추출 => names()\n",
    "fruits<-c(1,2,3)\n",
    "names(fruits)<-c('apple','banana','grapes')\n",
    "names(fruits)"
   ]
  },
  {
   "cell_type": "code",
   "execution_count": 14,
   "metadata": {},
   "outputs": [
    {
     "data": {
      "text/plain": [
       "NULL"
      ]
     },
     "metadata": {},
     "output_type": "display_data"
    }
   ],
   "source": [
    "# names(vector)로 따로 지정안해주면 없다고(NULL)로 뜸\n",
    "fruits<-c(1,2,3)\n",
    "names(fruits)"
   ]
  },
  {
   "cell_type": "code",
   "execution_count": null,
   "metadata": {},
   "outputs": [],
   "source": []
  }
 ],
 "metadata": {
  "kernelspec": {
   "display_name": "R",
   "language": "R",
   "name": "ir"
  },
  "language_info": {
   "codemirror_mode": "r",
   "file_extension": ".r",
   "mimetype": "text/x-r-source",
   "name": "R",
   "pygments_lexer": "r",
   "version": "3.6.3"
  }
 },
 "nbformat": 4,
 "nbformat_minor": 4
}

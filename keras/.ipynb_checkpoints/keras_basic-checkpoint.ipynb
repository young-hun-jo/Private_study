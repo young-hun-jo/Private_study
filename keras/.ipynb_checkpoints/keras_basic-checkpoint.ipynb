{
 "cells": [
  {
   "cell_type": "code",
   "execution_count": 1,
   "metadata": {},
   "outputs": [
    {
     "name": "stderr",
     "output_type": "stream",
     "text": [
      "Using TensorFlow backend.\n"
     ]
    },
    {
     "data": {
      "text/plain": [
       "'2.3.1'"
      ]
     },
     "execution_count": 1,
     "metadata": {},
     "output_type": "execute_result"
    }
   ],
   "source": [
    "import keras\n",
    "keras.__version__"
   ]
  },
  {
   "cell_type": "code",
   "execution_count": 2,
   "metadata": {},
   "outputs": [],
   "source": [
    "#sequential = linear stack of layers\n",
    "from keras.models import Sequential\n",
    "from keras.layers import Dense"
   ]
  },
  {
   "cell_type": "code",
   "execution_count": 4,
   "metadata": {},
   "outputs": [
    {
     "data": {
      "text/plain": [
       "\"\\nmodel = Sequential([\\n    Dense(2, input_shape=(3,)),Activation('sigmoid'),\\n    Dense(1)\\n]) \\n\""
      ]
     },
     "execution_count": 4,
     "metadata": {},
     "output_type": "execute_result"
    }
   ],
   "source": [
    "# 모델 만들기\n",
    "model = Sequential()\n",
    "# layer하나씩 쌓기- 2개의 노드를 갖고 있는 인풋,히든 레이어 add\n",
    "# units = 히든레이어 노드개수, input_shape의 첫번째인자는 input개수, 두번째인자는 instance수인데 모르니까 비워드기(2차원)\n",
    "model.add(Dense(units=2, input_shape=(3,), activation='sigmoid'))\n",
    "#만약 1차원이면 input_dim=3 이런식으로 함\n",
    "model.add(Dense(1)) # output layer\n",
    "# if 멀티노미얼 분류문제면 뒤에 softmax로 activation함수로 인자 추가해 사용하거나 함!\n",
    "\n",
    "# Array형태로 써줄수도 있음\n",
    "'''\n",
    "model = Sequential([\n",
    "    Dense(2, input_shape=(3,)),Activation('sigmoid'),\n",
    "    Dense(1)\n",
    "]) \n",
    "'''"
   ]
  },
  {
   "cell_type": "code",
   "execution_count": 6,
   "metadata": {},
   "outputs": [
    {
     "name": "stdout",
     "output_type": "stream",
     "text": [
      "Model: \"sequential_1\"\n",
      "_________________________________________________________________\n",
      "Layer (type)                 Output Shape              Param #   \n",
      "=================================================================\n",
      "dense_1 (Dense)              (None, 2)                 8         \n",
      "_________________________________________________________________\n",
      "dense_2 (Dense)              (None, 1)                 3         \n",
      "=================================================================\n",
      "Total params: 11\n",
      "Trainable params: 11\n",
      "Non-trainable params: 0\n",
      "_________________________________________________________________\n"
     ]
    }
   ],
   "source": [
    "# 모델은 summary 해보기\n",
    "model.summary()\n",
    "# Param 이란? 노드 사이의 edge(선) 개수(각 선마다 weight값의 개수)"
   ]
  },
  {
   "cell_type": "code",
   "execution_count": 8,
   "metadata": {},
   "outputs": [
    {
     "data": {
      "text/plain": [
       "\"\\nmodel.compile(loss='categorical_crossentropy',\\n             optimizer=sgd,\\n             metrics=['accuracy'])\\n\""
      ]
     },
     "execution_count": 8,
     "metadata": {},
     "output_type": "execute_result"
    }
   ],
   "source": [
    "# 모델을 Compilation 하기 = configure learning process\n",
    "# 즉, minimize the cost -> optimizer사용\n",
    "from keras import optimizers\n",
    "\n",
    "# SGD Optimizer\n",
    "sgd = optimizers.SGD(lr=0.0001)\n",
    "# 모델 컴파일시 MSE Loss function 사용하고 최적화 방법 명시\n",
    "model.compile(loss='mse', optimizer=sgd)\n",
    "# 다른 loss function인 categorical_crossentropy => 다중분류시 사용\n",
    "'''\n",
    "model.compile(loss='categorical_crossentropy',\n",
    "             optimizer=sgd,\n",
    "             metrics=['accuracy'])\n",
    "'''"
   ]
  },
  {
   "cell_type": "code",
   "execution_count": null,
   "metadata": {},
   "outputs": [],
   "source": [
    "# 모델 fit(학습) 시키기\n",
    "# 새 변수로 할당하면 나중에 여러가지 내용 찾아볼 때 도움\n",
    "history = model.fit(x_train, y_train, epochs=100, batch_size=12)\n",
    "# (mini)batch_size => 120개의 데이터중 12개씩 나누어서 학습\n",
    "# epochs : 120개 전체 데이터셋을 100번 반복해서 학습 => 너무 많이 증가하면 오버피팅발생\n"
   ]
  },
  {
   "cell_type": "code",
   "execution_count": null,
   "metadata": {},
   "outputs": [],
   "source": []
  }
 ],
 "metadata": {
  "kernelspec": {
   "display_name": "Python 3",
   "language": "python",
   "name": "python3"
  },
  "language_info": {
   "codemirror_mode": {
    "name": "ipython",
    "version": 3
   },
   "file_extension": ".py",
   "mimetype": "text/x-python",
   "name": "python",
   "nbconvert_exporter": "python",
   "pygments_lexer": "ipython3",
   "version": "3.7.7"
  }
 },
 "nbformat": 4,
 "nbformat_minor": 4
}

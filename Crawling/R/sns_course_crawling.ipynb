{
 "cells": [
  {
   "cell_type": "code",
   "execution_count": 1,
   "metadata": {},
   "outputs": [],
   "source": [
    "library(httr)"
   ]
  },
  {
   "cell_type": "code",
   "execution_count": 2,
   "metadata": {},
   "outputs": [
    {
     "data": {
      "text/html": [
       "200"
      ],
      "text/latex": [
       "200"
      ],
      "text/markdown": [
       "200"
      ],
      "text/plain": [
       "[1] 200"
      ]
     },
     "metadata": {},
     "output_type": "display_data"
    }
   ],
   "source": [
    "URL = 'https://section.blog.naver.com/BlogHome.nhn'\n",
    "# query의 value는 숫자여도 문자열로 나타냄!\n",
    "res<-GET(url=URL, query=list(directoryNo='0',\n",
    "                            curreentPage='1',\n",
    "                            groupId='0'))\n",
    "status_code(res)"
   ]
  },
  {
   "cell_type": "code",
   "execution_count": 3,
   "metadata": {},
   "outputs": [
    {
     "data": {
      "text/plain": [
       "Response [https://section.blog.naver.com/BlogHome.nhn?directoryNo=0&curreentPage=1&groupId=0]\n",
       "  Date: 2020-04-29 09:46\n",
       "  Status: 200\n",
       "  Content-Type: text/html;charset=UTF-8\n",
       "  Size: 3.37 kB\n",
       "\n",
       "\n",
       "\n",
       "\n",
       "<!DOCTYPE html>\n",
       "<html lang=\"ko\">\n",
       "<head>\n",
       "    <meta http-equiv=\"X-UA-Compatible\" content=\"IE=edge\">\n",
       "    <base href=\"/home\" />\n",
       "    <meta name=\"robots\" content=\"noindex,nofollow\"/>\n",
       "..."
      ]
     },
     "metadata": {},
     "output_type": "display_data"
    }
   ],
   "source": [
    "res"
   ]
  },
  {
   "cell_type": "code",
   "execution_count": 7,
   "metadata": {},
   "outputs": [
    {
     "data": {
      "text/html": [
       "<span style=white-space:pre-wrap>'\\n\\n\\n\\n&lt;!DOCTYPE html&gt;\\n&lt;html lang=\"ko\"&gt;\\n&lt;head&gt;\\n    &lt;meta http-equiv=\"X-UA-Compatible\" content=\"IE=edge\"&gt;\\n    &lt;base href=\"/home\" /&gt;\\n    &lt;meta name=\"robots\" content=\"noindex,nofollow\"/&gt;\\n    &lt;meta name=\"referrer\" content=\"always\"/&gt;\\n    &lt;meta name=\"format-detection\" content=\"telephone=no\"&gt;\\n    &lt;link rel=\"shortcut icon\" type=\"image/x-icon\" href=\"https://section.blog.naver.com/favicon.ico?2\"/&gt;\\n    \\n\\n\\n\\n\\n \\n\\n\\t\\n\\t\\n\\t\\t&lt;meta property=\"og:title\" content=\"네이버 블로그\"/&gt;\\n\\t\\t&lt;meta property=\"og:image\" content=\"https://blogimgs.pstatic.net/nblog/mylog/post/og_default_image_160610.png\"/&gt;\\n\\t\\t&lt;meta property=\"og:description\" content=\"당신의 모든 기록을 담는 공간\"/&gt;\\n\\t\\n\\n&lt;meta property=\"me:feed:serviceId\" content=\"blog\" /&gt;\\n    &lt;meta http-equiv=\"Content-Type\" content=\"text/html; charset=UTF-8\" /&gt;\\n    &lt;title&gt;네이버 블로그&lt;/title&gt;\\n\\n    &lt;link rel=\"stylesheet\" type=\"text/css\" href=\"https://ssl.pstatic.net/t.static.blog/section/versioning/section_ngapp-188259986_https.css\" charset=\"UTF-8\" /&gt;\\n\\n    &lt;script&gt;\\n        var angularConfig = {\"isDev\":false,\"jeagleEyeDebug\":false};\\n        var readOnlyStatus = {\"isReadOnly\":false,\"startTime\":null,\"endTime\":null,\"reason\":null,\"usageTip\":null,\"maintenanceType\":null,\"maintenancePeriod\":null};\\n        var urlMap = {\"item2\":\"https://item2.naver.com\",\"ad\":\"https://veta.naver.com\",\"id_secret\":\"https://nid.naver.com\",\"likeit\":\"https://blog.like.naver.com\",\"nmobile\":\"https://m.blog.naver.com\",\"admin\":\"https://admin.blog.naver.com\",\"section\":\"https://section.blog.naver.com\",\"blog\":\"https://blog.naver.com\",\"spi\":\"https://ssl.pstatic.net/spi\",\"blogprofilethumb\":\"https://blogpfthumb-phinf.pstatic.net\",\"kin\":\"http://kin.naver.com\",\"help\":\"http://help.naver.com\",\"search\":\"http://search.naver.com\",\"guestbook\":\"https://guestbook.blog.naver.com\",\"gn_stndard\":\"https://ssl.pstatic.net/static.gn/templates/gnb_utf8.nhn\",\"thumbnail2\":\"https://blogthumb.pstatic.net\",\"lcs\":\"lcs.naver.com\"};\\n        var nsc = \"blog.mainv2\";\\n\\n        // 팝업을 통해서 부모창을 제어하기 위해 필요\\n        document.domain = \\'naver.com\\';\\n        //튜토리얼 css 가 제대로 동작안해서 필요\\n        var doc = document.documentElement;\\n        doc.setAttribute(\\'data-useragent\\',navigator.userAgent);\\n    &lt;/script&gt;\\n    &lt;script type=\"text/javascript\" src=\"https://ssl.pstatic.net/t.static.blog/section/versioning/NgAppBundle1-1625453834_https.js\" charset=\"UTF-8\"&gt;&lt;/script&gt;\\n    &lt;script type=\"text/javascript\" src=\"https://ssl.pstatic.net/t.static.blog/section/versioning/NgAppBundle2-568438245_https.js\" charset=\"UTF-8\"&gt;&lt;/script&gt;\\n    &lt;script type=\"text/javascript\" src=\"https://ssl.pstatic.net/t.static.blog/section/versioning/NgTemplate-117397849_https.js\" charset=\"UTF-8\"&gt;&lt;/script&gt;\\n&lt;/head&gt;\\n\\n&lt;body bg-body-click&gt;\\n&lt;ui-view autoscroll=\"true\"&gt;&lt;/ui-view&gt;\\n&lt;/body&gt;\\n&lt;script&gt;\\n\\n    if(userAgentUtil.isNotSupportBrowser()){\\n        alert(\\'IE8 이하 브라우저에서는 \"신규버전 보기\"를 제공하지 않습니다.\\\\n브라우저 업데이트를 부탁드립니다.\\');\\n        location.href = \\'/SectionMain.nhn\\';\\n    }else{\\n        angular.element(document).ready(function() {\\n            angular.bootstrap(document, [\\'bgApp\\'], {\\n                strictDi: true\\n            });\\n        });\\n    }\\n\\n&lt;/script&gt;\\n&lt;script type=\"text/javascript\" charset=\"utf-8\" src=\"https://ssl.pstatic.net/tveta/libs/ssp/ssp.web.sdk.js\"&gt;&lt;/script&gt;\\n&lt;/html&gt;\\n'</span>"
      ],
      "text/latex": [
       "'\\textbackslash{}n\\textbackslash{}n\\textbackslash{}n\\textbackslash{}n<!DOCTYPE html>\\textbackslash{}n<html lang=\"ko\">\\textbackslash{}n<head>\\textbackslash{}n    <meta http-equiv=\"X-UA-Compatible\" content=\"IE=edge\">\\textbackslash{}n    <base href=\"/home\" />\\textbackslash{}n    <meta name=\"robots\" content=\"noindex,nofollow\"/>\\textbackslash{}n    <meta name=\"referrer\" content=\"always\"/>\\textbackslash{}n    <meta name=\"format-detection\" content=\"telephone=no\">\\textbackslash{}n    <link rel=\"shortcut icon\" type=\"image/x-icon\" href=\"https://section.blog.naver.com/favicon.ico?2\"/>\\textbackslash{}n    \\textbackslash{}n\\textbackslash{}n\\textbackslash{}n\\textbackslash{}n\\textbackslash{}n \\textbackslash{}n\\textbackslash{}n\\textbackslash{}t\\textbackslash{}n\\textbackslash{}t\\textbackslash{}n\\textbackslash{}t\\textbackslash{}t<meta property=\"og:title\" content=\"네이버 블로그\"/>\\textbackslash{}n\\textbackslash{}t\\textbackslash{}t<meta property=\"og:image\" content=\"https://blogimgs.pstatic.net/nblog/mylog/post/og\\_default\\_image\\_160610.png\"/>\\textbackslash{}n\\textbackslash{}t\\textbackslash{}t<meta property=\"og:description\" content=\"당신의 모든 기록을 담는 공간\"/>\\textbackslash{}n\\textbackslash{}t\\textbackslash{}n\\textbackslash{}n<meta property=\"me:feed:serviceId\" content=\"blog\" />\\textbackslash{}n    <meta http-equiv=\"Content-Type\" content=\"text/html; charset=UTF-8\" />\\textbackslash{}n    <title>네이버 블로그</title>\\textbackslash{}n\\textbackslash{}n    <link rel=\"stylesheet\" type=\"text/css\" href=\"https://ssl.pstatic.net/t.static.blog/section/versioning/section\\_ngapp-188259986\\_https.css\" charset=\"UTF-8\" />\\textbackslash{}n\\textbackslash{}n    <script>\\textbackslash{}n        var angularConfig = \\{\"isDev\":false,\"jeagleEyeDebug\":false\\};\\textbackslash{}n        var readOnlyStatus = \\{\"isReadOnly\":false,\"startTime\":null,\"endTime\":null,\"reason\":null,\"usageTip\":null,\"maintenanceType\":null,\"maintenancePeriod\":null\\};\\textbackslash{}n        var urlMap = \\{\"item2\":\"https://item2.naver.com\",\"ad\":\"https://veta.naver.com\",\"id\\_secret\":\"https://nid.naver.com\",\"likeit\":\"https://blog.like.naver.com\",\"nmobile\":\"https://m.blog.naver.com\",\"admin\":\"https://admin.blog.naver.com\",\"section\":\"https://section.blog.naver.com\",\"blog\":\"https://blog.naver.com\",\"spi\":\"https://ssl.pstatic.net/spi\",\"blogprofilethumb\":\"https://blogpfthumb-phinf.pstatic.net\",\"kin\":\"http://kin.naver.com\",\"help\":\"http://help.naver.com\",\"search\":\"http://search.naver.com\",\"guestbook\":\"https://guestbook.blog.naver.com\",\"gn\\_stndard\":\"https://ssl.pstatic.net/static.gn/templates/gnb\\_utf8.nhn\",\"thumbnail2\":\"https://blogthumb.pstatic.net\",\"lcs\":\"lcs.naver.com\"\\};\\textbackslash{}n        var nsc = \"blog.mainv2\";\\textbackslash{}n\\textbackslash{}n        // 팝업을 통해서 부모창을 제어하기 위해 필요\\textbackslash{}n        document.domain = \\textbackslash{}'naver.com\\textbackslash{}';\\textbackslash{}n        //튜토리얼 css 가 제대로 동작안해서 필요\\textbackslash{}n        var doc = document.documentElement;\\textbackslash{}n        doc.setAttribute(\\textbackslash{}'data-useragent\\textbackslash{}',navigator.userAgent);\\textbackslash{}n    </script>\\textbackslash{}n    <script type=\"text/javascript\" src=\"https://ssl.pstatic.net/t.static.blog/section/versioning/NgAppBundle1-1625453834\\_https.js\" charset=\"UTF-8\"></script>\\textbackslash{}n    <script type=\"text/javascript\" src=\"https://ssl.pstatic.net/t.static.blog/section/versioning/NgAppBundle2-568438245\\_https.js\" charset=\"UTF-8\"></script>\\textbackslash{}n    <script type=\"text/javascript\" src=\"https://ssl.pstatic.net/t.static.blog/section/versioning/NgTemplate-117397849\\_https.js\" charset=\"UTF-8\"></script>\\textbackslash{}n</head>\\textbackslash{}n\\textbackslash{}n<body bg-body-click>\\textbackslash{}n<ui-view autoscroll=\"true\"></ui-view>\\textbackslash{}n</body>\\textbackslash{}n<script>\\textbackslash{}n\\textbackslash{}n    if(userAgentUtil.isNotSupportBrowser())\\{\\textbackslash{}n        alert(\\textbackslash{}'IE8 이하 브라우저에서는 \"신규버전 보기\"를 제공하지 않습니다.\\textbackslash{}\\textbackslash{}n브라우저 업데이트를 부탁드립니다.\\textbackslash{}');\\textbackslash{}n        location.href = \\textbackslash{}'/SectionMain.nhn\\textbackslash{}';\\textbackslash{}n    \\}else\\{\\textbackslash{}n        angular.element(document).ready(function() \\{\\textbackslash{}n            angular.bootstrap(document, {[}\\textbackslash{}'bgApp\\textbackslash{}'{]}, \\{\\textbackslash{}n                strictDi: true\\textbackslash{}n            \\});\\textbackslash{}n        \\});\\textbackslash{}n    \\}\\textbackslash{}n\\textbackslash{}n</script>\\textbackslash{}n<script type=\"text/javascript\" charset=\"utf-8\" src=\"https://ssl.pstatic.net/tveta/libs/ssp/ssp.web.sdk.js\"></script>\\textbackslash{}n</html>\\textbackslash{}n'"
      ],
      "text/markdown": [
       "<span style=white-space:pre-wrap>'\\n\\n\\n\\n&lt;!DOCTYPE html&gt;\\n&lt;html lang=\"ko\"&gt;\\n&lt;head&gt;\\n    &lt;meta http-equiv=\"X-UA-Compatible\" content=\"IE=edge\"&gt;\\n    &lt;base href=\"/home\" /&gt;\\n    &lt;meta name=\"robots\" content=\"noindex,nofollow\"/&gt;\\n    &lt;meta name=\"referrer\" content=\"always\"/&gt;\\n    &lt;meta name=\"format-detection\" content=\"telephone=no\"&gt;\\n    &lt;link rel=\"shortcut icon\" type=\"image/x-icon\" href=\"https://section.blog.naver.com/favicon.ico?2\"/&gt;\\n    \\n\\n\\n\\n\\n \\n\\n\\t\\n\\t\\n\\t\\t&lt;meta property=\"og:title\" content=\"네이버 블로그\"/&gt;\\n\\t\\t&lt;meta property=\"og:image\" content=\"https://blogimgs.pstatic.net/nblog/mylog/post/og_default_image_160610.png\"/&gt;\\n\\t\\t&lt;meta property=\"og:description\" content=\"당신의 모든 기록을 담는 공간\"/&gt;\\n\\t\\n\\n&lt;meta property=\"me:feed:serviceId\" content=\"blog\" /&gt;\\n    &lt;meta http-equiv=\"Content-Type\" content=\"text/html; charset=UTF-8\" /&gt;\\n    &lt;title&gt;네이버 블로그&lt;/title&gt;\\n\\n    &lt;link rel=\"stylesheet\" type=\"text/css\" href=\"https://ssl.pstatic.net/t.static.blog/section/versioning/section_ngapp-188259986_https.css\" charset=\"UTF-8\" /&gt;\\n\\n    &lt;script&gt;\\n        var angularConfig = {\"isDev\":false,\"jeagleEyeDebug\":false};\\n        var readOnlyStatus = {\"isReadOnly\":false,\"startTime\":null,\"endTime\":null,\"reason\":null,\"usageTip\":null,\"maintenanceType\":null,\"maintenancePeriod\":null};\\n        var urlMap = {\"item2\":\"https://item2.naver.com\",\"ad\":\"https://veta.naver.com\",\"id_secret\":\"https://nid.naver.com\",\"likeit\":\"https://blog.like.naver.com\",\"nmobile\":\"https://m.blog.naver.com\",\"admin\":\"https://admin.blog.naver.com\",\"section\":\"https://section.blog.naver.com\",\"blog\":\"https://blog.naver.com\",\"spi\":\"https://ssl.pstatic.net/spi\",\"blogprofilethumb\":\"https://blogpfthumb-phinf.pstatic.net\",\"kin\":\"http://kin.naver.com\",\"help\":\"http://help.naver.com\",\"search\":\"http://search.naver.com\",\"guestbook\":\"https://guestbook.blog.naver.com\",\"gn_stndard\":\"https://ssl.pstatic.net/static.gn/templates/gnb_utf8.nhn\",\"thumbnail2\":\"https://blogthumb.pstatic.net\",\"lcs\":\"lcs.naver.com\"};\\n        var nsc = \"blog.mainv2\";\\n\\n        // 팝업을 통해서 부모창을 제어하기 위해 필요\\n        document.domain = \\'naver.com\\';\\n        //튜토리얼 css 가 제대로 동작안해서 필요\\n        var doc = document.documentElement;\\n        doc.setAttribute(\\'data-useragent\\',navigator.userAgent);\\n    &lt;/script&gt;\\n    &lt;script type=\"text/javascript\" src=\"https://ssl.pstatic.net/t.static.blog/section/versioning/NgAppBundle1-1625453834_https.js\" charset=\"UTF-8\"&gt;&lt;/script&gt;\\n    &lt;script type=\"text/javascript\" src=\"https://ssl.pstatic.net/t.static.blog/section/versioning/NgAppBundle2-568438245_https.js\" charset=\"UTF-8\"&gt;&lt;/script&gt;\\n    &lt;script type=\"text/javascript\" src=\"https://ssl.pstatic.net/t.static.blog/section/versioning/NgTemplate-117397849_https.js\" charset=\"UTF-8\"&gt;&lt;/script&gt;\\n&lt;/head&gt;\\n\\n&lt;body bg-body-click&gt;\\n&lt;ui-view autoscroll=\"true\"&gt;&lt;/ui-view&gt;\\n&lt;/body&gt;\\n&lt;script&gt;\\n\\n    if(userAgentUtil.isNotSupportBrowser()){\\n        alert(\\'IE8 이하 브라우저에서는 \"신규버전 보기\"를 제공하지 않습니다.\\\\n브라우저 업데이트를 부탁드립니다.\\');\\n        location.href = \\'/SectionMain.nhn\\';\\n    }else{\\n        angular.element(document).ready(function() {\\n            angular.bootstrap(document, [\\'bgApp\\'], {\\n                strictDi: true\\n            });\\n        });\\n    }\\n\\n&lt;/script&gt;\\n&lt;script type=\"text/javascript\" charset=\"utf-8\" src=\"https://ssl.pstatic.net/tveta/libs/ssp/ssp.web.sdk.js\"&gt;&lt;/script&gt;\\n&lt;/html&gt;\\n'</span>"
      ],
      "text/plain": [
       "[1] \"\\n\\n\\n\\n<!DOCTYPE html>\\n<html lang=\\\"ko\\\">\\n<head>\\n    <meta http-equiv=\\\"X-UA-Compatible\\\" content=\\\"IE=edge\\\">\\n    <base href=\\\"/home\\\" />\\n    <meta name=\\\"robots\\\" content=\\\"noindex,nofollow\\\"/>\\n    <meta name=\\\"referrer\\\" content=\\\"always\\\"/>\\n    <meta name=\\\"format-detection\\\" content=\\\"telephone=no\\\">\\n    <link rel=\\\"shortcut icon\\\" type=\\\"image/x-icon\\\" href=\\\"https://section.blog.naver.com/favicon.ico?2\\\"/>\\n    \\n\\n\\n\\n\\n \\n\\n\\t\\n\\t\\n\\t\\t<meta property=\\\"og:title\\\" content=\\\"네이버 블로그\\\"/>\\n\\t\\t<meta property=\\\"og:image\\\" content=\\\"https://blogimgs.pstatic.net/nblog/mylog/post/og_default_image_160610.png\\\"/>\\n\\t\\t<meta property=\\\"og:description\\\" content=\\\"당신의 모든 기록을 담는 공간\\\"/>\\n\\t\\n\\n<meta property=\\\"me:feed:serviceId\\\" content=\\\"blog\\\" />\\n    <meta http-equiv=\\\"Content-Type\\\" content=\\\"text/html; charset=UTF-8\\\" />\\n    <title>네이버 블로그</title>\\n\\n    <link rel=\\\"stylesheet\\\" type=\\\"text/css\\\" href=\\\"https://ssl.pstatic.net/t.static.blog/section/versioning/section_ngapp-188259986_https.css\\\" charset=\\\"UTF-8\\\" />\\n\\n    <script>\\n        var angularConfig = {\\\"isDev\\\":false,\\\"jeagleEyeDebug\\\":false};\\n        var readOnlyStatus = {\\\"isReadOnly\\\":false,\\\"startTime\\\":null,\\\"endTime\\\":null,\\\"reason\\\":null,\\\"usageTip\\\":null,\\\"maintenanceType\\\":null,\\\"maintenancePeriod\\\":null};\\n        var urlMap = {\\\"item2\\\":\\\"https://item2.naver.com\\\",\\\"ad\\\":\\\"https://veta.naver.com\\\",\\\"id_secret\\\":\\\"https://nid.naver.com\\\",\\\"likeit\\\":\\\"https://blog.like.naver.com\\\",\\\"nmobile\\\":\\\"https://m.blog.naver.com\\\",\\\"admin\\\":\\\"https://admin.blog.naver.com\\\",\\\"section\\\":\\\"https://section.blog.naver.com\\\",\\\"blog\\\":\\\"https://blog.naver.com\\\",\\\"spi\\\":\\\"https://ssl.pstatic.net/spi\\\",\\\"blogprofilethumb\\\":\\\"https://blogpfthumb-phinf.pstatic.net\\\",\\\"kin\\\":\\\"http://kin.naver.com\\\",\\\"help\\\":\\\"http://help.naver.com\\\",\\\"search\\\":\\\"http://search.naver.com\\\",\\\"guestbook\\\":\\\"https://guestbook.blog.naver.com\\\",\\\"gn_stndard\\\":\\\"https://ssl.pstatic.net/static.gn/templates/gnb_utf8.nhn\\\",\\\"thumbnail2\\\":\\\"https://blogthumb.pstatic.net\\\",\\\"lcs\\\":\\\"lcs.naver.com\\\"};\\n        var nsc = \\\"blog.mainv2\\\";\\n\\n        // 팝업을 통해서 부모창을 제어하기 위해 필요\\n        document.domain = 'naver.com';\\n        //튜토리얼 css 가 제대로 동작안해서 필요\\n        var doc = document.documentElement;\\n        doc.setAttribute('data-useragent',navigator.userAgent);\\n    </script>\\n    <script type=\\\"text/javascript\\\" src=\\\"https://ssl.pstatic.net/t.static.blog/section/versioning/NgAppBundle1-1625453834_https.js\\\" charset=\\\"UTF-8\\\"></script>\\n    <script type=\\\"text/javascript\\\" src=\\\"https://ssl.pstatic.net/t.static.blog/section/versioning/NgAppBundle2-568438245_https.js\\\" charset=\\\"UTF-8\\\"></script>\\n    <script type=\\\"text/javascript\\\" src=\\\"https://ssl.pstatic.net/t.static.blog/section/versioning/NgTemplate-117397849_https.js\\\" charset=\\\"UTF-8\\\"></script>\\n</head>\\n\\n<body bg-body-click>\\n<ui-view autoscroll=\\\"true\\\"></ui-view>\\n</body>\\n<script>\\n\\n    if(userAgentUtil.isNotSupportBrowser()){\\n        alert('IE8 이하 브라우저에서는 \\\"신규버전 보기\\\"를 제공하지 않습니다.\\\\n브라우저 업데이트를 부탁드립니다.');\\n        location.href = '/SectionMain.nhn';\\n    }else{\\n        angular.element(document).ready(function() {\\n            angular.bootstrap(document, ['bgApp'], {\\n                strictDi: true\\n            });\\n        });\\n    }\\n\\n</script>\\n<script type=\\\"text/javascript\\\" charset=\\\"utf-8\\\" src=\\\"https://ssl.pstatic.net/tveta/libs/ssp/ssp.web.sdk.js\\\"></script>\\n</html>\\n\""
      ]
     },
     "metadata": {},
     "output_type": "display_data"
    }
   ],
   "source": [
    "# res에 담은 content보기\n",
    "content(x = res, as='text')"
   ]
  },
  {
   "cell_type": "code",
   "execution_count": 8,
   "metadata": {},
   "outputs": [
    {
     "name": "stderr",
     "output_type": "stream",
     "text": [
      "Loading required package: xml2\n",
      "\n"
     ]
    }
   ],
   "source": [
    "# rvest패키지 : read_html(), html_attr(s)(), html_name(), html_table(),html_text()\n",
    "library(rvest)"
   ]
  },
  {
   "cell_type": "code",
   "execution_count": 9,
   "metadata": {},
   "outputs": [
    {
     "data": {
      "text/plain": [
       "{html_document}\n",
       "<html lang=\"ko\">\n",
       "[1] <head>\\n<meta http-equiv=\"X-UA-Compatible\" content=\"IE=edge\">\\n<base href ...\n",
       "[2] <body bg-body-click>\\n<ui-view autoscroll=\"true\"></ui-view>\\n</body>\\n\n",
       "[3] <script>\\n\\n    if(userAgentUtil.isNotSupportBrowser()){\\n        alert(' ...\n",
       "[4] <script type=\"text/javascript\" charset=\"utf-8\" src=\"https://ssl.pstatic.n ..."
      ]
     },
     "metadata": {},
     "output_type": "display_data"
    }
   ],
   "source": [
    "# tirm=TRUE하면 불필요한 공간 없애줌\n",
    "text<-read_html(res, trim=TRUE)\n",
    "text"
   ]
  },
  {
   "cell_type": "code",
   "execution_count": 10,
   "metadata": {},
   "outputs": [
    {
     "name": "stderr",
     "output_type": "stream",
     "text": [
      "\n",
      "Attaching package: 'dplyr'\n",
      "\n",
      "\n",
      "The following objects are masked from 'package:stats':\n",
      "\n",
      "    filter, lag\n",
      "\n",
      "\n",
      "The following objects are masked from 'package:base':\n",
      "\n",
      "    intersect, setdiff, setequal, union\n",
      "\n",
      "\n"
     ]
    }
   ],
   "source": [
    "# %>% pipe operator 슬려면 dplyr 패키지 로드\n",
    "library(dplyr)"
   ]
  },
  {
   "cell_type": "code",
   "execution_count": 12,
   "metadata": {},
   "outputs": [
    {
     "data": {
      "text/html": [
       "<style>\n",
       ".list-inline {list-style: none; margin:0; padding: 0}\n",
       ".list-inline>li {display: inline-block}\n",
       ".list-inline>li:not(:last-child)::after {content: \"\\00b7\"; padding: 0 .5ex}\n",
       "</style>\n",
       "<ol class=list-inline><li>'메일'</li><li>'카페'</li><li>'블로그'</li><li>'지식iN'</li><li>'쇼핑'</li><li>'Pay'</li><li>'TV'</li></ol>\n"
      ],
      "text/latex": [
       "\\begin{enumerate*}\n",
       "\\item '메일'\n",
       "\\item '카페'\n",
       "\\item '블로그'\n",
       "\\item '지식iN'\n",
       "\\item '쇼핑'\n",
       "\\item 'Pay'\n",
       "\\item 'TV'\n",
       "\\end{enumerate*}\n"
      ],
      "text/markdown": [
       "1. '메일'\n",
       "2. '카페'\n",
       "3. '블로그'\n",
       "4. '지식iN'\n",
       "5. '쇼핑'\n",
       "6. 'Pay'\n",
       "7. 'TV'\n",
       "\n",
       "\n"
      ],
      "text/plain": [
       "[1] \"메일\"   \"카페\"   \"블로그\" \"지식iN\" \"쇼핑\"   \"Pay\"    \"TV\"    "
      ]
     },
     "metadata": {},
     "output_type": "display_data"
    }
   ],
   "source": [
    "URL='https://www.naver.com/'\n",
    "res<-GET(url=URL)\n",
    "menu<- res %>%\n",
    "read_html() %>%\n",
    "html_nodes(css='ul.list_nav.type_fix li.nav_item') %>%\n",
    "html_text()\n",
    "menu"
   ]
  },
  {
   "cell_type": "code",
   "execution_count": 13,
   "metadata": {},
   "outputs": [
    {
     "data": {
      "text/html": [
       "'character'"
      ],
      "text/latex": [
       "'character'"
      ],
      "text/markdown": [
       "'character'"
      ],
      "text/plain": [
       "[1] \"character\""
      ]
     },
     "metadata": {},
     "output_type": "display_data"
    }
   ],
   "source": [
    "class(menu)"
   ]
  },
  {
   "cell_type": "code",
   "execution_count": 14,
   "metadata": {},
   "outputs": [
    {
     "data": {
      "text/html": [
       "'CP949'"
      ],
      "text/latex": [
       "'CP949'"
      ],
      "text/markdown": [
       "'CP949'"
      ],
      "text/plain": [
       "[1] \"CP949\""
      ]
     },
     "metadata": {},
     "output_type": "display_data"
    }
   ],
   "source": [
    "localeToCharset()"
   ]
  },
  {
   "cell_type": "code",
   "execution_count": 15,
   "metadata": {},
   "outputs": [
    {
     "data": {
      "text/html": [
       "'unknown'"
      ],
      "text/latex": [
       "'unknown'"
      ],
      "text/markdown": [
       "'unknown'"
      ],
      "text/plain": [
       "[1] \"unknown\""
      ]
     },
     "metadata": {},
     "output_type": "display_data"
    }
   ],
   "source": [
    "# unknown = 'CP949'\n",
    "Encoding(x='가나다')"
   ]
  },
  {
   "cell_type": "code",
   "execution_count": 17,
   "metadata": {},
   "outputs": [
    {
     "data": {
      "text/html": [
       "'가나다'"
      ],
      "text/latex": [
       "'가나다'"
      ],
      "text/markdown": [
       "'가나다'"
      ],
      "text/plain": [
       "[1] \"가나다\""
      ]
     },
     "metadata": {},
     "output_type": "display_data"
    }
   ],
   "source": [
    "iconv(x='가나다', from='CP949', to='UTF-8')"
   ]
  },
  {
   "cell_type": "code",
   "execution_count": 19,
   "metadata": {},
   "outputs": [
    {
     "name": "stderr",
     "output_type": "stream",
     "text": [
      "\n",
      "Attaching package: 'readr'\n",
      "\n",
      "\n",
      "The following object is masked from 'package:rvest':\n",
      "\n",
      "    guess_encoding\n",
      "\n",
      "\n"
     ]
    }
   ],
   "source": [
    "library(readr)"
   ]
  },
  {
   "cell_type": "code",
   "execution_count": 20,
   "metadata": {},
   "outputs": [
    {
     "data": {
      "text/html": [
       "<table>\n",
       "<caption>A tibble: 2 × 2</caption>\n",
       "<thead>\n",
       "\t<tr><th scope=col>encoding</th><th scope=col>confidence</th></tr>\n",
       "\t<tr><th scope=col>&lt;chr&gt;</th><th scope=col>&lt;dbl&gt;</th></tr>\n",
       "</thead>\n",
       "<tbody>\n",
       "\t<tr><td>UTF-8       </td><td>1.00</td></tr>\n",
       "\t<tr><td>windows-1252</td><td>0.24</td></tr>\n",
       "</tbody>\n",
       "</table>\n"
      ],
      "text/latex": [
       "A tibble: 2 × 2\n",
       "\\begin{tabular}{ll}\n",
       " encoding & confidence\\\\\n",
       " <chr> & <dbl>\\\\\n",
       "\\hline\n",
       "\t UTF-8        & 1.00\\\\\n",
       "\t windows-1252 & 0.24\\\\\n",
       "\\end{tabular}\n"
      ],
      "text/markdown": [
       "\n",
       "A tibble: 2 × 2\n",
       "\n",
       "| encoding &lt;chr&gt; | confidence &lt;dbl&gt; |\n",
       "|---|---|\n",
       "| UTF-8        | 1.00 |\n",
       "| windows-1252 | 0.24 |\n",
       "\n"
      ],
      "text/plain": [
       "  encoding     confidence\n",
       "1 UTF-8        1.00      \n",
       "2 windows-1252 0.24      "
      ]
     },
     "metadata": {},
     "output_type": "display_data"
    }
   ],
   "source": [
    "guess_encoding(file='Covid19_cheonan_crawling.ipynb')\n",
    "\n",
    "# confidence가 높은걸로 선택!"
   ]
  },
  {
   "cell_type": "code",
   "execution_count": 21,
   "metadata": {},
   "outputs": [
    {
     "name": "stdout",
     "output_type": "stream",
     "text": [
      "[1] \"<U+00BE><U+0233><e7><c7><U+03FC><U+00BC><U+00BF><e4>\"\n"
     ]
    }
   ],
   "source": [
    "text<-'안녕하세요'\n",
    "Encoding(text)<-'UTF-8'\n",
    "print(text)"
   ]
  },
  {
   "cell_type": "code",
   "execution_count": 22,
   "metadata": {},
   "outputs": [
    {
     "data": {
      "text/html": [
       "'UTF-8'"
      ],
      "text/latex": [
       "'UTF-8'"
      ],
      "text/markdown": [
       "'UTF-8'"
      ],
      "text/plain": [
       "[1] \"UTF-8\""
      ]
     },
     "metadata": {},
     "output_type": "display_data"
    }
   ],
   "source": [
    "Encoding(text)"
   ]
  },
  {
   "cell_type": "code",
   "execution_count": 29,
   "metadata": {},
   "outputs": [
    {
     "name": "stdout",
     "output_type": "stream",
     "text": [
      "[1] \"안녕하세요\"\n"
     ]
    }
   ],
   "source": [
    "Encoding(text)<-'CP949'\n",
    "print(text)"
   ]
  },
  {
   "cell_type": "code",
   "execution_count": 31,
   "metadata": {},
   "outputs": [
    {
     "data": {
      "text/html": [
       "'LC_COLLATE=Korean_Korea.949;LC_CTYPE=Korean_Korea.949;LC_MONETARY=Korean_Korea.949;LC_NUMERIC=C;LC_TIME=Korean_Korea.949'"
      ],
      "text/latex": [
       "'LC\\_COLLATE=Korean\\_Korea.949;LC\\_CTYPE=Korean\\_Korea.949;LC\\_MONETARY=Korean\\_Korea.949;LC\\_NUMERIC=C;LC\\_TIME=Korean\\_Korea.949'"
      ],
      "text/markdown": [
       "'LC_COLLATE=Korean_Korea.949;LC_CTYPE=Korean_Korea.949;LC_MONETARY=Korean_Korea.949;LC_NUMERIC=C;LC_TIME=Korean_Korea.949'"
      ],
      "text/plain": [
       "[1] \"LC_COLLATE=Korean_Korea.949;LC_CTYPE=Korean_Korea.949;LC_MONETARY=Korean_Korea.949;LC_NUMERIC=C;LC_TIME=Korean_Korea.949\""
      ]
     },
     "metadata": {},
     "output_type": "display_data"
    }
   ],
   "source": [
    "Sys.getlocale()"
   ]
  },
  {
   "cell_type": "code",
   "execution_count": 32,
   "metadata": {},
   "outputs": [
    {
     "ename": "ERROR",
     "evalue": "Error in Sys.setlocale(category = \"LC_ALL\", name = \"korean\"): 사용되지 않은 인자 (name = \"korean\")\n",
     "output_type": "error",
     "traceback": [
      "Error in Sys.setlocale(category = \"LC_ALL\", name = \"korean\"): 사용되지 않은 인자 (name = \"korean\")\nTraceback:\n"
     ]
    }
   ],
   "source": [
    "Sys.setlocale(category = 'LC_ALL', name='korean')"
   ]
  },
  {
   "cell_type": "markdown",
   "metadata": {},
   "source": [
    "# .asp 방식은 -> POST방식!!!"
   ]
  },
  {
   "cell_type": "code",
   "execution_count": 33,
   "metadata": {},
   "outputs": [
    {
     "name": "stderr",
     "output_type": "stream",
     "text": [
      "\n",
      "Attaching package: 'urltools'\n",
      "\n",
      "\n",
      "The following object is masked from 'package:xml2':\n",
      "\n",
      "    url_parse\n",
      "\n",
      "\n"
     ]
    }
   ],
   "source": [
    "# POST방식 form value들 인코딩해서 넣어주기 위해서 urltools 라이브러리 로드\n",
    "library(urltools)"
   ]
  },
  {
   "cell_type": "code",
   "execution_count": 34,
   "metadata": {},
   "outputs": [
    {
     "data": {
      "text/html": [
       "'%b0%a1%b3%aa%b4%d9'"
      ],
      "text/latex": [
       "'\\%b0\\%a1\\%b3\\%aa\\%b4\\%d9'"
      ],
      "text/markdown": [
       "'%b0%a1%b3%aa%b4%d9'"
      ],
      "text/plain": [
       "[1] \"%b0%a1%b3%aa%b4%d9\""
      ]
     },
     "metadata": {},
     "output_type": "display_data"
    }
   ],
   "source": [
    "url_encode('가나다')"
   ]
  },
  {
   "cell_type": "code",
   "execution_count": 35,
   "metadata": {},
   "outputs": [
    {
     "data": {
      "text/html": [
       "'서울 강남구'"
      ],
      "text/latex": [
       "'서울 강남구'"
      ],
      "text/markdown": [
       "'서울 강남구'"
      ],
      "text/plain": [
       "[1] \"서울 강남구\""
      ]
     },
     "metadata": {},
     "output_type": "display_data"
    }
   ],
   "source": [
    "url_decode('%BC%AD%BF%EF+%B0%AD%B3%B2%B1%B8')"
   ]
  },
  {
   "cell_type": "code",
   "execution_count": 37,
   "metadata": {},
   "outputs": [
    {
     "data": {
      "text/html": [
       "'강남구'"
      ],
      "text/latex": [
       "'강남구'"
      ],
      "text/markdown": [
       "'강남구'"
      ],
      "text/plain": [
       "[1] \"강남구\""
      ]
     },
     "metadata": {},
     "output_type": "display_data"
    }
   ],
   "source": [
    "url_decode('%B0%AD%B3%B2%B1%B8')"
   ]
  },
  {
   "cell_type": "markdown",
   "metadata": {},
   "source": [
    "## POST방식의 form 은 body=list()로 해주어야함"
   ]
  },
  {
   "cell_type": "code",
   "execution_count": 39,
   "metadata": {},
   "outputs": [
    {
     "data": {
      "text/plain": [
       "Response [https://isuperpage.co.kr/search.asp]\n",
       "  Date: 2020-04-29 10:30\n",
       "  Status: 200\n",
       "  Content-Type: text/html; Charset=EUC-KR\n",
       "  Size: 84.6 kB\n",
       "\r\n",
       "<!DOCTYPE html>\r\n",
       "<html lang=\"ko\">\r\n",
       "<head>\r\n",
       "<meta charset=\"euc-kr\">\r\n",
       "<meta http-equiv=\"X-UA-Compatible\" content=\"IE=edge\" />\r\n",
       "<title>:: 대한민국 모든 전화번호 검색은 한국전화번호부 ::</title>\r\n",
       "<link rel=\"stylesheet\" type='text/css' href=\"/css3/base_n_n.css\"/>\r\n",
       "<link href=\"/css3/dcaccordion.css\" rel=\"stylesheet\" type=\"text/css\" />\r\n",
       "<link href=\"/jqy/jquery-ui.css\" rel=\"stylesheet\" type=\"text/css\" />\r\n",
       "..."
      ]
     },
     "metadata": {},
     "output_type": "display_data"
    }
   ],
   "source": [
    "URL<-'https://isuperpage.co.kr/search.asp'\n",
    "upjong<-'중식'\n",
    "cityn<-'서울'\n",
    "gun<-'강남구'\n",
    "res<-POST(url=URL,\n",
    "         body=list(searchWord = upjong %>% url_encode() %>% I(),\n",
    "                  city = cityn %>% url_encode() %>% I(),\n",
    "                  gu = gun %>% url_encode() %>% I()),\n",
    "         encode='form')\n",
    "res"
   ]
  },
  {
   "cell_type": "code",
   "execution_count": 44,
   "metadata": {},
   "outputs": [],
   "source": [
    "pcntencodingfun<-function(string){\n",
    "    library(urltools)\n",
    "    if(localeToCharset() == 'UTF-8'){\n",
    "        string<-icov(string, from='UTF-8', to='CP949')\n",
    "        }\n",
    "    else if(localeToCharset() %in% c('CP949','EUC-KR')){\n",
    "        string<-string\n",
    "    }\n",
    "    string<-string %>% url_encode() %>% I()\n",
    "    return (string)\n",
    "}"
   ]
  },
  {
   "cell_type": "code",
   "execution_count": 45,
   "metadata": {},
   "outputs": [
    {
     "data": {
      "text/plain": [
       "Response [https://isuperpage.co.kr/search.asp]\n",
       "  Date: 2020-04-29 10:36\n",
       "  Status: 200\n",
       "  Content-Type: text/html; Charset=EUC-KR\n",
       "  Size: 84.6 kB\n",
       "\r\n",
       "<!DOCTYPE html>\r\n",
       "<html lang=\"ko\">\r\n",
       "<head>\r\n",
       "<meta charset=\"euc-kr\">\r\n",
       "<meta http-equiv=\"X-UA-Compatible\" content=\"IE=edge\" />\r\n",
       "<title>:: 대한민국 모든 전화번호 검색은 한국전화번호부 ::</title>\r\n",
       "<link rel=\"stylesheet\" type='text/css' href=\"/css3/base_n_n.css\"/>\r\n",
       "<link href=\"/css3/dcaccordion.css\" rel=\"stylesheet\" type=\"text/css\" />\r\n",
       "<link href=\"/jqy/jquery-ui.css\" rel=\"stylesheet\" type=\"text/css\" />\r\n",
       "..."
      ]
     },
     "metadata": {},
     "output_type": "display_data"
    }
   ],
   "source": [
    "URL<-'https://isuperpage.co.kr/search.asp'\n",
    "upjong<-'중식'\n",
    "cityn<-'서울'\n",
    "gun<-'강남구'\n",
    "res<-POST(url=URL,\n",
    "         body=list(searchWord = upjong %>% pcntencodingfun(),\n",
    "                  city = cityn %>% pcntencodingfun(),\n",
    "                  gu = gun %>% pcntencodingfun()),\n",
    "         encode='form')\n",
    "res"
   ]
  },
  {
   "cell_type": "code",
   "execution_count": null,
   "metadata": {},
   "outputs": [],
   "source": [
    "# 3주차 쿠키기용부터 실습!"
   ]
  }
 ],
 "metadata": {
  "kernelspec": {
   "display_name": "R",
   "language": "R",
   "name": "ir"
  },
  "language_info": {
   "codemirror_mode": "r",
   "file_extension": ".r",
   "mimetype": "text/x-r-source",
   "name": "R",
   "pygments_lexer": "r",
   "version": "3.6.3"
  }
 },
 "nbformat": 4,
 "nbformat_minor": 4
}

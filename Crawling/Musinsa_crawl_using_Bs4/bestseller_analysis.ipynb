{
 "cells": [
  {
   "cell_type": "code",
   "execution_count": 1,
   "metadata": {},
   "outputs": [],
   "source": [
    "import numpy as np\n",
    "import pandas as pd\n",
    "import matplotlib.pyplot as plt\n",
    "import seaborn as sns"
   ]
  },
  {
   "cell_type": "code",
   "execution_count": 2,
   "metadata": {
    "scrolled": true
   },
   "outputs": [
    {
     "data": {
      "text/html": [
       "<div>\n",
       "<style scoped>\n",
       "    .dataframe tbody tr th:only-of-type {\n",
       "        vertical-align: middle;\n",
       "    }\n",
       "\n",
       "    .dataframe tbody tr th {\n",
       "        vertical-align: top;\n",
       "    }\n",
       "\n",
       "    .dataframe thead th {\n",
       "        text-align: right;\n",
       "    }\n",
       "</style>\n",
       "<table border=\"1\" class=\"dataframe\">\n",
       "  <thead>\n",
       "    <tr style=\"text-align: right;\">\n",
       "      <th></th>\n",
       "      <th>순위</th>\n",
       "      <th>브랜드</th>\n",
       "      <th>제품명</th>\n",
       "      <th>가격</th>\n",
       "    </tr>\n",
       "  </thead>\n",
       "  <tbody>\n",
       "    <tr>\n",
       "      <th>0</th>\n",
       "      <td>1위</td>\n",
       "      <td>브랜디드</td>\n",
       "      <td>1931 OBJECT JEANS [CROP STRAIGHT]</td>\n",
       "      <td>59,000원</td>\n",
       "    </tr>\n",
       "    <tr>\n",
       "      <th>1</th>\n",
       "      <td>2위</td>\n",
       "      <td>무신사 스탠다드</td>\n",
       "      <td>베이식 블레이저 [블랙]</td>\n",
       "      <td>69,900원</td>\n",
       "    </tr>\n",
       "    <tr>\n",
       "      <th>2</th>\n",
       "      <td>3위</td>\n",
       "      <td>아디다스</td>\n",
       "      <td>BW 독일군 스니커즈 - 화이트 / BZ0579</td>\n",
       "      <td>129,900원</td>\n",
       "    </tr>\n",
       "    <tr>\n",
       "      <th>3</th>\n",
       "      <td>4위</td>\n",
       "      <td>무신사 스탠다드</td>\n",
       "      <td>테이퍼드 히든 밴딩 크롭 슬랙스 [블랙]</td>\n",
       "      <td>31,900원</td>\n",
       "    </tr>\n",
       "    <tr>\n",
       "      <th>4</th>\n",
       "      <td>5위</td>\n",
       "      <td>쿠어</td>\n",
       "      <td>20SS 탑필 울 라운드 니트 (웜샌드)</td>\n",
       "      <td>69,300원</td>\n",
       "    </tr>\n",
       "  </tbody>\n",
       "</table>\n",
       "</div>"
      ],
      "text/plain": [
       "   순위       브랜드                                제품명        가격\n",
       "0  1위      브랜디드  1931 OBJECT JEANS [CROP STRAIGHT]   59,000원\n",
       "1  2위  무신사 스탠다드                      베이식 블레이저 [블랙]   69,900원\n",
       "2  3위      아디다스         BW 독일군 스니커즈 - 화이트 / BZ0579  129,900원\n",
       "3  4위  무신사 스탠다드             테이퍼드 히든 밴딩 크롭 슬랙스 [블랙]   31,900원\n",
       "4  5위        쿠어             20SS 탑필 울 라운드 니트 (웜샌드)   69,300원"
      ]
     },
     "execution_count": 2,
     "metadata": {},
     "output_type": "execute_result"
    }
   ],
   "source": [
    "data = pd.read_csv(\"C:/Users/joyh1/Desktop/Private_study_project/Crawling/Musinsa_crawl_using_Bs4/bestseller.csv\")\n",
    "data.head()"
   ]
  },
  {
   "cell_type": "code",
   "execution_count": null,
   "metadata": {},
   "outputs": [],
   "source": []
  }
 ],
 "metadata": {
  "kernelspec": {
   "display_name": "Python 3",
   "language": "python",
   "name": "python3"
  },
  "language_info": {
   "codemirror_mode": {
    "name": "ipython",
    "version": 3
   },
   "file_extension": ".py",
   "mimetype": "text/x-python",
   "name": "python",
   "nbconvert_exporter": "python",
   "pygments_lexer": "ipython3",
   "version": "3.7.6"
  }
 },
 "nbformat": 4,
 "nbformat_minor": 4
}
